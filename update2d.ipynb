{
 "cells": [
  {
   "cell_type": "code",
   "execution_count": 3,
   "id": "14cb5fcd-7f1f-46be-8e2b-db11b02cda31",
   "metadata": {},
   "outputs": [],
   "source": [
    "from pyalex import (\n",
    "    Works, Authors, Sources,\n",
    "    Institutions, Concepts, Publishers, Funders\n",
    ")\n",
    "import pyalex\n",
    "import pandas as pd\n",
    "import numpy as np\n",
    "pyalex.config.email = \"david@rs21.io\"\n",
    "\n",
    "from flair.embeddings import DocumentPoolEmbeddings\n",
    "from flair.data import Sentence\n",
    "from flair.embeddings import SentenceTransformerDocumentEmbeddings\n",
    "\n",
    "EMBEDDING_MODEL_1 = \"all-mpnet-base-v2\" \n",
    "\n",
    "# this one is also good: all-MiniLM-L6-v2\n",
    "EMBEDDING_MODEL_2 = \"all-MiniLM-L6-v2\"\n",
    "SENT_EMBEDDINGS_1 = SentenceTransformerDocumentEmbeddings(EMBEDDING_MODEL_1)\n",
    "SENT_EMBEDDINGS_2 = SentenceTransformerDocumentEmbeddings(EMBEDDING_MODEL_2)\n",
    "DOC_EMBEDDINGS= DocumentPoolEmbeddings([SENT_EMBEDDINGS_2])\n",
    "\n",
    "import torch\n",
    "from tqdm import tqdm\n",
    "import yake\n",
    "import umap.umap_ as umap\n",
    "from sklearn import metrics\n",
    "import matplotlib.pyplot as plt\n",
    "from sklearn.mixture import GaussianMixture as GMM\n",
    "import altair as alt\n",
    "import math\n",
    "import plotly.express as px\n",
    "import textwrap\n",
    "import streamlit as st"
   ]
  },
  {
   "cell_type": "code",
   "execution_count": 4,
   "id": "0b983c65-555c-46ef-b23b-636fdc367442",
   "metadata": {},
   "outputs": [
    {
     "name": "stderr",
     "output_type": "stream",
     "text": [
      "2024-05-30 14:30:58.895 INFO    streamlit.runtime.secrets: Secrets found in multiple locations: /home/davidd/.streamlit/secrets.toml, /home/davidd/2023/techintel-quantum/.streamlit/secrets.toml. When multiple secret.toml files exist, local secrets will take precedence over global secrets.\n"
     ]
    }
   ],
   "source": [
    "import os\n",
    "os.environ[\"OPENAI_API_KEY\"] = st.secrets[\"OPENAI_API_KEY\"]"
   ]
  },
  {
   "cell_type": "code",
   "execution_count": 5,
   "id": "78c187d8-efd6-44b3-aad9-547f52f96c9e",
   "metadata": {},
   "outputs": [
    {
     "name": "stdout",
     "output_type": "stream",
     "text": [
      "https://openalex.org/C2778857364 Missile\n",
      "https://openalex.org/C522053795 Missile guidance\n",
      "https://openalex.org/C122136912 Ballistic missile\n",
      "https://openalex.org/C559253537 Missile defense\n",
      "https://openalex.org/C28849524 Cruise missile\n",
      "https://openalex.org/C202802212 Air-to-air missile\n"
     ]
    }
   ],
   "source": [
    "search_term = 'missile'\n",
    "robot_concepts = Concepts().search_filter(display_name=search_term).get()\n",
    "len(robot_concepts)\n",
    "for i in range(len(robot_concepts)):\n",
    "    id_, display_name = robot_concepts[i]['id'], robot_concepts[i]['display_name']\n",
    "    print(id_, display_name)"
   ]
  },
  {
   "cell_type": "code",
   "execution_count": 6,
   "id": "a6cc48a6-c88b-4f0c-b9ff-855574cbabe2",
   "metadata": {},
   "outputs": [
    {
     "name": "stdout",
     "output_type": "stream",
     "text": [
      "{'count': 65073, 'db_response_time_ms': 31, 'page': 1, 'per_page': 25, 'groups_count': None}\n"
     ]
    }
   ],
   "source": [
    "results, meta  = Concepts().get(return_meta=True)\n",
    "print(meta)"
   ]
  },
  {
   "cell_type": "code",
   "execution_count": 7,
   "id": "ea076894-28f5-410c-a84c-3c2952943246",
   "metadata": {},
   "outputs": [],
   "source": [
    "search_term = 'jamming'\n",
    "search_term = 'radar jamming and deception|electronic warfare|Network-centric warfare|Air-to-air missile'\n",
    "search_term = ('radar jamming and deception|electronic warfare|Network-centric warfare|missile guidance' +\n",
    "               '|Robot manipulator|Automatic target recognition' + \n",
    "              '|Pulsed power|High-energy X-rays' + \n",
    "              '|Ballistic missile|Air-to-air missile' + \n",
    "              '|terminal guidance')\n",
    "jamming_concepts = Concepts().\\\n",
    "search_filter(display_name=search_term).get()"
   ]
  },
  {
   "cell_type": "code",
   "execution_count": 8,
   "id": "6202c256-84ed-46e7-b032-88a5002c532f",
   "metadata": {},
   "outputs": [],
   "source": [
    "search_term = 'quantum computation|quantum computers|quantum sensors|quantum cryptography'\n",
    "quantum_concepts = Concepts().\\\n",
    "search_filter(display_name=search_term).get()"
   ]
  },
  {
   "cell_type": "code",
   "execution_count": 9,
   "id": "f112868e-45ab-42fd-85fb-62ee758d4c05",
   "metadata": {},
   "outputs": [
    {
     "data": {
      "text/plain": [
       "[('https://openalex.org/C58053490', 'Quantum computer'),\n",
       " ('https://openalex.org/C144901912', 'Quantum cryptography'),\n",
       " ('https://openalex.org/C89143813', 'Quantum sensor'),\n",
       " ('https://openalex.org/C187483380', 'Topological quantum computer'),\n",
       " ('https://openalex.org/C192353077', 'Adiabatic quantum computation'),\n",
       " ('https://openalex.org/C183968085', 'Trapped ion quantum computer'),\n",
       " ('https://openalex.org/C108277079', 'Post-quantum cryptography'),\n",
       " ('https://openalex.org/C19271316', 'One-way quantum computer')]"
      ]
     },
     "execution_count": 9,
     "metadata": {},
     "output_type": "execute_result"
    }
   ],
   "source": [
    "concepts = []\n",
    "for i in range(len(quantum_concepts)):\n",
    "    id_, display_name = quantum_concepts[i]['id'], quantum_concepts[i]['display_name']\n",
    "    concepts.append((id_, display_name))\n",
    "concepts"
   ]
  },
  {
   "cell_type": "code",
   "execution_count": 10,
   "id": "5639d684-dcc9-46ea-a030-0b8aeec4a007",
   "metadata": {},
   "outputs": [],
   "source": [
    "def process_works_list(worklist:list):\n",
    "    \"\"\"\n",
    "    transforms the \n",
    "    works list into a dataframe.\n",
    "    \"\"\"\n",
    "    abstracts_dict = {h[\"id\"]:h[\"abstract\"] for h in worklist}\n",
    "    df = pd.DataFrame.from_records(worklist)\n",
    "    try: \n",
    "        del df['abstract_inverted_index'] # though don't all have abstracts is the problem\n",
    "        df['abstract'] = df['id'].map(abstracts_dict)\n",
    "    except:\n",
    "        pass\n",
    "   # df['author_affils'] = df['authorships'].apply(get_authors_and_affils)\n",
    "    return df"
   ]
  },
  {
   "cell_type": "code",
   "execution_count": 11,
   "id": "f3cdb9ca-6271-4fc2-9f39-cd6babce4aca",
   "metadata": {},
   "outputs": [
    {
     "name": "stdout",
     "output_type": "stream",
     "text": [
      "https://openalex.org/C58053490 62241\n",
      "https://openalex.org/C144901912 11270\n",
      "https://openalex.org/C89143813 8177\n",
      "https://openalex.org/C187483380 3369\n",
      "https://openalex.org/C192353077 1964\n",
      "https://openalex.org/C183968085 1212\n",
      "https://openalex.org/C108277079 1384\n",
      "https://openalex.org/C19271316 1536\n"
     ]
    }
   ],
   "source": [
    "for i in range(len(quantum_concepts)):\n",
    "    print(quantum_concepts[i]['id'], quantum_concepts[i]['works_count'])"
   ]
  },
  {
   "cell_type": "code",
   "execution_count": 12,
   "id": "16a4ad8a-01a6-4097-850f-dd0e1de03a43",
   "metadata": {},
   "outputs": [],
   "source": [
    "def get_hpm_frame():\n",
    "    #hpm_pager = Works().filter(publication_year='>2020').search(\"high power microwave\").\\\n",
    "#filter(authorships={\"institutions\":{\"country_code\":\"CN\"}}).paginate(per_page=200,\n",
    "#                                                                    n_max=None)\n",
    "    hpm_pager = Works().filter(publication_year='>2020').search(\"high power microwave\").\\\n",
    "        paginate(per_page=200,  n_max=None)\n",
    "    df = pd.DataFrame()\n",
    "    for page in tqdm(hpm_pager):\n",
    "        dfpage = process_works_list(page)\n",
    "        df = pd.concat([df, dfpage], ignore_index=True)\n",
    "        df.drop_duplicates(subset='id', keep='first',inplace=True)\n",
    "    return df  "
   ]
  },
  {
   "cell_type": "code",
   "execution_count": 13,
   "id": "1786bee4-a19f-4b95-93c2-d0730e2498cb",
   "metadata": {},
   "outputs": [],
   "source": [
    "def get_sbl_frame():\n",
    "    #sbl_pager = Works().filter(publication_year='>2020').search(\"space based laser\").\\\n",
    "#filter(authorships={\"institutions\":{\"country_code\":\"CN\"}}).paginate(per_page=200,\n",
    "#                                                                    n_max=None)\n",
    "    sbl_pager = Works().filter(publication_year='>2020').search(\"space based laser\").\\\n",
    "        paginate(per_page=200,\n",
    "                                                                    n_max=None)\n",
    "    df = pd.DataFrame()\n",
    "    for page in tqdm(sbl_pager):\n",
    "        dfpage = process_works_list(page)\n",
    "        df = pd.concat([df, dfpage], ignore_index=True)\n",
    "        df.drop_duplicates(subset='id', keep='first',inplace=True)\n",
    "    return df    "
   ]
  },
  {
   "cell_type": "code",
   "execution_count": 14,
   "id": "37de5d41-c490-4f6d-a7b8-67e6922f4c51",
   "metadata": {},
   "outputs": [],
   "source": [
    "def get_kkv_frame():\n",
    "    #kkv_pager = Works().filter(publication_year='>2020').search(\"kinetic kill vehicle\").\\\n",
    "#filter(authorships={\"institutions\":{\"country_code\":\"CN\"}}).paginate(per_page=200,\n",
    "#                                                                    n_max=None)\n",
    "    kkv_pager = Works().filter(publication_year='>2020').search(\"kinetic kill vehicle\").\\\n",
    "        paginate(per_page=200,\n",
    "                                                                    n_max=None)\n",
    "    df = pd.DataFrame()\n",
    "    for page in tqdm(kkv_pager):\n",
    "        dfpage = process_works_list(page)\n",
    "        df = pd.concat([df, dfpage], ignore_index=True)\n",
    "        df.drop_duplicates(subset='id', keep='first',inplace=True)\n",
    "    return df                                                               \n",
    "    "
   ]
  },
  {
   "cell_type": "code",
   "execution_count": 15,
   "id": "0b2b0866-b041-42d4-85c1-ab4c9058590b",
   "metadata": {},
   "outputs": [],
   "source": [
    "def get_rka_frame():\n",
    "   # rka_pager = Works().filter(publication_year='>2020').search(\"relativistic klystron amplifier\").\\\n",
    "#filter(authorships={\"institutions\":{\"country_code\":\"CN\"}}).paginate(per_page=200,\n",
    "#                                                                    n_max=None)\n",
    "    rka_pager = Works().filter(publication_year='>2020').search(\"relativistic klystron amplifier\").\\\n",
    "        paginate(per_page=200,\n",
    "                                                                    n_max=None)\n",
    "    df = pd.DataFrame()\n",
    "    for page in tqdm(rka_pager):\n",
    "        dfpage = process_works_list(page)\n",
    "        df = pd.concat([df, dfpage], ignore_index=True)\n",
    "        df.drop_duplicates(subset='id', keep='first',inplace=True)\n",
    "    return df "
   ]
  },
  {
   "cell_type": "code",
   "execution_count": 16,
   "id": "e04a52de-2f34-48af-b2ba-b8e28fdca2bf",
   "metadata": {},
   "outputs": [],
   "source": [
    "def get_concept_frame(concepts_list:list, i:int):\n",
    "    \"\"\"\n",
    "    takes a list of Concepts() results and an index\n",
    "    and forms the pagination object to retrive the \n",
    "    records\n",
    "    \"\"\"\n",
    "    pager = Works().filter(publication_year='>2020',\n",
    "    #concepts={\"id\":f\"{concepts_list[i]['id']}\"}).filter(authorships={\"institutions\":{\"country_code\":\"CN\"}}).\\\n",
    "    #paginate(per_page=200,n_max=None)\n",
    "    concepts={\"id\":f\"{concepts_list[i]['id']}\"}).\\\n",
    "    paginate(per_page=200,n_max=None)\n",
    "    df = pd.DataFrame()\n",
    "    for page in tqdm(pager):\n",
    "        dfpage = process_works_list(page)\n",
    "        df = pd.concat([df, dfpage], ignore_index=True)\n",
    "        df.drop_duplicates(subset='id', keep='first',inplace=True)\n",
    "    return df"
   ]
  },
  {
   "cell_type": "code",
   "execution_count": 18,
   "id": "ff79d82c-5e67-4f1d-9d46-0062cef327ea",
   "metadata": {},
   "outputs": [
    {
     "name": "stderr",
     "output_type": "stream",
     "text": [
      "114it [03:32,  1.86s/it]\n",
      "16it [00:24,  1.54s/it]\n",
      "16it [00:25,  1.60s/it]\n",
      "5it [00:07,  1.52s/it]\n",
      "3it [00:03,  1.10s/it]\n",
      "3it [00:03,  1.05s/it]\n",
      "4it [00:05,  1.32s/it]\n",
      "3it [00:03,  1.13s/it]\n"
     ]
    }
   ],
   "source": [
    "frames_list = []\n",
    "for i in range(len(quantum_concepts)):\n",
    "    df = get_concept_frame(quantum_concepts, i)\n",
    "    frames_list.append(df)"
   ]
  },
  {
   "cell_type": "code",
   "execution_count": 19,
   "id": "a26aab35-1054-4401-99d4-a68c87f6ea7f",
   "metadata": {},
   "outputs": [
    {
     "data": {
      "text/plain": [
       "'2024-05-22'"
      ]
     },
     "execution_count": 19,
     "metadata": {},
     "output_type": "execute_result"
    }
   ],
   "source": [
    "frames_list[3]['created_date'].max()"
   ]
  },
  {
   "cell_type": "code",
   "execution_count": 20,
   "id": "65428559-cc1c-4fdc-bd7a-78b9eeffca9e",
   "metadata": {},
   "outputs": [
    {
     "data": {
      "text/plain": [
       "None                                                                                                                                                                                                                                                                                                                                                                                                                                                                                                                                                                                                                                                                                                                                                                                                                                                                                                                                                                                                                                                                                                                                                                                                                                                                                                                                                                                                                                                                                                                                                                                                 147\n",
       "This established textbook provides an accessible but comprehensive introduction to the quantum nature of light and its interaction with matter. The field of quantum optics is covered with clarity and depth, from the underlying theoretical framework of field quantization, atom–field interactions, and quantum coherence theory, to important and modern applications at the forefront of current research such as quantum interferometry, squeezed light, quantum entanglement, cavity quantum electrodynamics, laser-cooled trapped ions, and quantum information processing. The text is suitable for advanced undergraduate and graduate students and would be an ideal main text for a course on quantum optics. This long-awaited second edition builds upon the success of the first edition, including many new developments in the field, particularly in the area of quantum state engineering. Additional homework problems have been added, and content from the first edition has been updated and clarified throughout.                                                                                                                                                                                                                                                                                                                                                                                                                                                                                                                                                           15\n",
       "The 53rd Annual Meeting of the APS Division of Atomic, Molecular and Optical Physics will take place from May 30 – June 3, 2022 in Orlando, Fl, USA. <a href=\"https://morressier.zoom.us/j/89880865272?pwd=SWxTRGhra1ZOSDBrSkhVZDBzVDR6UT09/\">Virtual Presenter Help Desk</a>                                                                                                                                                                                                                                                                                                                                                                                                                                                                                                                                                                                                                                                                                                                                                                                                                                                                                                                                                                                                                                                                                                                                                                                                                                                                                                                          4\n",
       "Quantum technologies have seen a rapid developmental surge over the last couple of years. Though often overshadowed by quantum computation, quantum sensors show tremendous potential for widespread applications in chemistry and biology. One system stands out in particular: the nitrogen-vacancy (NV) center in diamond, an atomic-sized sensor allowing the detection of nuclear magnetic resonance (NMR) signals at unprecedented length scales down to a single proton. In this article, we review the fundamentals of NV center-based quantum sensing and its distinct impact on nano- to microscale NMR spectroscopy. Furthermore, we highlight and discuss possible future applications of this novel technology ranging from energy research, material science, or single-cell biology, but also associated challenges of these rapidly developing NMR sensors.                                                                                                                                                                                                                                                                                                                                                                                                                                                                                                                                                                                                                                                                                                                            4\n",
       "Phase measurement constitutes a key task in many fields of science, both in the classical and quantum regime. The higher precision of such measurement offers significant advances, and can also be utilised to achieve finer estimates for quantities such as distance, the gravitational constant, electromagnetic field amplitude, etc. Here we theoretically model the use of a quantum network, composed of a randomly coupled set of two-level systems, as a processing device for phase measurement. An incoming resource state carrying the phase information interacts with the quantum network, whose emission is trained to produce a desired output signal. We demonstrate phase precision scaling following the standard quantum limit, the Heisenberg limit, and beyond. This can be achieved using quantum resource states such as NOON states or other entangled states, however, we also find that classically correlated mixtures of states are alone sufficient, provided that they exhibit quantum coherence. Our proposed setup does not require conditional measurements, and is compatible with many different types of coupling between the quantum network and the phase encoding state, hence making it attractive to a wide range of possible physical implementations.                                                                                                                                                                                                                                                                                                     3\n",
       "                                                                                                                                                                                                                                                                                                                                                                                                                                                                                                                                                                                                                                                                                                                                                                                                                                                                                                                                                                                                                                                                                                                                                                                                                                                                                                                                                                                                                                                                                                                                                                                                    ... \n",
       "Abstract An experimentally feasible magnetometer based on a dual‐coupling optomechanical system is proposed, where the radiation‐pressure coupling transduces the magnetic signal to the optical phase, and the quadratic optomechanical interaction induces a periodic squeezing effect. The latter not only amplifies the signal to be measured, but also accelerates the signal transducing rate characterized by an experimentally observable phase accumulation efficiency. In the vicinity of opto‐mechanical decoupled time, the ultimate bound to the estimability of magnetic signal is proportional to , and then the optimized accuracy of estimation can be enhanced nearly three orders with a controllable squeezing parameter . Moreover, this proposal is robust against the mechanical thermal noise, and the sensitivity of a specific measurement can reach to the order of in the presence of dissipations and without ground state cooling of mechanical oscillator. The proposal fundamentally broadens the fields of quantum metrology and cavity optomechanics, with the potential application for on‐chip magnetic detection with high precision.                                                                                                                                                                                                                                                                                                                                                                                                                             1\n",
       "Abstract Scaling up photonic quantum devices to reach complexities allowing to solve real-world problems requires a platform enabling scalable integration of solid-state quantum emitter with a high yield. Their nanometer-size together with their excellent quantum optical properties make them the ideal candidates for on-chip photonic quantum technologies. However, robust, scalable integration remains elusive. Here, we discuss the state-of-the-art methods to integrate quantum emitters into photonic integrated circuits, emphasizing the pros and cons of the integration methods applicable for specific quantum emitters. Based on our thorough comparison we give our perspective on the most promising approaches and how to overcome the remaining challenges.                                                                                                                                                                                                                                                                                                                                                                                                                                                                                                                                                                                                                                                                                                                                                                                                                  1\n",
       "A first quantum revolution has already brought quantum technologies into our everyday life for decades: in fact, electronics and optics are based on the quantum mechanical principles. Today, a second quantum revolution is underway, leveraging the quantum principles of superposition, entanglement and measurement, which were not fully exploited yet. International innovation activities and standardization bodies have identified four main application areas for quantum technologies and services: quantum secure communications, quantum computing, quantum simulation, and quantum sensing and metrology. This paper focuses on quantum secure communications by addressing the evolution of Quantum Key Distribution (QKD) networks (under early exploitation today) towards the Quantum-ready networks and the Quantum Internet based also on entanglement distribution. Assuming that management and control of quantum nodes is a key challenge under definition, today, a main obstacle in exploiting long-range QKD and Quantum-ready networks concerns the inherent losses due to the optical transmission channels. Currently, it is assumed that a most promising way for overcoming this limitation, while avoiding the presence of costly trusted nodes, it is to distribute entangled states by means of Quantum Repeaters. In this respect, the paper provides an overview of current methods and systems for end-to-end entanglement generation, with some simulations and a discussion of capacity upper bounds and their impact of secret key rate in QKD systems.      1\n",
       "The weak-value-amplification (WVA) technique has been extensively considered and debated in the field of quantum precision measurement, largely owing to the reduced Fisher information caused by the low probability of successful postselection. In this work we show that, rather than the transverse-spatial-wave-function meter typically considered, using the optical coherent state as a meter, the WVA measurement can outperform the conventional measurement not involving the strategy of postselection. We also show that the postselection procedure involved in the WVA scheme can make a mixture of coherent states work better than a pure coherent state with identical average photon numbers. This is in contrast to the main result proved in the absence of postselection. The postselection strategy can also result in the precision of Heisenberg scaling with the photon numbers without using expensive quantum resources. The present work may stimulate further interest in postselection strategy for quantum precision measurements.                                                                                                                                                                                                                                                                                                                                                                                                                                                                                                                                    1\n",
       "We present a novel method for quantum tomography of multi-qubit states. We apply the method to spin-multi-photon states, which we produce by periodic excitation of a semiconductor quantum-dot- confined spin every 1/4 of its coherent precession period. These timed excitations lead to the deterministic generation of strings of entangled photons in a cluster state. We show that our method can be used for characterizing the periodic process map, which produces the photonic cluster. From the measured process map, we quantify the robustness of the entanglement in the cluster. The 3-fold enhanced generation rate over previous demonstrations reduces the spin decoherence between the pulses and thereby increases the entanglement.                                                                                                                                                                                                                                                                                                                                                                                                                                                                                                                                                                                                                                                                                                                                                                                                                                              1\n",
       "Name: abstract, Length: 2572, dtype: int64"
      ]
     },
     "execution_count": 20,
     "metadata": {},
     "output_type": "execute_result"
    }
   ],
   "source": [
    "frames_list[2]['abstract'].value_counts(dropna=False)"
   ]
  },
  {
   "cell_type": "code",
   "execution_count": 21,
   "id": "354c6c15-369a-444a-a4dd-d3c0d2797735",
   "metadata": {},
   "outputs": [
    {
     "data": {
      "text/plain": [
       "8"
      ]
     },
     "execution_count": 21,
     "metadata": {},
     "output_type": "execute_result"
    }
   ],
   "source": [
    "len(frames_list)"
   ]
  },
  {
   "cell_type": "code",
   "execution_count": 22,
   "id": "2e2a2b56-edf4-4fe3-88a4-fba9dbe8150b",
   "metadata": {},
   "outputs": [
    {
     "name": "stdout",
     "output_type": "stream",
     "text": [
      "(27174, 49)\n"
     ]
    }
   ],
   "source": [
    "dftop = pd.concat(frames_list,\n",
    "                  ignore_index=True)\n",
    "dftop.drop_duplicates(subset='id', keep='first', \n",
    "                      inplace=True)\n",
    "\n",
    "dftop.set_index('id', inplace=True, drop=False)\n",
    "\n",
    "dfall = dftop\n",
    "print(dfall.shape)\n",
    "\n",
    "dfall['content'] = dfall['title'] + \". \" + dfall['abstract']\n",
    "\n",
    "dfrecords = dfall[~dfall['content'].isna()].copy()"
   ]
  },
  {
   "cell_type": "code",
   "execution_count": 23,
   "id": "d6723842-6551-4777-bae1-c4fd76855c2c",
   "metadata": {},
   "outputs": [],
   "source": [
    "def get_keywords(text:str, top:int=7, stopwords=None):\n",
    "    \"\"\"\n",
    "    takes a blob of text and \n",
    "    returns the top **top** \n",
    "    keywords as a list\n",
    "    \"\"\"\n",
    "    kw_extractor = yake.KeywordExtractor(top=top, stopwords=stopwords)\n",
    "    keywords = kw_extractor.extract_keywords(text)\n",
    "    return [p[0] for p in keywords]"
   ]
  },
  {
   "cell_type": "code",
   "execution_count": 24,
   "id": "0e076d58-6f41-420f-8f8e-8db6fdb11f3e",
   "metadata": {},
   "outputs": [],
   "source": [
    "def get_top_concepts(concept_list:list,score:float=.6):\n",
    "    \"\"\"\n",
    "    takes a list of concept dictionaries \n",
    "    returns the top **top** display_names;\n",
    "    concepts whose score is >= score\n",
    "    \"\"\"\n",
    "    return [c['display_name'] for c in concept_list if c['score'] >= score]"
   ]
  },
  {
   "cell_type": "code",
   "execution_count": 25,
   "id": "6dc53589-34ba-4907-a3a2-f0aceb49ffe3",
   "metadata": {},
   "outputs": [],
   "source": [
    "dfrecords['keywords'] = dfrecords['content'].apply(get_keywords)\n",
    "dfrecords['top_concepts'] = dfrecords['concepts'].apply(get_top_concepts)"
   ]
  },
  {
   "cell_type": "code",
   "execution_count": 27,
   "id": "30a7e960-21ef-48bc-a00e-f117763c24df",
   "metadata": {},
   "outputs": [],
   "source": [
    "jamming_concepts = quantum_concepts"
   ]
  },
  {
   "cell_type": "code",
   "execution_count": 28,
   "id": "a3d3d1f1-6790-4b7e-8e8c-b945cb65b6d1",
   "metadata": {},
   "outputs": [],
   "source": [
    "texts = dfrecords['content'].str.lower().values.tolist()"
   ]
  },
  {
   "cell_type": "code",
   "execution_count": 29,
   "id": "32cef83c-1896-4409-922d-977cd208d57a",
   "metadata": {},
   "outputs": [],
   "source": [
    "def get_content_embeddings(dfrecords:pd.DataFrame) -> pd.DataFrame:\n",
    "    \"\"\"\n",
    "    passes the preprocessed mitigation strings\n",
    "    data through the embedding model to produce the vector\n",
    "    space representation of each pet mitigation.\n",
    "    \"\"\"\n",
    "    sent = Sentence(\"The grass is green.\")\n",
    "    DOC_EMBEDDINGS.embed(sent)\n",
    "    texts = dfrecords[\"content\"].str.lower().values.tolist()\n",
    "    all_descriptions = np.empty((len(texts), len(sent.embedding)))\n",
    "    for i in tqdm(range(len(texts))):\n",
    "        sent = Sentence(texts[i])\n",
    "        DOC_EMBEDDINGS.embed(sent)\n",
    "        all_descriptions[i, :] = sent.embedding.cpu().numpy()\n",
    "        # gc.collect()\n",
    "        torch.cuda.empty_cache()\n",
    "    dfcontentvectors = pd.DataFrame.from_records(all_descriptions, index=dfrecords.index)\n",
    "    return dfcontentvectors"
   ]
  },
  {
   "cell_type": "code",
   "execution_count": 30,
   "id": "5c52dc66-0ff9-4311-910f-470f1dfb2c43",
   "metadata": {},
   "outputs": [
    {
     "name": "stderr",
     "output_type": "stream",
     "text": [
      "100%|███████████████████████████████████████████████████████████████████| 24359/24359 [06:40<00:00, 60.76it/s]\n"
     ]
    }
   ],
   "source": [
    "dfcontentvectors = get_content_embeddings(dfrecords)"
   ]
  },
  {
   "cell_type": "code",
   "execution_count": 31,
   "id": "3f43a7b9-37d5-4db3-949c-13ee01c544ae",
   "metadata": {},
   "outputs": [
    {
     "name": "stderr",
     "output_type": "stream",
     "text": [
      "/home/davidd/.local/lib/python3.10/site-packages/umap/umap_.py:1943: UserWarning: n_jobs value -1 overridden to 1 by setting random_state. Use no seed for parallelism.\n",
      "  warn(f\"n_jobs value {self.n_jobs} overridden to 1 by setting random_state. Use no seed for parallelism.\")\n"
     ]
    }
   ],
   "source": [
    "#umap.UMAP?\n",
    "N_COMPONENTS = 2 # can visualize this way\n",
    "umap_reducer = umap.UMAP(n_components=N_COMPONENTS,\n",
    "                       #  metric='euclidean')\n",
    "                         random_state=1234,\n",
    "                         metric='cosine')  # can experiment with this metric as well as the other \n",
    "# parameters\n",
    "# to see what other literature is in the same information space, we need to keep this umap_reducer \n",
    "# object as well as the gmm model below.\n",
    "\n",
    "# Apply UMAP to the vectorized strings\n",
    "reduced_vectors = umap_reducer.fit_transform(dfcontentvectors.to_numpy())\n",
    "dfreduced = pd.DataFrame.from_records(reduced_vectors, \n",
    "                index=dfcontentvectors.index)\n",
    "dfreduced.columns = ['x','y']"
   ]
  },
  {
   "cell_type": "markdown",
   "id": "03fe86d7-ccd4-45ff-82f8-55d304150027",
   "metadata": {},
   "source": [
    "# use hdbscan to cluster"
   ]
  },
  {
   "cell_type": "code",
   "execution_count": 32,
   "id": "4574625b-50b4-40da-a27a-20c82a110ee7",
   "metadata": {},
   "outputs": [
    {
     "name": "stderr",
     "output_type": "stream",
     "text": [
      "huggingface/tokenizers: The current process just got forked, after parallelism has already been used. Disabling parallelism to avoid deadlocks...\n",
      "To disable this warning, you can either:\n",
      "\t- Avoid using `tokenizers` before the fork if possible\n",
      "\t- Explicitly set the environment variable TOKENIZERS_PARALLELISM=(true | false)\n",
      "huggingface/tokenizers: The current process just got forked, after parallelism has already been used. Disabling parallelism to avoid deadlocks...\n",
      "To disable this warning, you can either:\n",
      "\t- Avoid using `tokenizers` before the fork if possible\n",
      "\t- Explicitly set the environment variable TOKENIZERS_PARALLELISM=(true | false)\n",
      "huggingface/tokenizers: The current process just got forked, after parallelism has already been used. Disabling parallelism to avoid deadlocks...\n",
      "To disable this warning, you can either:\n",
      "\t- Avoid using `tokenizers` before the fork if possible\n",
      "\t- Explicitly set the environment variable TOKENIZERS_PARALLELISM=(true | false)\n",
      "huggingface/tokenizers: The current process just got forked, after parallelism has already been used. Disabling parallelism to avoid deadlocks...\n",
      "To disable this warning, you can either:\n",
      "\t- Avoid using `tokenizers` before the fork if possible\n",
      "\t- Explicitly set the environment variable TOKENIZERS_PARALLELISM=(true | false)\n",
      "huggingface/tokenizers: The current process just got forked, after parallelism has already been used. Disabling parallelism to avoid deadlocks...\n",
      "To disable this warning, you can either:\n",
      "\t- Avoid using `tokenizers` before the fork if possible\n",
      "\t- Explicitly set the environment variable TOKENIZERS_PARALLELISM=(true | false)\n"
     ]
    }
   ],
   "source": [
    "import hdbscan\n",
    "\n",
    "hdbscan_args = {'min_cluster_size': 15,\n",
    "                            'metric': 'euclidean',\n",
    "                            'cluster_selection_method': 'eom',\n",
    "                            'cluster_selection_epsilon': 0.1\n",
    "               }\n",
    "\n",
    "cluster = hdbscan.HDBSCAN(**hdbscan_args).fit(dfreduced[['x','y']].to_numpy())\n",
    "\n",
    "dfreduced['cluster'] = cluster.labels_\n",
    "dfreduced['probability'] = cluster.probabilities_\n",
    "\n",
    "dfpapers = dfrecords.merge(dfreduced, left_index=True,\n",
    "                           right_index=True)"
   ]
  },
  {
   "cell_type": "code",
   "execution_count": 33,
   "id": "2c8cb1c5-e8d5-4006-800d-3ff33814b94c",
   "metadata": {},
   "outputs": [
    {
     "data": {
      "text/html": [
       "<div>\n",
       "<style scoped>\n",
       "    .dataframe tbody tr th:only-of-type {\n",
       "        vertical-align: middle;\n",
       "    }\n",
       "\n",
       "    .dataframe tbody tr th {\n",
       "        vertical-align: top;\n",
       "    }\n",
       "\n",
       "    .dataframe thead th {\n",
       "        text-align: right;\n",
       "    }\n",
       "</style>\n",
       "<table border=\"1\" class=\"dataframe\">\n",
       "  <thead>\n",
       "    <tr style=\"text-align: right;\">\n",
       "      <th></th>\n",
       "      <th>id</th>\n",
       "      <th>doi</th>\n",
       "      <th>title</th>\n",
       "      <th>display_name</th>\n",
       "      <th>publication_year</th>\n",
       "      <th>publication_date</th>\n",
       "      <th>ids</th>\n",
       "      <th>language</th>\n",
       "      <th>primary_location</th>\n",
       "      <th>type</th>\n",
       "      <th>...</th>\n",
       "      <th>updated_date</th>\n",
       "      <th>created_date</th>\n",
       "      <th>is_authors_truncated</th>\n",
       "      <th>abstract</th>\n",
       "      <th>content</th>\n",
       "      <th>top_concepts</th>\n",
       "      <th>x</th>\n",
       "      <th>y</th>\n",
       "      <th>cluster</th>\n",
       "      <th>probability</th>\n",
       "    </tr>\n",
       "  </thead>\n",
       "  <tbody>\n",
       "    <tr>\n",
       "      <th>0</th>\n",
       "      <td>https://openalex.org/W3189250281</td>\n",
       "      <td>https://doi.org/10.1038/s42254-021-00348-9</td>\n",
       "      <td>Variational quantum algorithms</td>\n",
       "      <td>Variational quantum algorithms</td>\n",
       "      <td>2021</td>\n",
       "      <td>2021-08-12</td>\n",
       "      <td>{'openalex': 'https://openalex.org/W3189250281...</td>\n",
       "      <td>en</td>\n",
       "      <td>{'is_oa': False, 'landing_page_url': 'https://...</td>\n",
       "      <td>review</td>\n",
       "      <td>...</td>\n",
       "      <td>2024-05-27T05:35:26.432933</td>\n",
       "      <td>2021-08-16</td>\n",
       "      <td>NaN</td>\n",
       "      <td>Applications such as simulating complicated qu...</td>\n",
       "      <td>Variational quantum algorithms. Applications s...</td>\n",
       "      <td>[Quantum computer, Computer science, Quantum a...</td>\n",
       "      <td>6.192506</td>\n",
       "      <td>-3.169462</td>\n",
       "      <td>145</td>\n",
       "      <td>1.000000</td>\n",
       "    </tr>\n",
       "    <tr>\n",
       "      <th>1</th>\n",
       "      <td>https://openalex.org/W1521266393</td>\n",
       "      <td>https://doi.org/10.1103/revmodphys.93.025005</td>\n",
       "      <td>Circuit quantum electrodynamics</td>\n",
       "      <td>Circuit quantum electrodynamics</td>\n",
       "      <td>2021</td>\n",
       "      <td>2021-05-19</td>\n",
       "      <td>{'openalex': 'https://openalex.org/W1521266393...</td>\n",
       "      <td>en</td>\n",
       "      <td>{'is_oa': False, 'landing_page_url': 'https://...</td>\n",
       "      <td>article</td>\n",
       "      <td>...</td>\n",
       "      <td>2024-05-22T13:15:01.185356</td>\n",
       "      <td>2016-06-24</td>\n",
       "      <td>NaN</td>\n",
       "      <td>This review surveys the development over the l...</td>\n",
       "      <td>Circuit quantum electrodynamics. This review s...</td>\n",
       "      <td>[Physics, Circuit quantum electrodynamics, Cav...</td>\n",
       "      <td>6.635708</td>\n",
       "      <td>2.777389</td>\n",
       "      <td>70</td>\n",
       "      <td>0.665913</td>\n",
       "    </tr>\n",
       "    <tr>\n",
       "      <th>2</th>\n",
       "      <td>https://openalex.org/W4213212652</td>\n",
       "      <td>https://doi.org/10.1103/revmodphys.94.015004</td>\n",
       "      <td>Noisy intermediate-scale quantum algorithms</td>\n",
       "      <td>Noisy intermediate-scale quantum algorithms</td>\n",
       "      <td>2022</td>\n",
       "      <td>2022-02-15</td>\n",
       "      <td>{'openalex': 'https://openalex.org/W4213212652...</td>\n",
       "      <td>en</td>\n",
       "      <td>{'is_oa': False, 'landing_page_url': 'https://...</td>\n",
       "      <td>article</td>\n",
       "      <td>...</td>\n",
       "      <td>2024-05-22T08:21:09.828213</td>\n",
       "      <td>2022-02-24</td>\n",
       "      <td>NaN</td>\n",
       "      <td>A universal fault-tolerant quantum computer th...</td>\n",
       "      <td>Noisy intermediate-scale quantum algorithms. A...</td>\n",
       "      <td>[Computer science, Quantum computer, Qubit]</td>\n",
       "      <td>5.223140</td>\n",
       "      <td>-0.724157</td>\n",
       "      <td>143</td>\n",
       "      <td>0.980064</td>\n",
       "    </tr>\n",
       "    <tr>\n",
       "      <th>3</th>\n",
       "      <td>https://openalex.org/W3173899054</td>\n",
       "      <td>https://doi.org/10.1103/physrevlett.127.180501</td>\n",
       "      <td>Strong Quantum Computational Advantage Using a...</td>\n",
       "      <td>Strong Quantum Computational Advantage Using a...</td>\n",
       "      <td>2021</td>\n",
       "      <td>2021-10-25</td>\n",
       "      <td>{'openalex': 'https://openalex.org/W3173899054...</td>\n",
       "      <td>en</td>\n",
       "      <td>{'is_oa': False, 'landing_page_url': 'https://...</td>\n",
       "      <td>article</td>\n",
       "      <td>...</td>\n",
       "      <td>2024-05-29T18:15:50.250347</td>\n",
       "      <td>2021-07-05</td>\n",
       "      <td>NaN</td>\n",
       "      <td>Scaling up to a large number of qubits with hi...</td>\n",
       "      <td>Strong Quantum Computational Advantage Using a...</td>\n",
       "      <td>[Quantum computer, Qubit, Computer science]</td>\n",
       "      <td>5.762541</td>\n",
       "      <td>-0.747414</td>\n",
       "      <td>-1</td>\n",
       "      <td>0.000000</td>\n",
       "    </tr>\n",
       "    <tr>\n",
       "      <th>4</th>\n",
       "      <td>https://openalex.org/W3180039530</td>\n",
       "      <td>https://doi.org/10.1038/s41586-021-03582-4</td>\n",
       "      <td>Quantum phases of matter on a 256-atom program...</td>\n",
       "      <td>Quantum phases of matter on a 256-atom program...</td>\n",
       "      <td>2021</td>\n",
       "      <td>2021-07-07</td>\n",
       "      <td>{'openalex': 'https://openalex.org/W3180039530...</td>\n",
       "      <td>en</td>\n",
       "      <td>{'is_oa': False, 'landing_page_url': 'https://...</td>\n",
       "      <td>article</td>\n",
       "      <td>...</td>\n",
       "      <td>2024-05-27T20:40:46.275097</td>\n",
       "      <td>2021-07-19</td>\n",
       "      <td>NaN</td>\n",
       "      <td>Motivated by far-reaching applications ranging...</td>\n",
       "      <td>Quantum phases of matter on a 256-atom program...</td>\n",
       "      <td>[Quantum simulator, Quantum]</td>\n",
       "      <td>8.667332</td>\n",
       "      <td>2.101456</td>\n",
       "      <td>78</td>\n",
       "      <td>0.847872</td>\n",
       "    </tr>\n",
       "  </tbody>\n",
       "</table>\n",
       "<p>5 rows × 55 columns</p>\n",
       "</div>"
      ],
      "text/plain": [
       "                                 id  \\\n",
       "0  https://openalex.org/W3189250281   \n",
       "1  https://openalex.org/W1521266393   \n",
       "2  https://openalex.org/W4213212652   \n",
       "3  https://openalex.org/W3173899054   \n",
       "4  https://openalex.org/W3180039530   \n",
       "\n",
       "                                              doi  \\\n",
       "0      https://doi.org/10.1038/s42254-021-00348-9   \n",
       "1    https://doi.org/10.1103/revmodphys.93.025005   \n",
       "2    https://doi.org/10.1103/revmodphys.94.015004   \n",
       "3  https://doi.org/10.1103/physrevlett.127.180501   \n",
       "4      https://doi.org/10.1038/s41586-021-03582-4   \n",
       "\n",
       "                                               title  \\\n",
       "0                     Variational quantum algorithms   \n",
       "1                    Circuit quantum electrodynamics   \n",
       "2        Noisy intermediate-scale quantum algorithms   \n",
       "3  Strong Quantum Computational Advantage Using a...   \n",
       "4  Quantum phases of matter on a 256-atom program...   \n",
       "\n",
       "                                        display_name  publication_year  \\\n",
       "0                     Variational quantum algorithms              2021   \n",
       "1                    Circuit quantum electrodynamics              2021   \n",
       "2        Noisy intermediate-scale quantum algorithms              2022   \n",
       "3  Strong Quantum Computational Advantage Using a...              2021   \n",
       "4  Quantum phases of matter on a 256-atom program...              2021   \n",
       "\n",
       "  publication_date                                                ids  \\\n",
       "0       2021-08-12  {'openalex': 'https://openalex.org/W3189250281...   \n",
       "1       2021-05-19  {'openalex': 'https://openalex.org/W1521266393...   \n",
       "2       2022-02-15  {'openalex': 'https://openalex.org/W4213212652...   \n",
       "3       2021-10-25  {'openalex': 'https://openalex.org/W3173899054...   \n",
       "4       2021-07-07  {'openalex': 'https://openalex.org/W3180039530...   \n",
       "\n",
       "  language                                   primary_location     type  ...  \\\n",
       "0       en  {'is_oa': False, 'landing_page_url': 'https://...   review  ...   \n",
       "1       en  {'is_oa': False, 'landing_page_url': 'https://...  article  ...   \n",
       "2       en  {'is_oa': False, 'landing_page_url': 'https://...  article  ...   \n",
       "3       en  {'is_oa': False, 'landing_page_url': 'https://...  article  ...   \n",
       "4       en  {'is_oa': False, 'landing_page_url': 'https://...  article  ...   \n",
       "\n",
       "                 updated_date created_date is_authors_truncated  \\\n",
       "0  2024-05-27T05:35:26.432933   2021-08-16                  NaN   \n",
       "1  2024-05-22T13:15:01.185356   2016-06-24                  NaN   \n",
       "2  2024-05-22T08:21:09.828213   2022-02-24                  NaN   \n",
       "3  2024-05-29T18:15:50.250347   2021-07-05                  NaN   \n",
       "4  2024-05-27T20:40:46.275097   2021-07-19                  NaN   \n",
       "\n",
       "                                            abstract  \\\n",
       "0  Applications such as simulating complicated qu...   \n",
       "1  This review surveys the development over the l...   \n",
       "2  A universal fault-tolerant quantum computer th...   \n",
       "3  Scaling up to a large number of qubits with hi...   \n",
       "4  Motivated by far-reaching applications ranging...   \n",
       "\n",
       "                                             content  \\\n",
       "0  Variational quantum algorithms. Applications s...   \n",
       "1  Circuit quantum electrodynamics. This review s...   \n",
       "2  Noisy intermediate-scale quantum algorithms. A...   \n",
       "3  Strong Quantum Computational Advantage Using a...   \n",
       "4  Quantum phases of matter on a 256-atom program...   \n",
       "\n",
       "                                        top_concepts         x         y  \\\n",
       "0  [Quantum computer, Computer science, Quantum a...  6.192506 -3.169462   \n",
       "1  [Physics, Circuit quantum electrodynamics, Cav...  6.635708  2.777389   \n",
       "2        [Computer science, Quantum computer, Qubit]  5.223140 -0.724157   \n",
       "3        [Quantum computer, Qubit, Computer science]  5.762541 -0.747414   \n",
       "4                       [Quantum simulator, Quantum]  8.667332  2.101456   \n",
       "\n",
       "  cluster probability  \n",
       "0     145    1.000000  \n",
       "1      70    0.665913  \n",
       "2     143    0.980064  \n",
       "3      -1    0.000000  \n",
       "4      78    0.847872  \n",
       "\n",
       "[5 rows x 55 columns]"
      ]
     },
     "execution_count": 33,
     "metadata": {},
     "output_type": "execute_result"
    }
   ],
   "source": [
    "#help(dfpapers.explode)\n",
    "del dfpapers['id']\n",
    "dfstart = dfpapers.reset_index()\n",
    "dfstart.head()"
   ]
  },
  {
   "cell_type": "code",
   "execution_count": 34,
   "id": "26cd9a17-641c-446b-a2cb-a24c33e2b4f5",
   "metadata": {},
   "outputs": [
    {
     "data": {
      "text/plain": [
       "2023    8682\n",
       "2022    7259\n",
       "2021    6654\n",
       "2024    1764\n",
       "Name: publication_year, dtype: int64"
      ]
     },
     "execution_count": 34,
     "metadata": {},
     "output_type": "execute_result"
    }
   ],
   "source": [
    "dfstart['publication_year'].value_counts(dropna=False)"
   ]
  },
  {
   "cell_type": "code",
   "execution_count": 35,
   "id": "2fd294e2-47fe-42ff-be11-0c9e4c7d3b7b",
   "metadata": {},
   "outputs": [
    {
     "data": {
      "text/plain": [
       "(24359, 55)"
      ]
     },
     "execution_count": 35,
     "metadata": {},
     "output_type": "execute_result"
    }
   ],
   "source": [
    "dfstart.shape"
   ]
  },
  {
   "cell_type": "code",
   "execution_count": 36,
   "id": "3a77b0c1-a471-46e0-b964-1dc0edf11c40",
   "metadata": {},
   "outputs": [
    {
     "data": {
      "text/plain": [
       "((112681, 55), (24359, 55))"
      ]
     },
     "execution_count": 36,
     "metadata": {},
     "output_type": "execute_result"
    }
   ],
   "source": [
    "dfbig = dfstart.explode(column='authorships')\n",
    "dfbig.shape, dfstart.shape"
   ]
  },
  {
   "cell_type": "code",
   "execution_count": 37,
   "id": "9294c6c5-8970-4a49-b419-e9080a5898c9",
   "metadata": {},
   "outputs": [
    {
     "data": {
      "text/plain": [
       "Index(['id', 'doi', 'title', 'display_name', 'publication_year',\n",
       "       'publication_date', 'ids', 'language', 'primary_location', 'type',\n",
       "       'type_crossref', 'indexed_in', 'open_access', 'authorships',\n",
       "       'countries_distinct_count', 'institutions_distinct_count',\n",
       "       'corresponding_author_ids', 'corresponding_institution_ids', 'apc_list',\n",
       "       'apc_paid', 'has_fulltext', 'fulltext_origin', 'cited_by_count',\n",
       "       'cited_by_percentile_year', 'biblio', 'is_retracted', 'is_paratext',\n",
       "       'primary_topic', 'topics', 'keywords', 'concepts', 'mesh',\n",
       "       'locations_count', 'locations', 'best_oa_location',\n",
       "       'sustainable_development_goals', 'grants', 'datasets', 'versions',\n",
       "       'referenced_works_count', 'referenced_works', 'related_works',\n",
       "       'ngrams_url', 'cited_by_api_url', 'counts_by_year', 'updated_date',\n",
       "       'created_date', 'is_authors_truncated', 'abstract', 'content',\n",
       "       'top_concepts', 'x', 'y', 'cluster', 'probability'],\n",
       "      dtype='object')"
      ]
     },
     "execution_count": 37,
     "metadata": {},
     "output_type": "execute_result"
    }
   ],
   "source": [
    "dfbig.columns"
   ]
  },
  {
   "cell_type": "code",
   "execution_count": 38,
   "id": "00919517-e949-4c42-969a-014969db6393",
   "metadata": {},
   "outputs": [
    {
     "data": {
      "text/plain": [
       "[{'is_oa': False,\n",
       "  'landing_page_url': 'https://doi.org/10.1103/physrevlett.127.180501',\n",
       "  'pdf_url': None,\n",
       "  'source': {'id': 'https://openalex.org/S24807848',\n",
       "   'display_name': 'Physical review letters',\n",
       "   'issn_l': '0031-9007',\n",
       "   'issn': ['0031-9007', '1079-7114', '1092-0145'],\n",
       "   'is_oa': False,\n",
       "   'is_in_doaj': False,\n",
       "   'host_organization': 'https://openalex.org/P4310320261',\n",
       "   'host_organization_name': 'American Physical Society',\n",
       "   'host_organization_lineage': ['https://openalex.org/P4310320261'],\n",
       "   'host_organization_lineage_names': ['American Physical Society'],\n",
       "   'type': 'journal'},\n",
       "  'license': None,\n",
       "  'license_id': None,\n",
       "  'version': None,\n",
       "  'is_accepted': False,\n",
       "  'is_published': False},\n",
       " {'is_oa': True,\n",
       "  'landing_page_url': 'https://arxiv.org/abs/2106.14734',\n",
       "  'pdf_url': 'https://arxiv.org/pdf/2106.14734',\n",
       "  'source': {'id': 'https://openalex.org/S4306400194',\n",
       "   'display_name': 'arXiv (Cornell University)',\n",
       "   'issn_l': None,\n",
       "   'issn': None,\n",
       "   'is_oa': True,\n",
       "   'is_in_doaj': False,\n",
       "   'host_organization': 'https://openalex.org/I205783295',\n",
       "   'host_organization_name': 'Cornell University',\n",
       "   'host_organization_lineage': ['https://openalex.org/I205783295'],\n",
       "   'host_organization_lineage_names': ['Cornell University'],\n",
       "   'type': 'repository'},\n",
       "  'license': None,\n",
       "  'license_id': None,\n",
       "  'version': 'submittedVersion',\n",
       "  'is_accepted': False,\n",
       "  'is_published': False},\n",
       " {'is_oa': True,\n",
       "  'landing_page_url': 'http://arxiv.org/abs/2106.14734',\n",
       "  'pdf_url': 'http://arxiv.org/pdf/2106.14734',\n",
       "  'source': {'id': 'https://openalex.org/S4306400194',\n",
       "   'display_name': 'arXiv (Cornell University)',\n",
       "   'issn_l': None,\n",
       "   'issn': None,\n",
       "   'is_oa': True,\n",
       "   'is_in_doaj': False,\n",
       "   'host_organization': 'https://openalex.org/I205783295',\n",
       "   'host_organization_name': 'Cornell University',\n",
       "   'host_organization_lineage': ['https://openalex.org/I205783295'],\n",
       "   'host_organization_lineage_names': ['Cornell University'],\n",
       "   'type': 'repository'},\n",
       "  'license': None,\n",
       "  'license_id': None,\n",
       "  'version': 'submittedVersion',\n",
       "  'is_accepted': False,\n",
       "  'is_published': False},\n",
       " {'is_oa': False,\n",
       "  'landing_page_url': 'https://pubmed.ncbi.nlm.nih.gov/34767433',\n",
       "  'pdf_url': None,\n",
       "  'source': {'id': 'https://openalex.org/S4306525036',\n",
       "   'display_name': 'PubMed',\n",
       "   'issn_l': None,\n",
       "   'issn': None,\n",
       "   'is_oa': False,\n",
       "   'is_in_doaj': False,\n",
       "   'host_organization': 'https://openalex.org/I1299303238',\n",
       "   'host_organization_name': 'National Institutes of Health',\n",
       "   'host_organization_lineage': ['https://openalex.org/I1299303238'],\n",
       "   'host_organization_lineage_names': ['National Institutes of Health'],\n",
       "   'type': 'repository'},\n",
       "  'license': None,\n",
       "  'license_id': None,\n",
       "  'version': None,\n",
       "  'is_accepted': False,\n",
       "  'is_published': False},\n",
       " {'is_oa': False,\n",
       "  'landing_page_url': 'https://api.datacite.org/dois/10.48550/arxiv.2106.14734',\n",
       "  'pdf_url': None,\n",
       "  'source': {'id': 'https://openalex.org/S4393179698',\n",
       "   'display_name': 'DataCite API',\n",
       "   'issn_l': None,\n",
       "   'issn': None,\n",
       "   'is_oa': True,\n",
       "   'is_in_doaj': False,\n",
       "   'host_organization': 'https://openalex.org/I4210145204',\n",
       "   'host_organization_name': 'DataCite',\n",
       "   'host_organization_lineage': ['https://openalex.org/I4210145204'],\n",
       "   'host_organization_lineage_names': ['DataCite'],\n",
       "   'type': 'metadata'},\n",
       "  'license': None,\n",
       "  'license_id': None,\n",
       "  'version': None}]"
      ]
     },
     "execution_count": 38,
     "metadata": {},
     "output_type": "execute_result"
    }
   ],
   "source": [
    "dfbig.locations.iloc[68]"
   ]
  },
  {
   "cell_type": "code",
   "execution_count": 39,
   "id": "448a49eb-4b88-49fc-8d8b-9d9248b71dbb",
   "metadata": {},
   "outputs": [],
   "source": [
    "def add_extra_to_authorships(row: pd.DataFrame):\n",
    "    \"\"\"\n",
    "    row[authorships] is a dictionary;\n",
    "    add in the id key to that dictionary\n",
    "    whose value is row[id]\n",
    "    \"\"\"\n",
    "    complete_dict = row[\"authorships\"]\n",
    "   # assert type(complete_dict) == dict\n",
    "    #print(type(complete_dict))\n",
    "    if type(complete_dict) == dict:\n",
    "        complete_dict[\"id\"] = row[\"id\"]\n",
    "        complete_dict[\"x\"] = row[\"x\"]\n",
    "        complete_dict[\"y\"] = row[\"y\"]\n",
    "        complete_dict[\"cluster\"] = row[\"cluster\"]\n",
    "        complete_dict[\"cluster_score\"] = row[\"probability\"]\n",
    "        complete_dict[\"title\"] = row[\"title\"]\n",
    "        complete_dict[\"abstract\"] = row[\"abstract\"]\n",
    "        complete_dict[\"doi\"] = row[\"doi\"]\n",
    "        complete_dict[\"publication_date\"] = row[\"publication_date\"]\n",
    "        complete_dict[\"publication_year\"] = row[\"publication_year\"]\n",
    "        complete_dict[\"grants\"] = row[\"grants\"]\n",
    "        complete_dict[\"locations\"] = row[\"locations\"]\n",
    "        return complete_dict\n",
    "    else:\n",
    "        return row[\"authorships\"]"
   ]
  },
  {
   "cell_type": "code",
   "execution_count": 40,
   "id": "f900349e-59bf-4988-9c9c-3a03ed63422c",
   "metadata": {},
   "outputs": [],
   "source": [
    "dfbig['big_authorships'] = dfbig.apply(add_extra_to_authorships, axis=1)"
   ]
  },
  {
   "cell_type": "code",
   "execution_count": 41,
   "id": "ca9b1984-662b-4a45-891c-647cd7682220",
   "metadata": {},
   "outputs": [
    {
     "data": {
      "text/plain": [
       "Index(['id', 'doi', 'title', 'display_name', 'publication_year',\n",
       "       'publication_date', 'ids', 'language', 'primary_location', 'type',\n",
       "       'type_crossref', 'indexed_in', 'open_access', 'authorships',\n",
       "       'countries_distinct_count', 'institutions_distinct_count',\n",
       "       'corresponding_author_ids', 'corresponding_institution_ids', 'apc_list',\n",
       "       'apc_paid', 'has_fulltext', 'fulltext_origin', 'cited_by_count',\n",
       "       'cited_by_percentile_year', 'biblio', 'is_retracted', 'is_paratext',\n",
       "       'primary_topic', 'topics', 'keywords', 'concepts', 'mesh',\n",
       "       'locations_count', 'locations', 'best_oa_location',\n",
       "       'sustainable_development_goals', 'grants', 'datasets', 'versions',\n",
       "       'referenced_works_count', 'referenced_works', 'related_works',\n",
       "       'ngrams_url', 'cited_by_api_url', 'counts_by_year', 'updated_date',\n",
       "       'created_date', 'is_authors_truncated', 'abstract', 'content',\n",
       "       'top_concepts', 'x', 'y', 'cluster', 'probability', 'big_authorships'],\n",
       "      dtype='object')"
      ]
     },
     "execution_count": 41,
     "metadata": {},
     "output_type": "execute_result"
    }
   ],
   "source": [
    "dfbig.columns"
   ]
  },
  {
   "cell_type": "code",
   "execution_count": 42,
   "id": "dfc1d236-a52e-4dea-8a9f-6da973fdd5db",
   "metadata": {},
   "outputs": [
    {
     "data": {
      "text/plain": [
       "{'author_position': 'middle',\n",
       " 'author': {'id': 'https://openalex.org/A5083638025',\n",
       "  'display_name': 'Jiabing Yu',\n",
       "  'orcid': 'https://orcid.org/0000-0001-7206-6592'},\n",
       " 'institutions': [{'id': 'https://openalex.org/I4210103894',\n",
       "   'display_name': 'Hefei National Center for Physical Sciences at Nanoscale',\n",
       "   'ror': 'https://ror.org/01jeedh73',\n",
       "   'country_code': 'CN',\n",
       "   'type': 'facility',\n",
       "   'lineage': ['https://openalex.org/I126520041',\n",
       "    'https://openalex.org/I19820366',\n",
       "    'https://openalex.org/I4210103894']},\n",
       "  {'id': 'https://openalex.org/I126520041',\n",
       "   'display_name': 'University of Science and Technology of China',\n",
       "   'ror': 'https://ror.org/04c4dkn09',\n",
       "   'country_code': 'CN',\n",
       "   'type': 'education',\n",
       "   'lineage': ['https://openalex.org/I126520041',\n",
       "    'https://openalex.org/I19820366']},\n",
       "  {'id': 'https://openalex.org/I4210150858',\n",
       "   'display_name': 'Beijing Academy of Quantum Information Sciences',\n",
       "   'ror': 'https://ror.org/04nqf9k60',\n",
       "   'country_code': 'CN',\n",
       "   'type': 'facility',\n",
       "   'lineage': ['https://openalex.org/I4210150858']}],\n",
       " 'countries': ['CN'],\n",
       " 'is_corresponding': False,\n",
       " 'raw_author_name': 'Jiale Yu',\n",
       " 'raw_affiliation_strings': ['Hefei National Laboratory for Physical Sciences at the Microscale and Department of Modern Physics, University of Science and Technology of China, Hefei 230026, China',\n",
       "  'Shanghai Branch, CAS Center for Excellence in Quantum Information and Quantum Physics, University of Science and Technology of China, Shanghai 201315, China',\n",
       "  'Shanghai Research Center for Quantum Sciences, Shanghai 201315, China'],\n",
       " 'id': 'https://openalex.org/W3173899054',\n",
       " 'x': 5.762540817260742,\n",
       " 'y': -0.7474143505096436,\n",
       " 'cluster': -1,\n",
       " 'cluster_score': 0.0,\n",
       " 'title': 'Strong Quantum Computational Advantage Using a Superconducting Quantum Processor',\n",
       " 'abstract': 'Scaling up to a large number of qubits with high-precision control is essential in the demonstrations of quantum computational advantage to exponentially outpace the classical hardware and algorithmic improvements. Here, we develop a two-dimensional programmable superconducting quantum processor, Zuchongzhi, which is composed of 66 functional qubits in a tunable coupling architecture. To characterize the performance of the whole system, we perform random quantum circuits sampling for benchmarking, up to a system size of 56 qubits and 20 cycles. The computational cost of the classical simulation of this task is estimated to be 2-3 orders of magnitude higher than the previous work on 53-qubit Sycamore processor [Nature 574, 505 (2019)NATUAS0028-083610.1038/s41586-019-1666-5. We estimate that the sampling task finished by Zuchongzhi in about 1.2 h will take the most powerful supercomputer at least 8 yr. Our work establishes an unambiguous quantum computational advantage that is infeasible for classical computation in a reasonable amount of time. The high-precision and programmable quantum computing platform opens a new door to explore novel many-body phenomena and implement complex quantum algorithms.',\n",
       " 'doi': 'https://doi.org/10.1103/physrevlett.127.180501',\n",
       " 'publication_date': '2021-10-25',\n",
       " 'publication_year': 2021,\n",
       " 'grants': [{'funder': 'https://openalex.org/F4320309612',\n",
       "   'funder_display_name': 'Natural Science Foundation of Shanghai',\n",
       "   'award_id': '19ZR1462700'},\n",
       "  {'funder': 'https://openalex.org/F4320321001',\n",
       "   'funder_display_name': 'National Natural Science Foundation of China',\n",
       "   'award_id': '11905217'},\n",
       "  {'funder': 'https://openalex.org/F4320321001',\n",
       "   'funder_display_name': 'National Natural Science Foundation of China',\n",
       "   'award_id': '11905294'},\n",
       "  {'funder': 'https://openalex.org/F4320321001',\n",
       "   'funder_display_name': 'National Natural Science Foundation of China',\n",
       "   'award_id': '11774326'},\n",
       "  {'funder': 'https://openalex.org/F4320321133',\n",
       "   'funder_display_name': 'Chinese Academy of Sciences',\n",
       "   'award_id': None},\n",
       "  {'funder': 'https://openalex.org/F4320321885',\n",
       "   'funder_display_name': 'Science and Technology Commission of Shanghai Municipality',\n",
       "   'award_id': '2019SHZDZX01'},\n",
       "  {'funder': 'https://openalex.org/F4320325599',\n",
       "   'funder_display_name': 'University of Science and Technology of China',\n",
       "   'award_id': None},\n",
       "  {'funder': 'https://openalex.org/F4320335777',\n",
       "   'funder_display_name': 'National Key Research and Development Program of China',\n",
       "   'award_id': '2017YFA0304300'},\n",
       "  {'funder': 'https://openalex.org/F4320335832',\n",
       "   'funder_display_name': 'USTC Center for Micro- and Nanoscale Research and Fabrication',\n",
       "   'award_id': None},\n",
       "  {'funder': 'https://openalex.org/F4320336405',\n",
       "   'funder_display_name': 'Special Project for Research and Development in Key areas of Guangdong Province',\n",
       "   'award_id': '2020B0303030001'}],\n",
       " 'locations': [{'is_oa': False,\n",
       "   'landing_page_url': 'https://doi.org/10.1103/physrevlett.127.180501',\n",
       "   'pdf_url': None,\n",
       "   'source': {'id': 'https://openalex.org/S24807848',\n",
       "    'display_name': 'Physical review letters',\n",
       "    'issn_l': '0031-9007',\n",
       "    'issn': ['0031-9007', '1079-7114', '1092-0145'],\n",
       "    'is_oa': False,\n",
       "    'is_in_doaj': False,\n",
       "    'host_organization': 'https://openalex.org/P4310320261',\n",
       "    'host_organization_name': 'American Physical Society',\n",
       "    'host_organization_lineage': ['https://openalex.org/P4310320261'],\n",
       "    'host_organization_lineage_names': ['American Physical Society'],\n",
       "    'type': 'journal'},\n",
       "   'license': None,\n",
       "   'license_id': None,\n",
       "   'version': None,\n",
       "   'is_accepted': False,\n",
       "   'is_published': False},\n",
       "  {'is_oa': True,\n",
       "   'landing_page_url': 'https://arxiv.org/abs/2106.14734',\n",
       "   'pdf_url': 'https://arxiv.org/pdf/2106.14734',\n",
       "   'source': {'id': 'https://openalex.org/S4306400194',\n",
       "    'display_name': 'arXiv (Cornell University)',\n",
       "    'issn_l': None,\n",
       "    'issn': None,\n",
       "    'is_oa': True,\n",
       "    'is_in_doaj': False,\n",
       "    'host_organization': 'https://openalex.org/I205783295',\n",
       "    'host_organization_name': 'Cornell University',\n",
       "    'host_organization_lineage': ['https://openalex.org/I205783295'],\n",
       "    'host_organization_lineage_names': ['Cornell University'],\n",
       "    'type': 'repository'},\n",
       "   'license': None,\n",
       "   'license_id': None,\n",
       "   'version': 'submittedVersion',\n",
       "   'is_accepted': False,\n",
       "   'is_published': False},\n",
       "  {'is_oa': True,\n",
       "   'landing_page_url': 'http://arxiv.org/abs/2106.14734',\n",
       "   'pdf_url': 'http://arxiv.org/pdf/2106.14734',\n",
       "   'source': {'id': 'https://openalex.org/S4306400194',\n",
       "    'display_name': 'arXiv (Cornell University)',\n",
       "    'issn_l': None,\n",
       "    'issn': None,\n",
       "    'is_oa': True,\n",
       "    'is_in_doaj': False,\n",
       "    'host_organization': 'https://openalex.org/I205783295',\n",
       "    'host_organization_name': 'Cornell University',\n",
       "    'host_organization_lineage': ['https://openalex.org/I205783295'],\n",
       "    'host_organization_lineage_names': ['Cornell University'],\n",
       "    'type': 'repository'},\n",
       "   'license': None,\n",
       "   'license_id': None,\n",
       "   'version': 'submittedVersion',\n",
       "   'is_accepted': False,\n",
       "   'is_published': False},\n",
       "  {'is_oa': False,\n",
       "   'landing_page_url': 'https://pubmed.ncbi.nlm.nih.gov/34767433',\n",
       "   'pdf_url': None,\n",
       "   'source': {'id': 'https://openalex.org/S4306525036',\n",
       "    'display_name': 'PubMed',\n",
       "    'issn_l': None,\n",
       "    'issn': None,\n",
       "    'is_oa': False,\n",
       "    'is_in_doaj': False,\n",
       "    'host_organization': 'https://openalex.org/I1299303238',\n",
       "    'host_organization_name': 'National Institutes of Health',\n",
       "    'host_organization_lineage': ['https://openalex.org/I1299303238'],\n",
       "    'host_organization_lineage_names': ['National Institutes of Health'],\n",
       "    'type': 'repository'},\n",
       "   'license': None,\n",
       "   'license_id': None,\n",
       "   'version': None,\n",
       "   'is_accepted': False,\n",
       "   'is_published': False},\n",
       "  {'is_oa': False,\n",
       "   'landing_page_url': 'https://api.datacite.org/dois/10.48550/arxiv.2106.14734',\n",
       "   'pdf_url': None,\n",
       "   'source': {'id': 'https://openalex.org/S4393179698',\n",
       "    'display_name': 'DataCite API',\n",
       "    'issn_l': None,\n",
       "    'issn': None,\n",
       "    'is_oa': True,\n",
       "    'is_in_doaj': False,\n",
       "    'host_organization': 'https://openalex.org/I4210145204',\n",
       "    'host_organization_name': 'DataCite',\n",
       "    'host_organization_lineage': ['https://openalex.org/I4210145204'],\n",
       "    'host_organization_lineage_names': ['DataCite'],\n",
       "    'type': 'metadata'},\n",
       "   'license': None,\n",
       "   'license_id': None,\n",
       "   'version': None}]}"
      ]
     },
     "execution_count": 42,
     "metadata": {},
     "output_type": "execute_result"
    }
   ],
   "source": [
    "dfbig['authorships'].iloc[69] # raw_affiliation_strings    "
   ]
  },
  {
   "cell_type": "code",
   "execution_count": 43,
   "id": "dd90bb7a-d3d3-4c1a-9213-a1f1253a7aa0",
   "metadata": {},
   "outputs": [],
   "source": [
    "#dfbig['authorships'].tolist()\n",
    "bigvals = dfbig['authorships'].tolist()"
   ]
  },
  {
   "cell_type": "code",
   "execution_count": 44,
   "id": "3157f5cb-ba6c-4852-82ab-e2f32c0ad774",
   "metadata": {},
   "outputs": [],
   "source": [
    "dictvals = [c for c in bigvals if type(c) != float]"
   ]
  },
  {
   "cell_type": "code",
   "execution_count": 45,
   "id": "622045cc-42ac-4386-af27-07d2074eb56a",
   "metadata": {},
   "outputs": [
    {
     "data": {
      "text/plain": [
       "dict_keys(['id', 'display_name', 'orcid'])"
      ]
     },
     "execution_count": 45,
     "metadata": {},
     "output_type": "execute_result"
    }
   ],
   "source": [
    "dictvals[0]['author'].keys()"
   ]
  },
  {
   "cell_type": "markdown",
   "id": "534b8524-2c20-4813-8281-9c594b6d2be4",
   "metadata": {},
   "source": [
    "raw_affiliation_string -> raw_affiliation_strings"
   ]
  },
  {
   "cell_type": "code",
   "execution_count": 46,
   "id": "05aec55b-4869-49e3-919f-abf4c9c361d8",
   "metadata": {},
   "outputs": [],
   "source": [
    "dftriple = pd.json_normalize(dictvals,\n",
    "                  record_path=['institutions'],\n",
    "                  meta=['id','raw_affiliation_strings','author_position', 'doi',\n",
    "                        'title','abstract','publication_date', 'publication_year',\n",
    "                        'grants','locations',\n",
    "                        'is_corrresponding','x','y','cluster','cluster_score',\n",
    "                       ['author','id'], ['author', 'display_name'],\n",
    "                       ['author','orcid']],\n",
    "                  errors='ignore',\n",
    "                  sep='_',\n",
    "                  meta_prefix='paper_',\n",
    "                #  record_prefix='author_'\n",
    "                 )"
   ]
  },
  {
   "cell_type": "code",
   "execution_count": 47,
   "id": "7eb1b8e1-60e3-48e1-b24b-1447d6d13c22",
   "metadata": {},
   "outputs": [],
   "source": [
    "dftopics = dfcontentvectors.copy()\n",
    "dftopics['cluster'] = dfpapers['cluster']\n",
    "dfmeantopics = dftopics.groupby('cluster').mean().copy()\n",
    "reduced_topics = umap_reducer.transform(dfmeantopics.to_numpy())\n",
    "df_reduced_topics = pd.DataFrame.from_records(reduced_topics, \n",
    "                index=dfmeantopics.index)\n",
    "df_reduced_topics.columns = ['x','y']\n",
    "df_reduced_topics['topic'] = df_reduced_topics.index\n",
    "df_reduced_topics.head()\n",
    "\n",
    "def get_cluster_concepts(topic_num:int, n:int=20):\n",
    "    \"\"\"\n",
    "    takes an integer topic_num corresponding to a \n",
    "    given topic number and\n",
    "    returns the list of top n occuring concepts\n",
    "    from the top_concept field\n",
    "    \"\"\"\n",
    "    top_concepts = dfpapers[dfpapers['cluster'] == topic_num]['top_concepts'].tolist()\n",
    "    flat_concepts = [item for sublist in top_concepts for item in sublist]\n",
    "    concepts_dict = {c:flat_concepts.count(c) for c in flat_concepts}\n",
    "    sorted_concepts = sorted(concepts_dict.items(), key=lambda x:x[1], reverse=True)\n",
    "    return [c[0] for c in sorted_concepts][:n]\n",
    "\n",
    "def get_yake_cluster_phrases(topic_num:int, n:int=20):\n",
    "    \"\"\"\n",
    "    takes in an integer n corresponding\n",
    "    to a given topic number and\n",
    "    returns the list of keyphrases (TopicRank method)\n",
    "    \"\"\"\n",
    "    documents = dfpapers[dfpapers['cluster'] == topic_num]['content'].tolist()\n",
    "    topic_input = \". \".join(documents)\n",
    "    #extractor = pke.unsupervised.TextRank()\n",
    "    kw_extractor = yake.KeywordExtractor(top=n, stopwords=None)\n",
    "    keywords = kw_extractor.extract_keywords(topic_input)\n",
    "    #extractor.load_document(input=topic_input,\n",
    "    #                    language='en',\n",
    "    #                    normalization=None)\n",
    "\n",
    "    #extractor.candidate_selection()\n",
    "\n",
    "    #window = 2\n",
    "    #use_stems = False\n",
    "    #extractor.candidate_weighting(window=window,\n",
    "    #                          use_stems=use_stems)\n",
    "    #extractor.candidate_weighting()\n",
    "    #threshold = 0.8\n",
    "   # keyphrases = extractor.get_n_best(n=20, threshold=threshold)\n",
    "    #keyphrases = extractor.get_n_best(n=n)\n",
    "    return [p[0] for p in keywords]\n",
    "\n",
    "wikiconcepts = df_reduced_topics['topic'].apply(get_cluster_concepts)\n",
    "\n",
    "wikikeywords = df_reduced_topics['topic'].apply(get_yake_cluster_phrases)\n",
    "\n",
    "dfpapers['id'] = dfpapers.index\n",
    "dfinfo = dfpapers[['x','y','id','title','doi','cluster','grants',\n",
    "                   'locations',\n",
    "                 'publication_date','keywords','top_concepts']].copy()\n",
    "\n",
    "centroids = dfinfo.groupby('cluster')[['x','y']].mean().copy()\n",
    "centroids['concepts'] = wikiconcepts\n",
    "centroids['cluster'] = centroids.index\n",
    "centroids['keywords'] = wikikeywords"
   ]
  },
  {
   "cell_type": "code",
   "execution_count": 48,
   "id": "7ea32c35-9d6c-4ea0-ab58-e6fab98675b9",
   "metadata": {},
   "outputs": [],
   "source": [
    "def wrap_it(x):\n",
    "    return \"<br>\".join(textwrap.wrap(x, width=40))\n",
    "   # return \"<br>\".join(textwrap.wrap(x.replace(r'\\s+', ' '), width=40))"
   ]
  },
  {
   "cell_type": "code",
   "execution_count": 49,
   "id": "fa023e13-8cda-4037-ab4a-c5404ca4ecae",
   "metadata": {},
   "outputs": [],
   "source": [
    "centroids['wrapped_keywords'] = centroids['keywords'].apply(str).apply(wrap_it)\n",
    "centroids['wrapped_concepts'] = centroids['concepts'].apply(str).apply(wrap_it)"
   ]
  },
  {
   "cell_type": "code",
   "execution_count": 50,
   "id": "f5ecc3d2-10f7-49c6-b58e-aa5769605834",
   "metadata": {},
   "outputs": [],
   "source": [
    "centroids.to_pickle('updatejammingcentroids2d.pkl')"
   ]
  },
  {
   "cell_type": "code",
   "execution_count": 51,
   "id": "3c66c6c9-c657-426c-8172-aead595df3d5",
   "metadata": {},
   "outputs": [],
   "source": [
    "dftriple.to_pickle('updatejammingdftriple2d.pkl')"
   ]
  },
  {
   "cell_type": "code",
   "execution_count": 52,
   "id": "8d1f66c7-0240-4f34-a43d-25b76c0008fe",
   "metadata": {},
   "outputs": [],
   "source": [
    "def get_affils_cluster_sort(dc:pd.DataFrame, cl:int):\n",
    "    \"\"\"\n",
    "    restricts the dataframe dc to cluster value cl\n",
    "    and returns the results grouped by id, ror sorted\n",
    "    by the some of probablity descending\n",
    "    \"\"\"\n",
    "    # https://learning.oreilly.com/library/view/streamlit-for-data/9781803248226/text/ch004.xhtml\n",
    "    dg = dc[dc['paper_cluster'] == cl].copy()\n",
    "    print(cl)\n",
    "    dv = dg.groupby(['id','display_name','country_code',\n",
    "                     'type'])['paper_cluster_score'].sum().to_frame()\n",
    "    dv.sort_values('paper_cluster_score', ascending=False, inplace=True)\n",
    "    dv.reset_index(inplace=True) # map the display_name column with the geo_dict to get lattitude, longitude\n",
    "    dv['latitude'] = dv['display_name'].apply(lambda x: affil_geo_dict.get(x, (None, None))[0])\n",
    "    dv['longitude'] = dv['display_name'].apply(lambda x: affil_geo_dict.get(x, (None, None))[1])\n",
    "    kw = centroids[centroids.cluster == cl]['keywords'].iloc[0]\n",
    "    return dv, kw"
   ]
  },
  {
   "cell_type": "code",
   "execution_count": 56,
   "id": "665d0e1a-1b34-49fd-98ce-f4b65a9ea9ec",
   "metadata": {},
   "outputs": [],
   "source": [
    "#dv84, kw84 = get_affils_cluster_sort(dftriple, 1)\n",
    "#print(kw84)\n",
    "#dv84.head(10)"
   ]
  },
  {
   "cell_type": "code",
   "execution_count": 57,
   "id": "7d92cb7c-b0be-43f7-9862-19a9ccfd0b77",
   "metadata": {},
   "outputs": [],
   "source": [
    "#dv84, kw84 = get_affils_cluster_sort(dftriple, 0)\n",
    "#print(kw84)\n",
    "#dv84.head(10)"
   ]
  },
  {
   "cell_type": "code",
   "execution_count": 58,
   "id": "8d0af947-cf9e-413a-a7a2-46410af0d5c3",
   "metadata": {},
   "outputs": [],
   "source": [
    "#dv84, kw84 = get_affils_cluster_sort(dftriple, 0)\n",
    "#print(kw84)\n",
    "#dv84.head(20)"
   ]
  },
  {
   "cell_type": "code",
   "execution_count": 59,
   "id": "4fdf9897-e69e-40ad-bfa6-9b3f608aecf3",
   "metadata": {},
   "outputs": [],
   "source": [
    "dfinfo = dfpapers[['x','y','id','title','doi','cluster','probability',\n",
    "                 'publication_date','grants','locations',\n",
    "                   'keywords','top_concepts']].copy()"
   ]
  },
  {
   "cell_type": "code",
   "execution_count": 60,
   "id": "a29de784-de2f-4f13-8e24-e7b6b2e813bd",
   "metadata": {},
   "outputs": [
    {
     "data": {
      "text/plain": [
       "{'is_oa': True,\n",
       " 'landing_page_url': 'https://doi.org/10.1038/s41928-022-00727-9',\n",
       " 'pdf_url': 'https://www.nature.com/articles/s41928-022-00727-9.pdf',\n",
       " 'source': {'id': 'https://openalex.org/S4210239724',\n",
       "  'display_name': 'Nature electronics.',\n",
       "  'issn_l': '2520-1131',\n",
       "  'issn': ['2520-1131'],\n",
       "  'is_oa': False,\n",
       "  'is_in_doaj': False,\n",
       "  'host_organization': 'https://openalex.org/P4310319908',\n",
       "  'host_organization_name': 'Nature Portfolio',\n",
       "  'host_organization_lineage': ['https://openalex.org/P4310319908',\n",
       "   'https://openalex.org/P4310319965'],\n",
       "  'host_organization_lineage_names': ['Nature Portfolio', 'Springer Nature'],\n",
       "  'type': 'journal'},\n",
       " 'license': 'cc-by',\n",
       " 'license_id': 'https://openalex.org/licenses/cc-by',\n",
       " 'version': 'publishedVersion',\n",
       " 'is_accepted': True,\n",
       " 'is_published': True}"
      ]
     },
     "execution_count": 60,
     "metadata": {},
     "output_type": "execute_result"
    }
   ],
   "source": [
    "dfpapers['primary_location'].iloc[58]"
   ]
  },
  {
   "cell_type": "code",
   "execution_count": 61,
   "id": "df767467-cfc7-4118-a6ca-c0307363ed18",
   "metadata": {},
   "outputs": [
    {
     "data": {
      "text/plain": [
       "[{'is_oa': True,\n",
       "  'landing_page_url': 'https://doi.org/10.1038/s41928-022-00727-9',\n",
       "  'pdf_url': 'https://www.nature.com/articles/s41928-022-00727-9.pdf',\n",
       "  'source': {'id': 'https://openalex.org/S4210239724',\n",
       "   'display_name': 'Nature electronics.',\n",
       "   'issn_l': '2520-1131',\n",
       "   'issn': ['2520-1131'],\n",
       "   'is_oa': False,\n",
       "   'is_in_doaj': False,\n",
       "   'host_organization': 'https://openalex.org/P4310319908',\n",
       "   'host_organization_name': 'Nature Portfolio',\n",
       "   'host_organization_lineage': ['https://openalex.org/P4310319908',\n",
       "    'https://openalex.org/P4310319965'],\n",
       "   'host_organization_lineage_names': ['Nature Portfolio', 'Springer Nature'],\n",
       "   'type': 'journal'},\n",
       "  'license': 'cc-by',\n",
       "  'license_id': 'https://openalex.org/licenses/cc-by',\n",
       "  'version': 'publishedVersion',\n",
       "  'is_accepted': True,\n",
       "  'is_published': True},\n",
       " {'is_oa': True,\n",
       "  'landing_page_url': 'https://arxiv.org/abs/2101.12650',\n",
       "  'pdf_url': 'https://arxiv.org/pdf/2101.12650',\n",
       "  'source': {'id': 'https://openalex.org/S4306400194',\n",
       "   'display_name': 'arXiv (Cornell University)',\n",
       "   'issn_l': None,\n",
       "   'issn': None,\n",
       "   'is_oa': True,\n",
       "   'is_in_doaj': False,\n",
       "   'host_organization': 'https://openalex.org/I205783295',\n",
       "   'host_organization_name': 'Cornell University',\n",
       "   'host_organization_lineage': ['https://openalex.org/I205783295'],\n",
       "   'host_organization_lineage_names': ['Cornell University'],\n",
       "   'type': 'repository'},\n",
       "  'license': None,\n",
       "  'license_id': None,\n",
       "  'version': 'submittedVersion',\n",
       "  'is_accepted': False,\n",
       "  'is_published': False},\n",
       " {'is_oa': True,\n",
       "  'landing_page_url': 'http://arxiv.org/abs/2101.12650',\n",
       "  'pdf_url': 'http://arxiv.org/pdf/2101.12650',\n",
       "  'source': {'id': 'https://openalex.org/S4306400194',\n",
       "   'display_name': 'arXiv (Cornell University)',\n",
       "   'issn_l': None,\n",
       "   'issn': None,\n",
       "   'is_oa': True,\n",
       "   'is_in_doaj': False,\n",
       "   'host_organization': 'https://openalex.org/I205783295',\n",
       "   'host_organization_name': 'Cornell University',\n",
       "   'host_organization_lineage': ['https://openalex.org/I205783295'],\n",
       "   'host_organization_lineage_names': ['Cornell University'],\n",
       "   'type': 'repository'},\n",
       "  'license': None,\n",
       "  'license_id': None,\n",
       "  'version': 'submittedVersion',\n",
       "  'is_accepted': False,\n",
       "  'is_published': False},\n",
       " {'is_oa': False,\n",
       "  'landing_page_url': 'https://api.datacite.org/dois/10.48550/arxiv.2101.12650',\n",
       "  'pdf_url': None,\n",
       "  'source': {'id': 'https://openalex.org/S4393179698',\n",
       "   'display_name': 'DataCite API',\n",
       "   'issn_l': None,\n",
       "   'issn': None,\n",
       "   'is_oa': True,\n",
       "   'is_in_doaj': False,\n",
       "   'host_organization': 'https://openalex.org/I4210145204',\n",
       "   'host_organization_name': 'DataCite',\n",
       "   'host_organization_lineage': ['https://openalex.org/I4210145204'],\n",
       "   'host_organization_lineage_names': ['DataCite'],\n",
       "   'type': 'metadata'},\n",
       "  'license': None,\n",
       "  'license_id': None,\n",
       "  'version': None}]"
      ]
     },
     "execution_count": 61,
     "metadata": {},
     "output_type": "execute_result"
    }
   ],
   "source": [
    "dfpapers['locations'].iloc[58]"
   ]
  },
  {
   "cell_type": "code",
   "execution_count": 62,
   "id": "b54b3fef-687c-435a-a450-214a92136b5f",
   "metadata": {},
   "outputs": [
    {
     "data": {
      "text/plain": [
       "Index(['id', 'display_name', 'ror', 'country_code', 'type', 'lineage',\n",
       "       'paper_id', 'paper_raw_affiliation_strings', 'paper_author_position',\n",
       "       'paper_doi', 'paper_title', 'paper_abstract', 'paper_publication_date',\n",
       "       'paper_publication_year', 'paper_grants', 'paper_locations',\n",
       "       'paper_is_corrresponding', 'paper_x', 'paper_y', 'paper_cluster',\n",
       "       'paper_cluster_score', 'paper_author_id', 'paper_author_display_name',\n",
       "       'paper_author_orcid'],\n",
       "      dtype='object')"
      ]
     },
     "execution_count": 62,
     "metadata": {},
     "output_type": "execute_result"
    }
   ],
   "source": [
    "dftriple.columns"
   ]
  },
  {
   "cell_type": "code",
   "execution_count": 63,
   "id": "8266f142-deeb-447c-a3bb-637e8f7acff3",
   "metadata": {},
   "outputs": [
    {
     "data": {
      "text/html": [
       "<div>\n",
       "<style scoped>\n",
       "    .dataframe tbody tr th:only-of-type {\n",
       "        vertical-align: middle;\n",
       "    }\n",
       "\n",
       "    .dataframe tbody tr th {\n",
       "        vertical-align: top;\n",
       "    }\n",
       "\n",
       "    .dataframe thead th {\n",
       "        text-align: right;\n",
       "    }\n",
       "</style>\n",
       "<table border=\"1\" class=\"dataframe\">\n",
       "  <thead>\n",
       "    <tr style=\"text-align: right;\">\n",
       "      <th></th>\n",
       "      <th>paper_id</th>\n",
       "      <th>paper_raw_affiliation_strings</th>\n",
       "    </tr>\n",
       "  </thead>\n",
       "  <tbody>\n",
       "    <tr>\n",
       "      <th>0</th>\n",
       "      <td>https://openalex.org/W3189250281</td>\n",
       "      <td>[Theoretical Division, Los Alamos National Lab...</td>\n",
       "    </tr>\n",
       "    <tr>\n",
       "      <th>1</th>\n",
       "      <td>https://openalex.org/W3189250281</td>\n",
       "      <td>[Theoretical Division, Los Alamos National Lab...</td>\n",
       "    </tr>\n",
       "    <tr>\n",
       "      <th>2</th>\n",
       "      <td>https://openalex.org/W3189250281</td>\n",
       "      <td>[Google Quantum AI Team, Venice, CA, USA]</td>\n",
       "    </tr>\n",
       "    <tr>\n",
       "      <th>3</th>\n",
       "      <td>https://openalex.org/W3189250281</td>\n",
       "      <td>[Department of Materials, University of Oxford...</td>\n",
       "    </tr>\n",
       "    <tr>\n",
       "      <th>4</th>\n",
       "      <td>https://openalex.org/W3189250281</td>\n",
       "      <td>[NTT Secure Platform Laboratories, NTT Corpora...</td>\n",
       "    </tr>\n",
       "  </tbody>\n",
       "</table>\n",
       "</div>"
      ],
      "text/plain": [
       "                           paper_id  \\\n",
       "0  https://openalex.org/W3189250281   \n",
       "1  https://openalex.org/W3189250281   \n",
       "2  https://openalex.org/W3189250281   \n",
       "3  https://openalex.org/W3189250281   \n",
       "4  https://openalex.org/W3189250281   \n",
       "\n",
       "                       paper_raw_affiliation_strings  \n",
       "0  [Theoretical Division, Los Alamos National Lab...  \n",
       "1  [Theoretical Division, Los Alamos National Lab...  \n",
       "2          [Google Quantum AI Team, Venice, CA, USA]  \n",
       "3  [Department of Materials, University of Oxford...  \n",
       "4  [NTT Secure Platform Laboratories, NTT Corpora...  "
      ]
     },
     "execution_count": 63,
     "metadata": {},
     "output_type": "execute_result"
    }
   ],
   "source": [
    "dftriple[['paper_id','paper_raw_affiliation_strings']].head()"
   ]
  },
  {
   "cell_type": "code",
   "execution_count": 64,
   "id": "a9cce90a-668d-48a9-b3c5-310cdd417742",
   "metadata": {},
   "outputs": [
    {
     "data": {
      "text/plain": [
       "[Google Research, Mountain View, CA, USA]                                                                                                                                                                                                                                                                                                                                                                        473\n",
       "[Hefei National Laboratory for Physical Sciences at the Microscale and Department of Modern Physics, University of Science and Technology of China, Hefei 230026, China, Shanghai Branch, CAS Center for Excellence in Quantum Information and Quantum Physics, University of Science and Technology of China, Shanghai 201315, China, Shanghai Research Center for Quantum Sciences, Shanghai 201315, China]    345\n",
       "[Shanghai Branch, CAS Center for Excellence in Quantum Information and Quantum Physics, University of Science and Technology of China, Shanghai 201315, China, Shanghai Research Center for Quantum Sciences, Shanghai 201315, China]                                                                                                                                                                            186\n",
       "[Hefei National Research Center for Physical Sciences at the Microscale and School of Physical Sciences, University of Science and Technology of China, Hefei 230026, China, Shanghai Research Center for Quantum Science and CAS Center for Excellence in Quantum Information and Quantum Physics, University of Science and Technology of China, Shanghai 201315, China]                                       168\n",
       "[Google Quantum AI, Santa Barbara, CA, USA]                                                                                                                                                                                                                                                                                                                                                                      150\n",
       "                                                                                                                                                                                                                                                                                                                                                                                                                ... \n",
       "[University of Tokyo,Department of Mechanical Engineering,Tokyo,JAPAN]                                                                                                                                                                                                                                                                                                                                             1\n",
       "[[IBM Quantum, IBM Research - Tokyo, Tokyo, Japan]]                                                                                                                                                                                                                                                                                                                                                                1\n",
       "[University of Bucharest, Faculty of Physics, Bucharest-Magurele, P.O. Box MG 11, 077125, Romania]                                                                                                                                                                                                                                                                                                                 1\n",
       "[Qsimov Quantum Computing S.L]                                                                                                                                                                                                                                                                                                                                                                                     1\n",
       "[Kobayashi]                                                                                                                                                                                                                                                                                                                                                                                                        1\n",
       "Name: paper_raw_affiliation_strings, Length: 26713, dtype: int64"
      ]
     },
     "execution_count": 64,
     "metadata": {},
     "output_type": "execute_result"
    }
   ],
   "source": [
    "dftriple['paper_raw_affiliation_strings'].value_counts(dropna=False)"
   ]
  },
  {
   "cell_type": "code",
   "execution_count": 65,
   "id": "5f96506c-b7c0-452f-876e-3af37c04cccd",
   "metadata": {},
   "outputs": [
    {
     "data": {
      "text/html": [
       "<div>\n",
       "<style scoped>\n",
       "    .dataframe tbody tr th:only-of-type {\n",
       "        vertical-align: middle;\n",
       "    }\n",
       "\n",
       "    .dataframe tbody tr th {\n",
       "        vertical-align: top;\n",
       "    }\n",
       "\n",
       "    .dataframe thead th {\n",
       "        text-align: right;\n",
       "    }\n",
       "</style>\n",
       "<table border=\"1\" class=\"dataframe\">\n",
       "  <thead>\n",
       "    <tr style=\"text-align: right;\">\n",
       "      <th></th>\n",
       "      <th>paper_id</th>\n",
       "      <th>paper_raw_affiliation_strings</th>\n",
       "    </tr>\n",
       "  </thead>\n",
       "  <tbody>\n",
       "    <tr>\n",
       "      <th>0</th>\n",
       "      <td>https://openalex.org/W3189250281</td>\n",
       "      <td>[Theoretical Division, Los Alamos National Lab...</td>\n",
       "    </tr>\n",
       "    <tr>\n",
       "      <th>1</th>\n",
       "      <td>https://openalex.org/W3189250281</td>\n",
       "      <td>[Theoretical Division, Los Alamos National Lab...</td>\n",
       "    </tr>\n",
       "    <tr>\n",
       "      <th>2</th>\n",
       "      <td>https://openalex.org/W3189250281</td>\n",
       "      <td>[Google Quantum AI Team, Venice, CA, USA]</td>\n",
       "    </tr>\n",
       "    <tr>\n",
       "      <th>3</th>\n",
       "      <td>https://openalex.org/W3189250281</td>\n",
       "      <td>[Department of Materials, University of Oxford...</td>\n",
       "    </tr>\n",
       "    <tr>\n",
       "      <th>4</th>\n",
       "      <td>https://openalex.org/W3189250281</td>\n",
       "      <td>[NTT Secure Platform Laboratories, NTT Corpora...</td>\n",
       "    </tr>\n",
       "  </tbody>\n",
       "</table>\n",
       "</div>"
      ],
      "text/plain": [
       "                           paper_id  \\\n",
       "0  https://openalex.org/W3189250281   \n",
       "1  https://openalex.org/W3189250281   \n",
       "2  https://openalex.org/W3189250281   \n",
       "3  https://openalex.org/W3189250281   \n",
       "4  https://openalex.org/W3189250281   \n",
       "\n",
       "                       paper_raw_affiliation_strings  \n",
       "0  [Theoretical Division, Los Alamos National Lab...  \n",
       "1  [Theoretical Division, Los Alamos National Lab...  \n",
       "2          [Google Quantum AI Team, Venice, CA, USA]  \n",
       "3  [Department of Materials, University of Oxford...  \n",
       "4  [NTT Secure Platform Laboratories, NTT Corpora...  "
      ]
     },
     "execution_count": 65,
     "metadata": {},
     "output_type": "execute_result"
    }
   ],
   "source": [
    "dftriple[['paper_id','paper_raw_affiliation_strings']].head()"
   ]
  },
  {
   "cell_type": "code",
   "execution_count": 66,
   "id": "c97c5148-f570-4341-885e-5237df8b8c49",
   "metadata": {},
   "outputs": [],
   "source": [
    "# Group by 'paper_id' and concatenate 'paper_raw_affiliation_strings'\n",
    "grouped = dftriple.groupby('paper_id')['paper_raw_affiliation_strings'].apply(lambda x: list(set([item for sublist in x for item in sublist]))).reset_index()\n",
    "\n",
    "# Convert the series back to a dictionary\n",
    "pap_affils_dict = grouped.set_index('paper_id')['paper_raw_affiliation_strings'].to_dict()"
   ]
  },
  {
   "cell_type": "code",
   "execution_count": 67,
   "id": "a6315c76-3ef2-4481-a694-2381093cc13b",
   "metadata": {},
   "outputs": [],
   "source": [
    "#paper_affils_dict"
   ]
  },
  {
   "cell_type": "code",
   "execution_count": 68,
   "id": "0878061f-cf4a-4483-9c17-841799d2a960",
   "metadata": {},
   "outputs": [],
   "source": [
    "#pap_affils_dict = dftriple.groupby('paper_id')['paper_raw_affiliation_strings'].\\\n",
    "#apply(lambda x: ' | '.join(x.tolist()))\n",
    "\n",
    "#pap_affils_dict = dftriple.set_index('paper_id')['paper_raw_affiliation_strings'].to_dict()\n",
    "import itertools\n",
    "\n",
    "#pap_affils_dict = dftriple.set_index('paper_id')['paper_raw_affiliation_strings']\n",
    "\n",
    "\n",
    "\n",
    "      "
   ]
  },
  {
   "cell_type": "code",
   "execution_count": 69,
   "id": "bc345e0e-04b9-4657-8603-6d99c42be9ab",
   "metadata": {},
   "outputs": [
    {
     "data": {
      "text/plain": [
       "dict"
      ]
     },
     "execution_count": 69,
     "metadata": {},
     "output_type": "execute_result"
    }
   ],
   "source": [
    "type(pap_affils_dict)"
   ]
  },
  {
   "cell_type": "code",
   "execution_count": 70,
   "id": "293ddd8c-7614-4423-b23e-e2f31dd23875",
   "metadata": {},
   "outputs": [],
   "source": [
    "#pap_affils_dict.head()"
   ]
  },
  {
   "cell_type": "code",
   "execution_count": 71,
   "id": "e7b5ffe1-73d5-4d1d-a3d9-4ad88bc4e63d",
   "metadata": {},
   "outputs": [],
   "source": [
    "pap_authors_dict = dftriple.groupby('paper_id')['paper_author_display_name'].apply(lambda x: x.values)"
   ]
  },
  {
   "cell_type": "code",
   "execution_count": 72,
   "id": "8b9d773b-49ea-4708-9535-b9f21b7f586a",
   "metadata": {},
   "outputs": [
    {
     "data": {
      "text/plain": [
       "paper_id\n",
       "https://openalex.org/W127096118                  [Martine Ceberio, Vladik Kreinovich]\n",
       "https://openalex.org/W1521266393    [Alexandre Blais, Alexandre Blais, Arne L. Gri...\n",
       "https://openalex.org/W1810356272                [Andris Ambainis, Abuzer Yakaryılmaz]\n",
       "https://openalex.org/W2255489834                                     [Sazzad Hossain]\n",
       "https://openalex.org/W2266960184                                      [Guang Ping He]\n",
       "                                                          ...                        \n",
       "https://openalex.org/W4399045763    [Kostas Vilkelis, Antonio L. R. Manesco, Juan ...\n",
       "https://openalex.org/W4399075058    [Kumin Kang, Jaber Derakhshandeh, Christian We...\n",
       "https://openalex.org/W4399107520                          [Mahmud Azam, Steven Rayan]\n",
       "https://openalex.org/W629978956                     [Thomas Vidick, Stephanie Wehner]\n",
       "https://openalex.org/W927852154                            [Tobias Graß, Tobias Graß]\n",
       "Name: paper_author_display_name, Length: 14934, dtype: object"
      ]
     },
     "execution_count": 72,
     "metadata": {},
     "output_type": "execute_result"
    }
   ],
   "source": [
    "pap_authors_dict"
   ]
  },
  {
   "cell_type": "code",
   "execution_count": 73,
   "id": "e58e1f9b-609b-4fe5-bdc4-db471767883c",
   "metadata": {},
   "outputs": [
    {
     "data": {
      "text/plain": [
       "pandas.core.series.Series"
      ]
     },
     "execution_count": 73,
     "metadata": {},
     "output_type": "execute_result"
    }
   ],
   "source": [
    "type(pap_authors_dict)"
   ]
  },
  {
   "cell_type": "code",
   "execution_count": 74,
   "id": "26a73751-32ae-4443-b27b-1465c4aa88bf",
   "metadata": {},
   "outputs": [],
   "source": [
    "#dfinfo.head()"
   ]
  },
  {
   "cell_type": "code",
   "execution_count": 75,
   "id": "4986a661-badc-48c3-8026-4aa9c30e3f21",
   "metadata": {},
   "outputs": [],
   "source": [
    "dfinfo['affil_list'] = dfinfo['id'].map(pap_affils_dict)"
   ]
  },
  {
   "cell_type": "code",
   "execution_count": 76,
   "id": "67305722-f6e0-42b8-8a0c-860227647828",
   "metadata": {},
   "outputs": [
    {
     "data": {
      "text/plain": [
       "['Department of Physics, University of California Berkeley, Berkeley, CA, USA',\n",
       " 'Institute for Theoretical Physics, University of Innsbruck, Innsbruck, Austria',\n",
       " 'Department of Physics and Research Laboratory of Electronics, Massachusetts Institute of Technology, Cambridge, MA, USA',\n",
       " 'Department of Physics, Harvard University, Cambridge, MA, USA']"
      ]
     },
     "execution_count": 76,
     "metadata": {},
     "output_type": "execute_result"
    }
   ],
   "source": [
    "dfinfo['affil_list'].head().iloc[4]"
   ]
  },
  {
   "cell_type": "code",
   "execution_count": 77,
   "id": "2acbed49-c8d6-4ff7-9816-2b079ed4b3ee",
   "metadata": {},
   "outputs": [
    {
     "data": {
      "text/plain": [
       "id                             https://openalex.org/W3180039530\n",
       "affil_list    [Department of Physics, University of Californ...\n",
       "Name: https://openalex.org/W3180039530, dtype: object"
      ]
     },
     "execution_count": 77,
     "metadata": {},
     "output_type": "execute_result"
    }
   ],
   "source": [
    "dfinfo[['id','affil_list']].iloc[4]"
   ]
  },
  {
   "cell_type": "code",
   "execution_count": 78,
   "id": "78267ee8-f9a2-43c2-9590-d032cd6e2d1b",
   "metadata": {},
   "outputs": [],
   "source": [
    "dfinfo['author_list'] = dfinfo['id'].map(pap_authors_dict)"
   ]
  },
  {
   "cell_type": "code",
   "execution_count": 79,
   "id": "01e47f0b-52c2-4520-8579-c659a01b7c8a",
   "metadata": {},
   "outputs": [],
   "source": [
    "dfinfo['wrapped_affil_list'] = dfinfo['affil_list'].apply(str).apply(wrap_it)\n",
    "dfinfo['wrapped_author_list'] = dfinfo['author_list'].apply(str).apply(wrap_it)"
   ]
  },
  {
   "cell_type": "code",
   "execution_count": 80,
   "id": "7091cf03-5d22-4a11-a697-cd290e2f5844",
   "metadata": {},
   "outputs": [],
   "source": [
    "dfinfo['wrapped_keywords'] = dfinfo['keywords'].apply(str).apply(wrap_it)"
   ]
  },
  {
   "cell_type": "code",
   "execution_count": 81,
   "id": "6299166a-c735-409a-a32a-c58379d58fd5",
   "metadata": {},
   "outputs": [
    {
     "data": {
      "text/plain": [
       "[{'is_oa': False,\n",
       "  'landing_page_url': 'https://doi.org/10.1038/s41586-021-04292-7',\n",
       "  'pdf_url': None,\n",
       "  'source': {'id': 'https://openalex.org/S137773608',\n",
       "   'display_name': 'Nature',\n",
       "   'issn_l': '0028-0836',\n",
       "   'issn': ['0028-0836', '1476-4687'],\n",
       "   'is_oa': False,\n",
       "   'is_in_doaj': False,\n",
       "   'host_organization': 'https://openalex.org/P4310319908',\n",
       "   'host_organization_name': 'Nature Portfolio',\n",
       "   'host_organization_lineage': ['https://openalex.org/P4310319908',\n",
       "    'https://openalex.org/P4310319965'],\n",
       "   'host_organization_lineage_names': ['Nature Portfolio', 'Springer Nature'],\n",
       "   'type': 'journal'},\n",
       "  'license': None,\n",
       "  'license_id': None,\n",
       "  'version': None,\n",
       "  'is_accepted': False,\n",
       "  'is_published': False},\n",
       " {'is_oa': False,\n",
       "  'landing_page_url': 'https://hal.science/hal-04023390',\n",
       "  'pdf_url': None,\n",
       "  'source': {'id': 'https://openalex.org/S4306402512',\n",
       "   'display_name': 'HAL (Le Centre pour la Communication Scientifique Directe)',\n",
       "   'issn_l': None,\n",
       "   'issn': None,\n",
       "   'is_oa': True,\n",
       "   'is_in_doaj': False,\n",
       "   'host_organization': 'https://openalex.org/I1294671590',\n",
       "   'host_organization_name': 'French National Centre for Scientific Research',\n",
       "   'host_organization_lineage': ['https://openalex.org/I1294671590'],\n",
       "   'host_organization_lineage_names': ['French National Centre for Scientific Research'],\n",
       "   'type': 'repository'},\n",
       "  'license': None,\n",
       "  'license_id': None,\n",
       "  'version': None,\n",
       "  'is_accepted': False,\n",
       "  'is_published': False},\n",
       " {'is_oa': True,\n",
       "  'landing_page_url': 'https://arxiv.org/abs/2106.03082',\n",
       "  'pdf_url': 'https://arxiv.org/pdf/2106.03082',\n",
       "  'source': {'id': 'https://openalex.org/S4306400194',\n",
       "   'display_name': 'arXiv (Cornell University)',\n",
       "   'issn_l': None,\n",
       "   'issn': None,\n",
       "   'is_oa': True,\n",
       "   'is_in_doaj': False,\n",
       "   'host_organization': 'https://openalex.org/I205783295',\n",
       "   'host_organization_name': 'Cornell University',\n",
       "   'host_organization_lineage': ['https://openalex.org/I205783295'],\n",
       "   'host_organization_lineage_names': ['Cornell University'],\n",
       "   'type': 'repository'},\n",
       "  'license': None,\n",
       "  'license_id': None,\n",
       "  'version': 'submittedVersion',\n",
       "  'is_accepted': False,\n",
       "  'is_published': False},\n",
       " {'is_oa': True,\n",
       "  'landing_page_url': 'https://www.osti.gov/biblio/1841674',\n",
       "  'pdf_url': None,\n",
       "  'source': {'id': 'https://openalex.org/S4306402487',\n",
       "   'display_name': 'OSTI OAI (U.S. Department of Energy Office of Scientific and Technical Information)',\n",
       "   'issn_l': None,\n",
       "   'issn': None,\n",
       "   'is_oa': True,\n",
       "   'is_in_doaj': False,\n",
       "   'host_organization': 'https://openalex.org/I139351228',\n",
       "   'host_organization_name': 'Office of Scientific and Technical Information',\n",
       "   'host_organization_lineage': ['https://openalex.org/I139351228'],\n",
       "   'host_organization_lineage_names': ['Office of Scientific and Technical Information'],\n",
       "   'type': 'repository'},\n",
       "  'license': None,\n",
       "  'license_id': None,\n",
       "  'version': 'submittedVersion',\n",
       "  'is_accepted': False,\n",
       "  'is_published': False},\n",
       " {'is_oa': False,\n",
       "  'landing_page_url': 'https://pubmed.ncbi.nlm.nih.gov/35046601',\n",
       "  'pdf_url': None,\n",
       "  'source': {'id': 'https://openalex.org/S4306525036',\n",
       "   'display_name': 'PubMed',\n",
       "   'issn_l': None,\n",
       "   'issn': None,\n",
       "   'is_oa': False,\n",
       "   'is_in_doaj': False,\n",
       "   'host_organization': 'https://openalex.org/I1299303238',\n",
       "   'host_organization_name': 'National Institutes of Health',\n",
       "   'host_organization_lineage': ['https://openalex.org/I1299303238'],\n",
       "   'host_organization_lineage_names': ['National Institutes of Health'],\n",
       "   'type': 'repository'},\n",
       "  'license': None,\n",
       "  'license_id': None,\n",
       "  'version': None,\n",
       "  'is_accepted': False,\n",
       "  'is_published': False},\n",
       " {'is_oa': False,\n",
       "  'landing_page_url': 'https://api.datacite.org/dois/10.48550/arxiv.2106.03082',\n",
       "  'pdf_url': None,\n",
       "  'source': {'id': 'https://openalex.org/S4393179698',\n",
       "   'display_name': 'DataCite API',\n",
       "   'issn_l': None,\n",
       "   'issn': None,\n",
       "   'is_oa': True,\n",
       "   'is_in_doaj': False,\n",
       "   'host_organization': 'https://openalex.org/I4210145204',\n",
       "   'host_organization_name': 'DataCite',\n",
       "   'host_organization_lineage': ['https://openalex.org/I4210145204'],\n",
       "   'host_organization_lineage_names': ['DataCite'],\n",
       "   'type': 'metadata'},\n",
       "  'license': None,\n",
       "  'license_id': None,\n",
       "  'version': None}]"
      ]
     },
     "execution_count": 81,
     "metadata": {},
     "output_type": "execute_result"
    }
   ],
   "source": [
    "dfinfo['locations'].iloc[69]"
   ]
  },
  {
   "cell_type": "code",
   "execution_count": 82,
   "id": "78dcda6a-8c64-4033-92e5-cb4825533c73",
   "metadata": {},
   "outputs": [],
   "source": [
    "def get_source_name(loc_list):\n",
    "    \"\"\"\n",
    "    grab the first item in the list;\n",
    "    retturn the display name\n",
    "    \"\"\"\n",
    "    try:\n",
    "        primary = loc_list[0]\n",
    "        return primary[\"source\"][\"display_name\"]\n",
    "    except:\n",
    "        return None\n",
    "\n",
    "def get_source_type(loc_list):\n",
    "    \"\"\"\n",
    "    grab the first item in the list;\n",
    "    return the source type\n",
    "    \"\"\"\n",
    "    try:\n",
    "        primary = loc_list[0]\n",
    "        return primary[\"source\"][\"type\"]\n",
    "    except:\n",
    "        return None"
   ]
  },
  {
   "cell_type": "code",
   "execution_count": 83,
   "id": "2cee0f66-32e9-407d-b133-3c4124753a4c",
   "metadata": {},
   "outputs": [],
   "source": [
    "dfinfo[\"source\"] = dfinfo[\"locations\"].apply(get_source_name)\n",
    "dfinfo[\"source_type\"] = dfinfo[\"locations\"].apply(get_source_type)"
   ]
  },
  {
   "cell_type": "code",
   "execution_count": 84,
   "id": "3135598e-d7e3-42da-8192-2c38c9b7f2d1",
   "metadata": {},
   "outputs": [
    {
     "data": {
      "text/plain": [
       "arXiv (Cornell University)                                              7969\n",
       "Physical review. A/Physical review, A                                    814\n",
       "Physical review letters                                                  435\n",
       "Research Square (Research Square)                                        360\n",
       "Physical review research                                                 344\n",
       "                                                                        ... \n",
       "Eastern-European journal of enterprise technologies                        1\n",
       "Automatisierungstechnik                                                    1\n",
       "Journal of applied science and technology trends                           1\n",
       "Izvestiâ Tulʹskogo gosudarstvennogo universiteta. Nauki o Zemle            1\n",
       "International Journal of Applied Mathematics and Theoretical Physics       1\n",
       "Name: source, Length: 1817, dtype: int64"
      ]
     },
     "execution_count": 84,
     "metadata": {},
     "output_type": "execute_result"
    }
   ],
   "source": [
    "dfinfo[\"source\"].value_counts()\n"
   ]
  },
  {
   "cell_type": "code",
   "execution_count": 85,
   "id": "d575c1df-5f7b-4101-895e-63106e231e2e",
   "metadata": {},
   "outputs": [
    {
     "data": {
      "text/plain": [
       "journal           10416\n",
       "repository         8554\n",
       "book series         845\n",
       "conference          825\n",
       "ebook platform      311\n",
       "Name: source_type, dtype: int64"
      ]
     },
     "execution_count": 85,
     "metadata": {},
     "output_type": "execute_result"
    }
   ],
   "source": [
    "dfinfo[\"source_type\"].value_counts()"
   ]
  },
  {
   "cell_type": "code",
   "execution_count": 86,
   "id": "93694e1a-2be8-4f1e-b47f-7d810521511e",
   "metadata": {},
   "outputs": [
    {
     "data": {
      "text/html": [
       "<div>\n",
       "<style scoped>\n",
       "    .dataframe tbody tr th:only-of-type {\n",
       "        vertical-align: middle;\n",
       "    }\n",
       "\n",
       "    .dataframe tbody tr th {\n",
       "        vertical-align: top;\n",
       "    }\n",
       "\n",
       "    .dataframe thead th {\n",
       "        text-align: right;\n",
       "    }\n",
       "</style>\n",
       "<table border=\"1\" class=\"dataframe\">\n",
       "  <thead>\n",
       "    <tr style=\"text-align: right;\">\n",
       "      <th></th>\n",
       "      <th>x</th>\n",
       "      <th>y</th>\n",
       "      <th>id</th>\n",
       "      <th>title</th>\n",
       "      <th>doi</th>\n",
       "      <th>cluster</th>\n",
       "      <th>probability</th>\n",
       "      <th>publication_date</th>\n",
       "      <th>grants</th>\n",
       "      <th>locations</th>\n",
       "      <th>keywords</th>\n",
       "      <th>top_concepts</th>\n",
       "      <th>affil_list</th>\n",
       "      <th>author_list</th>\n",
       "      <th>wrapped_affil_list</th>\n",
       "      <th>wrapped_author_list</th>\n",
       "      <th>wrapped_keywords</th>\n",
       "      <th>source</th>\n",
       "      <th>source_type</th>\n",
       "    </tr>\n",
       "    <tr>\n",
       "      <th>id</th>\n",
       "      <th></th>\n",
       "      <th></th>\n",
       "      <th></th>\n",
       "      <th></th>\n",
       "      <th></th>\n",
       "      <th></th>\n",
       "      <th></th>\n",
       "      <th></th>\n",
       "      <th></th>\n",
       "      <th></th>\n",
       "      <th></th>\n",
       "      <th></th>\n",
       "      <th></th>\n",
       "      <th></th>\n",
       "      <th></th>\n",
       "      <th></th>\n",
       "      <th></th>\n",
       "      <th></th>\n",
       "      <th></th>\n",
       "    </tr>\n",
       "  </thead>\n",
       "  <tbody>\n",
       "    <tr>\n",
       "      <th>https://openalex.org/W4312694312</th>\n",
       "      <td>3.787957</td>\n",
       "      <td>-3.481215</td>\n",
       "      <td>https://openalex.org/W4312694312</td>\n",
       "      <td>Quantum Multi-Agent Reinforcement Learning via...</td>\n",
       "      <td>https://doi.org/10.1109/icdcs54860.2022.00151</td>\n",
       "      <td>105</td>\n",
       "      <td>0.560145</td>\n",
       "      <td>2022-07-01</td>\n",
       "      <td>[{'funder': 'https://openalex.org/F4320320671'...</td>\n",
       "      <td>[{'is_oa': False, 'landing_page_url': 'https:/...</td>\n",
       "      <td>[Quantum Circuit Design, Variational Quantum C...</td>\n",
       "      <td>[Reinforcement learning, Computer science, Qua...</td>\n",
       "      <td>[Korea University,School of Electrical Enginee...</td>\n",
       "      <td>[Won Joon Yun, Yunseok Kwak, Jae Pyoung Kim, H...</td>\n",
       "      <td>['Korea University,School of Electrical&lt;br&gt;Eng...</td>\n",
       "      <td>['Won Joon Yun' 'Yunseok Kwak' 'Jae&lt;br&gt;Pyoung ...</td>\n",
       "      <td>['Quantum Circuit Design', 'Variational&lt;br&gt;Qua...</td>\n",
       "      <td>2022 IEEE 42nd International Conference on Dis...</td>\n",
       "      <td>conference</td>\n",
       "    </tr>\n",
       "    <tr>\n",
       "      <th>https://openalex.org/W3169143252</th>\n",
       "      <td>1.752588</td>\n",
       "      <td>-3.548632</td>\n",
       "      <td>https://openalex.org/W3169143252</td>\n",
       "      <td>Quantum Federated Learning with Quantum Data</td>\n",
       "      <td>https://doi.org/10.1109/icassp43922.2022.9746622</td>\n",
       "      <td>20</td>\n",
       "      <td>1.000000</td>\n",
       "      <td>2022-05-23</td>\n",
       "      <td>[{'funder': 'https://openalex.org/F4320306076'...</td>\n",
       "      <td>[{'is_oa': False, 'landing_page_url': 'https:/...</td>\n",
       "      <td>[Quantum Federated Learning, Quantum, Quantum ...</td>\n",
       "      <td>[Computer science, Quantum machine learning, Q...</td>\n",
       "      <td>[Bradley Department of Electrical and Computer...</td>\n",
       "      <td>[Mahdi Chehimi, Walid Saad]</td>\n",
       "      <td>['Bradley Department of Electrical and&lt;br&gt;Comp...</td>\n",
       "      <td>['Mahdi Chehimi' 'Walid Saad']</td>\n",
       "      <td>['Quantum Federated Learning',&lt;br&gt;'Quantum', '...</td>\n",
       "      <td>ICASSP 2022 - 2022 IEEE International Conferen...</td>\n",
       "      <td>conference</td>\n",
       "    </tr>\n",
       "    <tr>\n",
       "      <th>https://openalex.org/W4220687857</th>\n",
       "      <td>7.925788</td>\n",
       "      <td>1.517570</td>\n",
       "      <td>https://openalex.org/W4220687857</td>\n",
       "      <td>A Cryo-CMOS Low-Power Semi-Autonomous Qubit St...</td>\n",
       "      <td>https://doi.org/10.1109/isscc42614.2022.9731538</td>\n",
       "      <td>99</td>\n",
       "      <td>1.000000</td>\n",
       "      <td>2022-02-20</td>\n",
       "      <td>[]</td>\n",
       "      <td>[{'is_oa': False, 'landing_page_url': 'https:/...</td>\n",
       "      <td>[Qubit State Controller, Cryo-CMOS Low-Power S...</td>\n",
       "      <td>[Qubit, Quantum computer]</td>\n",
       "      <td>[IBM T.J.Watson Research Center, Yorktown Heig...</td>\n",
       "      <td>[D.J. Frank, Sudipto Chakraborty, Kevin Tien, ...</td>\n",
       "      <td>['IBM T.J.Watson Research Center,&lt;br&gt;Yorktown ...</td>\n",
       "      <td>['D.J. Frank' 'Sudipto Chakraborty'&lt;br&gt;'Kevin ...</td>\n",
       "      <td>['Qubit State Controller', 'Cryo-CMOS&lt;br&gt;Low-P...</td>\n",
       "      <td>2022 IEEE International Solid- State Circuits ...</td>\n",
       "      <td>conference</td>\n",
       "    </tr>\n",
       "    <tr>\n",
       "      <th>https://openalex.org/W3205418336</th>\n",
       "      <td>2.399632</td>\n",
       "      <td>-4.659279</td>\n",
       "      <td>https://openalex.org/W3205418336</td>\n",
       "      <td>Classical-To-Quantum Transfer Learning for Spo...</td>\n",
       "      <td>https://doi.org/10.1109/icassp43922.2022.9747636</td>\n",
       "      <td>107</td>\n",
       "      <td>0.509931</td>\n",
       "      <td>2022-05-23</td>\n",
       "      <td>[]</td>\n",
       "      <td>[{'is_oa': False, 'landing_page_url': 'https:/...</td>\n",
       "      <td>[Command Recognition Based, Spoken Command Rec...</td>\n",
       "      <td>[Computer science]</td>\n",
       "      <td>[Electrical and Computer Engineering, Georgia ...</td>\n",
       "      <td>[Jun Qi, Javier Tejedor]</td>\n",
       "      <td>['Electrical and Computer Engineering,&lt;br&gt;Geor...</td>\n",
       "      <td>['Jun Qi' 'Javier Tejedor']</td>\n",
       "      <td>['Command Recognition Based', 'Spoken&lt;br&gt;Comma...</td>\n",
       "      <td>ICASSP 2022 - 2022 IEEE International Conferen...</td>\n",
       "      <td>conference</td>\n",
       "    </tr>\n",
       "    <tr>\n",
       "      <th>https://openalex.org/W4302888899</th>\n",
       "      <td>3.399366</td>\n",
       "      <td>-0.863298</td>\n",
       "      <td>https://openalex.org/W4302888899</td>\n",
       "      <td>Evolution of Quantum Computing: A Systematic S...</td>\n",
       "      <td>https://doi.org/10.1109/compsac54236.2022.00096</td>\n",
       "      <td>127</td>\n",
       "      <td>0.778360</td>\n",
       "      <td>2022-06-01</td>\n",
       "      <td>[{'funder': 'https://openalex.org/F4320306076'...</td>\n",
       "      <td>[{'is_oa': False, 'landing_page_url': 'https:/...</td>\n",
       "      <td>[Quantum Computing, Quantum, quantum Computing...</td>\n",
       "      <td>[Quantum computer, Computer science]</td>\n",
       "      <td>[Department Computer Science, Kennesaw State U...</td>\n",
       "      <td>[Paramita Basak Upama, Md Jobair Hossain Faruk...</td>\n",
       "      <td>['Department Computer Science, Kennesaw&lt;br&gt;Sta...</td>\n",
       "      <td>['Paramita Basak Upama' 'Md Jobair&lt;br&gt;Hossain ...</td>\n",
       "      <td>['Quantum Computing', 'Quantum',&lt;br&gt;'quantum C...</td>\n",
       "      <td>2022 IEEE 46th Annual Computers, Software, and...</td>\n",
       "      <td>conference</td>\n",
       "    </tr>\n",
       "    <tr>\n",
       "      <th>...</th>\n",
       "      <td>...</td>\n",
       "      <td>...</td>\n",
       "      <td>...</td>\n",
       "      <td>...</td>\n",
       "      <td>...</td>\n",
       "      <td>...</td>\n",
       "      <td>...</td>\n",
       "      <td>...</td>\n",
       "      <td>...</td>\n",
       "      <td>...</td>\n",
       "      <td>...</td>\n",
       "      <td>...</td>\n",
       "      <td>...</td>\n",
       "      <td>...</td>\n",
       "      <td>...</td>\n",
       "      <td>...</td>\n",
       "      <td>...</td>\n",
       "      <td>...</td>\n",
       "      <td>...</td>\n",
       "    </tr>\n",
       "    <tr>\n",
       "      <th>https://openalex.org/W4315815732</th>\n",
       "      <td>-1.055946</td>\n",
       "      <td>0.914968</td>\n",
       "      <td>https://openalex.org/W4315815732</td>\n",
       "      <td>PVCLS-SI: Isogeny-based Certificateless Signat...</td>\n",
       "      <td>https://doi.org/10.1109/icicn56848.2022.10006501</td>\n",
       "      <td>-1</td>\n",
       "      <td>0.000000</td>\n",
       "      <td>2022-08-23</td>\n",
       "      <td>[{'funder': 'https://openalex.org/F4320320885'...</td>\n",
       "      <td>[{'is_oa': False, 'landing_page_url': 'https:/...</td>\n",
       "      <td>[Certificateless Signature Scheme, Isogeny-bas...</td>\n",
       "      <td>[Signature (topology), Public-key cryptography]</td>\n",
       "      <td>[School of Mathematical Sciences, Peking Unive...</td>\n",
       "      <td>[Li Li, Mingzhen Xu]</td>\n",
       "      <td>['School of Mathematical Sciences,&lt;br&gt;Peking U...</td>\n",
       "      <td>['Li Li' 'Mingzhen Xu']</td>\n",
       "      <td>['Certificateless Signature Scheme',&lt;br&gt;'Isoge...</td>\n",
       "      <td>2022 IEEE 10th International Conference on Inf...</td>\n",
       "      <td>conference</td>\n",
       "    </tr>\n",
       "    <tr>\n",
       "      <th>https://openalex.org/W4286317122</th>\n",
       "      <td>-1.238062</td>\n",
       "      <td>0.331286</td>\n",
       "      <td>https://openalex.org/W4286317122</td>\n",
       "      <td>Elliptic curve cryptography</td>\n",
       "      <td>https://doi.org/10.1117/12.2628220</td>\n",
       "      <td>17</td>\n",
       "      <td>1.000000</td>\n",
       "      <td>2022-04-22</td>\n",
       "      <td>[]</td>\n",
       "      <td>[{'is_oa': False, 'landing_page_url': 'https:/...</td>\n",
       "      <td>[elliptic curve cryptosystem, Elliptic curve, ...</td>\n",
       "      <td>[Elliptic curve cryptography]</td>\n",
       "      <td>[Univ. of Glasgow (United Kingdom)]</td>\n",
       "      <td>[Yiqiao Liu]</td>\n",
       "      <td>['Univ. of Glasgow (United Kingdom)']</td>\n",
       "      <td>['Yiqiao Liu']</td>\n",
       "      <td>['elliptic curve cryptosystem',&lt;br&gt;'Elliptic c...</td>\n",
       "      <td>International Conference on Statistics, Applie...</td>\n",
       "      <td>conference</td>\n",
       "    </tr>\n",
       "    <tr>\n",
       "      <th>https://openalex.org/W4309969684</th>\n",
       "      <td>-0.732619</td>\n",
       "      <td>1.219810</td>\n",
       "      <td>https://openalex.org/W4309969684</td>\n",
       "      <td>Improving Key Size and Bit-Security of Modifie...</td>\n",
       "      <td>https://doi.org/10.1109/ictc55196.2022.9952368</td>\n",
       "      <td>38</td>\n",
       "      <td>1.000000</td>\n",
       "      <td>2022-10-19</td>\n",
       "      <td>[{'funder': 'https://openalex.org/F4320324891'...</td>\n",
       "      <td>[{'is_oa': False, 'landing_page_url': 'https:/...</td>\n",
       "      <td>[Modified pqsigRM, NIST PQC standardization, I...</td>\n",
       "      <td>[Computer science, Public-key cryptography, Ke...</td>\n",
       "      <td>[Samsung Advanced Institute of Technology, Sam...</td>\n",
       "      <td>[Jinkyu Cho, Yong‐Woo Lee, Zahyun Koo, Jong‐Se...</td>\n",
       "      <td>['Samsung Advanced Institute of&lt;br&gt;Technology,...</td>\n",
       "      <td>['Jinkyu Cho' 'Yong‐Woo Lee' 'Zahyun&lt;br&gt;Koo' '...</td>\n",
       "      <td>['Modified pqsigRM', 'NIST PQC&lt;br&gt;standardizat...</td>\n",
       "      <td>2022 13th International Conference on Informat...</td>\n",
       "      <td>conference</td>\n",
       "    </tr>\n",
       "    <tr>\n",
       "      <th>https://openalex.org/W4312344459</th>\n",
       "      <td>-1.903094</td>\n",
       "      <td>1.105029</td>\n",
       "      <td>https://openalex.org/W4312344459</td>\n",
       "      <td>High-Speed Hardware Architecture for Post-Quan...</td>\n",
       "      <td>https://doi.org/10.1109/iscas48785.2022.9937804</td>\n",
       "      <td>38</td>\n",
       "      <td>1.000000</td>\n",
       "      <td>2022-05-28</td>\n",
       "      <td>[]</td>\n",
       "      <td>[{'is_oa': False, 'landing_page_url': 'https:/...</td>\n",
       "      <td>[Hellman Key Exchange, Key Exchange Based, Res...</td>\n",
       "      <td>[Isogeny, Key exchange, Computer science]</td>\n",
       "      <td>[Tohoku University, Katahira 2&amp;#x2013;1&amp;#x2013...</td>\n",
       "      <td>[Rei Ueno, Naofumi Homma]</td>\n",
       "      <td>['Tohoku University, Katahira 2&amp;#x2013;1&lt;br&gt;&amp;#...</td>\n",
       "      <td>['Rei Ueno' 'Naofumi Homma']</td>\n",
       "      <td>['Hellman Key Exchange', 'Key Exchange&lt;br&gt;Base...</td>\n",
       "      <td>2022 IEEE International Symposium on Circuits ...</td>\n",
       "      <td>conference</td>\n",
       "    </tr>\n",
       "    <tr>\n",
       "      <th>https://openalex.org/W4313315675</th>\n",
       "      <td>-0.842186</td>\n",
       "      <td>1.076830</td>\n",
       "      <td>https://openalex.org/W4313315675</td>\n",
       "      <td>Blind Signature Scheme Based on QC-MDPC Codes</td>\n",
       "      <td>https://doi.org/10.1109/nana56854.2022.00086</td>\n",
       "      <td>38</td>\n",
       "      <td>1.000000</td>\n",
       "      <td>2022-12-01</td>\n",
       "      <td>[]</td>\n",
       "      <td>[{'is_oa': False, 'landing_page_url': 'https:/...</td>\n",
       "      <td>[Signature Scheme Based, Blind Signature Schem...</td>\n",
       "      <td>[Blind signature, Signature (topology), Merkle...</td>\n",
       "      <td>[School of Automation and Software, Shanxi Uni...</td>\n",
       "      <td>[Fang Ren, Haiyan Xiu, Gao An-qi, Xuan Shi]</td>\n",
       "      <td>['School of Automation and Software,&lt;br&gt;Shanxi...</td>\n",
       "      <td>['Fang Ren' 'Haiyan Xiu' 'Gao An-qi'&lt;br&gt;'Xuan ...</td>\n",
       "      <td>['Signature Scheme Based', 'Blind&lt;br&gt;Signature...</td>\n",
       "      <td>2022 International Conference on Networking an...</td>\n",
       "      <td>conference</td>\n",
       "    </tr>\n",
       "  </tbody>\n",
       "</table>\n",
       "<p>825 rows × 19 columns</p>\n",
       "</div>"
      ],
      "text/plain": [
       "                                         x         y  \\\n",
       "id                                                     \n",
       "https://openalex.org/W4312694312  3.787957 -3.481215   \n",
       "https://openalex.org/W3169143252  1.752588 -3.548632   \n",
       "https://openalex.org/W4220687857  7.925788  1.517570   \n",
       "https://openalex.org/W3205418336  2.399632 -4.659279   \n",
       "https://openalex.org/W4302888899  3.399366 -0.863298   \n",
       "...                                    ...       ...   \n",
       "https://openalex.org/W4315815732 -1.055946  0.914968   \n",
       "https://openalex.org/W4286317122 -1.238062  0.331286   \n",
       "https://openalex.org/W4309969684 -0.732619  1.219810   \n",
       "https://openalex.org/W4312344459 -1.903094  1.105029   \n",
       "https://openalex.org/W4313315675 -0.842186  1.076830   \n",
       "\n",
       "                                                                id  \\\n",
       "id                                                                   \n",
       "https://openalex.org/W4312694312  https://openalex.org/W4312694312   \n",
       "https://openalex.org/W3169143252  https://openalex.org/W3169143252   \n",
       "https://openalex.org/W4220687857  https://openalex.org/W4220687857   \n",
       "https://openalex.org/W3205418336  https://openalex.org/W3205418336   \n",
       "https://openalex.org/W4302888899  https://openalex.org/W4302888899   \n",
       "...                                                            ...   \n",
       "https://openalex.org/W4315815732  https://openalex.org/W4315815732   \n",
       "https://openalex.org/W4286317122  https://openalex.org/W4286317122   \n",
       "https://openalex.org/W4309969684  https://openalex.org/W4309969684   \n",
       "https://openalex.org/W4312344459  https://openalex.org/W4312344459   \n",
       "https://openalex.org/W4313315675  https://openalex.org/W4313315675   \n",
       "\n",
       "                                                                              title  \\\n",
       "id                                                                                    \n",
       "https://openalex.org/W4312694312  Quantum Multi-Agent Reinforcement Learning via...   \n",
       "https://openalex.org/W3169143252       Quantum Federated Learning with Quantum Data   \n",
       "https://openalex.org/W4220687857  A Cryo-CMOS Low-Power Semi-Autonomous Qubit St...   \n",
       "https://openalex.org/W3205418336  Classical-To-Quantum Transfer Learning for Spo...   \n",
       "https://openalex.org/W4302888899  Evolution of Quantum Computing: A Systematic S...   \n",
       "...                                                                             ...   \n",
       "https://openalex.org/W4315815732  PVCLS-SI: Isogeny-based Certificateless Signat...   \n",
       "https://openalex.org/W4286317122                        Elliptic curve cryptography   \n",
       "https://openalex.org/W4309969684  Improving Key Size and Bit-Security of Modifie...   \n",
       "https://openalex.org/W4312344459  High-Speed Hardware Architecture for Post-Quan...   \n",
       "https://openalex.org/W4313315675      Blind Signature Scheme Based on QC-MDPC Codes   \n",
       "\n",
       "                                                                               doi  \\\n",
       "id                                                                                   \n",
       "https://openalex.org/W4312694312     https://doi.org/10.1109/icdcs54860.2022.00151   \n",
       "https://openalex.org/W3169143252  https://doi.org/10.1109/icassp43922.2022.9746622   \n",
       "https://openalex.org/W4220687857   https://doi.org/10.1109/isscc42614.2022.9731538   \n",
       "https://openalex.org/W3205418336  https://doi.org/10.1109/icassp43922.2022.9747636   \n",
       "https://openalex.org/W4302888899   https://doi.org/10.1109/compsac54236.2022.00096   \n",
       "...                                                                            ...   \n",
       "https://openalex.org/W4315815732  https://doi.org/10.1109/icicn56848.2022.10006501   \n",
       "https://openalex.org/W4286317122                https://doi.org/10.1117/12.2628220   \n",
       "https://openalex.org/W4309969684    https://doi.org/10.1109/ictc55196.2022.9952368   \n",
       "https://openalex.org/W4312344459   https://doi.org/10.1109/iscas48785.2022.9937804   \n",
       "https://openalex.org/W4313315675      https://doi.org/10.1109/nana56854.2022.00086   \n",
       "\n",
       "                                  cluster  probability publication_date  \\\n",
       "id                                                                        \n",
       "https://openalex.org/W4312694312      105     0.560145       2022-07-01   \n",
       "https://openalex.org/W3169143252       20     1.000000       2022-05-23   \n",
       "https://openalex.org/W4220687857       99     1.000000       2022-02-20   \n",
       "https://openalex.org/W3205418336      107     0.509931       2022-05-23   \n",
       "https://openalex.org/W4302888899      127     0.778360       2022-06-01   \n",
       "...                                   ...          ...              ...   \n",
       "https://openalex.org/W4315815732       -1     0.000000       2022-08-23   \n",
       "https://openalex.org/W4286317122       17     1.000000       2022-04-22   \n",
       "https://openalex.org/W4309969684       38     1.000000       2022-10-19   \n",
       "https://openalex.org/W4312344459       38     1.000000       2022-05-28   \n",
       "https://openalex.org/W4313315675       38     1.000000       2022-12-01   \n",
       "\n",
       "                                                                             grants  \\\n",
       "id                                                                                    \n",
       "https://openalex.org/W4312694312  [{'funder': 'https://openalex.org/F4320320671'...   \n",
       "https://openalex.org/W3169143252  [{'funder': 'https://openalex.org/F4320306076'...   \n",
       "https://openalex.org/W4220687857                                                 []   \n",
       "https://openalex.org/W3205418336                                                 []   \n",
       "https://openalex.org/W4302888899  [{'funder': 'https://openalex.org/F4320306076'...   \n",
       "...                                                                             ...   \n",
       "https://openalex.org/W4315815732  [{'funder': 'https://openalex.org/F4320320885'...   \n",
       "https://openalex.org/W4286317122                                                 []   \n",
       "https://openalex.org/W4309969684  [{'funder': 'https://openalex.org/F4320324891'...   \n",
       "https://openalex.org/W4312344459                                                 []   \n",
       "https://openalex.org/W4313315675                                                 []   \n",
       "\n",
       "                                                                          locations  \\\n",
       "id                                                                                    \n",
       "https://openalex.org/W4312694312  [{'is_oa': False, 'landing_page_url': 'https:/...   \n",
       "https://openalex.org/W3169143252  [{'is_oa': False, 'landing_page_url': 'https:/...   \n",
       "https://openalex.org/W4220687857  [{'is_oa': False, 'landing_page_url': 'https:/...   \n",
       "https://openalex.org/W3205418336  [{'is_oa': False, 'landing_page_url': 'https:/...   \n",
       "https://openalex.org/W4302888899  [{'is_oa': False, 'landing_page_url': 'https:/...   \n",
       "...                                                                             ...   \n",
       "https://openalex.org/W4315815732  [{'is_oa': False, 'landing_page_url': 'https:/...   \n",
       "https://openalex.org/W4286317122  [{'is_oa': False, 'landing_page_url': 'https:/...   \n",
       "https://openalex.org/W4309969684  [{'is_oa': False, 'landing_page_url': 'https:/...   \n",
       "https://openalex.org/W4312344459  [{'is_oa': False, 'landing_page_url': 'https:/...   \n",
       "https://openalex.org/W4313315675  [{'is_oa': False, 'landing_page_url': 'https:/...   \n",
       "\n",
       "                                                                           keywords  \\\n",
       "id                                                                                    \n",
       "https://openalex.org/W4312694312  [Quantum Circuit Design, Variational Quantum C...   \n",
       "https://openalex.org/W3169143252  [Quantum Federated Learning, Quantum, Quantum ...   \n",
       "https://openalex.org/W4220687857  [Qubit State Controller, Cryo-CMOS Low-Power S...   \n",
       "https://openalex.org/W3205418336  [Command Recognition Based, Spoken Command Rec...   \n",
       "https://openalex.org/W4302888899  [Quantum Computing, Quantum, quantum Computing...   \n",
       "...                                                                             ...   \n",
       "https://openalex.org/W4315815732  [Certificateless Signature Scheme, Isogeny-bas...   \n",
       "https://openalex.org/W4286317122  [elliptic curve cryptosystem, Elliptic curve, ...   \n",
       "https://openalex.org/W4309969684  [Modified pqsigRM, NIST PQC standardization, I...   \n",
       "https://openalex.org/W4312344459  [Hellman Key Exchange, Key Exchange Based, Res...   \n",
       "https://openalex.org/W4313315675  [Signature Scheme Based, Blind Signature Schem...   \n",
       "\n",
       "                                                                       top_concepts  \\\n",
       "id                                                                                    \n",
       "https://openalex.org/W4312694312  [Reinforcement learning, Computer science, Qua...   \n",
       "https://openalex.org/W3169143252  [Computer science, Quantum machine learning, Q...   \n",
       "https://openalex.org/W4220687857                          [Qubit, Quantum computer]   \n",
       "https://openalex.org/W3205418336                                 [Computer science]   \n",
       "https://openalex.org/W4302888899               [Quantum computer, Computer science]   \n",
       "...                                                                             ...   \n",
       "https://openalex.org/W4315815732    [Signature (topology), Public-key cryptography]   \n",
       "https://openalex.org/W4286317122                      [Elliptic curve cryptography]   \n",
       "https://openalex.org/W4309969684  [Computer science, Public-key cryptography, Ke...   \n",
       "https://openalex.org/W4312344459          [Isogeny, Key exchange, Computer science]   \n",
       "https://openalex.org/W4313315675  [Blind signature, Signature (topology), Merkle...   \n",
       "\n",
       "                                                                         affil_list  \\\n",
       "id                                                                                    \n",
       "https://openalex.org/W4312694312  [Korea University,School of Electrical Enginee...   \n",
       "https://openalex.org/W3169143252  [Bradley Department of Electrical and Computer...   \n",
       "https://openalex.org/W4220687857  [IBM T.J.Watson Research Center, Yorktown Heig...   \n",
       "https://openalex.org/W3205418336  [Electrical and Computer Engineering, Georgia ...   \n",
       "https://openalex.org/W4302888899  [Department Computer Science, Kennesaw State U...   \n",
       "...                                                                             ...   \n",
       "https://openalex.org/W4315815732  [School of Mathematical Sciences, Peking Unive...   \n",
       "https://openalex.org/W4286317122                [Univ. of Glasgow (United Kingdom)]   \n",
       "https://openalex.org/W4309969684  [Samsung Advanced Institute of Technology, Sam...   \n",
       "https://openalex.org/W4312344459  [Tohoku University, Katahira 2&#x2013;1&#x2013...   \n",
       "https://openalex.org/W4313315675  [School of Automation and Software, Shanxi Uni...   \n",
       "\n",
       "                                                                        author_list  \\\n",
       "id                                                                                    \n",
       "https://openalex.org/W4312694312  [Won Joon Yun, Yunseok Kwak, Jae Pyoung Kim, H...   \n",
       "https://openalex.org/W3169143252                        [Mahdi Chehimi, Walid Saad]   \n",
       "https://openalex.org/W4220687857  [D.J. Frank, Sudipto Chakraborty, Kevin Tien, ...   \n",
       "https://openalex.org/W3205418336                           [Jun Qi, Javier Tejedor]   \n",
       "https://openalex.org/W4302888899  [Paramita Basak Upama, Md Jobair Hossain Faruk...   \n",
       "...                                                                             ...   \n",
       "https://openalex.org/W4315815732                               [Li Li, Mingzhen Xu]   \n",
       "https://openalex.org/W4286317122                                       [Yiqiao Liu]   \n",
       "https://openalex.org/W4309969684  [Jinkyu Cho, Yong‐Woo Lee, Zahyun Koo, Jong‐Se...   \n",
       "https://openalex.org/W4312344459                          [Rei Ueno, Naofumi Homma]   \n",
       "https://openalex.org/W4313315675        [Fang Ren, Haiyan Xiu, Gao An-qi, Xuan Shi]   \n",
       "\n",
       "                                                                 wrapped_affil_list  \\\n",
       "id                                                                                    \n",
       "https://openalex.org/W4312694312  ['Korea University,School of Electrical<br>Eng...   \n",
       "https://openalex.org/W3169143252  ['Bradley Department of Electrical and<br>Comp...   \n",
       "https://openalex.org/W4220687857  ['IBM T.J.Watson Research Center,<br>Yorktown ...   \n",
       "https://openalex.org/W3205418336  ['Electrical and Computer Engineering,<br>Geor...   \n",
       "https://openalex.org/W4302888899  ['Department Computer Science, Kennesaw<br>Sta...   \n",
       "...                                                                             ...   \n",
       "https://openalex.org/W4315815732  ['School of Mathematical Sciences,<br>Peking U...   \n",
       "https://openalex.org/W4286317122              ['Univ. of Glasgow (United Kingdom)']   \n",
       "https://openalex.org/W4309969684  ['Samsung Advanced Institute of<br>Technology,...   \n",
       "https://openalex.org/W4312344459  ['Tohoku University, Katahira 2&#x2013;1<br>&#...   \n",
       "https://openalex.org/W4313315675  ['School of Automation and Software,<br>Shanxi...   \n",
       "\n",
       "                                                                wrapped_author_list  \\\n",
       "id                                                                                    \n",
       "https://openalex.org/W4312694312  ['Won Joon Yun' 'Yunseok Kwak' 'Jae<br>Pyoung ...   \n",
       "https://openalex.org/W3169143252                     ['Mahdi Chehimi' 'Walid Saad']   \n",
       "https://openalex.org/W4220687857  ['D.J. Frank' 'Sudipto Chakraborty'<br>'Kevin ...   \n",
       "https://openalex.org/W3205418336                        ['Jun Qi' 'Javier Tejedor']   \n",
       "https://openalex.org/W4302888899  ['Paramita Basak Upama' 'Md Jobair<br>Hossain ...   \n",
       "...                                                                             ...   \n",
       "https://openalex.org/W4315815732                            ['Li Li' 'Mingzhen Xu']   \n",
       "https://openalex.org/W4286317122                                     ['Yiqiao Liu']   \n",
       "https://openalex.org/W4309969684  ['Jinkyu Cho' 'Yong‐Woo Lee' 'Zahyun<br>Koo' '...   \n",
       "https://openalex.org/W4312344459                       ['Rei Ueno' 'Naofumi Homma']   \n",
       "https://openalex.org/W4313315675  ['Fang Ren' 'Haiyan Xiu' 'Gao An-qi'<br>'Xuan ...   \n",
       "\n",
       "                                                                   wrapped_keywords  \\\n",
       "id                                                                                    \n",
       "https://openalex.org/W4312694312  ['Quantum Circuit Design', 'Variational<br>Qua...   \n",
       "https://openalex.org/W3169143252  ['Quantum Federated Learning',<br>'Quantum', '...   \n",
       "https://openalex.org/W4220687857  ['Qubit State Controller', 'Cryo-CMOS<br>Low-P...   \n",
       "https://openalex.org/W3205418336  ['Command Recognition Based', 'Spoken<br>Comma...   \n",
       "https://openalex.org/W4302888899  ['Quantum Computing', 'Quantum',<br>'quantum C...   \n",
       "...                                                                             ...   \n",
       "https://openalex.org/W4315815732  ['Certificateless Signature Scheme',<br>'Isoge...   \n",
       "https://openalex.org/W4286317122  ['elliptic curve cryptosystem',<br>'Elliptic c...   \n",
       "https://openalex.org/W4309969684  ['Modified pqsigRM', 'NIST PQC<br>standardizat...   \n",
       "https://openalex.org/W4312344459  ['Hellman Key Exchange', 'Key Exchange<br>Base...   \n",
       "https://openalex.org/W4313315675  ['Signature Scheme Based', 'Blind<br>Signature...   \n",
       "\n",
       "                                                                             source  \\\n",
       "id                                                                                    \n",
       "https://openalex.org/W4312694312  2022 IEEE 42nd International Conference on Dis...   \n",
       "https://openalex.org/W3169143252  ICASSP 2022 - 2022 IEEE International Conferen...   \n",
       "https://openalex.org/W4220687857  2022 IEEE International Solid- State Circuits ...   \n",
       "https://openalex.org/W3205418336  ICASSP 2022 - 2022 IEEE International Conferen...   \n",
       "https://openalex.org/W4302888899  2022 IEEE 46th Annual Computers, Software, and...   \n",
       "...                                                                             ...   \n",
       "https://openalex.org/W4315815732  2022 IEEE 10th International Conference on Inf...   \n",
       "https://openalex.org/W4286317122  International Conference on Statistics, Applie...   \n",
       "https://openalex.org/W4309969684  2022 13th International Conference on Informat...   \n",
       "https://openalex.org/W4312344459  2022 IEEE International Symposium on Circuits ...   \n",
       "https://openalex.org/W4313315675  2022 International Conference on Networking an...   \n",
       "\n",
       "                                 source_type  \n",
       "id                                            \n",
       "https://openalex.org/W4312694312  conference  \n",
       "https://openalex.org/W3169143252  conference  \n",
       "https://openalex.org/W4220687857  conference  \n",
       "https://openalex.org/W3205418336  conference  \n",
       "https://openalex.org/W4302888899  conference  \n",
       "...                                      ...  \n",
       "https://openalex.org/W4315815732  conference  \n",
       "https://openalex.org/W4286317122  conference  \n",
       "https://openalex.org/W4309969684  conference  \n",
       "https://openalex.org/W4312344459  conference  \n",
       "https://openalex.org/W4313315675  conference  \n",
       "\n",
       "[825 rows x 19 columns]"
      ]
     },
     "execution_count": 86,
     "metadata": {},
     "output_type": "execute_result"
    }
   ],
   "source": [
    "dfinfo[dfinfo[\"source_type\"] == \"conference\"]"
   ]
  },
  {
   "cell_type": "code",
   "execution_count": 87,
   "id": "8c205ff2-eb59-44bd-8854-f36ed290ec40",
   "metadata": {},
   "outputs": [
    {
     "data": {
      "text/plain": [
       "Index(['x', 'y', 'id', 'title', 'doi', 'cluster', 'probability',\n",
       "       'publication_date', 'grants', 'locations', 'keywords', 'top_concepts',\n",
       "       'affil_list', 'author_list', 'wrapped_affil_list',\n",
       "       'wrapped_author_list', 'wrapped_keywords', 'source', 'source_type'],\n",
       "      dtype='object')"
      ]
     },
     "execution_count": 87,
     "metadata": {},
     "output_type": "execute_result"
    }
   ],
   "source": [
    "dfinfo.columns"
   ]
  },
  {
   "cell_type": "code",
   "execution_count": 88,
   "id": "3348d76b-2ff7-4529-b924-c27f7a531637",
   "metadata": {},
   "outputs": [
    {
     "data": {
      "text/plain": [
       "Index(['id', 'display_name', 'ror', 'country_code', 'type', 'lineage',\n",
       "       'paper_id', 'paper_raw_affiliation_strings', 'paper_author_position',\n",
       "       'paper_doi', 'paper_title', 'paper_abstract', 'paper_publication_date',\n",
       "       'paper_publication_year', 'paper_grants', 'paper_locations',\n",
       "       'paper_is_corrresponding', 'paper_x', 'paper_y', 'paper_cluster',\n",
       "       'paper_cluster_score', 'paper_author_id', 'paper_author_display_name',\n",
       "       'paper_author_orcid'],\n",
       "      dtype='object')"
      ]
     },
     "execution_count": 88,
     "metadata": {},
     "output_type": "execute_result"
    }
   ],
   "source": [
    "dftriple.columns"
   ]
  },
  {
   "cell_type": "code",
   "execution_count": 89,
   "id": "d4735f0a-755f-48b3-b718-434a98cfb714",
   "metadata": {},
   "outputs": [],
   "source": [
    "dfinfo.to_pickle('updatejammingdfinfo2d.pkl')"
   ]
  },
  {
   "cell_type": "code",
   "execution_count": 90,
   "id": "596ccc0d-2a4c-4e53-9fbd-af0c23e21662",
   "metadata": {},
   "outputs": [],
   "source": [
    "#dftriple['paper_grants'].value_counts()"
   ]
  },
  {
   "cell_type": "code",
   "execution_count": 91,
   "id": "4bd44115-01e1-4360-8c89-0c79763a9b80",
   "metadata": {},
   "outputs": [],
   "source": [
    "def get_funder_names(funder_list):\n",
    "    \"\"\"\n",
    "    funder_list is a list of dictionaries\n",
    "    with three keys; return the list of \n",
    "    unique **funder_display_name**\n",
    "    values\n",
    "    \"\"\"\n",
    "    try:\n",
    "        funder_names = list(set([f['funder_display_name'] for f in funder_list]))\n",
    "        return funder_names    \n",
    "    except:\n",
    "        return []\n",
    "        "
   ]
  },
  {
   "cell_type": "code",
   "execution_count": 92,
   "id": "23a331d8-159b-4de8-ae61-a517b8ff447a",
   "metadata": {},
   "outputs": [],
   "source": [
    "dftriple[\"source\"] = dftriple[\"paper_locations\"].apply(get_source_name)\n",
    "dftriple[\"source_type\"] = dftriple[\"paper_locations\"].apply(get_source_type)\n",
    "dftriple[\"funder_list\"] = dftriple[\"paper_grants\"].apply(get_funder_names)"
   ]
  },
  {
   "cell_type": "code",
   "execution_count": 93,
   "id": "34f5e4fc-5764-41c8-ab8e-cc76b0cf6fc0",
   "metadata": {},
   "outputs": [],
   "source": [
    "dftriple.to_pickle('updatejammingdftriple2d.pkl')"
   ]
  },
  {
   "cell_type": "code",
   "execution_count": 94,
   "id": "1c59efd2-8dad-4fbe-a73a-28847d01bee8",
   "metadata": {},
   "outputs": [
    {
     "data": {
      "text/plain": [
       "Physical review. A/Physical review, A                                                                  4637\n",
       "Physical review letters                                                                                4293\n",
       "arXiv (Cornell University)                                                                             2440\n",
       "Physical review applied                                                                                2281\n",
       "Research Square (Research Square)                                                                      2188\n",
       "                                                                                                       ... \n",
       "2021 IEEE Conference on Control Technology and Applications (CCTA)                                        1\n",
       "2022 12th International Conference on Advanced Computer Information Technologies (ACIT)                   1\n",
       "Iskusstvennye obŝestva                                                                                    1\n",
       "International Journal For Multidisciplinary Research                                                      1\n",
       "2022 Sixth International Conference on I-SMAC (IoT in Social, Mobile, Analytics and Cloud) (I-SMAC)       1\n",
       "Name: source, Length: 1555, dtype: int64"
      ]
     },
     "execution_count": 94,
     "metadata": {},
     "output_type": "execute_result"
    }
   ],
   "source": [
    "dftriple['source'].value_counts()"
   ]
  },
  {
   "cell_type": "code",
   "execution_count": 95,
   "id": "639cdd1b-c80b-4b5f-9357-8e9477108918",
   "metadata": {},
   "outputs": [
    {
     "data": {
      "text/plain": [
       "journal           59519\n",
       "repository         5392\n",
       "conference         4208\n",
       "book series        2594\n",
       "ebook platform      419\n",
       "Name: source_type, dtype: int64"
      ]
     },
     "execution_count": 95,
     "metadata": {},
     "output_type": "execute_result"
    }
   ],
   "source": [
    "dftriple['source_type'].value_counts()"
   ]
  },
  {
   "cell_type": "code",
   "execution_count": 96,
   "id": "1af8a493-ae0f-42fb-9bec-1fb312c7044b",
   "metadata": {},
   "outputs": [],
   "source": [
    "def get_journals_cluster_sort(dc:pd.DataFrame, cl:int):\n",
    "    \"\"\"\n",
    "    restricts the dataframe dc to cluster value cl\n",
    "    and returns the results grouped by source (where\n",
    "    source_type == 'journal') sorted\n",
    "    by the some of probablity descending\n",
    "    \"\"\"\n",
    "    dg = dc[dc['paper_cluster'] == cl].copy()\n",
    "    print(cl)\n",
    "    dv = dg[dg['source_type'] == 'journal'].groupby(['source'])['paper_cluster_score'].sum().to_frame()\n",
    "    dv.sort_values('paper_cluster_score', ascending=False, inplace=True)\n",
    "    kw = centroids[centroids.cluster == cl]['keywords'].iloc[0]\n",
    "    return dv, kw"
   ]
  },
  {
   "cell_type": "code",
   "execution_count": 97,
   "id": "9d9aec7b-6e9f-446f-b5b2-1e28c3f28095",
   "metadata": {},
   "outputs": [],
   "source": [
    "def get_conferences_cluster_sort(dc:pd.DataFrame, cl:int):\n",
    "    \"\"\"\n",
    "    restricts the dataframe dc to cluster value cl\n",
    "    and returns the results grouped by source (where\n",
    "    source_type == 'journal') sorted\n",
    "    by the some of probablity descending\n",
    "    \"\"\"\n",
    "    dg = dc[dc['paper_cluster'] == cl].copy()\n",
    "    print(cl)\n",
    "    dv = dg[dg['source_type'] == 'conference'].groupby(['source'])['paper_cluster_score'].sum().to_frame()\n",
    "    dv.sort_values('paper_cluster_score', ascending=False, inplace=True)\n",
    "    kw = centroids[centroids.cluster == cl]['keywords'].iloc[0]\n",
    "    return dv, kw"
   ]
  },
  {
   "cell_type": "code",
   "execution_count": 98,
   "id": "a42c645c-6cce-44fe-98d9-62e81bb50818",
   "metadata": {},
   "outputs": [
    {
     "name": "stdout",
     "output_type": "stream",
     "text": [
      "1\n",
      "['Annual Meeting', 'Division of Atomic', 'APS Division', 'Optical Physics', 'Molecular and Optical', 'Presenter Help Desk', 'Virtual Presenter', 'June', 'USA', 'optical', 'Annual', 'Atomic', 'Molecular', 'Orlando', 'Desk', 'Meeting', 'APS', 'Division', 'Physics', 'Virtual']\n"
     ]
    },
    {
     "data": {
      "text/html": [
       "<div>\n",
       "<style scoped>\n",
       "    .dataframe tbody tr th:only-of-type {\n",
       "        vertical-align: middle;\n",
       "    }\n",
       "\n",
       "    .dataframe tbody tr th {\n",
       "        vertical-align: top;\n",
       "    }\n",
       "\n",
       "    .dataframe thead th {\n",
       "        text-align: right;\n",
       "    }\n",
       "</style>\n",
       "<table border=\"1\" class=\"dataframe\">\n",
       "  <thead>\n",
       "    <tr style=\"text-align: right;\">\n",
       "      <th></th>\n",
       "      <th>paper_cluster_score</th>\n",
       "    </tr>\n",
       "    <tr>\n",
       "      <th>source</th>\n",
       "      <th></th>\n",
       "    </tr>\n",
       "  </thead>\n",
       "  <tbody>\n",
       "  </tbody>\n",
       "</table>\n",
       "</div>"
      ],
      "text/plain": [
       "Empty DataFrame\n",
       "Columns: [paper_cluster_score]\n",
       "Index: []"
      ]
     },
     "execution_count": 98,
     "metadata": {},
     "output_type": "execute_result"
    }
   ],
   "source": [
    "dv84, kw84 = get_journals_cluster_sort(dftriple, 1)\n",
    "print(kw84)\n",
    "dv84.head(10)"
   ]
  },
  {
   "cell_type": "markdown",
   "id": "0dbd9657-b667-4217-8cde-6eca51c0c7f7",
   "metadata": {},
   "source": [
    "# Country - Country Collaborations\n",
    "\n",
    "want to report back though which countries are involved as well. ok."
   ]
  },
  {
   "cell_type": "code",
   "execution_count": 99,
   "id": "b4c839a2-b4b3-4279-b283-19c7d5d8b674",
   "metadata": {},
   "outputs": [],
   "source": [
    "def get_country_collaborations_sort(dc:pd.DataFrame, cl:int):\n",
    "    \"\"\"\n",
    "    resticts the dataframe dc to cluster value cl\n",
    "    and returns the results of paper_id s where there is \n",
    "    more than one country_code\n",
    "    \"\"\"\n",
    "    dg = dc[dc['paper_cluster'] == cl].copy()\n",
    "    dv = dg.groupby('paper_id')['country_code'].apply(lambda x: len(set(x.values))).to_frame()\n",
    "    dc = dg.groupby('paper_id')['country_code'].apply(lambda x: list(set(x.values))).to_frame()\n",
    "    dc.columns = ['collab_countries']\n",
    "    dv.columns = ['country_count']\n",
    "    dv['collab_countries'] = dc['collab_countries']\n",
    "    dv.sort_values('country_count',ascending=False, inplace=True)\n",
    "    di = dfinfo.loc[dv.index].copy()\n",
    "    di['country_count'] = dv['country_count']\n",
    "    di['collab_countries'] = dv['collab_countries']\n",
    "    return di[di['country_count'] > 1]"
   ]
  },
  {
   "cell_type": "code",
   "execution_count": 100,
   "id": "b8caf662-ec45-4118-a633-4995954480c4",
   "metadata": {},
   "outputs": [
    {
     "data": {
      "text/html": [
       "<div>\n",
       "<style scoped>\n",
       "    .dataframe tbody tr th:only-of-type {\n",
       "        vertical-align: middle;\n",
       "    }\n",
       "\n",
       "    .dataframe tbody tr th {\n",
       "        vertical-align: top;\n",
       "    }\n",
       "\n",
       "    .dataframe thead th {\n",
       "        text-align: right;\n",
       "    }\n",
       "</style>\n",
       "<table border=\"1\" class=\"dataframe\">\n",
       "  <thead>\n",
       "    <tr style=\"text-align: right;\">\n",
       "      <th></th>\n",
       "      <th>x</th>\n",
       "      <th>y</th>\n",
       "      <th>id</th>\n",
       "      <th>title</th>\n",
       "      <th>doi</th>\n",
       "      <th>cluster</th>\n",
       "      <th>probability</th>\n",
       "      <th>publication_date</th>\n",
       "      <th>grants</th>\n",
       "      <th>locations</th>\n",
       "      <th>...</th>\n",
       "      <th>top_concepts</th>\n",
       "      <th>affil_list</th>\n",
       "      <th>author_list</th>\n",
       "      <th>wrapped_affil_list</th>\n",
       "      <th>wrapped_author_list</th>\n",
       "      <th>wrapped_keywords</th>\n",
       "      <th>source</th>\n",
       "      <th>source_type</th>\n",
       "      <th>country_count</th>\n",
       "      <th>collab_countries</th>\n",
       "    </tr>\n",
       "    <tr>\n",
       "      <th>paper_id</th>\n",
       "      <th></th>\n",
       "      <th></th>\n",
       "      <th></th>\n",
       "      <th></th>\n",
       "      <th></th>\n",
       "      <th></th>\n",
       "      <th></th>\n",
       "      <th></th>\n",
       "      <th></th>\n",
       "      <th></th>\n",
       "      <th></th>\n",
       "      <th></th>\n",
       "      <th></th>\n",
       "      <th></th>\n",
       "      <th></th>\n",
       "      <th></th>\n",
       "      <th></th>\n",
       "      <th></th>\n",
       "      <th></th>\n",
       "      <th></th>\n",
       "      <th></th>\n",
       "    </tr>\n",
       "  </thead>\n",
       "  <tbody>\n",
       "    <tr>\n",
       "      <th>https://openalex.org/W4285294174</th>\n",
       "      <td>-0.466672</td>\n",
       "      <td>7.741816</td>\n",
       "      <td>https://openalex.org/W4285294174</td>\n",
       "      <td>Quantum-Musical Explorations on $$\\mathbb {Z}_n$$</td>\n",
       "      <td>https://doi.org/10.1007/978-3-031-07015-0_32</td>\n",
       "      <td>0</td>\n",
       "      <td>1.0</td>\n",
       "      <td>2022-01-01</td>\n",
       "      <td>[]</td>\n",
       "      <td>[{'is_oa': False, 'landing_page_url': 'https:/...</td>\n",
       "      <td>...</td>\n",
       "      <td>[]</td>\n",
       "      <td>[Bernstein Center for Computational Neuroscien...</td>\n",
       "      <td>[Thomas Noll, Peter beim Graben]</td>\n",
       "      <td>['Bernstein Center for Computational&lt;br&gt;Neuros...</td>\n",
       "      <td>['Thomas Noll' 'Peter beim Graben']</td>\n",
       "      <td>['Quantum-Musical Explorations',&lt;br&gt;'Quantum H...</td>\n",
       "      <td>Lecture notes in computer science</td>\n",
       "      <td>book series</td>\n",
       "      <td>2</td>\n",
       "      <td>[ES, DE]</td>\n",
       "    </tr>\n",
       "  </tbody>\n",
       "</table>\n",
       "<p>1 rows × 21 columns</p>\n",
       "</div>"
      ],
      "text/plain": [
       "                                         x         y  \\\n",
       "paper_id                                               \n",
       "https://openalex.org/W4285294174 -0.466672  7.741816   \n",
       "\n",
       "                                                                id  \\\n",
       "paper_id                                                             \n",
       "https://openalex.org/W4285294174  https://openalex.org/W4285294174   \n",
       "\n",
       "                                                                              title  \\\n",
       "paper_id                                                                              \n",
       "https://openalex.org/W4285294174  Quantum-Musical Explorations on $$\\mathbb {Z}_n$$   \n",
       "\n",
       "                                                                           doi  \\\n",
       "paper_id                                                                         \n",
       "https://openalex.org/W4285294174  https://doi.org/10.1007/978-3-031-07015-0_32   \n",
       "\n",
       "                                  cluster  probability publication_date  \\\n",
       "paper_id                                                                  \n",
       "https://openalex.org/W4285294174        0          1.0       2022-01-01   \n",
       "\n",
       "                                 grants  \\\n",
       "paper_id                                  \n",
       "https://openalex.org/W4285294174     []   \n",
       "\n",
       "                                                                          locations  \\\n",
       "paper_id                                                                              \n",
       "https://openalex.org/W4285294174  [{'is_oa': False, 'landing_page_url': 'https:/...   \n",
       "\n",
       "                                  ... top_concepts  \\\n",
       "paper_id                          ...                \n",
       "https://openalex.org/W4285294174  ...           []   \n",
       "\n",
       "                                                                         affil_list  \\\n",
       "paper_id                                                                              \n",
       "https://openalex.org/W4285294174  [Bernstein Center for Computational Neuroscien...   \n",
       "\n",
       "                                                       author_list  \\\n",
       "paper_id                                                             \n",
       "https://openalex.org/W4285294174  [Thomas Noll, Peter beim Graben]   \n",
       "\n",
       "                                                                 wrapped_affil_list  \\\n",
       "paper_id                                                                              \n",
       "https://openalex.org/W4285294174  ['Bernstein Center for Computational<br>Neuros...   \n",
       "\n",
       "                                                  wrapped_author_list  \\\n",
       "paper_id                                                                \n",
       "https://openalex.org/W4285294174  ['Thomas Noll' 'Peter beim Graben']   \n",
       "\n",
       "                                                                   wrapped_keywords  \\\n",
       "paper_id                                                                              \n",
       "https://openalex.org/W4285294174  ['Quantum-Musical Explorations',<br>'Quantum H...   \n",
       "\n",
       "                                                             source  \\\n",
       "paper_id                                                              \n",
       "https://openalex.org/W4285294174  Lecture notes in computer science   \n",
       "\n",
       "                                  source_type country_count  collab_countries  \n",
       "paper_id                                                                       \n",
       "https://openalex.org/W4285294174  book series             2          [ES, DE]  \n",
       "\n",
       "[1 rows x 21 columns]"
      ]
     },
     "execution_count": 100,
     "metadata": {},
     "output_type": "execute_result"
    }
   ],
   "source": [
    "dv = get_country_collaborations_sort(dftriple, 0)\n",
    "dv"
   ]
  },
  {
   "cell_type": "code",
   "execution_count": 101,
   "id": "c7b5b266-ff32-43c4-9b2c-29dc921e031a",
   "metadata": {},
   "outputs": [
    {
     "data": {
      "text/html": [
       "<div>\n",
       "<style scoped>\n",
       "    .dataframe tbody tr th:only-of-type {\n",
       "        vertical-align: middle;\n",
       "    }\n",
       "\n",
       "    .dataframe tbody tr th {\n",
       "        vertical-align: top;\n",
       "    }\n",
       "\n",
       "    .dataframe thead th {\n",
       "        text-align: right;\n",
       "    }\n",
       "</style>\n",
       "<table border=\"1\" class=\"dataframe\">\n",
       "  <thead>\n",
       "    <tr style=\"text-align: right;\">\n",
       "      <th></th>\n",
       "      <th>x</th>\n",
       "      <th>y</th>\n",
       "      <th>id</th>\n",
       "      <th>title</th>\n",
       "      <th>doi</th>\n",
       "      <th>cluster</th>\n",
       "      <th>probability</th>\n",
       "      <th>publication_date</th>\n",
       "      <th>grants</th>\n",
       "      <th>locations</th>\n",
       "      <th>keywords</th>\n",
       "      <th>top_concepts</th>\n",
       "      <th>affil_list</th>\n",
       "      <th>author_list</th>\n",
       "      <th>wrapped_affil_list</th>\n",
       "      <th>wrapped_author_list</th>\n",
       "      <th>wrapped_keywords</th>\n",
       "      <th>source</th>\n",
       "      <th>source_type</th>\n",
       "    </tr>\n",
       "    <tr>\n",
       "      <th>id</th>\n",
       "      <th></th>\n",
       "      <th></th>\n",
       "      <th></th>\n",
       "      <th></th>\n",
       "      <th></th>\n",
       "      <th></th>\n",
       "      <th></th>\n",
       "      <th></th>\n",
       "      <th></th>\n",
       "      <th></th>\n",
       "      <th></th>\n",
       "      <th></th>\n",
       "      <th></th>\n",
       "      <th></th>\n",
       "      <th></th>\n",
       "      <th></th>\n",
       "      <th></th>\n",
       "      <th></th>\n",
       "      <th></th>\n",
       "    </tr>\n",
       "  </thead>\n",
       "  <tbody>\n",
       "    <tr>\n",
       "      <th>https://openalex.org/W3189250281</th>\n",
       "      <td>6.192506</td>\n",
       "      <td>-3.169462</td>\n",
       "      <td>https://openalex.org/W3189250281</td>\n",
       "      <td>Variational quantum algorithms</td>\n",
       "      <td>https://doi.org/10.1038/s42254-021-00348-9</td>\n",
       "      <td>145</td>\n",
       "      <td>1.000000</td>\n",
       "      <td>2021-08-12</td>\n",
       "      <td>[]</td>\n",
       "      <td>[{'is_oa': False, 'landing_page_url': 'https:/...</td>\n",
       "      <td>[quantum, Variational quantum algorithms, Vari...</td>\n",
       "      <td>[Quantum computer, Computer science, Quantum a...</td>\n",
       "      <td>[Quantum Science Center, Oak Ridge, TN, USA, G...</td>\n",
       "      <td>[M. Cerezo, Andrew Arrasmith, Ryan Babbush, Si...</td>\n",
       "      <td>['Quantum Science Center, Oak Ridge, TN,&lt;br&gt;US...</td>\n",
       "      <td>['M. Cerezo' 'Andrew Arrasmith' 'Ryan&lt;br&gt;Babbu...</td>\n",
       "      <td>['quantum', 'Variational quantum&lt;br&gt;algorithms...</td>\n",
       "      <td>Nature reviews physics</td>\n",
       "      <td>journal</td>\n",
       "    </tr>\n",
       "    <tr>\n",
       "      <th>https://openalex.org/W1521266393</th>\n",
       "      <td>6.635708</td>\n",
       "      <td>2.777389</td>\n",
       "      <td>https://openalex.org/W1521266393</td>\n",
       "      <td>Circuit quantum electrodynamics</td>\n",
       "      <td>https://doi.org/10.1103/revmodphys.93.025005</td>\n",
       "      <td>70</td>\n",
       "      <td>0.665913</td>\n",
       "      <td>2021-05-19</td>\n",
       "      <td>[{'funder': 'https://openalex.org/F4320326644'...</td>\n",
       "      <td>[{'is_oa': False, 'landing_page_url': 'https:/...</td>\n",
       "      <td>[Circuit quantum electrodynamics, quantum elec...</td>\n",
       "      <td>[Physics, Circuit quantum electrodynamics, Cav...</td>\n",
       "      <td>[Institut quantique and Département de Physiqu...</td>\n",
       "      <td>[Alexandre Blais, Alexandre Blais, Arne L. Gri...</td>\n",
       "      <td>['Institut quantique and Département de&lt;br&gt;Phy...</td>\n",
       "      <td>['Alexandre Blais' 'Alexandre Blais'&lt;br&gt;'Arne ...</td>\n",
       "      <td>['Circuit quantum electrodynamics',&lt;br&gt;'quantu...</td>\n",
       "      <td>Reviews of modern physics</td>\n",
       "      <td>journal</td>\n",
       "    </tr>\n",
       "    <tr>\n",
       "      <th>https://openalex.org/W4213212652</th>\n",
       "      <td>5.223140</td>\n",
       "      <td>-0.724157</td>\n",
       "      <td>https://openalex.org/W4213212652</td>\n",
       "      <td>Noisy intermediate-scale quantum algorithms</td>\n",
       "      <td>https://doi.org/10.1103/revmodphys.94.015004</td>\n",
       "      <td>143</td>\n",
       "      <td>0.980064</td>\n",
       "      <td>2022-02-15</td>\n",
       "      <td>[{'funder': 'https://openalex.org/F4320306084'...</td>\n",
       "      <td>[{'is_oa': False, 'landing_page_url': 'https:/...</td>\n",
       "      <td>[Noisy intermediate-scale quantum, intermediat...</td>\n",
       "      <td>[Computer science, Quantum computer, Qubit]</td>\n",
       "      <td>[Centre for Quantum Technologies, National Uni...</td>\n",
       "      <td>[Kishor Bharti, Kishor Bharti, Alba Cervera-Li...</td>\n",
       "      <td>['Centre for Quantum Technologies,&lt;br&gt;National...</td>\n",
       "      <td>['Kishor Bharti' 'Kishor Bharti' 'Alba&lt;br&gt;Cerv...</td>\n",
       "      <td>['Noisy intermediate-scale quantum',&lt;br&gt;'inter...</td>\n",
       "      <td>Reviews of modern physics</td>\n",
       "      <td>journal</td>\n",
       "    </tr>\n",
       "    <tr>\n",
       "      <th>https://openalex.org/W3173899054</th>\n",
       "      <td>5.762541</td>\n",
       "      <td>-0.747414</td>\n",
       "      <td>https://openalex.org/W3173899054</td>\n",
       "      <td>Strong Quantum Computational Advantage Using a...</td>\n",
       "      <td>https://doi.org/10.1103/physrevlett.127.180501</td>\n",
       "      <td>-1</td>\n",
       "      <td>0.000000</td>\n",
       "      <td>2021-10-25</td>\n",
       "      <td>[{'funder': 'https://openalex.org/F4320309612'...</td>\n",
       "      <td>[{'is_oa': False, 'landing_page_url': 'https:/...</td>\n",
       "      <td>[Quantum Computational Advantage, Superconduct...</td>\n",
       "      <td>[Quantum computer, Qubit, Computer science]</td>\n",
       "      <td>[Shanghai Research Center for Quantum Sciences...</td>\n",
       "      <td>[Yulin Wu, Yulin Wu, Yulin Wu, Wan-Su Bao, Shu...</td>\n",
       "      <td>['Shanghai Research Center for Quantum&lt;br&gt;Scie...</td>\n",
       "      <td>['Yulin Wu' 'Yulin Wu' 'Yulin Wu' 'Wan-&lt;br&gt;Su ...</td>\n",
       "      <td>['Quantum Computational Advantage',&lt;br&gt;'Superc...</td>\n",
       "      <td>Physical review letters</td>\n",
       "      <td>journal</td>\n",
       "    </tr>\n",
       "    <tr>\n",
       "      <th>https://openalex.org/W3180039530</th>\n",
       "      <td>8.667332</td>\n",
       "      <td>2.101456</td>\n",
       "      <td>https://openalex.org/W3180039530</td>\n",
       "      <td>Quantum phases of matter on a 256-atom program...</td>\n",
       "      <td>https://doi.org/10.1038/s41586-021-03582-4</td>\n",
       "      <td>78</td>\n",
       "      <td>0.847872</td>\n",
       "      <td>2021-07-07</td>\n",
       "      <td>[]</td>\n",
       "      <td>[{'is_oa': False, 'landing_page_url': 'https:/...</td>\n",
       "      <td>[Quantum, programmable quantum simulator, prog...</td>\n",
       "      <td>[Quantum simulator, Quantum]</td>\n",
       "      <td>[Department of Physics, University of Californ...</td>\n",
       "      <td>[Sepehr Ebadi, Tout T. Wang, Harry Levine, Ale...</td>\n",
       "      <td>['Department of Physics, University of&lt;br&gt;Cali...</td>\n",
       "      <td>['Sepehr Ebadi' 'Tout T. Wang' 'Harry&lt;br&gt;Levin...</td>\n",
       "      <td>['Quantum', 'programmable quantum&lt;br&gt;simulator...</td>\n",
       "      <td>Nature</td>\n",
       "      <td>journal</td>\n",
       "    </tr>\n",
       "  </tbody>\n",
       "</table>\n",
       "</div>"
      ],
      "text/plain": [
       "                                         x         y  \\\n",
       "id                                                     \n",
       "https://openalex.org/W3189250281  6.192506 -3.169462   \n",
       "https://openalex.org/W1521266393  6.635708  2.777389   \n",
       "https://openalex.org/W4213212652  5.223140 -0.724157   \n",
       "https://openalex.org/W3173899054  5.762541 -0.747414   \n",
       "https://openalex.org/W3180039530  8.667332  2.101456   \n",
       "\n",
       "                                                                id  \\\n",
       "id                                                                   \n",
       "https://openalex.org/W3189250281  https://openalex.org/W3189250281   \n",
       "https://openalex.org/W1521266393  https://openalex.org/W1521266393   \n",
       "https://openalex.org/W4213212652  https://openalex.org/W4213212652   \n",
       "https://openalex.org/W3173899054  https://openalex.org/W3173899054   \n",
       "https://openalex.org/W3180039530  https://openalex.org/W3180039530   \n",
       "\n",
       "                                                                              title  \\\n",
       "id                                                                                    \n",
       "https://openalex.org/W3189250281                     Variational quantum algorithms   \n",
       "https://openalex.org/W1521266393                    Circuit quantum electrodynamics   \n",
       "https://openalex.org/W4213212652        Noisy intermediate-scale quantum algorithms   \n",
       "https://openalex.org/W3173899054  Strong Quantum Computational Advantage Using a...   \n",
       "https://openalex.org/W3180039530  Quantum phases of matter on a 256-atom program...   \n",
       "\n",
       "                                                                             doi  \\\n",
       "id                                                                                 \n",
       "https://openalex.org/W3189250281      https://doi.org/10.1038/s42254-021-00348-9   \n",
       "https://openalex.org/W1521266393    https://doi.org/10.1103/revmodphys.93.025005   \n",
       "https://openalex.org/W4213212652    https://doi.org/10.1103/revmodphys.94.015004   \n",
       "https://openalex.org/W3173899054  https://doi.org/10.1103/physrevlett.127.180501   \n",
       "https://openalex.org/W3180039530      https://doi.org/10.1038/s41586-021-03582-4   \n",
       "\n",
       "                                  cluster  probability publication_date  \\\n",
       "id                                                                        \n",
       "https://openalex.org/W3189250281      145     1.000000       2021-08-12   \n",
       "https://openalex.org/W1521266393       70     0.665913       2021-05-19   \n",
       "https://openalex.org/W4213212652      143     0.980064       2022-02-15   \n",
       "https://openalex.org/W3173899054       -1     0.000000       2021-10-25   \n",
       "https://openalex.org/W3180039530       78     0.847872       2021-07-07   \n",
       "\n",
       "                                                                             grants  \\\n",
       "id                                                                                    \n",
       "https://openalex.org/W3189250281                                                 []   \n",
       "https://openalex.org/W1521266393  [{'funder': 'https://openalex.org/F4320326644'...   \n",
       "https://openalex.org/W4213212652  [{'funder': 'https://openalex.org/F4320306084'...   \n",
       "https://openalex.org/W3173899054  [{'funder': 'https://openalex.org/F4320309612'...   \n",
       "https://openalex.org/W3180039530                                                 []   \n",
       "\n",
       "                                                                          locations  \\\n",
       "id                                                                                    \n",
       "https://openalex.org/W3189250281  [{'is_oa': False, 'landing_page_url': 'https:/...   \n",
       "https://openalex.org/W1521266393  [{'is_oa': False, 'landing_page_url': 'https:/...   \n",
       "https://openalex.org/W4213212652  [{'is_oa': False, 'landing_page_url': 'https:/...   \n",
       "https://openalex.org/W3173899054  [{'is_oa': False, 'landing_page_url': 'https:/...   \n",
       "https://openalex.org/W3180039530  [{'is_oa': False, 'landing_page_url': 'https:/...   \n",
       "\n",
       "                                                                           keywords  \\\n",
       "id                                                                                    \n",
       "https://openalex.org/W3189250281  [quantum, Variational quantum algorithms, Vari...   \n",
       "https://openalex.org/W1521266393  [Circuit quantum electrodynamics, quantum elec...   \n",
       "https://openalex.org/W4213212652  [Noisy intermediate-scale quantum, intermediat...   \n",
       "https://openalex.org/W3173899054  [Quantum Computational Advantage, Superconduct...   \n",
       "https://openalex.org/W3180039530  [Quantum, programmable quantum simulator, prog...   \n",
       "\n",
       "                                                                       top_concepts  \\\n",
       "id                                                                                    \n",
       "https://openalex.org/W3189250281  [Quantum computer, Computer science, Quantum a...   \n",
       "https://openalex.org/W1521266393  [Physics, Circuit quantum electrodynamics, Cav...   \n",
       "https://openalex.org/W4213212652        [Computer science, Quantum computer, Qubit]   \n",
       "https://openalex.org/W3173899054        [Quantum computer, Qubit, Computer science]   \n",
       "https://openalex.org/W3180039530                       [Quantum simulator, Quantum]   \n",
       "\n",
       "                                                                         affil_list  \\\n",
       "id                                                                                    \n",
       "https://openalex.org/W3189250281  [Quantum Science Center, Oak Ridge, TN, USA, G...   \n",
       "https://openalex.org/W1521266393  [Institut quantique and Département de Physiqu...   \n",
       "https://openalex.org/W4213212652  [Centre for Quantum Technologies, National Uni...   \n",
       "https://openalex.org/W3173899054  [Shanghai Research Center for Quantum Sciences...   \n",
       "https://openalex.org/W3180039530  [Department of Physics, University of Californ...   \n",
       "\n",
       "                                                                        author_list  \\\n",
       "id                                                                                    \n",
       "https://openalex.org/W3189250281  [M. Cerezo, Andrew Arrasmith, Ryan Babbush, Si...   \n",
       "https://openalex.org/W1521266393  [Alexandre Blais, Alexandre Blais, Arne L. Gri...   \n",
       "https://openalex.org/W4213212652  [Kishor Bharti, Kishor Bharti, Alba Cervera-Li...   \n",
       "https://openalex.org/W3173899054  [Yulin Wu, Yulin Wu, Yulin Wu, Wan-Su Bao, Shu...   \n",
       "https://openalex.org/W3180039530  [Sepehr Ebadi, Tout T. Wang, Harry Levine, Ale...   \n",
       "\n",
       "                                                                 wrapped_affil_list  \\\n",
       "id                                                                                    \n",
       "https://openalex.org/W3189250281  ['Quantum Science Center, Oak Ridge, TN,<br>US...   \n",
       "https://openalex.org/W1521266393  ['Institut quantique and Département de<br>Phy...   \n",
       "https://openalex.org/W4213212652  ['Centre for Quantum Technologies,<br>National...   \n",
       "https://openalex.org/W3173899054  ['Shanghai Research Center for Quantum<br>Scie...   \n",
       "https://openalex.org/W3180039530  ['Department of Physics, University of<br>Cali...   \n",
       "\n",
       "                                                                wrapped_author_list  \\\n",
       "id                                                                                    \n",
       "https://openalex.org/W3189250281  ['M. Cerezo' 'Andrew Arrasmith' 'Ryan<br>Babbu...   \n",
       "https://openalex.org/W1521266393  ['Alexandre Blais' 'Alexandre Blais'<br>'Arne ...   \n",
       "https://openalex.org/W4213212652  ['Kishor Bharti' 'Kishor Bharti' 'Alba<br>Cerv...   \n",
       "https://openalex.org/W3173899054  ['Yulin Wu' 'Yulin Wu' 'Yulin Wu' 'Wan-<br>Su ...   \n",
       "https://openalex.org/W3180039530  ['Sepehr Ebadi' 'Tout T. Wang' 'Harry<br>Levin...   \n",
       "\n",
       "                                                                   wrapped_keywords  \\\n",
       "id                                                                                    \n",
       "https://openalex.org/W3189250281  ['quantum', 'Variational quantum<br>algorithms...   \n",
       "https://openalex.org/W1521266393  ['Circuit quantum electrodynamics',<br>'quantu...   \n",
       "https://openalex.org/W4213212652  ['Noisy intermediate-scale quantum',<br>'inter...   \n",
       "https://openalex.org/W3173899054  ['Quantum Computational Advantage',<br>'Superc...   \n",
       "https://openalex.org/W3180039530  ['Quantum', 'programmable quantum<br>simulator...   \n",
       "\n",
       "                                                     source source_type  \n",
       "id                                                                       \n",
       "https://openalex.org/W3189250281     Nature reviews physics     journal  \n",
       "https://openalex.org/W1521266393  Reviews of modern physics     journal  \n",
       "https://openalex.org/W4213212652  Reviews of modern physics     journal  \n",
       "https://openalex.org/W3173899054    Physical review letters     journal  \n",
       "https://openalex.org/W3180039530                     Nature     journal  "
      ]
     },
     "execution_count": 101,
     "metadata": {},
     "output_type": "execute_result"
    }
   ],
   "source": [
    "dfinfo.head()"
   ]
  },
  {
   "cell_type": "code",
   "execution_count": 102,
   "id": "eca37669-d888-45b5-b8d5-c3eba921f2ae",
   "metadata": {},
   "outputs": [
    {
     "data": {
      "text/html": [
       "<div>\n",
       "<style scoped>\n",
       "    .dataframe tbody tr th:only-of-type {\n",
       "        vertical-align: middle;\n",
       "    }\n",
       "\n",
       "    .dataframe tbody tr th {\n",
       "        vertical-align: top;\n",
       "    }\n",
       "\n",
       "    .dataframe thead th {\n",
       "        text-align: right;\n",
       "    }\n",
       "</style>\n",
       "<table border=\"1\" class=\"dataframe\">\n",
       "  <thead>\n",
       "    <tr style=\"text-align: right;\">\n",
       "      <th></th>\n",
       "      <th>id</th>\n",
       "      <th>display_name</th>\n",
       "      <th>ror</th>\n",
       "      <th>country_code</th>\n",
       "      <th>type</th>\n",
       "      <th>lineage</th>\n",
       "      <th>paper_id</th>\n",
       "      <th>paper_raw_affiliation_strings</th>\n",
       "      <th>paper_author_position</th>\n",
       "      <th>paper_doi</th>\n",
       "      <th>...</th>\n",
       "      <th>paper_x</th>\n",
       "      <th>paper_y</th>\n",
       "      <th>paper_cluster</th>\n",
       "      <th>paper_cluster_score</th>\n",
       "      <th>paper_author_id</th>\n",
       "      <th>paper_author_display_name</th>\n",
       "      <th>paper_author_orcid</th>\n",
       "      <th>source</th>\n",
       "      <th>source_type</th>\n",
       "      <th>funder_list</th>\n",
       "    </tr>\n",
       "  </thead>\n",
       "  <tbody>\n",
       "    <tr>\n",
       "      <th>0</th>\n",
       "      <td>https://openalex.org/I1343871089</td>\n",
       "      <td>Los Alamos National Laboratory</td>\n",
       "      <td>https://ror.org/01e41cf67</td>\n",
       "      <td>US</td>\n",
       "      <td>facility</td>\n",
       "      <td>[https://openalex.org/I1330989302, https://ope...</td>\n",
       "      <td>https://openalex.org/W3189250281</td>\n",
       "      <td>[Theoretical Division, Los Alamos National Lab...</td>\n",
       "      <td>first</td>\n",
       "      <td>https://doi.org/10.1038/s42254-021-00348-9</td>\n",
       "      <td>...</td>\n",
       "      <td>6.192506</td>\n",
       "      <td>-3.169462</td>\n",
       "      <td>145</td>\n",
       "      <td>1.0</td>\n",
       "      <td>https://openalex.org/A5074921335</td>\n",
       "      <td>M. Cerezo</td>\n",
       "      <td>https://orcid.org/0000-0002-2757-3170</td>\n",
       "      <td>Nature reviews physics</td>\n",
       "      <td>journal</td>\n",
       "      <td>[]</td>\n",
       "    </tr>\n",
       "    <tr>\n",
       "      <th>1</th>\n",
       "      <td>https://openalex.org/I1343871089</td>\n",
       "      <td>Los Alamos National Laboratory</td>\n",
       "      <td>https://ror.org/01e41cf67</td>\n",
       "      <td>US</td>\n",
       "      <td>facility</td>\n",
       "      <td>[https://openalex.org/I1330989302, https://ope...</td>\n",
       "      <td>https://openalex.org/W3189250281</td>\n",
       "      <td>[Theoretical Division, Los Alamos National Lab...</td>\n",
       "      <td>middle</td>\n",
       "      <td>https://doi.org/10.1038/s42254-021-00348-9</td>\n",
       "      <td>...</td>\n",
       "      <td>6.192506</td>\n",
       "      <td>-3.169462</td>\n",
       "      <td>145</td>\n",
       "      <td>1.0</td>\n",
       "      <td>https://openalex.org/A5065899096</td>\n",
       "      <td>Andrew Arrasmith</td>\n",
       "      <td>https://orcid.org/0000-0003-2674-9370</td>\n",
       "      <td>Nature reviews physics</td>\n",
       "      <td>journal</td>\n",
       "      <td>[]</td>\n",
       "    </tr>\n",
       "    <tr>\n",
       "      <th>2</th>\n",
       "      <td>https://openalex.org/I1291425158</td>\n",
       "      <td>Google (United States)</td>\n",
       "      <td>https://ror.org/00njsd438</td>\n",
       "      <td>US</td>\n",
       "      <td>company</td>\n",
       "      <td>[https://openalex.org/I1291425158, https://ope...</td>\n",
       "      <td>https://openalex.org/W3189250281</td>\n",
       "      <td>[Google Quantum AI Team, Venice, CA, USA]</td>\n",
       "      <td>middle</td>\n",
       "      <td>https://doi.org/10.1038/s42254-021-00348-9</td>\n",
       "      <td>...</td>\n",
       "      <td>6.192506</td>\n",
       "      <td>-3.169462</td>\n",
       "      <td>145</td>\n",
       "      <td>1.0</td>\n",
       "      <td>https://openalex.org/A5059699271</td>\n",
       "      <td>Ryan Babbush</td>\n",
       "      <td>https://orcid.org/0000-0001-6979-9533</td>\n",
       "      <td>Nature reviews physics</td>\n",
       "      <td>journal</td>\n",
       "      <td>[]</td>\n",
       "    </tr>\n",
       "    <tr>\n",
       "      <th>3</th>\n",
       "      <td>https://openalex.org/I40120149</td>\n",
       "      <td>University of Oxford</td>\n",
       "      <td>https://ror.org/052gg0110</td>\n",
       "      <td>GB</td>\n",
       "      <td>education</td>\n",
       "      <td>[https://openalex.org/I40120149]</td>\n",
       "      <td>https://openalex.org/W3189250281</td>\n",
       "      <td>[Department of Materials, University of Oxford...</td>\n",
       "      <td>middle</td>\n",
       "      <td>https://doi.org/10.1038/s42254-021-00348-9</td>\n",
       "      <td>...</td>\n",
       "      <td>6.192506</td>\n",
       "      <td>-3.169462</td>\n",
       "      <td>145</td>\n",
       "      <td>1.0</td>\n",
       "      <td>https://openalex.org/A5012132706</td>\n",
       "      <td>Simon C. Benjamin</td>\n",
       "      <td>https://orcid.org/0000-0002-7766-5348</td>\n",
       "      <td>Nature reviews physics</td>\n",
       "      <td>journal</td>\n",
       "      <td>[]</td>\n",
       "    </tr>\n",
       "    <tr>\n",
       "      <th>4</th>\n",
       "      <td>https://openalex.org/I2251713219</td>\n",
       "      <td>NTT (Japan)</td>\n",
       "      <td>https://ror.org/00berct97</td>\n",
       "      <td>JP</td>\n",
       "      <td>company</td>\n",
       "      <td>[https://openalex.org/I2251713219]</td>\n",
       "      <td>https://openalex.org/W3189250281</td>\n",
       "      <td>[NTT Secure Platform Laboratories, NTT Corpora...</td>\n",
       "      <td>middle</td>\n",
       "      <td>https://doi.org/10.1038/s42254-021-00348-9</td>\n",
       "      <td>...</td>\n",
       "      <td>6.192506</td>\n",
       "      <td>-3.169462</td>\n",
       "      <td>145</td>\n",
       "      <td>1.0</td>\n",
       "      <td>https://openalex.org/A5082360196</td>\n",
       "      <td>Suguru Endo</td>\n",
       "      <td>https://orcid.org/0000-0002-2317-3751</td>\n",
       "      <td>Nature reviews physics</td>\n",
       "      <td>journal</td>\n",
       "      <td>[]</td>\n",
       "    </tr>\n",
       "  </tbody>\n",
       "</table>\n",
       "<p>5 rows × 27 columns</p>\n",
       "</div>"
      ],
      "text/plain": [
       "                                 id                    display_name  \\\n",
       "0  https://openalex.org/I1343871089  Los Alamos National Laboratory   \n",
       "1  https://openalex.org/I1343871089  Los Alamos National Laboratory   \n",
       "2  https://openalex.org/I1291425158          Google (United States)   \n",
       "3    https://openalex.org/I40120149            University of Oxford   \n",
       "4  https://openalex.org/I2251713219                     NTT (Japan)   \n",
       "\n",
       "                         ror country_code       type  \\\n",
       "0  https://ror.org/01e41cf67           US   facility   \n",
       "1  https://ror.org/01e41cf67           US   facility   \n",
       "2  https://ror.org/00njsd438           US    company   \n",
       "3  https://ror.org/052gg0110           GB  education   \n",
       "4  https://ror.org/00berct97           JP    company   \n",
       "\n",
       "                                             lineage  \\\n",
       "0  [https://openalex.org/I1330989302, https://ope...   \n",
       "1  [https://openalex.org/I1330989302, https://ope...   \n",
       "2  [https://openalex.org/I1291425158, https://ope...   \n",
       "3                   [https://openalex.org/I40120149]   \n",
       "4                 [https://openalex.org/I2251713219]   \n",
       "\n",
       "                           paper_id  \\\n",
       "0  https://openalex.org/W3189250281   \n",
       "1  https://openalex.org/W3189250281   \n",
       "2  https://openalex.org/W3189250281   \n",
       "3  https://openalex.org/W3189250281   \n",
       "4  https://openalex.org/W3189250281   \n",
       "\n",
       "                       paper_raw_affiliation_strings paper_author_position  \\\n",
       "0  [Theoretical Division, Los Alamos National Lab...                 first   \n",
       "1  [Theoretical Division, Los Alamos National Lab...                middle   \n",
       "2          [Google Quantum AI Team, Venice, CA, USA]                middle   \n",
       "3  [Department of Materials, University of Oxford...                middle   \n",
       "4  [NTT Secure Platform Laboratories, NTT Corpora...                middle   \n",
       "\n",
       "                                    paper_doi  ...   paper_x   paper_y  \\\n",
       "0  https://doi.org/10.1038/s42254-021-00348-9  ...  6.192506 -3.169462   \n",
       "1  https://doi.org/10.1038/s42254-021-00348-9  ...  6.192506 -3.169462   \n",
       "2  https://doi.org/10.1038/s42254-021-00348-9  ...  6.192506 -3.169462   \n",
       "3  https://doi.org/10.1038/s42254-021-00348-9  ...  6.192506 -3.169462   \n",
       "4  https://doi.org/10.1038/s42254-021-00348-9  ...  6.192506 -3.169462   \n",
       "\n",
       "  paper_cluster paper_cluster_score                   paper_author_id  \\\n",
       "0           145                 1.0  https://openalex.org/A5074921335   \n",
       "1           145                 1.0  https://openalex.org/A5065899096   \n",
       "2           145                 1.0  https://openalex.org/A5059699271   \n",
       "3           145                 1.0  https://openalex.org/A5012132706   \n",
       "4           145                 1.0  https://openalex.org/A5082360196   \n",
       "\n",
       "  paper_author_display_name                     paper_author_orcid  \\\n",
       "0                 M. Cerezo  https://orcid.org/0000-0002-2757-3170   \n",
       "1          Andrew Arrasmith  https://orcid.org/0000-0003-2674-9370   \n",
       "2              Ryan Babbush  https://orcid.org/0000-0001-6979-9533   \n",
       "3         Simon C. Benjamin  https://orcid.org/0000-0002-7766-5348   \n",
       "4               Suguru Endo  https://orcid.org/0000-0002-2317-3751   \n",
       "\n",
       "                   source source_type funder_list  \n",
       "0  Nature reviews physics     journal          []  \n",
       "1  Nature reviews physics     journal          []  \n",
       "2  Nature reviews physics     journal          []  \n",
       "3  Nature reviews physics     journal          []  \n",
       "4  Nature reviews physics     journal          []  \n",
       "\n",
       "[5 rows x 27 columns]"
      ]
     },
     "execution_count": 102,
     "metadata": {},
     "output_type": "execute_result"
    }
   ],
   "source": [
    "dftriple.head()"
   ]
  },
  {
   "cell_type": "code",
   "execution_count": 103,
   "id": "a5c8764d-61ce-44e2-8693-3356486c5b04",
   "metadata": {},
   "outputs": [
    {
     "data": {
      "text/plain": [
       "[{'id': 'https://openalex.org/C58053490',\n",
       "  'wikidata': 'https://www.wikidata.org/wiki/Q176555',\n",
       "  'display_name': 'Quantum computer',\n",
       "  'relevance_score': 40565.902,\n",
       "  'level': 3,\n",
       "  'description': 'theoretical computation device relying on quantum mechanics',\n",
       "  'works_count': 62241,\n",
       "  'cited_by_count': 1296288,\n",
       "  'summary_stats': {'2yr_mean_citedness': 3.0585373387906403,\n",
       "   'h_index': 432,\n",
       "   'i10_index': 14982},\n",
       "  'ids': {'openalex': 'https://openalex.org/C58053490',\n",
       "   'wikidata': 'https://www.wikidata.org/wiki/Q176555',\n",
       "   'mag': '58053490',\n",
       "   'wikipedia': 'https://en.wikipedia.org/wiki/Quantum%20computing'},\n",
       "  'image_url': 'https://upload.wikimedia.org/wikipedia/commons/6/60/IBM_Q_system_%28Fraunhofer_2%29.jpg',\n",
       "  'image_thumbnail_url': 'https://upload.wikimedia.org/wikipedia/commons/thumb/6/60/IBM_Q_system_%28Fraunhofer_2%29.jpg/100px-IBM_Q_system_%28Fraunhofer_2%29.jpg',\n",
       "  'international': {'display_name': {'ar': 'حاسوب كمومي',\n",
       "    'ast': 'Computación cuántica',\n",
       "    'az': 'Kvant kompüteri',\n",
       "    'be-tarask': 'квантавы кампутар',\n",
       "    'bg': 'Квантов компютър',\n",
       "    'bn': 'কোয়ান্টাম পরিগণনা',\n",
       "    'bs': 'Kvantni računar',\n",
       "    'ca': 'ordinador quàntic',\n",
       "    'cs': 'kvantový počítač',\n",
       "    'da': 'kvantecomputer',\n",
       "    'de': 'Quantencomputer',\n",
       "    'el': 'Κβαντικός υπολογιστής',\n",
       "    'en': 'quantum computer',\n",
       "    'eo': 'kvantuma komputilo',\n",
       "    'es': 'computadora cuántica',\n",
       "    'et': 'kvantarvuti',\n",
       "    'eu': 'Konputagailu kuantiko',\n",
       "    'fa': 'رایانه کوانتومی',\n",
       "    'fi': 'kvanttitietokone',\n",
       "    'fr': 'calculateur quantique',\n",
       "    'fy': 'Kwantumkompjûter',\n",
       "    'ga': 'Ríomhaire candamach',\n",
       "    'gl': 'Computación cuántica',\n",
       "    'gsw': 'Quantencomputer',\n",
       "    'he': 'מחשב קוונטי',\n",
       "    'hi': 'क्वाण्टम कम्प्यूटर',\n",
       "    'hr': 'Kvantno računalo',\n",
       "    'hu': 'Kvantumszámítógép',\n",
       "    'hy': 'Քվանտային համակարգիչ',\n",
       "    'id': 'komputer kuantum',\n",
       "    'is': 'Skammtatölvur',\n",
       "    'it': 'computer quantistico',\n",
       "    'ja': '量子コンピュータ',\n",
       "    'ka': 'კვანტური კომპიუტერი',\n",
       "    'kn': 'ಕ್ವಾಂಟಮ್ ಗಣಕಯಂತ್ರ',\n",
       "    'ko': '양자 컴퓨터',\n",
       "    'lt': 'Kvantinis kompiuteris',\n",
       "    'lv': 'Kvantu dators',\n",
       "    'mk': 'квантно сметање',\n",
       "    'ml': 'ക്വാണ്ടം കമ്പ്യൂട്ടിങ്',\n",
       "    'ms': 'komputer kuantum',\n",
       "    'mt': 'kompjuter kwantistiku',\n",
       "    'nb': 'kvantedatamaskin',\n",
       "    'nl': 'Kwantumcomputer',\n",
       "    'or': 'କ୍ୱାଣ୍ଟମ କମ୍ପ୍ୟୁଟର',\n",
       "    'pa': 'ਕੁਆਂਟਮ ਕੰਪਿਊਟਿੰਗ',\n",
       "    'pl': 'Komputer kwantowy',\n",
       "    'pt': 'computador quântico',\n",
       "    'ro': 'Calculator cuantic',\n",
       "    'ru': 'Квантовый компьютер',\n",
       "    'sh': 'Kvantni računar',\n",
       "    'sk': 'Kvantový počítač',\n",
       "    'sl': 'Kvantni računalnik',\n",
       "    'sq': 'Kompjuteri kuantik',\n",
       "    'sr': 'квантни рачунар',\n",
       "    'sv': 'kvantdator',\n",
       "    'ta': 'குவாண்டம் கணினி',\n",
       "    'te': 'క్వాంటమ్ కంప్యూటర్',\n",
       "    'tg': 'Компютери квантӣ',\n",
       "    'tr': 'Kuantum bilgisayarı',\n",
       "    'uk': \"квантовий комп'ютер\",\n",
       "    'ur': 'مقداریہ شمارندہ',\n",
       "    'uz': 'Kvant kompyuterlari',\n",
       "    'vi': 'Máy tính lượng tử',\n",
       "    'wuu': '量子计算机',\n",
       "    'yue': '量子電腦',\n",
       "    'zh': '量子计算机',\n",
       "    'zh-hans': '量子计算机'},\n",
       "   'description': {'ca': 'Dispositiu computacional basat en les propietats quàntiques de la matèria',\n",
       "    'de': 'Computer, dessen Funktionsweise auf den Gesetzmäßigkeiten der Quantenmechanik beruht',\n",
       "    'en': 'theoretical computation device relying on quantum mechanics',\n",
       "    'es': 'un paradigma de computación distinto al de la computación clásica. Se basa en el uso de qubits en lugar de bits, y da lugar a nuevas puertas lógicas que hacen posibles nuevos algoritmos',\n",
       "    'eu': 'Oinarrizko informazio-unitate gisa bit kuantikoa darabilen ordenagailua',\n",
       "    'fa': 'علمی که برای رایانش از مکانیک کوانتومی استفاده می\\u200cکند',\n",
       "    'fi': 'kehitteillä oleva erittäin tehokas tietokone',\n",
       "    'fr': 'ordinateur utilisant les propriétés quantiques de la matière',\n",
       "    'he': 'מכונה המעבדת נתונים במכניקת הקוונטים',\n",
       "    'hu': 'kvantummechanikai jelenségeket használó számítógép',\n",
       "    'id': 'perangkat komputasi teoretis yang mengandalkan mekanika kuantum',\n",
       "    'ja': '量子力学的な重ね合わせを用いて並列性を実現するとされるコンピュータ',\n",
       "    'ko': '이론적으로 존재하는, 양자역학을 기반으로 한 계산 장치',\n",
       "    'nl': 'computer\\xa0waarbij de\\xa0processor\\xa0gebruik maakt van de principes van de\\xa0kwantummechanica',\n",
       "    'or': 'ଉଦୀୟମାନ ପ୍ରଯୁକ୍ତି ବିଦ୍ୟା',\n",
       "    'pl': 'Qubit',\n",
       "    'ru': 'вычислительное устройство',\n",
       "    'sv': 'dator som använder kvantmekanik',\n",
       "    'te': 'డివైస్ రెల్లీయింగ్ ఆన్ క్వాంటమ్ మెకానిక్స్',\n",
       "    'uk': 'теоретичний обчислювальний пристрій, що базується на квантовій механіці',\n",
       "    'zh': '运用量子计算的计算机',\n",
       "    'zh-hans': '运用量子计算的计算机'}},\n",
       "  'ancestors': [{'id': 'https://openalex.org/C84114770',\n",
       "    'wikidata': 'https://www.wikidata.org/wiki/Q46344',\n",
       "    'display_name': 'Quantum',\n",
       "    'level': 2},\n",
       "   {'id': 'https://openalex.org/C62520636',\n",
       "    'wikidata': 'https://www.wikidata.org/wiki/Q944',\n",
       "    'display_name': 'Quantum mechanics',\n",
       "    'level': 1},\n",
       "   {'id': 'https://openalex.org/C121332964',\n",
       "    'wikidata': 'https://www.wikidata.org/wiki/Q413',\n",
       "    'display_name': 'Physics',\n",
       "    'level': 0}],\n",
       "  'related_concepts': [{'id': 'https://openalex.org/C203087015',\n",
       "    'wikidata': None,\n",
       "    'display_name': 'Qubit',\n",
       "    'level': 3,\n",
       "    'score': 30.245028},\n",
       "   {'id': 'https://openalex.org/C62520636',\n",
       "    'wikidata': None,\n",
       "    'display_name': 'Quantum mechanics',\n",
       "    'level': 1,\n",
       "    'score': 28.724188},\n",
       "   {'id': 'https://openalex.org/C169699857',\n",
       "    'wikidata': None,\n",
       "    'display_name': 'Quantum information',\n",
       "    'level': 3,\n",
       "    'score': 22.1685},\n",
       "   {'id': 'https://openalex.org/C121040770',\n",
       "    'wikidata': None,\n",
       "    'display_name': 'Quantum entanglement',\n",
       "    'level': 3,\n",
       "    'score': 18.537472},\n",
       "   {'id': 'https://openalex.org/C137019171',\n",
       "    'wikidata': None,\n",
       "    'display_name': 'Quantum algorithm',\n",
       "    'level': 3,\n",
       "    'score': 16.794514},\n",
       "   {'id': 'https://openalex.org/C179799912',\n",
       "    'wikidata': None,\n",
       "    'display_name': 'Computational complexity theory',\n",
       "    'level': 2,\n",
       "    'score': 14.517024},\n",
       "   {'id': 'https://openalex.org/C122527463',\n",
       "    'wikidata': None,\n",
       "    'display_name': 'Quantum decoherence',\n",
       "    'level': 3,\n",
       "    'score': 13.283094},\n",
       "   {'id': 'https://openalex.org/C58849907',\n",
       "    'wikidata': None,\n",
       "    'display_name': 'Quantum gate',\n",
       "    'level': 4,\n",
       "    'score': 11.922033},\n",
       "   {'id': 'https://openalex.org/C144901912',\n",
       "    'wikidata': None,\n",
       "    'display_name': 'Quantum cryptography',\n",
       "    'level': 4,\n",
       "    'score': 11.884861},\n",
       "   {'id': 'https://openalex.org/C119677069',\n",
       "    'wikidata': None,\n",
       "    'display_name': 'Integer factorization',\n",
       "    'level': 4,\n",
       "    'score': 11.613979},\n",
       "   {'id': 'https://openalex.org/C55615164',\n",
       "    'wikidata': None,\n",
       "    'display_name': 'Quantum superposition',\n",
       "    'level': 3,\n",
       "    'score': 11.534849},\n",
       "   {'id': 'https://openalex.org/C121332964',\n",
       "    'wikidata': None,\n",
       "    'display_name': 'Physics',\n",
       "    'level': 0,\n",
       "    'score': 10.829316},\n",
       "   {'id': 'https://openalex.org/C15706264',\n",
       "    'wikidata': None,\n",
       "    'display_name': 'Quantum state',\n",
       "    'level': 3,\n",
       "    'score': 10.728822},\n",
       "   {'id': 'https://openalex.org/C178489894',\n",
       "    'wikidata': None,\n",
       "    'display_name': 'Cryptography',\n",
       "    'level': 2,\n",
       "    'score': 10.612293},\n",
       "   {'id': 'https://openalex.org/C41008148',\n",
       "    'wikidata': None,\n",
       "    'display_name': 'Computer science',\n",
       "    'level': 0,\n",
       "    'score': 9.372998},\n",
       "   {'id': 'https://openalex.org/C51003876',\n",
       "    'wikidata': None,\n",
       "    'display_name': 'Quantum error correction',\n",
       "    'level': 4,\n",
       "    'score': 9.239752},\n",
       "   {'id': 'https://openalex.org/C311688',\n",
       "    'wikidata': None,\n",
       "    'display_name': 'Time complexity',\n",
       "    'level': 2,\n",
       "    'score': 8.93736},\n",
       "   {'id': 'https://openalex.org/C80444323',\n",
       "    'wikidata': None,\n",
       "    'display_name': 'Theoretical computer science',\n",
       "    'level': 1,\n",
       "    'score': 8.828963},\n",
       "   {'id': 'https://openalex.org/C5320026',\n",
       "    'wikidata': None,\n",
       "    'display_name': 'Quantum information science',\n",
       "    'level': 4,\n",
       "    'score': 7.210312},\n",
       "   {'id': 'https://openalex.org/C173259116',\n",
       "    'wikidata': None,\n",
       "    'display_name': 'Discrete logarithm',\n",
       "    'level': 4,\n",
       "    'score': 6.517574},\n",
       "   {'id': 'https://openalex.org/C68717125',\n",
       "    'wikidata': None,\n",
       "    'display_name': 'Quantum optics',\n",
       "    'level': 2,\n",
       "    'score': 6.390977},\n",
       "   {'id': 'https://openalex.org/C118704821',\n",
       "    'wikidata': None,\n",
       "    'display_name': 'Bell state',\n",
       "    'level': 4,\n",
       "    'score': 6.0892954},\n",
       "   {'id': 'https://openalex.org/C47750902',\n",
       "    'wikidata': None,\n",
       "    'display_name': 'Key size',\n",
       "    'level': 4,\n",
       "    'score': 5.510726},\n",
       "   {'id': 'https://openalex.org/C190463098',\n",
       "    'wikidata': None,\n",
       "    'display_name': 'Quantum technology',\n",
       "    'level': 4,\n",
       "    'score': 5.413192},\n",
       "   {'id': 'https://openalex.org/C90408235',\n",
       "    'wikidata': None,\n",
       "    'display_name': 'Quantum annealing',\n",
       "    'level': 4,\n",
       "    'score': 5.322004},\n",
       "   {'id': 'https://openalex.org/C161166931',\n",
       "    'wikidata': None,\n",
       "    'display_name': 'Quantum simulator',\n",
       "    'level': 4,\n",
       "    'score': 5.0798936},\n",
       "   {'id': 'https://openalex.org/C108277079',\n",
       "    'wikidata': None,\n",
       "    'display_name': 'Post-quantum cryptography',\n",
       "    'level': 4,\n",
       "    'score': 4.880802},\n",
       "   {'id': 'https://openalex.org/C186468114',\n",
       "    'wikidata': None,\n",
       "    'display_name': 'Quantum network',\n",
       "    'level': 4,\n",
       "    'score': 4.8576183},\n",
       "   {'id': 'https://openalex.org/C20274610',\n",
       "    'wikidata': None,\n",
       "    'display_name': 'Reversible computing',\n",
       "    'level': 4,\n",
       "    'score': 4.6383333},\n",
       "   {'id': 'https://openalex.org/C192353077',\n",
       "    'wikidata': None,\n",
       "    'display_name': 'Adiabatic quantum computation',\n",
       "    'level': 4,\n",
       "    'score': 4.5148873},\n",
       "   {'id': 'https://openalex.org/C92043244',\n",
       "    'wikidata': None,\n",
       "    'display_name': 'Quantum complexity theory',\n",
       "    'level': 4,\n",
       "    'score': 4.5024557},\n",
       "   {'id': 'https://openalex.org/C95466800',\n",
       "    'wikidata': None,\n",
       "    'display_name': 'Quantum key distribution',\n",
       "    'level': 3,\n",
       "    'score': 4.4564414},\n",
       "   {'id': 'https://openalex.org/C192979234',\n",
       "    'wikidata': None,\n",
       "    'display_name': 'Natural computing',\n",
       "    'level': 2,\n",
       "    'score': 4.4348984},\n",
       "   {'id': 'https://openalex.org/C187483380',\n",
       "    'wikidata': None,\n",
       "    'display_name': 'Topological quantum computer',\n",
       "    'level': 3,\n",
       "    'score': 4.270928},\n",
       "   {'id': 'https://openalex.org/C128669082',\n",
       "    'wikidata': None,\n",
       "    'display_name': 'Randomized algorithm',\n",
       "    'level': 2,\n",
       "    'score': 4.0527096},\n",
       "   {'id': 'https://openalex.org/C174327141',\n",
       "    'wikidata': None,\n",
       "    'display_name': 'Quantum finite automata',\n",
       "    'level': 4,\n",
       "    'score': 3.827998},\n",
       "   {'id': 'https://openalex.org/C187486625',\n",
       "    'wikidata': None,\n",
       "    'display_name': 'Quantum channel',\n",
       "    'level': 4,\n",
       "    'score': 3.7065136},\n",
       "   {'id': 'https://openalex.org/C56085360',\n",
       "    'wikidata': None,\n",
       "    'display_name': 'Qutrit',\n",
       "    'level': 4,\n",
       "    'score': 3.6130345},\n",
       "   {'id': 'https://openalex.org/C82047324',\n",
       "    'wikidata': None,\n",
       "    'display_name': 'DNA computing',\n",
       "    'level': 3,\n",
       "    'score': 3.241979},\n",
       "   {'id': 'https://openalex.org/C60292330',\n",
       "    'wikidata': None,\n",
       "    'display_name': 'Hadamard transform',\n",
       "    'level': 2,\n",
       "    'score': 3.1287699},\n",
       "   {'id': 'https://openalex.org/C140058369',\n",
       "    'wikidata': None,\n",
       "    'display_name': 'Quantum walk',\n",
       "    'level': 4,\n",
       "    'score': 3.0348516},\n",
       "   {'id': 'https://openalex.org/C136277988',\n",
       "    'wikidata': None,\n",
       "    'display_name': 'Bloch sphere',\n",
       "    'level': 4,\n",
       "    'score': 3.0216682},\n",
       "   {'id': 'https://openalex.org/C45374587',\n",
       "    'wikidata': None,\n",
       "    'display_name': 'Computation',\n",
       "    'level': 2,\n",
       "    'score': 2.9705145},\n",
       "   {'id': 'https://openalex.org/C40025392',\n",
       "    'wikidata': None,\n",
       "    'display_name': 'Rabi cycle',\n",
       "    'level': 3,\n",
       "    'score': 2.9514716},\n",
       "   {'id': 'https://openalex.org/C158456648',\n",
       "    'wikidata': None,\n",
       "    'display_name': 'Cluster state',\n",
       "    'level': 4,\n",
       "    'score': 2.870347},\n",
       "   {'id': 'https://openalex.org/C152763109',\n",
       "    'wikidata': None,\n",
       "    'display_name': 'Modular exponentiation',\n",
       "    'level': 4,\n",
       "    'score': 2.7528646},\n",
       "   {'id': 'https://openalex.org/C2779094486',\n",
       "    'wikidata': None,\n",
       "    'display_name': 'Quantum machine learning',\n",
       "    'level': 4,\n",
       "    'score': 2.6139288},\n",
       "   {'id': 'https://openalex.org/C74939445',\n",
       "    'wikidata': None,\n",
       "    'display_name': 'Cavity quantum electrodynamics',\n",
       "    'level': 4,\n",
       "    'score': 2.583358},\n",
       "   {'id': 'https://openalex.org/C148204187',\n",
       "    'wikidata': None,\n",
       "    'display_name': 'Optical computing',\n",
       "    'level': 2,\n",
       "    'score': 2.495685},\n",
       "   {'id': 'https://openalex.org/C116696211',\n",
       "    'wikidata': None,\n",
       "    'display_name': 'Nitrogen-vacancy center',\n",
       "    'level': 3,\n",
       "    'score': 2.4887102},\n",
       "   {'id': 'https://openalex.org/C84883863',\n",
       "    'wikidata': None,\n",
       "    'display_name': 'Toric code',\n",
       "    'level': 4,\n",
       "    'score': 2.4272885},\n",
       "   {'id': 'https://openalex.org/C106289968',\n",
       "    'wikidata': None,\n",
       "    'display_name': 'Ion trap',\n",
       "    'level': 3,\n",
       "    'score': 2.4140291},\n",
       "   {'id': 'https://openalex.org/C24604422',\n",
       "    'wikidata': None,\n",
       "    'display_name': 'Average-case complexity',\n",
       "    'level': 3,\n",
       "    'score': 2.4099536},\n",
       "   {'id': 'https://openalex.org/C168482242',\n",
       "    'wikidata': None,\n",
       "    'display_name': 'Lattice problem',\n",
       "    'level': 3,\n",
       "    'score': 2.3596876},\n",
       "   {'id': 'https://openalex.org/C194867977',\n",
       "    'wikidata': None,\n",
       "    'display_name': 'Quantum Zeno effect',\n",
       "    'level': 4,\n",
       "    'score': 2.211676},\n",
       "   {'id': 'https://openalex.org/C179145077',\n",
       "    'wikidata': None,\n",
       "    'display_name': 'Communication complexity',\n",
       "    'level': 2,\n",
       "    'score': 2.1662014},\n",
       "   {'id': 'https://openalex.org/C44274781',\n",
       "    'wikidata': None,\n",
       "    'display_name': 'Lattice reduction',\n",
       "    'level': 4,\n",
       "    'score': 1.9354295},\n",
       "   {'id': 'https://openalex.org/C20593774',\n",
       "    'wikidata': None,\n",
       "    'display_name': 'W state',\n",
       "    'level': 4,\n",
       "    'score': 1.8880696},\n",
       "   {'id': 'https://openalex.org/C119382340',\n",
       "    'wikidata': None,\n",
       "    'display_name': 'Superconducting quantum computing',\n",
       "    'level': 4,\n",
       "    'score': 1.8256426},\n",
       "   {'id': 'https://openalex.org/C2781190263',\n",
       "    'wikidata': None,\n",
       "    'display_name': 'Circuit quantum electrodynamics',\n",
       "    'level': 4,\n",
       "    'score': 1.7938055},\n",
       "   {'id': 'https://openalex.org/C122368425',\n",
       "    'wikidata': None,\n",
       "    'display_name': 'NTRU',\n",
       "    'level': 4,\n",
       "    'score': 1.7825739},\n",
       "   {'id': 'https://openalex.org/C139356082',\n",
       "    'wikidata': None,\n",
       "    'display_name': 'Quantum discord',\n",
       "    'level': 4,\n",
       "    'score': 1.7255336},\n",
       "   {'id': 'https://openalex.org/C174784677',\n",
       "    'wikidata': None,\n",
       "    'display_name': 'Probabilistic automaton',\n",
       "    'level': 3,\n",
       "    'score': 1.7039485},\n",
       "   {'id': 'https://openalex.org/C56289965',\n",
       "    'wikidata': None,\n",
       "    'display_name': 'Decision tree model',\n",
       "    'level': 3,\n",
       "    'score': 1.6135215},\n",
       "   {'id': 'https://openalex.org/C93751859',\n",
       "    'wikidata': None,\n",
       "    'display_name': 'Optical lattice',\n",
       "    'level': 3,\n",
       "    'score': 1.5493859},\n",
       "   {'id': 'https://openalex.org/C2776222033',\n",
       "    'wikidata': None,\n",
       "    'display_name': 'Transmon',\n",
       "    'level': 4,\n",
       "    'score': 1.3860577},\n",
       "   {'id': 'https://openalex.org/C194975256',\n",
       "    'wikidata': None,\n",
       "    'display_name': 'Quantum dissipation',\n",
       "    'level': 3,\n",
       "    'score': 1.370221},\n",
       "   {'id': 'https://openalex.org/C23375383',\n",
       "    'wikidata': None,\n",
       "    'display_name': 'Unconventional computing',\n",
       "    'level': 2,\n",
       "    'score': 1.353883},\n",
       "   {'id': 'https://openalex.org/C151927369',\n",
       "    'wikidata': None,\n",
       "    'display_name': 'Neuromorphic engineering',\n",
       "    'level': 3,\n",
       "    'score': 1.284179},\n",
       "   {'id': 'https://openalex.org/C109546105',\n",
       "    'wikidata': None,\n",
       "    'display_name': 'Flux qubit',\n",
       "    'level': 4,\n",
       "    'score': 1.2830168},\n",
       "   {'id': 'https://openalex.org/C68576872',\n",
       "    'wikidata': None,\n",
       "    'display_name': 'Quantum cellular automaton',\n",
       "    'level': 3,\n",
       "    'score': 1.2738585},\n",
       "   {'id': 'https://openalex.org/C15482360',\n",
       "    'wikidata': None,\n",
       "    'display_name': 'Monte Carlo algorithm',\n",
       "    'level': 3,\n",
       "    'score': 1.2442223},\n",
       "   {'id': 'https://openalex.org/C150206757',\n",
       "    'wikidata': None,\n",
       "    'display_name': 'Rapid single flux quantum',\n",
       "    'level': 4,\n",
       "    'score': 1.129251},\n",
       "   {'id': 'https://openalex.org/C2778476455',\n",
       "    'wikidata': None,\n",
       "    'display_name': 'Dynamical decoupling',\n",
       "    'level': 4,\n",
       "    'score': 1.127318},\n",
       "   {'id': 'https://openalex.org/C73214911',\n",
       "    'wikidata': None,\n",
       "    'display_name': 'Phase qubit',\n",
       "    'level': 4,\n",
       "    'score': 1.1255666},\n",
       "   {'id': 'https://openalex.org/C2779014939',\n",
       "    'wikidata': None,\n",
       "    'display_name': 'Learning with errors',\n",
       "    'level': 3,\n",
       "    'score': 1.0978988},\n",
       "   {'id': 'https://openalex.org/C2780376250',\n",
       "    'wikidata': None,\n",
       "    'display_name': 'Valleytronics',\n",
       "    'level': 4,\n",
       "    'score': 1.0689104},\n",
       "   {'id': 'https://openalex.org/C111776688',\n",
       "    'wikidata': None,\n",
       "    'display_name': 'Ultracold atom',\n",
       "    'level': 3,\n",
       "    'score': 1.0297865},\n",
       "   {'id': 'https://openalex.org/C53076038',\n",
       "    'wikidata': None,\n",
       "    'display_name': 'Oblivious transfer',\n",
       "    'level': 3,\n",
       "    'score': 1.0161295},\n",
       "   {'id': 'https://openalex.org/C78594624',\n",
       "    'wikidata': None,\n",
       "    'display_name': 'Coherent control',\n",
       "    'level': 3,\n",
       "    'score': 0.91743636},\n",
       "   {'id': 'https://openalex.org/C2777843375',\n",
       "    'wikidata': None,\n",
       "    'display_name': 'Concurrence',\n",
       "    'level': 4,\n",
       "    'score': 0.8522914},\n",
       "   {'id': 'https://openalex.org/C58102789',\n",
       "    'wikidata': None,\n",
       "    'display_name': 'Optical transistor',\n",
       "    'level': 4,\n",
       "    'score': 0.82226497},\n",
       "   {'id': 'https://openalex.org/C177179195',\n",
       "    'wikidata': None,\n",
       "    'display_name': 'Quadratic unconstrained binary optimization',\n",
       "    'level': 4,\n",
       "    'score': 0.7604212}],\n",
       "  'counts_by_year': [{'year': 2024,\n",
       "    'works_count': 1796,\n",
       "    'cited_by_count': 63767},\n",
       "   {'year': 2023, 'works_count': 7983, 'cited_by_count': 163908},\n",
       "   {'year': 2022, 'works_count': 6597, 'cited_by_count': 139931},\n",
       "   {'year': 2021, 'works_count': 6170, 'cited_by_count': 139032},\n",
       "   {'year': 2020, 'works_count': 4485, 'cited_by_count': 105371},\n",
       "   {'year': 2019, 'works_count': 3630, 'cited_by_count': 82857},\n",
       "   {'year': 2018, 'works_count': 2859, 'cited_by_count': 64768},\n",
       "   {'year': 2017, 'works_count': 2437, 'cited_by_count': 56889},\n",
       "   {'year': 2016, 'works_count': 2146, 'cited_by_count': 53636},\n",
       "   {'year': 2015, 'works_count': 2023, 'cited_by_count': 47244},\n",
       "   {'year': 2014, 'works_count': 1985, 'cited_by_count': 44799},\n",
       "   {'year': 2013, 'works_count': 1846, 'cited_by_count': 40201},\n",
       "   {'year': 2012, 'works_count': 1677, 'cited_by_count': 36405}],\n",
       "  'works_api_url': 'https://api.openalex.org/works?filter=concepts.id:C58053490',\n",
       "  'updated_date': '2024-05-28T02:31:28.824397',\n",
       "  'created_date': '2016-06-24'},\n",
       " {'id': 'https://openalex.org/C144901912',\n",
       "  'wikidata': 'https://www.wikidata.org/wiki/Q471906',\n",
       "  'display_name': 'Quantum cryptography',\n",
       "  'relevance_score': 21009.312,\n",
       "  'level': 4,\n",
       "  'description': 'computer',\n",
       "  'works_count': 11270,\n",
       "  'cited_by_count': 253237,\n",
       "  'summary_stats': {'2yr_mean_citedness': 2.1308868501529052,\n",
       "   'h_index': 216,\n",
       "   'i10_index': 2574},\n",
       "  'ids': {'openalex': 'https://openalex.org/C144901912',\n",
       "   'wikidata': 'https://www.wikidata.org/wiki/Q471906',\n",
       "   'mag': '144901912',\n",
       "   'wikipedia': 'https://en.wikipedia.org/wiki/Quantum%20cryptography'},\n",
       "  'image_url': None,\n",
       "  'image_thumbnail_url': None,\n",
       "  'international': {'display_name': {'ar': 'تشفير كمومي',\n",
       "    'bn': 'কোয়ান্টাম তথ্যগুপ্তিবিদ্যা',\n",
       "    'ca': 'criptografia quàntica',\n",
       "    'cs': 'Kvantová kryptografie',\n",
       "    'de': 'Quantenschlüsselaustausch',\n",
       "    'en': 'Qantum Crytography',\n",
       "    'eo': 'kvantuma kriptologio',\n",
       "    'es': 'criptografía cuántica',\n",
       "    'et': 'Kvantkrüptograafia',\n",
       "    'eu': 'Kriptografia kuantiko',\n",
       "    'fa': 'رمزنگاری کوانتومی',\n",
       "    'fi': 'Kvanttisalaus',\n",
       "    'fr': 'cryptographie quantique',\n",
       "    'he': 'הצפנה קוונטית',\n",
       "    'hr': 'Kvantna kriptografija',\n",
       "    'hu': 'Kvantumkriptográfia',\n",
       "    'it': 'crittografia quantistica',\n",
       "    'ja': '量子暗号',\n",
       "    'ko': '양자 암호',\n",
       "    'lmo': 'Crittografia quantistega',\n",
       "    'lt': 'Kvantinė kriptografija',\n",
       "    'nb': 'Kvantekryptografi',\n",
       "    'nl': 'Kwantumcryptografie',\n",
       "    'pa': 'ਕੁਆਂਟਮ ਕ੍ਰਿਪਟੋਗ੍ਰਾਫੀ',\n",
       "    'pl': 'Kryptologia kwantowa',\n",
       "    'pt': 'criptografia quântica',\n",
       "    'ro': 'Criptare cuantică',\n",
       "    'ru': 'Квантовая криптография',\n",
       "    'sr': 'Kvantna kriptografija',\n",
       "    'sr-ec': 'Квантна криптографија',\n",
       "    'sr-el': 'Kvantna kriptografija',\n",
       "    'sv': 'kvantkryptering',\n",
       "    'ta': 'துளிம மறைப்பியல்',\n",
       "    'tr': 'Kuantum kriptografi',\n",
       "    'uk': 'Квантова криптографія',\n",
       "    'vi': 'Mật mã lượng tử',\n",
       "    'yue': '量子密碼學',\n",
       "    'zh': '量子密碼學',\n",
       "    'zh-cn': '量子密码学',\n",
       "    'zh-hans': '量子密码学',\n",
       "    'zh-hant': '量子密碼學',\n",
       "    'zh-hk': '量子密碼學',\n",
       "    'zh-sg': '量子密码学',\n",
       "    'zh-tw': '量子密碼學'},\n",
       "   'description': {'de': 'Verwendung quantenmechanischer Effekte als Bestandteil kryptographischer Verfahren oder zur Kryptoanalyse',\n",
       "    'en': 'computer',\n",
       "    'es': 'criptografía que utiliza principios de la mecánica cuántica',\n",
       "    'fi': 'kvanttimekaniikkaan perustuva salausjärjestelmä',\n",
       "    'ja': '量子力学の性質を活用した暗号技術'}},\n",
       "  'ancestors': [{'id': 'https://openalex.org/C169699857',\n",
       "    'wikidata': 'https://www.wikidata.org/wiki/Q2122243',\n",
       "    'display_name': 'Quantum information',\n",
       "    'level': 3},\n",
       "   {'id': 'https://openalex.org/C84114770',\n",
       "    'wikidata': 'https://www.wikidata.org/wiki/Q46344',\n",
       "    'display_name': 'Quantum',\n",
       "    'level': 2},\n",
       "   {'id': 'https://openalex.org/C62520636',\n",
       "    'wikidata': 'https://www.wikidata.org/wiki/Q944',\n",
       "    'display_name': 'Quantum mechanics',\n",
       "    'level': 1},\n",
       "   {'id': 'https://openalex.org/C121332964',\n",
       "    'wikidata': 'https://www.wikidata.org/wiki/Q413',\n",
       "    'display_name': 'Physics',\n",
       "    'level': 0}],\n",
       "  'related_concepts': [{'id': 'https://openalex.org/C95466800',\n",
       "    'wikidata': None,\n",
       "    'display_name': 'Quantum key distribution',\n",
       "    'level': 3,\n",
       "    'score': 12.577116},\n",
       "   {'id': 'https://openalex.org/C58053490',\n",
       "    'wikidata': None,\n",
       "    'display_name': 'Quantum computer',\n",
       "    'level': 3,\n",
       "    'score': 11.884861},\n",
       "   {'id': 'https://openalex.org/C178489894',\n",
       "    'wikidata': None,\n",
       "    'display_name': 'Cryptography',\n",
       "    'level': 2,\n",
       "    'score': 7.6631465},\n",
       "   {'id': 'https://openalex.org/C121040770',\n",
       "    'wikidata': None,\n",
       "    'display_name': 'Quantum entanglement',\n",
       "    'level': 3,\n",
       "    'score': 7.318348},\n",
       "   {'id': 'https://openalex.org/C62520636',\n",
       "    'wikidata': None,\n",
       "    'display_name': 'Quantum mechanics',\n",
       "    'level': 1,\n",
       "    'score': 5.9930735},\n",
       "   {'id': 'https://openalex.org/C91717678',\n",
       "    'wikidata': None,\n",
       "    'display_name': 'Quantum teleportation',\n",
       "    'level': 5,\n",
       "    'score': 5.795374},\n",
       "   {'id': 'https://openalex.org/C78203541',\n",
       "    'wikidata': None,\n",
       "    'display_name': 'BB84',\n",
       "    'level': 5,\n",
       "    'score': 5.458036},\n",
       "   {'id': 'https://openalex.org/C203087015',\n",
       "    'wikidata': None,\n",
       "    'display_name': 'Qubit',\n",
       "    'level': 3,\n",
       "    'score': 4.5683455},\n",
       "   {'id': 'https://openalex.org/C169699857',\n",
       "    'wikidata': None,\n",
       "    'display_name': 'Quantum information',\n",
       "    'level': 3,\n",
       "    'score': 4.450685},\n",
       "   {'id': 'https://openalex.org/C186468114',\n",
       "    'wikidata': None,\n",
       "    'display_name': 'Quantum network',\n",
       "    'level': 4,\n",
       "    'score': 4.338759},\n",
       "   {'id': 'https://openalex.org/C203062551',\n",
       "    'wikidata': None,\n",
       "    'display_name': 'Public-key cryptography',\n",
       "    'level': 3,\n",
       "    'score': 4.194831},\n",
       "   {'id': 'https://openalex.org/C29524669',\n",
       "    'wikidata': None,\n",
       "    'display_name': 'Diffie–Hellman key exchange',\n",
       "    'level': 5,\n",
       "    'score': 3.9283519},\n",
       "   {'id': 'https://openalex.org/C91399829',\n",
       "    'wikidata': None,\n",
       "    'display_name': 'Commitment scheme',\n",
       "    'level': 3,\n",
       "    'score': 3.7901638},\n",
       "   {'id': 'https://openalex.org/C108277079',\n",
       "    'wikidata': None,\n",
       "    'display_name': 'Post-quantum cryptography',\n",
       "    'level': 4,\n",
       "    'score': 3.520645},\n",
       "   {'id': 'https://openalex.org/C53076038',\n",
       "    'wikidata': None,\n",
       "    'display_name': 'Oblivious transfer',\n",
       "    'level': 3,\n",
       "    'score': 3.2432222},\n",
       "   {'id': 'https://openalex.org/C5320026',\n",
       "    'wikidata': None,\n",
       "    'display_name': 'Quantum information science',\n",
       "    'level': 4,\n",
       "    'score': 3.1990316},\n",
       "   {'id': 'https://openalex.org/C16935551',\n",
       "    'wikidata': None,\n",
       "    'display_name': 'McEliece cryptosystem',\n",
       "    'level': 4,\n",
       "    'score': 2.4614944},\n",
       "   {'id': 'https://openalex.org/C122368425',\n",
       "    'wikidata': None,\n",
       "    'display_name': 'NTRU',\n",
       "    'level': 4,\n",
       "    'score': 2.2877994},\n",
       "   {'id': 'https://openalex.org/C127964579',\n",
       "    'wikidata': None,\n",
       "    'display_name': 'Alice and Bob',\n",
       "    'level': 3,\n",
       "    'score': 2.284185},\n",
       "   {'id': 'https://openalex.org/C190463098',\n",
       "    'wikidata': None,\n",
       "    'display_name': 'Quantum technology',\n",
       "    'level': 4,\n",
       "    'score': 1.7679292},\n",
       "   {'id': 'https://openalex.org/C18396474',\n",
       "    'wikidata': None,\n",
       "    'display_name': 'Secure multi-party computation',\n",
       "    'level': 3,\n",
       "    'score': 1.7564373},\n",
       "   {'id': 'https://openalex.org/C3087436',\n",
       "    'wikidata': None,\n",
       "    'display_name': 'Secret sharing',\n",
       "    'level': 3,\n",
       "    'score': 1.4798071},\n",
       "   {'id': 'https://openalex.org/C155527597',\n",
       "    'wikidata': None,\n",
       "    'display_name': 'Signcryption',\n",
       "    'level': 4,\n",
       "    'score': 1.2847635},\n",
       "   {'id': 'https://openalex.org/C67405866',\n",
       "    'wikidata': None,\n",
       "    'display_name': 'Implicit certificate',\n",
       "    'level': 5,\n",
       "    'score': 1.2394729},\n",
       "   {'id': 'https://openalex.org/C99221444',\n",
       "    'wikidata': None,\n",
       "    'display_name': 'Private information retrieval',\n",
       "    'level': 2,\n",
       "    'score': 1.223642},\n",
       "   {'id': 'https://openalex.org/C165751822',\n",
       "    'wikidata': None,\n",
       "    'display_name': 'Universal composability',\n",
       "    'level': 4,\n",
       "    'score': 1.1067606},\n",
       "   {'id': 'https://openalex.org/C2776887110',\n",
       "    'wikidata': None,\n",
       "    'display_name': 'Quantum cloning',\n",
       "    'level': 5,\n",
       "    'score': 0.8044419}],\n",
       "  'counts_by_year': [{'year': 2024,\n",
       "    'works_count': 268,\n",
       "    'cited_by_count': 8874},\n",
       "   {'year': 2023, 'works_count': 946, 'cited_by_count': 25175},\n",
       "   {'year': 2022, 'works_count': 795, 'cited_by_count': 23933},\n",
       "   {'year': 2021, 'works_count': 824, 'cited_by_count': 24524},\n",
       "   {'year': 2020, 'works_count': 656, 'cited_by_count': 21509},\n",
       "   {'year': 2019, 'works_count': 606, 'cited_by_count': 19003},\n",
       "   {'year': 2018, 'works_count': 541, 'cited_by_count': 15220},\n",
       "   {'year': 2017, 'works_count': 495, 'cited_by_count': 13288},\n",
       "   {'year': 2016, 'works_count': 451, 'cited_by_count': 12272},\n",
       "   {'year': 2015, 'works_count': 472, 'cited_by_count': 11891},\n",
       "   {'year': 2014, 'works_count': 498, 'cited_by_count': 10622},\n",
       "   {'year': 2013, 'works_count': 383, 'cited_by_count': 8773},\n",
       "   {'year': 2012, 'works_count': 406, 'cited_by_count': 8134}],\n",
       "  'works_api_url': 'https://api.openalex.org/works?filter=concepts.id:C144901912',\n",
       "  'updated_date': '2024-05-28T02:27:06.867618',\n",
       "  'created_date': '2016-06-24'},\n",
       " {'id': 'https://openalex.org/C89143813',\n",
       "  'wikidata': 'https://www.wikidata.org/wiki/Q17105423',\n",
       "  'display_name': 'Quantum sensor',\n",
       "  'relevance_score': 19562.52,\n",
       "  'level': 5,\n",
       "  'description': 'measurement device using quantum mechanical effects such as entanglement',\n",
       "  'works_count': 8177,\n",
       "  'cited_by_count': 249822,\n",
       "  'summary_stats': {'2yr_mean_citedness': 4.263675476336816,\n",
       "   'h_index': 230,\n",
       "   'i10_index': 2259},\n",
       "  'ids': {'openalex': 'https://openalex.org/C89143813',\n",
       "   'wikidata': 'https://www.wikidata.org/wiki/Q17105423',\n",
       "   'mag': '89143813',\n",
       "   'wikipedia': 'https://en.wikipedia.org/wiki/Quantum%20sensor'},\n",
       "  'image_url': None,\n",
       "  'image_thumbnail_url': None,\n",
       "  'international': {'display_name': {'en': 'Quantum sensor',\n",
       "    'ja': '量子センシング',\n",
       "    'pa': 'ਕੁਆਂਟਮ ਸੈਂਸਰ',\n",
       "    'pt': 'sensor quântico'},\n",
       "   'description': {'en': 'measurement device using quantum mechanical effects such as entanglement',\n",
       "    'pt': 'dispositivo que utiliza correlações quânticas'}},\n",
       "  'ancestors': [{'id': 'https://openalex.org/C186468114',\n",
       "    'wikidata': 'https://www.wikidata.org/wiki/Q836478',\n",
       "    'display_name': 'Quantum network',\n",
       "    'level': 4},\n",
       "   {'id': 'https://openalex.org/C161166931',\n",
       "    'wikidata': 'https://www.wikidata.org/wiki/Q7269096',\n",
       "    'display_name': 'Quantum simulator',\n",
       "    'level': 4},\n",
       "   {'id': 'https://openalex.org/C190463098',\n",
       "    'wikidata': 'https://www.wikidata.org/wiki/Q2081419',\n",
       "    'display_name': 'Quantum technology',\n",
       "    'level': 4},\n",
       "   {'id': 'https://openalex.org/C190474826',\n",
       "    'wikidata': 'https://www.wikidata.org/wiki/Q2495111',\n",
       "    'display_name': 'Open quantum system',\n",
       "    'level': 3},\n",
       "   {'id': 'https://openalex.org/C58053490',\n",
       "    'wikidata': 'https://www.wikidata.org/wiki/Q176555',\n",
       "    'display_name': 'Quantum computer',\n",
       "    'level': 3},\n",
       "   {'id': 'https://openalex.org/C121040770',\n",
       "    'wikidata': 'https://www.wikidata.org/wiki/Q215675',\n",
       "    'display_name': 'Quantum entanglement',\n",
       "    'level': 3},\n",
       "   {'id': 'https://openalex.org/C169699857',\n",
       "    'wikidata': 'https://www.wikidata.org/wiki/Q2122243',\n",
       "    'display_name': 'Quantum information',\n",
       "    'level': 3},\n",
       "   {'id': 'https://openalex.org/C84114770',\n",
       "    'wikidata': 'https://www.wikidata.org/wiki/Q46344',\n",
       "    'display_name': 'Quantum',\n",
       "    'level': 2},\n",
       "   {'id': 'https://openalex.org/C62520636',\n",
       "    'wikidata': 'https://www.wikidata.org/wiki/Q944',\n",
       "    'display_name': 'Quantum mechanics',\n",
       "    'level': 1},\n",
       "   {'id': 'https://openalex.org/C121332964',\n",
       "    'wikidata': 'https://www.wikidata.org/wiki/Q413',\n",
       "    'display_name': 'Physics',\n",
       "    'level': 0}],\n",
       "  'related_concepts': [{'id': 'https://openalex.org/C22984246',\n",
       "    'wikidata': None,\n",
       "    'display_name': 'Quantum imaging',\n",
       "    'level': 5,\n",
       "    'score': 2.5802677},\n",
       "   {'id': 'https://openalex.org/C95013731',\n",
       "    'wikidata': None,\n",
       "    'display_name': 'Quantum metrology',\n",
       "    'level': 5,\n",
       "    'score': 2.5555367},\n",
       "   {'id': 'https://openalex.org/C190463098',\n",
       "    'wikidata': None,\n",
       "    'display_name': 'Quantum technology',\n",
       "    'level': 4,\n",
       "    'score': 2.2667952},\n",
       "   {'id': 'https://openalex.org/C121040770',\n",
       "    'wikidata': None,\n",
       "    'display_name': 'Quantum entanglement',\n",
       "    'level': 3,\n",
       "    'score': 1.8306594},\n",
       "   {'id': 'https://openalex.org/C68717125',\n",
       "    'wikidata': None,\n",
       "    'display_name': 'Quantum optics',\n",
       "    'level': 2,\n",
       "    'score': 1.0315906},\n",
       "   {'id': 'https://openalex.org/C58053490',\n",
       "    'wikidata': None,\n",
       "    'display_name': 'Quantum computer',\n",
       "    'level': 3,\n",
       "    'score': 1.0159596},\n",
       "   {'id': 'https://openalex.org/C95466800',\n",
       "    'wikidata': None,\n",
       "    'display_name': 'Quantum key distribution',\n",
       "    'level': 3,\n",
       "    'score': 0.8998693},\n",
       "   {'id': 'https://openalex.org/C2776646148',\n",
       "    'wikidata': None,\n",
       "    'display_name': 'Ghost imaging',\n",
       "    'level': 2,\n",
       "    'score': 0.81175107}],\n",
       "  'counts_by_year': [{'year': 2024,\n",
       "    'works_count': 201,\n",
       "    'cited_by_count': 13093},\n",
       "   {'year': 2023, 'works_count': 1022, 'cited_by_count': 32778},\n",
       "   {'year': 2022, 'works_count': 848, 'cited_by_count': 28797},\n",
       "   {'year': 2021, 'works_count': 759, 'cited_by_count': 28084},\n",
       "   {'year': 2020, 'works_count': 606, 'cited_by_count': 22802},\n",
       "   {'year': 2019, 'works_count': 556, 'cited_by_count': 18386},\n",
       "   {'year': 2018, 'works_count': 452, 'cited_by_count': 15490},\n",
       "   {'year': 2017, 'works_count': 472, 'cited_by_count': 14078},\n",
       "   {'year': 2016, 'works_count': 383, 'cited_by_count': 12991},\n",
       "   {'year': 2015, 'works_count': 333, 'cited_by_count': 10986},\n",
       "   {'year': 2014, 'works_count': 316, 'cited_by_count': 9899},\n",
       "   {'year': 2013, 'works_count': 287, 'cited_by_count': 8826},\n",
       "   {'year': 2012, 'works_count': 270, 'cited_by_count': 6912}],\n",
       "  'works_api_url': 'https://api.openalex.org/works?filter=concepts.id:C89143813',\n",
       "  'updated_date': '2024-05-28T02:25:43.464460',\n",
       "  'created_date': '2016-06-24'},\n",
       " {'id': 'https://openalex.org/C187483380',\n",
       "  'wikidata': 'https://www.wikidata.org/wiki/Q7825042',\n",
       "  'display_name': 'Topological quantum computer',\n",
       "  'relevance_score': 8979.249,\n",
       "  'level': 3,\n",
       "  'description': 'hypothetical fault-tolerant quantum computer based on topological condensed matter',\n",
       "  'works_count': 3369,\n",
       "  'cited_by_count': 92121,\n",
       "  'summary_stats': {'2yr_mean_citedness': 2.4213197969543145,\n",
       "   'h_index': 110,\n",
       "   'i10_index': 1001},\n",
       "  'ids': {'openalex': 'https://openalex.org/C187483380',\n",
       "   'wikidata': 'https://www.wikidata.org/wiki/Q7825042',\n",
       "   'mag': '187483380',\n",
       "   'wikipedia': 'https://en.wikipedia.org/wiki/Topological%20quantum%20computer'},\n",
       "  'image_url': None,\n",
       "  'image_thumbnail_url': None,\n",
       "  'international': {'display_name': {'ar': 'حاسوب كمومي طوبولوجي',\n",
       "    'en': 'topological quantum computer',\n",
       "    'eo': 'topologia kvantuma komputilo',\n",
       "    'es': 'computadora cuántica topológica',\n",
       "    'fa': 'رایانه کوانتومی توپولوژیکی',\n",
       "    'it': 'computer quantistico topologico',\n",
       "    'ja': 'トポロジカル量子コンピュータ',\n",
       "    'vi': 'Máy tính tôpô lượng tử',\n",
       "    'zh': '拓樸量子電腦',\n",
       "    'zh-hans': '拓扑量子计算机',\n",
       "    'zh-hant': '拓撲量子計算機'},\n",
       "   'description': {'en': 'hypothetical fault-tolerant quantum computer based on topological condensed matter',\n",
       "    'it': 'tipo ipotetico di computer quantistico basato sulla materia condensata topologica'}},\n",
       "  'ancestors': [{'id': 'https://openalex.org/C84114770',\n",
       "    'wikidata': 'https://www.wikidata.org/wiki/Q46344',\n",
       "    'display_name': 'Quantum',\n",
       "    'level': 2},\n",
       "   {'id': 'https://openalex.org/C62520636',\n",
       "    'wikidata': 'https://www.wikidata.org/wiki/Q944',\n",
       "    'display_name': 'Quantum mechanics',\n",
       "    'level': 1},\n",
       "   {'id': 'https://openalex.org/C121332964',\n",
       "    'wikidata': 'https://www.wikidata.org/wiki/Q413',\n",
       "    'display_name': 'Physics',\n",
       "    'level': 0}],\n",
       "  'related_concepts': [{'id': 'https://openalex.org/C2777446375',\n",
       "    'wikidata': None,\n",
       "    'display_name': 'Anyon',\n",
       "    'level': 4,\n",
       "    'score': 5.31476},\n",
       "   {'id': 'https://openalex.org/C58053490',\n",
       "    'wikidata': None,\n",
       "    'display_name': 'Quantum computer',\n",
       "    'level': 3,\n",
       "    'score': 4.270928},\n",
       "   {'id': 'https://openalex.org/C84883863',\n",
       "    'wikidata': None,\n",
       "    'display_name': 'Toric code',\n",
       "    'level': 4,\n",
       "    'score': 3.8325217},\n",
       "   {'id': 'https://openalex.org/C136479403',\n",
       "    'wikidata': None,\n",
       "    'display_name': 'Quasiparticle',\n",
       "    'level': 3,\n",
       "    'score': 2.1807702},\n",
       "   {'id': 'https://openalex.org/C45646460',\n",
       "    'wikidata': None,\n",
       "    'display_name': 'Topological order',\n",
       "    'level': 3,\n",
       "    'score': 2.1554368},\n",
       "   {'id': 'https://openalex.org/C71735400',\n",
       "    'wikidata': None,\n",
       "    'display_name': 'Fractionalization',\n",
       "    'level': 3,\n",
       "    'score': 1.8856611},\n",
       "   {'id': 'https://openalex.org/C51003876',\n",
       "    'wikidata': None,\n",
       "    'display_name': 'Quantum error correction',\n",
       "    'level': 4,\n",
       "    'score': 1.6394823},\n",
       "   {'id': 'https://openalex.org/C26873012',\n",
       "    'wikidata': None,\n",
       "    'display_name': 'Condensed matter physics',\n",
       "    'level': 1,\n",
       "    'score': 1.6326777},\n",
       "   {'id': 'https://openalex.org/C121332964',\n",
       "    'wikidata': None,\n",
       "    'display_name': 'Physics',\n",
       "    'level': 0,\n",
       "    'score': 1.5937611},\n",
       "   {'id': 'https://openalex.org/C30080830',\n",
       "    'wikidata': None,\n",
       "    'display_name': 'Graphene',\n",
       "    'level': 2,\n",
       "    'score': 1.5490388},\n",
       "   {'id': 'https://openalex.org/C121040770',\n",
       "    'wikidata': None,\n",
       "    'display_name': 'Quantum entanglement',\n",
       "    'level': 3,\n",
       "    'score': 1.4201221},\n",
       "   {'id': 'https://openalex.org/C2779101571',\n",
       "    'wikidata': None,\n",
       "    'display_name': 'Majorana fermion',\n",
       "    'level': 4,\n",
       "    'score': 1.4073533},\n",
       "   {'id': 'https://openalex.org/C79118098',\n",
       "    'wikidata': None,\n",
       "    'display_name': 'Boson',\n",
       "    'level': 2,\n",
       "    'score': 1.3897349},\n",
       "   {'id': 'https://openalex.org/C58849907',\n",
       "    'wikidata': None,\n",
       "    'display_name': 'Quantum gate',\n",
       "    'level': 4,\n",
       "    'score': 1.3788999},\n",
       "   {'id': 'https://openalex.org/C122527463',\n",
       "    'wikidata': None,\n",
       "    'display_name': 'Quantum decoherence',\n",
       "    'level': 3,\n",
       "    'score': 1.3176813},\n",
       "   {'id': 'https://openalex.org/C2778476455',\n",
       "    'wikidata': None,\n",
       "    'display_name': 'Dynamical decoupling',\n",
       "    'level': 4,\n",
       "    'score': 0.81746846},\n",
       "   {'id': 'https://openalex.org/C92542899',\n",
       "    'wikidata': None,\n",
       "    'display_name': 'Symmetry protected topological order',\n",
       "    'level': 4,\n",
       "    'score': 0.7890958}],\n",
       "  'counts_by_year': [{'year': 2024, 'works_count': 57, 'cited_by_count': 3574},\n",
       "   {'year': 2023, 'works_count': 234, 'cited_by_count': 10022},\n",
       "   {'year': 2022, 'works_count': 215, 'cited_by_count': 7581},\n",
       "   {'year': 2021, 'works_count': 174, 'cited_by_count': 8053},\n",
       "   {'year': 2020, 'works_count': 154, 'cited_by_count': 7594},\n",
       "   {'year': 2019, 'works_count': 138, 'cited_by_count': 6264},\n",
       "   {'year': 2018, 'works_count': 126, 'cited_by_count': 5394},\n",
       "   {'year': 2017, 'works_count': 137, 'cited_by_count': 5431},\n",
       "   {'year': 2016, 'works_count': 117, 'cited_by_count': 4923},\n",
       "   {'year': 2015, 'works_count': 143, 'cited_by_count': 4290},\n",
       "   {'year': 2014, 'works_count': 103, 'cited_by_count': 3710},\n",
       "   {'year': 2013, 'works_count': 100, 'cited_by_count': 3224},\n",
       "   {'year': 2012, 'works_count': 90, 'cited_by_count': 2756}],\n",
       "  'works_api_url': 'https://api.openalex.org/works?filter=concepts.id:C187483380',\n",
       "  'updated_date': '2024-05-28T02:27:38.927007',\n",
       "  'created_date': '2016-06-24'},\n",
       " {'id': 'https://openalex.org/C192353077',\n",
       "  'wikidata': 'https://www.wikidata.org/wiki/Q4682635',\n",
       "  'display_name': 'Adiabatic quantum computation',\n",
       "  'relevance_score': 6364.903,\n",
       "  'level': 4,\n",
       "  'description': 'type of quantum information processing',\n",
       "  'works_count': 1964,\n",
       "  'cited_by_count': 39031,\n",
       "  'summary_stats': {'2yr_mean_citedness': 1.5393700787401574,\n",
       "   'h_index': 91,\n",
       "   'i10_index': 595},\n",
       "  'ids': {'openalex': 'https://openalex.org/C192353077',\n",
       "   'wikidata': 'https://www.wikidata.org/wiki/Q4682635',\n",
       "   'mag': '192353077',\n",
       "   'wikipedia': 'https://en.wikipedia.org/wiki/Adiabatic%20quantum%20computation'},\n",
       "  'image_url': None,\n",
       "  'image_thumbnail_url': None,\n",
       "  'international': {'display_name': {'en': 'adiabatic quantum computation',\n",
       "    'eo': 'adiabata kvantuma komputado',\n",
       "    'es': 'Computación adiabática cuántica',\n",
       "    'fr': 'calcul quantique adiabatique',\n",
       "    'ja': '断熱量子計算',\n",
       "    'ro': 'calcul cuantic adiabatic',\n",
       "    'ru': 'Адиабатические квантовые вычисления',\n",
       "    'zh': '绝热量子计算机'},\n",
       "   'description': {'en': 'type of quantum information processing',\n",
       "    'es': 'modelo de computación cuántica',\n",
       "    'ru': 'Адиабатические квантовые вычисления'}},\n",
       "  'ancestors': [{'id': 'https://openalex.org/C58053490',\n",
       "    'wikidata': 'https://www.wikidata.org/wiki/Q176555',\n",
       "    'display_name': 'Quantum computer',\n",
       "    'level': 3},\n",
       "   {'id': 'https://openalex.org/C84114770',\n",
       "    'wikidata': 'https://www.wikidata.org/wiki/Q46344',\n",
       "    'display_name': 'Quantum',\n",
       "    'level': 2},\n",
       "   {'id': 'https://openalex.org/C62520636',\n",
       "    'wikidata': 'https://www.wikidata.org/wiki/Q944',\n",
       "    'display_name': 'Quantum mechanics',\n",
       "    'level': 1},\n",
       "   {'id': 'https://openalex.org/C121332964',\n",
       "    'wikidata': 'https://www.wikidata.org/wiki/Q413',\n",
       "    'display_name': 'Physics',\n",
       "    'level': 0}],\n",
       "  'related_concepts': [{'id': 'https://openalex.org/C58053490',\n",
       "    'wikidata': None,\n",
       "    'display_name': 'Quantum computer',\n",
       "    'level': 3,\n",
       "    'score': 4.5148873},\n",
       "   {'id': 'https://openalex.org/C90408235',\n",
       "    'wikidata': None,\n",
       "    'display_name': 'Quantum annealing',\n",
       "    'level': 4,\n",
       "    'score': 3.1560936},\n",
       "   {'id': 'https://openalex.org/C203087015',\n",
       "    'wikidata': None,\n",
       "    'display_name': 'Qubit',\n",
       "    'level': 3,\n",
       "    'score': 2.6362708},\n",
       "   {'id': 'https://openalex.org/C58849907',\n",
       "    'wikidata': None,\n",
       "    'display_name': 'Quantum gate',\n",
       "    'level': 4,\n",
       "    'score': 1.2305106},\n",
       "   {'id': 'https://openalex.org/C59500034',\n",
       "    'wikidata': None,\n",
       "    'display_name': 'Quantum Fourier transform',\n",
       "    'level': 5,\n",
       "    'score': 1.106866},\n",
       "   {'id': 'https://openalex.org/C51003876',\n",
       "    'wikidata': None,\n",
       "    'display_name': 'Quantum error correction',\n",
       "    'level': 4,\n",
       "    'score': 1.0778261},\n",
       "   {'id': 'https://openalex.org/C121040770',\n",
       "    'wikidata': None,\n",
       "    'display_name': 'Quantum entanglement',\n",
       "    'level': 3,\n",
       "    'score': 1.0257784},\n",
       "   {'id': 'https://openalex.org/C179799912',\n",
       "    'wikidata': None,\n",
       "    'display_name': 'Computational complexity theory',\n",
       "    'level': 2,\n",
       "    'score': 1.0155728},\n",
       "   {'id': 'https://openalex.org/C194975256',\n",
       "    'wikidata': None,\n",
       "    'display_name': 'Quantum dissipation',\n",
       "    'level': 3,\n",
       "    'score': 0.99819964},\n",
       "   {'id': 'https://openalex.org/C206040425',\n",
       "    'wikidata': None,\n",
       "    'display_name': 'Amplitude damping channel',\n",
       "    'level': 5,\n",
       "    'score': 0.9779139},\n",
       "   {'id': 'https://openalex.org/C174256460',\n",
       "    'wikidata': None,\n",
       "    'display_name': 'Perturbation theory (quantum mechanics)',\n",
       "    'level': 2,\n",
       "    'score': 0.96856713},\n",
       "   {'id': 'https://openalex.org/C55615164',\n",
       "    'wikidata': None,\n",
       "    'display_name': 'Quantum superposition',\n",
       "    'level': 3,\n",
       "    'score': 0.96591276},\n",
       "   {'id': 'https://openalex.org/C43066278',\n",
       "    'wikidata': None,\n",
       "    'display_name': 'Born–Huang approximation',\n",
       "    'level': 3,\n",
       "    'score': 0.9483899},\n",
       "   {'id': 'https://openalex.org/C22448393',\n",
       "    'wikidata': None,\n",
       "    'display_name': 'Berry connection and curvature',\n",
       "    'level': 3,\n",
       "    'score': 0.9412589}],\n",
       "  'counts_by_year': [{'year': 2024, 'works_count': 17, 'cited_by_count': 1207},\n",
       "   {'year': 2023, 'works_count': 83, 'cited_by_count': 3243},\n",
       "   {'year': 2022, 'works_count': 125, 'cited_by_count': 3453},\n",
       "   {'year': 2021, 'works_count': 122, 'cited_by_count': 3723},\n",
       "   {'year': 2020, 'works_count': 96, 'cited_by_count': 3127},\n",
       "   {'year': 2019, 'works_count': 89, 'cited_by_count': 2712},\n",
       "   {'year': 2018, 'works_count': 70, 'cited_by_count': 2331},\n",
       "   {'year': 2017, 'works_count': 68, 'cited_by_count': 1936},\n",
       "   {'year': 2016, 'works_count': 66, 'cited_by_count': 1703},\n",
       "   {'year': 2015, 'works_count': 74, 'cited_by_count': 1534},\n",
       "   {'year': 2014, 'works_count': 87, 'cited_by_count': 1638},\n",
       "   {'year': 2013, 'works_count': 78, 'cited_by_count': 1121},\n",
       "   {'year': 2012, 'works_count': 83, 'cited_by_count': 1197}],\n",
       "  'works_api_url': 'https://api.openalex.org/works?filter=concepts.id:C192353077',\n",
       "  'updated_date': '2024-05-28T02:39:29.193744',\n",
       "  'created_date': '2016-06-24'},\n",
       " {'id': 'https://openalex.org/C183968085',\n",
       "  'wikidata': 'https://www.wikidata.org/wiki/Q7835639',\n",
       "  'display_name': 'Trapped ion quantum computer',\n",
       "  'relevance_score': 6266.258,\n",
       "  'level': 5,\n",
       "  'description': 'proposed quantum computer implementation',\n",
       "  'works_count': 1212,\n",
       "  'cited_by_count': 61499,\n",
       "  'summary_stats': {'2yr_mean_citedness': 4.345238095238095,\n",
       "   'h_index': 109,\n",
       "   'i10_index': 415},\n",
       "  'ids': {'openalex': 'https://openalex.org/C183968085',\n",
       "   'wikidata': 'https://www.wikidata.org/wiki/Q7835639',\n",
       "   'mag': '183968085',\n",
       "   'wikipedia': 'https://en.wikipedia.org/wiki/Trapped%20ion%20quantum%20computer'},\n",
       "  'image_url': 'https://upload.wikimedia.org/wikipedia/commons/1/1c/Quantum_Computing%3B_Ion_Trapping_%285941055642%29.jpg',\n",
       "  'image_thumbnail_url': 'https://upload.wikimedia.org/wikipedia/commons/thumb/1/1c/Quantum_Computing%3B_Ion_Trapping_%285941055642%29.jpg/100px-Quantum_Computing%3B_Ion_Trapping_%285941055642%29.jpg',\n",
       "  'international': {'display_name': {'en': 'Trapped ion quantum computer',\n",
       "    'ja': 'トラップドイオン量子コンピュータ',\n",
       "    'ko': '포획 이온 양자컴퓨터',\n",
       "    'vi': 'Máy tính lượng tử bẫy ion',\n",
       "    'zh': '俘获离子量子计算机',\n",
       "    'zh-cn': '囚禁离子量子计算机',\n",
       "    'zh-hans': '囚禁离子量子计算机',\n",
       "    'zh-hant': '囚禁離子量子計算機'},\n",
       "   'description': {'en': 'proposed quantum computer implementation'}},\n",
       "  'ancestors': [{'id': 'https://openalex.org/C74939445',\n",
       "    'wikidata': 'https://www.wikidata.org/wiki/Q5055185',\n",
       "    'display_name': 'Cavity quantum electrodynamics',\n",
       "    'level': 4},\n",
       "   {'id': 'https://openalex.org/C51003876',\n",
       "    'wikidata': 'https://www.wikidata.org/wiki/Q1536431',\n",
       "    'display_name': 'Quantum error correction',\n",
       "    'level': 4},\n",
       "   {'id': 'https://openalex.org/C186468114',\n",
       "    'wikidata': 'https://www.wikidata.org/wiki/Q836478',\n",
       "    'display_name': 'Quantum network',\n",
       "    'level': 4},\n",
       "   {'id': 'https://openalex.org/C161166931',\n",
       "    'wikidata': 'https://www.wikidata.org/wiki/Q7269096',\n",
       "    'display_name': 'Quantum simulator',\n",
       "    'level': 4},\n",
       "   {'id': 'https://openalex.org/C190463098',\n",
       "    'wikidata': 'https://www.wikidata.org/wiki/Q2081419',\n",
       "    'display_name': 'Quantum technology',\n",
       "    'level': 4},\n",
       "   {'id': 'https://openalex.org/C190474826',\n",
       "    'wikidata': 'https://www.wikidata.org/wiki/Q2495111',\n",
       "    'display_name': 'Open quantum system',\n",
       "    'level': 3},\n",
       "   {'id': 'https://openalex.org/C137019171',\n",
       "    'wikidata': 'https://www.wikidata.org/wiki/Q2623817',\n",
       "    'display_name': 'Quantum algorithm',\n",
       "    'level': 3},\n",
       "   {'id': 'https://openalex.org/C58053490',\n",
       "    'wikidata': 'https://www.wikidata.org/wiki/Q176555',\n",
       "    'display_name': 'Quantum computer',\n",
       "    'level': 3},\n",
       "   {'id': 'https://openalex.org/C121040770',\n",
       "    'wikidata': 'https://www.wikidata.org/wiki/Q215675',\n",
       "    'display_name': 'Quantum entanglement',\n",
       "    'level': 3},\n",
       "   {'id': 'https://openalex.org/C169699857',\n",
       "    'wikidata': 'https://www.wikidata.org/wiki/Q2122243',\n",
       "    'display_name': 'Quantum information',\n",
       "    'level': 3},\n",
       "   {'id': 'https://openalex.org/C203087015',\n",
       "    'wikidata': 'https://www.wikidata.org/wiki/Q378201',\n",
       "    'display_name': 'Qubit',\n",
       "    'level': 3},\n",
       "   {'id': 'https://openalex.org/C84114770',\n",
       "    'wikidata': 'https://www.wikidata.org/wiki/Q46344',\n",
       "    'display_name': 'Quantum',\n",
       "    'level': 2},\n",
       "   {'id': 'https://openalex.org/C62520636',\n",
       "    'wikidata': 'https://www.wikidata.org/wiki/Q944',\n",
       "    'display_name': 'Quantum mechanics',\n",
       "    'level': 1},\n",
       "   {'id': 'https://openalex.org/C121332964',\n",
       "    'wikidata': 'https://www.wikidata.org/wiki/Q413',\n",
       "    'display_name': 'Physics',\n",
       "    'level': 0}],\n",
       "  'related_concepts': [{'id': 'https://openalex.org/C58053490',\n",
       "    'wikidata': None,\n",
       "    'display_name': 'Quantum computer',\n",
       "    'level': 3,\n",
       "    'score': 4.3681545},\n",
       "   {'id': 'https://openalex.org/C106289968',\n",
       "    'wikidata': None,\n",
       "    'display_name': 'Ion trap',\n",
       "    'level': 3,\n",
       "    'score': 4.1815324},\n",
       "   {'id': 'https://openalex.org/C91717678',\n",
       "    'wikidata': None,\n",
       "    'display_name': 'Quantum teleportation',\n",
       "    'level': 5,\n",
       "    'score': 2.9661632},\n",
       "   {'id': 'https://openalex.org/C124148022',\n",
       "    'wikidata': None,\n",
       "    'display_name': 'Quantum circuit',\n",
       "    'level': 5,\n",
       "    'score': 2.8642535},\n",
       "   {'id': 'https://openalex.org/C58849907',\n",
       "    'wikidata': None,\n",
       "    'display_name': 'Quantum gate',\n",
       "    'level': 4,\n",
       "    'score': 2.7076118},\n",
       "   {'id': 'https://openalex.org/C51003876',\n",
       "    'wikidata': None,\n",
       "    'display_name': 'Quantum error correction',\n",
       "    'level': 4,\n",
       "    'score': 2.5877454},\n",
       "   {'id': 'https://openalex.org/C19271316',\n",
       "    'wikidata': None,\n",
       "    'display_name': 'One-way quantum computer',\n",
       "    'level': 5,\n",
       "    'score': 2.2986386},\n",
       "   {'id': 'https://openalex.org/C169699857',\n",
       "    'wikidata': None,\n",
       "    'display_name': 'Quantum information',\n",
       "    'level': 3,\n",
       "    'score': 2.2877698},\n",
       "   {'id': 'https://openalex.org/C158456648',\n",
       "    'wikidata': None,\n",
       "    'display_name': 'Cluster state',\n",
       "    'level': 4,\n",
       "    'score': 2.227232},\n",
       "   {'id': 'https://openalex.org/C203087015',\n",
       "    'wikidata': None,\n",
       "    'display_name': 'Qubit',\n",
       "    'level': 3,\n",
       "    'score': 2.0079634},\n",
       "   {'id': 'https://openalex.org/C182953411',\n",
       "    'wikidata': None,\n",
       "    'display_name': 'Controlled NOT gate',\n",
       "    'level': 5,\n",
       "    'score': 1.9865949},\n",
       "   {'id': 'https://openalex.org/C74939445',\n",
       "    'wikidata': None,\n",
       "    'display_name': 'Cavity quantum electrodynamics',\n",
       "    'level': 4,\n",
       "    'score': 1.811666},\n",
       "   {'id': 'https://openalex.org/C143873397',\n",
       "    'wikidata': None,\n",
       "    'display_name': 'Penning trap',\n",
       "    'level': 3,\n",
       "    'score': 1.7290418},\n",
       "   {'id': 'https://openalex.org/C161166931',\n",
       "    'wikidata': None,\n",
       "    'display_name': 'Quantum simulator',\n",
       "    'level': 4,\n",
       "    'score': 1.7240299},\n",
       "   {'id': 'https://openalex.org/C187678412',\n",
       "    'wikidata': None,\n",
       "    'display_name': 'Superdense coding',\n",
       "    'level': 5,\n",
       "    'score': 1.7189761},\n",
       "   {'id': 'https://openalex.org/C119382340',\n",
       "    'wikidata': None,\n",
       "    'display_name': 'Superconducting quantum computing',\n",
       "    'level': 4,\n",
       "    'score': 1.6667058},\n",
       "   {'id': 'https://openalex.org/C203187862',\n",
       "    'wikidata': None,\n",
       "    'display_name': 'Electric dipole transition',\n",
       "    'level': 4,\n",
       "    'score': 1.4183356},\n",
       "   {'id': 'https://openalex.org/C85608146',\n",
       "    'wikidata': None,\n",
       "    'display_name': 'Charge qubit',\n",
       "    'level': 5,\n",
       "    'score': 1.1193929},\n",
       "   {'id': 'https://openalex.org/C2776222033',\n",
       "    'wikidata': None,\n",
       "    'display_name': 'Transmon',\n",
       "    'level': 4,\n",
       "    'score': 0.8570631},\n",
       "   {'id': 'https://openalex.org/C2778476455',\n",
       "    'wikidata': None,\n",
       "    'display_name': 'Dynamical decoupling',\n",
       "    'level': 4,\n",
       "    'score': 0.76908153}],\n",
       "  'counts_by_year': [{'year': 2024, 'works_count': 17, 'cited_by_count': 1736},\n",
       "   {'year': 2023, 'works_count': 81, 'cited_by_count': 4936},\n",
       "   {'year': 2022, 'works_count': 76, 'cited_by_count': 4721},\n",
       "   {'year': 2021, 'works_count': 91, 'cited_by_count': 5149},\n",
       "   {'year': 2020, 'works_count': 49, 'cited_by_count': 4380},\n",
       "   {'year': 2019, 'works_count': 55, 'cited_by_count': 3593},\n",
       "   {'year': 2018, 'works_count': 45, 'cited_by_count': 2873},\n",
       "   {'year': 2017, 'works_count': 39, 'cited_by_count': 2797},\n",
       "   {'year': 2016, 'works_count': 54, 'cited_by_count': 2972},\n",
       "   {'year': 2015, 'works_count': 41, 'cited_by_count': 2709},\n",
       "   {'year': 2014, 'works_count': 49, 'cited_by_count': 2692},\n",
       "   {'year': 2013, 'works_count': 38, 'cited_by_count': 2962},\n",
       "   {'year': 2012, 'works_count': 36, 'cited_by_count': 2445}],\n",
       "  'works_api_url': 'https://api.openalex.org/works?filter=concepts.id:C183968085',\n",
       "  'updated_date': '2024-05-28T03:22:47.557101',\n",
       "  'created_date': '2016-06-24'},\n",
       " {'id': 'https://openalex.org/C108277079',\n",
       "  'wikidata': 'https://www.wikidata.org/wiki/Q7233576',\n",
       "  'display_name': 'Post-quantum cryptography',\n",
       "  'relevance_score': 5808.283,\n",
       "  'level': 4,\n",
       "  'description': 'cryptography that is secure against quantum computers',\n",
       "  'works_count': 1384,\n",
       "  'cited_by_count': 27986,\n",
       "  'summary_stats': {'2yr_mean_citedness': 1.626865671641791,\n",
       "   'h_index': 47,\n",
       "   'i10_index': 246},\n",
       "  'ids': {'openalex': 'https://openalex.org/C108277079',\n",
       "   'wikidata': 'https://www.wikidata.org/wiki/Q7233576',\n",
       "   'mag': '108277079',\n",
       "   'wikipedia': 'https://en.wikipedia.org/wiki/Post-quantum%20cryptography'},\n",
       "  'image_url': None,\n",
       "  'image_thumbnail_url': None,\n",
       "  'international': {'display_name': {'cs': 'postkvantová kryptografie',\n",
       "    'de': 'Post-Quanten-Kryptographie',\n",
       "    'en': 'post-quantum cryptography',\n",
       "    'es': 'Criptografía Post Cuántica',\n",
       "    'et': 'Postkvantkrüptograafia',\n",
       "    'fa': 'رمزنگاری پساکوانتوم',\n",
       "    'fr': 'cryptographie post-quantique',\n",
       "    'he': 'הצפנה פוסט-קוונטית',\n",
       "    'ja': 'ポスト量子暗号',\n",
       "    'ko': '양자 후 암호',\n",
       "    'pl': 'kryptografia postkwantowa',\n",
       "    'pt': 'criptografia pós-quântica',\n",
       "    'ru': 'постквантовая криптография',\n",
       "    'zh': '后量子密码学'},\n",
       "   'description': {'de': 'Quantencomputer-resistente Kryptographie',\n",
       "    'en': 'cryptography that is secure against quantum computers',\n",
       "    'ko': '양자 컴퓨터에 대항하는 암호',\n",
       "    'pt': 'algoritmos criptográficos considerados seguros contra um ataque de um computador quântico',\n",
       "    'ru': 'часть криптографии, которая остаётся актуальной и при появлении квантовых компьютеров и квантовых атак'}},\n",
       "  'ancestors': [{'id': 'https://openalex.org/C203062551',\n",
       "    'wikidata': 'https://www.wikidata.org/wiki/Q201339',\n",
       "    'display_name': 'Public-key cryptography',\n",
       "    'level': 3},\n",
       "   {'id': 'https://openalex.org/C58053490',\n",
       "    'wikidata': 'https://www.wikidata.org/wiki/Q176555',\n",
       "    'display_name': 'Quantum computer',\n",
       "    'level': 3},\n",
       "   {'id': 'https://openalex.org/C148730421',\n",
       "    'wikidata': 'https://www.wikidata.org/wiki/Q141090',\n",
       "    'display_name': 'Encryption',\n",
       "    'level': 2},\n",
       "   {'id': 'https://openalex.org/C84114770',\n",
       "    'wikidata': 'https://www.wikidata.org/wiki/Q46344',\n",
       "    'display_name': 'Quantum',\n",
       "    'level': 2},\n",
       "   {'id': 'https://openalex.org/C31258907',\n",
       "    'wikidata': 'https://www.wikidata.org/wiki/Q1301371',\n",
       "    'display_name': 'Computer network',\n",
       "    'level': 1},\n",
       "   {'id': 'https://openalex.org/C38652104',\n",
       "    'wikidata': 'https://www.wikidata.org/wiki/Q3510521',\n",
       "    'display_name': 'Computer security',\n",
       "    'level': 1},\n",
       "   {'id': 'https://openalex.org/C111919701',\n",
       "    'wikidata': 'https://www.wikidata.org/wiki/Q9135',\n",
       "    'display_name': 'Operating system',\n",
       "    'level': 1},\n",
       "   {'id': 'https://openalex.org/C62520636',\n",
       "    'wikidata': 'https://www.wikidata.org/wiki/Q944',\n",
       "    'display_name': 'Quantum mechanics',\n",
       "    'level': 1},\n",
       "   {'id': 'https://openalex.org/C41008148',\n",
       "    'wikidata': 'https://www.wikidata.org/wiki/Q21198',\n",
       "    'display_name': 'Computer science',\n",
       "    'level': 0},\n",
       "   {'id': 'https://openalex.org/C121332964',\n",
       "    'wikidata': 'https://www.wikidata.org/wiki/Q413',\n",
       "    'display_name': 'Physics',\n",
       "    'level': 0}],\n",
       "  'related_concepts': [{'id': 'https://openalex.org/C16935551',\n",
       "    'wikidata': None,\n",
       "    'display_name': 'McEliece cryptosystem',\n",
       "    'level': 4,\n",
       "    'score': 4.987563},\n",
       "   {'id': 'https://openalex.org/C178489894',\n",
       "    'wikidata': None,\n",
       "    'display_name': 'Cryptography',\n",
       "    'level': 2,\n",
       "    'score': 4.920188},\n",
       "   {'id': 'https://openalex.org/C58053490',\n",
       "    'wikidata': None,\n",
       "    'display_name': 'Quantum computer',\n",
       "    'level': 3,\n",
       "    'score': 4.880802},\n",
       "   {'id': 'https://openalex.org/C137660015',\n",
       "    'wikidata': None,\n",
       "    'display_name': 'Lattice-based cryptography',\n",
       "    'level': 5,\n",
       "    'score': 4.594075},\n",
       "   {'id': 'https://openalex.org/C203062551',\n",
       "    'wikidata': None,\n",
       "    'display_name': 'Public-key cryptography',\n",
       "    'level': 3,\n",
       "    'score': 4.0035896},\n",
       "   {'id': 'https://openalex.org/C144901912',\n",
       "    'wikidata': None,\n",
       "    'display_name': 'Quantum cryptography',\n",
       "    'level': 4,\n",
       "    'score': 3.520645},\n",
       "   {'id': 'https://openalex.org/C167615521',\n",
       "    'wikidata': None,\n",
       "    'display_name': 'Elliptic curve cryptography',\n",
       "    'level': 4,\n",
       "    'score': 3.4397461},\n",
       "   {'id': 'https://openalex.org/C122368425',\n",
       "    'wikidata': None,\n",
       "    'display_name': 'NTRU',\n",
       "    'level': 4,\n",
       "    'score': 2.8278115},\n",
       "   {'id': 'https://openalex.org/C181149355',\n",
       "    'wikidata': None,\n",
       "    'display_name': 'Cryptanalysis',\n",
       "    'level': 3,\n",
       "    'score': 2.8107252},\n",
       "   {'id': 'https://openalex.org/C29524669',\n",
       "    'wikidata': None,\n",
       "    'display_name': 'Diffie–Hellman key exchange',\n",
       "    'level': 5,\n",
       "    'score': 2.80238},\n",
       "   {'id': 'https://openalex.org/C118463975',\n",
       "    'wikidata': None,\n",
       "    'display_name': 'Digital signature',\n",
       "    'level': 3,\n",
       "    'score': 2.7883453},\n",
       "   {'id': 'https://openalex.org/C47750902',\n",
       "    'wikidata': None,\n",
       "    'display_name': 'Key size',\n",
       "    'level': 4,\n",
       "    'score': 2.749684},\n",
       "   {'id': 'https://openalex.org/C137019171',\n",
       "    'wikidata': None,\n",
       "    'display_name': 'Quantum algorithm',\n",
       "    'level': 3,\n",
       "    'score': 2.2284818},\n",
       "   {'id': 'https://openalex.org/C59500034',\n",
       "    'wikidata': None,\n",
       "    'display_name': 'Quantum Fourier transform',\n",
       "    'level': 5,\n",
       "    'score': 2.1239905},\n",
       "   {'id': 'https://openalex.org/C2779014939',\n",
       "    'wikidata': None,\n",
       "    'display_name': 'Learning with errors',\n",
       "    'level': 3,\n",
       "    'score': 1.8514199},\n",
       "   {'id': 'https://openalex.org/C158338273',\n",
       "    'wikidata': None,\n",
       "    'display_name': 'Homomorphic encryption',\n",
       "    'level': 3,\n",
       "    'score': 1.6857867},\n",
       "   {'id': 'https://openalex.org/C40404285',\n",
       "    'wikidata': None,\n",
       "    'display_name': 'Merkle signature scheme',\n",
       "    'level': 5,\n",
       "    'score': 1.5927566},\n",
       "   {'id': 'https://openalex.org/C132860680',\n",
       "    'wikidata': None,\n",
       "    'display_name': 'ElGamal signature scheme',\n",
       "    'level': 5,\n",
       "    'score': 1.2461404},\n",
       "   {'id': 'https://openalex.org/C198690329',\n",
       "    'wikidata': None,\n",
       "    'display_name': 'Curve25519',\n",
       "    'level': 5,\n",
       "    'score': 1.1112443}],\n",
       "  'counts_by_year': [{'year': 2024, 'works_count': 31, 'cited_by_count': 1268},\n",
       "   {'year': 2023, 'works_count': 143, 'cited_by_count': 3459},\n",
       "   {'year': 2022, 'works_count': 140, 'cited_by_count': 3181},\n",
       "   {'year': 2021, 'works_count': 128, 'cited_by_count': 2989},\n",
       "   {'year': 2020, 'works_count': 116, 'cited_by_count': 2693},\n",
       "   {'year': 2019, 'works_count': 102, 'cited_by_count': 1957},\n",
       "   {'year': 2018, 'works_count': 88, 'cited_by_count': 1473},\n",
       "   {'year': 2017, 'works_count': 77, 'cited_by_count': 1324},\n",
       "   {'year': 2016, 'works_count': 53, 'cited_by_count': 1093},\n",
       "   {'year': 2015, 'works_count': 41, 'cited_by_count': 1100},\n",
       "   {'year': 2014, 'works_count': 39, 'cited_by_count': 951},\n",
       "   {'year': 2013, 'works_count': 33, 'cited_by_count': 742},\n",
       "   {'year': 2012, 'works_count': 46, 'cited_by_count': 706}],\n",
       "  'works_api_url': 'https://api.openalex.org/works?filter=concepts.id:C108277079',\n",
       "  'updated_date': '2024-05-28T02:43:46.540820',\n",
       "  'created_date': '2016-06-24'},\n",
       " {'id': 'https://openalex.org/C19271316',\n",
       "  'wikidata': 'https://www.wikidata.org/wiki/Q7092353',\n",
       "  'display_name': 'One-way quantum computer',\n",
       "  'relevance_score': 5101.3623,\n",
       "  'level': 5,\n",
       "  'description': 'quantum computer that first prepares an entangled resource state and then performs single qubit measurements on it',\n",
       "  'works_count': 1536,\n",
       "  'cited_by_count': 40684,\n",
       "  'summary_stats': {'2yr_mean_citedness': 2.893719806763285,\n",
       "   'h_index': 83,\n",
       "   'i10_index': 446},\n",
       "  'ids': {'openalex': 'https://openalex.org/C19271316',\n",
       "   'wikidata': 'https://www.wikidata.org/wiki/Q7092353',\n",
       "   'mag': '19271316',\n",
       "   'wikipedia': 'https://en.wikipedia.org/wiki/One-way%20quantum%20computer'},\n",
       "  'image_url': None,\n",
       "  'image_thumbnail_url': None,\n",
       "  'international': {'display_name': {'en': 'one-way quantum computer',\n",
       "    'eo': 'unudirekta kvantuma komputilo',\n",
       "    'ka': 'გაზომვებზე დამყარებული კვანტური გამოთვლები',\n",
       "    'uk': \"Однобічний квантовий комп'ютер\"},\n",
       "   'description': {'en': 'quantum computer that first prepares an entangled resource state and then performs single qubit measurements on it'}},\n",
       "  'ancestors': [{'id': 'https://openalex.org/C187486625',\n",
       "    'wikidata': 'https://www.wikidata.org/wiki/Q2122176',\n",
       "    'display_name': 'Quantum channel',\n",
       "    'level': 4},\n",
       "   {'id': 'https://openalex.org/C51003876',\n",
       "    'wikidata': 'https://www.wikidata.org/wiki/Q1536431',\n",
       "    'display_name': 'Quantum error correction',\n",
       "    'level': 4},\n",
       "   {'id': 'https://openalex.org/C186468114',\n",
       "    'wikidata': 'https://www.wikidata.org/wiki/Q836478',\n",
       "    'display_name': 'Quantum network',\n",
       "    'level': 4},\n",
       "   {'id': 'https://openalex.org/C43682372',\n",
       "    'wikidata': 'https://www.wikidata.org/wiki/Q7269080',\n",
       "    'display_name': 'Quantum operation',\n",
       "    'level': 4},\n",
       "   {'id': 'https://openalex.org/C11255438',\n",
       "    'wikidata': 'https://www.wikidata.org/wiki/Q7269085',\n",
       "    'display_name': 'Quantum process',\n",
       "    'level': 4},\n",
       "   {'id': 'https://openalex.org/C161166931',\n",
       "    'wikidata': 'https://www.wikidata.org/wiki/Q7269096',\n",
       "    'display_name': 'Quantum simulator',\n",
       "    'level': 4},\n",
       "   {'id': 'https://openalex.org/C190463098',\n",
       "    'wikidata': 'https://www.wikidata.org/wiki/Q2081419',\n",
       "    'display_name': 'Quantum technology',\n",
       "    'level': 4},\n",
       "   {'id': 'https://openalex.org/C190474826',\n",
       "    'wikidata': 'https://www.wikidata.org/wiki/Q2495111',\n",
       "    'display_name': 'Open quantum system',\n",
       "    'level': 3},\n",
       "   {'id': 'https://openalex.org/C137019171',\n",
       "    'wikidata': 'https://www.wikidata.org/wiki/Q2623817',\n",
       "    'display_name': 'Quantum algorithm',\n",
       "    'level': 3},\n",
       "   {'id': 'https://openalex.org/C58053490',\n",
       "    'wikidata': 'https://www.wikidata.org/wiki/Q176555',\n",
       "    'display_name': 'Quantum computer',\n",
       "    'level': 3},\n",
       "   {'id': 'https://openalex.org/C15184713',\n",
       "    'wikidata': 'https://www.wikidata.org/wiki/Q7269042',\n",
       "    'display_name': 'Quantum dynamics',\n",
       "    'level': 3},\n",
       "   {'id': 'https://openalex.org/C121040770',\n",
       "    'wikidata': 'https://www.wikidata.org/wiki/Q215675',\n",
       "    'display_name': 'Quantum entanglement',\n",
       "    'level': 3},\n",
       "   {'id': 'https://openalex.org/C169699857',\n",
       "    'wikidata': 'https://www.wikidata.org/wiki/Q2122243',\n",
       "    'display_name': 'Quantum information',\n",
       "    'level': 3},\n",
       "   {'id': 'https://openalex.org/C203087015',\n",
       "    'wikidata': 'https://www.wikidata.org/wiki/Q378201',\n",
       "    'display_name': 'Qubit',\n",
       "    'level': 3},\n",
       "   {'id': 'https://openalex.org/C84114770',\n",
       "    'wikidata': 'https://www.wikidata.org/wiki/Q46344',\n",
       "    'display_name': 'Quantum',\n",
       "    'level': 2},\n",
       "   {'id': 'https://openalex.org/C62520636',\n",
       "    'wikidata': 'https://www.wikidata.org/wiki/Q944',\n",
       "    'display_name': 'Quantum mechanics',\n",
       "    'level': 1},\n",
       "   {'id': 'https://openalex.org/C121332964',\n",
       "    'wikidata': 'https://www.wikidata.org/wiki/Q413',\n",
       "    'display_name': 'Physics',\n",
       "    'level': 0}],\n",
       "  'related_concepts': [{'id': 'https://openalex.org/C158456648',\n",
       "    'wikidata': None,\n",
       "    'display_name': 'Cluster state',\n",
       "    'level': 4,\n",
       "    'score': 4.403355},\n",
       "   {'id': 'https://openalex.org/C58053490',\n",
       "    'wikidata': None,\n",
       "    'display_name': 'Quantum computer',\n",
       "    'level': 3,\n",
       "    'score': 4.3989415},\n",
       "   {'id': 'https://openalex.org/C91717678',\n",
       "    'wikidata': None,\n",
       "    'display_name': 'Quantum teleportation',\n",
       "    'level': 5,\n",
       "    'score': 2.7353828},\n",
       "   {'id': 'https://openalex.org/C137019171',\n",
       "    'wikidata': None,\n",
       "    'display_name': 'Quantum algorithm',\n",
       "    'level': 3,\n",
       "    'score': 2.63332},\n",
       "   {'id': 'https://openalex.org/C121040770',\n",
       "    'wikidata': None,\n",
       "    'display_name': 'Quantum entanglement',\n",
       "    'level': 3,\n",
       "    'score': 2.5303297},\n",
       "   {'id': 'https://openalex.org/C58849907',\n",
       "    'wikidata': None,\n",
       "    'display_name': 'Quantum gate',\n",
       "    'level': 4,\n",
       "    'score': 2.5181086},\n",
       "   {'id': 'https://openalex.org/C124148022',\n",
       "    'wikidata': None,\n",
       "    'display_name': 'Quantum circuit',\n",
       "    'level': 5,\n",
       "    'score': 2.3490725},\n",
       "   {'id': 'https://openalex.org/C118704821',\n",
       "    'wikidata': None,\n",
       "    'display_name': 'Bell state',\n",
       "    'level': 4,\n",
       "    'score': 2.3144357},\n",
       "   {'id': 'https://openalex.org/C183968085',\n",
       "    'wikidata': None,\n",
       "    'display_name': 'Trapped ion quantum computer',\n",
       "    'level': 5,\n",
       "    'score': 2.2986386},\n",
       "   {'id': 'https://openalex.org/C182953411',\n",
       "    'wikidata': None,\n",
       "    'display_name': 'Controlled NOT gate',\n",
       "    'level': 5,\n",
       "    'score': 2.2145061},\n",
       "   {'id': 'https://openalex.org/C51003876',\n",
       "    'wikidata': None,\n",
       "    'display_name': 'Quantum error correction',\n",
       "    'level': 4,\n",
       "    'score': 2.122968},\n",
       "   {'id': 'https://openalex.org/C203087015',\n",
       "    'wikidata': None,\n",
       "    'display_name': 'Qubit',\n",
       "    'level': 3,\n",
       "    'score': 1.9349514},\n",
       "   {'id': 'https://openalex.org/C59500034',\n",
       "    'wikidata': None,\n",
       "    'display_name': 'Quantum Fourier transform',\n",
       "    'level': 5,\n",
       "    'score': 1.8117795},\n",
       "   {'id': 'https://openalex.org/C187678412',\n",
       "    'wikidata': None,\n",
       "    'display_name': 'Superdense coding',\n",
       "    'level': 5,\n",
       "    'score': 1.7509019},\n",
       "   {'id': 'https://openalex.org/C20593774',\n",
       "    'wikidata': None,\n",
       "    'display_name': 'W state',\n",
       "    'level': 4,\n",
       "    'score': 1.7186421},\n",
       "   {'id': 'https://openalex.org/C148908050',\n",
       "    'wikidata': None,\n",
       "    'display_name': 'Topological entropy in physics',\n",
       "    'level': 3,\n",
       "    'score': 0.75333333}],\n",
       "  'counts_by_year': [{'year': 2024, 'works_count': 26, 'cited_by_count': 1325},\n",
       "   {'year': 2023, 'works_count': 90, 'cited_by_count': 3950},\n",
       "   {'year': 2022, 'works_count': 108, 'cited_by_count': 3590},\n",
       "   {'year': 2021, 'works_count': 100, 'cited_by_count': 3461},\n",
       "   {'year': 2020, 'works_count': 82, 'cited_by_count': 3092},\n",
       "   {'year': 2019, 'works_count': 72, 'cited_by_count': 2708},\n",
       "   {'year': 2018, 'works_count': 67, 'cited_by_count': 2069},\n",
       "   {'year': 2017, 'works_count': 63, 'cited_by_count': 2016},\n",
       "   {'year': 2016, 'works_count': 62, 'cited_by_count': 1828},\n",
       "   {'year': 2015, 'works_count': 63, 'cited_by_count': 1812},\n",
       "   {'year': 2014, 'works_count': 81, 'cited_by_count': 1721},\n",
       "   {'year': 2013, 'works_count': 62, 'cited_by_count': 1712},\n",
       "   {'year': 2012, 'works_count': 68, 'cited_by_count': 1596}],\n",
       "  'works_api_url': 'https://api.openalex.org/works?filter=concepts.id:C19271316',\n",
       "  'updated_date': '2024-05-28T02:17:53.986358',\n",
       "  'created_date': '2016-06-24'}]"
      ]
     },
     "execution_count": 103,
     "metadata": {},
     "output_type": "execute_result"
    }
   ],
   "source": [
    "jamming_concepts"
   ]
  },
  {
   "cell_type": "markdown",
   "id": "cb39f949-c88c-4a55-b48f-996a41905f4d",
   "metadata": {},
   "source": [
    "# Co-authorship Network\n",
    "\n",
    "Streamlit with pyvis: https://towardsdatascience.com/how-to-deploy-interactive-pyvis-network-graphs-on-streamlit-6c401d4c99db\n",
    "\n",
    "the data source is dftriple; let a user interactively select which type of graph , the selection of node types, to display. otherwise its just too too much.\n",
    "\n",
    "Can display works and authors; construct that first:"
   ]
  },
  {
   "cell_type": "code",
   "execution_count": 104,
   "id": "e249e15d-68e1-43e2-b9db-753f3b83b7d2",
   "metadata": {},
   "outputs": [
    {
     "data": {
      "text/plain": [
       "Index(['id', 'display_name', 'ror', 'country_code', 'type', 'lineage',\n",
       "       'paper_id', 'paper_raw_affiliation_strings', 'paper_author_position',\n",
       "       'paper_doi', 'paper_title', 'paper_abstract', 'paper_publication_date',\n",
       "       'paper_publication_year', 'paper_grants', 'paper_locations',\n",
       "       'paper_is_corrresponding', 'paper_x', 'paper_y', 'paper_cluster',\n",
       "       'paper_cluster_score', 'paper_author_id', 'paper_author_display_name',\n",
       "       'paper_author_orcid', 'source', 'source_type', 'funder_list'],\n",
       "      dtype='object')"
      ]
     },
     "execution_count": 104,
     "metadata": {},
     "output_type": "execute_result"
    }
   ],
   "source": [
    "dftriple.columns"
   ]
  },
  {
   "cell_type": "markdown",
   "id": "6032305c-7bd4-458f-8c22-12a2b13c8dd3",
   "metadata": {},
   "source": [
    "group dftriple by paper_id and get a list of all the paper_author_id values. and then from that list get all distinct subsets of two paper_author_ids. accumulate that list. and then we will haave a weighted undirected graph.\n",
    "\n",
    "file://wsl.localhost/Ubuntu/home/davidd/2023/SWITCHBOARD/switchboard-mitigations-sort/graphvizmaker.html"
   ]
  },
  {
   "cell_type": "code",
   "execution_count": 105,
   "id": "82cd229d-eef3-47a4-ba49-6cea6059f013",
   "metadata": {},
   "outputs": [],
   "source": [
    "import networkx as nx\n",
    "from pyvis.network import Network\n",
    "import igraph as ig # for getting a layout w/o relying on slow pyvis physics "
   ]
  },
  {
   "cell_type": "code",
   "execution_count": 106,
   "id": "ce0a4d2f-1e94-4cb6-bb0b-99abf641bc7a",
   "metadata": {},
   "outputs": [
    {
     "data": {
      "text/plain": [
       "Index(['id', 'display_name', 'ror', 'country_code', 'type', 'lineage',\n",
       "       'paper_id', 'paper_raw_affiliation_strings', 'paper_author_position',\n",
       "       'paper_doi', 'paper_title', 'paper_abstract', 'paper_publication_date',\n",
       "       'paper_publication_year', 'paper_grants', 'paper_locations',\n",
       "       'paper_is_corrresponding', 'paper_x', 'paper_y', 'paper_cluster',\n",
       "       'paper_cluster_score', 'paper_author_id', 'paper_author_display_name',\n",
       "       'paper_author_orcid', 'source', 'source_type', 'funder_list'],\n",
       "      dtype='object')"
      ]
     },
     "execution_count": 106,
     "metadata": {},
     "output_type": "execute_result"
    }
   ],
   "source": [
    "dftriple.columns"
   ]
  },
  {
   "cell_type": "code",
   "execution_count": 107,
   "id": "ea2fc412-af81-4a85-80d2-ef06ca133214",
   "metadata": {},
   "outputs": [
    {
     "data": {
      "text/plain": [
       "Index(['x', 'y', 'id', 'title', 'doi', 'cluster', 'probability',\n",
       "       'publication_date', 'grants', 'locations', 'keywords', 'top_concepts',\n",
       "       'affil_list', 'author_list', 'wrapped_affil_list',\n",
       "       'wrapped_author_list', 'wrapped_keywords', 'source', 'source_type'],\n",
       "      dtype='object')"
      ]
     },
     "execution_count": 107,
     "metadata": {},
     "output_type": "execute_result"
    }
   ],
   "source": [
    "dfinfo.columns"
   ]
  },
  {
   "cell_type": "code",
   "execution_count": 108,
   "id": "129e3b88-c7b8-4797-9027-704f3bcad4dc",
   "metadata": {},
   "outputs": [],
   "source": [
    "dfinfo[\"funder_list\"] = dfinfo[\"grants\"].apply(get_funder_names)\n",
    "dfinfo[\"wrapped_funder_list\"] = dfinfo[\"funder_list\"].apply(str).apply(wrap_it)"
   ]
  },
  {
   "cell_type": "code",
   "execution_count": 109,
   "id": "69672b72-2600-4a7a-b5af-ce79406c318b",
   "metadata": {},
   "outputs": [],
   "source": [
    "dfinfo.to_pickle('updatejammingdfinfo2d.pkl')"
   ]
  },
  {
   "cell_type": "code",
   "execution_count": 110,
   "id": "8a91d075-2d45-40e2-99fa-972d4a422542",
   "metadata": {},
   "outputs": [
    {
     "data": {
      "text/html": [
       "<div>\n",
       "<style scoped>\n",
       "    .dataframe tbody tr th:only-of-type {\n",
       "        vertical-align: middle;\n",
       "    }\n",
       "\n",
       "    .dataframe tbody tr th {\n",
       "        vertical-align: top;\n",
       "    }\n",
       "\n",
       "    .dataframe thead th {\n",
       "        text-align: right;\n",
       "    }\n",
       "</style>\n",
       "<table border=\"1\" class=\"dataframe\">\n",
       "  <thead>\n",
       "    <tr style=\"text-align: right;\">\n",
       "      <th></th>\n",
       "      <th>id</th>\n",
       "      <th>keywords</th>\n",
       "      <th>wrapped_keywords</th>\n",
       "      <th>wrapped_funder_list</th>\n",
       "    </tr>\n",
       "    <tr>\n",
       "      <th>id</th>\n",
       "      <th></th>\n",
       "      <th></th>\n",
       "      <th></th>\n",
       "      <th></th>\n",
       "    </tr>\n",
       "  </thead>\n",
       "  <tbody>\n",
       "    <tr>\n",
       "      <th>https://openalex.org/W3189250281</th>\n",
       "      <td>https://openalex.org/W3189250281</td>\n",
       "      <td>[quantum, Variational quantum algorithms, Vari...</td>\n",
       "      <td>['quantum', 'Variational quantum&lt;br&gt;algorithms...</td>\n",
       "      <td>[]</td>\n",
       "    </tr>\n",
       "    <tr>\n",
       "      <th>https://openalex.org/W1521266393</th>\n",
       "      <td>https://openalex.org/W1521266393</td>\n",
       "      <td>[Circuit quantum electrodynamics, quantum elec...</td>\n",
       "      <td>['Circuit quantum electrodynamics',&lt;br&gt;'quantu...</td>\n",
       "      <td>['Army Research Office', 'Natural&lt;br&gt;Sciences ...</td>\n",
       "    </tr>\n",
       "    <tr>\n",
       "      <th>https://openalex.org/W4213212652</th>\n",
       "      <td>https://openalex.org/W4213212652</td>\n",
       "      <td>[Noisy intermediate-scale quantum, intermediat...</td>\n",
       "      <td>['Noisy intermediate-scale quantum',&lt;br&gt;'inter...</td>\n",
       "      <td>['Google', 'Natural Sciences and&lt;br&gt;Engineerin...</td>\n",
       "    </tr>\n",
       "    <tr>\n",
       "      <th>https://openalex.org/W3173899054</th>\n",
       "      <td>https://openalex.org/W3173899054</td>\n",
       "      <td>[Quantum Computational Advantage, Superconduct...</td>\n",
       "      <td>['Quantum Computational Advantage',&lt;br&gt;'Superc...</td>\n",
       "      <td>['Chinese Academy of Sciences', 'USTC&lt;br&gt;Cente...</td>\n",
       "    </tr>\n",
       "    <tr>\n",
       "      <th>https://openalex.org/W3180039530</th>\n",
       "      <td>https://openalex.org/W3180039530</td>\n",
       "      <td>[Quantum, programmable quantum simulator, prog...</td>\n",
       "      <td>['Quantum', 'programmable quantum&lt;br&gt;simulator...</td>\n",
       "      <td>[]</td>\n",
       "    </tr>\n",
       "  </tbody>\n",
       "</table>\n",
       "</div>"
      ],
      "text/plain": [
       "                                                                id  \\\n",
       "id                                                                   \n",
       "https://openalex.org/W3189250281  https://openalex.org/W3189250281   \n",
       "https://openalex.org/W1521266393  https://openalex.org/W1521266393   \n",
       "https://openalex.org/W4213212652  https://openalex.org/W4213212652   \n",
       "https://openalex.org/W3173899054  https://openalex.org/W3173899054   \n",
       "https://openalex.org/W3180039530  https://openalex.org/W3180039530   \n",
       "\n",
       "                                                                           keywords  \\\n",
       "id                                                                                    \n",
       "https://openalex.org/W3189250281  [quantum, Variational quantum algorithms, Vari...   \n",
       "https://openalex.org/W1521266393  [Circuit quantum electrodynamics, quantum elec...   \n",
       "https://openalex.org/W4213212652  [Noisy intermediate-scale quantum, intermediat...   \n",
       "https://openalex.org/W3173899054  [Quantum Computational Advantage, Superconduct...   \n",
       "https://openalex.org/W3180039530  [Quantum, programmable quantum simulator, prog...   \n",
       "\n",
       "                                                                   wrapped_keywords  \\\n",
       "id                                                                                    \n",
       "https://openalex.org/W3189250281  ['quantum', 'Variational quantum<br>algorithms...   \n",
       "https://openalex.org/W1521266393  ['Circuit quantum electrodynamics',<br>'quantu...   \n",
       "https://openalex.org/W4213212652  ['Noisy intermediate-scale quantum',<br>'inter...   \n",
       "https://openalex.org/W3173899054  ['Quantum Computational Advantage',<br>'Superc...   \n",
       "https://openalex.org/W3180039530  ['Quantum', 'programmable quantum<br>simulator...   \n",
       "\n",
       "                                                                wrapped_funder_list  \n",
       "id                                                                                   \n",
       "https://openalex.org/W3189250281                                                 []  \n",
       "https://openalex.org/W1521266393  ['Army Research Office', 'Natural<br>Sciences ...  \n",
       "https://openalex.org/W4213212652  ['Google', 'Natural Sciences and<br>Engineerin...  \n",
       "https://openalex.org/W3173899054  ['Chinese Academy of Sciences', 'USTC<br>Cente...  \n",
       "https://openalex.org/W3180039530                                                 []  "
      ]
     },
     "execution_count": 110,
     "metadata": {},
     "output_type": "execute_result"
    }
   ],
   "source": [
    "dfinfo[['id','keywords','wrapped_keywords','wrapped_funder_list']].head()"
   ]
  },
  {
   "cell_type": "code",
   "execution_count": 111,
   "id": "1277559b-c304-4550-be33-864893cbe990",
   "metadata": {},
   "outputs": [],
   "source": [
    "kw_dict = dfinfo['keywords'].to_dict()"
   ]
  },
  {
   "cell_type": "code",
   "execution_count": 112,
   "id": "6b4ba612-eca2-4cc8-b771-6bc42a3dde03",
   "metadata": {},
   "outputs": [
    {
     "data": {
      "text/html": [
       "<div>\n",
       "<style scoped>\n",
       "    .dataframe tbody tr th:only-of-type {\n",
       "        vertical-align: middle;\n",
       "    }\n",
       "\n",
       "    .dataframe tbody tr th {\n",
       "        vertical-align: top;\n",
       "    }\n",
       "\n",
       "    .dataframe thead th {\n",
       "        text-align: right;\n",
       "    }\n",
       "</style>\n",
       "<table border=\"1\" class=\"dataframe\">\n",
       "  <thead>\n",
       "    <tr style=\"text-align: right;\">\n",
       "      <th></th>\n",
       "      <th>source</th>\n",
       "      <th>source_type</th>\n",
       "    </tr>\n",
       "  </thead>\n",
       "  <tbody>\n",
       "    <tr>\n",
       "      <th>0</th>\n",
       "      <td>Nature reviews physics</td>\n",
       "      <td>journal</td>\n",
       "    </tr>\n",
       "    <tr>\n",
       "      <th>1</th>\n",
       "      <td>Nature reviews physics</td>\n",
       "      <td>journal</td>\n",
       "    </tr>\n",
       "    <tr>\n",
       "      <th>2</th>\n",
       "      <td>Nature reviews physics</td>\n",
       "      <td>journal</td>\n",
       "    </tr>\n",
       "    <tr>\n",
       "      <th>3</th>\n",
       "      <td>Nature reviews physics</td>\n",
       "      <td>journal</td>\n",
       "    </tr>\n",
       "    <tr>\n",
       "      <th>4</th>\n",
       "      <td>Nature reviews physics</td>\n",
       "      <td>journal</td>\n",
       "    </tr>\n",
       "  </tbody>\n",
       "</table>\n",
       "</div>"
      ],
      "text/plain": [
       "                   source source_type\n",
       "0  Nature reviews physics     journal\n",
       "1  Nature reviews physics     journal\n",
       "2  Nature reviews physics     journal\n",
       "3  Nature reviews physics     journal\n",
       "4  Nature reviews physics     journal"
      ]
     },
     "execution_count": 112,
     "metadata": {},
     "output_type": "execute_result"
    }
   ],
   "source": [
    "dftriple[['source','source_type']].head()"
   ]
  },
  {
   "cell_type": "code",
   "execution_count": 113,
   "id": "1d9b7ef3-b8f4-4457-a3ff-fa0e5c726a3b",
   "metadata": {},
   "outputs": [
    {
     "data": {
      "text/html": [
       "<div>\n",
       "<style scoped>\n",
       "    .dataframe tbody tr th:only-of-type {\n",
       "        vertical-align: middle;\n",
       "    }\n",
       "\n",
       "    .dataframe tbody tr th {\n",
       "        vertical-align: top;\n",
       "    }\n",
       "\n",
       "    .dataframe thead th {\n",
       "        text-align: right;\n",
       "    }\n",
       "</style>\n",
       "<table border=\"1\" class=\"dataframe\">\n",
       "  <thead>\n",
       "    <tr style=\"text-align: right;\">\n",
       "      <th></th>\n",
       "      <th>id</th>\n",
       "      <th>display_name</th>\n",
       "      <th>ror</th>\n",
       "      <th>country_code</th>\n",
       "      <th>type</th>\n",
       "      <th>lineage</th>\n",
       "      <th>paper_id</th>\n",
       "      <th>paper_raw_affiliation_strings</th>\n",
       "      <th>paper_author_position</th>\n",
       "      <th>paper_doi</th>\n",
       "      <th>...</th>\n",
       "      <th>paper_x</th>\n",
       "      <th>paper_y</th>\n",
       "      <th>paper_cluster</th>\n",
       "      <th>paper_cluster_score</th>\n",
       "      <th>paper_author_id</th>\n",
       "      <th>paper_author_display_name</th>\n",
       "      <th>paper_author_orcid</th>\n",
       "      <th>source</th>\n",
       "      <th>source_type</th>\n",
       "      <th>funder_list</th>\n",
       "    </tr>\n",
       "  </thead>\n",
       "  <tbody>\n",
       "    <tr>\n",
       "      <th>0</th>\n",
       "      <td>https://openalex.org/I1343871089</td>\n",
       "      <td>Los Alamos National Laboratory</td>\n",
       "      <td>https://ror.org/01e41cf67</td>\n",
       "      <td>US</td>\n",
       "      <td>facility</td>\n",
       "      <td>[https://openalex.org/I1330989302, https://ope...</td>\n",
       "      <td>https://openalex.org/W3189250281</td>\n",
       "      <td>[Theoretical Division, Los Alamos National Lab...</td>\n",
       "      <td>first</td>\n",
       "      <td>https://doi.org/10.1038/s42254-021-00348-9</td>\n",
       "      <td>...</td>\n",
       "      <td>6.192506</td>\n",
       "      <td>-3.169462</td>\n",
       "      <td>145</td>\n",
       "      <td>1.0</td>\n",
       "      <td>https://openalex.org/A5074921335</td>\n",
       "      <td>M. Cerezo</td>\n",
       "      <td>https://orcid.org/0000-0002-2757-3170</td>\n",
       "      <td>Nature reviews physics</td>\n",
       "      <td>journal</td>\n",
       "      <td>[]</td>\n",
       "    </tr>\n",
       "    <tr>\n",
       "      <th>1</th>\n",
       "      <td>https://openalex.org/I1343871089</td>\n",
       "      <td>Los Alamos National Laboratory</td>\n",
       "      <td>https://ror.org/01e41cf67</td>\n",
       "      <td>US</td>\n",
       "      <td>facility</td>\n",
       "      <td>[https://openalex.org/I1330989302, https://ope...</td>\n",
       "      <td>https://openalex.org/W3189250281</td>\n",
       "      <td>[Theoretical Division, Los Alamos National Lab...</td>\n",
       "      <td>middle</td>\n",
       "      <td>https://doi.org/10.1038/s42254-021-00348-9</td>\n",
       "      <td>...</td>\n",
       "      <td>6.192506</td>\n",
       "      <td>-3.169462</td>\n",
       "      <td>145</td>\n",
       "      <td>1.0</td>\n",
       "      <td>https://openalex.org/A5065899096</td>\n",
       "      <td>Andrew Arrasmith</td>\n",
       "      <td>https://orcid.org/0000-0003-2674-9370</td>\n",
       "      <td>Nature reviews physics</td>\n",
       "      <td>journal</td>\n",
       "      <td>[]</td>\n",
       "    </tr>\n",
       "    <tr>\n",
       "      <th>2</th>\n",
       "      <td>https://openalex.org/I1291425158</td>\n",
       "      <td>Google (United States)</td>\n",
       "      <td>https://ror.org/00njsd438</td>\n",
       "      <td>US</td>\n",
       "      <td>company</td>\n",
       "      <td>[https://openalex.org/I1291425158, https://ope...</td>\n",
       "      <td>https://openalex.org/W3189250281</td>\n",
       "      <td>[Google Quantum AI Team, Venice, CA, USA]</td>\n",
       "      <td>middle</td>\n",
       "      <td>https://doi.org/10.1038/s42254-021-00348-9</td>\n",
       "      <td>...</td>\n",
       "      <td>6.192506</td>\n",
       "      <td>-3.169462</td>\n",
       "      <td>145</td>\n",
       "      <td>1.0</td>\n",
       "      <td>https://openalex.org/A5059699271</td>\n",
       "      <td>Ryan Babbush</td>\n",
       "      <td>https://orcid.org/0000-0001-6979-9533</td>\n",
       "      <td>Nature reviews physics</td>\n",
       "      <td>journal</td>\n",
       "      <td>[]</td>\n",
       "    </tr>\n",
       "    <tr>\n",
       "      <th>3</th>\n",
       "      <td>https://openalex.org/I40120149</td>\n",
       "      <td>University of Oxford</td>\n",
       "      <td>https://ror.org/052gg0110</td>\n",
       "      <td>GB</td>\n",
       "      <td>education</td>\n",
       "      <td>[https://openalex.org/I40120149]</td>\n",
       "      <td>https://openalex.org/W3189250281</td>\n",
       "      <td>[Department of Materials, University of Oxford...</td>\n",
       "      <td>middle</td>\n",
       "      <td>https://doi.org/10.1038/s42254-021-00348-9</td>\n",
       "      <td>...</td>\n",
       "      <td>6.192506</td>\n",
       "      <td>-3.169462</td>\n",
       "      <td>145</td>\n",
       "      <td>1.0</td>\n",
       "      <td>https://openalex.org/A5012132706</td>\n",
       "      <td>Simon C. Benjamin</td>\n",
       "      <td>https://orcid.org/0000-0002-7766-5348</td>\n",
       "      <td>Nature reviews physics</td>\n",
       "      <td>journal</td>\n",
       "      <td>[]</td>\n",
       "    </tr>\n",
       "    <tr>\n",
       "      <th>4</th>\n",
       "      <td>https://openalex.org/I2251713219</td>\n",
       "      <td>NTT (Japan)</td>\n",
       "      <td>https://ror.org/00berct97</td>\n",
       "      <td>JP</td>\n",
       "      <td>company</td>\n",
       "      <td>[https://openalex.org/I2251713219]</td>\n",
       "      <td>https://openalex.org/W3189250281</td>\n",
       "      <td>[NTT Secure Platform Laboratories, NTT Corpora...</td>\n",
       "      <td>middle</td>\n",
       "      <td>https://doi.org/10.1038/s42254-021-00348-9</td>\n",
       "      <td>...</td>\n",
       "      <td>6.192506</td>\n",
       "      <td>-3.169462</td>\n",
       "      <td>145</td>\n",
       "      <td>1.0</td>\n",
       "      <td>https://openalex.org/A5082360196</td>\n",
       "      <td>Suguru Endo</td>\n",
       "      <td>https://orcid.org/0000-0002-2317-3751</td>\n",
       "      <td>Nature reviews physics</td>\n",
       "      <td>journal</td>\n",
       "      <td>[]</td>\n",
       "    </tr>\n",
       "  </tbody>\n",
       "</table>\n",
       "<p>5 rows × 27 columns</p>\n",
       "</div>"
      ],
      "text/plain": [
       "                                 id                    display_name  \\\n",
       "0  https://openalex.org/I1343871089  Los Alamos National Laboratory   \n",
       "1  https://openalex.org/I1343871089  Los Alamos National Laboratory   \n",
       "2  https://openalex.org/I1291425158          Google (United States)   \n",
       "3    https://openalex.org/I40120149            University of Oxford   \n",
       "4  https://openalex.org/I2251713219                     NTT (Japan)   \n",
       "\n",
       "                         ror country_code       type  \\\n",
       "0  https://ror.org/01e41cf67           US   facility   \n",
       "1  https://ror.org/01e41cf67           US   facility   \n",
       "2  https://ror.org/00njsd438           US    company   \n",
       "3  https://ror.org/052gg0110           GB  education   \n",
       "4  https://ror.org/00berct97           JP    company   \n",
       "\n",
       "                                             lineage  \\\n",
       "0  [https://openalex.org/I1330989302, https://ope...   \n",
       "1  [https://openalex.org/I1330989302, https://ope...   \n",
       "2  [https://openalex.org/I1291425158, https://ope...   \n",
       "3                   [https://openalex.org/I40120149]   \n",
       "4                 [https://openalex.org/I2251713219]   \n",
       "\n",
       "                           paper_id  \\\n",
       "0  https://openalex.org/W3189250281   \n",
       "1  https://openalex.org/W3189250281   \n",
       "2  https://openalex.org/W3189250281   \n",
       "3  https://openalex.org/W3189250281   \n",
       "4  https://openalex.org/W3189250281   \n",
       "\n",
       "                       paper_raw_affiliation_strings paper_author_position  \\\n",
       "0  [Theoretical Division, Los Alamos National Lab...                 first   \n",
       "1  [Theoretical Division, Los Alamos National Lab...                middle   \n",
       "2          [Google Quantum AI Team, Venice, CA, USA]                middle   \n",
       "3  [Department of Materials, University of Oxford...                middle   \n",
       "4  [NTT Secure Platform Laboratories, NTT Corpora...                middle   \n",
       "\n",
       "                                    paper_doi  ...   paper_x   paper_y  \\\n",
       "0  https://doi.org/10.1038/s42254-021-00348-9  ...  6.192506 -3.169462   \n",
       "1  https://doi.org/10.1038/s42254-021-00348-9  ...  6.192506 -3.169462   \n",
       "2  https://doi.org/10.1038/s42254-021-00348-9  ...  6.192506 -3.169462   \n",
       "3  https://doi.org/10.1038/s42254-021-00348-9  ...  6.192506 -3.169462   \n",
       "4  https://doi.org/10.1038/s42254-021-00348-9  ...  6.192506 -3.169462   \n",
       "\n",
       "  paper_cluster paper_cluster_score                   paper_author_id  \\\n",
       "0           145                 1.0  https://openalex.org/A5074921335   \n",
       "1           145                 1.0  https://openalex.org/A5065899096   \n",
       "2           145                 1.0  https://openalex.org/A5059699271   \n",
       "3           145                 1.0  https://openalex.org/A5012132706   \n",
       "4           145                 1.0  https://openalex.org/A5082360196   \n",
       "\n",
       "  paper_author_display_name                     paper_author_orcid  \\\n",
       "0                 M. Cerezo  https://orcid.org/0000-0002-2757-3170   \n",
       "1          Andrew Arrasmith  https://orcid.org/0000-0003-2674-9370   \n",
       "2              Ryan Babbush  https://orcid.org/0000-0001-6979-9533   \n",
       "3         Simon C. Benjamin  https://orcid.org/0000-0002-7766-5348   \n",
       "4               Suguru Endo  https://orcid.org/0000-0002-2317-3751   \n",
       "\n",
       "                   source source_type funder_list  \n",
       "0  Nature reviews physics     journal          []  \n",
       "1  Nature reviews physics     journal          []  \n",
       "2  Nature reviews physics     journal          []  \n",
       "3  Nature reviews physics     journal          []  \n",
       "4  Nature reviews physics     journal          []  \n",
       "\n",
       "[5 rows x 27 columns]"
      ]
     },
     "execution_count": 113,
     "metadata": {},
     "output_type": "execute_result"
    }
   ],
   "source": [
    "dftriple.head()"
   ]
  },
  {
   "cell_type": "code",
   "execution_count": 114,
   "id": "0e0d6e15-938f-42f3-aeef-6c48d398b97c",
   "metadata": {},
   "outputs": [
    {
     "data": {
      "text/plain": [
       "(11, 27)"
      ]
     },
     "execution_count": 114,
     "metadata": {},
     "output_type": "execute_result"
    }
   ],
   "source": [
    "dc = dftriple[dftriple['paper_cluster'] == 10].copy()\n",
    "dc.shape"
   ]
  },
  {
   "cell_type": "code",
   "execution_count": 115,
   "id": "4adf497d-787c-42dc-ac71-70c1fbd309e6",
   "metadata": {},
   "outputs": [
    {
     "data": {
      "text/plain": [
       "[]"
      ]
     },
     "execution_count": 115,
     "metadata": {},
     "output_type": "execute_result"
    }
   ],
   "source": [
    "[x for row in dc['funder_list'].tolist() for x in row]"
   ]
  },
  {
   "cell_type": "code",
   "execution_count": 116,
   "id": "63c4712e-617b-48bf-a96d-9cd502bf6bd0",
   "metadata": {},
   "outputs": [
    {
     "data": {
      "text/plain": [
       "[]                                                                                                        44028\n",
       "[National Natural Science Foundation of China]                                                             2628\n",
       "[National Science Foundation]                                                                              1185\n",
       "[National Natural Science Foundation of China, National Key Research and Development Program of China]      675\n",
       "[U.S. Department of Energy]                                                                                 602\n",
       "Name: funder_list, dtype: int64"
      ]
     },
     "execution_count": 116,
     "metadata": {},
     "output_type": "execute_result"
    }
   ],
   "source": [
    "dftriple['funder_list'].value_counts().head()"
   ]
  },
  {
   "cell_type": "code",
   "execution_count": 117,
   "id": "3a9f2b89-d78a-43a2-8e79-193268904c9c",
   "metadata": {},
   "outputs": [],
   "source": [
    "kw_dict = dfinfo['keywords'].to_dict()\n",
    "\n",
    "# add in the affiliations as nodes as well; that row, author, paper, affil. all three get links. ok.\n",
    "def create_nx_graph(df: pd.DataFrame, cl:int) -> nx.Graph:\n",
    "    \"\"\"\n",
    "    takes the dataframe df, and creates the undirected graph\n",
    "    from the source and target columns for each row.\n",
    "    \"\"\"\n",
    "    g = nx.Graph() # dc['paper_cluster'] == cl\n",
    "    dc = df[df['paper_cluster'] == cl]\n",
    "    author_counts = dc['paper_author_id'].tolist()\n",
    "    author_counts_dict = {c:author_counts.count(c) for c in author_counts}\n",
    "    affiliation_counts = dc['id'].tolist()\n",
    "    affiliation_counts_dict = {c:affiliation_counts.count(c) for c in affiliation_counts}\n",
    "    source_counts = dc['source'].tolist()\n",
    "    source_counts_dict = {c:source_counts.count(c) for c in source_counts}\n",
    "    funder_counts = [x for row in dc['funder_list'].tolist() for x in row]\n",
    "    funder_counts_dict = {c:funder_counts.count(c) for c in funder_counts}\n",
    "    for index, row in df[df['paper_cluster'] == cl].iterrows():\n",
    "        g.add_node(row['paper_id'], group='work', title=row['paper_title'])\n",
    "        g.add_node(row['paper_author_id'], title=row['paper_author_display_name'],\n",
    "                   group='author',value = author_counts_dict[row['paper_author_id']])\n",
    "        g.add_node(row['id'], group='affiliation',\n",
    "                   title=row['display_name'] + '\\n' + row['country_code'],\n",
    "                  value = affiliation_counts_dict[row['id']])\n",
    "        if row['source']:\n",
    "            g.add_node(row['source'], group=row['source_type'],\n",
    "                      title=row['source'] + ' :\\n ' + row['source_type'],\n",
    "                      value=source_counts_dict[row['source']])\n",
    "            g.add_edge(\n",
    "                row['paper_id'],\n",
    "                row['source'],\n",
    "                title=row['paper_title'] + ' :\\n ' + str(row['paper_publication_date']) +  \\\n",
    "                ' :\\n' + row['source'] + ' :\\n ' + \\\n",
    "                row['source_type'],\n",
    "              #  weight = df[(df['paper_id'] == row['paper_id']) & \\\n",
    "              #              (df['source'] == row['source'])]['paper_cluster_score'].sum()\n",
    "               # weight = row['paper_cluster_score']\n",
    "            )\n",
    "            g.add_edge(\n",
    "                row['paper_author_id'],\n",
    "                row['source'],\n",
    "                title=row['paper_author_display_name'] + ':\\n' + row['source'],\n",
    "             #   weight = df[(df['paper_author_id'] == row['paper_author_id']) & \\\n",
    "              #              (df['source'] == row['source'])]['paper_cluster_score'].sum()\n",
    "               # weight = row['paper_cluster_score']\n",
    "            )\n",
    "        if len(row['funder_list']) > 0:\n",
    "            for f in row['funder_list']:\n",
    "                g.add_node(f, group='funder',\n",
    "                          title=str(f),\n",
    "                          value = founder_counts_dict[f]),\n",
    "                g.add_edge(\n",
    "                       row['paper_id'],\n",
    "                       f,\n",
    "                       title=row['paper_title'] + ':\\n ' +  str(row['paper_publication_date']) + \\\n",
    "                       ' :\\n' + str(f),\n",
    "                  #  weight = row['paper_cluster_score']\n",
    "                   )\n",
    "                g.add_edge(\n",
    "                       f,\n",
    "                       row['paper_author_id'],\n",
    "                       title=row['paper_author_display_name'] + ' :\\n ' + \\\n",
    "                       str(f),\n",
    "                  #  weight = row['paper_cluster_score']\n",
    "                       \n",
    "                   )\n",
    "                g.add_edge(\n",
    "                       f,\n",
    "                       row['id'],\n",
    "                       title=row['display_name'] + '\\n' + row['country_code'] + ' :\\n ' + \\\n",
    "                       str(f)  ,\n",
    "                  #  weight = row['paper_cluster_score']\n",
    "                   )  \n",
    "                if row[\"source\"]:\n",
    "                    g.add_edge(\n",
    "                        f,\n",
    "                        row[\"source\"],\n",
    "                        title=row[\"source\"] + ' :\\n' + str(f),\n",
    "                     #   weight = row['paper_cluster_score']\n",
    "                    )\n",
    "        g.nodes[row['paper_id']]['title'] = (\n",
    "            row['paper_title'] + ' :\\n ' + str(row['paper_publication_date'] + ':\\n' + \n",
    "            '\\n'.join(kw_dict[row['paper_id']]))\n",
    "        )\n",
    "        g.nodes[row['paper_author_id']]['title'] = (\n",
    "            row['paper_author_display_name']\n",
    "        )\n",
    "        g.add_edge(\n",
    "            row['paper_id'],\n",
    "            row['paper_author_id'],\n",
    "        title=row['paper_title'] + ' :\\n ' + row['paper_author_display_name'] + ' :\\n ' + \\\n",
    "            row['paper_raw_affiliation_string'],\n",
    "         #   weight = row['paper_cluster_score']\n",
    "        )\n",
    "        g.add_edge(\n",
    "            row['paper_author_id'],\n",
    "            row['id'],\n",
    "            title=row['paper_author_display_name'] + ' :\\n ' + \\\n",
    "            row['display_name'] + ' :\\n ' + row['country_code'],\n",
    "          #  weight = row['paper_cluster_score']\n",
    "        )\n",
    "        g.add_edge(\n",
    "            row['paper_id'],\n",
    "            row['id'],\n",
    "            title=row['paper_title'] + ' :\\n ' + str(row['paper_publication_date']) + ':\\n' + \n",
    "            row['display_name'] + ' :\\n ' + row['country_code'],\n",
    "         #   weight = row['paper_cluster_score']\n",
    "        )\n",
    "        \n",
    "    g_ig = ig.Graph.from_networkx(g) # assign 'x', and 'y' to g before returning\n",
    "    #layout = g_ig.layout_auto()\n",
    "    #layout = g_ig.layout_davidson_harel()\n",
    "    layout = g_ig.layout_umap(min_dist = 2, epochs = 500)\n",
    "    # https://igraph.org/python/tutorial/0.9.6/visualisation.html\n",
    "    coords = layout.coords\n",
    "    allnodes = list(g.nodes())\n",
    "    coords_dict = {allnodes[i]:(coords[i][0], coords[i][1]) for i in range(len(allnodes))}\n",
    "    for i in g.nodes():\n",
    "        g.nodes[i]['x'] = 250 * coords_dict[i][0] # the scale factor needed \n",
    "        g.nodes[i]['y'] = 250 * coords_dict[i][1]\n",
    "    return g\n",
    "                "
   ]
  },
  {
   "cell_type": "code",
   "execution_count": 118,
   "id": "34a3a3a2-2fb5-49e4-8ae3-56d6cf715ae3",
   "metadata": {},
   "outputs": [],
   "source": [
    "def create_pyvis_html(cl: int, filename: str = \"pyvis_coauthorships_graph.html\"):\n",
    "    \"\"\"\n",
    "    wrapper function that calls create_nx_graph to finally \n",
    "    produce an interactive pyvis standalone html file\n",
    "    \"\"\"\n",
    "    g_nx = create_nx_graph(dftriple, cl);\n",
    "    h = Network(height=\"1000px\",\n",
    "          #  heading=\"Mitigations and Techniques Relationships\",\n",
    "                width=\"100%\",\n",
    "                cdn_resources=\"remote\", # can grab the visjs library to make this local if needed\n",
    "            # probably should\n",
    "                bgcolor=\"#222222\",\n",
    "            neighborhood_highlight=True,\n",
    "              # default_node_size=1,\n",
    "                font_color=\"white\",\n",
    "                directed=False,\n",
    "               # select_menu=True,\n",
    "                filter_menu=True,\n",
    "                notebook=False,\n",
    "               )\n",
    "    #h.repulsion()\n",
    "    h.from_nx(g_nx, show_edge_weights=False)\n",
    "    #h.barnes_hut()\n",
    "    #h.repulsion(node_distance=40,\n",
    "    #            central_gravity=-0.2, spring_length=5, spring_strength=0.005, damping=0.09)\n",
    "    neighbor_map = h.get_adj_list()\n",
    "   # for node in h.nodes:\n",
    "   #     if node['group'] == 'author':\n",
    "   #         a = list(neighbor_map[node[\"id\"]]) # want to insert a \"\\n\" into every third element of a\n",
    "   #     if node['group'] == 'work':\n",
    "   #         a = list(neighbor_map[node[\"id\"]])\n",
    "   #     i = 3\n",
    "   #     while i < len(a):\n",
    "   #         a.insert(i, \"\\n\")\n",
    "   #         i += 4\n",
    "   #     node[\"title\"] += \"\\n Neighbors: \\n\" + \" | \".join(a)\n",
    "   #     node[\"value\"] = len(neighbor_map[node[\"id\"]]) \n",
    "# \"physics\": {\n",
    "#    \"enabled\": false\n",
    "#  },\n",
    "    h.set_options(\n",
    "    \"\"\"\n",
    "const options = {\n",
    "  \"interaction\": {\n",
    "    \"navigationButtons\": false\n",
    "  },\n",
    " \"physics\": {\n",
    "     \"enabled\": false\n",
    " },\n",
    "  \"edges\": {\n",
    "    \"color\": {\n",
    "        \"inherit\": true\n",
    "    },\n",
    "    \"setReferenceSize\": null,\n",
    "    \"setReference\": {\n",
    "        \"angle\": 0.7853981633974483\n",
    "    },\n",
    "    \"smooth\": {\n",
    "        \"forceDirection\": \"none\"\n",
    "    }\n",
    "  }\n",
    "  }\n",
    "    \"\"\"\n",
    "    )\n",
    "    #h.show_buttons(filter_=['physics'])\n",
    "  #  h.barnes_hut()\n",
    "    #h.repulsion()\n",
    "    try:\n",
    "        path = './tmp'\n",
    "        h.save_graph(f\"{path}/{filename}\")\n",
    "        HtmlFile = open(f\"{path}/{filename}\",\"r\",\n",
    "                        encoding='utf-8')\n",
    "    except:\n",
    "        h.save_graph(f\"{filename}\")\n",
    "        HtmlFile = open(f\"{filename}\", \"r\",\n",
    "                        encoding=\"utf-8\")\n",
    "    return h"
   ]
  },
  {
   "cell_type": "code",
   "execution_count": 119,
   "id": "391af594-1806-40ea-a0ea-cd9df50845af",
   "metadata": {},
   "outputs": [
    {
     "data": {
      "text/plain": [
       "(24359, 21)"
      ]
     },
     "execution_count": 119,
     "metadata": {},
     "output_type": "execute_result"
    }
   ],
   "source": [
    "dfinfo.shape"
   ]
  },
  {
   "cell_type": "code",
   "execution_count": 120,
   "id": "d2b45792-dffc-448e-8aed-bbf062c7f51c",
   "metadata": {},
   "outputs": [
    {
     "data": {
      "text/plain": [
       "Index(['x', 'y', 'id', 'title', 'doi', 'cluster', 'probability',\n",
       "       'publication_date', 'grants', 'locations', 'keywords', 'top_concepts',\n",
       "       'affil_list', 'author_list', 'wrapped_affil_list',\n",
       "       'wrapped_author_list', 'wrapped_keywords', 'source', 'source_type',\n",
       "       'funder_list', 'wrapped_funder_list'],\n",
       "      dtype='object')"
      ]
     },
     "execution_count": 120,
     "metadata": {},
     "output_type": "execute_result"
    }
   ],
   "source": [
    "dfinfo.columns"
   ]
  },
  {
   "cell_type": "code",
   "execution_count": 122,
   "id": "a217a9a4-9560-4253-b947-7856d4842560",
   "metadata": {},
   "outputs": [
    {
     "data": {
      "text/html": [
       "<div>\n",
       "<style scoped>\n",
       "    .dataframe tbody tr th:only-of-type {\n",
       "        vertical-align: middle;\n",
       "    }\n",
       "\n",
       "    .dataframe tbody tr th {\n",
       "        vertical-align: top;\n",
       "    }\n",
       "\n",
       "    .dataframe thead th {\n",
       "        text-align: right;\n",
       "    }\n",
       "</style>\n",
       "<table border=\"1\" class=\"dataframe\">\n",
       "  <thead>\n",
       "    <tr style=\"text-align: right;\">\n",
       "      <th></th>\n",
       "      <th>author_list</th>\n",
       "    </tr>\n",
       "    <tr>\n",
       "      <th>id</th>\n",
       "      <th></th>\n",
       "    </tr>\n",
       "  </thead>\n",
       "  <tbody>\n",
       "    <tr>\n",
       "      <th>https://openalex.org/W3189250281</th>\n",
       "      <td>[M. Cerezo, Andrew Arrasmith, Ryan Babbush, Si...</td>\n",
       "    </tr>\n",
       "    <tr>\n",
       "      <th>https://openalex.org/W1521266393</th>\n",
       "      <td>[Alexandre Blais, Alexandre Blais, Arne L. Gri...</td>\n",
       "    </tr>\n",
       "    <tr>\n",
       "      <th>https://openalex.org/W4213212652</th>\n",
       "      <td>[Kishor Bharti, Kishor Bharti, Alba Cervera-Li...</td>\n",
       "    </tr>\n",
       "    <tr>\n",
       "      <th>https://openalex.org/W3173899054</th>\n",
       "      <td>[Yulin Wu, Yulin Wu, Yulin Wu, Wan-Su Bao, Shu...</td>\n",
       "    </tr>\n",
       "    <tr>\n",
       "      <th>https://openalex.org/W3180039530</th>\n",
       "      <td>[Sepehr Ebadi, Tout T. Wang, Harry Levine, Ale...</td>\n",
       "    </tr>\n",
       "  </tbody>\n",
       "</table>\n",
       "</div>"
      ],
      "text/plain": [
       "                                                                        author_list\n",
       "id                                                                                 \n",
       "https://openalex.org/W3189250281  [M. Cerezo, Andrew Arrasmith, Ryan Babbush, Si...\n",
       "https://openalex.org/W1521266393  [Alexandre Blais, Alexandre Blais, Arne L. Gri...\n",
       "https://openalex.org/W4213212652  [Kishor Bharti, Kishor Bharti, Alba Cervera-Li...\n",
       "https://openalex.org/W3173899054  [Yulin Wu, Yulin Wu, Yulin Wu, Wan-Su Bao, Shu...\n",
       "https://openalex.org/W3180039530  [Sepehr Ebadi, Tout T. Wang, Harry Levine, Ale..."
      ]
     },
     "execution_count": 122,
     "metadata": {},
     "output_type": "execute_result"
    }
   ],
   "source": [
    "dfinfo[['author_list']].head()"
   ]
  },
  {
   "cell_type": "code",
   "execution_count": 123,
   "id": "4accbdcf-1b90-4e64-8ece-1766238ac59b",
   "metadata": {},
   "outputs": [],
   "source": [
    "#del dfinfo['authors_list']"
   ]
  },
  {
   "cell_type": "code",
   "execution_count": 124,
   "id": "312443e9-a395-49d1-ad6e-e4913bbfe138",
   "metadata": {},
   "outputs": [
    {
     "data": {
      "text/plain": [
       "(24359, 21)"
      ]
     },
     "execution_count": 124,
     "metadata": {},
     "output_type": "execute_result"
    }
   ],
   "source": [
    "dfinfo.shape"
   ]
  },
  {
   "cell_type": "code",
   "execution_count": 125,
   "id": "9395416a-0052-4f18-8242-810571d4d920",
   "metadata": {},
   "outputs": [
    {
     "data": {
      "text/html": [
       "<div>\n",
       "<style scoped>\n",
       "    .dataframe tbody tr th:only-of-type {\n",
       "        vertical-align: middle;\n",
       "    }\n",
       "\n",
       "    .dataframe tbody tr th {\n",
       "        vertical-align: top;\n",
       "    }\n",
       "\n",
       "    .dataframe thead th {\n",
       "        text-align: right;\n",
       "    }\n",
       "</style>\n",
       "<table border=\"1\" class=\"dataframe\">\n",
       "  <thead>\n",
       "    <tr style=\"text-align: right;\">\n",
       "      <th></th>\n",
       "      <th>cluster</th>\n",
       "      <th>probability</th>\n",
       "      <th>publication_date</th>\n",
       "    </tr>\n",
       "    <tr>\n",
       "      <th>id</th>\n",
       "      <th></th>\n",
       "      <th></th>\n",
       "      <th></th>\n",
       "    </tr>\n",
       "  </thead>\n",
       "  <tbody>\n",
       "    <tr>\n",
       "      <th>https://openalex.org/W3189250281</th>\n",
       "      <td>145</td>\n",
       "      <td>1.000000</td>\n",
       "      <td>2021-08-12</td>\n",
       "    </tr>\n",
       "    <tr>\n",
       "      <th>https://openalex.org/W1521266393</th>\n",
       "      <td>70</td>\n",
       "      <td>0.665913</td>\n",
       "      <td>2021-05-19</td>\n",
       "    </tr>\n",
       "    <tr>\n",
       "      <th>https://openalex.org/W4213212652</th>\n",
       "      <td>143</td>\n",
       "      <td>0.980064</td>\n",
       "      <td>2022-02-15</td>\n",
       "    </tr>\n",
       "    <tr>\n",
       "      <th>https://openalex.org/W3173899054</th>\n",
       "      <td>-1</td>\n",
       "      <td>0.000000</td>\n",
       "      <td>2021-10-25</td>\n",
       "    </tr>\n",
       "    <tr>\n",
       "      <th>https://openalex.org/W3180039530</th>\n",
       "      <td>78</td>\n",
       "      <td>0.847872</td>\n",
       "      <td>2021-07-07</td>\n",
       "    </tr>\n",
       "  </tbody>\n",
       "</table>\n",
       "</div>"
      ],
      "text/plain": [
       "                                  cluster  probability publication_date\n",
       "id                                                                     \n",
       "https://openalex.org/W3189250281      145     1.000000       2021-08-12\n",
       "https://openalex.org/W1521266393       70     0.665913       2021-05-19\n",
       "https://openalex.org/W4213212652      143     0.980064       2022-02-15\n",
       "https://openalex.org/W3173899054       -1     0.000000       2021-10-25\n",
       "https://openalex.org/W3180039530       78     0.847872       2021-07-07"
      ]
     },
     "execution_count": 125,
     "metadata": {},
     "output_type": "execute_result"
    }
   ],
   "source": [
    "dfinfo[['cluster','probability','publication_date']].head()"
   ]
  },
  {
   "cell_type": "code",
   "execution_count": 126,
   "id": "8981ab56-cd3c-4c5c-ba15-96c31ebb5307",
   "metadata": {},
   "outputs": [],
   "source": [
    "dftime = dfinfo[['cluster','probability','publication_date']].copy()"
   ]
  },
  {
   "cell_type": "code",
   "execution_count": 127,
   "id": "c967b910-3a91-4936-bcde-dc2fda92b0c2",
   "metadata": {},
   "outputs": [],
   "source": [
    "dftime['publication_datetime'] = pd.to_datetime(dftime['publication_date'])"
   ]
  },
  {
   "cell_type": "code",
   "execution_count": 128,
   "id": "8f3bad48-4df2-4c8f-b3ef-609079a00a12",
   "metadata": {},
   "outputs": [
    {
     "data": {
      "text/html": [
       "<div>\n",
       "<style scoped>\n",
       "    .dataframe tbody tr th:only-of-type {\n",
       "        vertical-align: middle;\n",
       "    }\n",
       "\n",
       "    .dataframe tbody tr th {\n",
       "        vertical-align: top;\n",
       "    }\n",
       "\n",
       "    .dataframe thead th {\n",
       "        text-align: right;\n",
       "    }\n",
       "</style>\n",
       "<table border=\"1\" class=\"dataframe\">\n",
       "  <thead>\n",
       "    <tr style=\"text-align: right;\">\n",
       "      <th></th>\n",
       "      <th>cluster</th>\n",
       "      <th>probability</th>\n",
       "      <th>publication_date</th>\n",
       "      <th>publication_datetime</th>\n",
       "    </tr>\n",
       "    <tr>\n",
       "      <th>id</th>\n",
       "      <th></th>\n",
       "      <th></th>\n",
       "      <th></th>\n",
       "      <th></th>\n",
       "    </tr>\n",
       "  </thead>\n",
       "  <tbody>\n",
       "    <tr>\n",
       "      <th>https://openalex.org/W3189250281</th>\n",
       "      <td>145</td>\n",
       "      <td>1.000000</td>\n",
       "      <td>2021-08-12</td>\n",
       "      <td>2021-08-12</td>\n",
       "    </tr>\n",
       "    <tr>\n",
       "      <th>https://openalex.org/W1521266393</th>\n",
       "      <td>70</td>\n",
       "      <td>0.665913</td>\n",
       "      <td>2021-05-19</td>\n",
       "      <td>2021-05-19</td>\n",
       "    </tr>\n",
       "    <tr>\n",
       "      <th>https://openalex.org/W4213212652</th>\n",
       "      <td>143</td>\n",
       "      <td>0.980064</td>\n",
       "      <td>2022-02-15</td>\n",
       "      <td>2022-02-15</td>\n",
       "    </tr>\n",
       "    <tr>\n",
       "      <th>https://openalex.org/W3173899054</th>\n",
       "      <td>-1</td>\n",
       "      <td>0.000000</td>\n",
       "      <td>2021-10-25</td>\n",
       "      <td>2021-10-25</td>\n",
       "    </tr>\n",
       "    <tr>\n",
       "      <th>https://openalex.org/W3180039530</th>\n",
       "      <td>78</td>\n",
       "      <td>0.847872</td>\n",
       "      <td>2021-07-07</td>\n",
       "      <td>2021-07-07</td>\n",
       "    </tr>\n",
       "  </tbody>\n",
       "</table>\n",
       "</div>"
      ],
      "text/plain": [
       "                                  cluster  probability publication_date  \\\n",
       "id                                                                        \n",
       "https://openalex.org/W3189250281      145     1.000000       2021-08-12   \n",
       "https://openalex.org/W1521266393       70     0.665913       2021-05-19   \n",
       "https://openalex.org/W4213212652      143     0.980064       2022-02-15   \n",
       "https://openalex.org/W3173899054       -1     0.000000       2021-10-25   \n",
       "https://openalex.org/W3180039530       78     0.847872       2021-07-07   \n",
       "\n",
       "                                 publication_datetime  \n",
       "id                                                     \n",
       "https://openalex.org/W3189250281           2021-08-12  \n",
       "https://openalex.org/W1521266393           2021-05-19  \n",
       "https://openalex.org/W4213212652           2022-02-15  \n",
       "https://openalex.org/W3173899054           2021-10-25  \n",
       "https://openalex.org/W3180039530           2021-07-07  "
      ]
     },
     "execution_count": 128,
     "metadata": {},
     "output_type": "execute_result"
    }
   ],
   "source": [
    "dftime.head()"
   ]
  },
  {
   "cell_type": "code",
   "execution_count": 129,
   "id": "3c1a3fb3-9c13-47b5-835c-4162d63b706f",
   "metadata": {},
   "outputs": [],
   "source": [
    "def get_time_series(dg, cl:int):\n",
    "    \"\"\"\n",
    "    takes dg and the cluster number cl\n",
    "    and returns a time series chart\n",
    "    by month, y-axis is the article count\n",
    "    \"\"\"\n",
    "    dftime = dg[dg.cluster == cl][['cluster','probability','publication_date']].copy()\n",
    "    dftime['date'] = pd.to_datetime(dftime['publication_date'])\n",
    "    dftime.sort_values('date', inplace=True)\n",
    "    #by_month = pd.to_datetime(dftime['date']).dt.to_period('M').value_counts().sort_index()\n",
    "    #by_month.index = pd.PeriodIndex(by_month.index)\n",
    "    #df_month = by_month.rename_axis('month').reset_index(name='counts')\n",
    "    return dftime"
   ]
  },
  {
   "cell_type": "code",
   "execution_count": 130,
   "id": "dd8c4f85-e510-4c6e-82b1-3d4239a54304",
   "metadata": {},
   "outputs": [
    {
     "data": {
      "text/plain": [
       "-1      7312\n",
       " 38     1750\n",
       " 108     862\n",
       " 106     803\n",
       " 29      599\n",
       "Name: cluster, dtype: int64"
      ]
     },
     "execution_count": 130,
     "metadata": {},
     "output_type": "execute_result"
    }
   ],
   "source": [
    "dfinfo.cluster.value_counts().head()"
   ]
  },
  {
   "cell_type": "code",
   "execution_count": 131,
   "id": "e8d7cd39-bf5c-4891-8c8a-f77cf4653b25",
   "metadata": {},
   "outputs": [
    {
     "data": {
      "text/html": [
       "<div>\n",
       "<style scoped>\n",
       "    .dataframe tbody tr th:only-of-type {\n",
       "        vertical-align: middle;\n",
       "    }\n",
       "\n",
       "    .dataframe tbody tr th {\n",
       "        vertical-align: top;\n",
       "    }\n",
       "\n",
       "    .dataframe thead th {\n",
       "        text-align: right;\n",
       "    }\n",
       "</style>\n",
       "<table border=\"1\" class=\"dataframe\">\n",
       "  <thead>\n",
       "    <tr style=\"text-align: right;\">\n",
       "      <th></th>\n",
       "      <th>cluster</th>\n",
       "      <th>probability</th>\n",
       "      <th>publication_date</th>\n",
       "      <th>date</th>\n",
       "    </tr>\n",
       "    <tr>\n",
       "      <th>id</th>\n",
       "      <th></th>\n",
       "      <th></th>\n",
       "      <th></th>\n",
       "      <th></th>\n",
       "    </tr>\n",
       "  </thead>\n",
       "  <tbody>\n",
       "    <tr>\n",
       "      <th>https://openalex.org/W3130961928</th>\n",
       "      <td>12</td>\n",
       "      <td>1.0</td>\n",
       "      <td>2021-02-01</td>\n",
       "      <td>2021-02-01</td>\n",
       "    </tr>\n",
       "    <tr>\n",
       "      <th>https://openalex.org/W3137382153</th>\n",
       "      <td>12</td>\n",
       "      <td>1.0</td>\n",
       "      <td>2021-03-01</td>\n",
       "      <td>2021-03-01</td>\n",
       "    </tr>\n",
       "    <tr>\n",
       "      <th>https://openalex.org/W3153068134</th>\n",
       "      <td>12</td>\n",
       "      <td>1.0</td>\n",
       "      <td>2021-05-07</td>\n",
       "      <td>2021-05-07</td>\n",
       "    </tr>\n",
       "    <tr>\n",
       "      <th>https://openalex.org/W3182215211</th>\n",
       "      <td>12</td>\n",
       "      <td>1.0</td>\n",
       "      <td>2021-11-12</td>\n",
       "      <td>2021-11-12</td>\n",
       "    </tr>\n",
       "    <tr>\n",
       "      <th>https://openalex.org/W4225440242</th>\n",
       "      <td>12</td>\n",
       "      <td>1.0</td>\n",
       "      <td>2021-12-30</td>\n",
       "      <td>2021-12-30</td>\n",
       "    </tr>\n",
       "  </tbody>\n",
       "</table>\n",
       "</div>"
      ],
      "text/plain": [
       "                                  cluster  probability publication_date  \\\n",
       "id                                                                        \n",
       "https://openalex.org/W3130961928       12          1.0       2021-02-01   \n",
       "https://openalex.org/W3137382153       12          1.0       2021-03-01   \n",
       "https://openalex.org/W3153068134       12          1.0       2021-05-07   \n",
       "https://openalex.org/W3182215211       12          1.0       2021-11-12   \n",
       "https://openalex.org/W4225440242       12          1.0       2021-12-30   \n",
       "\n",
       "                                       date  \n",
       "id                                           \n",
       "https://openalex.org/W3130961928 2021-02-01  \n",
       "https://openalex.org/W3137382153 2021-03-01  \n",
       "https://openalex.org/W3153068134 2021-05-07  \n",
       "https://openalex.org/W3182215211 2021-11-12  \n",
       "https://openalex.org/W4225440242 2021-12-30  "
      ]
     },
     "execution_count": 131,
     "metadata": {},
     "output_type": "execute_result"
    }
   ],
   "source": [
    "df_month_21 = get_time_series(dfinfo, 12)\n",
    "df_month_21.head()"
   ]
  },
  {
   "cell_type": "code",
   "execution_count": 132,
   "id": "7cbfc9fe-0499-483a-8503-2e7ae040367e",
   "metadata": {},
   "outputs": [],
   "source": [
    "import altair as alt\n",
    "#alt.data_transformers.enable(\"data_server\")"
   ]
  },
  {
   "cell_type": "code",
   "execution_count": 133,
   "id": "5ef4fddd-0d5a-45b0-b2b4-0a80056567f4",
   "metadata": {},
   "outputs": [
    {
     "data": {
      "text/html": [
       "\n",
       "<style>\n",
       "  #altair-viz-88bb8e69806040608f9f6e0d1a045839.vega-embed {\n",
       "    width: 100%;\n",
       "    display: flex;\n",
       "  }\n",
       "\n",
       "  #altair-viz-88bb8e69806040608f9f6e0d1a045839.vega-embed details,\n",
       "  #altair-viz-88bb8e69806040608f9f6e0d1a045839.vega-embed details summary {\n",
       "    position: relative;\n",
       "  }\n",
       "</style>\n",
       "<div id=\"altair-viz-88bb8e69806040608f9f6e0d1a045839\"></div>\n",
       "<script type=\"text/javascript\">\n",
       "  var VEGA_DEBUG = (typeof VEGA_DEBUG == \"undefined\") ? {} : VEGA_DEBUG;\n",
       "  (function(spec, embedOpt){\n",
       "    let outputDiv = document.currentScript.previousElementSibling;\n",
       "    if (outputDiv.id !== \"altair-viz-88bb8e69806040608f9f6e0d1a045839\") {\n",
       "      outputDiv = document.getElementById(\"altair-viz-88bb8e69806040608f9f6e0d1a045839\");\n",
       "    }\n",
       "    const paths = {\n",
       "      \"vega\": \"https://cdn.jsdelivr.net/npm/vega@5?noext\",\n",
       "      \"vega-lib\": \"https://cdn.jsdelivr.net/npm/vega-lib?noext\",\n",
       "      \"vega-lite\": \"https://cdn.jsdelivr.net/npm/vega-lite@5.16.3?noext\",\n",
       "      \"vega-embed\": \"https://cdn.jsdelivr.net/npm/vega-embed@6?noext\",\n",
       "    };\n",
       "\n",
       "    function maybeLoadScript(lib, version) {\n",
       "      var key = `${lib.replace(\"-\", \"\")}_version`;\n",
       "      return (VEGA_DEBUG[key] == version) ?\n",
       "        Promise.resolve(paths[lib]) :\n",
       "        new Promise(function(resolve, reject) {\n",
       "          var s = document.createElement('script');\n",
       "          document.getElementsByTagName(\"head\")[0].appendChild(s);\n",
       "          s.async = true;\n",
       "          s.onload = () => {\n",
       "            VEGA_DEBUG[key] = version;\n",
       "            return resolve(paths[lib]);\n",
       "          };\n",
       "          s.onerror = () => reject(`Error loading script: ${paths[lib]}`);\n",
       "          s.src = paths[lib];\n",
       "        });\n",
       "    }\n",
       "\n",
       "    function showError(err) {\n",
       "      outputDiv.innerHTML = `<div class=\"error\" style=\"color:red;\">${err}</div>`;\n",
       "      throw err;\n",
       "    }\n",
       "\n",
       "    function displayChart(vegaEmbed) {\n",
       "      vegaEmbed(outputDiv, spec, embedOpt)\n",
       "        .catch(err => showError(`Javascript Error: ${err.message}<br>This usually means there's a typo in your chart specification. See the javascript console for the full traceback.`));\n",
       "    }\n",
       "\n",
       "    if(typeof define === \"function\" && define.amd) {\n",
       "      requirejs.config({paths});\n",
       "      require([\"vega-embed\"], displayChart, err => showError(`Error loading script: ${err.message}`));\n",
       "    } else {\n",
       "      maybeLoadScript(\"vega\", \"5\")\n",
       "        .then(() => maybeLoadScript(\"vega-lite\", \"5.16.3\"))\n",
       "        .then(() => maybeLoadScript(\"vega-embed\", \"6\"))\n",
       "        .catch(showError)\n",
       "        .then(() => displayChart(vegaEmbed));\n",
       "    }\n",
       "  })({\"config\": {\"view\": {\"continuousWidth\": 300, \"continuousHeight\": 300}}, \"data\": {\"name\": \"data-82b050d422acd5a403f266dc0b4617f1\"}, \"mark\": {\"type\": \"line\"}, \"encoding\": {\"color\": {\"field\": \"key\", \"type\": \"nominal\"}, \"x\": {\"field\": \"date\", \"timeUnit\": \"yearmonth\", \"type\": \"temporal\"}, \"y\": {\"aggregate\": \"sum\", \"field\": \"value\", \"type\": \"quantitative\"}}, \"transform\": [{\"fold\": [\"probability\"]}], \"$schema\": \"https://vega.github.io/schema/vega-lite/v5.16.3.json\", \"datasets\": {\"data-82b050d422acd5a403f266dc0b4617f1\": [{\"cluster\": 12, \"probability\": 1.0, \"publication_date\": \"2021-02-01\", \"date\": \"2021-02-01T00:00:00\"}, {\"cluster\": 12, \"probability\": 1.0, \"publication_date\": \"2021-03-01\", \"date\": \"2021-03-01T00:00:00\"}, {\"cluster\": 12, \"probability\": 1.0, \"publication_date\": \"2021-05-07\", \"date\": \"2021-05-07T00:00:00\"}, {\"cluster\": 12, \"probability\": 1.0, \"publication_date\": \"2021-11-12\", \"date\": \"2021-11-12T00:00:00\"}, {\"cluster\": 12, \"probability\": 1.0, \"publication_date\": \"2021-12-30\", \"date\": \"2021-12-30T00:00:00\"}, {\"cluster\": 12, \"probability\": 1.0, \"publication_date\": \"2022-01-01\", \"date\": \"2022-01-01T00:00:00\"}, {\"cluster\": 12, \"probability\": 1.0, \"publication_date\": \"2022-01-01\", \"date\": \"2022-01-01T00:00:00\"}, {\"cluster\": 12, \"probability\": 1.0, \"publication_date\": \"2022-03-01\", \"date\": \"2022-03-01T00:00:00\"}, {\"cluster\": 12, \"probability\": 1.0, \"publication_date\": \"2022-08-05\", \"date\": \"2022-08-05T00:00:00\"}, {\"cluster\": 12, \"probability\": 1.0, \"publication_date\": \"2022-09-24\", \"date\": \"2022-09-24T00:00:00\"}, {\"cluster\": 12, \"probability\": 1.0, \"publication_date\": \"2023-01-01\", \"date\": \"2023-01-01T00:00:00\"}, {\"cluster\": 12, \"probability\": 1.0, \"publication_date\": \"2023-03-01\", \"date\": \"2023-03-01T00:00:00\"}, {\"cluster\": 12, \"probability\": 1.0, \"publication_date\": \"2024-01-04\", \"date\": \"2024-01-04T00:00:00\"}, {\"cluster\": 12, \"probability\": 1.0, \"publication_date\": \"2024-04-06\", \"date\": \"2024-04-06T00:00:00\"}, {\"cluster\": 12, \"probability\": 1.0, \"publication_date\": \"2024-04-25\", \"date\": \"2024-04-25T00:00:00\"}]}}, {\"mode\": \"vega-lite\"});\n",
       "</script>"
      ],
      "text/plain": [
       "alt.Chart(...)"
      ]
     },
     "execution_count": 133,
     "metadata": {},
     "output_type": "execute_result"
    }
   ],
   "source": [
    "alt.Chart(df_month_21).mark_line().transform_fold(\n",
    "    ['probability']\n",
    ").encode(\n",
    "    x = 'yearmonth(date):T',\n",
    "    y = 'sum(value):Q',\n",
    "    color='key:N'\n",
    ")"
   ]
  },
  {
   "cell_type": "code",
   "execution_count": 134,
   "id": "6684629b-4b42-43bf-a927-04923c49178a",
   "metadata": {},
   "outputs": [
    {
     "data": {
      "text/plain": [
       "(list, 1556)"
      ]
     },
     "execution_count": 134,
     "metadata": {},
     "output_type": "execute_result"
    }
   ],
   "source": [
    "sources_list = dftriple['source'].unique().tolist()\n",
    "type(sources_list), len(sources_list)"
   ]
  },
  {
   "cell_type": "code",
   "execution_count": 135,
   "id": "ede1a48e-a88e-4eaf-b060-a1f75fd5d341",
   "metadata": {},
   "outputs": [
    {
     "data": {
      "text/plain": [
       "{'id': 'https://openalex.org/S4210209619',\n",
       " 'issn_l': '0791-9417',\n",
       " 'issn': ['0791-9417'],\n",
       " 'display_name': 'Classics Ireland',\n",
       " 'host_organization': None,\n",
       " 'host_organization_name': None,\n",
       " 'host_organization_lineage': [],\n",
       " 'works_count': 187,\n",
       " 'cited_by_count': 2766,\n",
       " 'summary_stats': {'2yr_mean_citedness': 0.0, 'h_index': 32, 'i10_index': 57},\n",
       " 'is_oa': False,\n",
       " 'is_in_doaj': False,\n",
       " 'ids': {'openalex': 'https://openalex.org/S4210209619',\n",
       "  'issn_l': '0791-9417',\n",
       "  'issn': ['0791-9417'],\n",
       "  'wikidata': 'https://www.wikidata.org/entity/Q15754232',\n",
       "  'fatcat': 'https://fatcat.wiki/container/6iiyj6bdr5finfhzfb6vbsmxxi'},\n",
       " 'homepage_url': None,\n",
       " 'apc_prices': None,\n",
       " 'apc_usd': None,\n",
       " 'country_code': 'IE',\n",
       " 'societies': [],\n",
       " 'alternate_titles': [],\n",
       " 'abbreviated_title': None,\n",
       " 'type': 'journal',\n",
       " 'topics': [{'id': 'https://openalex.org/T10165',\n",
       "   'display_name': 'Society and Economy in Ancient Mediterranean Civilizations',\n",
       "   'count': 95,\n",
       "   'subfield': {'id': 'https://openalex.org/subfields/3314',\n",
       "    'display_name': 'Anthropology'},\n",
       "   'field': {'id': 'https://openalex.org/fields/33',\n",
       "    'display_name': 'Social Sciences'},\n",
       "   'domain': {'id': 'https://openalex.org/domains/2',\n",
       "    'display_name': 'Social Sciences'}},\n",
       "  {'id': 'https://openalex.org/T13068',\n",
       "   'display_name': 'Archaeological Studies of Ancient Mediterranean Civilizations',\n",
       "   'count': 21,\n",
       "   'subfield': {'id': 'https://openalex.org/subfields/1204',\n",
       "    'display_name': 'Archeology'},\n",
       "   'field': {'id': 'https://openalex.org/fields/12',\n",
       "    'display_name': 'Arts and Humanities'},\n",
       "   'domain': {'id': 'https://openalex.org/domains/2',\n",
       "    'display_name': 'Social Sciences'}},\n",
       "  {'id': 'https://openalex.org/T12266',\n",
       "   'display_name': 'Byzantine and Eastern Mediterranean Studies',\n",
       "   'count': 16,\n",
       "   'subfield': {'id': 'https://openalex.org/subfields/1205',\n",
       "    'display_name': 'Classics'},\n",
       "   'field': {'id': 'https://openalex.org/fields/12',\n",
       "    'display_name': 'Arts and Humanities'},\n",
       "   'domain': {'id': 'https://openalex.org/domains/2',\n",
       "    'display_name': 'Social Sciences'}},\n",
       "  {'id': 'https://openalex.org/T13372',\n",
       "   'display_name': 'Ancient Near Eastern Archaeology and History',\n",
       "   'count': 13,\n",
       "   'subfield': {'id': 'https://openalex.org/subfields/1204',\n",
       "    'display_name': 'Archeology'},\n",
       "   'field': {'id': 'https://openalex.org/fields/12',\n",
       "    'display_name': 'Arts and Humanities'},\n",
       "   'domain': {'id': 'https://openalex.org/domains/2',\n",
       "    'display_name': 'Social Sciences'}},\n",
       "  {'id': 'https://openalex.org/T14506',\n",
       "   'display_name': 'Archaeoastronomy and Cultural Landscapes',\n",
       "   'count': 13,\n",
       "   'subfield': {'id': 'https://openalex.org/subfields/1204',\n",
       "    'display_name': 'Archeology'},\n",
       "   'field': {'id': 'https://openalex.org/fields/12',\n",
       "    'display_name': 'Arts and Humanities'},\n",
       "   'domain': {'id': 'https://openalex.org/domains/2',\n",
       "    'display_name': 'Social Sciences'}},\n",
       "  {'id': 'https://openalex.org/T11463',\n",
       "   'display_name': 'Philosophical Thought in Ancient Greece and Rome',\n",
       "   'count': 12,\n",
       "   'subfield': {'id': 'https://openalex.org/subfields/1211',\n",
       "    'display_name': 'Philosophy'},\n",
       "   'field': {'id': 'https://openalex.org/fields/12',\n",
       "    'display_name': 'Arts and Humanities'},\n",
       "   'domain': {'id': 'https://openalex.org/domains/2',\n",
       "    'display_name': 'Social Sciences'}},\n",
       "  {'id': 'https://openalex.org/T14451',\n",
       "   'display_name': 'Ceremonial and Authority in Medieval Rome',\n",
       "   'count': 12,\n",
       "   'subfield': {'id': 'https://openalex.org/subfields/1202',\n",
       "    'display_name': 'History'},\n",
       "   'field': {'id': 'https://openalex.org/fields/12',\n",
       "    'display_name': 'Arts and Humanities'},\n",
       "   'domain': {'id': 'https://openalex.org/domains/2',\n",
       "    'display_name': 'Social Sciences'}},\n",
       "  {'id': 'https://openalex.org/T13198',\n",
       "   'display_name': 'Ancient Magical Practices and Beliefs',\n",
       "   'count': 12,\n",
       "   'subfield': {'id': 'https://openalex.org/subfields/1204',\n",
       "    'display_name': 'Archeology'},\n",
       "   'field': {'id': 'https://openalex.org/fields/12',\n",
       "    'display_name': 'Arts and Humanities'},\n",
       "   'domain': {'id': 'https://openalex.org/domains/2',\n",
       "    'display_name': 'Social Sciences'}},\n",
       "  {'id': 'https://openalex.org/T11776',\n",
       "   'display_name': 'Ethnic Conflict in Northern Ireland',\n",
       "   'count': 8,\n",
       "   'subfield': {'id': 'https://openalex.org/subfields/3312',\n",
       "    'display_name': 'Sociology and Political Science'},\n",
       "   'field': {'id': 'https://openalex.org/fields/33',\n",
       "    'display_name': 'Social Sciences'},\n",
       "   'domain': {'id': 'https://openalex.org/domains/2',\n",
       "    'display_name': 'Social Sciences'}},\n",
       "  {'id': 'https://openalex.org/T12307',\n",
       "   'display_name': 'Ancient Near Eastern Studies and Civilizations',\n",
       "   'count': 8,\n",
       "   'subfield': {'id': 'https://openalex.org/subfields/1204',\n",
       "    'display_name': 'Archeology'},\n",
       "   'field': {'id': 'https://openalex.org/fields/12',\n",
       "    'display_name': 'Arts and Humanities'},\n",
       "   'domain': {'id': 'https://openalex.org/domains/2',\n",
       "    'display_name': 'Social Sciences'}},\n",
       "  {'id': 'https://openalex.org/T10362',\n",
       "   'display_name': 'Biblical Studies and Christian Theology',\n",
       "   'count': 7,\n",
       "   'subfield': {'id': 'https://openalex.org/subfields/1212',\n",
       "    'display_name': 'Religious studies'},\n",
       "   'field': {'id': 'https://openalex.org/fields/12',\n",
       "    'display_name': 'Arts and Humanities'},\n",
       "   'domain': {'id': 'https://openalex.org/domains/2',\n",
       "    'display_name': 'Social Sciences'}},\n",
       "  {'id': 'https://openalex.org/T14162',\n",
       "   'display_name': 'Economy and Society in Ancient Rome',\n",
       "   'count': 6,\n",
       "   'subfield': {'id': 'https://openalex.org/subfields/3314',\n",
       "    'display_name': 'Anthropology'},\n",
       "   'field': {'id': 'https://openalex.org/fields/33',\n",
       "    'display_name': 'Social Sciences'},\n",
       "   'domain': {'id': 'https://openalex.org/domains/2',\n",
       "    'display_name': 'Social Sciences'}},\n",
       "  {'id': 'https://openalex.org/T13859',\n",
       "   'display_name': 'Recent Developments in Organic Synthesis',\n",
       "   'count': 5,\n",
       "   'subfield': {'id': 'https://openalex.org/subfields/1605',\n",
       "    'display_name': 'Organic Chemistry'},\n",
       "   'field': {'id': 'https://openalex.org/fields/16',\n",
       "    'display_name': 'Chemistry'},\n",
       "   'domain': {'id': 'https://openalex.org/domains/3',\n",
       "    'display_name': 'Physical Sciences'}},\n",
       "  {'id': 'https://openalex.org/T12768',\n",
       "   'display_name': 'Indo-European Linguistic and Cultural Studies',\n",
       "   'count': 5,\n",
       "   'subfield': {'id': 'https://openalex.org/subfields/1203',\n",
       "    'display_name': 'Language and Linguistics'},\n",
       "   'field': {'id': 'https://openalex.org/fields/12',\n",
       "    'display_name': 'Arts and Humanities'},\n",
       "   'domain': {'id': 'https://openalex.org/domains/2',\n",
       "    'display_name': 'Social Sciences'}},\n",
       "  {'id': 'https://openalex.org/T13900',\n",
       "   'display_name': 'Impact of Austerity Politics in Greece and Southern Europe',\n",
       "   'count': 4,\n",
       "   'subfield': {'id': 'https://openalex.org/subfields/3312',\n",
       "    'display_name': 'Sociology and Political Science'},\n",
       "   'field': {'id': 'https://openalex.org/fields/33',\n",
       "    'display_name': 'Social Sciences'},\n",
       "   'domain': {'id': 'https://openalex.org/domains/2',\n",
       "    'display_name': 'Social Sciences'}},\n",
       "  {'id': 'https://openalex.org/T14170',\n",
       "   'display_name': 'The Study of Language and Texts in History',\n",
       "   'count': 4,\n",
       "   'subfield': {'id': 'https://openalex.org/subfields/1203',\n",
       "    'display_name': 'Language and Linguistics'},\n",
       "   'field': {'id': 'https://openalex.org/fields/12',\n",
       "    'display_name': 'Arts and Humanities'},\n",
       "   'domain': {'id': 'https://openalex.org/domains/2',\n",
       "    'display_name': 'Social Sciences'}},\n",
       "  {'id': 'https://openalex.org/T12624',\n",
       "   'display_name': 'Maritime Archaeology in the Mediterranean Sea',\n",
       "   'count': 4,\n",
       "   'subfield': {'id': 'https://openalex.org/subfields/1204',\n",
       "    'display_name': 'Archeology'},\n",
       "   'field': {'id': 'https://openalex.org/fields/12',\n",
       "    'display_name': 'Arts and Humanities'},\n",
       "   'domain': {'id': 'https://openalex.org/domains/2',\n",
       "    'display_name': 'Social Sciences'}},\n",
       "  {'id': 'https://openalex.org/T13728',\n",
       "   'display_name': 'Societal Reactions to Moral Panics',\n",
       "   'count': 4,\n",
       "   'subfield': {'id': 'https://openalex.org/subfields/3312',\n",
       "    'display_name': 'Sociology and Political Science'},\n",
       "   'field': {'id': 'https://openalex.org/fields/33',\n",
       "    'display_name': 'Social Sciences'},\n",
       "   'domain': {'id': 'https://openalex.org/domains/2',\n",
       "    'display_name': 'Social Sciences'}},\n",
       "  {'id': 'https://openalex.org/T14210',\n",
       "   'display_name': 'Christian-Muslim Relations in Historical Context',\n",
       "   'count': 3,\n",
       "   'subfield': {'id': 'https://openalex.org/subfields/3312',\n",
       "    'display_name': 'Sociology and Political Science'},\n",
       "   'field': {'id': 'https://openalex.org/fields/33',\n",
       "    'display_name': 'Social Sciences'},\n",
       "   'domain': {'id': 'https://openalex.org/domains/2',\n",
       "    'display_name': 'Social Sciences'}},\n",
       "  {'id': 'https://openalex.org/T12872',\n",
       "   'display_name': 'Philippine Nationalism and History',\n",
       "   'count': 3,\n",
       "   'subfield': {'id': 'https://openalex.org/subfields/3314',\n",
       "    'display_name': 'Anthropology'},\n",
       "   'field': {'id': 'https://openalex.org/fields/33',\n",
       "    'display_name': 'Social Sciences'},\n",
       "   'domain': {'id': 'https://openalex.org/domains/2',\n",
       "    'display_name': 'Social Sciences'}},\n",
       "  {'id': 'https://openalex.org/T12144',\n",
       "   'display_name': 'Transatlantic Slave Trade and Its Impact',\n",
       "   'count': 3,\n",
       "   'subfield': {'id': 'https://openalex.org/subfields/3314',\n",
       "    'display_name': 'Anthropology'},\n",
       "   'field': {'id': 'https://openalex.org/fields/33',\n",
       "    'display_name': 'Social Sciences'},\n",
       "   'domain': {'id': 'https://openalex.org/domains/2',\n",
       "    'display_name': 'Social Sciences'}},\n",
       "  {'id': 'https://openalex.org/T14355',\n",
       "   'display_name': 'History and Culture of Wales and Welsh Diaspora',\n",
       "   'count': 3,\n",
       "   'subfield': {'id': 'https://openalex.org/subfields/1202',\n",
       "    'display_name': 'History'},\n",
       "   'field': {'id': 'https://openalex.org/fields/12',\n",
       "    'display_name': 'Arts and Humanities'},\n",
       "   'domain': {'id': 'https://openalex.org/domains/2',\n",
       "    'display_name': 'Social Sciences'}},\n",
       "  {'id': 'https://openalex.org/T12912',\n",
       "   'display_name': 'Adaptation Studies in Literature and Film',\n",
       "   'count': 3,\n",
       "   'subfield': {'id': 'https://openalex.org/subfields/1208',\n",
       "    'display_name': 'Literature and Literary Theory'},\n",
       "   'field': {'id': 'https://openalex.org/fields/12',\n",
       "    'display_name': 'Arts and Humanities'},\n",
       "   'domain': {'id': 'https://openalex.org/domains/2',\n",
       "    'display_name': 'Social Sciences'}},\n",
       "  {'id': 'https://openalex.org/T10595',\n",
       "   'display_name': 'Medieval Studies and Literature in Europe',\n",
       "   'count': 3,\n",
       "   'subfield': {'id': 'https://openalex.org/subfields/1205',\n",
       "    'display_name': 'Classics'},\n",
       "   'field': {'id': 'https://openalex.org/fields/12',\n",
       "    'display_name': 'Arts and Humanities'},\n",
       "   'domain': {'id': 'https://openalex.org/domains/2',\n",
       "    'display_name': 'Social Sciences'}},\n",
       "  {'id': 'https://openalex.org/T12586',\n",
       "   'display_name': 'The Pervasiveness of Fairy Tales in Culture',\n",
       "   'count': 2,\n",
       "   'subfield': {'id': 'https://openalex.org/subfields/1208',\n",
       "    'display_name': 'Literature and Literary Theory'},\n",
       "   'field': {'id': 'https://openalex.org/fields/12',\n",
       "    'display_name': 'Arts and Humanities'},\n",
       "   'domain': {'id': 'https://openalex.org/domains/2',\n",
       "    'display_name': 'Social Sciences'}}],\n",
       " 'topic_share': [{'id': 'https://openalex.org/T14266',\n",
       "   'display_name': 'Interdisciplinary Studies across Humanities and Sciences',\n",
       "   'value': 0.0005488,\n",
       "   'subfield': {'id': 'https://openalex.org/subfields/1207',\n",
       "    'display_name': 'History and Philosophy of Science'},\n",
       "   'field': {'id': 'https://openalex.org/fields/12',\n",
       "    'display_name': 'Arts and Humanities'},\n",
       "   'domain': {'id': 'https://openalex.org/domains/2',\n",
       "    'display_name': 'Social Sciences'}},\n",
       "  {'id': 'https://openalex.org/T14170',\n",
       "   'display_name': 'The Study of Language and Texts in History',\n",
       "   'value': 0.000325,\n",
       "   'subfield': {'id': 'https://openalex.org/subfields/1203',\n",
       "    'display_name': 'Language and Linguistics'},\n",
       "   'field': {'id': 'https://openalex.org/fields/12',\n",
       "    'display_name': 'Arts and Humanities'},\n",
       "   'domain': {'id': 'https://openalex.org/domains/2',\n",
       "    'display_name': 'Social Sciences'}},\n",
       "  {'id': 'https://openalex.org/T14001',\n",
       "   'display_name': 'Literature, History, and Cultural Studies',\n",
       "   'value': 0.0002417,\n",
       "   'subfield': {'id': 'https://openalex.org/subfields/1208',\n",
       "    'display_name': 'Literature and Literary Theory'},\n",
       "   'field': {'id': 'https://openalex.org/fields/12',\n",
       "    'display_name': 'Arts and Humanities'},\n",
       "   'domain': {'id': 'https://openalex.org/domains/2',\n",
       "    'display_name': 'Social Sciences'}},\n",
       "  {'id': 'https://openalex.org/T10165',\n",
       "   'display_name': 'Society and Economy in Ancient Mediterranean Civilizations',\n",
       "   'value': 0.000147,\n",
       "   'subfield': {'id': 'https://openalex.org/subfields/3314',\n",
       "    'display_name': 'Anthropology'},\n",
       "   'field': {'id': 'https://openalex.org/fields/33',\n",
       "    'display_name': 'Social Sciences'},\n",
       "   'domain': {'id': 'https://openalex.org/domains/2',\n",
       "    'display_name': 'Social Sciences'}},\n",
       "  {'id': 'https://openalex.org/T14131',\n",
       "   'display_name': 'Interdisciplinary Humanities and Social Sciences Research',\n",
       "   'value': 0.0001239,\n",
       "   'subfield': {'id': 'https://openalex.org/subfields/1207',\n",
       "    'display_name': 'History and Philosophy of Science'},\n",
       "   'field': {'id': 'https://openalex.org/fields/12',\n",
       "    'display_name': 'Arts and Humanities'},\n",
       "   'domain': {'id': 'https://openalex.org/domains/2',\n",
       "    'display_name': 'Social Sciences'}},\n",
       "  {'id': 'https://openalex.org/T13900',\n",
       "   'display_name': 'Impact of Austerity Politics in Greece and Southern Europe',\n",
       "   'value': 0.000116,\n",
       "   'subfield': {'id': 'https://openalex.org/subfields/3312',\n",
       "    'display_name': 'Sociology and Political Science'},\n",
       "   'field': {'id': 'https://openalex.org/fields/33',\n",
       "    'display_name': 'Social Sciences'},\n",
       "   'domain': {'id': 'https://openalex.org/domains/2',\n",
       "    'display_name': 'Social Sciences'}},\n",
       "  {'id': 'https://openalex.org/T13859',\n",
       "   'display_name': 'Recent Developments in Organic Synthesis',\n",
       "   'value': 9.92e-05,\n",
       "   'subfield': {'id': 'https://openalex.org/subfields/1605',\n",
       "    'display_name': 'Organic Chemistry'},\n",
       "   'field': {'id': 'https://openalex.org/fields/16',\n",
       "    'display_name': 'Chemistry'},\n",
       "   'domain': {'id': 'https://openalex.org/domains/3',\n",
       "    'display_name': 'Physical Sciences'}},\n",
       "  {'id': 'https://openalex.org/T13728',\n",
       "   'display_name': 'Societal Reactions to Moral Panics',\n",
       "   'value': 9.27e-05,\n",
       "   'subfield': {'id': 'https://openalex.org/subfields/3312',\n",
       "    'display_name': 'Sociology and Political Science'},\n",
       "   'field': {'id': 'https://openalex.org/fields/33',\n",
       "    'display_name': 'Social Sciences'},\n",
       "   'domain': {'id': 'https://openalex.org/domains/2',\n",
       "    'display_name': 'Social Sciences'}},\n",
       "  {'id': 'https://openalex.org/T14506',\n",
       "   'display_name': 'Archaeoastronomy and Cultural Landscapes',\n",
       "   'value': 8.31e-05,\n",
       "   'subfield': {'id': 'https://openalex.org/subfields/1204',\n",
       "    'display_name': 'Archeology'},\n",
       "   'field': {'id': 'https://openalex.org/fields/12',\n",
       "    'display_name': 'Arts and Humanities'},\n",
       "   'domain': {'id': 'https://openalex.org/domains/2',\n",
       "    'display_name': 'Social Sciences'}},\n",
       "  {'id': 'https://openalex.org/T12882',\n",
       "   'display_name': 'The Intersection of Psychology and Religion',\n",
       "   'value': 7.25e-05,\n",
       "   'subfield': {'id': 'https://openalex.org/subfields/3207',\n",
       "    'display_name': 'Social Psychology'},\n",
       "   'field': {'id': 'https://openalex.org/fields/32',\n",
       "    'display_name': 'Psychology'},\n",
       "   'domain': {'id': 'https://openalex.org/domains/2',\n",
       "    'display_name': 'Social Sciences'}},\n",
       "  {'id': 'https://openalex.org/T13329',\n",
       "   'display_name': 'Literary Modernism and Cultural Critique',\n",
       "   'value': 7.09e-05,\n",
       "   'subfield': {'id': 'https://openalex.org/subfields/1208',\n",
       "    'display_name': 'Literature and Literary Theory'},\n",
       "   'field': {'id': 'https://openalex.org/fields/12',\n",
       "    'display_name': 'Arts and Humanities'},\n",
       "   'domain': {'id': 'https://openalex.org/domains/2',\n",
       "    'display_name': 'Social Sciences'}},\n",
       "  {'id': 'https://openalex.org/T14451',\n",
       "   'display_name': 'Ceremonial and Authority in Medieval Rome',\n",
       "   'value': 5.71e-05,\n",
       "   'subfield': {'id': 'https://openalex.org/subfields/1202',\n",
       "    'display_name': 'History'},\n",
       "   'field': {'id': 'https://openalex.org/fields/12',\n",
       "    'display_name': 'Arts and Humanities'},\n",
       "   'domain': {'id': 'https://openalex.org/domains/2',\n",
       "    'display_name': 'Social Sciences'}},\n",
       "  {'id': 'https://openalex.org/T13847',\n",
       "   'display_name': 'Paediatric Virology Research and Education',\n",
       "   'value': 5.65e-05,\n",
       "   'subfield': {'id': 'https://openalex.org/subfields/2735',\n",
       "    'display_name': 'Pediatrics, Perinatology and Child Health'},\n",
       "   'field': {'id': 'https://openalex.org/fields/27',\n",
       "    'display_name': 'Medicine'},\n",
       "   'domain': {'id': 'https://openalex.org/domains/4',\n",
       "    'display_name': 'Health Sciences'}},\n",
       "  {'id': 'https://openalex.org/T12266',\n",
       "   'display_name': 'Byzantine and Eastern Mediterranean Studies',\n",
       "   'value': 5.51e-05,\n",
       "   'subfield': {'id': 'https://openalex.org/subfields/1205',\n",
       "    'display_name': 'Classics'},\n",
       "   'field': {'id': 'https://openalex.org/fields/12',\n",
       "    'display_name': 'Arts and Humanities'},\n",
       "   'domain': {'id': 'https://openalex.org/domains/2',\n",
       "    'display_name': 'Social Sciences'}},\n",
       "  {'id': 'https://openalex.org/T13068',\n",
       "   'display_name': 'Archaeological Studies of Ancient Mediterranean Civilizations',\n",
       "   'value': 5.13e-05,\n",
       "   'subfield': {'id': 'https://openalex.org/subfields/1204',\n",
       "    'display_name': 'Archeology'},\n",
       "   'field': {'id': 'https://openalex.org/fields/12',\n",
       "    'display_name': 'Arts and Humanities'},\n",
       "   'domain': {'id': 'https://openalex.org/domains/2',\n",
       "    'display_name': 'Social Sciences'}},\n",
       "  {'id': 'https://openalex.org/T12307',\n",
       "   'display_name': 'Ancient Near Eastern Studies and Civilizations',\n",
       "   'value': 4.99e-05,\n",
       "   'subfield': {'id': 'https://openalex.org/subfields/1204',\n",
       "    'display_name': 'Archeology'},\n",
       "   'field': {'id': 'https://openalex.org/fields/12',\n",
       "    'display_name': 'Arts and Humanities'},\n",
       "   'domain': {'id': 'https://openalex.org/domains/2',\n",
       "    'display_name': 'Social Sciences'}},\n",
       "  {'id': 'https://openalex.org/T11463',\n",
       "   'display_name': 'Philosophical Thought in Ancient Greece and Rome',\n",
       "   'value': 4.46e-05,\n",
       "   'subfield': {'id': 'https://openalex.org/subfields/1211',\n",
       "    'display_name': 'Philosophy'},\n",
       "   'field': {'id': 'https://openalex.org/fields/12',\n",
       "    'display_name': 'Arts and Humanities'},\n",
       "   'domain': {'id': 'https://openalex.org/domains/2',\n",
       "    'display_name': 'Social Sciences'}},\n",
       "  {'id': 'https://openalex.org/T11776',\n",
       "   'display_name': 'Ethnic Conflict in Northern Ireland',\n",
       "   'value': 4.3e-05,\n",
       "   'subfield': {'id': 'https://openalex.org/subfields/3312',\n",
       "    'display_name': 'Sociology and Political Science'},\n",
       "   'field': {'id': 'https://openalex.org/fields/33',\n",
       "    'display_name': 'Social Sciences'},\n",
       "   'domain': {'id': 'https://openalex.org/domains/2',\n",
       "    'display_name': 'Social Sciences'}},\n",
       "  {'id': 'https://openalex.org/T13245',\n",
       "   'display_name': 'The Works of Samuel Beckett',\n",
       "   'value': 4.27e-05,\n",
       "   'subfield': {'id': 'https://openalex.org/subfields/1208',\n",
       "    'display_name': 'Literature and Literary Theory'},\n",
       "   'field': {'id': 'https://openalex.org/fields/12',\n",
       "    'display_name': 'Arts and Humanities'},\n",
       "   'domain': {'id': 'https://openalex.org/domains/2',\n",
       "    'display_name': 'Social Sciences'}},\n",
       "  {'id': 'https://openalex.org/T13198',\n",
       "   'display_name': 'Ancient Magical Practices and Beliefs',\n",
       "   'value': 4.21e-05,\n",
       "   'subfield': {'id': 'https://openalex.org/subfields/1204',\n",
       "    'display_name': 'Archeology'},\n",
       "   'field': {'id': 'https://openalex.org/fields/12',\n",
       "    'display_name': 'Arts and Humanities'},\n",
       "   'domain': {'id': 'https://openalex.org/domains/2',\n",
       "    'display_name': 'Social Sciences'}},\n",
       "  {'id': 'https://openalex.org/T13497',\n",
       "   'display_name': 'Critical Hermeneutics and Interpretation Studies',\n",
       "   'value': 3.33e-05,\n",
       "   'subfield': {'id': 'https://openalex.org/subfields/1211',\n",
       "    'display_name': 'Philosophy'},\n",
       "   'field': {'id': 'https://openalex.org/fields/12',\n",
       "    'display_name': 'Arts and Humanities'},\n",
       "   'domain': {'id': 'https://openalex.org/domains/2',\n",
       "    'display_name': 'Social Sciences'}},\n",
       "  {'id': 'https://openalex.org/T13024',\n",
       "   'display_name': 'Literary Theory and Cultural Hermeneutics',\n",
       "   'value': 3.05e-05,\n",
       "   'subfield': {'id': 'https://openalex.org/subfields/1208',\n",
       "    'display_name': 'Literature and Literary Theory'},\n",
       "   'field': {'id': 'https://openalex.org/fields/12',\n",
       "    'display_name': 'Arts and Humanities'},\n",
       "   'domain': {'id': 'https://openalex.org/domains/2',\n",
       "    'display_name': 'Social Sciences'}},\n",
       "  {'id': 'https://openalex.org/T12730',\n",
       "   'display_name': \"Max Weber's Contributions to Sociology and Social Theory\",\n",
       "   'value': 2.9e-05,\n",
       "   'subfield': {'id': 'https://openalex.org/subfields/3312',\n",
       "    'display_name': 'Sociology and Political Science'},\n",
       "   'field': {'id': 'https://openalex.org/fields/33',\n",
       "    'display_name': 'Social Sciences'},\n",
       "   'domain': {'id': 'https://openalex.org/domains/2',\n",
       "    'display_name': 'Social Sciences'}},\n",
       "  {'id': 'https://openalex.org/T13222',\n",
       "   'display_name': 'Cultural and Social Dynamics in the Caribbean Region',\n",
       "   'value': 2.82e-05,\n",
       "   'subfield': {'id': 'https://openalex.org/subfields/3316',\n",
       "    'display_name': 'Cultural Studies'},\n",
       "   'field': {'id': 'https://openalex.org/fields/33',\n",
       "    'display_name': 'Social Sciences'},\n",
       "   'domain': {'id': 'https://openalex.org/domains/2',\n",
       "    'display_name': 'Social Sciences'}},\n",
       "  {'id': 'https://openalex.org/T12160',\n",
       "   'display_name': 'Decolonizing Education in African Context',\n",
       "   'value': 2.71e-05,\n",
       "   'subfield': {'id': 'https://openalex.org/subfields/3304',\n",
       "    'display_name': 'Education'},\n",
       "   'field': {'id': 'https://openalex.org/fields/33',\n",
       "    'display_name': 'Social Sciences'},\n",
       "   'domain': {'id': 'https://openalex.org/domains/2',\n",
       "    'display_name': 'Social Sciences'}}],\n",
       " 'x_concepts': [{'id': 'https://openalex.org/C95457728',\n",
       "   'wikidata': 'https://www.wikidata.org/wiki/Q309',\n",
       "   'display_name': 'History',\n",
       "   'level': 0,\n",
       "   'score': 73.3},\n",
       "  {'id': 'https://openalex.org/C142362112',\n",
       "   'wikidata': 'https://www.wikidata.org/wiki/Q735',\n",
       "   'display_name': 'Art',\n",
       "   'level': 0,\n",
       "   'score': 66.8},\n",
       "  {'id': 'https://openalex.org/C138885662',\n",
       "   'wikidata': 'https://www.wikidata.org/wiki/Q5891',\n",
       "   'display_name': 'Philosophy',\n",
       "   'level': 0,\n",
       "   'score': 34.8},\n",
       "  {'id': 'https://openalex.org/C195244886',\n",
       "   'wikidata': 'https://www.wikidata.org/wiki/Q41493',\n",
       "   'display_name': 'Ancient history',\n",
       "   'level': 1,\n",
       "   'score': 34.2},\n",
       "  {'id': 'https://openalex.org/C205649164',\n",
       "   'wikidata': 'https://www.wikidata.org/wiki/Q1071',\n",
       "   'display_name': 'Geography',\n",
       "   'level': 0,\n",
       "   'score': 32.6},\n",
       "  {'id': 'https://openalex.org/C74916050',\n",
       "   'wikidata': 'https://www.wikidata.org/wiki/Q841090',\n",
       "   'display_name': 'Classics',\n",
       "   'level': 1,\n",
       "   'score': 27.8},\n",
       "  {'id': 'https://openalex.org/C124952713',\n",
       "   'wikidata': 'https://www.wikidata.org/wiki/Q8242',\n",
       "   'display_name': 'Literature',\n",
       "   'level': 1,\n",
       "   'score': 25.7},\n",
       "  {'id': 'https://openalex.org/C166957645',\n",
       "   'wikidata': 'https://www.wikidata.org/wiki/Q23498',\n",
       "   'display_name': 'Archaeology',\n",
       "   'level': 1,\n",
       "   'score': 24.1},\n",
       "  {'id': 'https://openalex.org/C17744445',\n",
       "   'wikidata': 'https://www.wikidata.org/wiki/Q36442',\n",
       "   'display_name': 'Political science',\n",
       "   'level': 0,\n",
       "   'score': 21.9}],\n",
       " 'counts_by_year': [{'year': 2024, 'works_count': 0, 'cited_by_count': 50},\n",
       "  {'year': 2023, 'works_count': 0, 'cited_by_count': 154},\n",
       "  {'year': 2022, 'works_count': 0, 'cited_by_count': 138},\n",
       "  {'year': 2021, 'works_count': 0, 'cited_by_count': 213},\n",
       "  {'year': 2020, 'works_count': 0, 'cited_by_count': 265},\n",
       "  {'year': 2019, 'works_count': 0, 'cited_by_count': 244},\n",
       "  {'year': 2018, 'works_count': 0, 'cited_by_count': 306},\n",
       "  {'year': 2017, 'works_count': 1, 'cited_by_count': 114},\n",
       "  {'year': 2016, 'works_count': 0, 'cited_by_count': 118},\n",
       "  {'year': 2015, 'works_count': 0, 'cited_by_count': 98},\n",
       "  {'year': 2014, 'works_count': 0, 'cited_by_count': 94},\n",
       "  {'year': 2013, 'works_count': 1, 'cited_by_count': 162},\n",
       "  {'year': 2012, 'works_count': 0, 'cited_by_count': 104}],\n",
       " 'works_api_url': 'https://api.openalex.org/works?filter=primary_location.source.id:S4210209619',\n",
       " 'updated_date': '2024-05-29T04:29:42.352027',\n",
       " 'created_date': '2022-02-03'}"
      ]
     },
     "execution_count": 135,
     "metadata": {},
     "output_type": "execute_result"
    }
   ],
   "source": [
    "Sources().random()"
   ]
  },
  {
   "cell_type": "code",
   "execution_count": 136,
   "id": "6344a0d7-3c12-4c82-bd14-d3946aea0a07",
   "metadata": {},
   "outputs": [],
   "source": [
    "def get_source_json(s:str):\n",
    "    \"\"\"\n",
    "    s is an openalex Sources display_name\n",
    "    return that Sources object\n",
    "    \"\"\"\n",
    "    source_json = Sources().search_filter(display_name = s).get()\n",
    "    a = source_json[0]['type']\n",
    "    if \"homepage_url\" in source_json[0] and source_json[0]['homepage_url']:\n",
    "        print(f\"{s} has homepage_url and type {source_json[0]['type']}\")\n",
    "        return source_json[0][\"homepage_url\"]\n",
    "    else:\n",
    "        return None"
   ]
  },
  {
   "cell_type": "code",
   "execution_count": 137,
   "id": "2ae39556-dc8a-409d-b4b4-12c60b9f191b",
   "metadata": {},
   "outputs": [
    {
     "data": {
      "text/plain": [
       "'Nature physics'"
      ]
     },
     "execution_count": 137,
     "metadata": {},
     "output_type": "execute_result"
    }
   ],
   "source": [
    "sources_list[5]"
   ]
  },
  {
   "cell_type": "code",
   "execution_count": 138,
   "id": "790d0fcf-9189-427c-b7b9-ebf516c2a3a6",
   "metadata": {},
   "outputs": [
    {
     "name": "stdout",
     "output_type": "stream",
     "text": [
      "Nature physics has homepage_url and type journal\n"
     ]
    },
    {
     "data": {
      "text/plain": [
       "'http://www.nature.com/nphys/'"
      ]
     },
     "execution_count": 138,
     "metadata": {},
     "output_type": "execute_result"
    }
   ],
   "source": [
    "sj0 = get_source_json(sources_list[5])\n",
    "sj0"
   ]
  },
  {
   "cell_type": "code",
   "execution_count": 139,
   "id": "ce90a1d8-4878-41a7-b73a-3a577842bb3b",
   "metadata": {},
   "outputs": [],
   "source": [
    "def get_display_page_dict(sl:list):\n",
    "    \"\"\"\n",
    "    sl is a list of Sources display_name values\n",
    "    returns the dictionary mapping\n",
    "    display_names with homepage_url values.\"\"\"\n",
    "    mapping_dict = dict()\n",
    "    for s in tqdm(sl):\n",
    "        try:\n",
    "            mapping_dict[s] = get_source_json(s)\n",
    "        except:\n",
    "            pass\n",
    "    return mapping_dict"
   ]
  },
  {
   "cell_type": "code",
   "execution_count": 140,
   "id": "f980acc8-2958-44c6-afae-e0344a35081a",
   "metadata": {},
   "outputs": [
    {
     "name": "stderr",
     "output_type": "stream",
     "text": [
      "  0%|                                                                        | 1/1556 [00:00<11:34,  2.24it/s]"
     ]
    },
    {
     "name": "stdout",
     "output_type": "stream",
     "text": [
      "Nature reviews physics has homepage_url and type journal\n"
     ]
    },
    {
     "name": "stderr",
     "output_type": "stream",
     "text": [
      "  0%|                                                                        | 2/1556 [00:00<12:10,  2.13it/s]"
     ]
    },
    {
     "name": "stdout",
     "output_type": "stream",
     "text": [
      "Reviews of modern physics has homepage_url and type journal\n"
     ]
    },
    {
     "name": "stderr",
     "output_type": "stream",
     "text": [
      "  0%|▏                                                                       | 3/1556 [00:01<12:11,  2.12it/s]"
     ]
    },
    {
     "name": "stdout",
     "output_type": "stream",
     "text": [
      "Physical review letters has homepage_url and type journal\n"
     ]
    },
    {
     "name": "stderr",
     "output_type": "stream",
     "text": [
      "  0%|▏                                                                       | 4/1556 [00:02<16:15,  1.59it/s]"
     ]
    },
    {
     "name": "stdout",
     "output_type": "stream",
     "text": [
      "Nature has homepage_url and type journal\n"
     ]
    },
    {
     "name": "stderr",
     "output_type": "stream",
     "text": [
      "  0%|▏                                                                       | 5/1556 [00:03<18:10,  1.42it/s]"
     ]
    },
    {
     "name": "stdout",
     "output_type": "stream",
     "text": [
      "Science has homepage_url and type journal\n"
     ]
    },
    {
     "name": "stderr",
     "output_type": "stream",
     "text": [
      "  0%|▎                                                                       | 6/1556 [00:03<16:06,  1.60it/s]"
     ]
    },
    {
     "name": "stdout",
     "output_type": "stream",
     "text": [
      "Nature physics has homepage_url and type journal\n"
     ]
    },
    {
     "name": "stderr",
     "output_type": "stream",
     "text": [
      "  0%|▎                                                                       | 7/1556 [00:04<14:59,  1.72it/s]"
     ]
    },
    {
     "name": "stdout",
     "output_type": "stream",
     "text": [
      "Journal of the Physical Society of Japan has homepage_url and type journal\n"
     ]
    },
    {
     "name": "stderr",
     "output_type": "stream",
     "text": [
      "  1%|▎                                                                       | 8/1556 [00:04<14:06,  1.83it/s]"
     ]
    },
    {
     "name": "stdout",
     "output_type": "stream",
     "text": [
      "Nature communications has homepage_url and type journal\n"
     ]
    },
    {
     "name": "stderr",
     "output_type": "stream",
     "text": [
      "  1%|▍                                                                       | 9/1556 [00:05<16:07,  1.60it/s]"
     ]
    },
    {
     "name": "stdout",
     "output_type": "stream",
     "text": [
      "Quantum has homepage_url and type journal\n"
     ]
    },
    {
     "name": "stderr",
     "output_type": "stream",
     "text": [
      "  1%|▍                                                                      | 10/1556 [00:05<15:18,  1.68it/s]"
     ]
    },
    {
     "name": "stdout",
     "output_type": "stream",
     "text": [
      "Quantum science and technology has homepage_url and type journal\n"
     ]
    },
    {
     "name": "stderr",
     "output_type": "stream",
     "text": [
      "  1%|▌                                                                      | 11/1556 [00:06<14:29,  1.78it/s]"
     ]
    },
    {
     "name": "stdout",
     "output_type": "stream",
     "text": [
      "PRX quantum has homepage_url and type journal\n"
     ]
    },
    {
     "name": "stderr",
     "output_type": "stream",
     "text": [
      "  1%|▌                                                                      | 12/1556 [00:07<15:33,  1.65it/s]"
     ]
    },
    {
     "name": "stdout",
     "output_type": "stream",
     "text": [
      "Physics reports has homepage_url and type journal\n"
     ]
    },
    {
     "name": "stderr",
     "output_type": "stream",
     "text": [
      "  1%|▌                                                                      | 13/1556 [00:07<16:27,  1.56it/s]"
     ]
    },
    {
     "name": "stdout",
     "output_type": "stream",
     "text": [
      "Internet of things has homepage_url and type journal\n"
     ]
    },
    {
     "name": "stderr",
     "output_type": "stream",
     "text": [
      "  1%|▋                                                                      | 14/1556 [00:08<15:07,  1.70it/s]"
     ]
    },
    {
     "name": "stdout",
     "output_type": "stream",
     "text": [
      "Nature reviews. Materials has homepage_url and type journal\n"
     ]
    },
    {
     "name": "stderr",
     "output_type": "stream",
     "text": [
      "  1%|▋                                                                      | 15/1556 [00:08<14:04,  1.82it/s]"
     ]
    },
    {
     "name": "stdout",
     "output_type": "stream",
     "text": [
      "JPhys photonics has homepage_url and type journal\n"
     ]
    },
    {
     "name": "stderr",
     "output_type": "stream",
     "text": [
      "  1%|▋                                                                      | 16/1556 [00:09<13:52,  1.85it/s]"
     ]
    },
    {
     "name": "stdout",
     "output_type": "stream",
     "text": [
      "Quantum Machine Intelligence/Quantum machine intelligence has homepage_url and type journal\n"
     ]
    },
    {
     "name": "stderr",
     "output_type": "stream",
     "text": [
      "  1%|▊                                                                      | 17/1556 [00:09<13:32,  1.89it/s]"
     ]
    },
    {
     "name": "stdout",
     "output_type": "stream",
     "text": [
      "AVS quantum science has homepage_url and type journal\n"
     ]
    },
    {
     "name": "stderr",
     "output_type": "stream",
     "text": [
      "  1%|▊                                                                      | 18/1556 [00:10<12:52,  1.99it/s]"
     ]
    },
    {
     "name": "stdout",
     "output_type": "stream",
     "text": [
      "Materials today physics has homepage_url and type journal\n"
     ]
    },
    {
     "name": "stderr",
     "output_type": "stream",
     "text": [
      "  1%|▉                                                                      | 20/1556 [00:11<12:13,  2.09it/s]"
     ]
    },
    {
     "name": "stdout",
     "output_type": "stream",
     "text": [
      "npj quantum information has homepage_url and type journal\n"
     ]
    },
    {
     "name": "stderr",
     "output_type": "stream",
     "text": [
      "  1%|▉                                                                      | 21/1556 [00:11<12:19,  2.08it/s]"
     ]
    },
    {
     "name": "stdout",
     "output_type": "stream",
     "text": [
      "Nature electronics. has homepage_url and type journal\n"
     ]
    },
    {
     "name": "stderr",
     "output_type": "stream",
     "text": [
      "  1%|█                                                                      | 22/1556 [00:12<12:19,  2.07it/s]"
     ]
    },
    {
     "name": "stdout",
     "output_type": "stream",
     "text": [
      "AAPPS bulletin has homepage_url and type journal\n"
     ]
    },
    {
     "name": "stderr",
     "output_type": "stream",
     "text": [
      "  1%|█                                                                      | 23/1556 [00:12<12:27,  2.05it/s]"
     ]
    },
    {
     "name": "stdout",
     "output_type": "stream",
     "text": [
      "EPJ quantum technology has homepage_url and type journal\n"
     ]
    },
    {
     "name": "stderr",
     "output_type": "stream",
     "text": [
      "  2%|█                                                                      | 24/1556 [00:13<15:18,  1.67it/s]"
     ]
    },
    {
     "name": "stdout",
     "output_type": "stream",
     "text": [
      "Science advances has homepage_url and type journal\n"
     ]
    },
    {
     "name": "stderr",
     "output_type": "stream",
     "text": [
      "  2%|█▏                                                                     | 25/1556 [00:14<17:36,  1.45it/s]"
     ]
    },
    {
     "name": "stdout",
     "output_type": "stream",
     "text": [
      "Science Bulletin has homepage_url and type journal\n"
     ]
    },
    {
     "name": "stderr",
     "output_type": "stream",
     "text": [
      "  2%|█▏                                                                     | 26/1556 [00:14<17:30,  1.46it/s]"
     ]
    },
    {
     "name": "stdout",
     "output_type": "stream",
     "text": [
      "Journal of applied physics has homepage_url and type journal\n"
     ]
    },
    {
     "name": "stderr",
     "output_type": "stream",
     "text": [
      "  2%|█▏                                                                     | 27/1556 [00:15<15:51,  1.61it/s]"
     ]
    },
    {
     "name": "stdout",
     "output_type": "stream",
     "text": [
      "Physical review. X has homepage_url and type journal\n"
     ]
    },
    {
     "name": "stderr",
     "output_type": "stream",
     "text": [
      "  2%|█▎                                                                     | 29/1556 [00:16<13:48,  1.84it/s]"
     ]
    },
    {
     "name": "stdout",
     "output_type": "stream",
     "text": [
      "Physical review research has homepage_url and type journal\n"
     ]
    },
    {
     "name": "stderr",
     "output_type": "stream",
     "text": [
      "  2%|█▍                                                                     | 31/1556 [00:17<13:31,  1.88it/s]"
     ]
    },
    {
     "name": "stdout",
     "output_type": "stream",
     "text": [
      "Fundamental research has homepage_url and type journal\n"
     ]
    },
    {
     "name": "stderr",
     "output_type": "stream",
     "text": [
      "  2%|█▍                                                                     | 32/1556 [00:17<12:54,  1.97it/s]"
     ]
    },
    {
     "name": "stdout",
     "output_type": "stream",
     "text": [
      "Nature nanotechnology has homepage_url and type journal\n"
     ]
    },
    {
     "name": "stderr",
     "output_type": "stream",
     "text": [
      "  2%|█▌                                                                     | 33/1556 [00:18<12:31,  2.03it/s]"
     ]
    },
    {
     "name": "stdout",
     "output_type": "stream",
     "text": [
      "Nature computational science has homepage_url and type journal\n"
     ]
    },
    {
     "name": "stderr",
     "output_type": "stream",
     "text": [
      "  2%|█▌                                                                     | 35/1556 [00:19<12:42,  2.00it/s]"
     ]
    },
    {
     "name": "stdout",
     "output_type": "stream",
     "text": [
      "Chemical Society reviews has homepage_url and type journal\n"
     ]
    },
    {
     "name": "stderr",
     "output_type": "stream",
     "text": [
      "  2%|█▋                                                                     | 36/1556 [00:19<13:41,  1.85it/s]"
     ]
    },
    {
     "name": "stdout",
     "output_type": "stream",
     "text": [
      "Optica has homepage_url and type journal\n"
     ]
    },
    {
     "name": "stderr",
     "output_type": "stream",
     "text": [
      "  2%|█▋                                                                     | 37/1556 [00:20<13:01,  1.94it/s]"
     ]
    },
    {
     "name": "stdout",
     "output_type": "stream",
     "text": [
      "Nature materials has homepage_url and type journal\n"
     ]
    },
    {
     "name": "stderr",
     "output_type": "stream",
     "text": [
      "  2%|█▋                                                                     | 38/1556 [00:20<12:55,  1.96it/s]"
     ]
    },
    {
     "name": "stdout",
     "output_type": "stream",
     "text": [
      "Reports on progress in physics has homepage_url and type journal\n"
     ]
    },
    {
     "name": "stderr",
     "output_type": "stream",
     "text": [
      "  3%|█▊                                                                     | 40/1556 [00:22<14:34,  1.73it/s]"
     ]
    },
    {
     "name": "stdout",
     "output_type": "stream",
     "text": [
      "Scientific reports has homepage_url and type journal\n"
     ]
    },
    {
     "name": "stderr",
     "output_type": "stream",
     "text": [
      "  3%|█▊                                                                     | 41/1556 [00:22<13:43,  1.84it/s]"
     ]
    },
    {
     "name": "stdout",
     "output_type": "stream",
     "text": [
      "IEEE transactions on quantum engineering has homepage_url and type journal\n"
     ]
    },
    {
     "name": "stderr",
     "output_type": "stream",
     "text": [
      "  3%|█▉                                                                     | 42/1556 [00:23<13:19,  1.89it/s]"
     ]
    },
    {
     "name": "stdout",
     "output_type": "stream",
     "text": [
      "Chinese Physics B/Chinese physics B has homepage_url and type journal\n"
     ]
    },
    {
     "name": "stderr",
     "output_type": "stream",
     "text": [
      "  3%|█▉                                                                     | 43/1556 [00:23<14:34,  1.73it/s]"
     ]
    },
    {
     "name": "stdout",
     "output_type": "stream",
     "text": [
      "Communications physics has homepage_url and type journal\n"
     ]
    },
    {
     "name": "stderr",
     "output_type": "stream",
     "text": [
      "  3%|██                                                                     | 44/1556 [00:24<13:35,  1.85it/s]"
     ]
    },
    {
     "name": "stdout",
     "output_type": "stream",
     "text": [
      "Materials theory has homepage_url and type journal\n"
     ]
    },
    {
     "name": "stderr",
     "output_type": "stream",
     "text": [
      "  3%|██                                                                     | 46/1556 [00:25<12:40,  1.99it/s]"
     ]
    },
    {
     "name": "stdout",
     "output_type": "stream",
     "text": [
      "Advanced quantum technologies has homepage_url and type journal\n"
     ]
    },
    {
     "name": "stderr",
     "output_type": "stream",
     "text": [
      "  3%|██▏                                                                    | 47/1556 [00:25<12:39,  1.99it/s]"
     ]
    },
    {
     "name": "stdout",
     "output_type": "stream",
     "text": [
      "Nature photonics has homepage_url and type journal\n"
     ]
    },
    {
     "name": "stderr",
     "output_type": "stream",
     "text": [
      "  3%|██▎                                                                    | 50/1556 [00:27<11:43,  2.14it/s]"
     ]
    },
    {
     "name": "stdout",
     "output_type": "stream",
     "text": [
      "Nature machine intelligence has homepage_url and type journal\n"
     ]
    },
    {
     "name": "stderr",
     "output_type": "stream",
     "text": [
      "  3%|██▎                                                                    | 51/1556 [00:27<13:22,  1.87it/s]"
     ]
    },
    {
     "name": "stdout",
     "output_type": "stream",
     "text": [
      "Computer networks has homepage_url and type journal\n"
     ]
    },
    {
     "name": "stderr",
     "output_type": "stream",
     "text": [
      "  3%|██▎                                                                    | 52/1556 [00:28<12:52,  1.95it/s]"
     ]
    },
    {
     "name": "stdout",
     "output_type": "stream",
     "text": [
      "Chinese Physics Letters/Chinese physics letters has homepage_url and type journal\n"
     ]
    },
    {
     "name": "stderr",
     "output_type": "stream",
     "text": [
      "  3%|██▍                                                                    | 54/1556 [00:29<12:11,  2.05it/s]"
     ]
    },
    {
     "name": "stdout",
     "output_type": "stream",
     "text": [
      "IEEE transactions on emerging topics in computing has homepage_url and type journal\n"
     ]
    },
    {
     "name": "stderr",
     "output_type": "stream",
     "text": [
      "  4%|██▌                                                                    | 55/1556 [00:29<11:57,  2.09it/s]"
     ]
    },
    {
     "name": "stdout",
     "output_type": "stream",
     "text": [
      "Physical review applied has homepage_url and type journal\n"
     ]
    },
    {
     "name": "stderr",
     "output_type": "stream",
     "text": [
      "  4%|██▌                                                                    | 56/1556 [00:30<12:07,  2.06it/s]"
     ]
    },
    {
     "name": "stdout",
     "output_type": "stream",
     "text": [
      "Proceedings of the National Academy of Sciences of the United States of America has homepage_url and type journal\n"
     ]
    },
    {
     "name": "stderr",
     "output_type": "stream",
     "text": [
      "  4%|██▌                                                                    | 57/1556 [00:30<11:59,  2.08it/s]"
     ]
    },
    {
     "name": "stdout",
     "output_type": "stream",
     "text": [
      "Entropy has homepage_url and type journal\n"
     ]
    },
    {
     "name": "stderr",
     "output_type": "stream",
     "text": [
      "  4%|██▋                                                                    | 58/1556 [00:31<12:39,  1.97it/s]"
     ]
    },
    {
     "name": "stdout",
     "output_type": "stream",
     "text": [
      "Future internet has homepage_url and type journal\n"
     ]
    },
    {
     "name": "stderr",
     "output_type": "stream",
     "text": [
      "  4%|██▋                                                                    | 59/1556 [00:31<12:03,  2.07it/s]"
     ]
    },
    {
     "name": "stdout",
     "output_type": "stream",
     "text": [
      "IEEE transactions on engineering management has homepage_url and type journal\n"
     ]
    },
    {
     "name": "stderr",
     "output_type": "stream",
     "text": [
      "  4%|██▋                                                                    | 60/1556 [00:32<12:01,  2.07it/s]"
     ]
    },
    {
     "name": "stdout",
     "output_type": "stream",
     "text": [
      "Technovation has homepage_url and type journal\n"
     ]
    },
    {
     "name": "stderr",
     "output_type": "stream",
     "text": [
      "  4%|██▊                                                                    | 61/1556 [00:32<12:34,  1.98it/s]"
     ]
    },
    {
     "name": "stdout",
     "output_type": "stream",
     "text": [
      "Frontiers of Physics has homepage_url and type journal\n"
     ]
    },
    {
     "name": "stderr",
     "output_type": "stream",
     "text": [
      "  4%|██▊                                                                    | 62/1556 [00:33<14:34,  1.71it/s]"
     ]
    },
    {
     "name": "stdout",
     "output_type": "stream",
     "text": [
      "Advanced materials has homepage_url and type journal\n"
     ]
    },
    {
     "name": "stderr",
     "output_type": "stream",
     "text": [
      "  4%|██▉                                                                    | 64/1556 [00:34<14:06,  1.76it/s]"
     ]
    },
    {
     "name": "stdout",
     "output_type": "stream",
     "text": [
      "Energy reports has homepage_url and type journal\n"
     ]
    },
    {
     "name": "stderr",
     "output_type": "stream",
     "text": [
      "  4%|██▉                                                                    | 65/1556 [00:34<13:28,  1.84it/s]"
     ]
    },
    {
     "name": "stdout",
     "output_type": "stream",
     "text": [
      "IEEE Communications surveys and tutorials/IEEE communications surveys and tutorials has homepage_url and type journal\n"
     ]
    },
    {
     "name": "stderr",
     "output_type": "stream",
     "text": [
      "  4%|███                                                                    | 66/1556 [00:35<13:15,  1.87it/s]"
     ]
    },
    {
     "name": "stdout",
     "output_type": "stream",
     "text": [
      "Physical review. D/Physical review. D. has homepage_url and type journal\n"
     ]
    },
    {
     "name": "stderr",
     "output_type": "stream",
     "text": [
      "  4%|███                                                                    | 67/1556 [00:35<12:53,  1.92it/s]"
     ]
    },
    {
     "name": "stdout",
     "output_type": "stream",
     "text": [
      "Applied soft computing has homepage_url and type journal\n"
     ]
    },
    {
     "name": "stderr",
     "output_type": "stream",
     "text": [
      "  4%|███▏                                                                   | 69/1556 [00:36<12:32,  1.98it/s]"
     ]
    },
    {
     "name": "stdout",
     "output_type": "stream",
     "text": [
      "Applied physics reviews has homepage_url and type journal\n"
     ]
    },
    {
     "name": "stderr",
     "output_type": "stream",
     "text": [
      "  4%|███▏                                                                   | 70/1556 [00:37<12:47,  1.94it/s]"
     ]
    },
    {
     "name": "stdout",
     "output_type": "stream",
     "text": [
      "Cancers has homepage_url and type journal\n"
     ]
    },
    {
     "name": "stderr",
     "output_type": "stream",
     "text": [
      "  5%|███▏                                                                   | 71/1556 [00:38<14:31,  1.70it/s]"
     ]
    },
    {
     "name": "stdout",
     "output_type": "stream",
     "text": [
      "Chemical science has homepage_url and type journal\n"
     ]
    },
    {
     "name": "stderr",
     "output_type": "stream",
     "text": [
      "  5%|███▎                                                                   | 72/1556 [00:38<13:30,  1.83it/s]"
     ]
    },
    {
     "name": "stdout",
     "output_type": "stream",
     "text": [
      "Optics communications has homepage_url and type journal\n"
     ]
    },
    {
     "name": "stderr",
     "output_type": "stream",
     "text": [
      "  5%|███▎                                                                   | 73/1556 [00:39<14:17,  1.73it/s]"
     ]
    },
    {
     "name": "stdout",
     "output_type": "stream",
     "text": [
      "IEEE wireless communications has homepage_url and type journal\n"
     ]
    },
    {
     "name": "stderr",
     "output_type": "stream",
     "text": [
      "  5%|███▍                                                                   | 74/1556 [00:39<13:36,  1.82it/s]"
     ]
    },
    {
     "name": "stdout",
     "output_type": "stream",
     "text": [
      "IEEE transactions on information theory has homepage_url and type journal\n"
     ]
    },
    {
     "name": "stderr",
     "output_type": "stream",
     "text": [
      "  5%|███▍                                                                   | 75/1556 [00:40<13:05,  1.89it/s]"
     ]
    },
    {
     "name": "stdout",
     "output_type": "stream",
     "text": [
      "Biomedical signal processing and control has homepage_url and type journal\n"
     ]
    },
    {
     "name": "stderr",
     "output_type": "stream",
     "text": [
      "  5%|███▌                                                                   | 77/1556 [00:41<12:42,  1.94it/s]"
     ]
    },
    {
     "name": "stdout",
     "output_type": "stream",
     "text": [
      "IEEE internet of things journal has homepage_url and type journal\n"
     ]
    },
    {
     "name": "stderr",
     "output_type": "stream",
     "text": [
      "  5%|███▌                                                                   | 78/1556 [00:41<13:01,  1.89it/s]"
     ]
    },
    {
     "name": "stdout",
     "output_type": "stream",
     "text": [
      "Information fusion has homepage_url and type journal\n"
     ]
    },
    {
     "name": "stderr",
     "output_type": "stream",
     "text": [
      "  5%|███▌                                                                   | 79/1556 [00:42<12:34,  1.96it/s]"
     ]
    },
    {
     "name": "stdout",
     "output_type": "stream",
     "text": [
      "IEEE journal of biomedical and health informatics has homepage_url and type journal\n"
     ]
    },
    {
     "name": "stderr",
     "output_type": "stream",
     "text": [
      "  5%|███▋                                                                   | 80/1556 [00:42<12:23,  1.99it/s]"
     ]
    },
    {
     "name": "stdout",
     "output_type": "stream",
     "text": [
      "IEEE journal of selected topics in applied earth observations and remote sensing has homepage_url and type journal\n"
     ]
    },
    {
     "name": "stderr",
     "output_type": "stream",
     "text": [
      "  5%|███▋                                                                   | 81/1556 [00:43<12:20,  1.99it/s]"
     ]
    },
    {
     "name": "stdout",
     "output_type": "stream",
     "text": [
      "Future generation computer systems has homepage_url and type journal\n"
     ]
    },
    {
     "name": "stderr",
     "output_type": "stream",
     "text": [
      "  5%|███▋                                                                   | 82/1556 [00:43<12:26,  1.97it/s]"
     ]
    },
    {
     "name": "stdout",
     "output_type": "stream",
     "text": [
      "IEEE transactions on neural networks and learning systems has homepage_url and type journal\n"
     ]
    },
    {
     "name": "stderr",
     "output_type": "stream",
     "text": [
      "  5%|███▊                                                                   | 83/1556 [00:44<12:13,  2.01it/s]"
     ]
    },
    {
     "name": "stdout",
     "output_type": "stream",
     "text": [
      "IEEE transactions on computer-aided design of integrated circuits and systems has homepage_url and type journal\n"
     ]
    },
    {
     "name": "stderr",
     "output_type": "stream",
     "text": [
      "  5%|███▊                                                                   | 84/1556 [00:44<12:19,  1.99it/s]"
     ]
    },
    {
     "name": "stdout",
     "output_type": "stream",
     "text": [
      "Physics of fluids has homepage_url and type journal\n"
     ]
    },
    {
     "name": "stderr",
     "output_type": "stream",
     "text": [
      "  5%|███▉                                                                   | 85/1556 [00:45<12:07,  2.02it/s]"
     ]
    },
    {
     "name": "stdout",
     "output_type": "stream",
     "text": [
      "Nature methods has homepage_url and type journal\n"
     ]
    },
    {
     "name": "stderr",
     "output_type": "stream",
     "text": [
      "  6%|███▉                                                                   | 86/1556 [00:45<11:40,  2.10it/s]"
     ]
    },
    {
     "name": "stdout",
     "output_type": "stream",
     "text": [
      "Wiley interdisciplinary reviews. Computational molecular science has homepage_url and type journal\n"
     ]
    },
    {
     "name": "stderr",
     "output_type": "stream",
     "text": [
      "  6%|███▉                                                                   | 87/1556 [00:46<11:37,  2.11it/s]"
     ]
    },
    {
     "name": "stdout",
     "output_type": "stream",
     "text": [
      "Machine learning: science and technology has homepage_url and type journal\n"
     ]
    },
    {
     "name": "stderr",
     "output_type": "stream",
     "text": [
      "  6%|████                                                                   | 88/1556 [00:46<11:45,  2.08it/s]"
     ]
    },
    {
     "name": "stdout",
     "output_type": "stream",
     "text": [
      "IEEE journal of microwaves has homepage_url and type journal\n"
     ]
    },
    {
     "name": "stderr",
     "output_type": "stream",
     "text": [
      "  6%|████                                                                   | 89/1556 [00:47<11:42,  2.09it/s]"
     ]
    },
    {
     "name": "stdout",
     "output_type": "stream",
     "text": [
      "Optics and lasers in engineering has homepage_url and type journal\n"
     ]
    },
    {
     "name": "stderr",
     "output_type": "stream",
     "text": [
      "  6%|████                                                                   | 90/1556 [00:47<11:33,  2.11it/s]"
     ]
    },
    {
     "name": "stdout",
     "output_type": "stream",
     "text": [
      "Materials for quantum technology has homepage_url and type journal\n"
     ]
    },
    {
     "name": "stderr",
     "output_type": "stream",
     "text": [
      "  6%|████▏                                                                  | 91/1556 [00:48<11:29,  2.12it/s]"
     ]
    },
    {
     "name": "stdout",
     "output_type": "stream",
     "text": [
      "Europhysics letters has homepage_url and type journal\n"
     ]
    },
    {
     "name": "stderr",
     "output_type": "stream",
     "text": [
      "  6%|████▏                                                                  | 92/1556 [00:48<11:46,  2.07it/s]"
     ]
    },
    {
     "name": "stdout",
     "output_type": "stream",
     "text": [
      "Computer science review has homepage_url and type journal\n"
     ]
    },
    {
     "name": "stderr",
     "output_type": "stream",
     "text": [
      "  6%|████▏                                                                  | 93/1556 [00:49<11:36,  2.10it/s]"
     ]
    },
    {
     "name": "stdout",
     "output_type": "stream",
     "text": [
      "I.E.E.E. transactions on computers/IEEE transactions on computers has homepage_url and type journal\n"
     ]
    },
    {
     "name": "stderr",
     "output_type": "stream",
     "text": [
      "  6%|████▎                                                                  | 94/1556 [00:49<11:35,  2.10it/s]"
     ]
    },
    {
     "name": "stdout",
     "output_type": "stream",
     "text": [
      "Accounts of chemical research has homepage_url and type journal\n"
     ]
    },
    {
     "name": "stderr",
     "output_type": "stream",
     "text": [
      "  6%|████▎                                                                  | 95/1556 [00:49<11:29,  2.12it/s]"
     ]
    },
    {
     "name": "stdout",
     "output_type": "stream",
     "text": [
      "ACS central science has homepage_url and type journal\n"
     ]
    },
    {
     "name": "stderr",
     "output_type": "stream",
     "text": [
      "  6%|████▍                                                                  | 96/1556 [00:50<11:36,  2.10it/s]"
     ]
    },
    {
     "name": "stdout",
     "output_type": "stream",
     "text": [
      "Physical review. E has homepage_url and type journal\n"
     ]
    },
    {
     "name": "stderr",
     "output_type": "stream",
     "text": [
      "  6%|████▍                                                                  | 97/1556 [00:51<13:59,  1.74it/s]"
     ]
    },
    {
     "name": "stdout",
     "output_type": "stream",
     "text": [
      "Information sciences has homepage_url and type journal\n"
     ]
    },
    {
     "name": "stderr",
     "output_type": "stream",
     "text": [
      "  6%|████▍                                                                  | 98/1556 [00:51<13:59,  1.74it/s]"
     ]
    },
    {
     "name": "stdout",
     "output_type": "stream",
     "text": [
      "Communications of the ACM has homepage_url and type journal\n"
     ]
    },
    {
     "name": "stderr",
     "output_type": "stream",
     "text": [
      "  6%|████▌                                                                  | 99/1556 [00:53<22:43,  1.07it/s]"
     ]
    },
    {
     "name": "stdout",
     "output_type": "stream",
     "text": [
      "Nanotechnology has homepage_url and type journal\n"
     ]
    },
    {
     "name": "stderr",
     "output_type": "stream",
     "text": [
      "  6%|████▍                                                                 | 100/1556 [00:54<19:08,  1.27it/s]"
     ]
    },
    {
     "name": "stdout",
     "output_type": "stream",
     "text": [
      "Proceedings of the ACM on programming languages has homepage_url and type journal\n"
     ]
    },
    {
     "name": "stderr",
     "output_type": "stream",
     "text": [
      "  6%|████▌                                                                 | 101/1556 [00:54<16:54,  1.43it/s]"
     ]
    },
    {
     "name": "stdout",
     "output_type": "stream",
     "text": [
      "IT professional has homepage_url and type journal\n"
     ]
    },
    {
     "name": "stderr",
     "output_type": "stream",
     "text": [
      "  7%|████▌                                                                 | 102/1556 [00:55<15:28,  1.57it/s]"
     ]
    },
    {
     "name": "stdout",
     "output_type": "stream",
     "text": [
      "Applied physics letters has homepage_url and type journal\n"
     ]
    },
    {
     "name": "stderr",
     "output_type": "stream",
     "text": [
      "  7%|████▋                                                                 | 103/1556 [00:55<14:13,  1.70it/s]"
     ]
    },
    {
     "name": "stdout",
     "output_type": "stream",
     "text": [
      "National Science Review/National science review has homepage_url and type journal\n"
     ]
    },
    {
     "name": "stderr",
     "output_type": "stream",
     "text": [
      "  7%|████▋                                                                 | 104/1556 [00:56<13:25,  1.80it/s]"
     ]
    },
    {
     "name": "stdout",
     "output_type": "stream",
     "text": [
      "The journal of physical chemistry. A/The journal of physical chemistry. A. has homepage_url and type journal\n"
     ]
    },
    {
     "name": "stderr",
     "output_type": "stream",
     "text": [
      "  7%|████▋                                                                 | 105/1556 [00:56<12:41,  1.91it/s]"
     ]
    },
    {
     "name": "stdout",
     "output_type": "stream",
     "text": [
      "IEEE journal of selected topics in quantum electronics has homepage_url and type journal\n"
     ]
    },
    {
     "name": "stderr",
     "output_type": "stream",
     "text": [
      "  7%|████▊                                                                 | 106/1556 [00:56<12:10,  1.98it/s]"
     ]
    },
    {
     "name": "stdout",
     "output_type": "stream",
     "text": [
      "Quantum information processing has homepage_url and type journal\n"
     ]
    },
    {
     "name": "stderr",
     "output_type": "stream",
     "text": [
      "  7%|████▊                                                                 | 107/1556 [00:57<11:58,  2.02it/s]"
     ]
    },
    {
     "name": "stdout",
     "output_type": "stream",
     "text": [
      "Journal of chemical information and modeling has homepage_url and type journal\n"
     ]
    },
    {
     "name": "stderr",
     "output_type": "stream",
     "text": [
      "  7%|████▊                                                                 | 108/1556 [00:57<11:38,  2.07it/s]"
     ]
    },
    {
     "name": "stdout",
     "output_type": "stream",
     "text": [
      "Journal of chemical physics online/The Journal of chemical physics/Journal of chemical physics has homepage_url and type journal\n"
     ]
    },
    {
     "name": "stderr",
     "output_type": "stream",
     "text": [
      "  7%|████▉                                                                 | 109/1556 [00:58<11:46,  2.05it/s]"
     ]
    },
    {
     "name": "stdout",
     "output_type": "stream",
     "text": [
      "The Journal of high energy physics/The journal of high energy physics has homepage_url and type journal\n"
     ]
    },
    {
     "name": "stderr",
     "output_type": "stream",
     "text": [
      "  7%|████▉                                                                 | 110/1556 [00:58<11:24,  2.11it/s]"
     ]
    },
    {
     "name": "stdout",
     "output_type": "stream",
     "text": [
      "IEEE transactions on parallel and distributed systems has homepage_url and type journal\n"
     ]
    },
    {
     "name": "stderr",
     "output_type": "stream",
     "text": [
      "  7%|████▉                                                                 | 111/1556 [00:59<12:57,  1.86it/s]"
     ]
    },
    {
     "name": "stdout",
     "output_type": "stream",
     "text": [
      "Photonics research has homepage_url and type journal\n"
     ]
    },
    {
     "name": "stderr",
     "output_type": "stream",
     "text": [
      "  7%|█████                                                                 | 112/1556 [00:59<12:15,  1.96it/s]"
     ]
    },
    {
     "name": "stdout",
     "output_type": "stream",
     "text": [
      "ACS photonics has homepage_url and type journal\n"
     ]
    },
    {
     "name": "stderr",
     "output_type": "stream",
     "text": [
      "  7%|█████                                                                 | 113/1556 [01:00<12:05,  1.99it/s]"
     ]
    },
    {
     "name": "stdout",
     "output_type": "stream",
     "text": [
      "Nuclear physics. B has homepage_url and type journal\n"
     ]
    },
    {
     "name": "stderr",
     "output_type": "stream",
     "text": [
      "  7%|█████▏                                                                | 114/1556 [01:00<12:01,  2.00it/s]"
     ]
    },
    {
     "name": "stdout",
     "output_type": "stream",
     "text": [
      "The journal of physical chemistry letters has homepage_url and type journal\n"
     ]
    },
    {
     "name": "stderr",
     "output_type": "stream",
     "text": [
      "  7%|█████▏                                                                | 115/1556 [01:01<12:12,  1.97it/s]"
     ]
    },
    {
     "name": "stdout",
     "output_type": "stream",
     "text": [
      "Physical review. B./Physical review. B has homepage_url and type journal\n"
     ]
    },
    {
     "name": "stderr",
     "output_type": "stream",
     "text": [
      "  7%|█████▏                                                                | 116/1556 [01:02<13:09,  1.82it/s]"
     ]
    },
    {
     "name": "stdout",
     "output_type": "stream",
     "text": [
      "Applied energy has homepage_url and type journal\n"
     ]
    },
    {
     "name": "stderr",
     "output_type": "stream",
     "text": [
      "  8%|█████▎                                                                | 117/1556 [01:02<13:44,  1.75it/s]"
     ]
    },
    {
     "name": "stdout",
     "output_type": "stream",
     "text": [
      "IEEE network has homepage_url and type journal\n"
     ]
    },
    {
     "name": "stderr",
     "output_type": "stream",
     "text": [
      "  8%|█████▍                                                                | 120/1556 [01:04<11:49,  2.02it/s]"
     ]
    },
    {
     "name": "stdout",
     "output_type": "stream",
     "text": [
      "IEEE open journal of the Communications Society has homepage_url and type journal\n"
     ]
    },
    {
     "name": "stderr",
     "output_type": "stream",
     "text": [
      "  8%|█████▍                                                                | 121/1556 [01:04<11:41,  2.05it/s]"
     ]
    },
    {
     "name": "stdout",
     "output_type": "stream",
     "text": [
      "Annual reviews in control has homepage_url and type journal\n"
     ]
    },
    {
     "name": "stderr",
     "output_type": "stream",
     "text": [
      "  8%|█████▍                                                                | 122/1556 [01:04<11:29,  2.08it/s]"
     ]
    },
    {
     "name": "stdout",
     "output_type": "stream",
     "text": [
      "Journal of chemical theory and computation has homepage_url and type journal\n"
     ]
    },
    {
     "name": "stderr",
     "output_type": "stream",
     "text": [
      "  8%|█████▌                                                                | 123/1556 [01:05<11:07,  2.15it/s]"
     ]
    },
    {
     "name": "stdout",
     "output_type": "stream",
     "text": [
      "ACS Engineering Au has homepage_url and type journal\n"
     ]
    },
    {
     "name": "stderr",
     "output_type": "stream",
     "text": [
      "  8%|█████▌                                                                | 124/1556 [01:06<12:28,  1.91it/s]"
     ]
    },
    {
     "name": "stdout",
     "output_type": "stream",
     "text": [
      "Optical engineering has homepage_url and type journal\n"
     ]
    },
    {
     "name": "stderr",
     "output_type": "stream",
     "text": [
      "  8%|█████▌                                                                | 125/1556 [01:06<12:06,  1.97it/s]"
     ]
    },
    {
     "name": "stdout",
     "output_type": "stream",
     "text": [
      "IEEE transactions on education has homepage_url and type journal\n"
     ]
    },
    {
     "name": "stderr",
     "output_type": "stream",
     "text": [
      "  8%|█████▋                                                                | 126/1556 [01:06<11:45,  2.03it/s]"
     ]
    },
    {
     "name": "stdout",
     "output_type": "stream",
     "text": [
      "Review of scientific instruments online/Review of scientific instruments has homepage_url and type journal\n"
     ]
    },
    {
     "name": "stderr",
     "output_type": "stream",
     "text": [
      "  8%|█████▋                                                                | 127/1556 [01:07<11:37,  2.05it/s]"
     ]
    },
    {
     "name": "stdout",
     "output_type": "stream",
     "text": [
      "Journal of network and computer applications has homepage_url and type journal\n"
     ]
    },
    {
     "name": "stderr",
     "output_type": "stream",
     "text": [
      "  8%|█████▊                                                                | 128/1556 [01:07<11:14,  2.12it/s]"
     ]
    },
    {
     "name": "stdout",
     "output_type": "stream",
     "text": [
      "International journal of quantum chemistry has homepage_url and type journal\n"
     ]
    },
    {
     "name": "stderr",
     "output_type": "stream",
     "text": [
      "  8%|█████▊                                                                | 129/1556 [01:08<10:57,  2.17it/s]"
     ]
    },
    {
     "name": "stdout",
     "output_type": "stream",
     "text": [
      "Current opinion in chemical engineering has homepage_url and type journal\n"
     ]
    },
    {
     "name": "stderr",
     "output_type": "stream",
     "text": [
      "  8%|█████▉                                                                | 131/1556 [01:09<10:57,  2.17it/s]"
     ]
    },
    {
     "name": "stdout",
     "output_type": "stream",
     "text": [
      "Neurocomputing has homepage_url and type journal\n"
     ]
    },
    {
     "name": "stderr",
     "output_type": "stream",
     "text": [
      "  8%|█████▉                                                                | 132/1556 [01:09<11:21,  2.09it/s]"
     ]
    },
    {
     "name": "stdout",
     "output_type": "stream",
     "text": [
      "Journal of the Royal Society interface has homepage_url and type journal\n"
     ]
    },
    {
     "name": "stderr",
     "output_type": "stream",
     "text": [
      "  9%|█████▉                                                                | 133/1556 [01:10<11:27,  2.07it/s]"
     ]
    },
    {
     "name": "stdout",
     "output_type": "stream",
     "text": [
      "IEEE internet computing has homepage_url and type journal\n"
     ]
    },
    {
     "name": "stderr",
     "output_type": "stream",
     "text": [
      "  9%|██████                                                                | 134/1556 [01:10<13:02,  1.82it/s]"
     ]
    },
    {
     "name": "stdout",
     "output_type": "stream",
     "text": [
      "EM has homepage_url and type journal\n"
     ]
    },
    {
     "name": "stderr",
     "output_type": "stream",
     "text": [
      "  9%|██████                                                                | 135/1556 [01:11<14:32,  1.63it/s]"
     ]
    },
    {
     "name": "stdout",
     "output_type": "stream",
     "text": [
      "Electronics has homepage_url and type journal\n"
     ]
    },
    {
     "name": "stderr",
     "output_type": "stream",
     "text": [
      "  9%|██████▏                                                               | 137/1556 [01:12<12:52,  1.84it/s]"
     ]
    },
    {
     "name": "stdout",
     "output_type": "stream",
     "text": [
      "ACS energy letters has homepage_url and type journal\n"
     ]
    },
    {
     "name": "stderr",
     "output_type": "stream",
     "text": [
      "  9%|██████▏                                                               | 138/1556 [01:13<12:27,  1.90it/s]"
     ]
    },
    {
     "name": "stdout",
     "output_type": "stream",
     "text": [
      "Discrete optimization has homepage_url and type journal\n"
     ]
    },
    {
     "name": "stderr",
     "output_type": "stream",
     "text": [
      "  9%|██████▎                                                               | 139/1556 [01:13<12:04,  1.96it/s]"
     ]
    },
    {
     "name": "stdout",
     "output_type": "stream",
     "text": [
      "Physical chemistry chemical physics/PCCP. Physical chemistry chemical physics has homepage_url and type journal\n"
     ]
    },
    {
     "name": "stderr",
     "output_type": "stream",
     "text": [
      "  9%|██████▎                                                               | 140/1556 [01:14<12:15,  1.93it/s]"
     ]
    },
    {
     "name": "stdout",
     "output_type": "stream",
     "text": [
      "Physical review. C has homepage_url and type journal\n"
     ]
    },
    {
     "name": "stderr",
     "output_type": "stream",
     "text": [
      "  9%|██████▎                                                               | 141/1556 [01:14<12:37,  1.87it/s]"
     ]
    },
    {
     "name": "stdout",
     "output_type": "stream",
     "text": [
      "IEEE transactions on power systems has homepage_url and type journal\n"
     ]
    },
    {
     "name": "stderr",
     "output_type": "stream",
     "text": [
      "  9%|██████▍                                                               | 142/1556 [01:15<12:32,  1.88it/s]"
     ]
    },
    {
     "name": "stdout",
     "output_type": "stream",
     "text": [
      "Batteries has homepage_url and type journal\n"
     ]
    },
    {
     "name": "stderr",
     "output_type": "stream",
     "text": [
      "  9%|██████▍                                                               | 143/1556 [01:15<12:13,  1.93it/s]"
     ]
    },
    {
     "name": "stdout",
     "output_type": "stream",
     "text": [
      "IEEE open journal of nanotechnology has homepage_url and type journal\n"
     ]
    },
    {
     "name": "stderr",
     "output_type": "stream",
     "text": [
      "  9%|██████▍                                                               | 144/1556 [01:16<11:55,  1.97it/s]"
     ]
    },
    {
     "name": "stdout",
     "output_type": "stream",
     "text": [
      "Advances in physics: X has homepage_url and type journal\n"
     ]
    },
    {
     "name": "stderr",
     "output_type": "stream",
     "text": [
      "  9%|██████▌                                                               | 145/1556 [01:16<11:40,  2.01it/s]"
     ]
    },
    {
     "name": "stdout",
     "output_type": "stream",
     "text": [
      "Progress in nuclear magnetic resonance spectroscopy has homepage_url and type journal\n"
     ]
    },
    {
     "name": "stderr",
     "output_type": "stream",
     "text": [
      "  9%|██████▌                                                               | 146/1556 [01:17<11:30,  2.04it/s]"
     ]
    },
    {
     "name": "stdout",
     "output_type": "stream",
     "text": [
      "IEEE transactions on smart grid has homepage_url and type journal\n"
     ]
    },
    {
     "name": "stderr",
     "output_type": "stream",
     "text": [
      "  9%|██████▌                                                               | 147/1556 [01:17<12:28,  1.88it/s]"
     ]
    },
    {
     "name": "stdout",
     "output_type": "stream",
     "text": [
      "Advanced photonics has homepage_url and type journal\n"
     ]
    },
    {
     "name": "stderr",
     "output_type": "stream",
     "text": [
      " 10%|██████▋                                                               | 148/1556 [01:18<11:54,  1.97it/s]"
     ]
    },
    {
     "name": "stdout",
     "output_type": "stream",
     "text": [
      "Procedia computer science has homepage_url and type journal\n"
     ]
    },
    {
     "name": "stderr",
     "output_type": "stream",
     "text": [
      " 10%|██████▋                                                               | 149/1556 [01:18<11:53,  1.97it/s]"
     ]
    },
    {
     "name": "stdout",
     "output_type": "stream",
     "text": [
      "Communications materials has homepage_url and type journal\n"
     ]
    },
    {
     "name": "stderr",
     "output_type": "stream",
     "text": [
      " 10%|██████▊                                                               | 151/1556 [01:19<12:30,  1.87it/s]"
     ]
    },
    {
     "name": "stdout",
     "output_type": "stream",
     "text": [
      "Nanoscale has homepage_url and type journal\n"
     ]
    },
    {
     "name": "stderr",
     "output_type": "stream",
     "text": [
      " 10%|██████▊                                                               | 152/1556 [01:20<12:03,  1.94it/s]"
     ]
    },
    {
     "name": "stdout",
     "output_type": "stream",
     "text": [
      "IEEE access has homepage_url and type journal\n"
     ]
    },
    {
     "name": "stderr",
     "output_type": "stream",
     "text": [
      " 10%|██████▉                                                               | 153/1556 [01:20<11:51,  1.97it/s]"
     ]
    },
    {
     "name": "stdout",
     "output_type": "stream",
     "text": [
      "Nano letters has homepage_url and type journal\n"
     ]
    },
    {
     "name": "stderr",
     "output_type": "stream",
     "text": [
      " 10%|██████▉                                                               | 154/1556 [01:21<11:30,  2.03it/s]"
     ]
    },
    {
     "name": "stdout",
     "output_type": "stream",
     "text": [
      "Lecture notes in computer science has homepage_url and type book series\n"
     ]
    },
    {
     "name": "stderr",
     "output_type": "stream",
     "text": [
      " 10%|███████                                                               | 156/1556 [01:22<11:18,  2.06it/s]"
     ]
    },
    {
     "name": "stdout",
     "output_type": "stream",
     "text": [
      "Advances in optics and photonics has homepage_url and type journal\n"
     ]
    },
    {
     "name": "stderr",
     "output_type": "stream",
     "text": [
      " 10%|███████                                                               | 158/1556 [01:23<11:00,  2.12it/s]"
     ]
    },
    {
     "name": "stdout",
     "output_type": "stream",
     "text": [
      "Swarm and evolutionary computation has homepage_url and type journal\n"
     ]
    },
    {
     "name": "stderr",
     "output_type": "stream",
     "text": [
      " 10%|███████▏                                                              | 159/1556 [01:23<13:17,  1.75it/s]"
     ]
    },
    {
     "name": "stdout",
     "output_type": "stream",
     "text": [
      "Research has homepage_url and type repository\n"
     ]
    },
    {
     "name": "stderr",
     "output_type": "stream",
     "text": [
      " 10%|███████▏                                                              | 161/1556 [01:24<12:30,  1.86it/s]"
     ]
    },
    {
     "name": "stdout",
     "output_type": "stream",
     "text": [
      "Physica. A has homepage_url and type journal\n"
     ]
    },
    {
     "name": "stderr",
     "output_type": "stream",
     "text": [
      " 10%|███████▎                                                              | 162/1556 [01:25<12:02,  1.93it/s]"
     ]
    },
    {
     "name": "stdout",
     "output_type": "stream",
     "text": [
      "New journal of physics has homepage_url and type journal\n"
     ]
    },
    {
     "name": "stderr",
     "output_type": "stream",
     "text": [
      " 10%|███████▎                                                              | 163/1556 [01:25<12:02,  1.93it/s]"
     ]
    },
    {
     "name": "stdout",
     "output_type": "stream",
     "text": [
      "IEEE/ACM transactions on networking has homepage_url and type journal\n"
     ]
    },
    {
     "name": "stderr",
     "output_type": "stream",
     "text": [
      " 11%|███████▍                                                              | 164/1556 [01:26<11:44,  1.98it/s]"
     ]
    },
    {
     "name": "stdout",
     "output_type": "stream",
     "text": [
      "ACM transactions on computation theory has homepage_url and type journal\n"
     ]
    },
    {
     "name": "stderr",
     "output_type": "stream",
     "text": [
      " 11%|███████▍                                                              | 165/1556 [01:26<11:29,  2.02it/s]"
     ]
    },
    {
     "name": "stdout",
     "output_type": "stream",
     "text": [
      "Global Journal of Engineering and Technology Advances has homepage_url and type journal\n"
     ]
    },
    {
     "name": "stderr",
     "output_type": "stream",
     "text": [
      " 11%|███████▍                                                              | 166/1556 [01:27<13:20,  1.74it/s]"
     ]
    },
    {
     "name": "stdout",
     "output_type": "stream",
     "text": [
      "Operations research has homepage_url and type journal\n"
     ]
    },
    {
     "name": "stderr",
     "output_type": "stream",
     "text": [
      " 11%|███████▌                                                              | 167/1556 [01:28<13:04,  1.77it/s]"
     ]
    },
    {
     "name": "stdout",
     "output_type": "stream",
     "text": [
      "IEEE transactions on artificial intelligence has homepage_url and type journal\n"
     ]
    },
    {
     "name": "stderr",
     "output_type": "stream",
     "text": [
      " 11%|███████▌                                                              | 168/1556 [01:28<12:26,  1.86it/s]"
     ]
    },
    {
     "name": "stdout",
     "output_type": "stream",
     "text": [
      "Journal of lightwave technology has homepage_url and type journal\n"
     ]
    },
    {
     "name": "stderr",
     "output_type": "stream",
     "text": [
      " 11%|███████▌                                                              | 169/1556 [01:29<13:16,  1.74it/s]"
     ]
    },
    {
     "name": "stdout",
     "output_type": "stream",
     "text": [
      "Chemical physics has homepage_url and type journal\n"
     ]
    },
    {
     "name": "stderr",
     "output_type": "stream",
     "text": [
      " 11%|███████▋                                                              | 171/1556 [01:30<11:25,  2.02it/s]"
     ]
    },
    {
     "name": "stdout",
     "output_type": "stream",
     "text": [
      "Results in physics has homepage_url and type journal\n"
     ]
    },
    {
     "name": "stderr",
     "output_type": "stream",
     "text": [
      " 11%|███████▋                                                              | 172/1556 [01:30<11:14,  2.05it/s]"
     ]
    },
    {
     "name": "stdout",
     "output_type": "stream",
     "text": [
      "Computer physics communications has homepage_url and type journal\n"
     ]
    },
    {
     "name": "stderr",
     "output_type": "stream",
     "text": [
      " 11%|███████▊                                                              | 174/1556 [01:31<11:28,  2.01it/s]"
     ]
    },
    {
     "name": "stdout",
     "output_type": "stream",
     "text": [
      "Frontiers in computer science has homepage_url and type journal\n"
     ]
    },
    {
     "name": "stderr",
     "output_type": "stream",
     "text": [
      " 11%|███████▊                                                              | 175/1556 [01:32<13:17,  1.73it/s]"
     ]
    },
    {
     "name": "stdout",
     "output_type": "stream",
     "text": [
      "Information has homepage_url and type repository\n"
     ]
    },
    {
     "name": "stderr",
     "output_type": "stream",
     "text": [
      " 11%|███████▉                                                              | 176/1556 [01:33<14:33,  1.58it/s]"
     ]
    },
    {
     "name": "stdout",
     "output_type": "stream",
     "text": [
      "Algorithms has homepage_url and type journal\n"
     ]
    },
    {
     "name": "stderr",
     "output_type": "stream",
     "text": [
      " 11%|████████                                                              | 178/1556 [01:34<12:38,  1.82it/s]"
     ]
    },
    {
     "name": "stdout",
     "output_type": "stream",
     "text": [
      "Advanced optical materials has homepage_url and type journal\n"
     ]
    },
    {
     "name": "stderr",
     "output_type": "stream",
     "text": [
      " 12%|████████                                                              | 179/1556 [01:34<12:27,  1.84it/s]"
     ]
    },
    {
     "name": "stdout",
     "output_type": "stream",
     "text": [
      "Journal of traffic and transportation engineering/Journal of Traffic and Transportation Engineering has homepage_url and type journal\n"
     ]
    },
    {
     "name": "stderr",
     "output_type": "stream",
     "text": [
      " 12%|████████                                                              | 180/1556 [01:35<13:26,  1.71it/s]"
     ]
    },
    {
     "name": "stdout",
     "output_type": "stream",
     "text": [
      "Optics letters/Optics index has homepage_url and type journal\n"
     ]
    },
    {
     "name": "stderr",
     "output_type": "stream",
     "text": [
      " 12%|████████▏                                                             | 181/1556 [01:35<13:22,  1.71it/s]"
     ]
    },
    {
     "name": "stdout",
     "output_type": "stream",
     "text": [
      "Nanophotonics has homepage_url and type journal\n"
     ]
    },
    {
     "name": "stderr",
     "output_type": "stream",
     "text": [
      " 12%|████████▏                                                             | 182/1556 [01:36<12:25,  1.84it/s]"
     ]
    },
    {
     "name": "stdout",
     "output_type": "stream",
     "text": [
      "Computing and software for big science has homepage_url and type journal\n"
     ]
    },
    {
     "name": "stderr",
     "output_type": "stream",
     "text": [
      " 12%|████████▏                                                             | 183/1556 [01:37<13:59,  1.64it/s]"
     ]
    },
    {
     "name": "stdout",
     "output_type": "stream",
     "text": [
      "Computer communications has homepage_url and type journal\n"
     ]
    },
    {
     "name": "stderr",
     "output_type": "stream",
     "text": [
      " 12%|████████▎                                                             | 185/1556 [01:37<12:00,  1.90it/s]"
     ]
    },
    {
     "name": "stdout",
     "output_type": "stream",
     "text": [
      "Journal of physics communications has homepage_url and type journal\n"
     ]
    },
    {
     "name": "stderr",
     "output_type": "stream",
     "text": [
      " 12%|████████▎                                                             | 186/1556 [01:38<11:38,  1.96it/s]"
     ]
    },
    {
     "name": "stdout",
     "output_type": "stream",
     "text": [
      "Expert systems with applications has homepage_url and type journal\n"
     ]
    },
    {
     "name": "stderr",
     "output_type": "stream",
     "text": [
      " 12%|████████▍                                                             | 187/1556 [01:38<11:36,  1.97it/s]"
     ]
    },
    {
     "name": "stdout",
     "output_type": "stream",
     "text": [
      "npj quantum materials has homepage_url and type journal\n"
     ]
    },
    {
     "name": "stderr",
     "output_type": "stream",
     "text": [
      " 12%|████████▍                                                             | 188/1556 [01:39<11:27,  1.99it/s]"
     ]
    },
    {
     "name": "stdout",
     "output_type": "stream",
     "text": [
      "PloS one has homepage_url and type journal\n"
     ]
    },
    {
     "name": "stderr",
     "output_type": "stream",
     "text": [
      " 12%|████████▌                                                             | 189/1556 [01:39<11:13,  2.03it/s]"
     ]
    },
    {
     "name": "stdout",
     "output_type": "stream",
     "text": [
      "Array has homepage_url and type journal\n"
     ]
    },
    {
     "name": "stderr",
     "output_type": "stream",
     "text": [
      " 12%|████████▌                                                             | 190/1556 [01:40<11:29,  1.98it/s]"
     ]
    },
    {
     "name": "stdout",
     "output_type": "stream",
     "text": [
      "Wireless communications and mobile computing has homepage_url and type journal\n"
     ]
    },
    {
     "name": "stderr",
     "output_type": "stream",
     "text": [
      " 12%|████████▌                                                             | 191/1556 [01:40<11:02,  2.06it/s]"
     ]
    },
    {
     "name": "stdout",
     "output_type": "stream",
     "text": [
      "Internet technology letters has homepage_url and type journal\n"
     ]
    },
    {
     "name": "stderr",
     "output_type": "stream",
     "text": [
      " 12%|████████▋                                                             | 192/1556 [01:41<12:08,  1.87it/s]"
     ]
    },
    {
     "name": "stdout",
     "output_type": "stream",
     "text": [
      "IoT has homepage_url and type journal\n"
     ]
    },
    {
     "name": "stderr",
     "output_type": "stream",
     "text": [
      " 12%|████████▋                                                             | 193/1556 [01:42<11:36,  1.96it/s]"
     ]
    },
    {
     "name": "stdout",
     "output_type": "stream",
     "text": [
      "APL photonics has homepage_url and type journal\n"
     ]
    },
    {
     "name": "stderr",
     "output_type": "stream",
     "text": [
      " 12%|████████▋                                                             | 194/1556 [01:42<13:13,  1.72it/s]"
     ]
    },
    {
     "name": "stdout",
     "output_type": "stream",
     "text": [
      "Applied sciences has homepage_url and type journal\n"
     ]
    },
    {
     "name": "stderr",
     "output_type": "stream",
     "text": [
      " 13%|████████▊                                                             | 195/1556 [01:43<12:20,  1.84it/s]"
     ]
    },
    {
     "name": "stdout",
     "output_type": "stream",
     "text": [
      "Mathematical problems in engineering has homepage_url and type journal\n"
     ]
    },
    {
     "name": "stderr",
     "output_type": "stream",
     "text": [
      " 13%|████████▉                                                             | 199/1556 [01:45<13:21,  1.69it/s]"
     ]
    },
    {
     "name": "stdout",
     "output_type": "stream",
     "text": [
      "Materials has homepage_url and type journal\n"
     ]
    },
    {
     "name": "stderr",
     "output_type": "stream",
     "text": [
      " 13%|████████▉                                                             | 200/1556 [01:47<19:30,  1.16it/s]"
     ]
    },
    {
     "name": "stdout",
     "output_type": "stream",
     "text": [
      "Software quality journal has homepage_url and type journal\n"
     ]
    },
    {
     "name": "stderr",
     "output_type": "stream",
     "text": [
      " 13%|█████████                                                             | 202/1556 [01:47<14:32,  1.55it/s]"
     ]
    },
    {
     "name": "stdout",
     "output_type": "stream",
     "text": [
      "Journal of systems and software/The Journal of systems and software has homepage_url and type journal\n"
     ]
    },
    {
     "name": "stderr",
     "output_type": "stream",
     "text": [
      " 13%|█████████▏                                                            | 203/1556 [01:48<13:19,  1.69it/s]"
     ]
    },
    {
     "name": "stdout",
     "output_type": "stream",
     "text": [
      "APL materials has homepage_url and type journal\n"
     ]
    },
    {
     "name": "stderr",
     "output_type": "stream",
     "text": [
      " 13%|█████████▎                                                            | 206/1556 [01:49<11:33,  1.95it/s]"
     ]
    },
    {
     "name": "stdout",
     "output_type": "stream",
     "text": [
      "Physics letters. A has homepage_url and type journal\n"
     ]
    },
    {
     "name": "stderr",
     "output_type": "stream",
     "text": [
      " 13%|█████████▎                                                            | 207/1556 [01:50<12:07,  1.85it/s]"
     ]
    },
    {
     "name": "stdout",
     "output_type": "stream",
     "text": [
      "Energies has homepage_url and type journal\n"
     ]
    },
    {
     "name": "stderr",
     "output_type": "stream",
     "text": [
      " 13%|█████████▍                                                            | 209/1556 [01:51<11:46,  1.91it/s]"
     ]
    },
    {
     "name": "stdout",
     "output_type": "stream",
     "text": [
      "IEEE transactions on information forensics and security has homepage_url and type journal\n"
     ]
    },
    {
     "name": "stderr",
     "output_type": "stream",
     "text": [
      " 13%|█████████▍                                                            | 210/1556 [01:52<12:48,  1.75it/s]"
     ]
    },
    {
     "name": "stdout",
     "output_type": "stream",
     "text": [
      "Journal of computational and applied mathematics has homepage_url and type journal\n"
     ]
    },
    {
     "name": "stderr",
     "output_type": "stream",
     "text": [
      " 14%|█████████▍                                                            | 211/1556 [01:52<12:02,  1.86it/s]"
     ]
    },
    {
     "name": "stdout",
     "output_type": "stream",
     "text": [
      "Manufacturing letters has homepage_url and type journal\n"
     ]
    },
    {
     "name": "stderr",
     "output_type": "stream",
     "text": [
      " 14%|█████████▌                                                            | 212/1556 [01:53<11:29,  1.95it/s]"
     ]
    },
    {
     "name": "stdout",
     "output_type": "stream",
     "text": [
      "Modern physics letters A has homepage_url and type journal\n"
     ]
    },
    {
     "name": "stderr",
     "output_type": "stream",
     "text": [
      " 14%|█████████▌                                                            | 213/1556 [01:53<11:28,  1.95it/s]"
     ]
    },
    {
     "name": "stdout",
     "output_type": "stream",
     "text": [
      "Optics express has homepage_url and type journal\n"
     ]
    },
    {
     "name": "stderr",
     "output_type": "stream",
     "text": [
      " 14%|█████████▋                                                            | 215/1556 [01:54<10:32,  2.12it/s]"
     ]
    },
    {
     "name": "stdout",
     "output_type": "stream",
     "text": [
      "IEEE transactions on fuzzy systems has homepage_url and type journal\n"
     ]
    },
    {
     "name": "stderr",
     "output_type": "stream",
     "text": [
      " 14%|█████████▊                                                            | 218/1556 [01:56<11:55,  1.87it/s]"
     ]
    },
    {
     "name": "stdout",
     "output_type": "stream",
     "text": [
      "European journal of operational research has homepage_url and type journal\n"
     ]
    },
    {
     "name": "stderr",
     "output_type": "stream",
     "text": [
      " 14%|█████████▊                                                            | 219/1556 [01:56<11:26,  1.95it/s]"
     ]
    },
    {
     "name": "stdout",
     "output_type": "stream",
     "text": [
      "ChemBioChem has homepage_url and type journal\n"
     ]
    },
    {
     "name": "stderr",
     "output_type": "stream",
     "text": [
      " 14%|█████████▉                                                            | 220/1556 [01:57<11:19,  1.97it/s]"
     ]
    },
    {
     "name": "stdout",
     "output_type": "stream",
     "text": [
      "Journal of industrial information integration has homepage_url and type journal\n"
     ]
    },
    {
     "name": "stderr",
     "output_type": "stream",
     "text": [
      " 14%|█████████▉                                                            | 221/1556 [01:57<11:04,  2.01it/s]"
     ]
    },
    {
     "name": "stdout",
     "output_type": "stream",
     "text": [
      "Journal of King Saud University. Computer and information sciences/Maǧalaẗ ǧamʼaẗ al-malīk Saud : ùlm al-ḥasib wa al-maʼlumat has homepage_url and type journal\n"
     ]
    },
    {
     "name": "stderr",
     "output_type": "stream",
     "text": [
      " 14%|█████████▉                                                            | 222/1556 [01:58<11:14,  1.98it/s]"
     ]
    },
    {
     "name": "stdout",
     "output_type": "stream",
     "text": [
      "Physics of plasmas has homepage_url and type journal\n"
     ]
    },
    {
     "name": "stderr",
     "output_type": "stream",
     "text": [
      " 14%|██████████                                                            | 223/1556 [01:58<10:57,  2.03it/s]"
     ]
    },
    {
     "name": "stdout",
     "output_type": "stream",
     "text": [
      "arXiv (Cornell University) has homepage_url and type repository\n"
     ]
    },
    {
     "name": "stderr",
     "output_type": "stream",
     "text": [
      " 14%|██████████                                                            | 224/1556 [01:59<12:35,  1.76it/s]"
     ]
    },
    {
     "name": "stdout",
     "output_type": "stream",
     "text": [
      "Cryptography has homepage_url and type journal\n"
     ]
    },
    {
     "name": "stderr",
     "output_type": "stream",
     "text": [
      " 14%|██████████                                                            | 225/1556 [01:59<11:55,  1.86it/s]"
     ]
    },
    {
     "name": "stdout",
     "output_type": "stream",
     "text": [
      "npj computational materials has homepage_url and type journal\n"
     ]
    },
    {
     "name": "stderr",
     "output_type": "stream",
     "text": [
      " 15%|██████████▏                                                           | 227/1556 [02:00<12:31,  1.77it/s]"
     ]
    },
    {
     "name": "stdout",
     "output_type": "stream",
     "text": [
      "Materials today has homepage_url and type journal\n"
     ]
    },
    {
     "name": "stderr",
     "output_type": "stream",
     "text": [
      " 15%|██████████▎                                                           | 230/1556 [02:02<12:26,  1.78it/s]"
     ]
    },
    {
     "name": "stdout",
     "output_type": "stream",
     "text": [
      "Molecular biotechnology has homepage_url and type journal\n"
     ]
    },
    {
     "name": "stderr",
     "output_type": "stream",
     "text": [
      " 15%|██████████▍                                                           | 232/1556 [02:03<11:04,  1.99it/s]"
     ]
    },
    {
     "name": "stdout",
     "output_type": "stream",
     "text": [
      "ACS materials letters has homepage_url and type journal\n"
     ]
    },
    {
     "name": "stderr",
     "output_type": "stream",
     "text": [
      " 15%|██████████▍                                                           | 233/1556 [02:03<10:58,  2.01it/s]"
     ]
    },
    {
     "name": "stdout",
     "output_type": "stream",
     "text": [
      "Nano futures has homepage_url and type journal\n"
     ]
    },
    {
     "name": "stderr",
     "output_type": "stream",
     "text": [
      " 15%|██████████▌                                                           | 235/1556 [02:04<10:41,  2.06it/s]"
     ]
    },
    {
     "name": "stdout",
     "output_type": "stream",
     "text": [
      "Journal of information security and applications has homepage_url and type journal\n"
     ]
    },
    {
     "name": "stderr",
     "output_type": "stream",
     "text": [
      " 15%|██████████▌                                                           | 236/1556 [02:05<10:32,  2.09it/s]"
     ]
    },
    {
     "name": "stdout",
     "output_type": "stream",
     "text": [
      "SN Computer Science/SN computer science has homepage_url and type journal\n"
     ]
    },
    {
     "name": "stderr",
     "output_type": "stream",
     "text": [
      " 15%|██████████▋                                                           | 237/1556 [02:05<10:38,  2.07it/s]"
     ]
    },
    {
     "name": "stdout",
     "output_type": "stream",
     "text": [
      "Journal of cryptographic engineering has homepage_url and type journal\n"
     ]
    },
    {
     "name": "stderr",
     "output_type": "stream",
     "text": [
      " 15%|██████████▋                                                           | 238/1556 [02:06<10:39,  2.06it/s]"
     ]
    },
    {
     "name": "stdout",
     "output_type": "stream",
     "text": [
      "IET quantum communication has homepage_url and type journal\n"
     ]
    },
    {
     "name": "stderr",
     "output_type": "stream",
     "text": [
      " 15%|██████████▊                                                           | 239/1556 [02:06<11:54,  1.84it/s]"
     ]
    },
    {
     "name": "stdout",
     "output_type": "stream",
     "text": [
      "Neural networks has homepage_url and type journal\n"
     ]
    },
    {
     "name": "stderr",
     "output_type": "stream",
     "text": [
      " 15%|██████████▊                                                           | 240/1556 [02:07<11:17,  1.94it/s]"
     ]
    },
    {
     "name": "stdout",
     "output_type": "stream",
     "text": [
      "BMC medical informatics and decision making has homepage_url and type journal\n"
     ]
    },
    {
     "name": "stderr",
     "output_type": "stream",
     "text": [
      " 15%|██████████▊                                                           | 241/1556 [02:07<11:06,  1.97it/s]"
     ]
    },
    {
     "name": "stdout",
     "output_type": "stream",
     "text": [
      "SciPost physics lecture notes has homepage_url and type journal\n"
     ]
    },
    {
     "name": "stderr",
     "output_type": "stream",
     "text": [
      " 16%|██████████▉                                                           | 242/1556 [02:08<11:06,  1.97it/s]"
     ]
    },
    {
     "name": "stdout",
     "output_type": "stream",
     "text": [
      "Journal of physics. Condensed matter has homepage_url and type journal\n"
     ]
    },
    {
     "name": "stderr",
     "output_type": "stream",
     "text": [
      " 16%|██████████▉                                                           | 243/1556 [02:08<11:29,  1.90it/s]"
     ]
    },
    {
     "name": "stdout",
     "output_type": "stream",
     "text": [
      "IEEE journal on emerging and selected topics in circuits and systems has homepage_url and type journal\n"
     ]
    },
    {
     "name": "stderr",
     "output_type": "stream",
     "text": [
      " 16%|███████████                                                           | 245/1556 [02:09<10:51,  2.01it/s]"
     ]
    },
    {
     "name": "stdout",
     "output_type": "stream",
     "text": [
      "Journal of materials chemistry. C has homepage_url and type journal\n"
     ]
    },
    {
     "name": "stderr",
     "output_type": "stream",
     "text": [
      " 16%|███████████                                                           | 246/1556 [02:10<11:07,  1.96it/s]"
     ]
    },
    {
     "name": "stdout",
     "output_type": "stream",
     "text": [
      "Advanced functional materials has homepage_url and type journal\n"
     ]
    },
    {
     "name": "stderr",
     "output_type": "stream",
     "text": [
      " 16%|███████████                                                           | 247/1556 [02:10<10:54,  2.00it/s]"
     ]
    },
    {
     "name": "stdout",
     "output_type": "stream",
     "text": [
      "MRS bulletin has homepage_url and type journal\n"
     ]
    },
    {
     "name": "stderr",
     "output_type": "stream",
     "text": [
      " 16%|███████████▏                                                          | 248/1556 [02:11<10:40,  2.04it/s]"
     ]
    },
    {
     "name": "stdout",
     "output_type": "stream",
     "text": [
      "IEEE sensors letters has homepage_url and type journal\n"
     ]
    },
    {
     "name": "stderr",
     "output_type": "stream",
     "text": [
      " 16%|███████████▎                                                          | 252/1556 [02:13<10:14,  2.12it/s]"
     ]
    },
    {
     "name": "stdout",
     "output_type": "stream",
     "text": [
      "Journal of parallel and distributed computing has homepage_url and type journal\n"
     ]
    },
    {
     "name": "stderr",
     "output_type": "stream",
     "text": [
      " 16%|███████████▍                                                          | 253/1556 [02:13<10:29,  2.07it/s]"
     ]
    },
    {
     "name": "stdout",
     "output_type": "stream",
     "text": [
      "Chemical physics reviews has homepage_url and type journal\n"
     ]
    },
    {
     "name": "stderr",
     "output_type": "stream",
     "text": [
      " 16%|███████████▍                                                          | 254/1556 [02:14<10:14,  2.12it/s]"
     ]
    },
    {
     "name": "stdout",
     "output_type": "stream",
     "text": [
      "Journal of computer virology and hacking techniques has homepage_url and type journal\n"
     ]
    },
    {
     "name": "stderr",
     "output_type": "stream",
     "text": [
      " 16%|███████████▌                                                          | 256/1556 [02:15<10:13,  2.12it/s]"
     ]
    },
    {
     "name": "stdout",
     "output_type": "stream",
     "text": [
      "Journal of the American Chemical Society has homepage_url and type journal\n"
     ]
    },
    {
     "name": "stderr",
     "output_type": "stream",
     "text": [
      " 17%|███████████▋                                                          | 259/1556 [02:16<10:12,  2.12it/s]"
     ]
    },
    {
     "name": "stdout",
     "output_type": "stream",
     "text": [
      "BMC bioinformatics has homepage_url and type journal\n"
     ]
    },
    {
     "name": "stderr",
     "output_type": "stream",
     "text": [
      " 17%|███████████▋                                                          | 260/1556 [02:17<11:34,  1.87it/s]"
     ]
    },
    {
     "name": "stdout",
     "output_type": "stream",
     "text": [
      "Chip has homepage_url and type journal\n"
     ]
    },
    {
     "name": "stderr",
     "output_type": "stream",
     "text": [
      " 17%|███████████▋                                                          | 261/1556 [02:17<12:39,  1.71it/s]"
     ]
    },
    {
     "name": "stdout",
     "output_type": "stream",
     "text": [
      "Physics has homepage_url and type journal\n"
     ]
    },
    {
     "name": "stderr",
     "output_type": "stream",
     "text": [
      " 17%|███████████▊                                                          | 262/1556 [02:18<11:51,  1.82it/s]"
     ]
    },
    {
     "name": "stdout",
     "output_type": "stream",
     "text": [
      "ACM computing surveys has homepage_url and type journal\n"
     ]
    },
    {
     "name": "stderr",
     "output_type": "stream",
     "text": [
      " 17%|███████████▊                                                          | 263/1556 [02:18<11:14,  1.92it/s]"
     ]
    },
    {
     "name": "stdout",
     "output_type": "stream",
     "text": [
      "IEEE open journal of vehicular technology has homepage_url and type journal\n"
     ]
    },
    {
     "name": "stderr",
     "output_type": "stream",
     "text": [
      " 17%|███████████▉                                                          | 264/1556 [02:19<10:59,  1.96it/s]"
     ]
    },
    {
     "name": "stdout",
     "output_type": "stream",
     "text": [
      "Lab on a chip has homepage_url and type journal\n"
     ]
    },
    {
     "name": "stderr",
     "output_type": "stream",
     "text": [
      " 17%|███████████▉                                                          | 265/1556 [02:19<10:55,  1.97it/s]"
     ]
    },
    {
     "name": "stdout",
     "output_type": "stream",
     "text": [
      "Nature astronomy has homepage_url and type journal\n"
     ]
    },
    {
     "name": "stderr",
     "output_type": "stream",
     "text": [
      " 17%|████████████                                                          | 267/1556 [02:20<10:45,  2.00it/s]"
     ]
    },
    {
     "name": "stdout",
     "output_type": "stream",
     "text": [
      "Scientific data has homepage_url and type journal\n"
     ]
    },
    {
     "name": "stderr",
     "output_type": "stream",
     "text": [
      " 17%|████████████                                                          | 268/1556 [02:21<10:37,  2.02it/s]"
     ]
    },
    {
     "name": "stdout",
     "output_type": "stream",
     "text": [
      "SIAM journal on matrix analysis and applications has homepage_url and type journal\n"
     ]
    },
    {
     "name": "stderr",
     "output_type": "stream",
     "text": [
      " 17%|████████████                                                          | 269/1556 [02:21<10:33,  2.03it/s]"
     ]
    },
    {
     "name": "stdout",
     "output_type": "stream",
     "text": [
      "Knowledge-based systems has homepage_url and type journal\n"
     ]
    },
    {
     "name": "stderr",
     "output_type": "stream",
     "text": [
      " 17%|████████████▏                                                         | 270/1556 [02:22<10:42,  2.00it/s]"
     ]
    },
    {
     "name": "stdout",
     "output_type": "stream",
     "text": [
      "Technology in society has homepage_url and type journal\n"
     ]
    },
    {
     "name": "stderr",
     "output_type": "stream",
     "text": [
      " 17%|████████████▏                                                         | 271/1556 [02:23<12:33,  1.71it/s]"
     ]
    },
    {
     "name": "stdout",
     "output_type": "stream",
     "text": [
      "Sensors has homepage_url and type journal\n"
     ]
    },
    {
     "name": "stderr",
     "output_type": "stream",
     "text": [
      " 18%|████████████▎                                                         | 273/1556 [02:23<11:07,  1.92it/s]"
     ]
    },
    {
     "name": "stdout",
     "output_type": "stream",
     "text": [
      "Materials today advances has homepage_url and type journal\n"
     ]
    },
    {
     "name": "stderr",
     "output_type": "stream",
     "text": [
      " 18%|████████████▎                                                         | 274/1556 [02:24<10:59,  1.94it/s]"
     ]
    },
    {
     "name": "stdout",
     "output_type": "stream",
     "text": [
      "Physics letters. B has homepage_url and type journal\n"
     ]
    },
    {
     "name": "stderr",
     "output_type": "stream",
     "text": [
      " 18%|████████████▎                                                         | 275/1556 [02:24<10:56,  1.95it/s]"
     ]
    },
    {
     "name": "stdout",
     "output_type": "stream",
     "text": [
      "Journal of the Franklin Institute has homepage_url and type journal\n"
     ]
    },
    {
     "name": "stderr",
     "output_type": "stream",
     "text": [
      " 18%|████████████▍                                                         | 276/1556 [02:25<10:56,  1.95it/s]"
     ]
    },
    {
     "name": "stdout",
     "output_type": "stream",
     "text": [
      "Chinese journal of physics/Zhōngguó wùlǐ xuékān has homepage_url and type journal\n"
     ]
    },
    {
     "name": "stderr",
     "output_type": "stream",
     "text": [
      " 18%|████████████▍                                                         | 277/1556 [02:26<12:13,  1.74it/s]"
     ]
    },
    {
     "name": "stdout",
     "output_type": "stream",
     "text": [
      "Mathematics has homepage_url and type journal\n"
     ]
    },
    {
     "name": "stderr",
     "output_type": "stream",
     "text": [
      " 18%|████████████▌                                                         | 278/1556 [02:26<11:38,  1.83it/s]"
     ]
    },
    {
     "name": "stdout",
     "output_type": "stream",
     "text": [
      "Journal of physics. Conference series has homepage_url and type journal\n"
     ]
    },
    {
     "name": "stderr",
     "output_type": "stream",
     "text": [
      " 18%|████████████▌                                                         | 279/1556 [02:27<11:17,  1.89it/s]"
     ]
    },
    {
     "name": "stdout",
     "output_type": "stream",
     "text": [
      "iScience has homepage_url and type journal\n"
     ]
    },
    {
     "name": "stderr",
     "output_type": "stream",
     "text": [
      " 18%|████████████▌                                                         | 280/1556 [02:27<11:46,  1.81it/s]"
     ]
    },
    {
     "name": "stdout",
     "output_type": "stream",
     "text": [
      "Symmetry has homepage_url and type journal\n"
     ]
    },
    {
     "name": "stderr",
     "output_type": "stream",
     "text": [
      " 18%|████████████▋                                                         | 281/1556 [02:28<12:48,  1.66it/s]"
     ]
    },
    {
     "name": "stdout",
     "output_type": "stream",
     "text": [
      "Communications engineering has homepage_url and type journal\n"
     ]
    },
    {
     "name": "stderr",
     "output_type": "stream",
     "text": [
      " 18%|████████████▋                                                         | 282/1556 [02:29<12:07,  1.75it/s]"
     ]
    },
    {
     "name": "stdout",
     "output_type": "stream",
     "text": [
      "PLOS computational biology/PLoS computational biology has homepage_url and type journal\n"
     ]
    },
    {
     "name": "stderr",
     "output_type": "stream",
     "text": [
      " 18%|████████████▋                                                         | 283/1556 [02:29<11:38,  1.82it/s]"
     ]
    },
    {
     "name": "stdout",
     "output_type": "stream",
     "text": [
      "SciPost physics has homepage_url and type journal\n"
     ]
    },
    {
     "name": "stderr",
     "output_type": "stream",
     "text": [
      " 18%|████████████▊                                                         | 284/1556 [02:30<11:26,  1.85it/s]"
     ]
    },
    {
     "name": "stdout",
     "output_type": "stream",
     "text": [
      "IEEE transactions on pattern analysis and machine intelligence has homepage_url and type journal\n"
     ]
    },
    {
     "name": "stderr",
     "output_type": "stream",
     "text": [
      " 18%|████████████▊                                                         | 285/1556 [02:30<12:28,  1.70it/s]"
     ]
    },
    {
     "name": "stdout",
     "output_type": "stream",
     "text": [
      "Buildings has homepage_url and type journal\n"
     ]
    },
    {
     "name": "stderr",
     "output_type": "stream",
     "text": [
      " 18%|████████████▊                                                         | 286/1556 [02:31<11:50,  1.79it/s]"
     ]
    },
    {
     "name": "stdout",
     "output_type": "stream",
     "text": [
      "Physica scripta has homepage_url and type journal\n"
     ]
    },
    {
     "name": "stderr",
     "output_type": "stream",
     "text": [
      " 18%|████████████▉                                                         | 287/1556 [02:31<11:22,  1.86it/s]"
     ]
    },
    {
     "name": "stdout",
     "output_type": "stream",
     "text": [
      "Lecture notes in networks and systems has homepage_url and type book series\n"
     ]
    },
    {
     "name": "stderr",
     "output_type": "stream",
     "text": [
      " 19%|████████████▉                                                         | 288/1556 [02:32<11:13,  1.88it/s]"
     ]
    },
    {
     "name": "stdout",
     "output_type": "stream",
     "text": [
      "Fractal and fractional has homepage_url and type journal\n"
     ]
    },
    {
     "name": "stderr",
     "output_type": "stream",
     "text": [
      " 19%|█████████████                                                         | 289/1556 [02:32<11:00,  1.92it/s]"
     ]
    },
    {
     "name": "stdout",
     "output_type": "stream",
     "text": [
      "Communications in mathematical physics/Communications in Mathematical Physics has homepage_url and type journal\n"
     ]
    },
    {
     "name": "stderr",
     "output_type": "stream",
     "text": [
      " 19%|█████████████                                                         | 290/1556 [02:33<10:42,  1.97it/s]"
     ]
    },
    {
     "name": "stdout",
     "output_type": "stream",
     "text": [
      "SciPost physics core has homepage_url and type journal\n"
     ]
    },
    {
     "name": "stderr",
     "output_type": "stream",
     "text": [
      " 19%|█████████████▏                                                        | 292/1556 [02:34<13:22,  1.57it/s]"
     ]
    },
    {
     "name": "stdout",
     "output_type": "stream",
     "text": [
      "Management science has homepage_url and type journal\n"
     ]
    },
    {
     "name": "stderr",
     "output_type": "stream",
     "text": [
      " 19%|█████████████▏                                                        | 293/1556 [02:35<12:20,  1.71it/s]"
     ]
    },
    {
     "name": "stdout",
     "output_type": "stream",
     "text": [
      "SpringerBriefs in computer science has homepage_url and type book series\n"
     ]
    },
    {
     "name": "stderr",
     "output_type": "stream",
     "text": [
      " 19%|█████████████▏                                                        | 294/1556 [02:35<11:31,  1.82it/s]"
     ]
    },
    {
     "name": "stdout",
     "output_type": "stream",
     "text": [
      "IEEE transactions on instrumentation and measurement has homepage_url and type journal\n"
     ]
    },
    {
     "name": "stderr",
     "output_type": "stream",
     "text": [
      " 19%|█████████████▎                                                        | 296/1556 [02:36<10:36,  1.98it/s]"
     ]
    },
    {
     "name": "stdout",
     "output_type": "stream",
     "text": [
      "Lecture notes in electrical engineering has homepage_url and type book series\n"
     ]
    },
    {
     "name": "stderr",
     "output_type": "stream",
     "text": [
      " 19%|█████████████▎                                                        | 297/1556 [02:37<10:38,  1.97it/s]"
     ]
    },
    {
     "name": "stdout",
     "output_type": "stream",
     "text": [
      "Journal of physics and chemistry of solids has homepage_url and type journal\n"
     ]
    },
    {
     "name": "stderr",
     "output_type": "stream",
     "text": [
      " 19%|█████████████▍                                                        | 298/1556 [02:37<10:49,  1.94it/s]"
     ]
    },
    {
     "name": "stdout",
     "output_type": "stream",
     "text": [
      "Solid-state electronics has homepage_url and type journal\n"
     ]
    },
    {
     "name": "stderr",
     "output_type": "stream",
     "text": [
      " 19%|█████████████▍                                                        | 299/1556 [02:38<10:23,  2.02it/s]"
     ]
    },
    {
     "name": "stdout",
     "output_type": "stream",
     "text": [
      "IEEE internet of things magazine has homepage_url and type journal\n"
     ]
    },
    {
     "name": "stderr",
     "output_type": "stream",
     "text": [
      " 19%|█████████████▌                                                        | 302/1556 [02:39<10:17,  2.03it/s]"
     ]
    },
    {
     "name": "stdout",
     "output_type": "stream",
     "text": [
      "Proceedings of the VLDB Endowment has homepage_url and type journal\n"
     ]
    },
    {
     "name": "stderr",
     "output_type": "stream",
     "text": [
      " 19%|█████████████▋                                                        | 303/1556 [02:39<10:10,  2.05it/s]"
     ]
    },
    {
     "name": "stdout",
     "output_type": "stream",
     "text": [
      "Science China. Information sciences/Science China. Information Sciences has homepage_url and type journal\n"
     ]
    },
    {
     "name": "stderr",
     "output_type": "stream",
     "text": [
      " 20%|█████████████▋                                                        | 304/1556 [02:40<11:48,  1.77it/s]"
     ]
    },
    {
     "name": "stdout",
     "output_type": "stream",
     "text": [
      "Information and computation has homepage_url and type journal\n"
     ]
    },
    {
     "name": "stderr",
     "output_type": "stream",
     "text": [
      " 20%|█████████████▋                                                        | 305/1556 [02:41<11:19,  1.84it/s]"
     ]
    },
    {
     "name": "stdout",
     "output_type": "stream",
     "text": [
      "Research Square (Research Square) has homepage_url and type repository\n"
     ]
    },
    {
     "name": "stderr",
     "output_type": "stream",
     "text": [
      " 20%|█████████████▊                                                        | 306/1556 [02:41<10:43,  1.94it/s]"
     ]
    },
    {
     "name": "stdout",
     "output_type": "stream",
     "text": [
      "ACM transactions on modeling and computer simulation has homepage_url and type journal\n"
     ]
    },
    {
     "name": "stderr",
     "output_type": "stream",
     "text": [
      " 20%|█████████████▊                                                        | 307/1556 [02:42<10:59,  1.89it/s]"
     ]
    },
    {
     "name": "stdout",
     "output_type": "stream",
     "text": [
      "IEEE transactions on games has homepage_url and type journal\n"
     ]
    },
    {
     "name": "stderr",
     "output_type": "stream",
     "text": [
      " 20%|█████████████▉                                                        | 309/1556 [02:43<10:41,  1.94it/s]"
     ]
    },
    {
     "name": "stdout",
     "output_type": "stream",
     "text": [
      "IEEE transactions on sustainable energy has homepage_url and type journal\n"
     ]
    },
    {
     "name": "stderr",
     "output_type": "stream",
     "text": [
      " 20%|█████████████▉                                                        | 311/1556 [02:44<10:20,  2.01it/s]"
     ]
    },
    {
     "name": "stdout",
     "output_type": "stream",
     "text": [
      "Chemical physics letters has homepage_url and type journal\n"
     ]
    },
    {
     "name": "stderr",
     "output_type": "stream",
     "text": [
      " 20%|██████████████                                                        | 312/1556 [02:44<10:07,  2.05it/s]"
     ]
    },
    {
     "name": "stdout",
     "output_type": "stream",
     "text": [
      "Digital chemical engineering has homepage_url and type journal\n"
     ]
    },
    {
     "name": "stderr",
     "output_type": "stream",
     "text": [
      " 20%|██████████████                                                        | 313/1556 [02:45<10:01,  2.07it/s]"
     ]
    },
    {
     "name": "stdout",
     "output_type": "stream",
     "text": [
      "Materials today communications has homepage_url and type journal\n"
     ]
    },
    {
     "name": "stderr",
     "output_type": "stream",
     "text": [
      " 20%|██████████████▏                                                       | 314/1556 [02:45<10:18,  2.01it/s]"
     ]
    },
    {
     "name": "stdout",
     "output_type": "stream",
     "text": [
      "Information and software technology has homepage_url and type journal\n"
     ]
    },
    {
     "name": "stderr",
     "output_type": "stream",
     "text": [
      " 20%|██████████████▏                                                       | 315/1556 [02:46<11:16,  1.83it/s]"
     ]
    },
    {
     "name": "stdout",
     "output_type": "stream",
     "text": [
      "Physics open has homepage_url and type journal\n"
     ]
    },
    {
     "name": "stderr",
     "output_type": "stream",
     "text": [
      " 20%|██████████████▏                                                       | 316/1556 [02:46<10:41,  1.93it/s]"
     ]
    },
    {
     "name": "stdout",
     "output_type": "stream",
     "text": [
      "Heliyon has homepage_url and type journal\n"
     ]
    },
    {
     "name": "stderr",
     "output_type": "stream",
     "text": [
      " 20%|██████████████▎                                                       | 318/1556 [02:47<10:14,  2.02it/s]"
     ]
    },
    {
     "name": "stdout",
     "output_type": "stream",
     "text": [
      "Cell reports physical science has homepage_url and type journal\n"
     ]
    },
    {
     "name": "stderr",
     "output_type": "stream",
     "text": [
      " 21%|██████████████▍                                                       | 321/1556 [02:49<09:51,  2.09it/s]"
     ]
    },
    {
     "name": "stdout",
     "output_type": "stream",
     "text": [
      "Materials horizons has homepage_url and type journal\n"
     ]
    },
    {
     "name": "stderr",
     "output_type": "stream",
     "text": [
      " 21%|██████████████▍                                                       | 322/1556 [02:49<09:46,  2.10it/s]"
     ]
    },
    {
     "name": "stdout",
     "output_type": "stream",
     "text": [
      "IEEE journal of the Electron Devices Society has homepage_url and type journal\n"
     ]
    },
    {
     "name": "stderr",
     "output_type": "stream",
     "text": [
      " 21%|██████████████▌                                                       | 323/1556 [02:50<10:05,  2.04it/s]"
     ]
    },
    {
     "name": "stdout",
     "output_type": "stream",
     "text": [
      "Frontiers in physics has homepage_url and type journal\n"
     ]
    },
    {
     "name": "stderr",
     "output_type": "stream",
     "text": [
      " 21%|██████████████▌                                                       | 324/1556 [02:50<10:24,  1.97it/s]"
     ]
    },
    {
     "name": "stdout",
     "output_type": "stream",
     "text": [
      "Journal of chemical education has homepage_url and type journal\n"
     ]
    },
    {
     "name": "stderr",
     "output_type": "stream",
     "text": [
      " 21%|██████████████▋                                                       | 326/1556 [02:51<09:49,  2.09it/s]"
     ]
    },
    {
     "name": "stdout",
     "output_type": "stream",
     "text": [
      "EPJ web of conferences has homepage_url and type journal\n"
     ]
    },
    {
     "name": "stderr",
     "output_type": "stream",
     "text": [
      " 21%|██████████████▊                                                       | 328/1556 [02:52<09:44,  2.10it/s]"
     ]
    },
    {
     "name": "stdout",
     "output_type": "stream",
     "text": [
      "IEEE MICRO/IEEE micro has homepage_url and type journal\n"
     ]
    },
    {
     "name": "stderr",
     "output_type": "stream",
     "text": [
      " 21%|██████████████▊                                                       | 329/1556 [02:52<09:47,  2.09it/s]"
     ]
    },
    {
     "name": "stdout",
     "output_type": "stream",
     "text": [
      "ACM journal on emerging technologies in computing systems has homepage_url and type journal\n"
     ]
    },
    {
     "name": "stderr",
     "output_type": "stream",
     "text": [
      " 21%|██████████████▊                                                       | 330/1556 [02:53<09:58,  2.05it/s]"
     ]
    },
    {
     "name": "stdout",
     "output_type": "stream",
     "text": [
      "Turkish journal of electrical engineering and computer sciences/Elektrik has homepage_url and type journal\n"
     ]
    },
    {
     "name": "stderr",
     "output_type": "stream",
     "text": [
      " 21%|██████████████▉                                                       | 331/1556 [02:53<09:58,  2.05it/s]"
     ]
    },
    {
     "name": "stdout",
     "output_type": "stream",
     "text": [
      "IEEE transactions on nanobioscience has homepage_url and type journal\n"
     ]
    },
    {
     "name": "stderr",
     "output_type": "stream",
     "text": [
      " 21%|██████████████▉                                                       | 332/1556 [02:54<10:15,  1.99it/s]"
     ]
    },
    {
     "name": "stdout",
     "output_type": "stream",
     "text": [
      "Frontiers in photonics has homepage_url and type journal\n"
     ]
    },
    {
     "name": "stderr",
     "output_type": "stream",
     "text": [
      " 21%|██████████████▉                                                       | 333/1556 [02:54<10:05,  2.02it/s]"
     ]
    },
    {
     "name": "stdout",
     "output_type": "stream",
     "text": [
      "Materials today: proceedings has homepage_url and type journal\n"
     ]
    },
    {
     "name": "stderr",
     "output_type": "stream",
     "text": [
      " 21%|███████████████                                                       | 334/1556 [02:55<10:12,  2.00it/s]"
     ]
    },
    {
     "name": "stdout",
     "output_type": "stream",
     "text": [
      "AIChE journal has homepage_url and type journal\n"
     ]
    },
    {
     "name": "stderr",
     "output_type": "stream",
     "text": [
      " 22%|███████████████                                                       | 335/1556 [02:55<10:11,  2.00it/s]"
     ]
    },
    {
     "name": "stdout",
     "output_type": "stream",
     "text": [
      "Annalen der Physik has homepage_url and type journal\n"
     ]
    },
    {
     "name": "stderr",
     "output_type": "stream",
     "text": [
      " 22%|███████████████▏                                                      | 337/1556 [02:56<09:42,  2.09it/s]"
     ]
    },
    {
     "name": "stdout",
     "output_type": "stream",
     "text": [
      "NanoEthics has homepage_url and type journal\n"
     ]
    },
    {
     "name": "stderr",
     "output_type": "stream",
     "text": [
      " 22%|███████████████▏                                                      | 338/1556 [02:57<10:04,  2.01it/s]"
     ]
    },
    {
     "name": "stdout",
     "output_type": "stream",
     "text": [
      "Petroleum science/Petroleum Science has homepage_url and type journal\n"
     ]
    },
    {
     "name": "stderr",
     "output_type": "stream",
     "text": [
      " 22%|███████████████▍                                                      | 342/1556 [02:59<10:50,  1.87it/s]"
     ]
    },
    {
     "name": "stdout",
     "output_type": "stream",
     "text": [
      "Quantum engineering has homepage_url and type journal\n"
     ]
    },
    {
     "name": "stderr",
     "output_type": "stream",
     "text": [
      " 22%|███████████████▍                                                      | 343/1556 [03:00<10:16,  1.97it/s]"
     ]
    },
    {
     "name": "stdout",
     "output_type": "stream",
     "text": [
      "Briefings in bioinformatics has homepage_url and type journal\n"
     ]
    },
    {
     "name": "stderr",
     "output_type": "stream",
     "text": [
      " 22%|███████████████▌                                                      | 345/1556 [03:01<10:03,  2.01it/s]"
     ]
    },
    {
     "name": "stdout",
     "output_type": "stream",
     "text": [
      "IEEE communications magazine has homepage_url and type journal\n"
     ]
    },
    {
     "name": "stderr",
     "output_type": "stream",
     "text": [
      " 22%|███████████████▌                                                      | 346/1556 [03:01<10:57,  1.84it/s]"
     ]
    },
    {
     "name": "stdout",
     "output_type": "stream",
     "text": [
      "Chemistry of materials has homepage_url and type journal\n"
     ]
    },
    {
     "name": "stderr",
     "output_type": "stream",
     "text": [
      " 22%|███████████████▌                                                      | 347/1556 [03:02<10:31,  1.91it/s]"
     ]
    },
    {
     "name": "stdout",
     "output_type": "stream",
     "text": [
      "Journal of the Association for Computing Machinery has homepage_url and type journal\n"
     ]
    },
    {
     "name": "stderr",
     "output_type": "stream",
     "text": [
      " 22%|███████████████▋                                                      | 348/1556 [03:02<10:09,  1.98it/s]"
     ]
    },
    {
     "name": "stdout",
     "output_type": "stream",
     "text": [
      "IEEE embedded systems letters has homepage_url and type journal\n"
     ]
    },
    {
     "name": "stderr",
     "output_type": "stream",
     "text": [
      " 22%|███████████████▋                                                      | 349/1556 [03:03<10:15,  1.96it/s]"
     ]
    },
    {
     "name": "stdout",
     "output_type": "stream",
     "text": [
      "Optik has homepage_url and type journal\n"
     ]
    },
    {
     "name": "stderr",
     "output_type": "stream",
     "text": [
      " 22%|███████████████▋                                                      | 350/1556 [03:03<10:32,  1.91it/s]"
     ]
    },
    {
     "name": "stdout",
     "output_type": "stream",
     "text": [
      "Bulletin of the American Meteorological Society has homepage_url and type journal\n"
     ]
    },
    {
     "name": "stderr",
     "output_type": "stream",
     "text": [
      " 23%|███████████████▊                                                      | 351/1556 [03:04<10:17,  1.95it/s]"
     ]
    },
    {
     "name": "stdout",
     "output_type": "stream",
     "text": [
      "IEEE transactions on antennas and propagation has homepage_url and type journal\n"
     ]
    },
    {
     "name": "stderr",
     "output_type": "stream",
     "text": [
      " 23%|███████████████▊                                                      | 352/1556 [03:04<10:01,  2.00it/s]"
     ]
    },
    {
     "name": "stdout",
     "output_type": "stream",
     "text": [
      "The Journal of supercomputing/Journal of supercomputing has homepage_url and type journal\n"
     ]
    },
    {
     "name": "stderr",
     "output_type": "stream",
     "text": [
      " 23%|███████████████▉                                                      | 354/1556 [03:05<09:42,  2.06it/s]"
     ]
    },
    {
     "name": "stdout",
     "output_type": "stream",
     "text": [
      "IEEE transactions on network and service management/IEEE eTransactions on network and service management has homepage_url and type journal\n"
     ]
    },
    {
     "name": "stderr",
     "output_type": "stream",
     "text": [
      " 23%|███████████████▉                                                      | 355/1556 [03:06<09:43,  2.06it/s]"
     ]
    },
    {
     "name": "stdout",
     "output_type": "stream",
     "text": [
      "AIAA journal/AIAA journal on disc has homepage_url and type journal\n"
     ]
    },
    {
     "name": "stderr",
     "output_type": "stream",
     "text": [
      " 23%|████████████████                                                      | 356/1556 [03:06<10:21,  1.93it/s]"
     ]
    },
    {
     "name": "stdout",
     "output_type": "stream",
     "text": [
      "Patterns has homepage_url and type journal\n"
     ]
    },
    {
     "name": "stderr",
     "output_type": "stream",
     "text": [
      " 23%|████████████████                                                      | 357/1556 [03:07<10:08,  1.97it/s]"
     ]
    },
    {
     "name": "stdout",
     "output_type": "stream",
     "text": [
      "Annals of physics has homepage_url and type journal\n"
     ]
    },
    {
     "name": "stderr",
     "output_type": "stream",
     "text": [
      " 23%|████████████████▏                                                     | 359/1556 [03:08<11:02,  1.81it/s]"
     ]
    },
    {
     "name": "stdout",
     "output_type": "stream",
     "text": [
      "Cities has homepage_url and type journal\n"
     ]
    },
    {
     "name": "stderr",
     "output_type": "stream",
     "text": [
      " 23%|████████████████▏                                                     | 360/1556 [03:08<10:17,  1.94it/s]"
     ]
    },
    {
     "name": "stdout",
     "output_type": "stream",
     "text": [
      "Molecular therapy. Nucleic acids has homepage_url and type journal\n"
     ]
    },
    {
     "name": "stderr",
     "output_type": "stream",
     "text": [
      " 23%|████████████████▏                                                     | 361/1556 [03:09<10:03,  1.98it/s]"
     ]
    },
    {
     "name": "stdout",
     "output_type": "stream",
     "text": [
      "Electric power systems research has homepage_url and type journal\n"
     ]
    },
    {
     "name": "stderr",
     "output_type": "stream",
     "text": [
      " 23%|████████████████▎                                                     | 362/1556 [03:09<09:41,  2.05it/s]"
     ]
    },
    {
     "name": "stdout",
     "output_type": "stream",
     "text": [
      "Natural computing series has homepage_url and type book series\n"
     ]
    },
    {
     "name": "stderr",
     "output_type": "stream",
     "text": [
      " 23%|████████████████▍                                                     | 364/1556 [03:10<09:36,  2.07it/s]"
     ]
    },
    {
     "name": "stdout",
     "output_type": "stream",
     "text": [
      "ACS applied electronic materials has homepage_url and type journal\n"
     ]
    },
    {
     "name": "stderr",
     "output_type": "stream",
     "text": [
      " 23%|████████████████▍                                                     | 365/1556 [03:11<09:41,  2.05it/s]"
     ]
    },
    {
     "name": "stdout",
     "output_type": "stream",
     "text": [
      "IETE journal of research has homepage_url and type journal\n"
     ]
    },
    {
     "name": "stderr",
     "output_type": "stream",
     "text": [
      " 24%|████████████████▌                                                     | 367/1556 [03:12<09:27,  2.09it/s]"
     ]
    },
    {
     "name": "stdout",
     "output_type": "stream",
     "text": [
      "Quantum reports has homepage_url and type journal\n"
     ]
    },
    {
     "name": "stderr",
     "output_type": "stream",
     "text": [
      " 24%|████████████████▌                                                     | 368/1556 [03:12<09:25,  2.10it/s]"
     ]
    },
    {
     "name": "stdout",
     "output_type": "stream",
     "text": [
      "Security and communication networks has homepage_url and type journal\n"
     ]
    },
    {
     "name": "stderr",
     "output_type": "stream",
     "text": [
      " 24%|████████████████▌                                                     | 369/1556 [03:13<09:22,  2.11it/s]"
     ]
    },
    {
     "name": "stdout",
     "output_type": "stream",
     "text": [
      "IEEE aerospace and electronic systems magazine has homepage_url and type journal\n"
     ]
    },
    {
     "name": "stderr",
     "output_type": "stream",
     "text": [
      " 24%|████████████████▋                                                     | 370/1556 [03:13<09:22,  2.11it/s]"
     ]
    },
    {
     "name": "stdout",
     "output_type": "stream",
     "text": [
      "IEEE microwave magazine has homepage_url and type journal\n"
     ]
    },
    {
     "name": "stderr",
     "output_type": "stream",
     "text": [
      " 24%|████████████████▋                                                     | 371/1556 [03:13<09:19,  2.12it/s]"
     ]
    },
    {
     "name": "stdout",
     "output_type": "stream",
     "text": [
      "IEEE electrification magazine has homepage_url and type journal\n"
     ]
    },
    {
     "name": "stderr",
     "output_type": "stream",
     "text": [
      " 24%|████████████████▋                                                     | 372/1556 [03:14<10:48,  1.83it/s]"
     ]
    },
    {
     "name": "stdout",
     "output_type": "stream",
     "text": [
      "Chemistry has homepage_url and type journal\n"
     ]
    },
    {
     "name": "stderr",
     "output_type": "stream",
     "text": [
      " 24%|████████████████▊                                                     | 373/1556 [03:15<10:24,  1.90it/s]"
     ]
    },
    {
     "name": "stdout",
     "output_type": "stream",
     "text": [
      "ACM transactions on design automation of electronic systems has homepage_url and type journal\n"
     ]
    },
    {
     "name": "stderr",
     "output_type": "stream",
     "text": [
      " 24%|████████████████▊                                                     | 374/1556 [03:15<09:56,  1.98it/s]"
     ]
    },
    {
     "name": "stdout",
     "output_type": "stream",
     "text": [
      "Beilstein journal of nanotechnology has homepage_url and type journal\n"
     ]
    },
    {
     "name": "stderr",
     "output_type": "stream",
     "text": [
      " 24%|████████████████▊                                                     | 375/1556 [03:16<09:45,  2.02it/s]"
     ]
    },
    {
     "name": "stdout",
     "output_type": "stream",
     "text": [
      "The European physical journal plus has homepage_url and type journal\n"
     ]
    },
    {
     "name": "stderr",
     "output_type": "stream",
     "text": [
      " 24%|████████████████▉                                                     | 377/1556 [03:17<09:41,  2.03it/s]"
     ]
    },
    {
     "name": "stdout",
     "output_type": "stream",
     "text": [
      "Optical materials express has homepage_url and type journal\n"
     ]
    },
    {
     "name": "stderr",
     "output_type": "stream",
     "text": [
      " 24%|█████████████████                                                     | 378/1556 [03:17<11:18,  1.74it/s]"
     ]
    },
    {
     "name": "stdout",
     "output_type": "stream",
     "text": [
      "Bioinformatics has homepage_url and type journal\n"
     ]
    },
    {
     "name": "stderr",
     "output_type": "stream",
     "text": [
      " 24%|█████████████████                                                     | 380/1556 [03:18<10:15,  1.91it/s]"
     ]
    },
    {
     "name": "stdout",
     "output_type": "stream",
     "text": [
      "Physics Uspekhi has homepage_url and type journal\n"
     ]
    },
    {
     "name": "stderr",
     "output_type": "stream",
     "text": [
      " 24%|█████████████████▏                                                    | 381/1556 [03:19<09:55,  1.97it/s]"
     ]
    },
    {
     "name": "stdout",
     "output_type": "stream",
     "text": [
      "Neuromorphic computing and engineering has homepage_url and type journal\n"
     ]
    },
    {
     "name": "stderr",
     "output_type": "stream",
     "text": [
      " 25%|█████████████████▏                                                    | 382/1556 [03:19<10:14,  1.91it/s]"
     ]
    },
    {
     "name": "stdout",
     "output_type": "stream",
     "text": [
      "IEEE transactions on communications has homepage_url and type journal\n"
     ]
    },
    {
     "name": "stderr",
     "output_type": "stream",
     "text": [
      " 25%|█████████████████▏                                                    | 383/1556 [03:20<10:17,  1.90it/s]"
     ]
    },
    {
     "name": "stdout",
     "output_type": "stream",
     "text": [
      "IEEE transactions on geoscience and remote sensing has homepage_url and type journal\n"
     ]
    },
    {
     "name": "stderr",
     "output_type": "stream",
     "text": [
      " 25%|█████████████████▎                                                    | 384/1556 [03:21<11:33,  1.69it/s]"
     ]
    },
    {
     "name": "stdout",
     "output_type": "stream",
     "text": [
      "Nanomaterials has homepage_url and type journal\n"
     ]
    },
    {
     "name": "stderr",
     "output_type": "stream",
     "text": [
      " 25%|█████████████████▎                                                    | 385/1556 [03:21<10:45,  1.81it/s]"
     ]
    },
    {
     "name": "stdout",
     "output_type": "stream",
     "text": [
      "Spine surgery and related research has homepage_url and type journal\n"
     ]
    },
    {
     "name": "stderr",
     "output_type": "stream",
     "text": [
      " 25%|█████████████████▎                                                    | 386/1556 [03:22<10:28,  1.86it/s]"
     ]
    },
    {
     "name": "stdout",
     "output_type": "stream",
     "text": [
      "IEEE transactions on industry applications has homepage_url and type journal\n"
     ]
    },
    {
     "name": "stderr",
     "output_type": "stream",
     "text": [
      " 25%|█████████████████▍                                                    | 387/1556 [03:22<10:46,  1.81it/s]"
     ]
    },
    {
     "name": "stdout",
     "output_type": "stream",
     "text": [
      "Communications chemistry has homepage_url and type journal\n"
     ]
    },
    {
     "name": "stderr",
     "output_type": "stream",
     "text": [
      " 25%|█████████████████▌                                                    | 389/1556 [03:23<11:34,  1.68it/s]"
     ]
    },
    {
     "name": "stdout",
     "output_type": "stream",
     "text": [
      "Sustainability has homepage_url and type journal\n"
     ]
    },
    {
     "name": "stderr",
     "output_type": "stream",
     "text": [
      " 25%|█████████████████▌                                                    | 390/1556 [03:24<10:46,  1.80it/s]"
     ]
    },
    {
     "name": "stdout",
     "output_type": "stream",
     "text": [
      "Annual review of physical chemistry has homepage_url and type journal\n"
     ]
    },
    {
     "name": "stderr",
     "output_type": "stream",
     "text": [
      " 25%|█████████████████▌                                                    | 391/1556 [03:24<10:20,  1.88it/s]"
     ]
    },
    {
     "name": "stdout",
     "output_type": "stream",
     "text": [
      "ACS medicinal chemistry letters has homepage_url and type journal\n"
     ]
    },
    {
     "name": "stderr",
     "output_type": "stream",
     "text": [
      " 25%|█████████████████▋                                                    | 392/1556 [03:25<10:12,  1.90it/s]"
     ]
    },
    {
     "name": "stdout",
     "output_type": "stream",
     "text": [
      "Frontiers in immunology has homepage_url and type journal\n"
     ]
    },
    {
     "name": "stderr",
     "output_type": "stream",
     "text": [
      " 25%|█████████████████▋                                                    | 393/1556 [03:25<09:53,  1.96it/s]"
     ]
    },
    {
     "name": "stdout",
     "output_type": "stream",
     "text": [
      "Current opinion in biotechnology has homepage_url and type journal\n"
     ]
    },
    {
     "name": "stderr",
     "output_type": "stream",
     "text": [
      " 25%|█████████████████▋                                                    | 394/1556 [03:26<11:27,  1.69it/s]"
     ]
    },
    {
     "name": "stdout",
     "output_type": "stream",
     "text": [
      "Photonics has homepage_url and type journal\n"
     ]
    },
    {
     "name": "stderr",
     "output_type": "stream",
     "text": [
      " 25%|█████████████████▊                                                    | 395/1556 [03:27<10:44,  1.80it/s]"
     ]
    },
    {
     "name": "stdout",
     "output_type": "stream",
     "text": [
      "AIP advances has homepage_url and type journal\n"
     ]
    },
    {
     "name": "stderr",
     "output_type": "stream",
     "text": [
      " 25%|█████████████████▊                                                    | 396/1556 [03:27<10:12,  1.89it/s]"
     ]
    },
    {
     "name": "stdout",
     "output_type": "stream",
     "text": [
      "IET collaborative intelligent manufacturing has homepage_url and type journal\n"
     ]
    },
    {
     "name": "stderr",
     "output_type": "stream",
     "text": [
      " 26%|█████████████████▊                                                    | 397/1556 [03:27<09:56,  1.94it/s]"
     ]
    },
    {
     "name": "stdout",
     "output_type": "stream",
     "text": [
      "Magnetochemistry has homepage_url and type journal\n"
     ]
    },
    {
     "name": "stderr",
     "output_type": "stream",
     "text": [
      " 26%|█████████████████▉                                                    | 399/1556 [03:28<09:31,  2.03it/s]"
     ]
    },
    {
     "name": "stdout",
     "output_type": "stream",
     "text": [
      "IEEE solid-state circuits magazine has homepage_url and type journal\n"
     ]
    },
    {
     "name": "stderr",
     "output_type": "stream",
     "text": [
      " 26%|█████████████████▉                                                    | 400/1556 [03:29<09:25,  2.04it/s]"
     ]
    },
    {
     "name": "stdout",
     "output_type": "stream",
     "text": [
      "ACM journal of experimental algorithmics has homepage_url and type journal\n"
     ]
    },
    {
     "name": "stderr",
     "output_type": "stream",
     "text": [
      " 26%|██████████████████                                                    | 402/1556 [03:30<09:24,  2.04it/s]"
     ]
    },
    {
     "name": "stdout",
     "output_type": "stream",
     "text": [
      "American journal of physics has homepage_url and type journal\n"
     ]
    },
    {
     "name": "stderr",
     "output_type": "stream",
     "text": [
      " 26%|██████████████████▏                                                   | 405/1556 [03:31<09:14,  2.07it/s]"
     ]
    },
    {
     "name": "stdout",
     "output_type": "stream",
     "text": [
      "Proceedings of the ... AAAI Conference on Artificial Intelligence has homepage_url and type conference\n"
     ]
    },
    {
     "name": "stderr",
     "output_type": "stream",
     "text": [
      " 26%|██████████████████▎                                                   | 406/1556 [03:32<09:13,  2.08it/s]"
     ]
    },
    {
     "name": "stdout",
     "output_type": "stream",
     "text": [
      "Nano express has homepage_url and type journal\n"
     ]
    },
    {
     "name": "stderr",
     "output_type": "stream",
     "text": [
      " 26%|██████████████████▍                                                   | 409/1556 [03:33<09:55,  1.93it/s]"
     ]
    },
    {
     "name": "stdout",
     "output_type": "stream",
     "text": [
      "Journal of mathematical physics has homepage_url and type journal\n"
     ]
    },
    {
     "name": "stderr",
     "output_type": "stream",
     "text": [
      " 26%|██████████████████▍                                                   | 410/1556 [03:34<09:50,  1.94it/s]"
     ]
    },
    {
     "name": "stdout",
     "output_type": "stream",
     "text": [
      "Automatica has homepage_url and type journal\n"
     ]
    },
    {
     "name": "stderr",
     "output_type": "stream",
     "text": [
      " 26%|██████████████████▍                                                   | 411/1556 [03:34<09:50,  1.94it/s]"
     ]
    },
    {
     "name": "stdout",
     "output_type": "stream",
     "text": [
      "Frontiers of Optoelectronics has homepage_url and type journal\n"
     ]
    },
    {
     "name": "stderr",
     "output_type": "stream",
     "text": [
      " 27%|██████████████████▌                                                   | 413/1556 [03:35<09:42,  1.96it/s]"
     ]
    },
    {
     "name": "stdout",
     "output_type": "stream",
     "text": [
      "ETRI journal has homepage_url and type journal\n"
     ]
    },
    {
     "name": "stderr",
     "output_type": "stream",
     "text": [
      " 27%|██████████████████▌                                                   | 414/1556 [03:36<09:50,  1.93it/s]"
     ]
    },
    {
     "name": "stdout",
     "output_type": "stream",
     "text": [
      "Journal of computational chemistry has homepage_url and type journal\n"
     ]
    },
    {
     "name": "stderr",
     "output_type": "stream",
     "text": [
      " 27%|██████████████████▋                                                   | 415/1556 [03:37<11:07,  1.71it/s]"
     ]
    },
    {
     "name": "stdout",
     "output_type": "stream",
     "text": [
      "Production engineering has homepage_url and type journal\n"
     ]
    },
    {
     "name": "stderr",
     "output_type": "stream",
     "text": [
      " 27%|██████████████████▊                                                   | 417/1556 [03:38<10:12,  1.86it/s]"
     ]
    },
    {
     "name": "stdout",
     "output_type": "stream",
     "text": [
      "Social Science Research Network has homepage_url and type repository\n"
     ]
    },
    {
     "name": "stderr",
     "output_type": "stream",
     "text": [
      " 27%|██████████████████▊                                                   | 418/1556 [03:38<09:54,  1.91it/s]"
     ]
    },
    {
     "name": "stdout",
     "output_type": "stream",
     "text": [
      "Frontiers in mechanical engineering has homepage_url and type journal\n"
     ]
    },
    {
     "name": "stderr",
     "output_type": "stream",
     "text": [
      " 27%|██████████████████▉                                                   | 420/1556 [03:39<09:22,  2.02it/s]"
     ]
    },
    {
     "name": "stdout",
     "output_type": "stream",
     "text": [
      "IEEE transactions on industrial informatics has homepage_url and type journal\n"
     ]
    },
    {
     "name": "stderr",
     "output_type": "stream",
     "text": [
      " 27%|██████████████████▉                                                   | 421/1556 [03:40<10:51,  1.74it/s]"
     ]
    },
    {
     "name": "stdout",
     "output_type": "stream",
     "text": [
      "Machine learning has homepage_url and type journal\n"
     ]
    },
    {
     "name": "stderr",
     "output_type": "stream",
     "text": [
      " 27%|██████████████████▉                                                   | 422/1556 [03:40<10:25,  1.81it/s]"
     ]
    },
    {
     "name": "stdout",
     "output_type": "stream",
     "text": [
      "Japanese journal of applied physics has homepage_url and type journal\n"
     ]
    },
    {
     "name": "stderr",
     "output_type": "stream",
     "text": [
      " 27%|███████████████████                                                   | 423/1556 [03:41<09:49,  1.92it/s]"
     ]
    },
    {
     "name": "stdout",
     "output_type": "stream",
     "text": [
      "Communications in Theoretical Physics/Communications in theoretical physics has homepage_url and type journal\n"
     ]
    },
    {
     "name": "stderr",
     "output_type": "stream",
     "text": [
      " 27%|███████████████████                                                   | 424/1556 [03:41<09:27,  2.00it/s]"
     ]
    },
    {
     "name": "stdout",
     "output_type": "stream",
     "text": [
      "Classical and quantum gravity has homepage_url and type journal\n"
     ]
    },
    {
     "name": "stderr",
     "output_type": "stream",
     "text": [
      " 27%|███████████████████                                                   | 425/1556 [03:42<09:13,  2.04it/s]"
     ]
    },
    {
     "name": "stdout",
     "output_type": "stream",
     "text": [
      "IEEE transactions on applied superconductivity has homepage_url and type journal\n"
     ]
    },
    {
     "name": "stderr",
     "output_type": "stream",
     "text": [
      " 27%|███████████████████▏                                                  | 427/1556 [03:43<10:09,  1.85it/s]"
     ]
    },
    {
     "name": "stdout",
     "output_type": "stream",
     "text": [
      "Particles has homepage_url and type journal\n"
     ]
    },
    {
     "name": "stderr",
     "output_type": "stream",
     "text": [
      " 28%|███████████████████▎                                                  | 430/1556 [03:44<10:05,  1.86it/s]"
     ]
    },
    {
     "name": "stdout",
     "output_type": "stream",
     "text": [
      "IEEE multimedia has homepage_url and type journal\n"
     ]
    },
    {
     "name": "stderr",
     "output_type": "stream",
     "text": [
      " 28%|███████████████████▍                                                  | 431/1556 [03:45<09:37,  1.95it/s]"
     ]
    },
    {
     "name": "stdout",
     "output_type": "stream",
     "text": [
      "OSTI OAI (U.S. Department of Energy Office of Scientific and Technical Information) has homepage_url and type repository\n"
     ]
    },
    {
     "name": "stderr",
     "output_type": "stream",
     "text": [
      " 28%|███████████████████▍                                                  | 432/1556 [03:45<09:32,  1.96it/s]"
     ]
    },
    {
     "name": "stdout",
     "output_type": "stream",
     "text": [
      "SmartMat has homepage_url and type journal\n"
     ]
    },
    {
     "name": "stderr",
     "output_type": "stream",
     "text": [
      " 28%|███████████████████▍                                                  | 433/1556 [03:46<09:39,  1.94it/s]"
     ]
    },
    {
     "name": "stdout",
     "output_type": "stream",
     "text": [
      "JACS Au has homepage_url and type journal\n"
     ]
    },
    {
     "name": "stderr",
     "output_type": "stream",
     "text": [
      " 28%|███████████████████▌                                                  | 434/1556 [03:46<09:26,  1.98it/s]"
     ]
    },
    {
     "name": "stdout",
     "output_type": "stream",
     "text": [
      "Mathematical programming computation has homepage_url and type journal\n"
     ]
    },
    {
     "name": "stderr",
     "output_type": "stream",
     "text": [
      " 28%|███████████████████▌                                                  | 435/1556 [03:47<09:17,  2.01it/s]"
     ]
    },
    {
     "name": "stdout",
     "output_type": "stream",
     "text": [
      "I.E.E.E. transactions on electron devices/IEEE transactions on electron devices has homepage_url and type journal\n"
     ]
    },
    {
     "name": "stderr",
     "output_type": "stream",
     "text": [
      " 28%|███████████████████▌                                                  | 436/1556 [03:47<09:05,  2.05it/s]"
     ]
    },
    {
     "name": "stdout",
     "output_type": "stream",
     "text": [
      "Pattern recognition letters has homepage_url and type journal\n"
     ]
    },
    {
     "name": "stderr",
     "output_type": "stream",
     "text": [
      " 28%|███████████████████▋                                                  | 438/1556 [03:48<08:53,  2.10it/s]"
     ]
    },
    {
     "name": "stdout",
     "output_type": "stream",
     "text": [
      "RSC advances has homepage_url and type journal\n"
     ]
    },
    {
     "name": "stderr",
     "output_type": "stream",
     "text": [
      " 28%|███████████████████▋                                                  | 439/1556 [03:49<08:57,  2.08it/s]"
     ]
    },
    {
     "name": "stdout",
     "output_type": "stream",
     "text": [
      "IEEE journal on selected areas in communications has homepage_url and type journal\n"
     ]
    },
    {
     "name": "stderr",
     "output_type": "stream",
     "text": [
      " 28%|███████████████████▊                                                  | 440/1556 [03:49<10:19,  1.80it/s]"
     ]
    },
    {
     "name": "stdout",
     "output_type": "stream",
     "text": [
      "Soft computing has homepage_url and type journal\n"
     ]
    },
    {
     "name": "stderr",
     "output_type": "stream",
     "text": [
      " 28%|███████████████████▊                                                  | 441/1556 [03:50<10:07,  1.83it/s]"
     ]
    },
    {
     "name": "stdout",
     "output_type": "stream",
     "text": [
      "ACM transactions on programming languages and systems has homepage_url and type journal\n"
     ]
    },
    {
     "name": "stderr",
     "output_type": "stream",
     "text": [
      " 28%|███████████████████▉                                                  | 443/1556 [03:51<09:14,  2.01it/s]"
     ]
    },
    {
     "name": "stdout",
     "output_type": "stream",
     "text": [
      "IEEE transactions on nanotechnology has homepage_url and type journal\n"
     ]
    },
    {
     "name": "stderr",
     "output_type": "stream",
     "text": [
      " 29%|███████████████████▉                                                  | 444/1556 [03:51<09:58,  1.86it/s]"
     ]
    },
    {
     "name": "stdout",
     "output_type": "stream",
     "text": [
      "Advanced intelligent systems has homepage_url and type journal\n"
     ]
    },
    {
     "name": "stderr",
     "output_type": "stream",
     "text": [
      " 29%|████████████████████                                                  | 445/1556 [03:52<09:33,  1.94it/s]"
     ]
    },
    {
     "name": "stdout",
     "output_type": "stream",
     "text": [
      "Lecture notes in physics has homepage_url and type book series\n"
     ]
    },
    {
     "name": "stderr",
     "output_type": "stream",
     "text": [
      " 29%|████████████████████                                                  | 446/1556 [03:52<09:19,  1.98it/s]"
     ]
    },
    {
     "name": "stdout",
     "output_type": "stream",
     "text": [
      "BMC medical imaging has homepage_url and type journal\n"
     ]
    },
    {
     "name": "stderr",
     "output_type": "stream",
     "text": [
      " 29%|████████████████████                                                  | 447/1556 [03:53<09:12,  2.01it/s]"
     ]
    },
    {
     "name": "stdout",
     "output_type": "stream",
     "text": [
      "ACS nano has homepage_url and type journal\n"
     ]
    },
    {
     "name": "stderr",
     "output_type": "stream",
     "text": [
      " 29%|████████████████████▏                                                 | 449/1556 [03:54<09:26,  1.96it/s]"
     ]
    },
    {
     "name": "stdout",
     "output_type": "stream",
     "text": [
      "Acta astronautica has homepage_url and type journal\n"
     ]
    },
    {
     "name": "stderr",
     "output_type": "stream",
     "text": [
      " 29%|████████████████████▏                                                 | 450/1556 [03:54<09:33,  1.93it/s]"
     ]
    },
    {
     "name": "stdout",
     "output_type": "stream",
     "text": [
      "IEEE/CAA journal of automatica sinica has homepage_url and type journal\n"
     ]
    },
    {
     "name": "stderr",
     "output_type": "stream",
     "text": [
      " 29%|████████████████████▎                                                 | 451/1556 [03:55<09:23,  1.96it/s]"
     ]
    },
    {
     "name": "stdout",
     "output_type": "stream",
     "text": [
      "IEEE sensors journal has homepage_url and type journal\n"
     ]
    },
    {
     "name": "stderr",
     "output_type": "stream",
     "text": [
      " 29%|████████████████████▎                                                 | 452/1556 [03:55<09:07,  2.02it/s]"
     ]
    },
    {
     "name": "stdout",
     "output_type": "stream",
     "text": [
      "IET optoelectronics has homepage_url and type journal\n"
     ]
    },
    {
     "name": "stderr",
     "output_type": "stream",
     "text": [
      " 29%|████████████████████▍                                                 | 454/1556 [03:56<08:32,  2.15it/s]"
     ]
    },
    {
     "name": "stdout",
     "output_type": "stream",
     "text": [
      "IEEE transactions on services computing has homepage_url and type journal\n"
     ]
    },
    {
     "name": "stderr",
     "output_type": "stream",
     "text": [
      " 29%|████████████████████▌                                                 | 456/1556 [03:57<08:38,  2.12it/s]"
     ]
    },
    {
     "name": "stdout",
     "output_type": "stream",
     "text": [
      "IEEE transactions on sustainable computing has homepage_url and type journal\n"
     ]
    },
    {
     "name": "stderr",
     "output_type": "stream",
     "text": [
      " 29%|████████████████████▌                                                 | 457/1556 [03:58<08:50,  2.07it/s]"
     ]
    },
    {
     "name": "stdout",
     "output_type": "stream",
     "text": [
      "Information processing letters has homepage_url and type journal\n"
     ]
    },
    {
     "name": "stderr",
     "output_type": "stream",
     "text": [
      " 29%|████████████████████▌                                                 | 458/1556 [03:58<08:46,  2.09it/s]"
     ]
    },
    {
     "name": "stdout",
     "output_type": "stream",
     "text": [
      "Optical and quantum electronics has homepage_url and type journal\n"
     ]
    },
    {
     "name": "stderr",
     "output_type": "stream",
     "text": [
      " 29%|████████████████████▋                                                 | 459/1556 [03:59<10:00,  1.83it/s]"
     ]
    },
    {
     "name": "stdout",
     "output_type": "stream",
     "text": [
      "Fuel has homepage_url and type journal\n"
     ]
    },
    {
     "name": "stderr",
     "output_type": "stream",
     "text": [
      " 30%|████████████████████▋                                                 | 461/1556 [04:00<09:26,  1.93it/s]"
     ]
    },
    {
     "name": "stdout",
     "output_type": "stream",
     "text": [
      "IEEE transactions on intelligent transportation systems has homepage_url and type journal\n"
     ]
    },
    {
     "name": "stderr",
     "output_type": "stream",
     "text": [
      " 30%|████████████████████▊                                                 | 462/1556 [04:00<09:14,  1.97it/s]"
     ]
    },
    {
     "name": "stdout",
     "output_type": "stream",
     "text": [
      "CCF transactions on high performance computing/CCF Transactions on High Performance Computing has homepage_url and type journal\n"
     ]
    },
    {
     "name": "stderr",
     "output_type": "stream",
     "text": [
      " 30%|████████████████████▉                                                 | 465/1556 [04:02<09:01,  2.01it/s]"
     ]
    },
    {
     "name": "stdout",
     "output_type": "stream",
     "text": [
      "Cognitive robotics has homepage_url and type journal\n"
     ]
    },
    {
     "name": "stderr",
     "output_type": "stream",
     "text": [
      " 30%|█████████████████████                                                 | 469/1556 [04:04<08:57,  2.02it/s]"
     ]
    },
    {
     "name": "stdout",
     "output_type": "stream",
     "text": [
      "ISIJ international has homepage_url and type journal\n"
     ]
    },
    {
     "name": "stderr",
     "output_type": "stream",
     "text": [
      " 30%|█████████████████████▏                                                | 470/1556 [04:04<08:56,  2.02it/s]"
     ]
    },
    {
     "name": "stdout",
     "output_type": "stream",
     "text": [
      "Advances in engineering software has homepage_url and type journal\n"
     ]
    },
    {
     "name": "stderr",
     "output_type": "stream",
     "text": [
      " 30%|█████████████████████▏                                                | 472/1556 [04:05<08:58,  2.01it/s]"
     ]
    },
    {
     "name": "stdout",
     "output_type": "stream",
     "text": [
      "International journal of theoretical physics has homepage_url and type journal\n"
     ]
    },
    {
     "name": "stderr",
     "output_type": "stream",
     "text": [
      " 30%|█████████████████████▎                                                | 473/1556 [04:06<10:19,  1.75it/s]"
     ]
    },
    {
     "name": "stdout",
     "output_type": "stream",
     "text": [
      "Integration has homepage_url and type journal\n"
     ]
    },
    {
     "name": "stderr",
     "output_type": "stream",
     "text": [
      " 30%|█████████████████████▎                                                | 474/1556 [04:07<09:55,  1.82it/s]"
     ]
    },
    {
     "name": "stdout",
     "output_type": "stream",
     "text": [
      "EURASIP Journal on wireless communications and networking has homepage_url and type journal\n"
     ]
    },
    {
     "name": "stderr",
     "output_type": "stream",
     "text": [
      " 31%|█████████████████████▎                                                | 475/1556 [04:07<09:37,  1.87it/s]"
     ]
    },
    {
     "name": "stdout",
     "output_type": "stream",
     "text": [
      "The European physical journal. Special topics has homepage_url and type journal\n"
     ]
    },
    {
     "name": "stderr",
     "output_type": "stream",
     "text": [
      " 31%|█████████████████████▍                                                | 476/1556 [04:08<09:28,  1.90it/s]"
     ]
    },
    {
     "name": "stdout",
     "output_type": "stream",
     "text": [
      "AIP conference proceedings has homepage_url and type journal\n"
     ]
    },
    {
     "name": "stderr",
     "output_type": "stream",
     "text": [
      " 31%|█████████████████████▌                                                | 478/1556 [04:09<09:03,  1.98it/s]"
     ]
    },
    {
     "name": "stdout",
     "output_type": "stream",
     "text": [
      "Journal of physical chemistry. C./Journal of physical chemistry. C has homepage_url and type journal\n"
     ]
    },
    {
     "name": "stderr",
     "output_type": "stream",
     "text": [
      " 31%|█████████████████████▋                                                | 483/1556 [04:11<08:31,  2.10it/s]"
     ]
    },
    {
     "name": "stdout",
     "output_type": "stream",
     "text": [
      "Acta Physica Polonica. A has homepage_url and type journal\n"
     ]
    },
    {
     "name": "stderr",
     "output_type": "stream",
     "text": [
      " 31%|█████████████████████▊                                                | 484/1556 [04:12<09:53,  1.81it/s]"
     ]
    },
    {
     "name": "stdout",
     "output_type": "stream",
     "text": [
      "Sustainable computing has homepage_url and type journal\n"
     ]
    },
    {
     "name": "stderr",
     "output_type": "stream",
     "text": [
      " 31%|█████████████████████▊                                                | 486/1556 [04:13<09:09,  1.95it/s]"
     ]
    },
    {
     "name": "stdout",
     "output_type": "stream",
     "text": [
      "IEEE transactions on aerospace and electronic systems has homepage_url and type journal\n"
     ]
    },
    {
     "name": "stderr",
     "output_type": "stream",
     "text": [
      " 31%|█████████████████████▉                                                | 487/1556 [04:13<09:00,  1.98it/s]"
     ]
    },
    {
     "name": "stdout",
     "output_type": "stream",
     "text": [
      "Computer-aided chemical engineering/Computer aided chemical engineering has homepage_url and type book series\n"
     ]
    },
    {
     "name": "stderr",
     "output_type": "stream",
     "text": [
      " 31%|█████████████████████▉                                                | 488/1556 [04:14<10:16,  1.73it/s]"
     ]
    },
    {
     "name": "stdout",
     "output_type": "stream",
     "text": [
      "Biosystems has homepage_url and type journal\n"
     ]
    },
    {
     "name": "stderr",
     "output_type": "stream",
     "text": [
      " 31%|█████████████████████▉                                                | 489/1556 [04:14<09:32,  1.86it/s]"
     ]
    },
    {
     "name": "stdout",
     "output_type": "stream",
     "text": [
      "Communications in computer and information science has homepage_url and type book series\n"
     ]
    },
    {
     "name": "stderr",
     "output_type": "stream",
     "text": [
      " 31%|██████████████████████                                                | 490/1556 [04:15<10:31,  1.69it/s]"
     ]
    },
    {
     "name": "stdout",
     "output_type": "stream",
     "text": [
      "Journal of software has homepage_url and type journal\n"
     ]
    },
    {
     "name": "stderr",
     "output_type": "stream",
     "text": [
      " 32%|██████████████████████                                                | 491/1556 [04:15<10:01,  1.77it/s]"
     ]
    },
    {
     "name": "stdout",
     "output_type": "stream",
     "text": [
      "Journal of artificial intelligence research/The journal of artificial intelligence research has homepage_url and type journal\n"
     ]
    },
    {
     "name": "stderr",
     "output_type": "stream",
     "text": [
      " 32%|██████████████████████▏                                               | 492/1556 [04:16<09:30,  1.86it/s]"
     ]
    },
    {
     "name": "stdout",
     "output_type": "stream",
     "text": [
      "Journal of physics. Complexity has homepage_url and type journal\n"
     ]
    },
    {
     "name": "stderr",
     "output_type": "stream",
     "text": [
      " 32%|██████████████████████▏                                               | 493/1556 [04:16<09:25,  1.88it/s]"
     ]
    },
    {
     "name": "stdout",
     "output_type": "stream",
     "text": [
      "Harvard Data Science Review has homepage_url and type journal\n"
     ]
    },
    {
     "name": "stderr",
     "output_type": "stream",
     "text": [
      " 32%|██████████████████████▏                                               | 494/1556 [04:17<10:29,  1.69it/s]"
     ]
    },
    {
     "name": "stdout",
     "output_type": "stream",
     "text": [
      "Carbon has homepage_url and type journal\n"
     ]
    },
    {
     "name": "stderr",
     "output_type": "stream",
     "text": [
      " 32%|██████████████████████▎                                               | 495/1556 [04:18<10:03,  1.76it/s]"
     ]
    },
    {
     "name": "stdout",
     "output_type": "stream",
     "text": [
      "Angewandte Chemie has homepage_url and type journal\n"
     ]
    },
    {
     "name": "stderr",
     "output_type": "stream",
     "text": [
      " 32%|██████████████████████▎                                               | 496/1556 [04:18<09:46,  1.81it/s]"
     ]
    },
    {
     "name": "stdout",
     "output_type": "stream",
     "text": [
      "International journal of remote sensing has homepage_url and type journal\n"
     ]
    },
    {
     "name": "stderr",
     "output_type": "stream",
     "text": [
      " 32%|██████████████████████▎                                               | 497/1556 [04:19<09:14,  1.91it/s]"
     ]
    },
    {
     "name": "stdout",
     "output_type": "stream",
     "text": [
      "Studies in big data has homepage_url and type book series\n"
     ]
    },
    {
     "name": "stderr",
     "output_type": "stream",
     "text": [
      " 32%|██████████████████████▍                                               | 500/1556 [04:20<08:27,  2.08it/s]"
     ]
    },
    {
     "name": "stdout",
     "output_type": "stream",
     "text": [
      "Evolutionary intelligence has homepage_url and type journal\n"
     ]
    },
    {
     "name": "stderr",
     "output_type": "stream",
     "text": [
      " 32%|██████████████████████▌                                               | 501/1556 [04:21<08:53,  1.98it/s]"
     ]
    },
    {
     "name": "stdout",
     "output_type": "stream",
     "text": [
      "IEEE transactions on control of network systems has homepage_url and type journal\n"
     ]
    },
    {
     "name": "stderr",
     "output_type": "stream",
     "text": [
      " 32%|██████████████████████▌                                               | 502/1556 [04:21<08:57,  1.96it/s]"
     ]
    },
    {
     "name": "stdout",
     "output_type": "stream",
     "text": [
      "Discrete applied mathematics has homepage_url and type journal\n"
     ]
    },
    {
     "name": "stderr",
     "output_type": "stream",
     "text": [
      " 32%|██████████████████████▋                                               | 504/1556 [04:22<08:36,  2.04it/s]"
     ]
    },
    {
     "name": "stdout",
     "output_type": "stream",
     "text": [
      "IEEE transactions on visualization and computer graphics has homepage_url and type journal\n"
     ]
    },
    {
     "name": "stderr",
     "output_type": "stream",
     "text": [
      " 32%|██████████████████████▋                                               | 505/1556 [04:23<08:35,  2.04it/s]"
     ]
    },
    {
     "name": "stdout",
     "output_type": "stream",
     "text": [
      "International journal of quantum information has homepage_url and type journal\n"
     ]
    },
    {
     "name": "stderr",
     "output_type": "stream",
     "text": [
      " 33%|██████████████████████▊                                               | 506/1556 [04:23<08:25,  2.08it/s]"
     ]
    },
    {
     "name": "stdout",
     "output_type": "stream",
     "text": [
      "Robotics and autonomous systems has homepage_url and type journal\n"
     ]
    },
    {
     "name": "stderr",
     "output_type": "stream",
     "text": [
      " 33%|██████████████████████▊                                               | 507/1556 [04:24<08:22,  2.09it/s]"
     ]
    },
    {
     "name": "stdout",
     "output_type": "stream",
     "text": [
      "International journal of circuit theory and applications has homepage_url and type journal\n"
     ]
    },
    {
     "name": "stderr",
     "output_type": "stream",
     "text": [
      " 33%|██████████████████████▊                                               | 508/1556 [04:24<08:28,  2.06it/s]"
     ]
    },
    {
     "name": "stdout",
     "output_type": "stream",
     "text": [
      "IEEE transactions on automatic control has homepage_url and type journal\n"
     ]
    },
    {
     "name": "stderr",
     "output_type": "stream",
     "text": [
      " 33%|██████████████████████▉                                               | 509/1556 [04:25<08:30,  2.05it/s]"
     ]
    },
    {
     "name": "stdout",
     "output_type": "stream",
     "text": [
      "ACM transactions on software engineering and methodology has homepage_url and type journal\n"
     ]
    },
    {
     "name": "stderr",
     "output_type": "stream",
     "text": [
      " 33%|██████████████████████▉                                               | 510/1556 [04:25<09:58,  1.75it/s]"
     ]
    },
    {
     "name": "stdout",
     "output_type": "stream",
     "text": [
      "Condensed matter has homepage_url and type journal\n"
     ]
    },
    {
     "name": "stderr",
     "output_type": "stream",
     "text": [
      " 33%|██████████████████████▉                                               | 511/1556 [04:26<09:23,  1.85it/s]"
     ]
    },
    {
     "name": "stdout",
     "output_type": "stream",
     "text": [
      "Results in control and optimization has homepage_url and type journal\n"
     ]
    },
    {
     "name": "stderr",
     "output_type": "stream",
     "text": [
      " 33%|███████████████████████                                               | 512/1556 [04:26<09:01,  1.93it/s]"
     ]
    },
    {
     "name": "stdout",
     "output_type": "stream",
     "text": [
      "Journal of the Korean Physical Society has homepage_url and type journal\n"
     ]
    },
    {
     "name": "stderr",
     "output_type": "stream",
     "text": [
      " 33%|███████████████████████                                               | 513/1556 [04:27<08:47,  1.98it/s]"
     ]
    },
    {
     "name": "stdout",
     "output_type": "stream",
     "text": [
      "Studies in computational intelligence has homepage_url and type book series\n"
     ]
    },
    {
     "name": "stderr",
     "output_type": "stream",
     "text": [
      " 33%|███████████████████████                                               | 514/1556 [04:27<10:03,  1.73it/s]"
     ]
    },
    {
     "name": "stdout",
     "output_type": "stream",
     "text": [
      "Journal of computational science has homepage_url and type journal\n"
     ]
    },
    {
     "name": "stderr",
     "output_type": "stream",
     "text": [
      " 33%|███████████████████████▏                                              | 515/1556 [04:28<09:35,  1.81it/s]"
     ]
    },
    {
     "name": "stdout",
     "output_type": "stream",
     "text": [
      "IEICE transactions on information and systems has homepage_url and type journal\n"
     ]
    },
    {
     "name": "stderr",
     "output_type": "stream",
     "text": [
      " 33%|███████████████████████▏                                              | 516/1556 [04:28<09:22,  1.85it/s]"
     ]
    },
    {
     "name": "stdout",
     "output_type": "stream",
     "text": [
      "Microprocessors and microsystems has homepage_url and type journal\n"
     ]
    },
    {
     "name": "stderr",
     "output_type": "stream",
     "text": [
      " 33%|███████████████████████▎                                              | 518/1556 [04:30<10:13,  1.69it/s]"
     ]
    },
    {
     "name": "stdout",
     "output_type": "stream",
     "text": [
      "Journal of engineering design has homepage_url and type journal\n"
     ]
    },
    {
     "name": "stderr",
     "output_type": "stream",
     "text": [
      " 33%|███████████████████████▎                                              | 519/1556 [04:30<09:40,  1.79it/s]"
     ]
    },
    {
     "name": "stdout",
     "output_type": "stream",
     "text": [
      "Lecture notes on data engineering and communications technologies has homepage_url and type book series\n"
     ]
    },
    {
     "name": "stderr",
     "output_type": "stream",
     "text": [
      " 33%|███████████████████████▍                                              | 520/1556 [04:31<09:19,  1.85it/s]"
     ]
    },
    {
     "name": "stdout",
     "output_type": "stream",
     "text": [
      "Engineering applications of artificial intelligence has homepage_url and type journal\n"
     ]
    },
    {
     "name": "stderr",
     "output_type": "stream",
     "text": [
      " 33%|███████████████████████▍                                              | 521/1556 [04:31<08:54,  1.94it/s]"
     ]
    },
    {
     "name": "stdout",
     "output_type": "stream",
     "text": [
      "Results in applied mathematics has homepage_url and type journal\n"
     ]
    },
    {
     "name": "stderr",
     "output_type": "stream",
     "text": [
      " 34%|███████████████████████▍                                              | 522/1556 [04:32<08:40,  1.99it/s]"
     ]
    },
    {
     "name": "stdout",
     "output_type": "stream",
     "text": [
      "Computer graphics forum has homepage_url and type journal\n"
     ]
    },
    {
     "name": "stderr",
     "output_type": "stream",
     "text": [
      " 34%|███████████████████████▌                                              | 523/1556 [04:32<08:33,  2.01it/s]"
     ]
    },
    {
     "name": "stdout",
     "output_type": "stream",
     "text": [
      "Signal processing. Image communication has homepage_url and type journal\n"
     ]
    },
    {
     "name": "stderr",
     "output_type": "stream",
     "text": [
      " 34%|███████████████████████▌                                              | 524/1556 [04:33<08:50,  1.94it/s]"
     ]
    },
    {
     "name": "stdout",
     "output_type": "stream",
     "text": [
      "PRIMUS has homepage_url and type journal\n"
     ]
    },
    {
     "name": "stderr",
     "output_type": "stream",
     "text": [
      " 34%|███████████████████████▌                                              | 525/1556 [04:33<10:21,  1.66it/s]"
     ]
    },
    {
     "name": "stdout",
     "output_type": "stream",
     "text": [
      "The Innovation has homepage_url and type journal\n"
     ]
    },
    {
     "name": "stderr",
     "output_type": "stream",
     "text": [
      " 34%|███████████████████████▋                                              | 526/1556 [04:34<11:07,  1.54it/s]"
     ]
    },
    {
     "name": "stdout",
     "output_type": "stream",
     "text": [
      "Theoretical computer science has homepage_url and type journal\n"
     ]
    },
    {
     "name": "stderr",
     "output_type": "stream",
     "text": [
      " 34%|███████████████████████▊                                              | 528/1556 [04:35<09:26,  1.81it/s]"
     ]
    },
    {
     "name": "stdout",
     "output_type": "stream",
     "text": [
      "Authorea (Authorea) has homepage_url and type repository\n"
     ]
    },
    {
     "name": "stderr",
     "output_type": "stream",
     "text": [
      " 34%|███████████████████████▊                                              | 529/1556 [04:36<10:36,  1.61it/s]"
     ]
    },
    {
     "name": "stdout",
     "output_type": "stream",
     "text": [
      "Crystals has homepage_url and type journal\n"
     ]
    },
    {
     "name": "stderr",
     "output_type": "stream",
     "text": [
      " 34%|███████████████████████▊                                              | 530/1556 [04:36<09:46,  1.75it/s]"
     ]
    },
    {
     "name": "stdout",
     "output_type": "stream",
     "text": [
      "IEEE open journal of circuits and systems has homepage_url and type journal\n"
     ]
    },
    {
     "name": "stderr",
     "output_type": "stream",
     "text": [
      " 34%|███████████████████████▉                                              | 531/1556 [04:37<09:12,  1.86it/s]"
     ]
    },
    {
     "name": "stdout",
     "output_type": "stream",
     "text": [
      "IEEE transactions on very large scale integration (VLSI) systems has homepage_url and type journal\n"
     ]
    },
    {
     "name": "stderr",
     "output_type": "stream",
     "text": [
      " 34%|███████████████████████▉                                              | 532/1556 [04:37<08:51,  1.92it/s]"
     ]
    },
    {
     "name": "stdout",
     "output_type": "stream",
     "text": [
      "Electronic structure has homepage_url and type journal\n"
     ]
    },
    {
     "name": "stderr",
     "output_type": "stream",
     "text": [
      " 34%|███████████████████████▉                                              | 533/1556 [04:38<08:32,  2.00it/s]"
     ]
    },
    {
     "name": "stdout",
     "output_type": "stream",
     "text": [
      "IEEE computer architecture letters has homepage_url and type journal\n"
     ]
    },
    {
     "name": "stderr",
     "output_type": "stream",
     "text": [
      " 34%|████████████████████████                                              | 534/1556 [04:38<08:30,  2.00it/s]"
     ]
    },
    {
     "name": "stdout",
     "output_type": "stream",
     "text": [
      "Frontiers in marine science has homepage_url and type journal\n"
     ]
    },
    {
     "name": "stderr",
     "output_type": "stream",
     "text": [
      " 34%|████████████████████████                                              | 535/1556 [04:39<11:06,  1.53it/s]"
     ]
    },
    {
     "name": "stdout",
     "output_type": "stream",
     "text": [
      "Journal of imaging has homepage_url and type journal\n"
     ]
    },
    {
     "name": "stderr",
     "output_type": "stream",
     "text": [
      " 34%|████████████████████████                                              | 536/1556 [04:40<11:40,  1.46it/s]"
     ]
    },
    {
     "name": "stdout",
     "output_type": "stream",
     "text": [
      "Technologies has homepage_url and type journal\n"
     ]
    },
    {
     "name": "stderr",
     "output_type": "stream",
     "text": [
      " 35%|████████████████████████▏                                             | 537/1556 [04:40<10:36,  1.60it/s]"
     ]
    },
    {
     "name": "stdout",
     "output_type": "stream",
     "text": [
      "IEEE computer graphics and applications has homepage_url and type journal\n"
     ]
    },
    {
     "name": "stderr",
     "output_type": "stream",
     "text": [
      " 35%|████████████████████████▏                                             | 538/1556 [04:41<09:47,  1.73it/s]"
     ]
    },
    {
     "name": "stdout",
     "output_type": "stream",
     "text": [
      "IET blockchain has homepage_url and type journal\n"
     ]
    },
    {
     "name": "stderr",
     "output_type": "stream",
     "text": [
      " 35%|████████████████████████▏                                             | 539/1556 [04:41<09:22,  1.81it/s]"
     ]
    },
    {
     "name": "stdout",
     "output_type": "stream",
     "text": [
      "Frontiers in artificial intelligence has homepage_url and type journal\n"
     ]
    },
    {
     "name": "stderr",
     "output_type": "stream",
     "text": [
      " 35%|████████████████████████▎                                             | 540/1556 [04:42<09:01,  1.88it/s]"
     ]
    },
    {
     "name": "stdout",
     "output_type": "stream",
     "text": [
      "IEEE transactions on knowledge and data engineering has homepage_url and type journal\n"
     ]
    },
    {
     "name": "stderr",
     "output_type": "stream",
     "text": [
      " 35%|████████████████████████▍                                             | 542/1556 [04:43<08:44,  1.94it/s]"
     ]
    },
    {
     "name": "stdout",
     "output_type": "stream",
     "text": [
      "The Journal of logical and algebraic methods in programming/Journal of logical and algebraic methods in programming has homepage_url and type journal\n"
     ]
    },
    {
     "name": "stderr",
     "output_type": "stream",
     "text": [
      " 35%|████████████████████████▍                                             | 544/1556 [04:44<08:12,  2.05it/s]"
     ]
    },
    {
     "name": "stdout",
     "output_type": "stream",
     "text": [
      "IEEE transactions on consumer electronics has homepage_url and type journal\n"
     ]
    },
    {
     "name": "stderr",
     "output_type": "stream",
     "text": [
      " 35%|████████████████████████▌                                             | 546/1556 [04:45<08:03,  2.09it/s]"
     ]
    },
    {
     "name": "stdout",
     "output_type": "stream",
     "text": [
      "Nano communication networks has homepage_url and type journal\n"
     ]
    },
    {
     "name": "stderr",
     "output_type": "stream",
     "text": [
      " 35%|████████████████████████▌                                             | 547/1556 [04:45<08:06,  2.07it/s]"
     ]
    },
    {
     "name": "stdout",
     "output_type": "stream",
     "text": [
      "Journal of computer and system sciences has homepage_url and type journal\n"
     ]
    },
    {
     "name": "stderr",
     "output_type": "stream",
     "text": [
      " 35%|████████████████████████▋                                             | 549/1556 [04:46<07:44,  2.17it/s]"
     ]
    },
    {
     "name": "stdout",
     "output_type": "stream",
     "text": [
      "SoftwareX has homepage_url and type journal\n"
     ]
    },
    {
     "name": "stderr",
     "output_type": "stream",
     "text": [
      " 35%|████████████████████████▋                                             | 550/1556 [04:47<07:42,  2.18it/s]"
     ]
    },
    {
     "name": "stdout",
     "output_type": "stream",
     "text": [
      "Computer methods in applied mechanics and engineering has homepage_url and type journal\n"
     ]
    },
    {
     "name": "stderr",
     "output_type": "stream",
     "text": [
      " 35%|████████████████████████▊                                             | 551/1556 [04:47<08:03,  2.08it/s]"
     ]
    },
    {
     "name": "stdout",
     "output_type": "stream",
     "text": [
      "Extreme mechanics letters has homepage_url and type journal\n"
     ]
    },
    {
     "name": "stderr",
     "output_type": "stream",
     "text": [
      " 36%|████████████████████████▉                                             | 554/1556 [04:48<07:54,  2.11it/s]"
     ]
    },
    {
     "name": "stdout",
     "output_type": "stream",
     "text": [
      "IEEE journal on multiscale and multiphysics computational techniques has homepage_url and type journal\n"
     ]
    },
    {
     "name": "stderr",
     "output_type": "stream",
     "text": [
      " 36%|█████████████████████████                                             | 556/1556 [04:50<08:14,  2.02it/s]"
     ]
    },
    {
     "name": "stdout",
     "output_type": "stream",
     "text": [
      "Electronics letters has homepage_url and type journal\n"
     ]
    },
    {
     "name": "stderr",
     "output_type": "stream",
     "text": [
      " 36%|█████████████████████████                                             | 557/1556 [04:50<07:56,  2.09it/s]"
     ]
    },
    {
     "name": "stdout",
     "output_type": "stream",
     "text": [
      "E3S web of conferences has homepage_url and type journal\n"
     ]
    },
    {
     "name": "stderr",
     "output_type": "stream",
     "text": [
      " 36%|█████████████████████████                                             | 558/1556 [04:50<08:02,  2.07it/s]"
     ]
    },
    {
     "name": "stdout",
     "output_type": "stream",
     "text": [
      "International journal of imaging systems and technology has homepage_url and type journal\n"
     ]
    },
    {
     "name": "stderr",
     "output_type": "stream",
     "text": [
      " 36%|█████████████████████████▏                                            | 559/1556 [04:51<07:51,  2.11it/s]"
     ]
    },
    {
     "name": "stdout",
     "output_type": "stream",
     "text": [
      "bioRxiv (Cold Spring Harbor Laboratory) has homepage_url and type repository\n"
     ]
    },
    {
     "name": "stderr",
     "output_type": "stream",
     "text": [
      " 36%|█████████████████████████▏                                            | 560/1556 [04:51<07:57,  2.09it/s]"
     ]
    },
    {
     "name": "stdout",
     "output_type": "stream",
     "text": [
      "Automatisierungstechnik has homepage_url and type journal\n"
     ]
    },
    {
     "name": "stderr",
     "output_type": "stream",
     "text": [
      " 36%|█████████████████████████▏                                            | 561/1556 [04:52<08:13,  2.02it/s]"
     ]
    },
    {
     "name": "stdout",
     "output_type": "stream",
     "text": [
      "Journal of computational physics has homepage_url and type journal\n"
     ]
    },
    {
     "name": "stderr",
     "output_type": "stream",
     "text": [
      " 36%|█████████████████████████▎                                            | 562/1556 [04:52<08:10,  2.02it/s]"
     ]
    },
    {
     "name": "stdout",
     "output_type": "stream",
     "text": [
      "Physica status solidi. Rapid research letters has homepage_url and type journal\n"
     ]
    },
    {
     "name": "stderr",
     "output_type": "stream",
     "text": [
      " 36%|█████████████████████████▎                                            | 563/1556 [04:53<08:05,  2.04it/s]"
     ]
    },
    {
     "name": "stdout",
     "output_type": "stream",
     "text": [
      "Cogent engineering has homepage_url and type journal\n"
     ]
    },
    {
     "name": "stderr",
     "output_type": "stream",
     "text": [
      " 36%|█████████████████████████▍                                            | 565/1556 [04:54<07:40,  2.15it/s]"
     ]
    },
    {
     "name": "stdout",
     "output_type": "stream",
     "text": [
      "Axioms has homepage_url and type journal\n"
     ]
    },
    {
     "name": "stderr",
     "output_type": "stream",
     "text": [
      " 36%|█████████████████████████▍                                            | 566/1556 [04:54<07:43,  2.13it/s]"
     ]
    },
    {
     "name": "stdout",
     "output_type": "stream",
     "text": [
      "PhotonicsViews has homepage_url and type journal\n"
     ]
    },
    {
     "name": "stderr",
     "output_type": "stream",
     "text": [
      " 36%|█████████████████████████▌                                            | 567/1556 [04:55<07:36,  2.17it/s]"
     ]
    },
    {
     "name": "stdout",
     "output_type": "stream",
     "text": [
      "Journal of geophysics and engineering has homepage_url and type journal\n"
     ]
    },
    {
     "name": "stderr",
     "output_type": "stream",
     "text": [
      " 37%|█████████████████████████▌                                            | 568/1556 [04:55<07:42,  2.13it/s]"
     ]
    },
    {
     "name": "stdout",
     "output_type": "stream",
     "text": [
      "Biographical memoirs of Fellows of the Royal Society has homepage_url and type journal\n"
     ]
    },
    {
     "name": "stderr",
     "output_type": "stream",
     "text": [
      " 37%|█████████████████████████▌                                            | 569/1556 [04:56<08:34,  1.92it/s]"
     ]
    },
    {
     "name": "stdout",
     "output_type": "stream",
     "text": [
      "Brain sciences has homepage_url and type journal\n"
     ]
    },
    {
     "name": "stderr",
     "output_type": "stream",
     "text": [
      " 37%|█████████████████████████▋                                            | 571/1556 [04:57<08:07,  2.02it/s]"
     ]
    },
    {
     "name": "stdout",
     "output_type": "stream",
     "text": [
      "Measurement. Sensors has homepage_url and type journal\n"
     ]
    },
    {
     "name": "stderr",
     "output_type": "stream",
     "text": [
      " 37%|█████████████████████████▋                                            | 572/1556 [04:57<08:09,  2.01it/s]"
     ]
    },
    {
     "name": "stdout",
     "output_type": "stream",
     "text": [
      "ECTI Transactions on Computer and Information Technology has homepage_url and type journal\n"
     ]
    },
    {
     "name": "stderr",
     "output_type": "stream",
     "text": [
      " 37%|█████████████████████████▊                                            | 573/1556 [04:58<08:03,  2.03it/s]"
     ]
    },
    {
     "name": "stdout",
     "output_type": "stream",
     "text": [
      "Journal of statistical physics has homepage_url and type journal\n"
     ]
    },
    {
     "name": "stderr",
     "output_type": "stream",
     "text": [
      " 37%|█████████████████████████▊                                            | 574/1556 [04:58<08:11,  2.00it/s]"
     ]
    },
    {
     "name": "stdout",
     "output_type": "stream",
     "text": [
      "European journal of physics has homepage_url and type journal\n"
     ]
    },
    {
     "name": "stderr",
     "output_type": "stream",
     "text": [
      " 37%|█████████████████████████▊                                            | 575/1556 [04:59<08:15,  1.98it/s]"
     ]
    },
    {
     "name": "stdout",
     "output_type": "stream",
     "text": [
      "International journal of analysis and applications has homepage_url and type journal\n"
     ]
    },
    {
     "name": "stderr",
     "output_type": "stream",
     "text": [
      " 37%|█████████████████████████▉                                            | 576/1556 [04:59<07:57,  2.05it/s]"
     ]
    },
    {
     "name": "stdout",
     "output_type": "stream",
     "text": [
      "Procedia CIRP has homepage_url and type journal\n"
     ]
    },
    {
     "name": "stderr",
     "output_type": "stream",
     "text": [
      " 37%|█████████████████████████▉                                            | 577/1556 [05:00<07:56,  2.05it/s]"
     ]
    },
    {
     "name": "stdout",
     "output_type": "stream",
     "text": [
      "ICST transactions on energy web has homepage_url and type journal\n"
     ]
    },
    {
     "name": "stderr",
     "output_type": "stream",
     "text": [
      " 37%|██████████████████████████                                            | 578/1556 [05:00<07:58,  2.04it/s]"
     ]
    },
    {
     "name": "stdout",
     "output_type": "stream",
     "text": [
      "IEEE transactions on microwave theory and techniques has homepage_url and type journal\n"
     ]
    },
    {
     "name": "stderr",
     "output_type": "stream",
     "text": [
      " 37%|██████████████████████████▏                                           | 581/1556 [05:02<07:33,  2.15it/s]"
     ]
    },
    {
     "name": "stdout",
     "output_type": "stream",
     "text": [
      "Journal of cyber security technology has homepage_url and type journal\n"
     ]
    },
    {
     "name": "stderr",
     "output_type": "stream",
     "text": [
      " 37%|██████████████████████████▏                                           | 583/1556 [05:02<07:30,  2.16it/s]"
     ]
    },
    {
     "name": "stdout",
     "output_type": "stream",
     "text": [
      "Computers and electronics in agriculture has homepage_url and type journal\n"
     ]
    },
    {
     "name": "stderr",
     "output_type": "stream",
     "text": [
      " 38%|██████████████████████████▎                                           | 584/1556 [05:03<07:36,  2.13it/s]"
     ]
    },
    {
     "name": "stdout",
     "output_type": "stream",
     "text": [
      "ACS omega has homepage_url and type journal\n"
     ]
    },
    {
     "name": "stderr",
     "output_type": "stream",
     "text": [
      " 38%|██████████████████████████▎                                           | 585/1556 [05:03<07:43,  2.09it/s]"
     ]
    },
    {
     "name": "stdout",
     "output_type": "stream",
     "text": [
      "Wiley interdisciplinary reviews. Computational statistics has homepage_url and type journal\n"
     ]
    },
    {
     "name": "stderr",
     "output_type": "stream",
     "text": [
      " 38%|██████████████████████████▍                                           | 588/1556 [05:05<07:51,  2.05it/s]"
     ]
    },
    {
     "name": "stdout",
     "output_type": "stream",
     "text": [
      "AIMS mathematics has homepage_url and type journal\n"
     ]
    },
    {
     "name": "stderr",
     "output_type": "stream",
     "text": [
      " 38%|██████████████████████████▍                                           | 589/1556 [05:05<07:54,  2.04it/s]"
     ]
    },
    {
     "name": "stdout",
     "output_type": "stream",
     "text": [
      "Materials science in semiconductor processing has homepage_url and type journal\n"
     ]
    },
    {
     "name": "stderr",
     "output_type": "stream",
     "text": [
      " 38%|██████████████████████████▌                                           | 591/1556 [05:06<07:47,  2.06it/s]"
     ]
    },
    {
     "name": "stdout",
     "output_type": "stream",
     "text": [
      "Journal of medical systems has homepage_url and type journal\n"
     ]
    },
    {
     "name": "stderr",
     "output_type": "stream",
     "text": [
      " 38%|██████████████████████████▋                                           | 592/1556 [05:07<08:58,  1.79it/s]"
     ]
    },
    {
     "name": "stdout",
     "output_type": "stream",
     "text": [
      "Physics education has homepage_url and type journal\n"
     ]
    },
    {
     "name": "stderr",
     "output_type": "stream",
     "text": [
      " 38%|██████████████████████████▋                                           | 593/1556 [05:08<08:37,  1.86it/s]"
     ]
    },
    {
     "name": "stdout",
     "output_type": "stream",
     "text": [
      "Quantum studies has homepage_url and type journal\n"
     ]
    },
    {
     "name": "stderr",
     "output_type": "stream",
     "text": [
      " 38%|██████████████████████████▊                                           | 595/1556 [05:09<09:18,  1.72it/s]"
     ]
    },
    {
     "name": "stdout",
     "output_type": "stream",
     "text": [
      "Signal processing has homepage_url and type journal\n"
     ]
    },
    {
     "name": "stderr",
     "output_type": "stream",
     "text": [
      " 38%|██████████████████████████▊                                           | 597/1556 [05:10<08:41,  1.84it/s]"
     ]
    },
    {
     "name": "stdout",
     "output_type": "stream",
     "text": [
      "Nano convergence has homepage_url and type journal\n"
     ]
    },
    {
     "name": "stderr",
     "output_type": "stream",
     "text": [
      " 38%|██████████████████████████▉                                           | 598/1556 [05:10<08:27,  1.89it/s]"
     ]
    },
    {
     "name": "stdout",
     "output_type": "stream",
     "text": [
      "Datenbank-Spektrum has homepage_url and type journal\n"
     ]
    },
    {
     "name": "stderr",
     "output_type": "stream",
     "text": [
      " 39%|███████████████████████████                                           | 601/1556 [05:12<07:49,  2.04it/s]"
     ]
    },
    {
     "name": "stdout",
     "output_type": "stream",
     "text": [
      "Bio web of conferences/BIO web of conferences has homepage_url and type journal\n"
     ]
    },
    {
     "name": "stderr",
     "output_type": "stream",
     "text": [
      " 39%|███████████████████████████                                           | 602/1556 [05:12<07:44,  2.05it/s]"
     ]
    },
    {
     "name": "stdout",
     "output_type": "stream",
     "text": [
      "Connection science has homepage_url and type journal\n"
     ]
    },
    {
     "name": "stderr",
     "output_type": "stream",
     "text": [
      " 39%|███████████████████████████▏                                          | 603/1556 [05:13<07:41,  2.07it/s]"
     ]
    },
    {
     "name": "stdout",
     "output_type": "stream",
     "text": [
      "Micromachines has homepage_url and type journal\n"
     ]
    },
    {
     "name": "stderr",
     "output_type": "stream",
     "text": [
      " 39%|███████████████████████████▏                                          | 605/1556 [05:14<07:47,  2.03it/s]"
     ]
    },
    {
     "name": "stdout",
     "output_type": "stream",
     "text": [
      "Zenodo (CERN European Organization for Nuclear Research) has homepage_url and type repository\n"
     ]
    },
    {
     "name": "stderr",
     "output_type": "stream",
     "text": [
      " 39%|███████████████████████████▎                                          | 607/1556 [05:15<07:26,  2.13it/s]"
     ]
    },
    {
     "name": "stdout",
     "output_type": "stream",
     "text": [
      "Foundations of data science has homepage_url and type journal\n"
     ]
    },
    {
     "name": "stderr",
     "output_type": "stream",
     "text": [
      " 39%|███████████████████████████▎                                          | 608/1556 [05:15<07:27,  2.12it/s]"
     ]
    },
    {
     "name": "stdout",
     "output_type": "stream",
     "text": [
      "Linear algebra and its applications has homepage_url and type journal\n"
     ]
    },
    {
     "name": "stderr",
     "output_type": "stream",
     "text": [
      " 39%|███████████████████████████▍                                          | 611/1556 [05:17<08:21,  1.88it/s]"
     ]
    },
    {
     "name": "stdout",
     "output_type": "stream",
     "text": [
      "Measurement has homepage_url and type journal\n"
     ]
    },
    {
     "name": "stderr",
     "output_type": "stream",
     "text": [
      " 39%|███████████████████████████▌                                          | 612/1556 [05:17<07:56,  1.98it/s]"
     ]
    },
    {
     "name": "stdout",
     "output_type": "stream",
     "text": [
      "Cell reports. Methods has homepage_url and type journal\n"
     ]
    },
    {
     "name": "stderr",
     "output_type": "stream",
     "text": [
      " 39%|███████████████████████████▌                                          | 613/1556 [05:18<07:55,  1.98it/s]"
     ]
    },
    {
     "name": "stdout",
     "output_type": "stream",
     "text": [
      "Automated software engineering has homepage_url and type journal\n"
     ]
    },
    {
     "name": "stderr",
     "output_type": "stream",
     "text": [
      " 39%|███████████████████████████▌                                          | 614/1556 [05:18<07:51,  2.00it/s]"
     ]
    },
    {
     "name": "stdout",
     "output_type": "stream",
     "text": [
      "European journal of combinatorics has homepage_url and type journal\n"
     ]
    },
    {
     "name": "stderr",
     "output_type": "stream",
     "text": [
      " 40%|███████████████████████████▋                                          | 615/1556 [05:19<07:50,  2.00it/s]"
     ]
    },
    {
     "name": "stdout",
     "output_type": "stream",
     "text": [
      "SIAM journal on optimization has homepage_url and type journal\n"
     ]
    },
    {
     "name": "stderr",
     "output_type": "stream",
     "text": [
      " 40%|███████████████████████████▋                                          | 616/1556 [05:19<09:18,  1.68it/s]"
     ]
    },
    {
     "name": "stdout",
     "output_type": "stream",
     "text": [
      "Signals has homepage_url and type journal\n"
     ]
    },
    {
     "name": "stderr",
     "output_type": "stream",
     "text": [
      " 40%|███████████████████████████▊                                          | 618/1556 [05:20<08:29,  1.84it/s]"
     ]
    },
    {
     "name": "stdout",
     "output_type": "stream",
     "text": [
      "Arabian journal for science and engineering has homepage_url and type journal\n"
     ]
    },
    {
     "name": "stderr",
     "output_type": "stream",
     "text": [
      " 40%|███████████████████████████▉                                          | 620/1556 [05:21<07:59,  1.95it/s]"
     ]
    },
    {
     "name": "stdout",
     "output_type": "stream",
     "text": [
      "Concurrency and computation has homepage_url and type journal\n"
     ]
    },
    {
     "name": "stderr",
     "output_type": "stream",
     "text": [
      " 40%|███████████████████████████▉                                          | 621/1556 [05:22<07:57,  1.96it/s]"
     ]
    },
    {
     "name": "stdout",
     "output_type": "stream",
     "text": [
      "Drug discovery today has homepage_url and type journal\n"
     ]
    },
    {
     "name": "stderr",
     "output_type": "stream",
     "text": [
      " 40%|███████████████████████████▉                                          | 622/1556 [05:22<08:21,  1.86it/s]"
     ]
    },
    {
     "name": "stdout",
     "output_type": "stream",
     "text": [
      "Chaos has homepage_url and type journal\n"
     ]
    },
    {
     "name": "stderr",
     "output_type": "stream",
     "text": [
      " 40%|████████████████████████████                                          | 624/1556 [05:23<07:34,  2.05it/s]"
     ]
    },
    {
     "name": "stdout",
     "output_type": "stream",
     "text": [
      "Asian journal of convergence in technology has homepage_url and type journal\n"
     ]
    },
    {
     "name": "stderr",
     "output_type": "stream",
     "text": [
      " 40%|████████████████████████████▏                                         | 627/1556 [05:25<07:11,  2.15it/s]"
     ]
    },
    {
     "name": "stdout",
     "output_type": "stream",
     "text": [
      "Advances in applied energy has homepage_url and type journal\n"
     ]
    },
    {
     "name": "stderr",
     "output_type": "stream",
     "text": [
      " 40%|████████████████████████████▎                                         | 628/1556 [05:25<07:06,  2.18it/s]"
     ]
    },
    {
     "name": "stdout",
     "output_type": "stream",
     "text": [
      "IAIC Transactions on Sustainable Digital Innovation has homepage_url and type journal\n"
     ]
    },
    {
     "name": "stderr",
     "output_type": "stream",
     "text": [
      " 40%|████████████████████████████▎                                         | 629/1556 [05:26<06:54,  2.23it/s]"
     ]
    },
    {
     "name": "stdout",
     "output_type": "stream",
     "text": [
      "Modern physics letters B has homepage_url and type journal\n"
     ]
    },
    {
     "name": "stderr",
     "output_type": "stream",
     "text": [
      " 40%|████████████████████████████▎                                         | 630/1556 [05:26<06:50,  2.26it/s]"
     ]
    },
    {
     "name": "stdout",
     "output_type": "stream",
     "text": [
      "Naučnaâ vizualizaciâ has homepage_url and type journal\n"
     ]
    },
    {
     "name": "stderr",
     "output_type": "stream",
     "text": [
      " 41%|████████████████████████████▍                                         | 631/1556 [05:26<06:58,  2.21it/s]"
     ]
    },
    {
     "name": "stdout",
     "output_type": "stream",
     "text": [
      "Current opinion in structural biology has homepage_url and type journal\n"
     ]
    },
    {
     "name": "stderr",
     "output_type": "stream",
     "text": [
      " 41%|████████████████████████████▌                                         | 634/1556 [05:28<07:34,  2.03it/s]"
     ]
    },
    {
     "name": "stdout",
     "output_type": "stream",
     "text": [
      "Bulletin des sciences mathématiques has homepage_url and type journal\n"
     ]
    },
    {
     "name": "stderr",
     "output_type": "stream",
     "text": [
      " 41%|████████████████████████████▌                                         | 635/1556 [05:29<07:35,  2.02it/s]"
     ]
    },
    {
     "name": "stdout",
     "output_type": "stream",
     "text": [
      "Nuclear physics. A has homepage_url and type journal\n"
     ]
    },
    {
     "name": "stderr",
     "output_type": "stream",
     "text": [
      " 41%|████████████████████████████▋                                         | 638/1556 [05:30<07:08,  2.14it/s]"
     ]
    },
    {
     "name": "stdout",
     "output_type": "stream",
     "text": [
      "Journal of mathematical cryptology has homepage_url and type journal\n"
     ]
    },
    {
     "name": "stderr",
     "output_type": "stream",
     "text": [
      " 41%|████████████████████████████▊                                         | 640/1556 [05:31<06:56,  2.20it/s]"
     ]
    },
    {
     "name": "stdout",
     "output_type": "stream",
     "text": [
      "Computational optimization and applications has homepage_url and type journal\n"
     ]
    },
    {
     "name": "stderr",
     "output_type": "stream",
     "text": [
      " 41%|████████████████████████████▉                                         | 642/1556 [05:32<06:47,  2.24it/s]"
     ]
    },
    {
     "name": "stdout",
     "output_type": "stream",
     "text": [
      "Science of computer programming has homepage_url and type journal\n"
     ]
    },
    {
     "name": "stderr",
     "output_type": "stream",
     "text": [
      " 41%|████████████████████████████▉                                         | 643/1556 [05:32<07:47,  1.95it/s]"
     ]
    },
    {
     "name": "stdout",
     "output_type": "stream",
     "text": [
      "Performance evaluation has homepage_url and type journal\n"
     ]
    },
    {
     "name": "stderr",
     "output_type": "stream",
     "text": [
      " 41%|█████████████████████████████                                         | 645/1556 [05:33<07:45,  1.96it/s]"
     ]
    },
    {
     "name": "stdout",
     "output_type": "stream",
     "text": [
      "IEICE transactions on electronics has homepage_url and type journal\n"
     ]
    },
    {
     "name": "stderr",
     "output_type": "stream",
     "text": [
      " 42%|█████████████████████████████                                         | 646/1556 [05:34<07:31,  2.01it/s]"
     ]
    },
    {
     "name": "stdout",
     "output_type": "stream",
     "text": [
      "Annual review of statistics and its application has homepage_url and type journal\n"
     ]
    },
    {
     "name": "stderr",
     "output_type": "stream",
     "text": [
      " 42%|█████████████████████████████▏                                        | 648/1556 [05:35<07:24,  2.04it/s]"
     ]
    },
    {
     "name": "stdout",
     "output_type": "stream",
     "text": [
      "Open Computer Science has homepage_url and type journal\n"
     ]
    },
    {
     "name": "stderr",
     "output_type": "stream",
     "text": [
      " 42%|█████████████████████████████▌                                        | 656/1556 [05:39<07:15,  2.07it/s]"
     ]
    },
    {
     "name": "stdout",
     "output_type": "stream",
     "text": [
      "Journal of global optimization has homepage_url and type journal\n"
     ]
    },
    {
     "name": "stderr",
     "output_type": "stream",
     "text": [
      " 42%|█████████████████████████████▌                                        | 657/1556 [05:39<07:57,  1.88it/s]"
     ]
    },
    {
     "name": "stdout",
     "output_type": "stream",
     "text": [
      "Frontiers in chemistry has homepage_url and type journal\n"
     ]
    },
    {
     "name": "stderr",
     "output_type": "stream",
     "text": [
      " 42%|█████████████████████████████▋                                        | 659/1556 [05:40<07:21,  2.03it/s]"
     ]
    },
    {
     "name": "stdout",
     "output_type": "stream",
     "text": [
      "IEEE photonics journal has homepage_url and type journal\n"
     ]
    },
    {
     "name": "stderr",
     "output_type": "stream",
     "text": [
      " 42%|█████████████████████████████▋                                        | 660/1556 [05:41<07:15,  2.06it/s]"
     ]
    },
    {
     "name": "stdout",
     "output_type": "stream",
     "text": [
      "IEEE communications standards magazine has homepage_url and type journal\n"
     ]
    },
    {
     "name": "stderr",
     "output_type": "stream",
     "text": [
      " 42%|█████████████████████████████▋                                        | 661/1556 [05:41<07:06,  2.10it/s]"
     ]
    },
    {
     "name": "stdout",
     "output_type": "stream",
     "text": [
      "Software impacts has homepage_url and type journal\n"
     ]
    },
    {
     "name": "stderr",
     "output_type": "stream",
     "text": [
      " 43%|█████████████████████████████▊                                        | 662/1556 [05:42<06:57,  2.14it/s]"
     ]
    },
    {
     "name": "stdout",
     "output_type": "stream",
     "text": [
      "Human-intelligent systems integration/Human-Intelligent Systems Integration has homepage_url and type journal\n"
     ]
    },
    {
     "name": "stderr",
     "output_type": "stream",
     "text": [
      " 43%|█████████████████████████████▊                                        | 664/1556 [05:42<06:51,  2.17it/s]"
     ]
    },
    {
     "name": "stdout",
     "output_type": "stream",
     "text": [
      "Functional diamond has homepage_url and type journal\n"
     ]
    },
    {
     "name": "stderr",
     "output_type": "stream",
     "text": [
      " 43%|█████████████████████████████▉                                        | 665/1556 [05:43<07:01,  2.12it/s]"
     ]
    },
    {
     "name": "stdout",
     "output_type": "stream",
     "text": [
      "International journal of networking and computing has homepage_url and type journal\n"
     ]
    },
    {
     "name": "stderr",
     "output_type": "stream",
     "text": [
      " 43%|██████████████████████████████                                        | 667/1556 [05:44<08:23,  1.76it/s]"
     ]
    },
    {
     "name": "stdout",
     "output_type": "stream",
     "text": [
      "Open Engineering has homepage_url and type journal\n"
     ]
    },
    {
     "name": "stderr",
     "output_type": "stream",
     "text": [
      " 43%|██████████████████████████████                                        | 668/1556 [05:45<09:04,  1.63it/s]"
     ]
    },
    {
     "name": "stdout",
     "output_type": "stream",
     "text": [
      "Computing and informatics has homepage_url and type journal\n"
     ]
    },
    {
     "name": "stderr",
     "output_type": "stream",
     "text": [
      " 43%|██████████████████████████████                                        | 669/1556 [05:45<08:28,  1.75it/s]"
     ]
    },
    {
     "name": "stdout",
     "output_type": "stream",
     "text": [
      "Mendel ... (Brno. On-line)/Mendel ... has homepage_url and type journal\n"
     ]
    },
    {
     "name": "stderr",
     "output_type": "stream",
     "text": [
      " 43%|██████████████████████████████▏                                       | 672/1556 [05:47<07:22,  2.00it/s]"
     ]
    },
    {
     "name": "stdout",
     "output_type": "stream",
     "text": [
      "Forum of mathematics. Sigma has homepage_url and type journal\n"
     ]
    },
    {
     "name": "stderr",
     "output_type": "stream",
     "text": [
      " 43%|██████████████████████████████▎                                       | 674/1556 [05:48<07:16,  2.02it/s]"
     ]
    },
    {
     "name": "stdout",
     "output_type": "stream",
     "text": [
      "ACM transactions on computational logic has homepage_url and type journal\n"
     ]
    },
    {
     "name": "stderr",
     "output_type": "stream",
     "text": [
      " 43%|██████████████████████████████▎                                       | 675/1556 [05:48<07:21,  1.99it/s]"
     ]
    },
    {
     "name": "stdout",
     "output_type": "stream",
     "text": [
      "Fortschritte der Physik has homepage_url and type journal\n"
     ]
    },
    {
     "name": "stderr",
     "output_type": "stream",
     "text": [
      " 43%|██████████████████████████████▍                                       | 676/1556 [05:49<07:05,  2.07it/s]"
     ]
    },
    {
     "name": "stdout",
     "output_type": "stream",
     "text": [
      "Archives of computational methods in engineering has homepage_url and type journal\n"
     ]
    },
    {
     "name": "stderr",
     "output_type": "stream",
     "text": [
      " 44%|██████████████████████████████▌                                       | 678/1556 [05:50<06:51,  2.13it/s]"
     ]
    },
    {
     "name": "stdout",
     "output_type": "stream",
     "text": [
      "Annals of operation research/Annals of operations research has homepage_url and type journal\n"
     ]
    },
    {
     "name": "stderr",
     "output_type": "stream",
     "text": [
      " 44%|██████████████████████████████▌                                       | 679/1556 [05:50<07:00,  2.09it/s]"
     ]
    },
    {
     "name": "stdout",
     "output_type": "stream",
     "text": [
      "IEEE transactions on magnetics has homepage_url and type journal\n"
     ]
    },
    {
     "name": "stderr",
     "output_type": "stream",
     "text": [
      " 44%|██████████████████████████████▌                                       | 680/1556 [05:51<07:14,  2.02it/s]"
     ]
    },
    {
     "name": "stdout",
     "output_type": "stream",
     "text": [
      "Journal of statistical mechanics has homepage_url and type journal\n"
     ]
    },
    {
     "name": "stderr",
     "output_type": "stream",
     "text": [
      " 44%|██████████████████████████████▋                                       | 681/1556 [05:51<07:15,  2.01it/s]"
     ]
    },
    {
     "name": "stdout",
     "output_type": "stream",
     "text": [
      "JPhys materials has homepage_url and type journal\n"
     ]
    },
    {
     "name": "stderr",
     "output_type": "stream",
     "text": [
      " 44%|██████████████████████████████▊                                       | 686/1556 [05:54<06:58,  2.08it/s]"
     ]
    },
    {
     "name": "stdout",
     "output_type": "stream",
     "text": [
      "IFAC-PapersOnLine has homepage_url and type journal\n"
     ]
    },
    {
     "name": "stderr",
     "output_type": "stream",
     "text": [
      " 44%|██████████████████████████████▉                                       | 687/1556 [05:54<06:57,  2.08it/s]"
     ]
    },
    {
     "name": "stdout",
     "output_type": "stream",
     "text": [
      "IEEE geoscience and remote sensing letters has homepage_url and type journal\n"
     ]
    },
    {
     "name": "stderr",
     "output_type": "stream",
     "text": [
      " 44%|██████████████████████████████▉                                       | 688/1556 [05:55<07:11,  2.01it/s]"
     ]
    },
    {
     "name": "stdout",
     "output_type": "stream",
     "text": [
      "Frontiers in applied mathematics and statistics has homepage_url and type journal\n"
     ]
    },
    {
     "name": "stderr",
     "output_type": "stream",
     "text": [
      " 45%|███████████████████████████████▏                                      | 693/1556 [05:57<08:28,  1.70it/s]"
     ]
    },
    {
     "name": "stdout",
     "output_type": "stream",
     "text": [
      "Matter has homepage_url and type journal\n"
     ]
    },
    {
     "name": "stderr",
     "output_type": "stream",
     "text": [
      " 45%|███████████████████████████████▏                                      | 694/1556 [05:58<08:10,  1.76it/s]"
     ]
    },
    {
     "name": "stdout",
     "output_type": "stream",
     "text": [
      "Astrophysical journal/The Astrophysical journal has homepage_url and type journal\n"
     ]
    },
    {
     "name": "stderr",
     "output_type": "stream",
     "text": [
      " 45%|███████████████████████████████▎                                      | 695/1556 [05:58<07:48,  1.84it/s]"
     ]
    },
    {
     "name": "stdout",
     "output_type": "stream",
     "text": [
      "Turkish journal of physics has homepage_url and type journal\n"
     ]
    },
    {
     "name": "stderr",
     "output_type": "stream",
     "text": [
      " 45%|███████████████████████████████▎                                      | 696/1556 [05:59<07:32,  1.90it/s]"
     ]
    },
    {
     "name": "stdout",
     "output_type": "stream",
     "text": [
      "Journal of low power electronics and applications has homepage_url and type journal\n"
     ]
    },
    {
     "name": "stderr",
     "output_type": "stream",
     "text": [
      " 45%|███████████████████████████████▎                                      | 697/1556 [05:59<07:11,  1.99it/s]"
     ]
    },
    {
     "name": "stdout",
     "output_type": "stream",
     "text": [
      "IACR transaction on symmetric cryptology has homepage_url and type journal\n"
     ]
    },
    {
     "name": "stderr",
     "output_type": "stream",
     "text": [
      " 45%|███████████████████████████████▍                                      | 698/1556 [06:00<09:37,  1.49it/s]"
     ]
    },
    {
     "name": "stdout",
     "output_type": "stream",
     "text": [
      "Optimization and engineering has homepage_url and type journal\n"
     ]
    },
    {
     "name": "stderr",
     "output_type": "stream",
     "text": [
      " 45%|███████████████████████████████▍                                      | 699/1556 [06:01<08:55,  1.60it/s]"
     ]
    },
    {
     "name": "stdout",
     "output_type": "stream",
     "text": [
      "DOAJ (DOAJ: Directory of Open Access Journals) has homepage_url and type repository\n"
     ]
    },
    {
     "name": "stderr",
     "output_type": "stream",
     "text": [
      " 45%|███████████████████████████████▍                                      | 700/1556 [06:02<09:44,  1.46it/s]"
     ]
    },
    {
     "name": "stdout",
     "output_type": "stream",
     "text": [
      "Engineering international has homepage_url and type journal\n"
     ]
    },
    {
     "name": "stderr",
     "output_type": "stream",
     "text": [
      " 45%|███████████████████████████████▋                                      | 703/1556 [06:03<07:38,  1.86it/s]"
     ]
    },
    {
     "name": "stdout",
     "output_type": "stream",
     "text": [
      "Electronic proceedings in theoretical computer science has homepage_url and type journal\n"
     ]
    },
    {
     "name": "stderr",
     "output_type": "stream",
     "text": [
      " 45%|███████████████████████████████▊                                      | 706/1556 [06:05<07:07,  1.99it/s]"
     ]
    },
    {
     "name": "stdout",
     "output_type": "stream",
     "text": [
      "IEEE transactions on nuclear science has homepage_url and type journal\n"
     ]
    },
    {
     "name": "stderr",
     "output_type": "stream",
     "text": [
      " 45%|███████████████████████████████▊                                      | 707/1556 [06:05<08:11,  1.73it/s]"
     ]
    },
    {
     "name": "stdout",
     "output_type": "stream",
     "text": [
      "Computer has homepage_url and type book series\n"
     ]
    },
    {
     "name": "stderr",
     "output_type": "stream",
     "text": [
      " 46%|███████████████████████████████▉                                      | 709/1556 [06:06<07:50,  1.80it/s]"
     ]
    },
    {
     "name": "stdout",
     "output_type": "stream",
     "text": [
      "Journal of the Chinese Chemical Society has homepage_url and type journal\n"
     ]
    },
    {
     "name": "stderr",
     "output_type": "stream",
     "text": [
      " 46%|███████████████████████████████▉                                      | 710/1556 [06:07<08:52,  1.59it/s]"
     ]
    },
    {
     "name": "stdout",
     "output_type": "stream",
     "text": [
      "Computing has homepage_url and type journal\n"
     ]
    },
    {
     "name": "stderr",
     "output_type": "stream",
     "text": [
      " 46%|███████████████████████████████▉                                      | 711/1556 [06:08<09:46,  1.44it/s]"
     ]
    },
    {
     "name": "stdout",
     "output_type": "stream",
     "text": [
      "C has homepage_url and type journal\n"
     ]
    },
    {
     "name": "stderr",
     "output_type": "stream",
     "text": [
      " 46%|████████████████████████████████                                      | 712/1556 [06:09<08:49,  1.60it/s]"
     ]
    },
    {
     "name": "stdout",
     "output_type": "stream",
     "text": [
      "Springer theses has homepage_url and type book series\n"
     ]
    },
    {
     "name": "stderr",
     "output_type": "stream",
     "text": [
      " 46%|████████████████████████████████                                      | 713/1556 [06:09<08:19,  1.69it/s]"
     ]
    },
    {
     "name": "stdout",
     "output_type": "stream",
     "text": [
      "Journal of nonlinear science has homepage_url and type journal\n"
     ]
    },
    {
     "name": "stderr",
     "output_type": "stream",
     "text": [
      " 46%|████████████████████████████████                                      | 714/1556 [06:10<07:54,  1.77it/s]"
     ]
    },
    {
     "name": "stdout",
     "output_type": "stream",
     "text": [
      "Progress of theoretical and experimental physics has homepage_url and type journal\n"
     ]
    },
    {
     "name": "stderr",
     "output_type": "stream",
     "text": [
      " 46%|████████████████████████████████▏                                     | 715/1556 [06:10<08:03,  1.74it/s]"
     ]
    },
    {
     "name": "stdout",
     "output_type": "stream",
     "text": [
      "Research Ideas and Outcomes has homepage_url and type journal\n"
     ]
    },
    {
     "name": "stderr",
     "output_type": "stream",
     "text": [
      " 46%|████████████████████████████████▎                                     | 717/1556 [06:11<07:04,  1.98it/s]"
     ]
    },
    {
     "name": "stdout",
     "output_type": "stream",
     "text": [
      "MethodsX has homepage_url and type journal\n"
     ]
    },
    {
     "name": "stderr",
     "output_type": "stream",
     "text": [
      " 46%|████████████████████████████████▎                                     | 718/1556 [06:11<06:56,  2.01it/s]"
     ]
    },
    {
     "name": "stdout",
     "output_type": "stream",
     "text": [
      "IEEE consumer electronics magazine has homepage_url and type journal\n"
     ]
    },
    {
     "name": "stderr",
     "output_type": "stream",
     "text": [
      " 46%|████████████████████████████████▍                                     | 722/1556 [06:13<06:45,  2.05it/s]"
     ]
    },
    {
     "name": "stdout",
     "output_type": "stream",
     "text": [
      "Journal of optimization theory and applications has homepage_url and type journal\n"
     ]
    },
    {
     "name": "stderr",
     "output_type": "stream",
     "text": [
      " 47%|████████████████████████████████▌                                     | 725/1556 [06:15<07:32,  1.83it/s]"
     ]
    },
    {
     "name": "stdout",
     "output_type": "stream",
     "text": [
      "Journal of management science and engineering has homepage_url and type journal\n"
     ]
    },
    {
     "name": "stderr",
     "output_type": "stream",
     "text": [
      " 47%|████████████████████████████████▋                                     | 726/1556 [06:16<07:18,  1.89it/s]"
     ]
    },
    {
     "name": "stdout",
     "output_type": "stream",
     "text": [
      "JETP letters has homepage_url and type journal\n"
     ]
    },
    {
     "name": "stderr",
     "output_type": "stream",
     "text": [
      " 47%|████████████████████████████████▋                                     | 727/1556 [06:16<07:00,  1.97it/s]"
     ]
    },
    {
     "name": "stdout",
     "output_type": "stream",
     "text": [
      "ISSS journal of micro and smart systems has homepage_url and type journal\n"
     ]
    },
    {
     "name": "stderr",
     "output_type": "stream",
     "text": [
      " 47%|████████████████████████████████▊                                     | 729/1556 [06:17<06:49,  2.02it/s]"
     ]
    },
    {
     "name": "stdout",
     "output_type": "stream",
     "text": [
      "Asian Journal of Research in Computer Science has homepage_url and type journal\n"
     ]
    },
    {
     "name": "stderr",
     "output_type": "stream",
     "text": [
      " 47%|████████████████████████████████▊                                     | 730/1556 [06:17<06:42,  2.05it/s]"
     ]
    },
    {
     "name": "stdout",
     "output_type": "stream",
     "text": [
      "IEEE communications letters has homepage_url and type journal\n"
     ]
    },
    {
     "name": "stderr",
     "output_type": "stream",
     "text": [
      " 47%|████████████████████████████████▉                                     | 731/1556 [06:18<06:43,  2.04it/s]"
     ]
    },
    {
     "name": "stdout",
     "output_type": "stream",
     "text": [
      "Journal of Cosmology and Astroparticle Physics has homepage_url and type journal\n"
     ]
    },
    {
     "name": "stderr",
     "output_type": "stream",
     "text": [
      " 47%|█████████████████████████████████                                     | 735/1556 [06:20<06:44,  2.03it/s]"
     ]
    },
    {
     "name": "stdout",
     "output_type": "stream",
     "text": [
      "IEEE Transactions on Dependable and Secure Computing/IEEE transactions on dependable and secure computing has homepage_url and type journal\n"
     ]
    },
    {
     "name": "stderr",
     "output_type": "stream",
     "text": [
      " 47%|█████████████████████████████████                                     | 736/1556 [06:20<06:40,  2.05it/s]"
     ]
    },
    {
     "name": "stdout",
     "output_type": "stream",
     "text": [
      "Computational biology and chemistry has homepage_url and type journal\n"
     ]
    },
    {
     "name": "stderr",
     "output_type": "stream",
     "text": [
      " 47%|█████████████████████████████████▏                                    | 737/1556 [06:21<07:06,  1.92it/s]"
     ]
    },
    {
     "name": "stdout",
     "output_type": "stream",
     "text": [
      "Methods in molecular biology has homepage_url and type book series\n"
     ]
    },
    {
     "name": "stderr",
     "output_type": "stream",
     "text": [
      " 47%|█████████████████████████████████▏                                    | 738/1556 [06:21<06:51,  1.99it/s]"
     ]
    },
    {
     "name": "stdout",
     "output_type": "stream",
     "text": [
      "Rossijskij tehnologičeskij žurnal/Russian technological journal has homepage_url and type journal\n"
     ]
    },
    {
     "name": "stderr",
     "output_type": "stream",
     "text": [
      " 47%|█████████████████████████████████▏                                    | 739/1556 [06:22<06:46,  2.01it/s]"
     ]
    },
    {
     "name": "stdout",
     "output_type": "stream",
     "text": [
      "Energy Informatics has homepage_url and type journal\n"
     ]
    },
    {
     "name": "stderr",
     "output_type": "stream",
     "text": [
      " 48%|█████████████████████████████████▎                                    | 740/1556 [06:22<06:43,  2.02it/s]"
     ]
    },
    {
     "name": "stdout",
     "output_type": "stream",
     "text": [
      "ACM transactions on architecture and code optimization has homepage_url and type journal\n"
     ]
    },
    {
     "name": "stderr",
     "output_type": "stream",
     "text": [
      " 48%|█████████████████████████████████▎                                    | 741/1556 [06:23<07:52,  1.73it/s]"
     ]
    },
    {
     "name": "stdout",
     "output_type": "stream",
     "text": [
      "Molecular physics has homepage_url and type journal\n"
     ]
    },
    {
     "name": "stderr",
     "output_type": "stream",
     "text": [
      " 48%|█████████████████████████████████▍                                    | 742/1556 [06:24<08:33,  1.59it/s]"
     ]
    },
    {
     "name": "stdout",
     "output_type": "stream",
     "text": [
      "Advanced science has homepage_url and type journal\n"
     ]
    },
    {
     "name": "stderr",
     "output_type": "stream",
     "text": [
      " 48%|█████████████████████████████████▍                                    | 743/1556 [06:24<08:03,  1.68it/s]"
     ]
    },
    {
     "name": "stdout",
     "output_type": "stream",
     "text": [
      "Machine learning and knowledge extraction has homepage_url and type journal\n"
     ]
    },
    {
     "name": "stderr",
     "output_type": "stream",
     "text": [
      " 48%|█████████████████████████████████▌                                    | 745/1556 [06:25<07:15,  1.86it/s]"
     ]
    },
    {
     "name": "stdout",
     "output_type": "stream",
     "text": [
      "International transactions in operational research has homepage_url and type journal\n"
     ]
    },
    {
     "name": "stderr",
     "output_type": "stream",
     "text": [
      " 48%|█████████████████████████████████▌                                    | 746/1556 [06:26<07:32,  1.79it/s]"
     ]
    },
    {
     "name": "stdout",
     "output_type": "stream",
     "text": [
      "Statistical science has homepage_url and type journal\n"
     ]
    },
    {
     "name": "stderr",
     "output_type": "stream",
     "text": [
      " 48%|█████████████████████████████████▌                                    | 747/1556 [06:26<07:14,  1.86it/s]"
     ]
    },
    {
     "name": "stdout",
     "output_type": "stream",
     "text": [
      "Artificial intelligence review has homepage_url and type journal\n"
     ]
    },
    {
     "name": "stderr",
     "output_type": "stream",
     "text": [
      " 48%|█████████████████████████████████▊                                    | 751/1556 [06:28<06:30,  2.06it/s]"
     ]
    },
    {
     "name": "stdout",
     "output_type": "stream",
     "text": [
      "PeerJ. Computer science has homepage_url and type journal\n"
     ]
    },
    {
     "name": "stderr",
     "output_type": "stream",
     "text": [
      " 48%|█████████████████████████████████▊                                    | 752/1556 [06:29<06:31,  2.06it/s]"
     ]
    },
    {
     "name": "stdout",
     "output_type": "stream",
     "text": [
      "Molecules/Molecules online/Molecules annual has homepage_url and type journal\n"
     ]
    },
    {
     "name": "stderr",
     "output_type": "stream",
     "text": [
      " 48%|█████████████████████████████████▉                                    | 753/1556 [06:29<06:22,  2.10it/s]"
     ]
    },
    {
     "name": "stdout",
     "output_type": "stream",
     "text": [
      "ACM transactions on Internet technology has homepage_url and type journal\n"
     ]
    },
    {
     "name": "stderr",
     "output_type": "stream",
     "text": [
      " 49%|█████████████████████████████████▉                                    | 755/1556 [06:30<06:13,  2.14it/s]"
     ]
    },
    {
     "name": "stdout",
     "output_type": "stream",
     "text": [
      "Traitement du signal/TS. Traitement du signal has homepage_url and type journal\n"
     ]
    },
    {
     "name": "stderr",
     "output_type": "stream",
     "text": [
      " 49%|██████████████████████████████████                                    | 757/1556 [06:31<06:38,  2.01it/s]"
     ]
    },
    {
     "name": "stdout",
     "output_type": "stream",
     "text": [
      "IOP conference series. Materials science and engineering has homepage_url and type conference\n"
     ]
    },
    {
     "name": "stderr",
     "output_type": "stream",
     "text": [
      " 49%|██████████████████████████████████                                    | 758/1556 [06:32<06:36,  2.01it/s]"
     ]
    },
    {
     "name": "stdout",
     "output_type": "stream",
     "text": [
      "Cryogenics has homepage_url and type journal\n"
     ]
    },
    {
     "name": "stderr",
     "output_type": "stream",
     "text": [
      " 49%|██████████████████████████████████▏                                   | 761/1556 [06:33<06:15,  2.12it/s]"
     ]
    },
    {
     "name": "stdout",
     "output_type": "stream",
     "text": [
      "IET information security has homepage_url and type journal\n"
     ]
    },
    {
     "name": "stderr",
     "output_type": "stream",
     "text": [
      " 49%|██████████████████████████████████▎                                   | 762/1556 [06:34<06:13,  2.13it/s]"
     ]
    },
    {
     "name": "stdout",
     "output_type": "stream",
     "text": [
      "Journal of the Indian Institute of Science has homepage_url and type journal\n"
     ]
    },
    {
     "name": "stderr",
     "output_type": "stream",
     "text": [
      " 49%|██████████████████████████████████▍                                   | 765/1556 [06:35<06:54,  1.91it/s]"
     ]
    },
    {
     "name": "stdout",
     "output_type": "stream",
     "text": [
      "Emerging science journal has homepage_url and type journal\n"
     ]
    },
    {
     "name": "stderr",
     "output_type": "stream",
     "text": [
      " 49%|██████████████████████████████████▌                                   | 768/1556 [06:37<06:17,  2.09it/s]"
     ]
    },
    {
     "name": "stdout",
     "output_type": "stream",
     "text": [
      "Topics in applied physics has homepage_url and type book series\n"
     ]
    },
    {
     "name": "stderr",
     "output_type": "stream",
     "text": [
      " 50%|██████████████████████████████████▋                                   | 771/1556 [06:38<05:54,  2.21it/s]"
     ]
    },
    {
     "name": "stdout",
     "output_type": "stream",
     "text": [
      "International journal for research in applied science and engineering technology has homepage_url and type journal\n"
     ]
    },
    {
     "name": "stderr",
     "output_type": "stream",
     "text": [
      " 50%|██████████████████████████████████▋                                   | 772/1556 [06:39<07:13,  1.81it/s]"
     ]
    },
    {
     "name": "stdout",
     "output_type": "stream",
     "text": [
      "Parallel computing has homepage_url and type journal\n"
     ]
    },
    {
     "name": "stderr",
     "output_type": "stream",
     "text": [
      " 50%|██████████████████████████████████▊                                   | 774/1556 [06:40<07:43,  1.69it/s]"
     ]
    },
    {
     "name": "stdout",
     "output_type": "stream",
     "text": [
      "Intelligent computing has homepage_url and type book series\n"
     ]
    },
    {
     "name": "stderr",
     "output_type": "stream",
     "text": [
      " 50%|██████████████████████████████████▊                                   | 775/1556 [06:41<08:12,  1.59it/s]"
     ]
    },
    {
     "name": "stdout",
     "output_type": "stream",
     "text": [
      "Expert systems has homepage_url and type journal\n"
     ]
    },
    {
     "name": "stderr",
     "output_type": "stream",
     "text": [
      " 50%|██████████████████████████████████▉                                   | 776/1556 [06:41<07:21,  1.77it/s]"
     ]
    },
    {
     "name": "stdout",
     "output_type": "stream",
     "text": [
      "The journal of physical chemistry. B has homepage_url and type journal\n"
     ]
    },
    {
     "name": "stderr",
     "output_type": "stream",
     "text": [
      " 50%|██████████████████████████████████▉                                   | 777/1556 [06:41<07:02,  1.84it/s]"
     ]
    },
    {
     "name": "stdout",
     "output_type": "stream",
     "text": [
      "Journal of computing and information science in engineering has homepage_url and type journal\n"
     ]
    },
    {
     "name": "stderr",
     "output_type": "stream",
     "text": [
      " 50%|███████████████████████████████████                                   | 779/1556 [06:42<06:30,  1.99it/s]"
     ]
    },
    {
     "name": "stdout",
     "output_type": "stream",
     "text": [
      "Quanta has homepage_url and type journal\n"
     ]
    },
    {
     "name": "stderr",
     "output_type": "stream",
     "text": [
      " 50%|███████████████████████████████████                                   | 780/1556 [06:43<06:20,  2.04it/s]"
     ]
    },
    {
     "name": "stdout",
     "output_type": "stream",
     "text": [
      "Computers in biology and medicine has homepage_url and type journal\n"
     ]
    },
    {
     "name": "stderr",
     "output_type": "stream",
     "text": [
      " 50%|███████████████████████████████████▏                                  | 782/1556 [06:44<06:07,  2.10it/s]"
     ]
    },
    {
     "name": "stdout",
     "output_type": "stream",
     "text": [
      "IEEE transactions on wireless communications has homepage_url and type journal\n"
     ]
    },
    {
     "name": "stderr",
     "output_type": "stream",
     "text": [
      " 50%|███████████████████████████████████▏                                  | 783/1556 [06:45<07:18,  1.76it/s]"
     ]
    },
    {
     "name": "stdout",
     "output_type": "stream",
     "text": [
      "Journal of instrumentation has homepage_url and type journal\n"
     ]
    },
    {
     "name": "stderr",
     "output_type": "stream",
     "text": [
      " 50%|███████████████████████████████████▎                                  | 784/1556 [06:45<06:53,  1.87it/s]"
     ]
    },
    {
     "name": "stdout",
     "output_type": "stream",
     "text": [
      "Frontiers in research metrics and analytics has homepage_url and type journal\n"
     ]
    },
    {
     "name": "stderr",
     "output_type": "stream",
     "text": [
      " 50%|███████████████████████████████████▎                                  | 785/1556 [06:46<06:57,  1.85it/s]"
     ]
    },
    {
     "name": "stdout",
     "output_type": "stream",
     "text": [
      "Semiconductor science and technology has homepage_url and type journal\n"
     ]
    },
    {
     "name": "stderr",
     "output_type": "stream",
     "text": [
      " 51%|███████████████████████████████████▎                                  | 786/1556 [06:46<06:41,  1.92it/s]"
     ]
    },
    {
     "name": "stdout",
     "output_type": "stream",
     "text": [
      "International journal of automation and computing has homepage_url and type journal\n"
     ]
    },
    {
     "name": "stderr",
     "output_type": "stream",
     "text": [
      " 51%|███████████████████████████████████▍                                  | 787/1556 [06:47<06:48,  1.88it/s]"
     ]
    },
    {
     "name": "stdout",
     "output_type": "stream",
     "text": [
      "Frontiers in physiology has homepage_url and type journal\n"
     ]
    },
    {
     "name": "stderr",
     "output_type": "stream",
     "text": [
      " 51%|███████████████████████████████████▍                                  | 788/1556 [06:47<06:36,  1.94it/s]"
     ]
    },
    {
     "name": "stdout",
     "output_type": "stream",
     "text": [
      "Photoniques has homepage_url and type journal\n"
     ]
    },
    {
     "name": "stderr",
     "output_type": "stream",
     "text": [
      " 51%|███████████████████████████████████▍                                  | 789/1556 [06:48<06:25,  1.99it/s]"
     ]
    },
    {
     "name": "stdout",
     "output_type": "stream",
     "text": [
      "Journal of mathematical psychology has homepage_url and type journal\n"
     ]
    },
    {
     "name": "stderr",
     "output_type": "stream",
     "text": [
      " 51%|███████████████████████████████████▋                                  | 793/1556 [06:50<06:25,  1.98it/s]"
     ]
    },
    {
     "name": "stdout",
     "output_type": "stream",
     "text": [
      "Automatic control and computer sciences has homepage_url and type journal\n"
     ]
    },
    {
     "name": "stderr",
     "output_type": "stream",
     "text": [
      " 51%|███████████████████████████████████▋                                  | 794/1556 [06:50<06:09,  2.06it/s]"
     ]
    },
    {
     "name": "stdout",
     "output_type": "stream",
     "text": [
      "Laser physics letters has homepage_url and type journal\n"
     ]
    },
    {
     "name": "stderr",
     "output_type": "stream",
     "text": [
      " 51%|███████████████████████████████████▉                                  | 798/1556 [06:52<06:02,  2.09it/s]"
     ]
    },
    {
     "name": "stdout",
     "output_type": "stream",
     "text": [
      "Foundations of physics has homepage_url and type journal\n"
     ]
    },
    {
     "name": "stderr",
     "output_type": "stream",
     "text": [
      " 51%|███████████████████████████████████▉                                  | 800/1556 [06:53<07:14,  1.74it/s]"
     ]
    },
    {
     "name": "stdout",
     "output_type": "stream",
     "text": [
      "Journal of intelligent systems has homepage_url and type journal\n"
     ]
    },
    {
     "name": "stderr",
     "output_type": "stream",
     "text": [
      " 51%|████████████████████████████████████                                  | 801/1556 [06:54<06:51,  1.83it/s]"
     ]
    },
    {
     "name": "stdout",
     "output_type": "stream",
     "text": [
      "The Physics teacher/The physics teacher has homepage_url and type journal\n"
     ]
    },
    {
     "name": "stderr",
     "output_type": "stream",
     "text": [
      " 52%|████████████████████████████████████                                  | 803/1556 [06:55<06:37,  1.90it/s]"
     ]
    },
    {
     "name": "stdout",
     "output_type": "stream",
     "text": [
      "Nanobiotechnology reports has homepage_url and type journal\n"
     ]
    },
    {
     "name": "stderr",
     "output_type": "stream",
     "text": [
      " 52%|████████████████████████████████████▎                                 | 806/1556 [06:56<06:03,  2.06it/s]"
     ]
    },
    {
     "name": "stdout",
     "output_type": "stream",
     "text": [
      "Journal of magnetism and magnetic materials has homepage_url and type journal\n"
     ]
    },
    {
     "name": "stderr",
     "output_type": "stream",
     "text": [
      " 52%|████████████████████████████████████▍                                 | 809/1556 [06:57<06:04,  2.05it/s]"
     ]
    },
    {
     "name": "stdout",
     "output_type": "stream",
     "text": [
      "Journal of open source software has homepage_url and type journal\n"
     ]
    },
    {
     "name": "stderr",
     "output_type": "stream",
     "text": [
      " 52%|████████████████████████████████████▍                                 | 811/1556 [06:58<05:57,  2.09it/s]"
     ]
    },
    {
     "name": "stdout",
     "output_type": "stream",
     "text": [
      "Modelling and simulation in engineering has homepage_url and type journal\n"
     ]
    },
    {
     "name": "stderr",
     "output_type": "stream",
     "text": [
      " 53%|████████████████████████████████████▊                                 | 817/1556 [07:01<06:27,  1.91it/s]"
     ]
    },
    {
     "name": "stdout",
     "output_type": "stream",
     "text": [
      "International journal of communication systems has homepage_url and type journal\n"
     ]
    },
    {
     "name": "stderr",
     "output_type": "stream",
     "text": [
      " 53%|████████████████████████████████████▊                                 | 819/1556 [07:02<06:05,  2.02it/s]"
     ]
    },
    {
     "name": "stdout",
     "output_type": "stream",
     "text": [
      "Current applied physics has homepage_url and type journal\n"
     ]
    },
    {
     "name": "stderr",
     "output_type": "stream",
     "text": [
      " 53%|█████████████████████████████████████                                 | 823/1556 [07:04<05:36,  2.18it/s]"
     ]
    },
    {
     "name": "stdout",
     "output_type": "stream",
     "text": [
      "Fluctuation and noise letters has homepage_url and type journal\n"
     ]
    },
    {
     "name": "stderr",
     "output_type": "stream",
     "text": [
      " 53%|█████████████████████████████████████                                 | 824/1556 [07:05<05:38,  2.16it/s]"
     ]
    },
    {
     "name": "stdout",
     "output_type": "stream",
     "text": [
      "International journal of high speed electronics/International journal of high speed electronics and systems has homepage_url and type journal\n"
     ]
    },
    {
     "name": "stderr",
     "output_type": "stream",
     "text": [
      " 53%|█████████████████████████████████████                                 | 825/1556 [07:05<05:44,  2.12it/s]"
     ]
    },
    {
     "name": "stdout",
     "output_type": "stream",
     "text": [
      "Computational intelligence and neuroscience has homepage_url and type journal\n"
     ]
    },
    {
     "name": "stderr",
     "output_type": "stream",
     "text": [
      " 53%|█████████████████████████████████████▍                                | 831/1556 [07:08<05:36,  2.16it/s]"
     ]
    },
    {
     "name": "stdout",
     "output_type": "stream",
     "text": [
      "Optics continuum has homepage_url and type journal\n"
     ]
    },
    {
     "name": "stderr",
     "output_type": "stream",
     "text": [
      " 53%|█████████████████████████████████████▍                                | 832/1556 [07:08<05:36,  2.15it/s]"
     ]
    },
    {
     "name": "stdout",
     "output_type": "stream",
     "text": [
      "Journal of mobile multimedia has homepage_url and type journal\n"
     ]
    },
    {
     "name": "stderr",
     "output_type": "stream",
     "text": [
      " 54%|█████████████████████████████████████▍                                | 833/1556 [07:09<05:48,  2.07it/s]"
     ]
    },
    {
     "name": "stdout",
     "output_type": "stream",
     "text": [
      "Journal of optical communications and networking has homepage_url and type journal\n"
     ]
    },
    {
     "name": "stderr",
     "output_type": "stream",
     "text": [
      " 54%|█████████████████████████████████████▌                                | 834/1556 [07:10<06:36,  1.82it/s]"
     ]
    },
    {
     "name": "stdout",
     "output_type": "stream",
     "text": [
      "Remote sensing has homepage_url and type journal\n"
     ]
    },
    {
     "name": "stderr",
     "output_type": "stream",
     "text": [
      " 54%|█████████████████████████████████████▋                                | 837/1556 [07:11<05:49,  2.06it/s]"
     ]
    },
    {
     "name": "stdout",
     "output_type": "stream",
     "text": [
      "International journal of distributed sensor networks has homepage_url and type journal\n"
     ]
    },
    {
     "name": "stderr",
     "output_type": "stream",
     "text": [
      " 54%|█████████████████████████████████████▉                                | 843/1556 [07:14<06:21,  1.87it/s]"
     ]
    },
    {
     "name": "stdout",
     "output_type": "stream",
     "text": [
      "IEEE software has homepage_url and type journal\n"
     ]
    },
    {
     "name": "stderr",
     "output_type": "stream",
     "text": [
      " 54%|██████████████████████████████████████                                | 845/1556 [07:15<05:54,  2.01it/s]"
     ]
    },
    {
     "name": "stdout",
     "output_type": "stream",
     "text": [
      "IEEE engineering management review has homepage_url and type journal\n"
     ]
    },
    {
     "name": "stderr",
     "output_type": "stream",
     "text": [
      " 54%|██████████████████████████████████████                                | 846/1556 [07:15<05:48,  2.04it/s]"
     ]
    },
    {
     "name": "stdout",
     "output_type": "stream",
     "text": [
      "Advanced theory and simulations has homepage_url and type journal\n"
     ]
    },
    {
     "name": "stderr",
     "output_type": "stream",
     "text": [
      " 54%|██████████████████████████████████████                                | 847/1556 [07:16<05:46,  2.05it/s]"
     ]
    },
    {
     "name": "stdout",
     "output_type": "stream",
     "text": [
      "Artificial intelligence advances has homepage_url and type journal\n"
     ]
    },
    {
     "name": "stderr",
     "output_type": "stream",
     "text": [
      " 54%|██████████████████████████████████████▏                               | 848/1556 [07:16<06:19,  1.86it/s]"
     ]
    },
    {
     "name": "stdout",
     "output_type": "stream",
     "text": [
      "Cybersecurity has homepage_url and type journal\n"
     ]
    },
    {
     "name": "stderr",
     "output_type": "stream",
     "text": [
      " 55%|██████████████████████████████████████▏                               | 849/1556 [07:17<06:00,  1.96it/s]"
     ]
    },
    {
     "name": "stdout",
     "output_type": "stream",
     "text": [
      "Telfor journal/Telfor Journal has homepage_url and type journal\n"
     ]
    },
    {
     "name": "stderr",
     "output_type": "stream",
     "text": [
      " 55%|██████████████████████████████████████▏                               | 850/1556 [07:17<05:54,  1.99it/s]"
     ]
    },
    {
     "name": "stdout",
     "output_type": "stream",
     "text": [
      "Scientific programming has homepage_url and type journal\n"
     ]
    },
    {
     "name": "stderr",
     "output_type": "stream",
     "text": [
      " 55%|██████████████████████████████████████▌                               | 857/1556 [07:21<05:46,  2.02it/s]"
     ]
    },
    {
     "name": "stdout",
     "output_type": "stream",
     "text": [
      "New mathematics and natural computation has homepage_url and type journal\n"
     ]
    },
    {
     "name": "stderr",
     "output_type": "stream",
     "text": [
      " 55%|██████████████████████████████████████▋                               | 859/1556 [07:22<05:37,  2.07it/s]"
     ]
    },
    {
     "name": "stdout",
     "output_type": "stream",
     "text": [
      "INFORMS journal on computing has homepage_url and type journal\n"
     ]
    },
    {
     "name": "stderr",
     "output_type": "stream",
     "text": [
      " 55%|██████████████████████████████████████▋                               | 861/1556 [07:23<05:38,  2.05it/s]"
     ]
    },
    {
     "name": "stdout",
     "output_type": "stream",
     "text": [
      "Acta materialia has homepage_url and type journal\n"
     ]
    },
    {
     "name": "stderr",
     "output_type": "stream",
     "text": [
      " 55%|██████████████████████████████████████▊                               | 862/1556 [07:23<05:36,  2.06it/s]"
     ]
    },
    {
     "name": "stdout",
     "output_type": "stream",
     "text": [
      "Forensic science international. Digital investigation has homepage_url and type journal\n"
     ]
    },
    {
     "name": "stderr",
     "output_type": "stream",
     "text": [
      " 56%|██████████████████████████████████████▉                               | 865/1556 [07:25<06:10,  1.87it/s]"
     ]
    },
    {
     "name": "stdout",
     "output_type": "stream",
     "text": [
      "Physical review materials has homepage_url and type journal\n"
     ]
    },
    {
     "name": "stderr",
     "output_type": "stream",
     "text": [
      " 56%|██████████████████████████████████████▉                               | 866/1556 [07:25<06:00,  1.92it/s]"
     ]
    },
    {
     "name": "stdout",
     "output_type": "stream",
     "text": [
      "IEEE signal processing letters has homepage_url and type journal\n"
     ]
    },
    {
     "name": "stderr",
     "output_type": "stream",
     "text": [
      " 56%|███████████████████████████████████████▏                              | 870/1556 [07:27<05:22,  2.13it/s]"
     ]
    },
    {
     "name": "stdout",
     "output_type": "stream",
     "text": [
      "Wave motion has homepage_url and type journal\n"
     ]
    },
    {
     "name": "stderr",
     "output_type": "stream",
     "text": [
      " 56%|███████████████████████████████████████▍                              | 877/1556 [07:30<05:07,  2.21it/s]"
     ]
    },
    {
     "name": "stdout",
     "output_type": "stream",
     "text": [
      "Ubiquity - Association for Computing Machinery has homepage_url and type journal\n"
     ]
    },
    {
     "name": "stderr",
     "output_type": "stream",
     "text": [
      " 56%|███████████████████████████████████████▍                              | 878/1556 [07:31<05:24,  2.09it/s]"
     ]
    },
    {
     "name": "stdout",
     "output_type": "stream",
     "text": [
      "SIAM journal on computing has homepage_url and type journal\n"
     ]
    },
    {
     "name": "stderr",
     "output_type": "stream",
     "text": [
      " 57%|███████████████████████████████████████▋                              | 881/1556 [07:32<05:06,  2.20it/s]"
     ]
    },
    {
     "name": "stdout",
     "output_type": "stream",
     "text": [
      "Zhongguo gongcheng kexue has homepage_url and type journal\n"
     ]
    },
    {
     "name": "stderr",
     "output_type": "stream",
     "text": [
      " 57%|███████████████████████████████████████▋                              | 882/1556 [07:33<05:10,  2.17it/s]"
     ]
    },
    {
     "name": "stdout",
     "output_type": "stream",
     "text": [
      "Journal of computational electronics has homepage_url and type journal\n"
     ]
    },
    {
     "name": "stderr",
     "output_type": "stream",
     "text": [
      " 57%|███████████████████████████████████████▋                              | 883/1556 [07:33<05:10,  2.17it/s]"
     ]
    },
    {
     "name": "stdout",
     "output_type": "stream",
     "text": [
      "Contemporary physics has homepage_url and type journal\n"
     ]
    },
    {
     "name": "stderr",
     "output_type": "stream",
     "text": [
      " 57%|███████████████████████████████████████▊                              | 886/1556 [07:35<06:06,  1.83it/s]"
     ]
    },
    {
     "name": "stdout",
     "output_type": "stream",
     "text": [
      "Complexity has homepage_url and type journal\n"
     ]
    },
    {
     "name": "stderr",
     "output_type": "stream",
     "text": [
      " 57%|███████████████████████████████████████▉                              | 887/1556 [07:36<06:20,  1.76it/s]"
     ]
    },
    {
     "name": "stdout",
     "output_type": "stream",
     "text": [
      "Biomolecules has homepage_url and type journal\n"
     ]
    },
    {
     "name": "stderr",
     "output_type": "stream",
     "text": [
      " 57%|███████████████████████████████████████▉                              | 889/1556 [07:37<05:41,  1.95it/s]"
     ]
    },
    {
     "name": "stdout",
     "output_type": "stream",
     "text": [
      "Data-centric engineering has homepage_url and type journal\n"
     ]
    },
    {
     "name": "stderr",
     "output_type": "stream",
     "text": [
      " 57%|████████████████████████████████████████▏                             | 892/1556 [07:38<05:39,  1.96it/s]"
     ]
    },
    {
     "name": "stdout",
     "output_type": "stream",
     "text": [
      "International journal of computational methods has homepage_url and type journal\n"
     ]
    },
    {
     "name": "stderr",
     "output_type": "stream",
     "text": [
      " 58%|████████████████████████████████████████▍                             | 899/1556 [07:41<05:05,  2.15it/s]"
     ]
    },
    {
     "name": "stdout",
     "output_type": "stream",
     "text": [
      "Journal of undergraduate reports in physics has homepage_url and type journal\n"
     ]
    },
    {
     "name": "stderr",
     "output_type": "stream",
     "text": [
      " 58%|████████████████████████████████████████▌                             | 902/1556 [07:43<06:11,  1.76it/s]"
     ]
    },
    {
     "name": "stdout",
     "output_type": "stream",
     "text": [
      "Microelectronics has homepage_url and type journal\n"
     ]
    },
    {
     "name": "stderr",
     "output_type": "stream",
     "text": [
      " 58%|████████████████████████████████████████▌                             | 903/1556 [07:44<05:54,  1.84it/s]"
     ]
    },
    {
     "name": "stdout",
     "output_type": "stream",
     "text": [
      "International journal of satellite communications and networking has homepage_url and type journal\n"
     ]
    },
    {
     "name": "stderr",
     "output_type": "stream",
     "text": [
      " 58%|████████████████████████████████████████▋                             | 904/1556 [07:44<05:37,  1.93it/s]"
     ]
    },
    {
     "name": "stdout",
     "output_type": "stream",
     "text": [
      "Algebra universalis has homepage_url and type journal\n"
     ]
    },
    {
     "name": "stderr",
     "output_type": "stream",
     "text": [
      " 58%|████████████████████████████████████████▋                             | 905/1556 [07:45<05:20,  2.03it/s]"
     ]
    },
    {
     "name": "stdout",
     "output_type": "stream",
     "text": [
      "HAL (Le Centre pour la Communication Scientifique Directe) has homepage_url and type repository\n"
     ]
    },
    {
     "name": "stderr",
     "output_type": "stream",
     "text": [
      " 58%|████████████████████████████████████████▊                             | 906/1556 [07:45<05:40,  1.91it/s]"
     ]
    },
    {
     "name": "stdout",
     "output_type": "stream",
     "text": [
      "Atoms has homepage_url and type journal\n"
     ]
    },
    {
     "name": "stderr",
     "output_type": "stream",
     "text": [
      " 58%|████████████████████████████████████████▊                             | 908/1556 [07:46<05:13,  2.07it/s]"
     ]
    },
    {
     "name": "stdout",
     "output_type": "stream",
     "text": [
      "Híradástechnika/Infocommunications journal has homepage_url and type journal\n"
     ]
    },
    {
     "name": "stderr",
     "output_type": "stream",
     "text": [
      " 58%|████████████████████████████████████████▉                             | 909/1556 [07:46<05:06,  2.11it/s]"
     ]
    },
    {
     "name": "stdout",
     "output_type": "stream",
     "text": [
      "Current opinion in electrochemistry has homepage_url and type journal\n"
     ]
    },
    {
     "name": "stderr",
     "output_type": "stream",
     "text": [
      " 58%|████████████████████████████████████████▉                             | 910/1556 [07:47<05:09,  2.09it/s]"
     ]
    },
    {
     "name": "stdout",
     "output_type": "stream",
     "text": [
      "IEICE communications express has homepage_url and type journal\n"
     ]
    },
    {
     "name": "stderr",
     "output_type": "stream",
     "text": [
      " 59%|████████████████████████████████████████▉                             | 911/1556 [07:47<05:20,  2.01it/s]"
     ]
    },
    {
     "name": "stdout",
     "output_type": "stream",
     "text": [
      "Journal of applied mathematics and physics has homepage_url and type journal\n"
     ]
    },
    {
     "name": "stderr",
     "output_type": "stream",
     "text": [
      " 59%|█████████████████████████████████████████▏                            | 916/1556 [07:50<04:58,  2.14it/s]"
     ]
    },
    {
     "name": "stdout",
     "output_type": "stream",
     "text": [
      "Applied magnetic resonance has homepage_url and type journal\n"
     ]
    },
    {
     "name": "stderr",
     "output_type": "stream",
     "text": [
      " 59%|█████████████████████████████████████████▍                            | 921/1556 [07:52<05:24,  1.95it/s]"
     ]
    },
    {
     "name": "stdout",
     "output_type": "stream",
     "text": [
      "IEEE systems journal has homepage_url and type journal\n"
     ]
    },
    {
     "name": "stderr",
     "output_type": "stream",
     "text": [
      " 59%|█████████████████████████████████████████▍                            | 922/1556 [07:53<05:32,  1.91it/s]"
     ]
    },
    {
     "name": "stdout",
     "output_type": "stream",
     "text": [
      "International journal of information and computer security has homepage_url and type journal\n"
     ]
    },
    {
     "name": "stderr",
     "output_type": "stream",
     "text": [
      " 59%|█████████████████████████████████████████▌                            | 925/1556 [07:54<05:15,  2.00it/s]"
     ]
    },
    {
     "name": "stdout",
     "output_type": "stream",
     "text": [
      "Journal of combinatorial optimization has homepage_url and type journal\n"
     ]
    },
    {
     "name": "stderr",
     "output_type": "stream",
     "text": [
      " 60%|█████████████████████████████████████████▋                            | 926/1556 [07:55<05:12,  2.02it/s]"
     ]
    },
    {
     "name": "stdout",
     "output_type": "stream",
     "text": [
      "Applied stochastic models in business and industry has homepage_url and type journal\n"
     ]
    },
    {
     "name": "stderr",
     "output_type": "stream",
     "text": [
      " 60%|█████████████████████████████████████████▋                            | 927/1556 [07:55<05:20,  1.96it/s]"
     ]
    },
    {
     "name": "stdout",
     "output_type": "stream",
     "text": [
      "Theoretical and mathematical physics has homepage_url and type journal\n"
     ]
    },
    {
     "name": "stderr",
     "output_type": "stream",
     "text": [
      " 60%|█████████████████████████████████████████▋                            | 928/1556 [07:56<05:14,  2.00it/s]"
     ]
    },
    {
     "name": "stdout",
     "output_type": "stream",
     "text": [
      "Kìbernetika ta komp'ûternì tehnologìï has homepage_url and type journal\n"
     ]
    },
    {
     "name": "stderr",
     "output_type": "stream",
     "text": [
      " 60%|█████████████████████████████████████████▉                            | 931/1556 [07:57<05:18,  1.96it/s]"
     ]
    },
    {
     "name": "stdout",
     "output_type": "stream",
     "text": [
      "Journal of noncommutative geometry has homepage_url and type journal\n"
     ]
    },
    {
     "name": "stderr",
     "output_type": "stream",
     "text": [
      " 60%|██████████████████████████████████████████                            | 935/1556 [07:59<04:48,  2.15it/s]"
     ]
    },
    {
     "name": "stdout",
     "output_type": "stream",
     "text": [
      "Current Applied Science and Technology has homepage_url and type journal\n"
     ]
    },
    {
     "name": "stderr",
     "output_type": "stream",
     "text": [
      " 60%|██████████████████████████████████████████▏                           | 937/1556 [08:00<04:59,  2.07it/s]"
     ]
    },
    {
     "name": "stdout",
     "output_type": "stream",
     "text": [
      "Memoria investigaciones en ingeniería has homepage_url and type journal\n"
     ]
    },
    {
     "name": "stderr",
     "output_type": "stream",
     "text": [
      " 60%|██████████████████████████████████████████▏                           | 938/1556 [08:01<05:15,  1.96it/s]"
     ]
    },
    {
     "name": "stdout",
     "output_type": "stream",
     "text": [
      "Interfases has homepage_url and type journal\n"
     ]
    },
    {
     "name": "stderr",
     "output_type": "stream",
     "text": [
      " 61%|██████████████████████████████████████████▍                           | 943/1556 [08:03<04:43,  2.16it/s]"
     ]
    },
    {
     "name": "stdout",
     "output_type": "stream",
     "text": [
      "Review of symbolic logic/The review of symbolic logic has homepage_url and type journal\n"
     ]
    },
    {
     "name": "stderr",
     "output_type": "stream",
     "text": [
      " 61%|██████████████████████████████████████████▍                           | 944/1556 [08:04<04:56,  2.06it/s]"
     ]
    },
    {
     "name": "stdout",
     "output_type": "stream",
     "text": [
      "Blockchain. Research and applications has homepage_url and type journal\n"
     ]
    },
    {
     "name": "stderr",
     "output_type": "stream",
     "text": [
      " 61%|██████████████████████████████████████████▌                           | 946/1556 [08:05<04:52,  2.08it/s]"
     ]
    },
    {
     "name": "stdout",
     "output_type": "stream",
     "text": [
      "Telkomnika has homepage_url and type journal\n"
     ]
    },
    {
     "name": "stderr",
     "output_type": "stream",
     "text": [
      " 61%|██████████████████████████████████████████▌                           | 947/1556 [08:05<04:44,  2.14it/s]"
     ]
    },
    {
     "name": "stdout",
     "output_type": "stream",
     "text": [
      "Canadian journal of physics has homepage_url and type journal\n"
     ]
    },
    {
     "name": "stderr",
     "output_type": "stream",
     "text": [
      " 61%|██████████████████████████████████████████▋                           | 949/1556 [08:06<04:46,  2.12it/s]"
     ]
    },
    {
     "name": "stdout",
     "output_type": "stream",
     "text": [
      "ACM transactions on reconfigurable technology and systems has homepage_url and type journal\n"
     ]
    },
    {
     "name": "stderr",
     "output_type": "stream",
     "text": [
      " 61%|██████████████████████████████████████████▊                           | 953/1556 [08:08<04:34,  2.19it/s]"
     ]
    },
    {
     "name": "stdout",
     "output_type": "stream",
     "text": [
      "Pervasive and mobile computing has homepage_url and type journal\n"
     ]
    },
    {
     "name": "stderr",
     "output_type": "stream",
     "text": [
      " 61%|██████████████████████████████████████████▉                           | 954/1556 [08:08<04:38,  2.16it/s]"
     ]
    },
    {
     "name": "stdout",
     "output_type": "stream",
     "text": [
      "Jurnal RESTI (Rekayasa Sistem dan Teknologi Informasi) has homepage_url and type journal\n"
     ]
    },
    {
     "name": "stderr",
     "output_type": "stream",
     "text": [
      " 61%|███████████████████████████████████████████                           | 956/1556 [08:09<04:43,  2.12it/s]"
     ]
    },
    {
     "name": "stdout",
     "output_type": "stream",
     "text": [
      "IEEE transactions on signal processing has homepage_url and type journal\n"
     ]
    },
    {
     "name": "stderr",
     "output_type": "stream",
     "text": [
      " 62%|███████████████████████████████████████████                           | 957/1556 [08:10<04:43,  2.11it/s]"
     ]
    },
    {
     "name": "stdout",
     "output_type": "stream",
     "text": [
      "IEEE transactions on cloud computing has homepage_url and type journal\n"
     ]
    },
    {
     "name": "stderr",
     "output_type": "stream",
     "text": [
      " 62%|███████████████████████████████████████████▏                          | 959/1556 [08:11<04:45,  2.09it/s]"
     ]
    },
    {
     "name": "stdout",
     "output_type": "stream",
     "text": [
      "Bezopasnostʹ informacionnyh tehnologij has homepage_url and type journal\n"
     ]
    },
    {
     "name": "stderr",
     "output_type": "stream",
     "text": [
      " 62%|███████████████████████████████████████████▏                          | 960/1556 [08:11<05:24,  1.83it/s]"
     ]
    },
    {
     "name": "stdout",
     "output_type": "stream",
     "text": [
      "International journal of computer and technology has homepage_url and type journal\n"
     ]
    },
    {
     "name": "stderr",
     "output_type": "stream",
     "text": [
      " 62%|███████████████████████████████████████████▏                          | 961/1556 [08:12<05:02,  1.97it/s]"
     ]
    },
    {
     "name": "stdout",
     "output_type": "stream",
     "text": [
      "International journal of hybrid intelligence has homepage_url and type journal\n"
     ]
    },
    {
     "name": "stderr",
     "output_type": "stream",
     "text": [
      " 62%|███████████████████████████████████████████▎                          | 962/1556 [08:12<04:51,  2.04it/s]"
     ]
    },
    {
     "name": "stdout",
     "output_type": "stream",
     "text": [
      "EMBnet journal has homepage_url and type journal\n"
     ]
    },
    {
     "name": "stderr",
     "output_type": "stream",
     "text": [
      " 62%|███████████████████████████████████████████▎                          | 963/1556 [08:13<04:45,  2.08it/s]"
     ]
    },
    {
     "name": "stdout",
     "output_type": "stream",
     "text": [
      "Information geometry has homepage_url and type journal\n"
     ]
    },
    {
     "name": "stderr",
     "output_type": "stream",
     "text": [
      " 62%|███████████████████████████████████████████▎                          | 964/1556 [08:13<05:31,  1.79it/s]"
     ]
    },
    {
     "name": "stdout",
     "output_type": "stream",
     "text": [
      "Computer journal has homepage_url and type journal\n"
     ]
    },
    {
     "name": "stderr",
     "output_type": "stream",
     "text": [
      " 62%|███████████████████████████████████████████▍                          | 965/1556 [08:14<05:15,  1.87it/s]"
     ]
    },
    {
     "name": "stdout",
     "output_type": "stream",
     "text": [
      "Inorganics has homepage_url and type journal\n"
     ]
    },
    {
     "name": "stderr",
     "output_type": "stream",
     "text": [
      " 62%|███████████████████████████████████████████▍                          | 966/1556 [08:14<05:12,  1.89it/s]"
     ]
    },
    {
     "name": "stdout",
     "output_type": "stream",
     "text": [
      "RAIRO. Recherche opérationnelle/RAIRO. Recherche opérationnelle has homepage_url and type journal\n"
     ]
    },
    {
     "name": "stderr",
     "output_type": "stream",
     "text": [
      " 62%|███████████████████████████████████████████▌                          | 967/1556 [08:15<04:58,  1.98it/s]"
     ]
    },
    {
     "name": "stdout",
     "output_type": "stream",
     "text": [
      "Mağallaẗ baġdād li-l-ʿulūm has homepage_url and type journal\n"
     ]
    },
    {
     "name": "stderr",
     "output_type": "stream",
     "text": [
      " 62%|███████████████████████████████████████████▌                          | 969/1556 [08:16<04:50,  2.02it/s]"
     ]
    },
    {
     "name": "stdout",
     "output_type": "stream",
     "text": [
      "IISE transactions has homepage_url and type journal\n"
     ]
    },
    {
     "name": "stderr",
     "output_type": "stream",
     "text": [
      " 62%|███████████████████████████████████████████▋                          | 971/1556 [08:17<04:49,  2.02it/s]"
     ]
    },
    {
     "name": "stdout",
     "output_type": "stream",
     "text": [
      "Springer proceedings in physics has homepage_url and type book series\n"
     ]
    },
    {
     "name": "stderr",
     "output_type": "stream",
     "text": [
      " 62%|███████████████████████████████████████████▋                          | 972/1556 [08:17<04:38,  2.10it/s]"
     ]
    },
    {
     "name": "stdout",
     "output_type": "stream",
     "text": [
      "Lecture notes in bioengineering has homepage_url and type book series\n"
     ]
    },
    {
     "name": "stderr",
     "output_type": "stream",
     "text": [
      " 63%|███████████████████████████████████████████▉                          | 977/1556 [08:19<04:29,  2.14it/s]"
     ]
    },
    {
     "name": "stdout",
     "output_type": "stream",
     "text": [
      "Applied physics express has homepage_url and type journal\n"
     ]
    },
    {
     "name": "stderr",
     "output_type": "stream",
     "text": [
      " 63%|███████████████████████████████████████████▉                          | 978/1556 [08:20<04:28,  2.15it/s]"
     ]
    },
    {
     "name": "stdout",
     "output_type": "stream",
     "text": [
      "Journal of mobile information systems has homepage_url and type journal\n"
     ]
    },
    {
     "name": "stderr",
     "output_type": "stream",
     "text": [
      " 63%|████████████████████████████████████████████▏                         | 981/1556 [08:21<04:48,  1.99it/s]"
     ]
    },
    {
     "name": "stdout",
     "output_type": "stream",
     "text": [
      "Wuli xuebao has homepage_url and type journal\n"
     ]
    },
    {
     "name": "stderr",
     "output_type": "stream",
     "text": [
      " 63%|████████████████████████████████████████████▎                         | 984/1556 [08:23<04:28,  2.13it/s]"
     ]
    },
    {
     "name": "stdout",
     "output_type": "stream",
     "text": [
      "Journal of photonics for energy has homepage_url and type journal\n"
     ]
    },
    {
     "name": "stderr",
     "output_type": "stream",
     "text": [
      " 63%|████████████████████████████████████████████▎                         | 986/1556 [08:24<04:49,  1.97it/s]"
     ]
    },
    {
     "name": "stdout",
     "output_type": "stream",
     "text": [
      "Designs has homepage_url and type journal\n"
     ]
    },
    {
     "name": "stderr",
     "output_type": "stream",
     "text": [
      " 64%|████████████████████████████████████████████▍                         | 989/1556 [08:25<04:32,  2.08it/s]"
     ]
    },
    {
     "name": "stdout",
     "output_type": "stream",
     "text": [
      "Lecture notes in educational technology has homepage_url and type book series\n"
     ]
    },
    {
     "name": "stderr",
     "output_type": "stream",
     "text": [
      " 64%|████████████████████████████████████████████▌                         | 990/1556 [08:26<04:22,  2.16it/s]"
     ]
    },
    {
     "name": "stdout",
     "output_type": "stream",
     "text": [
      "Networks and heterogeneous media has homepage_url and type journal\n"
     ]
    },
    {
     "name": "stderr",
     "output_type": "stream",
     "text": [
      " 64%|████████████████████████████████████████████▌                         | 991/1556 [08:26<05:28,  1.72it/s]"
     ]
    },
    {
     "name": "stdout",
     "output_type": "stream",
     "text": [
      "International journal of intelligent systems has homepage_url and type journal\n"
     ]
    },
    {
     "name": "stderr",
     "output_type": "stream",
     "text": [
      " 64%|████████████████████████████████████████████▋                         | 992/1556 [08:27<05:04,  1.85it/s]"
     ]
    },
    {
     "name": "stdout",
     "output_type": "stream",
     "text": [
      "Lobachevskii journal of mathematics has homepage_url and type journal\n"
     ]
    },
    {
     "name": "stderr",
     "output_type": "stream",
     "text": [
      " 64%|████████████████████████████████████████████▋                         | 993/1556 [08:27<04:55,  1.90it/s]"
     ]
    },
    {
     "name": "stdout",
     "output_type": "stream",
     "text": [
      "Inventions has homepage_url and type journal\n"
     ]
    },
    {
     "name": "stderr",
     "output_type": "stream",
     "text": [
      " 64%|████████████████████████████████████████████▊                         | 997/1556 [08:29<04:43,  1.97it/s]"
     ]
    },
    {
     "name": "stdout",
     "output_type": "stream",
     "text": [
      "Journal of internet services and information security has homepage_url and type journal\n"
     ]
    },
    {
     "name": "stderr",
     "output_type": "stream",
     "text": [
      " 64%|████████████████████████████████████████████▉                         | 998/1556 [08:30<04:33,  2.04it/s]"
     ]
    },
    {
     "name": "stdout",
     "output_type": "stream",
     "text": [
      "Avtomatizaciâ tehnologičeskih i biznes-processov has homepage_url and type journal\n"
     ]
    },
    {
     "name": "stderr",
     "output_type": "stream",
     "text": [
      " 64%|████████████████████████████████████████████▉                         | 999/1556 [08:30<04:28,  2.08it/s]"
     ]
    },
    {
     "name": "stdout",
     "output_type": "stream",
     "text": [
      "Izvestiâ vysših učebnyh zavedenij. Materialy èlektronnoj tehniki has homepage_url and type journal\n"
     ]
    },
    {
     "name": "stderr",
     "output_type": "stream",
     "text": [
      " 64%|████████████████████████████████████████████▍                        | 1001/1556 [08:31<04:23,  2.10it/s]"
     ]
    },
    {
     "name": "stdout",
     "output_type": "stream",
     "text": [
      "IEEE journal on exploratory solid-state computational devices and circuits has homepage_url and type journal\n"
     ]
    },
    {
     "name": "stderr",
     "output_type": "stream",
     "text": [
      " 64%|████████████████████████████████████████████▍                        | 1003/1556 [08:32<04:23,  2.10it/s]"
     ]
    },
    {
     "name": "stdout",
     "output_type": "stream",
     "text": [
      "Journal of digital science has homepage_url and type journal\n"
     ]
    },
    {
     "name": "stderr",
     "output_type": "stream",
     "text": [
      " 65%|████████████████████████████████████████████▌                        | 1004/1556 [08:33<04:25,  2.08it/s]"
     ]
    },
    {
     "name": "stdout",
     "output_type": "stream",
     "text": [
      "Physics today has homepage_url and type journal\n"
     ]
    },
    {
     "name": "stderr",
     "output_type": "stream",
     "text": [
      " 65%|████████████████████████████████████████████▋                        | 1007/1556 [08:35<04:48,  1.90it/s]"
     ]
    },
    {
     "name": "stdout",
     "output_type": "stream",
     "text": [
      "Eastern-European journal of enterprise technologies has homepage_url and type journal\n"
     ]
    },
    {
     "name": "stderr",
     "output_type": "stream",
     "text": [
      " 65%|████████████████████████████████████████████▋                        | 1008/1556 [08:35<04:39,  1.96it/s]"
     ]
    },
    {
     "name": "stdout",
     "output_type": "stream",
     "text": [
      "Computational methods in applied sciences has homepage_url and type book series\n"
     ]
    },
    {
     "name": "stderr",
     "output_type": "stream",
     "text": [
      " 65%|████████████████████████████████████████████▋                        | 1009/1556 [08:35<04:25,  2.06it/s]"
     ]
    },
    {
     "name": "stdout",
     "output_type": "stream",
     "text": [
      "Journal of applied science and technology trends has homepage_url and type journal\n"
     ]
    },
    {
     "name": "stderr",
     "output_type": "stream",
     "text": [
      " 65%|████████████████████████████████████████████▊                        | 1010/1556 [08:36<04:20,  2.10it/s]"
     ]
    },
    {
     "name": "stdout",
     "output_type": "stream",
     "text": [
      "International journal of computer mathematics. Computer systems theory has homepage_url and type journal\n"
     ]
    },
    {
     "name": "stderr",
     "output_type": "stream",
     "text": [
      " 65%|████████████████████████████████████████████▉                        | 1012/1556 [08:37<04:08,  2.19it/s]"
     ]
    },
    {
     "name": "stdout",
     "output_type": "stream",
     "text": [
      "IEEE transactions on evolutionary computation has homepage_url and type journal\n"
     ]
    },
    {
     "name": "stderr",
     "output_type": "stream",
     "text": [
      " 65%|█████████████████████████████████████████████                        | 1015/1556 [08:38<04:08,  2.18it/s]"
     ]
    },
    {
     "name": "stdout",
     "output_type": "stream",
     "text": [
      "Materials research express has homepage_url and type journal\n"
     ]
    },
    {
     "name": "stderr",
     "output_type": "stream",
     "text": [
      " 65%|█████████████████████████████████████████████                        | 1016/1556 [08:39<04:05,  2.20it/s]"
     ]
    },
    {
     "name": "stdout",
     "output_type": "stream",
     "text": [
      "Journal of digital imaging has homepage_url and type journal\n"
     ]
    },
    {
     "name": "stderr",
     "output_type": "stream",
     "text": [
      " 65%|█████████████████████████████████████████████▏                       | 1019/1556 [08:40<04:04,  2.19it/s]"
     ]
    },
    {
     "name": "stdout",
     "output_type": "stream",
     "text": [
      "European journal of pure and applied mathematics has homepage_url and type journal\n"
     ]
    },
    {
     "name": "stderr",
     "output_type": "stream",
     "text": [
      " 66%|█████████████████████████████████████████████▍                       | 1024/1556 [08:42<04:09,  2.13it/s]"
     ]
    },
    {
     "name": "stdout",
     "output_type": "stream",
     "text": [
      "Natural computing has homepage_url and type journal\n"
     ]
    },
    {
     "name": "stderr",
     "output_type": "stream",
     "text": [
      " 66%|█████████████████████████████████████████████▍                       | 1026/1556 [08:43<04:01,  2.20it/s]"
     ]
    },
    {
     "name": "stdout",
     "output_type": "stream",
     "text": [
      "Applied mechanics and materials has homepage_url and type journal\n"
     ]
    },
    {
     "name": "stderr",
     "output_type": "stream",
     "text": [
      " 66%|█████████████████████████████████████████████▌                       | 1027/1556 [08:44<04:06,  2.14it/s]"
     ]
    },
    {
     "name": "stdout",
     "output_type": "stream",
     "text": [
      "Bioinformatics advances has homepage_url and type journal\n"
     ]
    },
    {
     "name": "stderr",
     "output_type": "stream",
     "text": [
      " 66%|█████████████████████████████████████████████▋                       | 1029/1556 [08:45<04:44,  1.85it/s]"
     ]
    },
    {
     "name": "stdout",
     "output_type": "stream",
     "text": [
      "Journal of electrical electronics engineering has homepage_url and type journal\n"
     ]
    },
    {
     "name": "stderr",
     "output_type": "stream",
     "text": [
      " 66%|█████████████████████████████████████████████▋                       | 1031/1556 [08:46<04:22,  2.00it/s]"
     ]
    },
    {
     "name": "stdout",
     "output_type": "stream",
     "text": [
      "Journal of modern optics has homepage_url and type journal\n"
     ]
    },
    {
     "name": "stderr",
     "output_type": "stream",
     "text": [
      " 66%|█████████████████████████████████████████████▊                       | 1034/1556 [08:47<04:00,  2.17it/s]"
     ]
    },
    {
     "name": "stdout",
     "output_type": "stream",
     "text": [
      "Algorithmica has homepage_url and type journal\n"
     ]
    },
    {
     "name": "stderr",
     "output_type": "stream",
     "text": [
      " 67%|█████████████████████████████████████████████▉                       | 1036/1556 [08:48<04:02,  2.14it/s]"
     ]
    },
    {
     "name": "stdout",
     "output_type": "stream",
     "text": [
      "Journal of visualized experiments has homepage_url and type journal\n"
     ]
    },
    {
     "name": "stderr",
     "output_type": "stream",
     "text": [
      " 67%|██████████████████████████████████████████████                       | 1038/1556 [08:49<04:02,  2.14it/s]"
     ]
    },
    {
     "name": "stdout",
     "output_type": "stream",
     "text": [
      "Journal of scientific agriculture has homepage_url and type journal\n"
     ]
    },
    {
     "name": "stderr",
     "output_type": "stream",
     "text": [
      " 67%|██████████████████████████████████████████████                       | 1040/1556 [08:50<04:32,  1.89it/s]"
     ]
    },
    {
     "name": "stdout",
     "output_type": "stream",
     "text": [
      "Dynamics has homepage_url and type journal\n"
     ]
    },
    {
     "name": "stderr",
     "output_type": "stream",
     "text": [
      " 67%|██████████████████████████████████████████████▏                      | 1042/1556 [08:51<04:16,  2.00it/s]"
     ]
    },
    {
     "name": "stdout",
     "output_type": "stream",
     "text": [
      "Meeting abstracts/Meeting abstracts (Electrochemical Society. CD-ROM) has homepage_url and type journal\n"
     ]
    },
    {
     "name": "stderr",
     "output_type": "stream",
     "text": [
      " 67%|██████████████████████████████████████████████▎                      | 1043/1556 [08:52<04:05,  2.09it/s]"
     ]
    },
    {
     "name": "stdout",
     "output_type": "stream",
     "text": [
      "Physics essays has homepage_url and type journal\n"
     ]
    },
    {
     "name": "stderr",
     "output_type": "stream",
     "text": [
      " 67%|██████████████████████████████████████████████▎                      | 1045/1556 [08:52<04:04,  2.09it/s]"
     ]
    },
    {
     "name": "stdout",
     "output_type": "stream",
     "text": [
      "International journal on recent and innovation trends in computing and communication has homepage_url and type journal\n"
     ]
    },
    {
     "name": "stderr",
     "output_type": "stream",
     "text": [
      " 67%|██████████████████████████████████████████████▍                      | 1046/1556 [08:53<04:09,  2.04it/s]"
     ]
    },
    {
     "name": "stdout",
     "output_type": "stream",
     "text": [
      "ACM SIGMETRICS performance evaluation review/Performance evaluation review has homepage_url and type journal\n"
     ]
    },
    {
     "name": "stderr",
     "output_type": "stream",
     "text": [
      " 67%|██████████████████████████████████████████████▍                      | 1047/1556 [08:53<04:11,  2.03it/s]"
     ]
    },
    {
     "name": "stdout",
     "output_type": "stream",
     "text": [
      "Diamond and related materials has homepage_url and type journal\n"
     ]
    },
    {
     "name": "stderr",
     "output_type": "stream",
     "text": [
      " 67%|██████████████████████████████████████████████▍                      | 1048/1556 [08:54<04:05,  2.07it/s]"
     ]
    },
    {
     "name": "stdout",
     "output_type": "stream",
     "text": [
      "Modelirovanie i analiz dannyh has homepage_url and type journal\n"
     ]
    },
    {
     "name": "stderr",
     "output_type": "stream",
     "text": [
      " 67%|██████████████████████████████████████████████▌                      | 1050/1556 [08:55<04:03,  2.07it/s]"
     ]
    },
    {
     "name": "stdout",
     "output_type": "stream",
     "text": [
      "BioData mining has homepage_url and type journal\n"
     ]
    },
    {
     "name": "stderr",
     "output_type": "stream",
     "text": [
      " 68%|██████████████████████████████████████████████▌                      | 1051/1556 [08:55<04:06,  2.05it/s]"
     ]
    },
    {
     "name": "stdout",
     "output_type": "stream",
     "text": [
      "Communications in mathematical sciences has homepage_url and type journal\n"
     ]
    },
    {
     "name": "stderr",
     "output_type": "stream",
     "text": [
      " 68%|██████████████████████████████████████████████▋                      | 1052/1556 [08:56<04:03,  2.07it/s]"
     ]
    },
    {
     "name": "stdout",
     "output_type": "stream",
     "text": [
      "TheScienceBreaker has homepage_url and type journal\n"
     ]
    },
    {
     "name": "stderr",
     "output_type": "stream",
     "text": [
      " 68%|██████████████████████████████████████████████▊                      | 1055/1556 [08:57<03:48,  2.19it/s]"
     ]
    },
    {
     "name": "stdout",
     "output_type": "stream",
     "text": [
      "JPhys energy has homepage_url and type journal\n"
     ]
    },
    {
     "name": "stderr",
     "output_type": "stream",
     "text": [
      " 68%|██████████████████████████████████████████████▊                      | 1056/1556 [08:58<03:50,  2.17it/s]"
     ]
    },
    {
     "name": "stdout",
     "output_type": "stream",
     "text": [
      "International Journal of Astrobiology has homepage_url and type journal\n"
     ]
    },
    {
     "name": "stderr",
     "output_type": "stream",
     "text": [
      " 68%|██████████████████████████████████████████████▊                      | 1057/1556 [08:58<03:48,  2.19it/s]"
     ]
    },
    {
     "name": "stdout",
     "output_type": "stream",
     "text": [
      "Frontiers in energy research has homepage_url and type journal\n"
     ]
    },
    {
     "name": "stderr",
     "output_type": "stream",
     "text": [
      " 68%|██████████████████████████████████████████████▉                      | 1059/1556 [08:59<03:49,  2.17it/s]"
     ]
    },
    {
     "name": "stdout",
     "output_type": "stream",
     "text": [
      "Parallel processing letters has homepage_url and type journal\n"
     ]
    },
    {
     "name": "stderr",
     "output_type": "stream",
     "text": [
      " 68%|███████████████████████████████████████████████                      | 1060/1556 [09:00<03:51,  2.14it/s]"
     ]
    },
    {
     "name": "stdout",
     "output_type": "stream",
     "text": [
      "IEEE potentials has homepage_url and type journal\n"
     ]
    },
    {
     "name": "stderr",
     "output_type": "stream",
     "text": [
      " 68%|███████████████████████████████████████████████                      | 1061/1556 [09:00<03:49,  2.16it/s]"
     ]
    },
    {
     "name": "stdout",
     "output_type": "stream",
     "text": [
      "International journal of modern physics B/International journal of modern physics b has homepage_url and type journal\n"
     ]
    },
    {
     "name": "stderr",
     "output_type": "stream",
     "text": [
      " 68%|███████████████████████████████████████████████                      | 1062/1556 [09:00<03:46,  2.18it/s]"
     ]
    },
    {
     "name": "stdout",
     "output_type": "stream",
     "text": [
      "Sitientibus. Série Ciências Físicas has homepage_url and type journal\n"
     ]
    },
    {
     "name": "stderr",
     "output_type": "stream",
     "text": [
      " 68%|███████████████████████████████████████████████▏                     | 1064/1556 [09:01<03:41,  2.22it/s]"
     ]
    },
    {
     "name": "stdout",
     "output_type": "stream",
     "text": [
      "Chinese Optics Letters has homepage_url and type journal\n"
     ]
    },
    {
     "name": "stderr",
     "output_type": "stream",
     "text": [
      " 68%|███████████████████████████████████████████████▏                     | 1065/1556 [09:02<03:39,  2.24it/s]"
     ]
    },
    {
     "name": "stdout",
     "output_type": "stream",
     "text": [
      "ICST transactions on scalable information systems has homepage_url and type journal\n"
     ]
    },
    {
     "name": "stderr",
     "output_type": "stream",
     "text": [
      " 69%|███████████████████████████████████████████████▎                     | 1066/1556 [09:02<03:46,  2.16it/s]"
     ]
    },
    {
     "name": "stdout",
     "output_type": "stream",
     "text": [
      "IET networks has homepage_url and type journal\n"
     ]
    },
    {
     "name": "stderr",
     "output_type": "stream",
     "text": [
      " 69%|███████████████████████████████████████████████▍                     | 1069/1556 [09:04<03:54,  2.08it/s]"
     ]
    },
    {
     "name": "stdout",
     "output_type": "stream",
     "text": [
      "Banach Center Publications has homepage_url and type journal\n"
     ]
    },
    {
     "name": "stderr",
     "output_type": "stream",
     "text": [
      " 69%|███████████████████████████████████████████████▍                     | 1071/1556 [09:05<03:43,  2.17it/s]"
     ]
    },
    {
     "name": "stdout",
     "output_type": "stream",
     "text": [
      "NPG Asia materials has homepage_url and type journal\n"
     ]
    },
    {
     "name": "stderr",
     "output_type": "stream",
     "text": [
      " 69%|███████████████████████████████████████████████▌                     | 1072/1556 [09:05<03:40,  2.19it/s]"
     ]
    },
    {
     "name": "stdout",
     "output_type": "stream",
     "text": [
      "European journal of risk regulation has homepage_url and type journal\n"
     ]
    },
    {
     "name": "stderr",
     "output_type": "stream",
     "text": [
      " 69%|███████████████████████████████████████████████▋                     | 1075/1556 [09:06<03:35,  2.23it/s]"
     ]
    },
    {
     "name": "stdout",
     "output_type": "stream",
     "text": [
      "Progress in quantum electronics/Progress in Quantum Electronics has homepage_url and type journal\n"
     ]
    },
    {
     "name": "stderr",
     "output_type": "stream",
     "text": [
      " 69%|███████████████████████████████████████████████▋                     | 1076/1556 [09:07<03:41,  2.17it/s]"
     ]
    },
    {
     "name": "stdout",
     "output_type": "stream",
     "text": [
      "Applied AI letters has homepage_url and type journal\n"
     ]
    },
    {
     "name": "stderr",
     "output_type": "stream",
     "text": [
      " 69%|███████████████████████████████████████████████▊                     | 1077/1556 [09:07<03:46,  2.11it/s]"
     ]
    },
    {
     "name": "stdout",
     "output_type": "stream",
     "text": [
      "Uspehi fiziki metallov has homepage_url and type journal\n"
     ]
    },
    {
     "name": "stderr",
     "output_type": "stream",
     "text": [
      " 69%|███████████████████████████████████████████████▊                     | 1078/1556 [09:08<03:43,  2.14it/s]"
     ]
    },
    {
     "name": "stdout",
     "output_type": "stream",
     "text": [
      "IEEE antennas and wireless propagation letters/Antennas and wireless propagation letters has homepage_url and type journal\n"
     ]
    },
    {
     "name": "stderr",
     "output_type": "stream",
     "text": [
      " 69%|███████████████████████████████████████████████▊                     | 1079/1556 [09:08<03:45,  2.12it/s]"
     ]
    },
    {
     "name": "stdout",
     "output_type": "stream",
     "text": [
      "International journal of computer integrated manufacturing has homepage_url and type journal\n"
     ]
    },
    {
     "name": "stderr",
     "output_type": "stream",
     "text": [
      " 69%|███████████████████████████████████████████████▉                     | 1080/1556 [09:09<03:39,  2.16it/s]"
     ]
    },
    {
     "name": "stdout",
     "output_type": "stream",
     "text": [
      "Springer optimization and its applications has homepage_url and type book series\n"
     ]
    },
    {
     "name": "stderr",
     "output_type": "stream",
     "text": [
      " 69%|███████████████████████████████████████████████▉                     | 1081/1556 [09:09<03:56,  2.01it/s]"
     ]
    },
    {
     "name": "stdout",
     "output_type": "stream",
     "text": [
      "Biomimetics has homepage_url and type journal\n"
     ]
    },
    {
     "name": "stderr",
     "output_type": "stream",
     "text": [
      " 70%|███████████████████████████████████████████████▉                     | 1082/1556 [09:10<03:58,  1.99it/s]"
     ]
    },
    {
     "name": "stdout",
     "output_type": "stream",
     "text": [
      "Lecture notes in business information processing has homepage_url and type book series\n"
     ]
    },
    {
     "name": "stderr",
     "output_type": "stream",
     "text": [
      " 70%|████████████████████████████████████████████████                     | 1084/1556 [09:11<03:48,  2.07it/s]"
     ]
    },
    {
     "name": "stdout",
     "output_type": "stream",
     "text": [
      "Revista Brasileira de Ensino de Física has homepage_url and type journal\n"
     ]
    },
    {
     "name": "stderr",
     "output_type": "stream",
     "text": [
      " 70%|████████████████████████████████████████████████                     | 1085/1556 [09:11<03:37,  2.16it/s]"
     ]
    },
    {
     "name": "stdout",
     "output_type": "stream",
     "text": [
      "Russian microelectronics has homepage_url and type journal\n"
     ]
    },
    {
     "name": "stderr",
     "output_type": "stream",
     "text": [
      " 70%|████████████████████████████████████████████████▏                    | 1087/1556 [09:12<03:41,  2.12it/s]"
     ]
    },
    {
     "name": "stdout",
     "output_type": "stream",
     "text": [
      "Discrete mathematics and applications has homepage_url and type journal\n"
     ]
    },
    {
     "name": "stderr",
     "output_type": "stream",
     "text": [
      " 70%|████████████████████████████████████████████████▏                    | 1088/1556 [09:13<03:40,  2.12it/s]"
     ]
    },
    {
     "name": "stdout",
     "output_type": "stream",
     "text": [
      "Computational materials science has homepage_url and type journal\n"
     ]
    },
    {
     "name": "stderr",
     "output_type": "stream",
     "text": [
      " 70%|████████████████████████████████████████████████▎                    | 1089/1556 [09:13<03:33,  2.19it/s]"
     ]
    },
    {
     "name": "stdout",
     "output_type": "stream",
     "text": [
      "Advances in intelligent systems and computing has homepage_url and type book series\n"
     ]
    },
    {
     "name": "stderr",
     "output_type": "stream",
     "text": [
      " 70%|████████████████████████████████████████████████▎                    | 1090/1556 [09:14<03:36,  2.16it/s]"
     ]
    },
    {
     "name": "stdout",
     "output_type": "stream",
     "text": [
      "Chinese journal of electronics has homepage_url and type journal\n"
     ]
    },
    {
     "name": "stderr",
     "output_type": "stream",
     "text": [
      " 70%|████████████████████████████████████████████████▍                    | 1092/1556 [09:14<03:34,  2.16it/s]"
     ]
    },
    {
     "name": "stdout",
     "output_type": "stream",
     "text": [
      "International journal of geometric methods in modern physics has homepage_url and type journal\n"
     ]
    },
    {
     "name": "stderr",
     "output_type": "stream",
     "text": [
      " 70%|████████████████████████████████████████████████▌                    | 1095/1556 [09:16<03:34,  2.15it/s]"
     ]
    },
    {
     "name": "stdout",
     "output_type": "stream",
     "text": [
      "Mathematica slovaca has homepage_url and type journal\n"
     ]
    },
    {
     "name": "stderr",
     "output_type": "stream",
     "text": [
      " 71%|████████████████████████████████████████████████▋                    | 1097/1556 [09:17<03:32,  2.16it/s]"
     ]
    },
    {
     "name": "stdout",
     "output_type": "stream",
     "text": [
      "Proceedings of the Design Society has homepage_url and type journal\n"
     ]
    },
    {
     "name": "stderr",
     "output_type": "stream",
     "text": [
      " 71%|████████████████████████████████████████████████▋                    | 1099/1556 [09:18<03:34,  2.13it/s]"
     ]
    },
    {
     "name": "stdout",
     "output_type": "stream",
     "text": [
      "Communications on pure and applied mathematics has homepage_url and type journal\n"
     ]
    },
    {
     "name": "stderr",
     "output_type": "stream",
     "text": [
      " 71%|████████████████████████████████████████████████▊                    | 1101/1556 [09:19<03:35,  2.11it/s]"
     ]
    },
    {
     "name": "stdout",
     "output_type": "stream",
     "text": [
      "Physical review. Accelerators and beams has homepage_url and type journal\n"
     ]
    },
    {
     "name": "stderr",
     "output_type": "stream",
     "text": [
      " 71%|████████████████████████████████████████████████▊                    | 1102/1556 [09:19<03:30,  2.16it/s]"
     ]
    },
    {
     "name": "stdout",
     "output_type": "stream",
     "text": [
      "Bombay technologist/Bombay Technologist has homepage_url and type journal\n"
     ]
    },
    {
     "name": "stderr",
     "output_type": "stream",
     "text": [
      " 71%|████████████████████████████████████████████████▉                    | 1104/1556 [09:20<04:03,  1.86it/s]"
     ]
    },
    {
     "name": "stdout",
     "output_type": "stream",
     "text": [
      "Optics has homepage_url and type journal\n"
     ]
    },
    {
     "name": "stderr",
     "output_type": "stream",
     "text": [
      " 71%|█████████████████████████████████████████████████                    | 1105/1556 [09:21<03:47,  1.99it/s]"
     ]
    },
    {
     "name": "stdout",
     "output_type": "stream",
     "text": [
      "Data in brief has homepage_url and type journal\n"
     ]
    },
    {
     "name": "stderr",
     "output_type": "stream",
     "text": [
      " 71%|█████████████████████████████████████████████████▏                   | 1109/1556 [09:23<03:35,  2.07it/s]"
     ]
    },
    {
     "name": "stdout",
     "output_type": "stream",
     "text": [
      "Journal of optical communications has homepage_url and type journal\n"
     ]
    },
    {
     "name": "stderr",
     "output_type": "stream",
     "text": [
      " 71%|█████████████████████████████████████████████████▏                   | 1110/1556 [09:23<03:51,  1.93it/s]"
     ]
    },
    {
     "name": "stdout",
     "output_type": "stream",
     "text": [
      "Risks has homepage_url and type journal\n"
     ]
    },
    {
     "name": "stderr",
     "output_type": "stream",
     "text": [
      " 71%|█████████████████████████████████████████████████▎                   | 1112/1556 [09:24<03:42,  2.00it/s]"
     ]
    },
    {
     "name": "stdout",
     "output_type": "stream",
     "text": [
      "Computer applications in engineering education has homepage_url and type journal\n"
     ]
    },
    {
     "name": "stderr",
     "output_type": "stream",
     "text": [
      " 72%|█████████████████████████████████████████████████▍                   | 1114/1556 [09:25<03:27,  2.13it/s]"
     ]
    },
    {
     "name": "stdout",
     "output_type": "stream",
     "text": [
      "Wuhan University journal of natural sciences/Wuhan University Journal of Natural Sciences has homepage_url and type journal\n"
     ]
    },
    {
     "name": "stderr",
     "output_type": "stream",
     "text": [
      " 72%|█████████████████████████████████████████████████▍                   | 1115/1556 [09:26<04:03,  1.81it/s]"
     ]
    },
    {
     "name": "stdout",
     "output_type": "stream",
     "text": [
      "Journal of Computer Science and Technology/Journal of computer science and technology has homepage_url and type journal\n"
     ]
    },
    {
     "name": "stderr",
     "output_type": "stream",
     "text": [
      " 72%|█████████████████████████████████████████████████▉                   | 1125/1556 [09:30<03:25,  2.10it/s]"
     ]
    },
    {
     "name": "stdout",
     "output_type": "stream",
     "text": [
      "IEEE transactions on software engineering has homepage_url and type journal\n"
     ]
    },
    {
     "name": "stderr",
     "output_type": "stream",
     "text": [
      " 72%|█████████████████████████████████████████████████▉                   | 1126/1556 [09:31<03:24,  2.10it/s]"
     ]
    },
    {
     "name": "stdout",
     "output_type": "stream",
     "text": [
      "Bioengineered has homepage_url and type journal\n"
     ]
    },
    {
     "name": "stderr",
     "output_type": "stream",
     "text": [
      " 73%|██████████████████████████████████████████████████▏                  | 1132/1556 [09:34<03:15,  2.17it/s]"
     ]
    },
    {
     "name": "stdout",
     "output_type": "stream",
     "text": [
      "International journal of high performance computing applications/The international journal of high performance computing applications has homepage_url and type journal\n"
     ]
    },
    {
     "name": "stderr",
     "output_type": "stream",
     "text": [
      " 73%|██████████████████████████████████████████████████▏                  | 1133/1556 [09:34<03:12,  2.20it/s]"
     ]
    },
    {
     "name": "stdout",
     "output_type": "stream",
     "text": [
      "Journal of electronic imaging has homepage_url and type journal\n"
     ]
    },
    {
     "name": "stderr",
     "output_type": "stream",
     "text": [
      " 73%|██████████████████████████████████████████████████▎                  | 1134/1556 [09:35<03:16,  2.15it/s]"
     ]
    },
    {
     "name": "stdout",
     "output_type": "stream",
     "text": [
      "ECS journal of solid state science and technology has homepage_url and type journal\n"
     ]
    },
    {
     "name": "stderr",
     "output_type": "stream",
     "text": [
      " 73%|██████████████████████████████████████████████████▍                  | 1136/1556 [09:35<03:16,  2.14it/s]"
     ]
    },
    {
     "name": "stdout",
     "output_type": "stream",
     "text": [
      "Elektronika ir elektrotechnika has homepage_url and type journal\n"
     ]
    },
    {
     "name": "stderr",
     "output_type": "stream",
     "text": [
      " 73%|██████████████████████████████████████████████████▌                  | 1140/1556 [09:37<03:11,  2.17it/s]"
     ]
    },
    {
     "name": "stdout",
     "output_type": "stream",
     "text": [
      "International journal of numerical modelling has homepage_url and type journal\n"
     ]
    },
    {
     "name": "stderr",
     "output_type": "stream",
     "text": [
      " 74%|██████████████████████████████████████████████████▊                  | 1146/1556 [09:40<03:18,  2.06it/s]"
     ]
    },
    {
     "name": "stdout",
     "output_type": "stream",
     "text": [
      "letters in mathematical physics/Letters in mathematical physics has homepage_url and type journal\n"
     ]
    },
    {
     "name": "stderr",
     "output_type": "stream",
     "text": [
      " 74%|███████████████████████████████████████████████████                  | 1151/1556 [09:43<03:18,  2.04it/s]"
     ]
    },
    {
     "name": "stdout",
     "output_type": "stream",
     "text": [
      "Granular computing has homepage_url and type journal\n"
     ]
    },
    {
     "name": "stderr",
     "output_type": "stream",
     "text": [
      " 74%|███████████████████████████████████████████████████                  | 1152/1556 [09:43<03:24,  1.98it/s]"
     ]
    },
    {
     "name": "stdout",
     "output_type": "stream",
     "text": [
      "Philosophies has homepage_url and type journal\n"
     ]
    },
    {
     "name": "stderr",
     "output_type": "stream",
     "text": [
      " 74%|███████████████████████████████████████████████████▎                 | 1156/1556 [09:45<03:41,  1.81it/s]"
     ]
    },
    {
     "name": "stdout",
     "output_type": "stream",
     "text": [
      "Computers has homepage_url and type journal\n"
     ]
    },
    {
     "name": "stderr",
     "output_type": "stream",
     "text": [
      " 75%|████████████████████████████████████████████████████                 | 1174/1556 [09:54<03:02,  2.10it/s]"
     ]
    },
    {
     "name": "stdout",
     "output_type": "stream",
     "text": [
      "International journal of mathematical sciences and computing has homepage_url and type journal\n"
     ]
    },
    {
     "name": "stderr",
     "output_type": "stream",
     "text": [
      " 76%|████████████████████████████████████████████████████▏                | 1176/1556 [09:55<03:01,  2.10it/s]"
     ]
    },
    {
     "name": "stdout",
     "output_type": "stream",
     "text": [
      "Micro and nanosystems has homepage_url and type journal\n"
     ]
    },
    {
     "name": "stderr",
     "output_type": "stream",
     "text": [
      " 76%|████████████████████████████████████████████████████▏                | 1177/1556 [09:55<03:20,  1.89it/s]"
     ]
    },
    {
     "name": "stdout",
     "output_type": "stream",
     "text": [
      "Journal of differential equations has homepage_url and type journal\n"
     ]
    },
    {
     "name": "stderr",
     "output_type": "stream",
     "text": [
      " 76%|████████████████████████████████████████████████████▏                | 1178/1556 [09:56<03:14,  1.94it/s]"
     ]
    },
    {
     "name": "stdout",
     "output_type": "stream",
     "text": [
      "Proceedings in applied mathematics and mechanics has homepage_url and type journal\n"
     ]
    },
    {
     "name": "stderr",
     "output_type": "stream",
     "text": [
      " 76%|████████████████████████████████████████████████████▎                | 1179/1556 [09:56<03:11,  1.97it/s]"
     ]
    },
    {
     "name": "stdout",
     "output_type": "stream",
     "text": [
      "Annales Henri Poincaré has homepage_url and type journal\n"
     ]
    },
    {
     "name": "stderr",
     "output_type": "stream",
     "text": [
      " 76%|████████████████████████████████████████████████████▎                | 1180/1556 [09:57<03:03,  2.05it/s]"
     ]
    },
    {
     "name": "stdout",
     "output_type": "stream",
     "text": [
      "International journal of bio-inspired computation has homepage_url and type journal\n"
     ]
    },
    {
     "name": "stderr",
     "output_type": "stream",
     "text": [
      " 76%|████████████████████████████████████████████████████▌                | 1184/1556 [09:58<02:46,  2.23it/s]"
     ]
    },
    {
     "name": "stdout",
     "output_type": "stream",
     "text": [
      "The international Arab journal of information technology has homepage_url and type journal\n"
     ]
    },
    {
     "name": "stderr",
     "output_type": "stream",
     "text": [
      " 76%|████████████████████████████████████████████████████▌                | 1185/1556 [09:59<02:46,  2.23it/s]"
     ]
    },
    {
     "name": "stdout",
     "output_type": "stream",
     "text": [
      "Brazilian journal of physics has homepage_url and type journal\n"
     ]
    },
    {
     "name": "stderr",
     "output_type": "stream",
     "text": [
      " 76%|████████████████████████████████████████████████████▋                | 1189/1556 [10:01<02:45,  2.22it/s]"
     ]
    },
    {
     "name": "stdout",
     "output_type": "stream",
     "text": [
      "Journal of universal computer science has homepage_url and type journal\n"
     ]
    },
    {
     "name": "stderr",
     "output_type": "stream",
     "text": [
      " 77%|████████████████████████████████████████████████████▊                | 1191/1556 [10:01<02:46,  2.20it/s]"
     ]
    },
    {
     "name": "stdout",
     "output_type": "stream",
     "text": [
      "Informacinės technologijos ir valdymas has homepage_url and type journal\n"
     ]
    },
    {
     "name": "stderr",
     "output_type": "stream",
     "text": [
      " 77%|████████████████████████████████████████████████████▊                | 1192/1556 [10:02<02:49,  2.15it/s]"
     ]
    },
    {
     "name": "stdout",
     "output_type": "stream",
     "text": [
      "Kompʹûternaâ optika has homepage_url and type journal\n"
     ]
    },
    {
     "name": "stderr",
     "output_type": "stream",
     "text": [
      " 77%|████████████████████████████████████████████████████▉                | 1193/1556 [10:02<02:56,  2.06it/s]"
     ]
    },
    {
     "name": "stdout",
     "output_type": "stream",
     "text": [
      "International journal of emerging technologies in learning/International journal: emerging technologies in learning has homepage_url and type journal\n"
     ]
    },
    {
     "name": "stderr",
     "output_type": "stream",
     "text": [
      " 77%|█████████████████████████████████████████████████████                | 1197/1556 [10:04<02:50,  2.10it/s]"
     ]
    },
    {
     "name": "stdout",
     "output_type": "stream",
     "text": [
      "American journal of information science and technology has homepage_url and type journal\n"
     ]
    },
    {
     "name": "stderr",
     "output_type": "stream",
     "text": [
      " 77%|█████████████████████████████████████████████████████▏               | 1199/1556 [10:05<03:01,  1.97it/s]"
     ]
    },
    {
     "name": "stdout",
     "output_type": "stream",
     "text": [
      "Open Physics has homepage_url and type journal\n"
     ]
    },
    {
     "name": "stderr",
     "output_type": "stream",
     "text": [
      " 77%|█████████████████████████████████████████████████████▏               | 1200/1556 [10:06<02:54,  2.04it/s]"
     ]
    },
    {
     "name": "stdout",
     "output_type": "stream",
     "text": [
      "Journal of complex networks has homepage_url and type journal\n"
     ]
    },
    {
     "name": "stderr",
     "output_type": "stream",
     "text": [
      " 77%|█████████████████████████████████████████████████████▍               | 1204/1556 [10:08<03:04,  1.90it/s]"
     ]
    },
    {
     "name": "stdout",
     "output_type": "stream",
     "text": [
      "Universe has homepage_url and type journal\n"
     ]
    },
    {
     "name": "stderr",
     "output_type": "stream",
     "text": [
      " 78%|█████████████████████████████████████████████████████▌               | 1207/1556 [10:09<02:49,  2.06it/s]"
     ]
    },
    {
     "name": "stdout",
     "output_type": "stream",
     "text": [
      "Iskusstvennye obŝestva has homepage_url and type journal\n"
     ]
    },
    {
     "name": "stderr",
     "output_type": "stream",
     "text": [
      " 78%|█████████████████████████████████████████████████████▌               | 1209/1556 [10:10<02:46,  2.08it/s]"
     ]
    },
    {
     "name": "stdout",
     "output_type": "stream",
     "text": [
      "Advances in experimental medicine and biology has homepage_url and type book series\n"
     ]
    },
    {
     "name": "stderr",
     "output_type": "stream",
     "text": [
      " 78%|██████████████████████████████████████████████████████               | 1218/1556 [10:14<02:29,  2.26it/s]"
     ]
    },
    {
     "name": "stdout",
     "output_type": "stream",
     "text": [
      "Ukrainian journal of physics has homepage_url and type journal\n"
     ]
    },
    {
     "name": "stderr",
     "output_type": "stream",
     "text": [
      " 79%|██████████████████████████████████████████████████████▎              | 1224/1556 [10:17<02:25,  2.28it/s]"
     ]
    },
    {
     "name": "stdout",
     "output_type": "stream",
     "text": [
      "Neural computation has homepage_url and type journal\n"
     ]
    },
    {
     "name": "stderr",
     "output_type": "stream",
     "text": [
      " 79%|██████████████████████████████████████████████████████▌              | 1231/1556 [10:20<02:22,  2.28it/s]"
     ]
    },
    {
     "name": "stdout",
     "output_type": "stream",
     "text": [
      "Advances in condensed matter physics has homepage_url and type journal\n"
     ]
    },
    {
     "name": "stderr",
     "output_type": "stream",
     "text": [
      " 80%|██████████████████████████████████████████████████████▉              | 1238/1556 [10:23<02:18,  2.29it/s]"
     ]
    },
    {
     "name": "stdout",
     "output_type": "stream",
     "text": [
      "Maǧallaẗ Al-Kuwayt li-l-ʿulūm has homepage_url and type journal\n"
     ]
    },
    {
     "name": "stderr",
     "output_type": "stream",
     "text": [
      " 80%|███████████████████████████████████████████████████████▎             | 1248/1556 [10:28<02:12,  2.33it/s]"
     ]
    },
    {
     "name": "stdout",
     "output_type": "stream",
     "text": [
      "Cybernetics and Information Technologies has homepage_url and type journal\n"
     ]
    },
    {
     "name": "stderr",
     "output_type": "stream",
     "text": [
      " 80%|███████████████████████████████████████████████████████▍             | 1250/1556 [10:28<02:17,  2.23it/s]"
     ]
    },
    {
     "name": "stdout",
     "output_type": "stream",
     "text": [
      "Acta IMEKO has homepage_url and type journal\n"
     ]
    },
    {
     "name": "stderr",
     "output_type": "stream",
     "text": [
      " 81%|███████████████████████████████████████████████████████▋             | 1256/1556 [10:31<02:13,  2.24it/s]"
     ]
    },
    {
     "name": "stdout",
     "output_type": "stream",
     "text": [
      "Sučasnì ìnformacìjnì sistemi has homepage_url and type journal\n"
     ]
    },
    {
     "name": "stderr",
     "output_type": "stream",
     "text": [
      " 81%|███████████████████████████████████████████████████████▊             | 1259/1556 [10:33<02:17,  2.17it/s]"
     ]
    },
    {
     "name": "stdout",
     "output_type": "stream",
     "text": [
      "Journal of web engineering/Journal of web engineering on line has homepage_url and type journal\n"
     ]
    },
    {
     "name": "stderr",
     "output_type": "stream",
     "text": [
      " 81%|███████████████████████████████████████████████████████▊             | 1260/1556 [10:33<02:15,  2.19it/s]"
     ]
    },
    {
     "name": "stdout",
     "output_type": "stream",
     "text": [
      "Erkenntnis has homepage_url and type journal\n"
     ]
    },
    {
     "name": "stderr",
     "output_type": "stream",
     "text": [
      " 81%|███████████████████████████████████████████████████████▉             | 1261/1556 [10:34<02:17,  2.15it/s]"
     ]
    },
    {
     "name": "stdout",
     "output_type": "stream",
     "text": [
      "SpringerBriefs in mathematics has homepage_url and type book series\n"
     ]
    },
    {
     "name": "stderr",
     "output_type": "stream",
     "text": [
      " 81%|████████████████████████████████████████████████████████             | 1263/1556 [10:35<02:17,  2.12it/s]"
     ]
    },
    {
     "name": "stdout",
     "output_type": "stream",
     "text": [
      "Journal of quantum computing has homepage_url and type journal\n"
     ]
    },
    {
     "name": "stderr",
     "output_type": "stream",
     "text": [
      " 81%|████████████████████████████████████████████████████████▏            | 1267/1556 [10:37<02:30,  1.92it/s]"
     ]
    },
    {
     "name": "stdout",
     "output_type": "stream",
     "text": [
      "Applied optics has homepage_url and type journal\n"
     ]
    },
    {
     "name": "stderr",
     "output_type": "stream",
     "text": [
      " 81%|████████████████████████████████████████████████████████▏            | 1268/1556 [10:37<02:41,  1.78it/s]"
     ]
    },
    {
     "name": "stdout",
     "output_type": "stream",
     "text": [
      "Physics world has homepage_url and type journal\n"
     ]
    },
    {
     "name": "stderr",
     "output_type": "stream",
     "text": [
      " 82%|████████████████████████████████████████████████████████▍            | 1272/1556 [10:39<02:12,  2.14it/s]"
     ]
    },
    {
     "name": "stdout",
     "output_type": "stream",
     "text": [
      "Topology and its applications has homepage_url and type journal\n"
     ]
    },
    {
     "name": "stderr",
     "output_type": "stream",
     "text": [
      " 82%|████████████████████████████████████████████████████████▍            | 1273/1556 [10:39<02:08,  2.21it/s]"
     ]
    },
    {
     "name": "stdout",
     "output_type": "stream",
     "text": [
      "Sistemi obrobki ìnformacìï has homepage_url and type journal\n"
     ]
    },
    {
     "name": "stderr",
     "output_type": "stream",
     "text": [
      " 82%|████████████████████████████████████████████████████████▍            | 1274/1556 [10:40<02:03,  2.28it/s]"
     ]
    },
    {
     "name": "stdout",
     "output_type": "stream",
     "text": [
      "Notes on IFS has homepage_url and type journal\n"
     ]
    },
    {
     "name": "stderr",
     "output_type": "stream",
     "text": [
      " 82%|████████████████████████████████████████████████████████▌            | 1276/1556 [10:41<02:01,  2.30it/s]"
     ]
    },
    {
     "name": "stdout",
     "output_type": "stream",
     "text": [
      "International journal of advanced networking and applications has homepage_url and type journal\n"
     ]
    },
    {
     "name": "stderr",
     "output_type": "stream",
     "text": [
      " 82%|████████████████████████████████████████████████████████▊            | 1280/1556 [10:42<02:04,  2.22it/s]"
     ]
    },
    {
     "name": "stdout",
     "output_type": "stream",
     "text": [
      "The journal of the British Blockchain Association has homepage_url and type journal\n"
     ]
    },
    {
     "name": "stderr",
     "output_type": "stream",
     "text": [
      " 82%|████████████████████████████████████████████████████████▉            | 1283/1556 [10:44<02:00,  2.26it/s]"
     ]
    },
    {
     "name": "stdout",
     "output_type": "stream",
     "text": [
      "Annali dell'Università di Ferrara. Scienze Matematiche/Annali dell'Università di Ferrara. Sezione 7: Scienze matematiche has homepage_url and type journal\n"
     ]
    },
    {
     "name": "stderr",
     "output_type": "stream",
     "text": [
      " 83%|█████████████████████████████████████████████████████████            | 1288/1556 [10:46<01:58,  2.27it/s]"
     ]
    },
    {
     "name": "stdout",
     "output_type": "stream",
     "text": [
      "Digital communications and networks has homepage_url and type journal\n"
     ]
    },
    {
     "name": "stderr",
     "output_type": "stream",
     "text": [
      " 83%|█████████████████████████████████████████████████████████▍           | 1294/1556 [10:49<01:52,  2.33it/s]"
     ]
    },
    {
     "name": "stdout",
     "output_type": "stream",
     "text": [
      "Computational urban science has homepage_url and type journal\n"
     ]
    },
    {
     "name": "stderr",
     "output_type": "stream",
     "text": [
      " 85%|██████████████████████████████████████████████████████████▎          | 1316/1556 [10:58<01:48,  2.21it/s]"
     ]
    },
    {
     "name": "stdout",
     "output_type": "stream",
     "text": [
      "Periodicals of engineering and natural sciences has homepage_url and type journal\n"
     ]
    },
    {
     "name": "stderr",
     "output_type": "stream",
     "text": [
      " 85%|██████████████████████████████████████████████████████████▍          | 1317/1556 [10:59<01:50,  2.15it/s]"
     ]
    },
    {
     "name": "stdout",
     "output_type": "stream",
     "text": [
      "Asian Journal of Research and Reviews in Physics has homepage_url and type journal\n"
     ]
    },
    {
     "name": "stderr",
     "output_type": "stream",
     "text": [
      " 85%|██████████████████████████████████████████████████████████▍          | 1319/1556 [11:00<01:41,  2.34it/s]"
     ]
    },
    {
     "name": "stdout",
     "output_type": "stream",
     "text": [
      "Filomat has homepage_url and type journal\n"
     ]
    },
    {
     "name": "stderr",
     "output_type": "stream",
     "text": [
      " 85%|██████████████████████████████████████████████████████████▌          | 1320/1556 [11:00<01:54,  2.07it/s]"
     ]
    },
    {
     "name": "stdout",
     "output_type": "stream",
     "text": [
      "Journal of student research has homepage_url and type journal\n"
     ]
    },
    {
     "name": "stderr",
     "output_type": "stream",
     "text": [
      " 85%|██████████████████████████████████████████████████████████▋          | 1323/1556 [11:02<01:49,  2.13it/s]"
     ]
    },
    {
     "name": "stdout",
     "output_type": "stream",
     "text": [
      "Acta electrotechnica et informatica has homepage_url and type journal\n"
     ]
    },
    {
     "name": "stderr",
     "output_type": "stream",
     "text": [
      " 85%|██████████████████████████████████████████████████████████▋          | 1324/1556 [11:02<01:45,  2.21it/s]"
     ]
    },
    {
     "name": "stdout",
     "output_type": "stream",
     "text": [
      "Journal of uncertain systems has homepage_url and type journal\n"
     ]
    },
    {
     "name": "stderr",
     "output_type": "stream",
     "text": [
      " 85%|██████████████████████████████████████████████████████████▊          | 1325/1556 [11:02<01:46,  2.16it/s]"
     ]
    },
    {
     "name": "stdout",
     "output_type": "stream",
     "text": [
      "Recent patents on engineering has homepage_url and type journal\n"
     ]
    },
    {
     "name": "stderr",
     "output_type": "stream",
     "text": [
      " 85%|██████████████████████████████████████████████████████████▊          | 1326/1556 [11:03<01:45,  2.17it/s]"
     ]
    },
    {
     "name": "stdout",
     "output_type": "stream",
     "text": [
      "Journal of geometry and physics has homepage_url and type journal\n"
     ]
    },
    {
     "name": "stderr",
     "output_type": "stream",
     "text": [
      " 85%|██████████████████████████████████████████████████████████▊          | 1327/1556 [11:03<01:42,  2.23it/s]"
     ]
    },
    {
     "name": "stdout",
     "output_type": "stream",
     "text": [
      "Springer series in materials science has homepage_url and type book series\n"
     ]
    },
    {
     "name": "stderr",
     "output_type": "stream",
     "text": [
      " 85%|██████████████████████████████████████████████████████████▉          | 1329/1556 [11:04<01:43,  2.19it/s]"
     ]
    },
    {
     "name": "stdout",
     "output_type": "stream",
     "text": [
      "Special Matrices has homepage_url and type journal\n"
     ]
    },
    {
     "name": "stderr",
     "output_type": "stream",
     "text": [
      " 86%|███████████████████████████████████████████████████████████          | 1332/1556 [11:06<01:44,  2.15it/s]"
     ]
    },
    {
     "name": "stdout",
     "output_type": "stream",
     "text": [
      "Inteligencia artificial has homepage_url and type journal\n"
     ]
    },
    {
     "name": "stderr",
     "output_type": "stream",
     "text": [
      " 86%|███████████████████████████████████████████████████████████          | 1333/1556 [11:06<01:41,  2.21it/s]"
     ]
    },
    {
     "name": "stdout",
     "output_type": "stream",
     "text": [
      "Constraints has homepage_url and type journal\n"
     ]
    },
    {
     "name": "stderr",
     "output_type": "stream",
     "text": [
      " 86%|███████████████████████████████████████████████████████████▏         | 1335/1556 [11:07<01:55,  1.91it/s]"
     ]
    },
    {
     "name": "stdout",
     "output_type": "stream",
     "text": [
      "Quantum electronics has homepage_url and type journal\n"
     ]
    },
    {
     "name": "stderr",
     "output_type": "stream",
     "text": [
      " 86%|███████████████████████████████████████████████████████████▏         | 1336/1556 [11:08<01:48,  2.02it/s]"
     ]
    },
    {
     "name": "stdout",
     "output_type": "stream",
     "text": [
      "Artificial intelligence evolution has homepage_url and type journal\n"
     ]
    },
    {
     "name": "stderr",
     "output_type": "stream",
     "text": [
      " 86%|███████████████████████████████████████████████████████████▎         | 1337/1556 [11:08<01:46,  2.05it/s]"
     ]
    },
    {
     "name": "stdout",
     "output_type": "stream",
     "text": [
      "International journal of advanced intelligence paradigms has homepage_url and type journal\n"
     ]
    },
    {
     "name": "stderr",
     "output_type": "stream",
     "text": [
      " 86%|███████████████████████████████████████████████████████████▌         | 1342/1556 [11:10<01:40,  2.14it/s]"
     ]
    },
    {
     "name": "stdout",
     "output_type": "stream",
     "text": [
      "International journal emerging technology and advanced engineering has homepage_url and type journal\n"
     ]
    },
    {
     "name": "stderr",
     "output_type": "stream",
     "text": [
      " 86%|███████████████████████████████████████████████████████████▌         | 1343/1556 [11:11<01:37,  2.19it/s]"
     ]
    },
    {
     "name": "stdout",
     "output_type": "stream",
     "text": [
      "Fundamenta informaticae has homepage_url and type journal\n"
     ]
    },
    {
     "name": "stderr",
     "output_type": "stream",
     "text": [
      " 86%|███████████████████████████████████████████████████████████▌         | 1344/1556 [11:11<01:42,  2.08it/s]"
     ]
    },
    {
     "name": "stdout",
     "output_type": "stream",
     "text": [
      "Dyna has homepage_url and type journal\n"
     ]
    },
    {
     "name": "stderr",
     "output_type": "stream",
     "text": [
      " 86%|███████████████████████████████████████████████████████████▋         | 1345/1556 [11:12<01:40,  2.11it/s]"
     ]
    },
    {
     "name": "stdout",
     "output_type": "stream",
     "text": [
      "Majallah-i pizhūhish-i fīzīk-i Īrān has homepage_url and type journal\n"
     ]
    },
    {
     "name": "stderr",
     "output_type": "stream",
     "text": [
      " 87%|███████████████████████████████████████████████████████████▋         | 1346/1556 [11:12<01:38,  2.13it/s]"
     ]
    },
    {
     "name": "stdout",
     "output_type": "stream",
     "text": [
      "Azerbaijan journal of high performance computing has homepage_url and type journal\n"
     ]
    },
    {
     "name": "stderr",
     "output_type": "stream",
     "text": [
      " 87%|███████████████████████████████████████████████████████████▋         | 1347/1556 [11:13<01:34,  2.20it/s]"
     ]
    },
    {
     "name": "stdout",
     "output_type": "stream",
     "text": [
      "Digitale Welt has homepage_url and type journal\n"
     ]
    },
    {
     "name": "stderr",
     "output_type": "stream",
     "text": [
      " 87%|███████████████████████████████████████████████████████████▊         | 1348/1556 [11:13<01:50,  1.89it/s]"
     ]
    },
    {
     "name": "stdout",
     "output_type": "stream",
     "text": [
      "Journal of computer science research has homepage_url and type journal\n"
     ]
    },
    {
     "name": "stderr",
     "output_type": "stream",
     "text": [
      " 87%|███████████████████████████████████████████████████████████▉         | 1352/1556 [11:15<01:43,  1.98it/s]"
     ]
    },
    {
     "name": "stdout",
     "output_type": "stream",
     "text": [
      "Computational and mathematical methods has homepage_url and type journal\n"
     ]
    },
    {
     "name": "stderr",
     "output_type": "stream",
     "text": [
      " 87%|███████████████████████████████████████████████████████████▉         | 1353/1556 [11:16<01:38,  2.05it/s]"
     ]
    },
    {
     "name": "stdout",
     "output_type": "stream",
     "text": [
      "Annals of Computer Science and Information Systems has homepage_url and type conference\n"
     ]
    },
    {
     "name": "stderr",
     "output_type": "stream",
     "text": [
      " 87%|████████████████████████████████████████████████████████████▏        | 1357/1556 [11:18<01:32,  2.15it/s]"
     ]
    },
    {
     "name": "stdout",
     "output_type": "stream",
     "text": [
      "International journal of enterprise information systems has homepage_url and type journal\n"
     ]
    },
    {
     "name": "stderr",
     "output_type": "stream",
     "text": [
      " 87%|████████████████████████████████████████████████████████████▎        | 1359/1556 [11:19<01:42,  1.92it/s]"
     ]
    },
    {
     "name": "stdout",
     "output_type": "stream",
     "text": [
      "Higher education research has homepage_url and type journal\n"
     ]
    },
    {
     "name": "stderr",
     "output_type": "stream",
     "text": [
      " 87%|████████████████████████████████████████████████████████████▎        | 1361/1556 [11:20<01:32,  2.11it/s]"
     ]
    },
    {
     "name": "stdout",
     "output_type": "stream",
     "text": [
      "Frontiers of nanoscience has homepage_url and type book series\n"
     ]
    },
    {
     "name": "stderr",
     "output_type": "stream",
     "text": [
      " 88%|████████████████████████████████████████████████████████████▍        | 1363/1556 [11:20<01:27,  2.21it/s]"
     ]
    },
    {
     "name": "stdout",
     "output_type": "stream",
     "text": [
      "Matter : international jornal of science and technology has homepage_url and type journal\n"
     ]
    },
    {
     "name": "stderr",
     "output_type": "stream",
     "text": [
      " 88%|████████████████████████████████████████████████████████████▊        | 1371/1556 [11:25<01:44,  1.76it/s]"
     ]
    },
    {
     "name": "stdout",
     "output_type": "stream",
     "text": [
      "International journal of computer applications has homepage_url and type journal\n"
     ]
    },
    {
     "name": "stderr",
     "output_type": "stream",
     "text": [
      " 88%|████████████████████████████████████████████████████████████▊        | 1372/1556 [11:25<01:43,  1.78it/s]"
     ]
    },
    {
     "name": "stdout",
     "output_type": "stream",
     "text": [
      "Žurnal Srednevolžskogo matematičeskogo obŝestva has homepage_url and type journal\n"
     ]
    },
    {
     "name": "stderr",
     "output_type": "stream",
     "text": [
      " 89%|█████████████████████████████████████████████████████████████▏       | 1380/1556 [11:29<01:20,  2.18it/s]"
     ]
    },
    {
     "name": "stdout",
     "output_type": "stream",
     "text": [
      "Problemy Techniki Uzbrojenia i Radiolokacji has homepage_url and type journal\n"
     ]
    },
    {
     "name": "stderr",
     "output_type": "stream",
     "text": [
      " 89%|█████████████████████████████████████████████████████████████▎       | 1383/1556 [11:30<01:15,  2.28it/s]"
     ]
    },
    {
     "name": "stdout",
     "output_type": "stream",
     "text": [
      "DESALINATION AND WATER TREATMENT has homepage_url and type journal\n"
     ]
    },
    {
     "name": "stderr",
     "output_type": "stream",
     "text": [
      " 89%|█████████████████████████████████████████████████████████████▍       | 1385/1556 [11:31<01:16,  2.23it/s]"
     ]
    },
    {
     "name": "stdout",
     "output_type": "stream",
     "text": [
      "Reportes científicos de la FACEN has homepage_url and type journal\n"
     ]
    },
    {
     "name": "stderr",
     "output_type": "stream",
     "text": [
      " 89%|█████████████████████████████████████████████████████████████▌       | 1388/1556 [11:33<01:33,  1.80it/s]"
     ]
    },
    {
     "name": "stdout",
     "output_type": "stream",
     "text": [
      "Journal of Engineering Science has homepage_url and type journal\n"
     ]
    },
    {
     "name": "stderr",
     "output_type": "stream",
     "text": [
      " 89%|█████████████████████████████████████████████████████████████▋       | 1391/1556 [11:34<01:18,  2.11it/s]"
     ]
    },
    {
     "name": "stdout",
     "output_type": "stream",
     "text": [
      "Jixie gongcheng xuebao has homepage_url and type journal\n"
     ]
    },
    {
     "name": "stderr",
     "output_type": "stream",
     "text": [
      " 90%|█████████████████████████████████████████████████████████████▊       | 1393/1556 [11:35<01:32,  1.77it/s]"
     ]
    },
    {
     "name": "stdout",
     "output_type": "stream",
     "text": [
      "Cybernetics and systems has homepage_url and type journal\n"
     ]
    },
    {
     "name": "stderr",
     "output_type": "stream",
     "text": [
      " 90%|█████████████████████████████████████████████████████████████▊       | 1394/1556 [11:36<01:26,  1.87it/s]"
     ]
    },
    {
     "name": "stdout",
     "output_type": "stream",
     "text": [
      "IACR transactions on cryptographic hardware and embedded systems has homepage_url and type journal\n"
     ]
    },
    {
     "name": "stderr",
     "output_type": "stream",
     "text": [
      " 90%|█████████████████████████████████████████████████████████████▉       | 1396/1556 [11:37<01:19,  2.01it/s]"
     ]
    },
    {
     "name": "stdout",
     "output_type": "stream",
     "text": [
      "Government information quarterly has homepage_url and type journal\n"
     ]
    },
    {
     "name": "stderr",
     "output_type": "stream",
     "text": [
      " 90%|█████████████████████████████████████████████████████████████▉       | 1397/1556 [11:37<01:18,  2.02it/s]"
     ]
    },
    {
     "name": "stdout",
     "output_type": "stream",
     "text": [
      "Scalable Computing. Practice and Experience has homepage_url and type journal\n"
     ]
    },
    {
     "name": "stderr",
     "output_type": "stream",
     "text": [
      " 90%|██████████████████████████████████████████████████████████████       | 1399/1556 [11:38<01:12,  2.16it/s]"
     ]
    },
    {
     "name": "stdout",
     "output_type": "stream",
     "text": [
      "Peer-to-peer networking and applications has homepage_url and type journal\n"
     ]
    },
    {
     "name": "stderr",
     "output_type": "stream",
     "text": [
      " 90%|██████████████████████████████████████████████████████████████▏      | 1402/1556 [11:40<01:10,  2.19it/s]"
     ]
    },
    {
     "name": "stdout",
     "output_type": "stream",
     "text": [
      "Multimedia tools and applications has homepage_url and type journal\n"
     ]
    },
    {
     "name": "stderr",
     "output_type": "stream",
     "text": [
      " 90%|██████████████████████████████████████████████████████████████▏      | 1403/1556 [11:40<01:10,  2.18it/s]"
     ]
    },
    {
     "name": "stdout",
     "output_type": "stream",
     "text": [
      "ICT express has homepage_url and type journal\n"
     ]
    },
    {
     "name": "stderr",
     "output_type": "stream",
     "text": [
      " 90%|██████████████████████████████████████████████████████████████▎      | 1405/1556 [11:41<01:09,  2.17it/s]"
     ]
    },
    {
     "name": "stdout",
     "output_type": "stream",
     "text": [
      "Metrology and Measurement Systems/Metrologia i Systemy Pomiarowe has homepage_url and type journal\n"
     ]
    },
    {
     "name": "stderr",
     "output_type": "stream",
     "text": [
      " 90%|██████████████████████████████████████████████████████████████▍      | 1407/1556 [11:42<01:09,  2.14it/s]"
     ]
    },
    {
     "name": "stdout",
     "output_type": "stream",
     "text": [
      "Low temperature physics has homepage_url and type journal\n"
     ]
    },
    {
     "name": "stderr",
     "output_type": "stream",
     "text": [
      " 90%|██████████████████████████████████████████████████████████████▍      | 1408/1556 [11:42<01:08,  2.16it/s]"
     ]
    },
    {
     "name": "stdout",
     "output_type": "stream",
     "text": [
      "ITM web of conferences has homepage_url and type journal\n"
     ]
    },
    {
     "name": "stderr",
     "output_type": "stream",
     "text": [
      " 91%|██████████████████████████████████████████████████████████████▍      | 1409/1556 [11:43<01:07,  2.17it/s]"
     ]
    },
    {
     "name": "stdout",
     "output_type": "stream",
     "text": [
      "IEEE transactions on network science and engineering has homepage_url and type journal\n"
     ]
    },
    {
     "name": "stderr",
     "output_type": "stream",
     "text": [
      " 91%|██████████████████████████████████████████████████████████████▌      | 1410/1556 [11:43<01:06,  2.19it/s]"
     ]
    },
    {
     "name": "stdout",
     "output_type": "stream",
     "text": [
      "EAI endorsed transactions on internet of things has homepage_url and type journal\n"
     ]
    },
    {
     "name": "stderr",
     "output_type": "stream",
     "text": [
      " 91%|██████████████████████████████████████████████████████████████▌      | 1411/1556 [11:44<01:04,  2.23it/s]"
     ]
    },
    {
     "name": "stdout",
     "output_type": "stream",
     "text": [
      "Transactions on emerging telecommunications technologies has homepage_url and type journal\n"
     ]
    },
    {
     "name": "stderr",
     "output_type": "stream",
     "text": [
      " 91%|██████████████████████████████████████████████████████████████▌      | 1412/1556 [11:44<01:05,  2.21it/s]"
     ]
    },
    {
     "name": "stdout",
     "output_type": "stream",
     "text": [
      "La matematica has homepage_url and type journal\n"
     ]
    },
    {
     "name": "stderr",
     "output_type": "stream",
     "text": [
      " 91%|██████████████████████████████████████████████████████████████▋      | 1415/1556 [11:46<01:07,  2.08it/s]"
     ]
    },
    {
     "name": "stdout",
     "output_type": "stream",
     "text": [
      "Advances in space research has homepage_url and type journal\n"
     ]
    },
    {
     "name": "stderr",
     "output_type": "stream",
     "text": [
      " 91%|██████████████████████████████████████████████████████████████▊      | 1417/1556 [11:47<01:08,  2.04it/s]"
     ]
    },
    {
     "name": "stdout",
     "output_type": "stream",
     "text": [
      "International journal of sensor networks has homepage_url and type journal\n"
     ]
    },
    {
     "name": "stderr",
     "output_type": "stream",
     "text": [
      " 91%|██████████████████████████████████████████████████████████████▉      | 1419/1556 [11:47<01:02,  2.19it/s]"
     ]
    },
    {
     "name": "stdout",
     "output_type": "stream",
     "text": [
      "Cryptography and communications has homepage_url and type journal\n"
     ]
    },
    {
     "name": "stderr",
     "output_type": "stream",
     "text": [
      " 91%|██████████████████████████████████████████████████████████████▉      | 1420/1556 [11:48<01:02,  2.17it/s]"
     ]
    },
    {
     "name": "stdout",
     "output_type": "stream",
     "text": [
      "International journal of wireless and microwave technologies has homepage_url and type journal\n"
     ]
    },
    {
     "name": "stderr",
     "output_type": "stream",
     "text": [
      " 91%|███████████████████████████████████████████████████████████████      | 1423/1556 [11:49<00:58,  2.26it/s]"
     ]
    },
    {
     "name": "stdout",
     "output_type": "stream",
     "text": [
      "Journal of number theory has homepage_url and type journal\n"
     ]
    },
    {
     "name": "stderr",
     "output_type": "stream",
     "text": [
      " 92%|███████████████████████████████████████████████████████████████▏     | 1424/1556 [11:50<00:59,  2.23it/s]"
     ]
    },
    {
     "name": "stdout",
     "output_type": "stream",
     "text": [
      "Journal of systems architecture has homepage_url and type journal\n"
     ]
    },
    {
     "name": "stderr",
     "output_type": "stream",
     "text": [
      " 92%|███████████████████████████████████████████████████████████████▎     | 1429/1556 [11:52<01:00,  2.11it/s]"
     ]
    },
    {
     "name": "stdout",
     "output_type": "stream",
     "text": [
      "International journal of computing and digital system/International Journal of Computing and Digital Systems has homepage_url and type journal\n"
     ]
    },
    {
     "name": "stderr",
     "output_type": "stream",
     "text": [
      " 92%|███████████████████████████████████████████████████████████████▌     | 1432/1556 [11:54<00:57,  2.16it/s]"
     ]
    },
    {
     "name": "stdout",
     "output_type": "stream",
     "text": [
      "Malaysian Journal of Fundamental and Applied Sciences has homepage_url and type journal\n"
     ]
    },
    {
     "name": "stderr",
     "output_type": "stream",
     "text": [
      " 92%|███████████████████████████████████████████████████████████████▌     | 1433/1556 [11:54<01:07,  1.82it/s]"
     ]
    },
    {
     "name": "stdout",
     "output_type": "stream",
     "text": [
      "Wireless networks has homepage_url and type journal\n"
     ]
    },
    {
     "name": "stderr",
     "output_type": "stream",
     "text": [
      " 92%|███████████████████████████████████████████████████████████████▋     | 1435/1556 [11:55<01:02,  1.93it/s]"
     ]
    },
    {
     "name": "stdout",
     "output_type": "stream",
     "text": [
      "Matematičeskie voprosy kriptografii has homepage_url and type journal\n"
     ]
    },
    {
     "name": "stderr",
     "output_type": "stream",
     "text": [
      " 92%|███████████████████████████████████████████████████████████████▋     | 1436/1556 [11:56<01:05,  1.82it/s]"
     ]
    },
    {
     "name": "stdout",
     "output_type": "stream",
     "text": [
      "F1000Research has homepage_url and type journal\n"
     ]
    },
    {
     "name": "stderr",
     "output_type": "stream",
     "text": [
      " 92%|███████████████████████████████████████████████████████████████▋     | 1437/1556 [11:57<01:13,  1.61it/s]"
     ]
    },
    {
     "name": "stdout",
     "output_type": "stream",
     "text": [
      "Vehicles has homepage_url and type journal\n"
     ]
    },
    {
     "name": "stderr",
     "output_type": "stream",
     "text": [
      " 93%|███████████████████████████████████████████████████████████████▊     | 1440/1556 [11:58<00:57,  2.01it/s]"
     ]
    },
    {
     "name": "stdout",
     "output_type": "stream",
     "text": [
      "Journal of the European Optical Society. Rapid publications has homepage_url and type journal\n"
     ]
    },
    {
     "name": "stderr",
     "output_type": "stream",
     "text": [
      " 93%|███████████████████████████████████████████████████████████████▉     | 1441/1556 [11:59<01:00,  1.91it/s]"
     ]
    },
    {
     "name": "stdout",
     "output_type": "stream",
     "text": [
      "Journal of Electronic Science and Technology/Journal of electronic science and technology has homepage_url and type journal\n"
     ]
    },
    {
     "name": "stderr",
     "output_type": "stream",
     "text": [
      " 93%|███████████████████████████████████████████████████████████████▉     | 1443/1556 [11:59<00:55,  2.05it/s]"
     ]
    },
    {
     "name": "stdout",
     "output_type": "stream",
     "text": [
      "Optical fiber technology has homepage_url and type journal\n"
     ]
    },
    {
     "name": "stderr",
     "output_type": "stream",
     "text": [
      " 93%|████████████████████████████████████████████████████████████████     | 1446/1556 [12:01<00:55,  1.99it/s]"
     ]
    },
    {
     "name": "stdout",
     "output_type": "stream",
     "text": [
      "Journal of sensors has homepage_url and type journal\n"
     ]
    },
    {
     "name": "stderr",
     "output_type": "stream",
     "text": [
      " 93%|████████████████████████████████████████████████████████████████▏    | 1448/1556 [12:02<00:50,  2.12it/s]"
     ]
    },
    {
     "name": "stdout",
     "output_type": "stream",
     "text": [
      "Scientific journal of Astana IT University has homepage_url and type journal\n"
     ]
    },
    {
     "name": "stderr",
     "output_type": "stream",
     "text": [
      " 93%|████████████████████████████████████████████████████████████████▎    | 1450/1556 [12:03<00:49,  2.15it/s]"
     ]
    },
    {
     "name": "stdout",
     "output_type": "stream",
     "text": [
      "Journal of optical technology online/Journal of optical technology has homepage_url and type journal\n"
     ]
    },
    {
     "name": "stderr",
     "output_type": "stream",
     "text": [
      " 94%|████████████████████████████████████████████████████████████████▌    | 1455/1556 [12:05<00:47,  2.13it/s]"
     ]
    },
    {
     "name": "stdout",
     "output_type": "stream",
     "text": [
      "Journal of Information Security and Cryptography has homepage_url and type journal\n"
     ]
    },
    {
     "name": "stderr",
     "output_type": "stream",
     "text": [
      " 94%|████████████████████████████████████████████████████████████████▌    | 1456/1556 [12:06<00:47,  2.11it/s]"
     ]
    },
    {
     "name": "stdout",
     "output_type": "stream",
     "text": [
      "Scientific African has homepage_url and type journal\n"
     ]
    },
    {
     "name": "stderr",
     "output_type": "stream",
     "text": [
      " 94%|████████████████████████████████████████████████████████████████▋    | 1458/1556 [12:06<00:44,  2.19it/s]"
     ]
    },
    {
     "name": "stdout",
     "output_type": "stream",
     "text": [
      "T-comm has homepage_url and type journal\n"
     ]
    },
    {
     "name": "stderr",
     "output_type": "stream",
     "text": [
      " 94%|████████████████████████████████████████████████████████████████▉    | 1463/1556 [12:09<00:43,  2.13it/s]"
     ]
    },
    {
     "name": "stdout",
     "output_type": "stream",
     "text": [
      "Naučnye i tehničeskie biblioteki has homepage_url and type journal\n"
     ]
    },
    {
     "name": "stderr",
     "output_type": "stream",
     "text": [
      " 94%|████████████████████████████████████████████████████████████████▉    | 1464/1556 [12:09<00:43,  2.10it/s]"
     ]
    },
    {
     "name": "stdout",
     "output_type": "stream",
     "text": [
      "Sistemnyj analiz i prikladnaâ informatika has homepage_url and type journal\n"
     ]
    },
    {
     "name": "stderr",
     "output_type": "stream",
     "text": [
      " 94%|████████████████████████████████████████████████████████████████▉    | 1465/1556 [12:10<00:43,  2.10it/s]"
     ]
    },
    {
     "name": "stdout",
     "output_type": "stream",
     "text": [
      "International journal of advanced research in computer and communication engineering has homepage_url and type journal\n"
     ]
    },
    {
     "name": "stderr",
     "output_type": "stream",
     "text": [
      " 94%|█████████████████████████████████████████████████████████████████    | 1467/1556 [12:11<00:41,  2.12it/s]"
     ]
    },
    {
     "name": "stdout",
     "output_type": "stream",
     "text": [
      "International journal for information security research has homepage_url and type journal\n"
     ]
    },
    {
     "name": "stderr",
     "output_type": "stream",
     "text": [
      " 94%|█████████████████████████████████████████████████████████████████    | 1468/1556 [12:12<00:51,  1.70it/s]"
     ]
    },
    {
     "name": "stdout",
     "output_type": "stream",
     "text": [
      "Journal of scientific research has homepage_url and type journal\n"
     ]
    },
    {
     "name": "stderr",
     "output_type": "stream",
     "text": [
      " 95%|█████████████████████████████████████████████████████████████████▏   | 1471/1556 [12:13<00:42,  2.02it/s]"
     ]
    },
    {
     "name": "stdout",
     "output_type": "stream",
     "text": [
      "Journal of cyber security and mobility has homepage_url and type journal\n"
     ]
    },
    {
     "name": "stderr",
     "output_type": "stream",
     "text": [
      " 95%|█████████████████████████████████████████████████████████████████▎   | 1472/1556 [12:13<00:40,  2.07it/s]"
     ]
    },
    {
     "name": "stdout",
     "output_type": "stream",
     "text": [
      "International journal of ad hoc and ubiquitous computing has homepage_url and type journal\n"
     ]
    },
    {
     "name": "stderr",
     "output_type": "stream",
     "text": [
      " 95%|█████████████████████████████████████████████████████████████████▎   | 1473/1556 [12:14<00:38,  2.14it/s]"
     ]
    },
    {
     "name": "stdout",
     "output_type": "stream",
     "text": [
      "Teoretičeskaâ i matematičeskaâ fizika has homepage_url and type journal\n"
     ]
    },
    {
     "name": "stderr",
     "output_type": "stream",
     "text": [
      " 95%|█████████████████████████████████████████████████████████████████▎   | 1474/1556 [12:14<00:39,  2.09it/s]"
     ]
    },
    {
     "name": "stdout",
     "output_type": "stream",
     "text": [
      "Physical science international journal has homepage_url and type journal\n"
     ]
    },
    {
     "name": "stderr",
     "output_type": "stream",
     "text": [
      " 95%|█████████████████████████████████████████████████████████████████▍   | 1477/1556 [12:16<00:37,  2.13it/s]"
     ]
    },
    {
     "name": "stdout",
     "output_type": "stream",
     "text": [
      "Nonlinear phenomena in complex systems has homepage_url and type journal\n"
     ]
    },
    {
     "name": "stderr",
     "output_type": "stream",
     "text": [
      " 95%|█████████████████████████████████████████████████████████████████▌   | 1479/1556 [12:17<00:35,  2.16it/s]"
     ]
    },
    {
     "name": "stdout",
     "output_type": "stream",
     "text": [
      "Revista de tecnologías computacionales has homepage_url and type journal\n"
     ]
    },
    {
     "name": "stderr",
     "output_type": "stream",
     "text": [
      " 95%|█████████████████████████████████████████████████████████████████▋   | 1481/1556 [12:18<00:36,  2.07it/s]"
     ]
    },
    {
     "name": "stdout",
     "output_type": "stream",
     "text": [
      "Helix has homepage_url and type journal\n"
     ]
    },
    {
     "name": "stderr",
     "output_type": "stream",
     "text": [
      " 95%|█████████████████████████████████████████████████████████████████▊   | 1483/1556 [12:18<00:33,  2.19it/s]"
     ]
    },
    {
     "name": "stdout",
     "output_type": "stream",
     "text": [
      "International journal of current engineering and technology has homepage_url and type journal\n"
     ]
    },
    {
     "name": "stderr",
     "output_type": "stream",
     "text": [
      " 95%|█████████████████████████████████████████████████████████████████▊   | 1484/1556 [12:19<00:32,  2.21it/s]"
     ]
    },
    {
     "name": "stdout",
     "output_type": "stream",
     "text": [
      "ACS sensors has homepage_url and type journal\n"
     ]
    },
    {
     "name": "stderr",
     "output_type": "stream",
     "text": [
      " 95%|█████████████████████████████████████████████████████████████████▊   | 1485/1556 [12:19<00:32,  2.16it/s]"
     ]
    },
    {
     "name": "stdout",
     "output_type": "stream",
     "text": [
      "Analytica chimica acta has homepage_url and type journal\n"
     ]
    },
    {
     "name": "stderr",
     "output_type": "stream",
     "text": [
      " 96%|█████████████████████████████████████████████████████████████████▉   | 1486/1556 [12:20<00:31,  2.19it/s]"
     ]
    },
    {
     "name": "stdout",
     "output_type": "stream",
     "text": [
      "eLight has homepage_url and type journal\n"
     ]
    },
    {
     "name": "stderr",
     "output_type": "stream",
     "text": [
      " 96%|█████████████████████████████████████████████████████████████████▉   | 1487/1556 [12:20<00:30,  2.25it/s]"
     ]
    },
    {
     "name": "stdout",
     "output_type": "stream",
     "text": [
      "npj 2D materials and applications has homepage_url and type journal\n"
     ]
    },
    {
     "name": "stderr",
     "output_type": "stream",
     "text": [
      " 96%|██████████████████████████████████████████████████████████████████   | 1489/1556 [12:21<00:35,  1.91it/s]"
     ]
    },
    {
     "name": "stdout",
     "output_type": "stream",
     "text": [
      "Chemical reviews has homepage_url and type journal\n"
     ]
    },
    {
     "name": "stderr",
     "output_type": "stream",
     "text": [
      " 96%|██████████████████████████████████████████████████████████████████   | 1490/1556 [12:22<00:33,  1.96it/s]"
     ]
    },
    {
     "name": "stdout",
     "output_type": "stream",
     "text": [
      "Advanced electronic materials has homepage_url and type journal\n"
     ]
    },
    {
     "name": "stderr",
     "output_type": "stream",
     "text": [
      " 96%|██████████████████████████████████████████████████████████████████▏  | 1492/1556 [12:23<00:38,  1.66it/s]"
     ]
    },
    {
     "name": "stdout",
     "output_type": "stream",
     "text": [
      "Small has homepage_url and type journal\n"
     ]
    },
    {
     "name": "stderr",
     "output_type": "stream",
     "text": [
      " 96%|██████████████████████████████████████████████████████████████████▏  | 1493/1556 [12:24<00:35,  1.77it/s]"
     ]
    },
    {
     "name": "stdout",
     "output_type": "stream",
     "text": [
      "Journal of Semiconductors/Journal of semiconductors has homepage_url and type journal\n"
     ]
    },
    {
     "name": "stderr",
     "output_type": "stream",
     "text": [
      " 96%|██████████████████████████████████████████████████████████████████▎  | 1494/1556 [12:24<00:32,  1.91it/s]"
     ]
    },
    {
     "name": "stdout",
     "output_type": "stream",
     "text": [
      "Surveys in geophysics has homepage_url and type journal\n"
     ]
    },
    {
     "name": "stderr",
     "output_type": "stream",
     "text": [
      " 96%|██████████████████████████████████████████████████████████████████▎  | 1495/1556 [12:25<00:30,  2.01it/s]"
     ]
    },
    {
     "name": "stdout",
     "output_type": "stream",
     "text": [
      "ACS Physical Chemistry Au has homepage_url and type journal\n"
     ]
    },
    {
     "name": "stderr",
     "output_type": "stream",
     "text": [
      " 96%|██████████████████████████████████████████████████████████████████▍  | 1499/1556 [12:26<00:25,  2.23it/s]"
     ]
    },
    {
     "name": "stdout",
     "output_type": "stream",
     "text": [
      "Current materials science has homepage_url and type journal\n"
     ]
    },
    {
     "name": "stderr",
     "output_type": "stream",
     "text": [
      " 96%|██████████████████████████████████████████████████████████████████▌  | 1500/1556 [12:27<00:25,  2.20it/s]"
     ]
    },
    {
     "name": "stdout",
     "output_type": "stream",
     "text": [
      "Advanced photonics research has homepage_url and type journal\n"
     ]
    },
    {
     "name": "stderr",
     "output_type": "stream",
     "text": [
      " 97%|██████████████████████████████████████████████████████████████████▌  | 1502/1556 [12:28<00:24,  2.24it/s]"
     ]
    },
    {
     "name": "stdout",
     "output_type": "stream",
     "text": [
      "Annual review of nuclear and particle science has homepage_url and type journal\n"
     ]
    },
    {
     "name": "stderr",
     "output_type": "stream",
     "text": [
      " 97%|██████████████████████████████████████████████████████████████████▋  | 1503/1556 [12:28<00:24,  2.20it/s]"
     ]
    },
    {
     "name": "stdout",
     "output_type": "stream",
     "text": [
      "Membranes has homepage_url and type journal\n"
     ]
    },
    {
     "name": "stderr",
     "output_type": "stream",
     "text": [
      " 97%|██████████████████████████████████████████████████████████████████▊  | 1506/1556 [12:30<00:22,  2.18it/s]"
     ]
    },
    {
     "name": "stdout",
     "output_type": "stream",
     "text": [
      "Europan journal of science and technology has homepage_url and type journal\n"
     ]
    },
    {
     "name": "stderr",
     "output_type": "stream",
     "text": [
      " 97%|██████████████████████████████████████████████████████████████████▊  | 1508/1556 [12:30<00:22,  2.17it/s]"
     ]
    },
    {
     "name": "stdout",
     "output_type": "stream",
     "text": [
      "Advances in mathematical physics has homepage_url and type journal\n"
     ]
    },
    {
     "name": "stderr",
     "output_type": "stream",
     "text": [
      " 97%|██████████████████████████████████████████████████████████████████▉  | 1509/1556 [12:31<00:21,  2.16it/s]"
     ]
    },
    {
     "name": "stdout",
     "output_type": "stream",
     "text": [
      "Advanced physics research has homepage_url and type journal\n"
     ]
    },
    {
     "name": "stderr",
     "output_type": "stream",
     "text": [
      " 97%|██████████████████████████████████████████████████████████████████▉  | 1510/1556 [12:31<00:22,  2.08it/s]"
     ]
    },
    {
     "name": "stdout",
     "output_type": "stream",
     "text": [
      "Galaxies has homepage_url and type journal\n"
     ]
    },
    {
     "name": "stderr",
     "output_type": "stream",
     "text": [
      " 97%|███████████████████████████████████████████████████████████████████▏ | 1514/1556 [12:33<00:19,  2.20it/s]"
     ]
    },
    {
     "name": "stdout",
     "output_type": "stream",
     "text": [
      "Faraday discussions has homepage_url and type journal\n"
     ]
    },
    {
     "name": "stderr",
     "output_type": "stream",
     "text": [
      " 97%|███████████████████████████████████████████████████████████████████▏ | 1515/1556 [12:34<00:18,  2.24it/s]"
     ]
    },
    {
     "name": "stdout",
     "output_type": "stream",
     "text": [
      "International journal of modern physics D has homepage_url and type journal\n"
     ]
    },
    {
     "name": "stderr",
     "output_type": "stream",
     "text": [
      " 97%|███████████████████████████████████████████████████████████████████▏ | 1516/1556 [12:34<00:18,  2.22it/s]"
     ]
    },
    {
     "name": "stdout",
     "output_type": "stream",
     "text": [
      "Biophysics and physicobiology has homepage_url and type journal\n"
     ]
    },
    {
     "name": "stderr",
     "output_type": "stream",
     "text": [
      " 97%|███████████████████████████████████████████████████████████████████▎ | 1517/1556 [12:35<00:20,  1.88it/s]"
     ]
    },
    {
     "name": "stdout",
     "output_type": "stream",
     "text": [
      "Micro has homepage_url and type journal\n"
     ]
    },
    {
     "name": "stderr",
     "output_type": "stream",
     "text": [
      " 98%|███████████████████████████████████████████████████████████████████▎ | 1518/1556 [12:35<00:19,  1.96it/s]"
     ]
    },
    {
     "name": "stdout",
     "output_type": "stream",
     "text": [
      "Applied science and convergence technology/Han'gug jin'gong hag'hoeji has homepage_url and type journal\n"
     ]
    },
    {
     "name": "stderr",
     "output_type": "stream",
     "text": [
      " 98%|███████████████████████████████████████████████████████████████████▎ | 1519/1556 [12:36<00:18,  2.02it/s]"
     ]
    },
    {
     "name": "stdout",
     "output_type": "stream",
     "text": [
      "Revista mexicana de física E has homepage_url and type journal\n"
     ]
    },
    {
     "name": "stderr",
     "output_type": "stream",
     "text": [
      " 98%|███████████████████████████████████████████████████████████████████▌ | 1524/1556 [12:38<00:14,  2.19it/s]"
     ]
    },
    {
     "name": "stdout",
     "output_type": "stream",
     "text": [
      "Springer series in solid-state sciences has homepage_url and type book series\n"
     ]
    },
    {
     "name": "stderr",
     "output_type": "stream",
     "text": [
      " 98%|███████████████████████████████████████████████████████████████████▋ | 1525/1556 [12:38<00:13,  2.23it/s]"
     ]
    },
    {
     "name": "stdout",
     "output_type": "stream",
     "text": [
      "Eskişehir teknik üniversitesi bilim ve teknoloji dergisi b- teorik bilimler has homepage_url and type journal\n"
     ]
    },
    {
     "name": "stderr",
     "output_type": "stream",
     "text": [
      " 98%|███████████████████████████████████████████████████████████████████▋ | 1527/1556 [12:39<00:13,  2.21it/s]"
     ]
    },
    {
     "name": "stdout",
     "output_type": "stream",
     "text": [
      "Mathematische Annalen has homepage_url and type journal\n"
     ]
    },
    {
     "name": "stderr",
     "output_type": "stream",
     "text": [
      " 98%|███████████████████████████████████████████████████████████████████▊ | 1528/1556 [12:40<00:12,  2.24it/s]"
     ]
    },
    {
     "name": "stdout",
     "output_type": "stream",
     "text": [
      "SciPost physics proceedings has homepage_url and type journal\n"
     ]
    },
    {
     "name": "stderr",
     "output_type": "stream",
     "text": [
      " 98%|███████████████████████████████████████████████████████████████████▉ | 1531/1556 [12:41<00:11,  2.23it/s]"
     ]
    },
    {
     "name": "stdout",
     "output_type": "stream",
     "text": [
      "Süleyman demirel üniversitesi fen-edebiyat fakültesi fen dergisi has homepage_url and type journal\n"
     ]
    },
    {
     "name": "stderr",
     "output_type": "stream",
     "text": [
      " 98%|███████████████████████████████████████████████████████████████████▉ | 1532/1556 [12:42<00:10,  2.22it/s]"
     ]
    },
    {
     "name": "stdout",
     "output_type": "stream",
     "text": [
      "Quarterly journal of mathematics has homepage_url and type journal\n"
     ]
    },
    {
     "name": "stderr",
     "output_type": "stream",
     "text": [
      " 99%|████████████████████████████████████████████████████████████████████ | 1534/1556 [12:42<00:09,  2.26it/s]"
     ]
    },
    {
     "name": "stdout",
     "output_type": "stream",
     "text": [
      "Teachers College record has homepage_url and type journal\n"
     ]
    },
    {
     "name": "stderr",
     "output_type": "stream",
     "text": [
      " 99%|████████████████████████████████████████████████████████████████████ | 1536/1556 [12:43<00:08,  2.31it/s]"
     ]
    },
    {
     "name": "stdout",
     "output_type": "stream",
     "text": [
      "SpringerBriefs in applied sciences and technology has homepage_url and type book series\n"
     ]
    },
    {
     "name": "stderr",
     "output_type": "stream",
     "text": [
      " 99%|████████████████████████████████████████████████████████████████████▎| 1540/1556 [12:45<00:06,  2.36it/s]"
     ]
    },
    {
     "name": "stdout",
     "output_type": "stream",
     "text": [
      "Theoretical and applied cybersecurity has homepage_url and type journal\n"
     ]
    },
    {
     "name": "stderr",
     "output_type": "stream",
     "text": [
      " 99%|████████████████████████████████████████████████████████████████████▎| 1541/1556 [12:45<00:06,  2.37it/s]"
     ]
    },
    {
     "name": "stdout",
     "output_type": "stream",
     "text": [
      "Barekeng has homepage_url and type journal\n"
     ]
    },
    {
     "name": "stderr",
     "output_type": "stream",
     "text": [
      " 99%|████████████████████████████████████████████████████████████████████▍| 1544/1556 [12:47<00:05,  2.30it/s]"
     ]
    },
    {
     "name": "stdout",
     "output_type": "stream",
     "text": [
      "Applied computing and informatics has homepage_url and type journal\n"
     ]
    },
    {
     "name": "stderr",
     "output_type": "stream",
     "text": [
      "100%|████████████████████████████████████████████████████████████████████▋| 1549/1556 [12:49<00:03,  2.27it/s]"
     ]
    },
    {
     "name": "stdout",
     "output_type": "stream",
     "text": [
      "EPiC series in computing has homepage_url and type journal\n"
     ]
    },
    {
     "name": "stderr",
     "output_type": "stream",
     "text": [
      "100%|████████████████████████████████████████████████████████████████████▉| 1554/1556 [12:51<00:00,  2.23it/s]"
     ]
    },
    {
     "name": "stdout",
     "output_type": "stream",
     "text": [
      "Informacionno-upravlâûŝie sistemy has homepage_url and type journal\n"
     ]
    },
    {
     "name": "stderr",
     "output_type": "stream",
     "text": [
      "100%|████████████████████████████████████████████████████████████████████▉| 1555/1556 [12:52<00:00,  2.26it/s]"
     ]
    },
    {
     "name": "stdout",
     "output_type": "stream",
     "text": [
      "Pramāna has homepage_url and type journal\n"
     ]
    },
    {
     "name": "stderr",
     "output_type": "stream",
     "text": [
      "100%|█████████████████████████████████████████████████████████████████████| 1556/1556 [12:52<00:00,  2.01it/s]\n"
     ]
    }
   ],
   "source": [
    "source_page_dict = get_display_page_dict(sources_list)"
   ]
  },
  {
   "cell_type": "code",
   "execution_count": 142,
   "id": "9be91fd9-321d-4e65-b31b-54c84c9f8990",
   "metadata": {},
   "outputs": [
    {
     "data": {
      "text/plain": [
       "1349"
      ]
     },
     "execution_count": 142,
     "metadata": {},
     "output_type": "execute_result"
    }
   ],
   "source": [
    "len(source_page_dict)"
   ]
  },
  {
   "cell_type": "code",
   "execution_count": 143,
   "id": "aed83f30-a8d5-4772-934a-bd2d59417a4d",
   "metadata": {},
   "outputs": [],
   "source": [
    "import pickle\n",
    "\n",
    "with open(\"updatesource_page_dict.pkl\", \"wb\") as f:\n",
    "    pickle.dump(source_page_dict, f)"
   ]
  },
  {
   "cell_type": "code",
   "execution_count": 144,
   "id": "fb0fcc89-8a5a-4dd0-b73e-d12acacd13e3",
   "metadata": {},
   "outputs": [],
   "source": [
    "with open(\"updatesource_page_dict.pkl\", \"rb\") as f:\n",
    "    source_dict = pickle.load(f)"
   ]
  },
  {
   "cell_type": "code",
   "execution_count": 145,
   "id": "3ae801d1-0fee-4b6f-b8f5-affa64d89264",
   "metadata": {},
   "outputs": [],
   "source": [
    "def get_journals_cluster_sort(dc:pd.DataFrame, cl:int):\n",
    "    \"\"\"\n",
    "    restricts the dataframe dc to cluster value cl\n",
    "    and returns the results grouped by source (where\n",
    "    source_type == 'journal') sorted\n",
    "    by the some of probablity descending\n",
    "    \"\"\"\n",
    "    dg = dc[dc['paper_cluster'] == cl].copy()\n",
    "    print(cl)\n",
    "    dv = dg[dg['source_type'] == 'journal'].groupby(['source'])['paper_cluster_score'].sum().to_frame()\n",
    "    dv.sort_values('paper_cluster_score', ascending=False, inplace=True)\n",
    "    dv['journal'] = dv.index\n",
    "    dv['hompage_url'] = dv['journal'].map(source_dict)\n",
    "    kw = centroids[centroids.cluster == cl]['keywords'].iloc[0]\n",
    "    return dv, kw"
   ]
  },
  {
   "cell_type": "code",
   "execution_count": 146,
   "id": "124e24f5-43a4-4044-b0fe-ba1e1fab4044",
   "metadata": {},
   "outputs": [
    {
     "name": "stdout",
     "output_type": "stream",
     "text": [
      "4\n"
     ]
    },
    {
     "data": {
      "text/html": [
       "<div>\n",
       "<style scoped>\n",
       "    .dataframe tbody tr th:only-of-type {\n",
       "        vertical-align: middle;\n",
       "    }\n",
       "\n",
       "    .dataframe tbody tr th {\n",
       "        vertical-align: top;\n",
       "    }\n",
       "\n",
       "    .dataframe thead th {\n",
       "        text-align: right;\n",
       "    }\n",
       "</style>\n",
       "<table border=\"1\" class=\"dataframe\">\n",
       "  <thead>\n",
       "    <tr style=\"text-align: right;\">\n",
       "      <th></th>\n",
       "      <th>paper_cluster_score</th>\n",
       "      <th>journal</th>\n",
       "      <th>hompage_url</th>\n",
       "    </tr>\n",
       "    <tr>\n",
       "      <th>source</th>\n",
       "      <th></th>\n",
       "      <th></th>\n",
       "      <th></th>\n",
       "    </tr>\n",
       "  </thead>\n",
       "  <tbody>\n",
       "    <tr>\n",
       "      <th>Quantum science and technology</th>\n",
       "      <td>35.0</td>\n",
       "      <td>Quantum science and technology</td>\n",
       "      <td>http://iopscience.iop.org/journal/2058-9565</td>\n",
       "    </tr>\n",
       "    <tr>\n",
       "      <th>Applied physics letters</th>\n",
       "      <td>28.842072</td>\n",
       "      <td>Applied physics letters</td>\n",
       "      <td>http://apl.aip.org/</td>\n",
       "    </tr>\n",
       "    <tr>\n",
       "      <th>Physical review letters</th>\n",
       "      <td>19.0</td>\n",
       "      <td>Physical review letters</td>\n",
       "      <td>http://journals.aps.org/prl/</td>\n",
       "    </tr>\n",
       "    <tr>\n",
       "      <th>Physical review. A/Physical review, A</th>\n",
       "      <td>15.161374</td>\n",
       "      <td>Physical review. A/Physical review, A</td>\n",
       "      <td>NaN</td>\n",
       "    </tr>\n",
       "    <tr>\n",
       "      <th>Physical review research</th>\n",
       "      <td>7.769893</td>\n",
       "      <td>Physical review research</td>\n",
       "      <td>https://journals.aps.org/prresearch/</td>\n",
       "    </tr>\n",
       "  </tbody>\n",
       "</table>\n",
       "</div>"
      ],
      "text/plain": [
       "                                      paper_cluster_score  \\\n",
       "source                                                      \n",
       "Quantum science and technology                       35.0   \n",
       "Applied physics letters                         28.842072   \n",
       "Physical review letters                              19.0   \n",
       "Physical review. A/Physical review, A           15.161374   \n",
       "Physical review research                         7.769893   \n",
       "\n",
       "                                                                     journal  \\\n",
       "source                                                                         \n",
       "Quantum science and technology                Quantum science and technology   \n",
       "Applied physics letters                              Applied physics letters   \n",
       "Physical review letters                              Physical review letters   \n",
       "Physical review. A/Physical review, A  Physical review. A/Physical review, A   \n",
       "Physical review research                            Physical review research   \n",
       "\n",
       "                                                                       hompage_url  \n",
       "source                                                                              \n",
       "Quantum science and technology         http://iopscience.iop.org/journal/2058-9565  \n",
       "Applied physics letters                                        http://apl.aip.org/  \n",
       "Physical review letters                               http://journals.aps.org/prl/  \n",
       "Physical review. A/Physical review, A                                          NaN  \n",
       "Physical review research                      https://journals.aps.org/prresearch/  "
      ]
     },
     "execution_count": 146,
     "metadata": {},
     "output_type": "execute_result"
    }
   ],
   "source": [
    "dv, kw = get_journals_cluster_sort(dftriple, 4)\n",
    "dv.head()"
   ]
  },
  {
   "cell_type": "code",
   "execution_count": 147,
   "id": "ab59743d-ba29-4691-815b-95248cd98dbf",
   "metadata": {},
   "outputs": [],
   "source": [
    "def get_conferences_cluster_sort(dc:pd.DataFrame, cl:int):\n",
    "    \"\"\"\n",
    "    restricts the dataframe dc to cluster value cl\n",
    "    and returns the results grouped by source (where\n",
    "    source_type == 'journal') sorted\n",
    "    by the some of probablity descending\n",
    "    \"\"\"\n",
    "    dg = dc[dc['paper_cluster'] == cl].copy()\n",
    "    print(cl)\n",
    "    dv = dg[dg['source_type'] == 'conference'].groupby(['source'])['paper_cluster_score'].sum().to_frame()\n",
    "    dv.sort_values('paper_cluster_score', ascending=False, inplace=True)\n",
    "    dv['conference'] = dv.index\n",
    "    dv['homepage_url'] = dv['conference'].map(source_dict)\n",
    "    kw = centroids[centroids.cluster == cl]['keywords'].iloc[0]\n",
    "    return dv, kw"
   ]
  },
  {
   "cell_type": "code",
   "execution_count": 148,
   "id": "fa6adcd9-222e-4c17-8c0f-c970ee2b511b",
   "metadata": {},
   "outputs": [
    {
     "name": "stdout",
     "output_type": "stream",
     "text": [
      "4\n"
     ]
    },
    {
     "data": {
      "text/html": [
       "<div>\n",
       "<style scoped>\n",
       "    .dataframe tbody tr th:only-of-type {\n",
       "        vertical-align: middle;\n",
       "    }\n",
       "\n",
       "    .dataframe tbody tr th {\n",
       "        vertical-align: top;\n",
       "    }\n",
       "\n",
       "    .dataframe thead th {\n",
       "        text-align: right;\n",
       "    }\n",
       "</style>\n",
       "<table border=\"1\" class=\"dataframe\">\n",
       "  <thead>\n",
       "    <tr style=\"text-align: right;\">\n",
       "      <th></th>\n",
       "      <th>paper_cluster_score</th>\n",
       "      <th>conference</th>\n",
       "      <th>homepage_url</th>\n",
       "    </tr>\n",
       "    <tr>\n",
       "      <th>source</th>\n",
       "      <th></th>\n",
       "      <th></th>\n",
       "      <th></th>\n",
       "    </tr>\n",
       "  </thead>\n",
       "  <tbody>\n",
       "  </tbody>\n",
       "</table>\n",
       "</div>"
      ],
      "text/plain": [
       "Empty DataFrame\n",
       "Columns: [paper_cluster_score, conference, homepage_url]\n",
       "Index: []"
      ]
     },
     "execution_count": 148,
     "metadata": {},
     "output_type": "execute_result"
    }
   ],
   "source": [
    "dv, kw = get_conferences_cluster_sort(dftriple, 4)\n",
    "dv.head()"
   ]
  },
  {
   "cell_type": "code",
   "execution_count": 149,
   "id": "6dee6396-9533-4550-930a-8234db383db0",
   "metadata": {},
   "outputs": [
    {
     "data": {
      "text/plain": [
       "False"
      ]
     },
     "execution_count": 149,
     "metadata": {},
     "output_type": "execute_result"
    }
   ],
   "source": [
    "\"IOP conference series\" in source_dict"
   ]
  },
  {
   "cell_type": "code",
   "execution_count": 150,
   "id": "7bf82b69-8320-43cb-a46e-44c0a713f01b",
   "metadata": {},
   "outputs": [
    {
     "data": {
      "text/plain": [
       "1349"
      ]
     },
     "execution_count": 150,
     "metadata": {},
     "output_type": "execute_result"
    }
   ],
   "source": [
    "len(source_dict)"
   ]
  },
  {
   "cell_type": "code",
   "execution_count": 151,
   "id": "bd1c00ce-f920-4b97-89fd-fdbc52e9350b",
   "metadata": {},
   "outputs": [
    {
     "data": {
      "text/plain": [
       "(list, 4239)"
      ]
     },
     "execution_count": 151,
     "metadata": {},
     "output_type": "execute_result"
    }
   ],
   "source": [
    "affils_list = dftriple['display_name'].unique().tolist()\n",
    "type(affils_list), len(affils_list)"
   ]
  },
  {
   "cell_type": "code",
   "execution_count": 152,
   "id": "ea5f34a2-02c4-4acf-822b-f5d7d754b1ec",
   "metadata": {},
   "outputs": [
    {
     "data": {
      "text/plain": [
       "'Los Alamos National Laboratory'"
      ]
     },
     "execution_count": 152,
     "metadata": {},
     "output_type": "execute_result"
    }
   ],
   "source": [
    "affils_list[0]"
   ]
  },
  {
   "cell_type": "code",
   "execution_count": 153,
   "id": "48960780-f173-4399-8451-90e45f3093e2",
   "metadata": {},
   "outputs": [],
   "source": [
    " affil_json = Institutions().search_filter(display_name = affils_list[0]).get()"
   ]
  },
  {
   "cell_type": "code",
   "execution_count": 154,
   "id": "8b43a961-4470-4d30-aef1-787fd5c6d5ae",
   "metadata": {},
   "outputs": [],
   "source": [
    "#affil_json"
   ]
  },
  {
   "cell_type": "code",
   "execution_count": 155,
   "id": "5b273c5a-8ac5-466a-9374-8e599495ef8b",
   "metadata": {},
   "outputs": [
    {
     "name": "stderr",
     "output_type": "stream",
     "text": [
      "100%|█████████████████████████████████████████████████████████████████████| 4239/4239 [33:13<00:00,  2.13it/s]\n"
     ]
    }
   ],
   "source": [
    "affils_list = dftriple['display_name'].unique().tolist()\n",
    "type(affils_list), len(affils_list)\n",
    "\n",
    "affil_json = Institutions().search_filter(display_name = affils_list[1]).get()\n",
    "\n",
    "def get_affil_json(s:str):\n",
    "    \"\"\"\n",
    "    s is an openalex Sources display_name\n",
    "    return that Sources object\n",
    "    \"\"\"\n",
    "    affil_json = Institutions().search_filter(display_name = s).get()\n",
    "    #a = source_json[0]['type']\n",
    "    if \"geo\" in affil_json[0]:\n",
    "       # print(f\"{s} has homepage_url and type {source_json[0]['type']}\")\n",
    "        return affil_json[0][\"geo\"][\"latitude\"], affil_json[0][\"geo\"][\"longitude\"]\n",
    "    else:\n",
    "        return None, None\n",
    "    \n",
    "def get_display_geo_dict(sl:list):\n",
    "    \"\"\"\n",
    "    sl is a list of Institution display_name values\n",
    "    returns the dictionary mapping\n",
    "    display_names with (latitude, longitude) values.\"\"\"\n",
    "    mapping_dict = dict()\n",
    "    for s in tqdm(sl):\n",
    "        try:\n",
    "            mapping_dict[s] = get_affil_json(s)\n",
    "        except:\n",
    "            pass\n",
    "    return mapping_dict\n",
    "\n",
    "affil_geo_dict = get_display_geo_dict(affils_list)\n",
    "\n",
    "\n",
    "import pickle\n",
    "\n",
    "with open(\"updateaffil_geo_dict.pkl\", \"wb\") as f:\n",
    "    pickle.dump(affil_geo_dict, f)"
   ]
  },
  {
   "cell_type": "code",
   "execution_count": 156,
   "id": "6103a0e9-4e06-4f59-88f2-ae09ada4f70c",
   "metadata": {},
   "outputs": [
    {
     "data": {
      "text/plain": [
       "4093"
      ]
     },
     "execution_count": 156,
     "metadata": {},
     "output_type": "execute_result"
    }
   ],
   "source": [
    "len(affil_geo_dict)"
   ]
  },
  {
   "cell_type": "code",
   "execution_count": 157,
   "id": "a7c2bea1-1b28-47fa-a13e-14241607dea8",
   "metadata": {},
   "outputs": [
    {
     "data": {
      "text/plain": [
       "Index(['id', 'display_name', 'ror', 'country_code', 'type', 'lineage',\n",
       "       'paper_id', 'paper_raw_affiliation_strings', 'paper_author_position',\n",
       "       'paper_doi', 'paper_title', 'paper_abstract', 'paper_publication_date',\n",
       "       'paper_publication_year', 'paper_grants', 'paper_locations',\n",
       "       'paper_is_corrresponding', 'paper_x', 'paper_y', 'paper_cluster',\n",
       "       'paper_cluster_score', 'paper_author_id', 'paper_author_display_name',\n",
       "       'paper_author_orcid', 'source', 'source_type', 'funder_list'],\n",
       "      dtype='object')"
      ]
     },
     "execution_count": 157,
     "metadata": {},
     "output_type": "execute_result"
    }
   ],
   "source": [
    "dftriple.columns"
   ]
  },
  {
   "cell_type": "code",
   "execution_count": 158,
   "id": "05db8876-469f-47e2-9f42-0d9f1a8555c7",
   "metadata": {},
   "outputs": [
    {
     "data": {
      "text/html": [
       "<div>\n",
       "<style scoped>\n",
       "    .dataframe tbody tr th:only-of-type {\n",
       "        vertical-align: middle;\n",
       "    }\n",
       "\n",
       "    .dataframe tbody tr th {\n",
       "        vertical-align: top;\n",
       "    }\n",
       "\n",
       "    .dataframe thead th {\n",
       "        text-align: right;\n",
       "    }\n",
       "</style>\n",
       "<table border=\"1\" class=\"dataframe\">\n",
       "  <thead>\n",
       "    <tr style=\"text-align: right;\">\n",
       "      <th></th>\n",
       "      <th>paper_title</th>\n",
       "      <th>paper_abstract</th>\n",
       "    </tr>\n",
       "  </thead>\n",
       "  <tbody>\n",
       "    <tr>\n",
       "      <th>0</th>\n",
       "      <td>Variational quantum algorithms</td>\n",
       "      <td>Applications such as simulating complicated qu...</td>\n",
       "    </tr>\n",
       "    <tr>\n",
       "      <th>1</th>\n",
       "      <td>Variational quantum algorithms</td>\n",
       "      <td>Applications such as simulating complicated qu...</td>\n",
       "    </tr>\n",
       "    <tr>\n",
       "      <th>2</th>\n",
       "      <td>Variational quantum algorithms</td>\n",
       "      <td>Applications such as simulating complicated qu...</td>\n",
       "    </tr>\n",
       "    <tr>\n",
       "      <th>3</th>\n",
       "      <td>Variational quantum algorithms</td>\n",
       "      <td>Applications such as simulating complicated qu...</td>\n",
       "    </tr>\n",
       "    <tr>\n",
       "      <th>4</th>\n",
       "      <td>Variational quantum algorithms</td>\n",
       "      <td>Applications such as simulating complicated qu...</td>\n",
       "    </tr>\n",
       "  </tbody>\n",
       "</table>\n",
       "</div>"
      ],
      "text/plain": [
       "                      paper_title  \\\n",
       "0  Variational quantum algorithms   \n",
       "1  Variational quantum algorithms   \n",
       "2  Variational quantum algorithms   \n",
       "3  Variational quantum algorithms   \n",
       "4  Variational quantum algorithms   \n",
       "\n",
       "                                      paper_abstract  \n",
       "0  Applications such as simulating complicated qu...  \n",
       "1  Applications such as simulating complicated qu...  \n",
       "2  Applications such as simulating complicated qu...  \n",
       "3  Applications such as simulating complicated qu...  \n",
       "4  Applications such as simulating complicated qu...  "
      ]
     },
     "execution_count": 158,
     "metadata": {},
     "output_type": "execute_result"
    }
   ],
   "source": [
    "dftriple[['paper_title','paper_abstract']].head()"
   ]
  },
  {
   "cell_type": "code",
   "execution_count": 159,
   "id": "eb79cfb7-a3ac-49a7-b16c-492eed2f64d1",
   "metadata": {},
   "outputs": [
    {
     "data": {
      "text/plain": [
       "Index(['x', 'y', 'id', 'title', 'doi', 'cluster', 'probability',\n",
       "       'publication_date', 'grants', 'locations', 'keywords', 'top_concepts',\n",
       "       'affil_list', 'author_list', 'wrapped_affil_list',\n",
       "       'wrapped_author_list', 'wrapped_keywords', 'source', 'source_type',\n",
       "       'funder_list', 'wrapped_funder_list'],\n",
       "      dtype='object')"
      ]
     },
     "execution_count": 159,
     "metadata": {},
     "output_type": "execute_result"
    }
   ],
   "source": [
    "dfinfo.columns"
   ]
  },
  {
   "cell_type": "code",
   "execution_count": 160,
   "id": "1e6b6caa-a310-407b-81a0-7e471456159b",
   "metadata": {},
   "outputs": [],
   "source": [
    "#affil_geo_dict"
   ]
  },
  {
   "cell_type": "markdown",
   "id": "8b8b3efe-f84f-43d1-bece-043bb7aeee51",
   "metadata": {},
   "source": [
    "need to add the abstract to dfinfo"
   ]
  },
  {
   "cell_type": "code",
   "execution_count": 161,
   "id": "58c9b5ca-740d-42d0-8095-e59575e6d54b",
   "metadata": {},
   "outputs": [
    {
     "data": {
      "text/html": [
       "<div>\n",
       "<style scoped>\n",
       "    .dataframe tbody tr th:only-of-type {\n",
       "        vertical-align: middle;\n",
       "    }\n",
       "\n",
       "    .dataframe tbody tr th {\n",
       "        vertical-align: top;\n",
       "    }\n",
       "\n",
       "    .dataframe thead th {\n",
       "        text-align: right;\n",
       "    }\n",
       "</style>\n",
       "<table border=\"1\" class=\"dataframe\">\n",
       "  <thead>\n",
       "    <tr style=\"text-align: right;\">\n",
       "      <th></th>\n",
       "      <th>paper_title</th>\n",
       "      <th>paper_abstract</th>\n",
       "    </tr>\n",
       "  </thead>\n",
       "  <tbody>\n",
       "    <tr>\n",
       "      <th>0</th>\n",
       "      <td>Variational quantum algorithms</td>\n",
       "      <td>Applications such as simulating complicated qu...</td>\n",
       "    </tr>\n",
       "    <tr>\n",
       "      <th>1</th>\n",
       "      <td>Variational quantum algorithms</td>\n",
       "      <td>Applications such as simulating complicated qu...</td>\n",
       "    </tr>\n",
       "    <tr>\n",
       "      <th>2</th>\n",
       "      <td>Variational quantum algorithms</td>\n",
       "      <td>Applications such as simulating complicated qu...</td>\n",
       "    </tr>\n",
       "    <tr>\n",
       "      <th>3</th>\n",
       "      <td>Variational quantum algorithms</td>\n",
       "      <td>Applications such as simulating complicated qu...</td>\n",
       "    </tr>\n",
       "    <tr>\n",
       "      <th>4</th>\n",
       "      <td>Variational quantum algorithms</td>\n",
       "      <td>Applications such as simulating complicated qu...</td>\n",
       "    </tr>\n",
       "  </tbody>\n",
       "</table>\n",
       "</div>"
      ],
      "text/plain": [
       "                      paper_title  \\\n",
       "0  Variational quantum algorithms   \n",
       "1  Variational quantum algorithms   \n",
       "2  Variational quantum algorithms   \n",
       "3  Variational quantum algorithms   \n",
       "4  Variational quantum algorithms   \n",
       "\n",
       "                                      paper_abstract  \n",
       "0  Applications such as simulating complicated qu...  \n",
       "1  Applications such as simulating complicated qu...  \n",
       "2  Applications such as simulating complicated qu...  \n",
       "3  Applications such as simulating complicated qu...  \n",
       "4  Applications such as simulating complicated qu...  "
      ]
     },
     "execution_count": 161,
     "metadata": {},
     "output_type": "execute_result"
    }
   ],
   "source": [
    "dftriple[['paper_title','paper_abstract']].head()"
   ]
  },
  {
   "cell_type": "code",
   "execution_count": 162,
   "id": "87cba1e8-c1bc-4a5e-b724-5d9931c6db7a",
   "metadata": {},
   "outputs": [],
   "source": [
    "dfinfo['abstract'] = dfinfo['title'].map(dftriple.set_index('paper_title')['paper_abstract'].to_dict())"
   ]
  },
  {
   "cell_type": "code",
   "execution_count": 163,
   "id": "58481fd9-2a98-4e81-8bbb-b4c4763476d9",
   "metadata": {},
   "outputs": [
    {
     "data": {
      "text/html": [
       "<div>\n",
       "<style scoped>\n",
       "    .dataframe tbody tr th:only-of-type {\n",
       "        vertical-align: middle;\n",
       "    }\n",
       "\n",
       "    .dataframe tbody tr th {\n",
       "        vertical-align: top;\n",
       "    }\n",
       "\n",
       "    .dataframe thead th {\n",
       "        text-align: right;\n",
       "    }\n",
       "</style>\n",
       "<table border=\"1\" class=\"dataframe\">\n",
       "  <thead>\n",
       "    <tr style=\"text-align: right;\">\n",
       "      <th></th>\n",
       "      <th>title</th>\n",
       "      <th>abstract</th>\n",
       "    </tr>\n",
       "    <tr>\n",
       "      <th>id</th>\n",
       "      <th></th>\n",
       "      <th></th>\n",
       "    </tr>\n",
       "  </thead>\n",
       "  <tbody>\n",
       "    <tr>\n",
       "      <th>https://openalex.org/W3189250281</th>\n",
       "      <td>Variational quantum algorithms</td>\n",
       "      <td>Applications such as simulating complicated qu...</td>\n",
       "    </tr>\n",
       "    <tr>\n",
       "      <th>https://openalex.org/W1521266393</th>\n",
       "      <td>Circuit quantum electrodynamics</td>\n",
       "      <td>This review surveys the development over the l...</td>\n",
       "    </tr>\n",
       "    <tr>\n",
       "      <th>https://openalex.org/W4213212652</th>\n",
       "      <td>Noisy intermediate-scale quantum algorithms</td>\n",
       "      <td>A universal fault-tolerant quantum computer th...</td>\n",
       "    </tr>\n",
       "    <tr>\n",
       "      <th>https://openalex.org/W3173899054</th>\n",
       "      <td>Strong Quantum Computational Advantage Using a...</td>\n",
       "      <td>Scaling up to a large number of qubits with hi...</td>\n",
       "    </tr>\n",
       "    <tr>\n",
       "      <th>https://openalex.org/W3180039530</th>\n",
       "      <td>Quantum phases of matter on a 256-atom program...</td>\n",
       "      <td>Motivated by far-reaching applications ranging...</td>\n",
       "    </tr>\n",
       "    <tr>\n",
       "      <th>https://openalex.org/W3216297445</th>\n",
       "      <td>Probing topological spin liquids on a programm...</td>\n",
       "      <td>Quantum phases with topological order, such as...</td>\n",
       "    </tr>\n",
       "    <tr>\n",
       "      <th>https://openalex.org/W4281891658</th>\n",
       "      <td>Quantum computational advantage with a program...</td>\n",
       "      <td>A quantum computer attains computational advan...</td>\n",
       "    </tr>\n",
       "    <tr>\n",
       "      <th>https://openalex.org/W3127319997</th>\n",
       "      <td>Moiré heterostructures as a condensed-matter q...</td>\n",
       "      <td>Twisted van der Waals heterostructures have la...</td>\n",
       "    </tr>\n",
       "    <tr>\n",
       "      <th>https://openalex.org/W3153423942</th>\n",
       "      <td>Realization of a multinode quantum network of ...</td>\n",
       "      <td>A three-node quantum network Future quantum ne...</td>\n",
       "    </tr>\n",
       "    <tr>\n",
       "      <th>https://openalex.org/W3134798533</th>\n",
       "      <td>Quantum circuits with many photons on a progra...</td>\n",
       "      <td>Growing interest in quantum computing for prac...</td>\n",
       "    </tr>\n",
       "  </tbody>\n",
       "</table>\n",
       "</div>"
      ],
      "text/plain": [
       "                                                                              title  \\\n",
       "id                                                                                    \n",
       "https://openalex.org/W3189250281                     Variational quantum algorithms   \n",
       "https://openalex.org/W1521266393                    Circuit quantum electrodynamics   \n",
       "https://openalex.org/W4213212652        Noisy intermediate-scale quantum algorithms   \n",
       "https://openalex.org/W3173899054  Strong Quantum Computational Advantage Using a...   \n",
       "https://openalex.org/W3180039530  Quantum phases of matter on a 256-atom program...   \n",
       "https://openalex.org/W3216297445  Probing topological spin liquids on a programm...   \n",
       "https://openalex.org/W4281891658  Quantum computational advantage with a program...   \n",
       "https://openalex.org/W3127319997  Moiré heterostructures as a condensed-matter q...   \n",
       "https://openalex.org/W3153423942  Realization of a multinode quantum network of ...   \n",
       "https://openalex.org/W3134798533  Quantum circuits with many photons on a progra...   \n",
       "\n",
       "                                                                           abstract  \n",
       "id                                                                                   \n",
       "https://openalex.org/W3189250281  Applications such as simulating complicated qu...  \n",
       "https://openalex.org/W1521266393  This review surveys the development over the l...  \n",
       "https://openalex.org/W4213212652  A universal fault-tolerant quantum computer th...  \n",
       "https://openalex.org/W3173899054  Scaling up to a large number of qubits with hi...  \n",
       "https://openalex.org/W3180039530  Motivated by far-reaching applications ranging...  \n",
       "https://openalex.org/W3216297445  Quantum phases with topological order, such as...  \n",
       "https://openalex.org/W4281891658  A quantum computer attains computational advan...  \n",
       "https://openalex.org/W3127319997  Twisted van der Waals heterostructures have la...  \n",
       "https://openalex.org/W3153423942  A three-node quantum network Future quantum ne...  \n",
       "https://openalex.org/W3134798533  Growing interest in quantum computing for prac...  "
      ]
     },
     "execution_count": 163,
     "metadata": {},
     "output_type": "execute_result"
    }
   ],
   "source": [
    "dfinfo[['title','abstract']].head(10)"
   ]
  },
  {
   "cell_type": "code",
   "execution_count": 164,
   "id": "dc497cec-fa41-438c-91c3-39d2b9e751fa",
   "metadata": {},
   "outputs": [],
   "source": [
    "dfinfo.to_pickle('updatejammingdfinfo2d.pkl')"
   ]
  },
  {
   "cell_type": "markdown",
   "id": "710a4284-1a84-486b-bc61-4cc50be8da11",
   "metadata": {},
   "source": [
    "Now try to recreate the pydeck column chart a la DPS-TTU instead of the flat 2d scatter plot. ok.\n",
    "can also maybe add arcs in between collaborations. maybe. "
   ]
  },
  {
   "cell_type": "code",
   "execution_count": 165,
   "id": "d2fd2e6a-204e-41cc-8851-29747d773a81",
   "metadata": {},
   "outputs": [
    {
     "data": {
      "text/plain": [
       "Index(['id', 'display_name', 'ror', 'country_code', 'type', 'lineage',\n",
       "       'paper_id', 'paper_raw_affiliation_strings', 'paper_author_position',\n",
       "       'paper_doi', 'paper_title', 'paper_abstract', 'paper_publication_date',\n",
       "       'paper_publication_year', 'paper_grants', 'paper_locations',\n",
       "       'paper_is_corrresponding', 'paper_x', 'paper_y', 'paper_cluster',\n",
       "       'paper_cluster_score', 'paper_author_id', 'paper_author_display_name',\n",
       "       'paper_author_orcid', 'source', 'source_type', 'funder_list'],\n",
       "      dtype='object')"
      ]
     },
     "execution_count": 165,
     "metadata": {},
     "output_type": "execute_result"
    }
   ],
   "source": [
    "dftriple.columns"
   ]
  },
  {
   "cell_type": "code",
   "execution_count": 166,
   "id": "231ca0d6-5c49-419d-ab10-8ca65e3b5bdf",
   "metadata": {},
   "outputs": [
    {
     "data": {
      "text/plain": [
       "{'Los Alamos National Laboratory': (35.88808, -106.30697),\n",
       " 'Google (United States)': (37.422955, -122.08406),\n",
       " 'University of Oxford': (51.75222, -1.25596),\n",
       " 'NTT (Japan)': (35.689526, 139.75345),\n",
       " 'Osaka University': (34.69374, 135.50218),\n",
       " 'Peking University': (39.9075, 116.39723),\n",
       " 'Quantum Science Center': (36.32002, -87.76545),\n",
       " 'Canadian Institute for Advanced Research': (43.65538, -79.38645),\n",
       " 'Université de Sherbrooke': (45.40008, -71.89908),\n",
       " 'Centre for Quantum Technologies': (1.297461, 103.7803),\n",
       " 'National University of Singapore': (1.28967, 103.85007),\n",
       " 'Hefei National Center for Physical Sciences at Nanoscale': (31.8227,\n",
       "  117.28035),\n",
       " 'University of Science and Technology of China': (31.86389, 117.28083),\n",
       " 'Beijing Academy of Quantum Information Sciences': (39.9075, 116.39723),\n",
       " 'State Key Laboratory of Cryptology': (39.87733, 116.2787),\n",
       " 'QuantumCTek (China)': (31.821615, 117.21416),\n",
       " 'Shanghai Institute of Technical Physics': (31.22222, 121.45806),\n",
       " 'Chinese Academy of Sciences': (39.9075, 116.39723),\n",
       " 'Harvard University': (42.3751, -71.10561),\n",
       " 'Universität Innsbruck': (47.26266, 11.39454),\n",
       " 'Massachusetts Institute of Technology': (42.3751, -71.10561),\n",
       " 'QuEra Computing (United States)': (42.326958, -71.067795),\n",
       " 'Austrian Academy of Sciences': (48.20872, 16.37739),\n",
       " 'Institute for Advanced Study': (40.33167, -74.66778),\n",
       " 'Xanadu Quantum Technologies (Canada)': (43.74167, -79.37334),\n",
       " 'National Institute of Standards and Technology': (39.14344, -77.20137),\n",
       " 'RWTH Aachen University': (50.77664, 6.08342),\n",
       " 'Flatiron Health (United States)': (40.71427, -74.00597),\n",
       " 'Max Planck Institute for the Structure and Dynamics of Matter': (53.55073,\n",
       "  9.99302),\n",
       " 'Columbia University': (40.71427, -74.00597),\n",
       " 'Delft University of Technology': (52.00667, 4.35556),\n",
       " 'QuTech': (52.00142, 4.37367),\n",
       " 'Laboratoire Charles Fabry': (48.71828, 2.2498),\n",
       " 'TU Wien': (48.20849, 16.37208),\n",
       " 'Nanomaterials and Nanotechnology Research Center': (43.28752, -5.638),\n",
       " 'Universität Hamburg': (53.55073, 9.99302),\n",
       " 'Data:Lab Munich (Germany)': (48.172928, 11.595334),\n",
       " 'Ames Research Center': (37.38605, -122.08385),\n",
       " 'Stanford University': (37.42411, -122.16608),\n",
       " 'KTH Royal Institute of Technology': (59.32938, 18.06871),\n",
       " 'Swedish Armed Forces': (59.32938, 18.06871),\n",
       " 'IBM (United States)': (41.10854, -73.72047),\n",
       " 'IBM Research - Tokyo': (35.6895, 139.69171),\n",
       " 'Honeywell (United States)': (35.22709, -80.84313),\n",
       " 'Princeton University': (40.34872, -74.65905),\n",
       " 'Duke University': (35.99403, -78.89862),\n",
       " 'Colorado School of Mines': (39.751476, -105.222664),\n",
       " 'University of Chicago': (41.85003, -87.65005),\n",
       " 'University of Illinois Urbana-Champaign': (40.11059, -88.20727),\n",
       " 'University of Wisconsin–Madison': (43.07305, -89.40123),\n",
       " 'University of Washington': (47.60621, -122.33207),\n",
       " 'Rice University': (29.76328, -95.36327),\n",
       " 'Joint Quantum Institute': (38.98067, -76.93692),\n",
       " 'Purdue University West Lafayette': (40.42587, -86.90807),\n",
       " 'Sandia National Laboratories': (35.08449, -106.65114),\n",
       " 'Washington University in St. Louis': (38.62727, -90.19789),\n",
       " 'The University of Texas at Austin': (30.26715, -97.74306),\n",
       " 'Pennsylvania State University': (40.79339, -77.86),\n",
       " 'MIT-Harvard Center for Ultracold Atoms': (42.3751, -71.10561),\n",
       " 'University of Colorado Boulder': (40.01499, -105.27055),\n",
       " 'University College London': (51.50853, -0.12574),\n",
       " 'China Academy of Engineering Physics': (31.46784, 104.68168),\n",
       " 'National Physical Laboratory': (51.427185, -0.344256),\n",
       " \"King's College London\": (51.50853, -0.12574),\n",
       " 'Netherlands Organisation for Applied Scientific Research': (52.00667,\n",
       "  4.35556),\n",
       " 'Keio University': (35.6895, 139.69171),\n",
       " 'Seoul National University': (37.460155, 126.9519),\n",
       " 'ETH Zurich': (47.36667, 8.55),\n",
       " 'Physical Sciences (United States)': (42.695984, -71.2057),\n",
       " 'Suranaree University of Technology': (14.876608, 102.02084),\n",
       " 'The Kavli Foundation': (34.02112, -118.39647),\n",
       " 'Queen Mary University of London': (51.50853, -0.12574),\n",
       " 'Shenzhen Institutes of Advanced Technology': (22.54554, 114.0683),\n",
       " 'University of York': (53.95763, -1.08271),\n",
       " 'University of Waikato': (-37.786945, 175.31389),\n",
       " 'University of Birmingham': (52.450558, -1.930556),\n",
       " 'RMIT University': (-37.806747, 144.96257),\n",
       " 'University of Ljubljana': (46.05108, 14.50513),\n",
       " 'Tianjin University': (39.14222, 117.17667),\n",
       " 'Innopolis University': (55.78874, 49.12214),\n",
       " 'Machine Intelligence Research Labs': (47.31005, -122.23006),\n",
       " 'Indian Institute of Tropical Meteorology': (18.51957, 73.85535),\n",
       " 'DELL (United States)': (30.484034, -97.66615),\n",
       " 'Walker (United States)': (45.304653, -122.77282),\n",
       " 'Indian Institute of Technology Kharagpur': (22.33971, 87.32501),\n",
       " 'University of Sharjah': (25.33737, 55.41206),\n",
       " 'University of Cambridge': (52.2, 0.11667),\n",
       " 'Western University': (43.00984, -81.27376),\n",
       " 'UNSW Sydney': (-33.86785, 151.20732),\n",
       " 'University of Manchester': (53.48095, -2.23743),\n",
       " 'Cardiff University': (51.48, -3.18),\n",
       " 'Virginia Tech': (37.22957, -80.41394),\n",
       " 'CAS Key Laboratory of Urban Pollutant Conversion': (24.607935, 118.06267),\n",
       " 'Shanghai Institute of Microsystem and Information Technology': (31.22222,\n",
       "  121.45806),\n",
       " 'Tsinghua University': (39.9075, 116.39723),\n",
       " 'University of Twente': (52.21833, 6.89583),\n",
       " 'NTT Basic Research Laboratories': (35.44049, 139.31561),\n",
       " 'National Institute of Informatics': (35.6895, 139.69171),\n",
       " 'Utrecht University': (52.09083, 5.12222),\n",
       " 'National Engineering Research Center of Electromagnetic Radiation Control Materials': (30.684795,\n",
       "  104.077034),\n",
       " 'University of Electronic Science and Technology of China': (30.66667,\n",
       "  104.06667),\n",
       " 'Autonomous University of Madrid': (40.4165, -3.70256),\n",
       " 'Eindhoven University of Technology': (51.44083, 5.47778),\n",
       " 'Norwegian University of Science and Technology': (63.43049, 10.39506),\n",
       " 'Argonne National Laboratory': (41.67364, -88.00173),\n",
       " 'Spintronics Research Network of Japan': (35.6895, 139.69171),\n",
       " 'Tohoku University': (38.26667, 140.86667),\n",
       " 'Ajou University': (37.282913, 127.04607),\n",
       " 'Wigner Research Centre for Physics': (47.49835, 19.04045),\n",
       " 'Technical University of Munich': (48.13743, 11.57549),\n",
       " 'Munich Center for Quantum Science and Technology': (48.13743, 11.57549),\n",
       " 'University of Nottingham': (52.93807, -1.196703),\n",
       " 'California Institute of Technology': (34.14778, -118.14452),\n",
       " 'University of Massachusetts Amherst': (42.37537, -72.51925),\n",
       " 'Laboratoire de Physique Théorique et Hautes Energies': (48.85341, 2.3488),\n",
       " 'Sorbonne Université': (48.85341, 2.3488),\n",
       " 'Research Institute for Advanced Computer Science': (37.38605, -122.08385),\n",
       " 'RIKEN Center for Emergent Matter Science': (35.78944, 139.62334),\n",
       " 'RIKEN Center for Advanced Photonics': (35.78944, 139.62334),\n",
       " 'Riverlane (United Kingdom)': (52.2044, 0.1207904),\n",
       " 'Alpine Quantum Technologies (Austria)': (47.264355, 11.343823),\n",
       " 'Fraunhofer Institute for Applied Optics and Precision Engineering': (50.908253,\n",
       "  11.568051),\n",
       " 'Russian Quantum Center': (55.75222, 37.61556),\n",
       " 'Institute for Quantum Optics and Quantum Information Innsbruck': (47.26266,\n",
       "  11.39454),\n",
       " 'IIT@MIT': (42.3623, -71.093956),\n",
       " 'Sandia National Laboratories California': (37.68187, -121.76801),\n",
       " 'Kavli Energy NanoScience Institute': (37.874275, -122.25721),\n",
       " 'Optical Sciences (United States)': (34.709263, -86.67386),\n",
       " 'University of Arizona': (32.22174, -110.92648),\n",
       " 'RTX (United States)': (38.88101, -77.10428),\n",
       " 'IonQ (United States)': (38.98234, -76.92897),\n",
       " 'Jet Propulsion Laboratory': (34.19917, -118.18785),\n",
       " 'Northwestern University': (42.04114, -87.69006),\n",
       " 'Joint Center for Quantum Information and Computer Science': (38.991047,\n",
       "  -76.94235),\n",
       " 'University of Oregon': (44.05207, -123.08675),\n",
       " 'Joint Institute for Laboratory Astrophysics': (40.00752, -105.26874),\n",
       " 'Johannes Kepler University of Linz': (48.3375, 14.3175),\n",
       " 'University of Strathclyde': (55.86515, -4.25763),\n",
       " 'Max Planck Institute of Quantum Optics': (48.24896, 11.65101),\n",
       " 'Microsoft (United States)': (47.67399, -122.12151),\n",
       " 'George Washington University': (38.89511, -77.03637),\n",
       " 'MIT Lincoln Laboratory': (42.45898, -71.267494),\n",
       " 'University of Bristol': (51.45523, -2.59665),\n",
       " 'École Polytechnique Fédérale de Lausanne': (46.516, 6.63282),\n",
       " 'University of Technology Sydney': (-33.883274, 151.20045),\n",
       " 'University of Münster': (51.96236, 7.62571),\n",
       " 'Technische Universität Berlin': (52.52437, 13.41053),\n",
       " 'P.N. Lebedev Physical Institute of the Russian Academy of Sciences': (55.75222,\n",
       "  37.61556),\n",
       " 'Lomonosov Moscow State University': (55.75222, 37.61556),\n",
       " 'Yale University': (41.30815, -72.92816),\n",
       " 'ARC Centre of Excellence for Engineered Quantum Systems': (-27.462742,\n",
       "  153.02113),\n",
       " 'Australian Research Council': (-35.28346, 149.12807),\n",
       " 'University of Queensland': (-27.46794, 153.02809),\n",
       " 'Centre for Quantum Computation and Communication Technology': (-33.86785,\n",
       "  151.20732),\n",
       " 'Griffith University': (-27.47061, 153.02286),\n",
       " 'Brigham Young University': (40.23384, -111.65853),\n",
       " 'University of Copenhagen': (55.67594, 12.56553),\n",
       " 'lnstitut de Recherche Interdisciplinaire de Grenoble': (45.17869, 5.71479),\n",
       " 'Harvard University Press': (42.383015, -71.12706),\n",
       " 'Woodwell Climate Research Center': (41.5515, -70.61475),\n",
       " 'Simons Foundation': (40.71427, -74.00597),\n",
       " 'Middlebury College': (44.00835, -73.177376),\n",
       " 'L3Harris (United States)': (28.08363, -80.60811),\n",
       " 'IBM Research - Thomas J. Watson Research Center': (41.2102, -73.803),\n",
       " 'Intel (United States)': (37.35411, -121.95524),\n",
       " 'Volkswagen Group (Germany)': (52.42452, 10.7815),\n",
       " \"Institut de Science et d'Ingénierie Supramoléculaires\": (48.57357, 7.758651),\n",
       " 'University of Strasbourg': (48.58392, 7.74553),\n",
       " 'French National Centre for Scientific Research': (48.85341, 2.3488),\n",
       " 'University of Toronto': (43.70643, -79.39864),\n",
       " 'University of New Mexico': (35.08449, -106.65114),\n",
       " 'Perimeter Institute': (43.4668, -80.51639),\n",
       " 'University of Waterloo': (43.472534, -80.544876),\n",
       " 'The University of Tokyo': (35.6895, 139.69171),\n",
       " 'Freie Universität Berlin': (52.52437, 13.41053),\n",
       " 'Weizmann Institute of Science': (31.89421, 34.81199),\n",
       " 'Cambridge Scientific (United States)': (42.364723, -71.165794),\n",
       " 'Southwest Jiaotong University': (30.66667, 104.06667),\n",
       " 'Southwest University': (29.56026, 106.55771),\n",
       " 'University of Petroleum and Energy Studies': (30.32443, 78.03392),\n",
       " 'Seneca Polytechnic': (43.70643, -79.39864),\n",
       " 'University of Melbourne': (-37.814, 144.96332),\n",
       " 'Japan Science and Technology Agency': (35.6895, 139.69171),\n",
       " 'Nara Institute of Science and Technology': (34.68333, 135.7),\n",
       " 'Kyoto University': (35.02107, 135.75385),\n",
       " 'Georgia Institute of Technology': (33.749, -84.38798),\n",
       " 'Heinrich Heine University Düsseldorf': (51.22172, 6.77616),\n",
       " 'Nanyang Technological University': (1.28967, 103.85007),\n",
       " 'Sun Yat-sen University': (23.11667, 113.25),\n",
       " 'Laboratoire Jacques-Louis Lions': (48.85341, 2.3488),\n",
       " 'Grunberger Diabetes Institute': (42.607887, -83.26731),\n",
       " 'University of Würzburg': (49.79391, 9.95121),\n",
       " 'Hebrew University of Jerusalem': (31.76904, 35.21633),\n",
       " 'University of Padua': (45.40797, 11.88586),\n",
       " 'Laboratoire Interdisciplinaire Carnot de Bourgogne': (47.311752, 5.070194),\n",
       " 'Saarland University': (49.255554, 7.041667),\n",
       " 'Brookhaven National Laboratory': (40.86954, -72.88677),\n",
       " 'Quantum (Australia)': (-37.745613, 144.92607),\n",
       " 'London Centre for Nanotechnology': (51.525486, -0.132772),\n",
       " 'Fermi National Accelerator Laboratory': (41.85003, -88.31257),\n",
       " 'INFN Sezione di Roma I': (41.89193, 12.51133),\n",
       " 'Lawrence Livermore National Laboratory': (37.68187, -121.76801),\n",
       " 'Singapore University of Technology and Design': (1.301821, 103.78156),\n",
       " 'University of Colorado Denver': (39.73915, -104.9847),\n",
       " 'Guilin University of Electronic Technology': (25.281645, 110.33728),\n",
       " 'Hunan Normal University': (28.186096, 112.94983),\n",
       " 'Microsoft (Switzerland)': (47.409065, 8.59089),\n",
       " 'Macquarie University': (-33.86785, 151.20732),\n",
       " 'Pacific Northwest National Laboratory': (46.28569, -119.28446),\n",
       " 'IBM Research - Zurich': (47.310795, 8.544028),\n",
       " 'Czech Technical University in Prague': (50.08804, 14.42076),\n",
       " 'Institute of Theoretical and Applied Informatics': (50.291397, 18.637487),\n",
       " 'Polish Academy of Sciences': (52.22977, 21.01178),\n",
       " 'Rahko (United Kingdom)': (51.565556, -0.107719),\n",
       " 'Cambridge Quantum Computing (United Kingdom)': (52.20853, 0.118982),\n",
       " 'University of Sydney': (-33.86785, 151.20732),\n",
       " 'Menoufia University': (30.55258, 31.00904),\n",
       " 'University of Bradford': (53.791805, -1.767268),\n",
       " 'Sungkyunkwan University': (37.588223, 126.99361),\n",
       " 'Tecnológico de Monterrey': (25.67507, -100.31847),\n",
       " 'Heilongjiang University of Science and Technology': (45.75, 126.65),\n",
       " 'Zhejiang University': (30.29365, 120.16142),\n",
       " 'Institute of Microelectronics': (39.9075, 116.39723),\n",
       " 'Technical University of Denmark': (55.77044, 12.50378),\n",
       " 'Bristol Robotics Laboratory': (51.501564, -2.551596),\n",
       " 'University of Western Australia': (-31.95224, 115.8614),\n",
       " 'University of Basel': (47.55839, 7.57327),\n",
       " 'Imperial College London': (51.50853, -0.12574),\n",
       " 'Boston University': (42.35843, -71.05977),\n",
       " 'Université Grenoble Alpes': (45.1787, 5.76281),\n",
       " 'Laboratoire de Physique et Modélisation des Milieux Condensés': (45.17869,\n",
       "  5.71479),\n",
       " 'Institut de Physique de Nice': (43.69232, 7.237149),\n",
       " 'Laboratoire Kastler Brossel': (48.85341, 2.3488),\n",
       " 'Laser Physics Laboratory': (48.95833, 2.34167),\n",
       " 'École Normale Supérieure de Lyon': (45.74846, 4.84671),\n",
       " 'Stony Brook University': (40.914223, -73.11623),\n",
       " 'State University of New York': (42.65258, -73.75623),\n",
       " 'University of Portland': (45.52345, -122.67621),\n",
       " 'Unitary Fund': (37.87749, -122.25092),\n",
       " 'D-Wave Systems (Canada)': (49.257202, -122.99865),\n",
       " 'Google (Switzerland)': (47.36558, 8.524804),\n",
       " 'Simon Fraser University': (49.26636, -122.95263),\n",
       " 'Leibniz University Hannover': (52.37052, 9.73322),\n",
       " 'Ferdinand-Braun-Institut': (52.42849, 13.534479),\n",
       " 'University of Bremen': (53.07582, 8.80717),\n",
       " 'Center for Integrated Quantum Science and Technology': (48.78232, 9.17702),\n",
       " 'University of Ulm': (48.39841, 9.99155),\n",
       " 'German Aerospace Center': (50.85507, 7.119569),\n",
       " 'Humboldt-Universität zu Berlin': (52.52437, 13.41053),\n",
       " 'Bates College': (44.10035, -70.21478),\n",
       " 'Johannes Gutenberg University Mainz': (49.98419, 8.2791),\n",
       " 'Airbus (Germany)': (53.550087, 9.99096),\n",
       " 'Quantum Motion Technologies (United Kingdom)': (53.809975, -1.55428),\n",
       " 'Atomic Energy and Alternative Energies Commission': (48.85341, 2.3488),\n",
       " 'Aalto University': (60.2052, 24.6522),\n",
       " 'Heriot-Watt University': (55.95206, -3.19648),\n",
       " 'Paderborn University': (51.71905, 8.75439),\n",
       " 'Institute of Photonic Sciences': (41.38879, 2.15899),\n",
       " 'Renmin University of China': (39.969845, 116.3188),\n",
       " 'Vector Institute': (43.70011, -79.4163),\n",
       " 'The Scarborough Hospital': (43.756187, -79.24678),\n",
       " 'University of Stuttgart': (48.78232, 9.17702),\n",
       " 'Fraunhofer Institute for Integrated Systems and Device Technology': (49.570713,\n",
       "  11.030058),\n",
       " 'Helmholtz-Zentrum Dresden-Rossendorf': (51.05089, 13.73832),\n",
       " 'Leibniz Institute of Surface Engineering': (51.351757, 12.431769),\n",
       " 'Linköping University': (58.41086, 15.62157),\n",
       " 'University of Cologne': (50.93333, 6.95),\n",
       " 'University of Edinburgh': (55.95206, -3.19648),\n",
       " 'SLAC National Accelerator Laboratory': (37.45383, -122.18219),\n",
       " 'Element Six (United Kingdom)': (51.577072, -1.308423),\n",
       " 'Lawrence Berkeley National Laboratory': (37.87159, -122.27275),\n",
       " 'Louisiana State University': (30.44332, -91.18747),\n",
       " 'Leiden University': (52.15833, 4.49306),\n",
       " 'Honda (Germany)': (50.116924, 8.728092),\n",
       " 'Amherst College': (42.37537, -72.51925),\n",
       " 'Ludwig-Maximilians-Universität München': (48.13743, 11.57549),\n",
       " 'Polytechnic University of Turin': (45.07049, 7.68682),\n",
       " 'Universidad Complutense de Madrid': (40.4165, -3.70256),\n",
       " 'Jagiellonian University': (50.06143, 19.93658),\n",
       " 'The Abdus Salam International Centre for Theoretical Physics (ICTP)': (45.64953,\n",
       "  13.77678),\n",
       " 'Adam Mickiewicz University in Poznań': (52.40692, 16.92993),\n",
       " 'Swansea University': (51.62079, -3.94323),\n",
       " 'University of Liverpool': (53.41058, -2.97794),\n",
       " 'Heidelberg University': (49.40768, 8.69079),\n",
       " 'Vilnius University': (54.68916, 25.2798),\n",
       " 'Universidad Rovira i Virgili': (41.11905, 1.24544),\n",
       " 'Capital Normal University': (39.726154, 116.16659),\n",
       " 'Forschungszentrum Jülich': (50.92149, 6.36267),\n",
       " 'Universitat de Barcelona': (41.38879, 2.15899),\n",
       " 'Scuola Internazionale Superiore di Studi Avanzati': (45.64953, 13.77678),\n",
       " 'Institució Catalana de Recerca i Estudis Avançats': (41.38879, 2.15899),\n",
       " 'Universidade Federal de Pernambuco': (-8.05389, -34.88111),\n",
       " 'Korea Advanced Institute of Science and Technology': (36.34913, 127.38493),\n",
       " 'Texas Tech University': (33.57786, -101.85517),\n",
       " 'Wayne State University': (42.33143, -83.04575),\n",
       " 'North Carolina State University': (35.7721, -78.63861),\n",
       " 'Oakland University': (42.68059, -83.13382),\n",
       " 'University of Michigan–Ann Arbor': (42.27756, -83.74088),\n",
       " 'IBM Research - Almaden': (37.211, -121.805),\n",
       " 'University of Chinese Academy of Sciences': (39.9075, 116.39723),\n",
       " 'Institute of Theoretical Physics': (39.895718, 116.46058),\n",
       " 'Institute of Science and Technology Austria': (48.30521, 16.32522),\n",
       " 'Politecnico di Milano': (45.478863, 9.228206),\n",
       " 'University of Konstanz': (47.66033, 9.17582),\n",
       " 'Institut Català de Nanociència i Nanotecnologia': (41.38879, 2.15899),\n",
       " 'Universitat Autònoma de Barcelona': (41.49109, 2.14079),\n",
       " 'SURF': (52.089188, 5.114056),\n",
       " 'Beijing University of Posts and Telecommunications': (39.9075, 116.39723),\n",
       " 'Oak Ridge Associated Universities': (36.01036, -84.26964),\n",
       " 'University of Sussex': (50.865276, -0.085556),\n",
       " 'International Centre for Theoretical Physics Asia-Pacific': (39.9856,\n",
       "  116.33103),\n",
       " 'Saitama Medical University': (35.93556, 139.30444),\n",
       " 'University of Southern California': (34.05223, -118.24368),\n",
       " 'Tokyo Institute of Technology': (35.6895, 139.69171),\n",
       " 'RIKEN': (35.78944, 139.62334),\n",
       " 'University of Messina': (38.19394, 15.55256),\n",
       " 'Polytechnic University of Bari': (41.10907, 16.878365),\n",
       " 'Vienna Center for Quantum Science and Technology': (48.20849, 16.37208),\n",
       " 'University of Vienna': (48.20849, 16.37208),\n",
       " 'Istituto di Fotonica e Nanotecnologie': (45.47867, 9.229181),\n",
       " 'Christian Doppler Laboratory for Thermoelectricity': (48.213184, 16.36005),\n",
       " 'Pennsylvania Academy of Science': (39.95238, -75.16362),\n",
       " 'University of Buenos Aires': (-34.61315, -58.37723),\n",
       " 'Institute for Basic Science': (36.34913, 127.38493),\n",
       " 'University of Calgary': (51.05011, -114.08529),\n",
       " 'Alibaba Group (China)': (30.29365, 120.16142),\n",
       " 'Alibaba Group (United States)': (37.55871, -122.32507),\n",
       " 'Bellevue Hospital Center': (40.71427, -74.00597),\n",
       " 'Institute of Physics': (39.9075, 116.39723),\n",
       " 'Origin Quantum Computing Technology Company (China)': (50.93423, 11.58407),\n",
       " 'Praevium Research (United States)': (34.43098, -119.82683),\n",
       " 'Ben-Gurion University of the Negev': (31.262192, 34.80151),\n",
       " 'Amazon (United States)': (47.60621, -122.33207),\n",
       " 'Polytechnique Montréal': (45.50884, -73.58781),\n",
       " 'Helmholtz-Zentrum Berlin für Materialien und Energie': (52.52437, 13.41053),\n",
       " 'University of Naples Federico II': (40.84722, 14.256944),\n",
       " 'Consorzio Nazionale Interuniversitario per le Telecomunicazioni': (44.79935,\n",
       "  10.32618),\n",
       " 'Nankai University': (39.14222, 117.17667),\n",
       " 'Jinan Institute of Quantum Technology': (36.674446, 117.132576),\n",
       " 'Yangtze Optical Electronic (China)': (30.506983, 114.39984),\n",
       " 'Southern University of Science and Technology': (22.54554, 114.0683),\n",
       " 'Shanghai Maritime University': (31.22222, 121.45806),\n",
       " 'Anhui University of Science and Technology': (32.63128, 117.01104),\n",
       " 'Istituto Nazionale di Ricerca Metrologica': (45.07049, 7.68682),\n",
       " 'Toshiba (United Kingdom)': (51.470272, -0.467311),\n",
       " 'INFN Sezione di Torino': (45.07049, 7.68682),\n",
       " 'University of Leeds': (53.79648, -1.54785),\n",
       " 'Institute of Physics Belgrade': (44.855198, 20.390947),\n",
       " 'University of Belgrade': (44.80401, 20.46513),\n",
       " 'University of Trento': (46.069427, 11.121117),\n",
       " 'Simulation Technologies (United States)': (34.726322, -86.66362),\n",
       " 'Quantum Group (United States)': (32.885925, -117.17643),\n",
       " 'Boehringer Ingelheim (Germany)': (49.977066, 8.043752),\n",
       " 'Collaborative Innovation Center of Quantum Matter': (39.999683, 116.32644),\n",
       " 'Hefei University': (31.86389, 117.28083),\n",
       " 'Nagoya University': (35.18147, 136.9064),\n",
       " 'Zapata (United States)': (42.35516, -71.05609),\n",
       " 'BP (United States)': (41.798645, -88.20565),\n",
       " 'Technology Innovation Institute': (24.436888, 54.613388),\n",
       " 'Foundation for Research and Technology Hellas': (35.32787, 25.14341),\n",
       " 'University of British Columbia': (49.24966, -123.11934),\n",
       " 'Advanced Institute of Materials Science': (38.26667, 140.86667),\n",
       " 'Georgetown University': (38.89511, -77.03637),\n",
       " 'University of Geneva': (46.20222, 6.14569),\n",
       " 'Institut de Physique Théorique': (48.707314, 2.14619),\n",
       " 'Fuzhou University': (26.06139, 119.30611),\n",
       " 'Quside Technologies (Spain)': (41.275642, 1.989537),\n",
       " 'Max Planck Institute for Intelligent Systems': (48.78232, 9.17702),\n",
       " 'Cadi Ayyad University': (31.63416, -7.99994),\n",
       " 'Laboratoire d’Informatique et Systèmes': (43.29695, 5.38107),\n",
       " 'Aix-Marseille University': (43.29695, 5.38107),\n",
       " 'Victoria University': (-41.29016, 174.76865),\n",
       " 'King Faisal University': (25.36467, 49.58764),\n",
       " 'Information Technology University': (31.558, 74.35071),\n",
       " 'Qatar University': (25.377226, 51.48715),\n",
       " 'North Dakota State University': (46.87719, -96.7898),\n",
       " 'University of Illinois at Chicago': (41.85003, -87.65005),\n",
       " 'Fujitsu (United States)': (37.379803, -121.99177),\n",
       " 'University of Delaware': (39.67911, -75.75217),\n",
       " 'Technion – Israel Institute of Technology': (32.81841, 34.9885),\n",
       " 'Istituto Nazionale di Ottica': (43.77925, 11.24626),\n",
       " 'Boehringer Ingelheim (Austria)': (48.20849, 16.37208),\n",
       " 'University of Florence': (43.77925, 11.24626),\n",
       " 'Max Planck Institute for the Science of Light': (49.576668, 11.005556),\n",
       " 'Friedrich-Alexander-Universität Erlangen-Nürnberg': (49.59099, 11.00783),\n",
       " 'Collegio Carlo Alberto': (44.9994, 7.68236),\n",
       " 'National Research Council': (41.89193, 12.51133),\n",
       " \"Allameh Tabataba'i University\": (35.760525, 51.2603),\n",
       " 'Centre for Nanoscience and Nanotechnology': (48.71828, 2.2498),\n",
       " 'Quandela (France)': (48.714897, 2.241578),\n",
       " 'University of Crete': (35.35523, 24.450203),\n",
       " 'Institut Néel': (45.17869, 5.71479),\n",
       " 'Tencent (China)': (22.54554, 114.0683),\n",
       " 'McGill University': (45.50884, -73.58781),\n",
       " 'Shenzhen Baoan High School Group': (22.560724, 113.913414),\n",
       " 'KLA (United States)': (37.42084, -121.92597),\n",
       " 'Brandeis University': (42.365665, -71.25974),\n",
       " 'Université Libre de Bruxelles': (50.85045, 4.34878),\n",
       " 'HRL Laboratories (United States)': (34.043, -118.69605),\n",
       " 'Jožef Stefan Institute': (46.05108, 14.50513),\n",
       " 'Instituto de Ciencia de Materiales de Madrid': (40.4165, -3.70256),\n",
       " 'Consejo Superior de Investigaciones Científicas': (40.4165, -3.70256),\n",
       " 'NEOMA Business School': (49.46294, 1.064347),\n",
       " 'International Management Institute': (28.539213, 77.18137),\n",
       " 'Chaoyang University of Technology': (24.1469, 120.6839),\n",
       " 'EMLYON Business School': (45.77437, 4.77758),\n",
       " 'EDHEC Business School': (50.673527, 3.166954),\n",
       " 'Shinshu University': (36.23333, 137.96667),\n",
       " 'Pioneer (Japan)': (35.543358, 139.67348),\n",
       " 'University of Parma': (44.797077, 10.30867),\n",
       " 'National Interuniversity Consortium of Materials Science and Technology': (43.77925,\n",
       "  11.24626),\n",
       " 'Mangalore University': (12.91723, 74.85603),\n",
       " \"Laboratoire de Physique de l'ENS de Lyon\": (45.731888, 4.833092),\n",
       " 'University of Tennessee at Knoxville': (35.96064, -83.92074),\n",
       " 'University of Bologna': (44.49381, 11.33875),\n",
       " 'Aalborg University': (57.048, 9.9187),\n",
       " 'Mazandaran University of Science and Technology': (36.55102, 52.6786),\n",
       " 'University of Mazandaran': (36.69929, 52.65011),\n",
       " 'Institute of Computing Technology': (39.9075, 116.39723),\n",
       " 'York University': (40.71427, -74.00597),\n",
       " 'Cornell University': (42.44063, -76.49661),\n",
       " 'Korea University': (37.590477, 127.02679),\n",
       " 'Beijing Normal University': (39.9075, 116.39723),\n",
       " 'Lancaster University': (54.04649, -2.79988),\n",
       " 'Terra Quantum (Switzerland)': (47.47904, 9.486713),\n",
       " 'Benchmark Research (United States)': (37.789394, -122.40775),\n",
       " 'Center for Integrated Nanotechnologies': (35.08449, -106.65114),\n",
       " 'Alphabet (United States)': (37.38605, -122.08385),\n",
       " 'Initial Teaching Alphabet Foundation': (40.81207, -73.22316),\n",
       " 'Ruhr University Bochum': (51.48165, 7.21648),\n",
       " 'QuSoft': (52.35751, 4.952427),\n",
       " 'University of Amsterdam': (52.37403, 4.88969),\n",
       " 'Collaborative Innovation Center of Advanced Microstructures': (32.06167,\n",
       "  118.77778),\n",
       " 'Nanjing University': (32.06167, 118.77778),\n",
       " 'Shanghai University of Engineering Science': (31.22222, 121.45806),\n",
       " 'Nanchang University': (28.665771, 115.81263),\n",
       " 'Huzhou University': (30.8703, 120.0933),\n",
       " 'Instituto de Física Teórica': (40.4165, -3.70256),\n",
       " 'Motilal Nehru National Institute of Technology': (25.44478, 81.84322),\n",
       " 'Siddhartha Medical College': (16.517488, 80.671326),\n",
       " 'Universidade Federal do Ceará': (-3.746401, -38.566795),\n",
       " 'Melbourne School of Theology': (-37.8597, 145.20941),\n",
       " 'Silesian University of Technology': (50.29761, 18.67658),\n",
       " 'Fraunhofer Institute for Applied and Integrated Security': (48.251904,\n",
       "  11.634473),\n",
       " 'Nanjing University of Information Science and Technology': (32.207222,\n",
       "  118.721664),\n",
       " 'Hubei University of Science and Technology': (29.84347, 114.32201),\n",
       " 'King Saud University': (24.68773, 46.72185),\n",
       " 'Halmstad University': (56.67446, 12.85676),\n",
       " 'Maharaja Engineering College': (11.205639, 77.31447),\n",
       " 'Lund University': (55.70584, 13.19321),\n",
       " 'National Institute of Information and Communications Technology': (35.6895,\n",
       "  139.69171),\n",
       " 'Kobe University': (34.6913, 135.183),\n",
       " 'Palacký University Olomouc': (49.59552, 17.25175),\n",
       " 'University of Sarajevo': (43.84864, 18.35644),\n",
       " 'VSB - Technical University of Ostrava': (49.83465, 18.28204),\n",
       " 'Deutsche Telekom (Czechia)': (50.03133, 14.508678),\n",
       " 'European Space Research Institute': (41.827465, 12.674154),\n",
       " 'University of Iceland': (64.13548, -21.89541),\n",
       " 'KBR (United States)': (29.79693, -95.384964),\n",
       " 'Center for Theoretical Physics': (52.17693, 21.008512),\n",
       " 'Bayer (Germany)': (51.0303, 6.98432),\n",
       " 'Indian Institute of Technology Madras': (12.992998, 80.2368),\n",
       " 'The NSF AI Institute for Artificial Intelligence and Fundamental Interactions': (42.377052,\n",
       "  -71.11665),\n",
       " 'Northumbria University': (54.97328, -1.61396),\n",
       " 'Yonsei University': (37.566, 126.9784),\n",
       " 'New York University': (40.71427, -74.00597),\n",
       " 'Courant Institute of Mathematical Sciences': (40.728703, -73.99573),\n",
       " 'Italian Institute of Technology': (44.40478, 8.94439),\n",
       " 'John von Neumann Institute for Computing': (50.910355, 6.406026),\n",
       " 'University of Virginia': (38.02931, -78.47668),\n",
       " 'Lieber Institute for Brain Development': (39.29038, -76.61219),\n",
       " 'McLean Hospital': (42.393658, -71.19108),\n",
       " 'New York Genome Center': (40.71427, -74.00597),\n",
       " 'University of Hong Kong': (22.27832, 114.17469),\n",
       " 'Centre de Physique Théorique': (43.23159, 5.440386),\n",
       " 'Berkeley College': (40.75412, -73.979454),\n",
       " 'Ames National Laboratory': (42.03471, -93.61994),\n",
       " 'Iowa State University': (42.03471, -93.61994),\n",
       " 'University of KwaZulu-Natal': (-29.86752, 30.98081),\n",
       " 'University of Notre Dame': (41.70019, -86.23793),\n",
       " 'Creative Destruction Lab': (43.66601, -79.39875),\n",
       " 'Oak Ridge National Laboratory': (36.01036, -84.26964),\n",
       " 'Auburn University': (32.603374, -85.48608),\n",
       " 'Changchun University of Science and Technology': (43.88, 125.32278),\n",
       " 'Prince Sattam Bin Abdulaziz University': (24.15541, 47.33457),\n",
       " 'Liverpool John Moores University': (53.403, -2.97),\n",
       " 'Goldman Sachs (United States)': (40.714897, -74.01438),\n",
       " 'National Supercomputing Center in Wuxi': (31.545967, 120.25512),\n",
       " 'Robert Bosch (Germany)': (48.882492, 9.080398),\n",
       " 'TU Dortmund University': (51.51494, 7.466),\n",
       " 'Tokyo Gas (Japan)': (35.6895, 139.69171),\n",
       " 'Sumitomo Electric Industries (Japan)': (34.69374, 135.50218),\n",
       " 'National Institutes for Quantum and Radiological Science and Technology': (35.6,\n",
       "  140.11667),\n",
       " 'University of Tsukuba': (36.2, 140.1),\n",
       " 'University of Rochester': (43.15478, -77.61556),\n",
       " 'INFN Sezione di Pavia': (45.19205, 9.15917),\n",
       " 'University of Pavia': (45.19205, 9.15917),\n",
       " 'Shanghai University': (31.22222, 121.45806),\n",
       " 'University of the Basque Country': (43.32686, -2.98884),\n",
       " 'Ikerbasque': (43.26271, -2.92528),\n",
       " 'IQM (Germany)': (48.080276, 11.638056),\n",
       " 'Skolkovo Institute of Science and Technology': (55.684517, 37.340343),\n",
       " \"Sant'Anna School of Advanced Studies\": (43.721012, 10.402786),\n",
       " 'IBM (Spain)': (40.444004, -3.666095),\n",
       " 'SC Solutions (United States)': (37.388134, -121.991165),\n",
       " 'Yokohama City University': (35.43333, 139.65),\n",
       " 'RIKEN Center for Advanced Intelligence Project': (35.683475, 139.7745),\n",
       " 'RIKEN Center for Integrative Medical Sciences': (35.43333, 139.65),\n",
       " 'National Institute for Materials Science': (36.2, 140.1),\n",
       " 'Science Wares (United States)': (41.553837, -70.60713),\n",
       " 'Max Planck Institute for Physics': (48.184723, 11.6125),\n",
       " 'Deutsches Elektronen-Synchrotron DESY': (53.55073, 9.99302),\n",
       " 'Paul Scherrer Institute': (47.52682, 8.21486),\n",
       " 'INFN Sezione di Firenze': (43.83193, 11.19924),\n",
       " 'Universidade Federal do ABC': (-23.66389, -46.53833),\n",
       " 'Instituto de Física Corpuscular': (39.50263, -0.44079),\n",
       " 'INFN Sezione di Milano': (45.46427, 9.18951),\n",
       " 'Autonomous University of Sinaloa': (24.79032, -107.38782),\n",
       " 'University of Coimbra': (40.20564, -8.41955),\n",
       " 'LIP - Laboratory of Instrumentation and Experimental Particle Physics': (38.71667,\n",
       "  -9.13333),\n",
       " 'Universidad de Granada': (37.18817, -3.60667),\n",
       " 'INFN Sezione di Milano Bicocca': (45.46427, 9.18951),\n",
       " 'University of Zurich': (47.36667, 8.55),\n",
       " 'Karlsruhe Institute of Technology': (49.00937, 8.40444),\n",
       " 'TU Dresden': (51.05089, 13.73832),\n",
       " 'INFN Sezione di Napoli': (40.85216, 14.26811),\n",
       " 'Chalmers University of Technology': (57.70716, 11.96679),\n",
       " 'ExxonMobil (United States)': (32.81402, -96.94889),\n",
       " 'IBM Research - Ireland': (53.332043, -6.231519),\n",
       " 'Carnegie Mellon University': (40.44062, -79.99589),\n",
       " 'Lanzhou University': (36.05701, 103.83987),\n",
       " 'Beijing Computational Science Research Center': (39.914326, 116.380936),\n",
       " 'Instituto Politécnico de Lisboa': (38.71667, -9.13333),\n",
       " 'University of Lisbon': (38.71667, -9.13333),\n",
       " 'National University of Defense Technology': (28.19874, 112.97087),\n",
       " 'Tokyo University of Science': (35.69966, 139.74298),\n",
       " 'Peng Cheng Laboratory': (22.54554, 114.0683),\n",
       " 'Queensland Rail': (-27.464903, 153.02711),\n",
       " 'Total (France)': (48.85341, 2.3488),\n",
       " 'RIKEN Center for Computational Science': (34.6913, 135.183),\n",
       " 'Universitat Politècnica de Catalunya': (41.38879, 2.15899),\n",
       " 'Barcelona Supercomputing Center': (41.38879, 2.15899),\n",
       " 'University of Milan': (45.46427, 9.18951),\n",
       " 'National Transportation Research Center': (35.95457, -84.154495),\n",
       " 'Physikalisch-Technische Bundesanstalt': (52.26594, 10.52673),\n",
       " 'Jülich Aachen Research Alliance': (50.92149, 6.36267),\n",
       " 'Osaka Research Institute of Industrial Science and Technology': (34.69374,\n",
       "  135.50218),\n",
       " 'University of Jyväskylä': (62.236687, 25.731623),\n",
       " 'Institute for Atomic and Molecular Physics': (52.35656, 4.948785),\n",
       " 'Syracuse University': (43.04812, -76.14742),\n",
       " 'United States Air Force Research Laboratory': (39.81113, -84.05731),\n",
       " 'Kumoh National Institute of Technology': (36.144596, 128.39319),\n",
       " 'ARC Centre of Excellence in Future Low-Energy Electronics Technologies': (-37.91667,\n",
       "  145.11667),\n",
       " 'Institute of Semiconductors': (39.9075, 116.39723),\n",
       " 'Shanghai Jiao Tong University': (31.22222, 121.45806),\n",
       " 'Max Planck Institute for the Physics of Complex Systems': (51.026985,\n",
       "  13.716826),\n",
       " 'Toronto Public Health': (43.656532, -79.37938),\n",
       " 'Rigetti Computing (United States)': (37.854294, -122.293594),\n",
       " 'University of Pittsburgh': (40.44062, -79.99589),\n",
       " 'California NanoSystems Institute': (34.05223, -118.24368),\n",
       " 'Grenoble Institute of Technology': (45.17869, 5.71479),\n",
       " 'Infineon Technologies (Germany)': (48.13743, 11.57549),\n",
       " 'Merck (Germany)': (49.897415, 8.64875),\n",
       " 'BMW (Germany)': (48.13743, 11.57549),\n",
       " 'Siemens (Germany)': (48.13743, 11.57549),\n",
       " 'BASF (Germany)': (49.49516, 8.432817),\n",
       " 'Software Competence Center Hagenberg (Austria)': (48.369488, 14.514044),\n",
       " 'University of Castilla-La Mancha': (38.98626, -3.92907),\n",
       " 'Instituto de Nanociencia y Materiales de Aragón': (41.65606, -0.87734),\n",
       " 'Universidad de Zaragoza': (41.65606, -0.87734),\n",
       " 'Instituto de Física Fundamental': (40.4165, -3.70256),\n",
       " 'Wuhan University': (30.58333, 114.26667),\n",
       " 'Budapest University of Technology and Economics': (47.49835, 19.04045),\n",
       " 'Vrije Universiteit Amsterdam': (52.37403, 4.88969),\n",
       " 'Institut Charles Gerhardt': (43.631783, 3.861849),\n",
       " 'Institut de Chimie': (48.85341, 2.3488),\n",
       " 'Institute for Cross-Disciplinary Physics and Complex Systems': (39.56939,\n",
       "  2.65024),\n",
       " 'University of Turku': (60.45148, 22.26869),\n",
       " 'Boehringer Ingelheim (Netherlands)': (52.64387, 4.727648),\n",
       " 'Williams College': (42.71275, -73.2031),\n",
       " 'Mitsubishi Chemical (Japan)': (37.05, 140.88333),\n",
       " 'University of Sheffield': (53.38297, -1.4659),\n",
       " 'Shandong University of Science and Technology': (36.00012, 120.12485),\n",
       " 'Collaborations Pharmaceuticals (United States)': (35.775257, -78.67724),\n",
       " 'Universidade de São Paulo': (-23.5475, -46.63611),\n",
       " 'Mercedes-Benz Research and Development North America (United States)': (47.60621,\n",
       "  -122.33207),\n",
       " 'Cyprus Institute': (35.141804, 33.381287),\n",
       " 'University of Johannesburg': (-26.189432, 28.013746),\n",
       " 'Trinity College Dublin': (53.33306, -6.24889),\n",
       " 'Durham University': (54.76518, -1.578224),\n",
       " 'Intel (India)': (12.926928, 77.68433),\n",
       " 'National Laboratory for Superconductivity': (39.953568, 116.32367),\n",
       " 'Kyung Hee University': (37.59675, 127.05189),\n",
       " 'Aberystwyth University': (52.41548, -4.08292),\n",
       " 'College of Staten Island': (40.71427, -74.00597),\n",
       " 'National Institute of Technology Kurukshetra': (29.949247, 76.815865),\n",
       " 'National Institute of Technology Tiruchirappalli': (10.763, 78.818),\n",
       " 'Harbin Institute of Technology': (45.75, 126.65),\n",
       " \"Xi'an Jiaotong University\": (34.25833, 108.92861),\n",
       " 'Ørsted (Denmark)': (55.515984, 9.623265),\n",
       " 'Michigan State University': (42.73698, -84.48387),\n",
       " 'HAW Hamburg': (53.55073, 9.99302),\n",
       " 'Palo Alto University': (37.382282, -122.187546),\n",
       " 'Southern Illinois University Carbondale': (37.72727, -89.21675),\n",
       " 'Laboratoire des Sciences des Procédés et des Matériaux': (48.95833, 2.34167),\n",
       " 'Leipzig University': (51.33962, 12.37129),\n",
       " 'Tufts University': (42.41843, -71.10616),\n",
       " 'Trento Institute for Fundamental Physics and Applications': (46.06698,\n",
       "  11.15503),\n",
       " 'Phasecraft (United Kingdom)': (51.52006, -0.1370434),\n",
       " 'INFN Sezione di Padova': (45.40797, 11.88586),\n",
       " 'Ningbo University': (29.908451, 121.63724),\n",
       " 'Nanjing University of Posts and Telecommunications': (32.0805, 118.765),\n",
       " 'National Engineering Research Center for Information Technology in Agriculture': (39.94302,\n",
       "  116.28591),\n",
       " 'University of Southampton': (50.90395, -1.40428),\n",
       " 'Multiverse Computing (Spain)': (43.295795, -1.98007),\n",
       " 'Donostia International Physics Center': (43.306877, -2.011029),\n",
       " 'DEVCOM Army Research Laboratory': (39.00317, -76.97192),\n",
       " 'University of Massachusetts Boston': (42.35843, -71.05977),\n",
       " 'European Organization for Nuclear Research': (46.20222, 6.14569),\n",
       " 'Banco Santander (Spain)': (40.392822, -3.865078),\n",
       " 'Universitat de València': (39.47391, -0.37966),\n",
       " 'Universidad de Sevilla': (37.38283, -5.97317),\n",
       " 'Yale-NUS College': (1.28967, 103.85007),\n",
       " 'Hewlett-Packard (Netherlands)': (52.2873, 4.846475),\n",
       " 'Indian Institute of Technology Indore': (22.71792, 75.8333),\n",
       " 'Indian Institute of Technology Gandhinagar': (23.21667, 72.68333),\n",
       " 'Devi Ahilya Vishwavidyalaya': (22.716978, 75.87196),\n",
       " 'University of Cape Town': (-33.96333, 18.47639),\n",
       " 'University of Canberra': (-35.28346, 149.12807),\n",
       " 'Australian National University': (-35.28346, 149.12807),\n",
       " 'Shanxi University of Traditional Chinese Medicine': (37.841415, 112.52958),\n",
       " 'University of Tübingen': (48.52266, 9.05222),\n",
       " 'Universidade Federal de São Carlos': (-22.0175, -47.89083),\n",
       " \"Université Côte d'Azur\": (43.70313, 7.26608),\n",
       " 'AlbaNova': (59.353447, 18.0578),\n",
       " 'Stockholm University': (59.32938, 18.06871),\n",
       " 'Jingdong (China)': (39.788967, 116.56321),\n",
       " 'Group Sense (China)': (22.330235, 114.19292),\n",
       " 'Quanta Computer (Taiwan)': (24.99368, 121.29696),\n",
       " 'National University of Science and Technology': (55.75222, 37.61556),\n",
       " 'All Russia Research Institute of Automatics': (55.76255, 37.63794),\n",
       " 'IMEC': (50.87959, 4.70093),\n",
       " 'Waseda University': (35.7092, 139.71933),\n",
       " 'Arizona State University': (33.41477, -111.90931),\n",
       " 'VTT Technical Research Centre of Finland': (60.2052, 24.6522),\n",
       " 'Madrid Institute for Advanced Studies': (40.562027, -3.688934),\n",
       " 'Clemson University': (34.678333, -82.839165),\n",
       " 'Zhejiang Gongshang University': (30.308933, 120.389626),\n",
       " 'Science North': (46.47166, -80.99634),\n",
       " 'HITEC University': (33.725346, 72.82024),\n",
       " 'National Energy Technology Laboratory': (40.29864, -79.99405),\n",
       " 'United States Department of Energy': (38.89511, -77.03637),\n",
       " 'Leidos (United States)': (38.96872, -77.3411),\n",
       " 'Foundation for Polish Science': (52.193275, 21.02081),\n",
       " 'University of Pisa': (43.71643, 10.398687),\n",
       " 'University of Helsinki': (60.16952, 24.93545),\n",
       " 'Quark Pharmaceuticals (United States)': (37.54827, -121.98857),\n",
       " 'Aarhus University': (56.15674, 10.21076),\n",
       " 'Middle East Technical University': (39.91987, 32.85427),\n",
       " 'Science Oxford': (51.751076, -1.23866),\n",
       " 'Offenburg University of Applied Sciences': (48.45862, 7.942061),\n",
       " 'The Ohio State University': (39.96118, -82.99879),\n",
       " 'Harvey Mudd College': (34.10608, -117.70919),\n",
       " 'SRI International': (37.45383, -122.18219),\n",
       " 'Howard University': (38.89511, -77.03637),\n",
       " 'Kavli Institute for Theoretical Sciences': (39.98486, 116.33244),\n",
       " 'Temple University': (39.95238, -75.16362),\n",
       " 'Northeastern University': (42.35843, -71.05977),\n",
       " 'Xidian University': (34.25833, 108.92861),\n",
       " 'Balseiro Institute': (-41.14557, -71.30822),\n",
       " 'Seoul National University of Science and Technology': (37.632374,\n",
       "  127.078026),\n",
       " 'University of Aberdeen': (57.165062, -2.102298),\n",
       " 'University of Luxembourg': (49.660175, 6.134009),\n",
       " 'Roche (Switzerland)': (47.55839, 7.57327),\n",
       " 'Erie VA Medical Center': (42.102127, -80.06314),\n",
       " 'National Time Service Center': (34.25833, 108.92861),\n",
       " 'University of Bayreuth': (49.94782, 11.57893),\n",
       " 'National Energy Research Scientific Computing Center': (37.87159,\n",
       "  -122.27275),\n",
       " 'Molecular Sciences Software Institute': (37.200424, -80.410484),\n",
       " 'Monash University': (-37.814, 144.96332),\n",
       " 'Oregon Clinic': (45.53073, -122.56291),\n",
       " 'Universidad de Extremadura': (38.87789, -6.97061),\n",
       " 'Universidade do Porto': (41.14961, -8.61099),\n",
       " 'Centre for Health Technology and Services Research': (41.14961, -8.61099),\n",
       " 'University of St. Gallen': (47.42391, 9.37477),\n",
       " 'Shandong Institute of Automation': (36.66833, 116.99722),\n",
       " 'University of Science and Technology Beijing': (39.9075, 116.39723),\n",
       " 'National Taiwan University': (25.016, 121.536),\n",
       " 'National Center for Theoretical Sciences': (25.01734, 121.53756),\n",
       " 'Wuhan Institute of Physics and Mathematics': (30.58333, 114.26667),\n",
       " 'Wuhan Institute of Technology': (30.58333, 114.26667),\n",
       " 'Shanghai Institute of Optics and Fine Mechanics': (31.22222, 121.45806),\n",
       " 'Nippon Steel': (35.6895, 139.69171),\n",
       " 'Microsoft Research (United Kingdom)': (52.19492, 0.134905),\n",
       " 'Ollscoil na Gaillimhe – University of Galway': (53.27245, -9.05095),\n",
       " 'Yeungnam University': (35.834167, 128.75806),\n",
       " 'Université de Moncton': (46.09454, -64.7965),\n",
       " 'Indian Institute of Science Education and Research Pune': (18.545046,\n",
       "  73.80813),\n",
       " 'Presidency University': (22.56263, 88.36304),\n",
       " 'Indian Institute of Technology Kanpur': (26.512648, 80.23288),\n",
       " 'Saha Institute of Nuclear Physics': (22.600597, 88.42008),\n",
       " 'Indian Statistical Institute': (22.56263, 88.36304),\n",
       " 'Missouri Western State University': (39.759933, -94.79),\n",
       " 'Institute of High Performance Computing': (1.28967, 103.85007),\n",
       " 'Zhejiang Sci-Tech University': (30.29365, 120.16142),\n",
       " 'Institute of Modern Physics': (36.05646, 103.85981),\n",
       " 'University of North Carolina at Charlotte': (35.303555, -80.73238),\n",
       " 'National Institute of Advanced Industrial Science and Technology': (36.06024,\n",
       "  140.1331),\n",
       " 'University of Connecticut': (41.807167, -72.2525),\n",
       " 'National High Magnetic Field Laboratory': (30.43826, -84.28073),\n",
       " 'University of Genoa': (44.40292, 8.958889),\n",
       " 'Superconducting and other Innovative Materials and Devices Institute': (44.424374,\n",
       "  8.881876),\n",
       " 'University of Kashmir': (34.13287, 74.83764),\n",
       " 'Indian Institute of Technology Roorkee': (29.862143, 77.89672),\n",
       " 'San Jose State University': (37.33939, -121.89496),\n",
       " 'Zhengzhou University': (34.816025, 113.53577),\n",
       " 'Bar-Ilan University': (32.06778, 34.8425),\n",
       " 'ITMO University': (59.93863, 30.31413),\n",
       " 'National Tsing Hua University': (24.793612, 120.992775),\n",
       " 'Sci-Tech Daresbury': (53.345467, -2.639658),\n",
       " 'Hitachi (United Kingdom)': (53.787437, -1.547015),\n",
       " 'CEA LETI': (45.195965, 5.704452),\n",
       " 'CEA Grenoble': (45.19596, 5.704727),\n",
       " 'Marymount University': (38.905, -77.129),\n",
       " 'University of South Florida': (28.054562, -82.413055),\n",
       " 'Florida Atlantic University': (26.35869, -80.0831),\n",
       " 'South Valley University': (26.16418, 32.72671),\n",
       " 'Egyptian e-Learning University': (30.037289, 31.21973),\n",
       " 'Cairo University': (30.0276, 31.21014),\n",
       " 'Sohag University': (26.55695, 31.69478),\n",
       " 'Zewail City of Science and Technology': (30.06263, 31.24967),\n",
       " 'Friedrich Schiller University Jena': (50.92878, 11.5899),\n",
       " 'Sapienza University of Rome': (41.90384, 12.514438),\n",
       " 'S.N. Bose National Centre for Basic Sciences': (22.56263, 88.36304),\n",
       " 'QNu Labs (India)': (12.976598, 77.54986),\n",
       " 'Hyundai Motors (South Korea)': (37.402653, 127.11221),\n",
       " 'Instituto de Telecomunicações': (38.71667, -9.13333),\n",
       " 'Iscte – Instituto Universitário de Lisboa': (38.71667, -9.13333),\n",
       " 'Institut de Recherche de Chimie Paris': (48.84713, 2.354694),\n",
       " 'Chimie ParisTech': (48.85341, 2.3488),\n",
       " 'Université Paris Sciences et Lettres': (48.85341, 2.3488),\n",
       " 'Maulana Azad National Institute of Technology': (23.25469, 77.40289),\n",
       " 'Tata Consultancy Services (India)': (18.51957, 73.85535),\n",
       " 'Manav Rachna International Institute of Research and Studies': (28.449638,\n",
       "  77.2851),\n",
       " 'Aryabhatta Knowledge University': (25.592457, 85.13497),\n",
       " 'Maharshi Dayanand Saraswati University': (26.50523, 74.6809),\n",
       " 'Center for Free-Electron Laser Science': (53.55073, 9.99302),\n",
       " 'Okinawa Institute of Science and Technology Graduate University': (26.47595,\n",
       "  127.85278),\n",
       " 'École Normale Supérieure - PSL': (48.85341, 2.3488),\n",
       " 'Huawei Technologies (China)': (22.54554, 114.0683),\n",
       " 'Delhi Technological University': (28.749947, 77.11703),\n",
       " 'Northwest Normal University': (36.10085, 103.7362),\n",
       " 'ARC Centre of Excellence for Transformative Meta-Optical Systems': (-35.279484,\n",
       "  149.12825),\n",
       " 'Data61': (-33.86785, 151.20732),\n",
       " 'Commonwealth Scientific and Industrial Research Organisation': (-35.28346,\n",
       "  149.12807),\n",
       " 'Max Planck Institute for Solid State Research': (48.78232, 9.17702),\n",
       " 'North University of China': (38.011936, 112.4429),\n",
       " \"Laboratoire de Physique de l'ENS\": (48.85341, 2.3488),\n",
       " 'State Innovation Exchange': (43.07061, -89.42564),\n",
       " 'Laboratory of Computer Science and Automatic Control for Systems': (46.578854,\n",
       "  0.340332),\n",
       " 'Princess Nourah bint Abdulrahman University': (24.68773, 46.72185),\n",
       " 'Uttaranchal University': (30.321915, 78.02662),\n",
       " 'Universidad Internacional': (42.46667, -2.45),\n",
       " 'Ibero-American University Puebla': (19.034048, -98.24413),\n",
       " 'Ibero American University': (19.370667, -99.264084),\n",
       " 'Shandong University of Technology': (36.79056, 118.06333),\n",
       " 'Prime Photonics (United States)': (37.2193, -80.4035),\n",
       " 'Portland State University': (45.511333, -122.6827),\n",
       " 'Bundelkhand University': (25.454, 78.6086),\n",
       " 'Central University of Jammu': (32.6905, 74.8775),\n",
       " 'Chandigarh University': (30.67995, 76.72211),\n",
       " 'ZHAW Zurich University of Applied Sciences': (47.50564, 8.72413),\n",
       " 'European Centre for Living Technology': (45.432907, 12.329573),\n",
       " 'Universitat de les Illes Balears': (39.56939, 2.65024),\n",
       " 'Helsinki Institute of Physics': (60.16952, 24.93545),\n",
       " 'Guru Nanak Dev University': (31.62234, 74.87534),\n",
       " 'CeNTech': (51.969166, 7.5925),\n",
       " 'Center for NanoScience': (39.989197, 116.324974),\n",
       " 'Wolfson Foundation': (51.51838, -0.14579),\n",
       " 'Institut Fresnel': (43.29695, 5.38107),\n",
       " 'European Molecular Biology Laboratory': (53.55073, 9.99302),\n",
       " 'Regensburg University of Applied Sciences': (49.003613, 12.095),\n",
       " 'University of Passau': (48.5665, 13.43122),\n",
       " 'Ulsan National Institute of Science and Technology': (35.573, 129.19),\n",
       " 'University of Bonn': (50.73438, 7.09549),\n",
       " 'French Institute for Research in Computer Science and Automation': (48.8205,\n",
       "  2.1311),\n",
       " 'Graz University of Technology': (47.0696, 15.451495),\n",
       " 'Tallinn University of Technology': (59.43696, 24.75353),\n",
       " 'Institute of Software': (39.9075, 116.39723),\n",
       " 'Max Planck Institute for Security and Privacy': (51.48165, 7.21648),\n",
       " 'IMDEA Software': (40.408207, -3.835814),\n",
       " 'European Centre for Theoretical Studies in Nuclear Physics and Related Areas': (46.044144,\n",
       "  11.138494),\n",
       " 'Central Research Institute': (35.686394, 139.74725),\n",
       " 'Huawei Technologies (France)': (48.83311, 2.259351),\n",
       " 'IQM (Finland)': (60.218063, 24.647621),\n",
       " 'Nanjing University of Science and Technology': (32.0333, 118.85192),\n",
       " 'Scuola Normale Superiore': (43.70853, 10.4036),\n",
       " 'Folkwang University of the Arts': (51.387527, 7.004498),\n",
       " 'University of Siegen': (50.87481, 8.02431),\n",
       " \"Ca' Foscari University of Venice\": (45.43713, 12.33265),\n",
       " 'University of Palermo': (38.117874, 13.369795),\n",
       " 'Inter-American Development Bank': (38.899487, -77.03053),\n",
       " 'University of Rennes': (48.11198, -1.67429),\n",
       " 'Institut de Physique de Rennes': (48.11198, -1.67429),\n",
       " 'Nicolaus Copernicus University': (53.01375, 18.59814),\n",
       " 'Indian Institute of Science Education and Research Mohali': (30.67995,\n",
       "  76.72211),\n",
       " \"St. John's University\": (40.71427, -74.00597),\n",
       " 'Kwangwoon University': (37.6201, 127.056),\n",
       " 'Florida Polytechnic University': (28.03947, -81.9498),\n",
       " 'University of Southern Denmark': (55.36861, 10.428056),\n",
       " 'Johns Hopkins University': (39.29038, -76.61219),\n",
       " 'Johns Hopkins University Applied Physics Laboratory': (39.139, -76.87053),\n",
       " 'Universidade Federal Rural de Pernambuco': (-8.05389, -34.88111),\n",
       " 'Stellenbosch University': (-33.93462, 18.86676),\n",
       " \"Consorzio per l'AREA di Ricerca Scientifica e Tecnologica di Trieste\": (45.64953,\n",
       "  13.77678),\n",
       " 'Bavarian Academy of Sciences and Humanities': (48.13743, 11.57549),\n",
       " 'Oxford Instruments (United Kingdom)': (51.69486, -1.351511),\n",
       " 'TTI (Spain)': (43.45323, -3.869973),\n",
       " 'Basque Center for Applied Mathematics': (43.26271, -2.92528),\n",
       " 'North China University of Technology': (39.9075, 116.39723),\n",
       " 'Chengdu University of Information Technology': (30.584444, 103.986946),\n",
       " 'Institut des NanoSciences de Paris': (48.85341, 2.3488),\n",
       " 'Institut Universitaire de France': (48.84747, 2.348696),\n",
       " 'Beijing Institute of Technology': (39.95778, 116.308334),\n",
       " 'Serampore College': (22.752188, 88.35181),\n",
       " 'Vellore Institute of Technology University': (12.968794, 79.15902),\n",
       " 'Institute of Management Technology': (28.674335, 77.44874),\n",
       " 'Graphic Era University': (30.32443, 78.03392),\n",
       " 'Atos (France)': (48.924587, 2.221059),\n",
       " 'Jiaxing University': (30.7522, 120.75),\n",
       " 'Hong Kong University of Science and Technology': (22.336182, 114.26512),\n",
       " 'Chinese University of Hong Kong': (22.419722, 114.206795),\n",
       " 'Uppsala University': (59.85882, 17.63889),\n",
       " 'Shandong University': (36.66833, 116.99722),\n",
       " 'Max Planck Institute of Microstructure Physics': (51.495277, 11.941389),\n",
       " 'Western Michigan University': (42.283333, -85.61389),\n",
       " 'GANIL': (49.18585, -0.35912),\n",
       " 'Institut National de Physique Nucléaire et de Physique des Particules': (48.85341,\n",
       "  2.3488),\n",
       " 'Universidad de Deusto': (43.26271, -2.92528),\n",
       " 'University of the West Indies': (10.642119, -61.400124),\n",
       " 'Sarah Lawrence College': (40.934147, -73.84758),\n",
       " 'University of Paris-Saclay': (48.68333, 2.13333),\n",
       " 'National University of Malaysia': (2.9, 101.78333),\n",
       " 'University of Technology - Iraq': (33.34058, 44.40088),\n",
       " 'University of Delhi': (28.583332, 77.166664),\n",
       " 'Airlangga University': (-7.270593, 112.75844),\n",
       " 'University of Florida': (29.65163, -82.32483),\n",
       " 'University of Ibadan': (7.37756, 3.90591),\n",
       " 'University of the Cumberlands': (36.737736, -84.16334),\n",
       " 'Camille Jordan Institute': (45.76601, 4.8795),\n",
       " 'Claude Bernard University Lyon 1': (45.76601, 4.8795),\n",
       " 'Institute for High Performance Computing and Networking': (39.35868,\n",
       "  16.226372),\n",
       " 'National Institute of Technology Jamshedpur': (22.773064, 86.142105),\n",
       " 'Indian Institute of Science Education and Research Berhampur': (19.310886,\n",
       "  84.82746),\n",
       " 'Hamad bin Khalifa University': (25.28545, 51.53096),\n",
       " 'Qatar Foundation': (25.28545, 51.53096),\n",
       " 'University of Burdwan': (23.239508, 87.851204),\n",
       " 'Ain Shams University': (30.076912, 31.290682),\n",
       " 'Abu Dhabi University': (24.36561, 54.56291),\n",
       " 'University of Glasgow': (55.86515, -4.25763),\n",
       " 'INFN Sezione di Catania': (37.49223, 15.07041),\n",
       " 'University of Catania': (37.49223, 15.07041),\n",
       " 'Institute for Microelectronics and Microsystems': (37.49223, 15.07041),\n",
       " 'Comenius University Bratislava': (48.14816, 17.10674),\n",
       " 'Centro Siciliano di Fisica Nucleare e di Struttura della Materia': (37.49223,\n",
       "  15.07041),\n",
       " 'Tokyo International University': (35.90861, 139.48528),\n",
       " 'Indian Institute of Science Education and Research Kolkata': (22.56263,\n",
       "  88.36304),\n",
       " 'Işık University': (41.01384, 28.94966),\n",
       " 'Istanbul Technical University': (41.01384, 28.94966),\n",
       " 'Boğaziçi University': (41.01384, 28.94966),\n",
       " 'Istanbul University': (41.01384, 28.94966),\n",
       " 'Koç University': (41.01384, 28.94966),\n",
       " 'Scientific and Technological Research Council of Turkey': (39.904716,\n",
       "  32.858597),\n",
       " 'Sabancı Üniversitesi': (41.01384, 28.94966),\n",
       " 'Charles Sturt University': (-33.430023, 149.56557),\n",
       " 'Chapman University': (33.792778, -117.85139),\n",
       " 'Max Planck Institute for Chemical Physics of Solids': (51.026608, 13.71933),\n",
       " 'University of St Andrews': (56.33871, -2.79902),\n",
       " 'Toshiba (Japan)': (35.6895, 139.69171),\n",
       " 'Mahidol University': (13.793406, 100.32252),\n",
       " 'Merck (Singapore)': (1.290944, 103.78487),\n",
       " 'South Carolina State University': (33.497223, -80.85),\n",
       " 'University of Georgia': (33.96095, -83.37794),\n",
       " 'Universidade Federal do Rio de Janeiro': (-22.90642, -43.18223),\n",
       " 'University of Concepción': (-36.828335, -73.037224),\n",
       " 'Inria Grenoble - Rhône-Alpes research centre': (45.225704, 5.802719),\n",
       " 'Fundació Universitat-Empresa de les Illes Balears': (39.56939, 2.65024),\n",
       " 'National Science Foundation': (38.80484, -77.04692),\n",
       " 'Baidu (China)': (39.9075, 116.39723),\n",
       " 'University of Kentucky': (37.98869, -84.47772),\n",
       " 'Barclays (United Kingdom)': (51.505314, -0.014097),\n",
       " 'University of Gdańsk': (54.35227, 18.64912),\n",
       " 'Samsung (South Korea)': (37.566, 126.9784),\n",
       " 'Jaypee Institute of Information Technology': (28.58, 77.33),\n",
       " 'Radboud University Nijmegen': (51.8425, 5.85278),\n",
       " 'Sofia University \"St. Kliment Ohridski\"': (42.69751, 23.32415),\n",
       " 'Westlake University': (30.29365, 120.16142),\n",
       " 'Jilin University': (43.88, 125.32278),\n",
       " 'Vladimir State University': (56.133167, 40.397343),\n",
       " 'Moscow Institute of Physics and Technology': (55.94958, 37.50183),\n",
       " 'Max Planck Institute for Gravitational Physics': (52.41639, 12.969167),\n",
       " 'Wichita State University': (37.719166, -97.29305),\n",
       " 'Istituto Nanoscienze': (43.714104, 10.409105),\n",
       " 'City University of Hong Kong': (22.27832, 114.17469),\n",
       " 'Institute for Systems and Computer Engineering of Porto': (41.14961,\n",
       "  -8.61099),\n",
       " 'Ioffe Institute': (59.93863, 30.31413),\n",
       " 'Institute of Art': (52.24783, 21.005054),\n",
       " 'New York University Shanghai': (31.22222, 121.45806),\n",
       " 'East China Normal University': (31.22222, 121.45806),\n",
       " 'Zhejiang Lab': (30.27124, 119.96515),\n",
       " 'University of Kent': (51.27904, 1.07992),\n",
       " 'Indus University': (23.065, 72.44),\n",
       " 'Punjabi University': (30.359724, 76.45423),\n",
       " 'Islamic Azad University of Parand': (35.47408, 50.996426),\n",
       " 'Simula Research Laboratory': (59.90994, 10.63545),\n",
       " 'Nanjing University of Aeronautics and Astronautics': (32.06167, 118.77778),\n",
       " 'San Diego State University': (32.77504, -117.07168),\n",
       " 'Songshan Lake Materials Laboratory': (22.88768, 113.84431),\n",
       " 'Institut National des Sciences Appliquées de Toulouse': (43.60426, 1.44367),\n",
       " 'Laboratoire National des Champs Magnétiques Intenses': (45.17869, 5.71479),\n",
       " 'National Aeronautics and Space Administration': (38.89511, -77.03637),\n",
       " 'Institute for Complex Systems': (41.899815, 12.510132),\n",
       " 'Wolfgang Pauli Institute': (48.220306, 16.367687),\n",
       " 'Covestro (Germany)': (51.0303, 6.98432),\n",
       " 'Ministry of Industry and Information Technology': (39.90783, 116.379265),\n",
       " 'University of Warsaw': (52.22977, 21.01178),\n",
       " 'Istituto di Nanotecnologia': (40.33869, 18.120506),\n",
       " 'Fujian Normal University': (26.06139, 119.30611),\n",
       " 'Hansung University': (37.637, 126.910355),\n",
       " 'Anhui University': (31.845516, 117.251595),\n",
       " 'Anhui University of Technology': (31.692987, 118.51065),\n",
       " 'University of Montana': (46.87215, -113.994),\n",
       " 'TRIUMF': (49.24966, -123.11934),\n",
       " 'Center for Quantum Nanoscience': (37.55959, 126.944916),\n",
       " 'Universidade Federal do Rio Grande do Sul': (-30.03283, -51.23019),\n",
       " 'King Abdulaziz University': (21.493889, 39.25028),\n",
       " 'University of New Orleans': (29.95465, -90.07507),\n",
       " 'Indian Institute of Technology Bombay': (19.07283, 72.88261),\n",
       " \"Service de Physique de l'État Condensé\": (48.68333, 2.13333),\n",
       " 'RIKEN Nishina Center': (35.78944, 139.62334),\n",
       " 'Tokyo University of the Arts': (35.719406, 139.77217),\n",
       " 'University of Utah': (40.76078, -111.89105),\n",
       " 'Institute of Information and Communication Technologies': (42.698013,\n",
       "  23.325453),\n",
       " 'Bulgarian Academy of Sciences': (42.69751, 23.32415),\n",
       " 'Özyeğin University': (41.023193, 29.04611),\n",
       " 'Fundacion Agencia Aragonesa para la Investigacion y el Desarrollo': (41.65606,\n",
       "  -0.87734),\n",
       " 'University College Dublin': (53.33306, -6.24889),\n",
       " 'Microsoft (Denmark)': (55.68164, 12.562917),\n",
       " 'Southeast University': (32.06167, 118.77778),\n",
       " 'Royal Holloway University of London': (51.43158, -0.55239),\n",
       " 'Austrian Institute of Technology': (47.976112, 16.508612),\n",
       " 'Institute of Information Engineering': (39.9075, 116.39723),\n",
       " 'Indian Institute of Technology Delhi': (28.545, 77.19222),\n",
       " 'Christ University': (12.935087, 77.60607),\n",
       " 'Eötvös Loránd University': (47.49835, 19.04045),\n",
       " 'Kumamoto University': (32.81389, 130.72806),\n",
       " 'San Camillo IRCCS di Venezia': (45.43713, 12.33265),\n",
       " 'Laboratoire de Physique des 2 Infinis Irène Joliot-Curie': (48.699448,\n",
       "  2.175833),\n",
       " 'University of North Carolina at Chapel Hill': (35.9132, -79.05584),\n",
       " 'University of Salerno': (40.76868, 14.795022),\n",
       " 'Tampere University': (61.49911, 23.78712),\n",
       " 'South China Normal University': (23.11667, 113.25),\n",
       " 'Laboratoire Albert Fert': (48.71828, 2.2498),\n",
       " 'Laboratoire de physique des Solides': (48.69572, 2.18727),\n",
       " 'Wenzhou University': (28.007355, 120.685074),\n",
       " 'Hallym University': (37.868793, 127.697334),\n",
       " 'Deakin University': (-37.84978, 145.119),\n",
       " 'Inha University': (37.449444, 126.65444),\n",
       " 'École Nationale Supérieure de Techniques Avancées': (48.71828, 2.2498),\n",
       " 'University of Milano-Bicocca': (45.46427, 9.18951),\n",
       " 'Institute of Physics and Technology': (55.94958, 37.50183),\n",
       " 'Shanxi University': (37.86944, 112.56028),\n",
       " 'King University': (24.68773, 46.72185),\n",
       " 'Hood College': (39.41427, -77.41054),\n",
       " 'IMS Nanofabrication (Austria)': (48.220863, 16.373096),\n",
       " 'Consejo Nacional de Investigaciones Científicas y Técnicas': (-34.61315,\n",
       "  -58.37723),\n",
       " 'Universidad Nacional de La Plata': (-34.92145, -57.95453),\n",
       " 'KU Leuven': (50.87959, 4.70093),\n",
       " 'Laboratory Materials and Quantum Phenomena': (48.85341, 2.3488),\n",
       " 'Université Paris Cité': (48.85341, 2.3488),\n",
       " 'Universidade Federal do Oeste da Bahia': (-12.15278, -44.99),\n",
       " 'Universidade Federal Fluminense': (-22.88333, -43.10361),\n",
       " 'Huazhong University of Science and Technology': (30.58333, 114.26667),\n",
       " 'Xiangtan University': (27.883953, 112.86723),\n",
       " 'Central South University': (28.19874, 112.97087),\n",
       " 'National Institute for Nanotechnology': (53.55014, -113.46871),\n",
       " 'University of Alberta': (53.55014, -113.46871),\n",
       " 'Polymat': (43.30652, -2.008654),\n",
       " 'Universidad de Oviedo': (43.36029, -5.84476),\n",
       " 'Universidad San Pablo CEU': (40.4165, -3.70256),\n",
       " 'University of Kaiserslautern': (49.443, 7.77161),\n",
       " 'National Earthquake Response Support Service': (39.908543, 116.404045),\n",
       " 'Fujian Agriculture and Forestry University': (26.06139, 119.30611),\n",
       " 'University of California System': (37.80437, -122.2708),\n",
       " 'Collaborative Innovation Center of Chemistry for Energy Materials': (31.22222,\n",
       "  121.45806),\n",
       " 'Fudan University': (31.22222, 121.45806),\n",
       " 'Optica': (38.89511, -77.03637),\n",
       " 'Marquette University': (43.0389, -87.90647),\n",
       " 'Kennesaw State University': (34.02343, -84.61549),\n",
       " 'Tennessee Technological University': (36.16284, -85.50164),\n",
       " ...}"
      ]
     },
     "execution_count": 166,
     "metadata": {},
     "output_type": "execute_result"
    }
   ],
   "source": [
    "affil_geo_dict"
   ]
  },
  {
   "cell_type": "code",
   "execution_count": 167,
   "id": "9e1a7010-2125-426b-a0ae-3b47f07a592a",
   "metadata": {},
   "outputs": [
    {
     "name": "stdout",
     "output_type": "stream",
     "text": [
      "10\n"
     ]
    }
   ],
   "source": [
    "dvaffils, kwwaffils = get_affils_cluster_sort(dftriple, 10)"
   ]
  },
  {
   "cell_type": "code",
   "execution_count": 168,
   "id": "b079ba7e-b5eb-41f7-bf31-1a69f31e9ad1",
   "metadata": {},
   "outputs": [],
   "source": [
    "#affil_geo_dict['University of Electronic Science and Technology of China']"
   ]
  },
  {
   "cell_type": "code",
   "execution_count": 169,
   "id": "9974ce1f-55fa-49e4-8935-ffbf739bfd42",
   "metadata": {},
   "outputs": [
    {
     "data": {
      "text/html": [
       "<div>\n",
       "<style scoped>\n",
       "    .dataframe tbody tr th:only-of-type {\n",
       "        vertical-align: middle;\n",
       "    }\n",
       "\n",
       "    .dataframe tbody tr th {\n",
       "        vertical-align: top;\n",
       "    }\n",
       "\n",
       "    .dataframe thead th {\n",
       "        text-align: right;\n",
       "    }\n",
       "</style>\n",
       "<table border=\"1\" class=\"dataframe\">\n",
       "  <thead>\n",
       "    <tr style=\"text-align: right;\">\n",
       "      <th></th>\n",
       "      <th>id</th>\n",
       "      <th>display_name</th>\n",
       "      <th>country_code</th>\n",
       "      <th>type</th>\n",
       "      <th>paper_cluster_score</th>\n",
       "      <th>latitude</th>\n",
       "      <th>longitude</th>\n",
       "    </tr>\n",
       "  </thead>\n",
       "  <tbody>\n",
       "    <tr>\n",
       "      <th>0</th>\n",
       "      <td>https://openalex.org/I122411786</td>\n",
       "      <td>California Institute of Technology</td>\n",
       "      <td>US</td>\n",
       "      <td>education</td>\n",
       "      <td>3.0</td>\n",
       "      <td>34.147780</td>\n",
       "      <td>-118.14452</td>\n",
       "    </tr>\n",
       "    <tr>\n",
       "      <th>1</th>\n",
       "      <td>https://openalex.org/I98358874</td>\n",
       "      <td>Delft University of Technology</td>\n",
       "      <td>NL</td>\n",
       "      <td>education</td>\n",
       "      <td>3.0</td>\n",
       "      <td>52.006670</td>\n",
       "      <td>4.35556</td>\n",
       "    </tr>\n",
       "    <tr>\n",
       "      <th>2</th>\n",
       "      <td>https://openalex.org/I192578771</td>\n",
       "      <td>Rose–Hulman Institute of Technology</td>\n",
       "      <td>US</td>\n",
       "      <td>education</td>\n",
       "      <td>1.0</td>\n",
       "      <td>39.482716</td>\n",
       "      <td>-87.32400</td>\n",
       "    </tr>\n",
       "    <tr>\n",
       "      <th>3</th>\n",
       "      <td>https://openalex.org/I78650965</td>\n",
       "      <td>TU Dresden</td>\n",
       "      <td>DE</td>\n",
       "      <td>education</td>\n",
       "      <td>0.611036</td>\n",
       "      <td>51.050890</td>\n",
       "      <td>13.73832</td>\n",
       "    </tr>\n",
       "    <tr>\n",
       "      <th>4</th>\n",
       "      <td>https://openalex.org/I124227911</td>\n",
       "      <td>Ben-Gurion University of the Negev</td>\n",
       "      <td>IL</td>\n",
       "      <td>education</td>\n",
       "      <td>0.421383</td>\n",
       "      <td>31.262192</td>\n",
       "      <td>34.80151</td>\n",
       "    </tr>\n",
       "  </tbody>\n",
       "</table>\n",
       "</div>"
      ],
      "text/plain": [
       "                                id                         display_name  \\\n",
       "0  https://openalex.org/I122411786   California Institute of Technology   \n",
       "1   https://openalex.org/I98358874       Delft University of Technology   \n",
       "2  https://openalex.org/I192578771  Rose–Hulman Institute of Technology   \n",
       "3   https://openalex.org/I78650965                           TU Dresden   \n",
       "4  https://openalex.org/I124227911   Ben-Gurion University of the Negev   \n",
       "\n",
       "  country_code       type paper_cluster_score   latitude  longitude  \n",
       "0           US  education                 3.0  34.147780 -118.14452  \n",
       "1           NL  education                 3.0  52.006670    4.35556  \n",
       "2           US  education                 1.0  39.482716  -87.32400  \n",
       "3           DE  education            0.611036  51.050890   13.73832  \n",
       "4           IL  education            0.421383  31.262192   34.80151  "
      ]
     },
     "execution_count": 169,
     "metadata": {},
     "output_type": "execute_result"
    }
   ],
   "source": [
    "dvaffils.head()"
   ]
  },
  {
   "cell_type": "markdown",
   "id": "34643312-959b-48f8-88a7-c9a9aa0bac15",
   "metadata": {},
   "source": [
    "ok, can color by type, height and size given by paper_cluster_score"
   ]
  },
  {
   "cell_type": "markdown",
   "id": "daa1ba2e-3ab7-4a51-a71e-ab8e76b4e591",
   "metadata": {},
   "source": [
    "may need to add in the mapbox token. ok."
   ]
  },
  {
   "cell_type": "markdown",
   "id": "9baf64c1-9ed1-422a-9ae9-e74e91e49392",
   "metadata": {},
   "source": [
    "follow along the treatment here: https://github.com/rs21io/ttu-paths/blob/main/suescoreshypothesis.ipynb"
   ]
  },
  {
   "cell_type": "markdown",
   "id": "6d775b3c-005f-4da6-a5ff-849fa602f2b3",
   "metadata": {},
   "source": [
    "mapbox_token=\"pk.eyJ1IjoibWFwYm94cnMyMSIsImEiOiJjamdkdTU1MTIwMTM2Mnhxa3Y3ZXZ3eGt3In0.PtflK7MObAbmwY1E__H7Fg\""
   ]
  },
  {
   "cell_type": "code",
   "execution_count": 170,
   "id": "23a837f3-823b-49b8-859c-fa8f6f03741d",
   "metadata": {},
   "outputs": [],
   "source": [
    "import pydeck as pdk\n",
    "\n",
    "view = pdk.data_utils.compute_view(dvaffils[[\"longitude\", \"latitude\"]])\n",
    "\n",
    "mapbox_token=\"pk.eyJ1IjoibWFwYm94cnMyMSIsImEiOiJjamdkdTU1MTIwMTM2Mnhxa3Y3ZXZ3eGt3In0.PtflK7MObAbmwY1E__H7Fg\""
   ]
  },
  {
   "cell_type": "code",
   "execution_count": null,
   "id": "d12bc6c6-f7ea-4ab9-9e3f-21ee78bc54d8",
   "metadata": {},
   "outputs": [],
   "source": [
    "\n"
   ]
  }
 ],
 "metadata": {
  "kernelspec": {
   "display_name": "Python 3 (ipykernel)",
   "language": "python",
   "name": "python3"
  },
  "language_info": {
   "codemirror_mode": {
    "name": "ipython",
    "version": 3
   },
   "file_extension": ".py",
   "mimetype": "text/x-python",
   "name": "python",
   "nbconvert_exporter": "python",
   "pygments_lexer": "ipython3",
   "version": "3.10.12"
  }
 },
 "nbformat": 4,
 "nbformat_minor": 5
}
